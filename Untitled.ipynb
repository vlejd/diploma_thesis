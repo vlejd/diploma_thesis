{
 "cells": [
  {
   "cell_type": "code",
   "execution_count": 103,
   "metadata": {
    "collapsed": false
   },
   "outputs": [],
   "source": [
    "%matplotlib inline\n",
    "%load_ext autoreload\n",
    "%autoreload 2"
   ]
  },
  {
   "cell_type": "code",
   "execution_count": 60,
   "metadata": {
    "collapsed": true
   },
   "outputs": [],
   "source": [
    "import pandas as pd\n",
    "import numpy as np\n",
    "import gensim\n",
    "import matplotlib.pyplot as plt\n",
    "from utils import *\n",
    "import logging\n",
    "import json\n",
    "from gensim.corpora.dictionary import Dictionary\n",
    "from sklearn.model_selection import cross_val_score, cross_val_predict\n",
    "from sklearn.linear_model import *\n",
    "import scipy.sparse as sps\n",
    "from sklearn.model_selection import KFold\n",
    "from gensim.models.tfidfmodel import TfidfModel\n",
    "from itertools import chain\n"
   ]
  },
  {
   "cell_type": "code",
   "execution_count": 27,
   "metadata": {
    "collapsed": true
   },
   "outputs": [],
   "source": [
    "logging.basicConfig(level=logging.INFO)"
   ]
  },
  {
   "cell_type": "code",
   "execution_count": 28,
   "metadata": {
    "collapsed": false
   },
   "outputs": [],
   "source": [
    "fname = \"data/train.csv\"\n",
    "data = pd.read_csv(fname, header=0)\n",
    "head = data.head().copy()"
   ]
  },
  {
   "cell_type": "code",
   "execution_count": 29,
   "metadata": {
    "collapsed": false
   },
   "outputs": [
    {
     "data": {
      "text/plain": [
       "(404290, 6)"
      ]
     },
     "execution_count": 29,
     "metadata": {},
     "output_type": "execute_result"
    }
   ],
   "source": [
    "data.shape"
   ]
  },
  {
   "cell_type": "code",
   "execution_count": 30,
   "metadata": {
    "collapsed": false
   },
   "outputs": [
    {
     "data": {
      "text/html": [
       "<div>\n",
       "<style>\n",
       "    .dataframe thead tr:only-child th {\n",
       "        text-align: right;\n",
       "    }\n",
       "\n",
       "    .dataframe thead th {\n",
       "        text-align: left;\n",
       "    }\n",
       "\n",
       "    .dataframe tbody tr th {\n",
       "        vertical-align: top;\n",
       "    }\n",
       "</style>\n",
       "<table border=\"1\" class=\"dataframe\">\n",
       "  <thead>\n",
       "    <tr style=\"text-align: right;\">\n",
       "      <th></th>\n",
       "      <th>id</th>\n",
       "      <th>qid1</th>\n",
       "      <th>qid2</th>\n",
       "      <th>question1</th>\n",
       "      <th>question2</th>\n",
       "      <th>is_duplicate</th>\n",
       "    </tr>\n",
       "  </thead>\n",
       "  <tbody>\n",
       "    <tr>\n",
       "      <th>0</th>\n",
       "      <td>0</td>\n",
       "      <td>1</td>\n",
       "      <td>2</td>\n",
       "      <td>What is the step by step guide to invest in sh...</td>\n",
       "      <td>What is the step by step guide to invest in sh...</td>\n",
       "      <td>0</td>\n",
       "    </tr>\n",
       "    <tr>\n",
       "      <th>1</th>\n",
       "      <td>1</td>\n",
       "      <td>3</td>\n",
       "      <td>4</td>\n",
       "      <td>What is the story of Kohinoor (Koh-i-Noor) Dia...</td>\n",
       "      <td>What would happen if the Indian government sto...</td>\n",
       "      <td>0</td>\n",
       "    </tr>\n",
       "    <tr>\n",
       "      <th>2</th>\n",
       "      <td>2</td>\n",
       "      <td>5</td>\n",
       "      <td>6</td>\n",
       "      <td>How can I increase the speed of my internet co...</td>\n",
       "      <td>How can Internet speed be increased by hacking...</td>\n",
       "      <td>0</td>\n",
       "    </tr>\n",
       "    <tr>\n",
       "      <th>3</th>\n",
       "      <td>3</td>\n",
       "      <td>7</td>\n",
       "      <td>8</td>\n",
       "      <td>Why am I mentally very lonely? How can I solve...</td>\n",
       "      <td>Find the remainder when [math]23^{24}[/math] i...</td>\n",
       "      <td>0</td>\n",
       "    </tr>\n",
       "    <tr>\n",
       "      <th>4</th>\n",
       "      <td>4</td>\n",
       "      <td>9</td>\n",
       "      <td>10</td>\n",
       "      <td>Which one dissolve in water quikly sugar, salt...</td>\n",
       "      <td>Which fish would survive in salt water?</td>\n",
       "      <td>0</td>\n",
       "    </tr>\n",
       "  </tbody>\n",
       "</table>\n",
       "</div>"
      ],
      "text/plain": [
       "   id  qid1  qid2                                          question1  \\\n",
       "0   0     1     2  What is the step by step guide to invest in sh...   \n",
       "1   1     3     4  What is the story of Kohinoor (Koh-i-Noor) Dia...   \n",
       "2   2     5     6  How can I increase the speed of my internet co...   \n",
       "3   3     7     8  Why am I mentally very lonely? How can I solve...   \n",
       "4   4     9    10  Which one dissolve in water quikly sugar, salt...   \n",
       "\n",
       "                                           question2  is_duplicate  \n",
       "0  What is the step by step guide to invest in sh...             0  \n",
       "1  What would happen if the Indian government sto...             0  \n",
       "2  How can Internet speed be increased by hacking...             0  \n",
       "3  Find the remainder when [math]23^{24}[/math] i...             0  \n",
       "4            Which fish would survive in salt water?             0  "
      ]
     },
     "execution_count": 30,
     "metadata": {},
     "output_type": "execute_result"
    }
   ],
   "source": [
    "data.head()"
   ]
  },
  {
   "cell_type": "code",
   "execution_count": 31,
   "metadata": {
    "collapsed": false
   },
   "outputs": [
    {
     "name": "stdout",
     "output_type": "stream",
     "text": [
      "[ 'Will there really be any war between India and Pakistan over the Uri attack? What will be its effects?'\n",
      " 'Will there be a nuclear war between India and Pakistan?' 1]\n",
      "['Did Ronald Reagan have a mannerism in his speech?'\n",
      " 'How did Ronald Reagan react to 9/11?' 0]\n",
      "[ 'What were the war strategies of the Union and the Confederates during the Civil War?'\n",
      " 'How could the Confederates have possibly defeated Union forces at Gettysburg during the American Civil War?'\n",
      " 0]\n",
      "['Which is the best fiction novel of 2016?'\n",
      " 'Which are some of the best fiction novels?' 0]\n",
      "['Can I recover my email if I forgot the password?'\n",
      " 'What should I do if I forgot my email password?' 1]\n",
      "['Will the recent demonetisation results in higher GDP? If so how much?'\n",
      " 'How demonetisation could affect the GDP of India in both short run and long run?'\n",
      " 0]\n",
      "['Have you ever heard of travel hacking?' 'Can WhatsApp be hacked?' 0]\n",
      "[\"What's the difference between love and pity?\"\n",
      " 'What is the difference between love and pity?' 1]\n",
      "['How competitive is the hiring process at Republic Bank?'\n",
      " 'How competitive is the hiring process at S & T Bank?' 0]\n",
      "['How Google helps in spam ranking adjustment of the search results?'\n",
      " 'What is the distribution of traffic between Google organic search results? e.g. #1 vs. #2 in rankings, first page vs. second page'\n",
      " 0]\n",
      "['Where can I watch gonulcelen with english subtitles?'\n",
      " 'Where can I watch sarrainodu with subtitles?' 0]\n",
      "['Is USA the most powerful country of the world?'\n",
      " 'Why is the USA the most powerful country of the world?' 0]\n",
      "['How do you obtain an instant ulcer pain relief?'\n",
      " 'What is better for a low back pain: heat or ice?' 0]\n",
      "['What do you think China food?' 'How do you think of Chinese food?' 1]\n",
      "['What does taking advantage of someone mean?'\n",
      " 'Is it worse to take advantage of someone or be materialistic?' 0]\n",
      "['Why do we cry when we are happy and when we are sad?' 'Why do we cry?' 0]\n",
      "[ 'Why do some girls like to stick their their tongues out when taking pictures?'\n",
      " 'Why do teen girls (and women in general) allow their boyfriends to take naked pictures of them in this day and (digital) age?'\n",
      " 0]\n",
      "['Did you find the ending of the novel \"1984\" depressing?'\n",
      " 'How do Winston and Julia differ in the novel \"1984\"? How are they similar?'\n",
      " 0]\n",
      "[ \"What are some mind-blowing computer tools that exist that most people don't know about?\"\n",
      " \"What are some mind-blowing technologies that exist that most people don't know about?\"\n",
      " 0]\n",
      "['Should the toothbrush be wet or dry before applying the toothpaste?'\n",
      " 'What is the cheapest toothpaste?' 0]\n",
      "['Why my question was marked as needing imrovement?'\n",
      " 'How can I ask a question without getting marked as ‘need to improve’?' 1]\n",
      "['What is the difference between a neutral state and a buffer state?'\n",
      " 'If every state of the USA declared war against each other, which would win?'\n",
      " 0]\n",
      "['What mineral holds the highest electrical charge?'\n",
      " 'What mineral can hold the greatest electrical charge?' 1]\n",
      "['What is the greatest mystery in the universe?'\n",
      " 'What is the greatest mystery of all time?' 0]\n",
      "['What is the alternative to machine learning?'\n",
      " 'How do I over-sample a multi-class imbalance data set?' 0]\n",
      "[ 'Why does China block sanctions at the UN against the Jaish-e-Mohammad (JeM) chief, Masood Azhar?'\n",
      " 'Why does China support Masood Azhar?' 1]\n",
      "['What is the mean of future budget?' 'What is the meaning of the future?'\n",
      " 0]\n",
      "['Can excessive amounts of Vitamin C cause me to have a miscarriage?'\n",
      " 'How can Vitamin C cause a miscarriage?' 1]\n",
      "[ 'What is it like to work in Asahi India Glass? What will be the pay scale after one or two years?'\n",
      " 'When will we get the Call Letter after we get the Letter of Intent in Asahi India Glass recruitment?'\n",
      " 0]\n",
      "['How do I access Torbox in India?'\n",
      " 'How do I access Google.com from India?' 0]\n",
      "['What are some yakshini mantras?' 'What is a Yantra & Mantra?' 0]\n",
      "['Was six party talks successful?' 'Which course is better in NICMAR?' 0]\n",
      "['How do I register my domain site email?'\n",
      " 'How do you register a .an domain?' 0]\n",
      "['Is it normal for older men to be attracted to young women?'\n",
      " 'Why am I attracted to older men?' 0]\n",
      "['What is the strongest structure or strongest shape under compression?'\n",
      " 'What is the strongest Kevlar cord?' 0]\n",
      "['Who are the Rohingya Muslims?' 'Who are the Rohingya people?' 1]\n",
      "['Does it matter whether humans are selfish or evil?'\n",
      " 'Does it matter whether humanity is evil or not?' 1]\n",
      "['Are exocytosis and endocytosis examples of active or passive transport?'\n",
      " 'What are examples of passive transport in cells?' 0]\n",
      "['How i get hair on bald head?'\n",
      " 'If I shave my head for 2 years as am getting bald and then grew my hair, will the hair will be same as when I intially have? Or I loose more hair?'\n",
      " 0]\n",
      "['What is the ideal life after retirement?' \"What's life after retirement?\"\n",
      " 0]\n",
      "['What is our stance against Pakistan?'\n",
      " 'What is the stance of Pakistan in the possession of weapons of mass destruction by North korea? Does it support DPRK or is it against DPRK?'\n",
      " 0]\n",
      "['What are good websites for escorts?' 'How do I find a good escort?' 0]\n",
      "['Which one is better polo diesel or grand i10 petrol?'\n",
      " 'What is the best diet for a growing decathlete?' 0]\n",
      "['Does a black hole have mass?' 'Does a black hole have a finite mass?' 1]\n",
      "[ 'Is Morgan Freeman correct when he says the only way to stop racism, is to stop talking about it?'\n",
      " 'What are your views about this Morgan Freeman quote about Racism?' 1]\n",
      "['Does Fab currently offer new employees stock options or RSUs?'\n",
      " 'Does Uber currently offer new employees stock options or RSUs?' 0]\n",
      "['How would you review the site Waveclues?'\n",
      " 'Is there a good pay for reviews site out there?' 0]\n",
      "[ 'In how many ways can we distribute 10 identical looking pencils to 4 students so that each student gets at least one pencil?'\n",
      " 'In how many ways 12 apples can be distributed among 4 children such that every child gets at least 2 apples?'\n",
      " 0]\n",
      "['How much would it cost to hire Jerry Seinfeld for 1-2 hours?'\n",
      " 'How much on average would it cost to video tape a 2 hour presentation?' 0]\n",
      "[ 'Is 7 days too late for rabies vaccine after a possible non-bite exposure?'\n",
      " 'Can I take rabies injection after 1 day of dog bite?' 0]\n",
      "['How many years Britain ruled India?'\n",
      " 'What is the standard amount of time off given for an international relocation?'\n",
      " 0]\n",
      "['How can I stop being afraid of working?'\n",
      " 'How do you stop being afraid of everything?' 0]\n",
      "['Why does Red keep the keys in OITNB?'\n",
      " 'Why does Red keep the keys in season 4 of Orange is the New Black?' 1]\n",
      "['At what age should someone lose their virginity?'\n",
      " 'At what age, how, and where did you lose your virginity?' 0]\n",
      "['How forgetful are you?' 'How can I forget my wife?' 0]\n",
      "['Could Snoke secretly be Darth Maul?'\n",
      " 'How could Snoke be Darth Plagueis if he was killed by Emperor Palpatine?'\n",
      " 0]\n",
      "[ 'If I do not monetize YouTube videos & upload copyright content, then are there chances that Google may block my account?'\n",
      " 'How do you upload movies on YouTube and monetize them? Is there any issue of copyright'\n",
      " 1]\n",
      "['Would you switch from Canon 6D to Leica D-LUX 109?'\n",
      " 'What tripod should I get for my Canon 6D?' 0]\n",
      "['What does the Quora website look like to members of Quora moderation?'\n",
      " 'How does Quora look to a moderator?' 1]\n",
      "['Why nobody answer my questions in Quora?'\n",
      " 'Why is no one answering my questions in Quora?' 1]\n",
      "['What is the funniest joke you know?'\n",
      " 'What is the funniest joke of all time?' 1]\n",
      "[ 'I got job offer @ Chelmsford-Essex, London with £3764 PM pay-after tax deduction. Pls advice tentative monthly expenses for couple? & saving possible?'\n",
      " 'If I am leaving Norway, can I pay down my mortgage with my BSU account, and then sell my apartment without having to pay back the tax deduction I got for having BSU?'\n",
      " 0]\n",
      "['What are stereotypes about the United Kingdom?'\n",
      " 'What do Americans think about the United Kingdom?' 0]\n",
      "['How do I use Twitter as a business source?'\n",
      " 'How can I use Twitter for business?' 1]\n",
      "['How can I transfer money from Skrill to a PayPal account?'\n",
      " 'How can I send money from my PayPal account to my Skrill account to withdraw?'\n",
      " 0]\n",
      "['Which is the best earphone with deep bass under 1000?'\n",
      " 'Which is the Best earphones under Rs 1000?' 1]\n",
      "['Are government employees eligible to Sukanya Samrudi Yojana?'\n",
      " 'Can a Government employee apply IEC?' 0]\n",
      "[ \"Which is correct - 'Looking forward to speak with you' or 'Look forward to speak with you'?\"\n",
      " 'Which is correct: \"speak with\" or \"speak to\"?' 0]\n",
      "['Which are the best engineering fields?'\n",
      " 'What is the best field of engineering?' 1]\n",
      "[ 'How do you make life suit you and stop life from abusing you mentally and emotionally?'\n",
      " 'Why are emotionally abusive people in my life? Several ex boyfriends, friends, and past coworkers/bosses have been abusers. Do I attract them?'\n",
      " 0]\n",
      "['What is the difference between gross salary and CTC?'\n",
      " 'There seems to be a difference between my weekly paycheck and the yearly salary my employer agreed upon, how does that work?'\n",
      " 0]\n",
      "['Which are the prospering towns in Kerala?'\n",
      " 'Why are there so many Christians in Kerala?' 0]\n",
      "['What is the best way to gain confidence?'\n",
      " 'How can I speak with more clarity and confidence?' 0]\n",
      "['Does anyone see the relation between Greek gods and Hindu gods?'\n",
      " 'What parallelism can we draw between gods of Hindu mythology, Greek mythology, Egyptian mythology, etc.?'\n",
      " 1]\n",
      "['How do I switch from Apple Music to Spotify?'\n",
      " 'Should I switch from Spotify to Apple Music?' 0]\n",
      "['Which is the best fixed income fund?'\n",
      " 'What is the best fixed income fund?' 1]\n",
      "['What is it like to live in Cologne?'\n",
      " 'What is it like to live in Köln, Germany? ' 1]\n",
      "['Between Robert De Niro and Al Pacino, who is more successful?'\n",
      " 'Who do you regard as the best actor, Robert De Niro or Al Pacino?' 0]\n",
      "['Why does some people prefer small families.?'\n",
      " 'Why do some people prefer to live with small family?' 1]\n",
      "['Do animals kiss?' 'Do animals (besides humans) kiss?' 1]\n",
      "['How do you get deleted Instagram chats?'\n",
      " 'How can I view deleted Instagram dms?' 1]\n",
      "['How can I stop being addicted to love?'\n",
      " 'How do I stop being addicted to someone?' 0]\n",
      "['What if I hired two private eyes and ordered them to follow each other?'\n",
      " 'Would I be able to hire two private investigators and then get them to follow each other?'\n",
      " 1]\n",
      "['How do I find a startup accelerator?'\n",
      " 'How do startup accelerators give you the funding?' 0]\n",
      "['How can I check wifi history and access it through android phones?'\n",
      " 'I cannot open Quora through my WiFi router. Why can I only access it through a mobile network?'\n",
      " 0]\n",
      "[ 'What was the significance of the battle of Somme, and how did this battle compare and contrast to the Battle of Rostov?'\n",
      " 'What was the significance of the battle of Somme, and how did this battle compare and contrast to the Battle of Riyadh?'\n",
      " 1]\n",
      "[\"What is the most creative college admissions essay you've read?\"\n",
      " \"Has any college admission officer cried in public while reading an applicant's essay?\"\n",
      " 0]\n",
      "[ 'What would happen if you cover one of your eyes with an eye patch for one year, then take the patch off?'\n",
      " 'What happens if eye medicine enters the eye?' 0]\n",
      "['Is it possible to pursue many different things in life?'\n",
      " 'How do I refuse to chose between different things to do in my life?' 1]\n",
      "['Did Ben Affleck shine more than Christian Bale as Batman?'\n",
      " 'No fanboys please, but who was the true batman, Christian Bale or Ben Affleck?'\n",
      " 1]\n",
      "['Which business is good start up in Hyderabad?'\n",
      " 'Which business is better to start in Hyderabad?' 1]\n",
      "['How can I stop being so possessive?'\n",
      " 'How do I stop being over possessive for a person whom I love?' 1]\n",
      "['Who was the wife of Lord Krishna?' 'Who is the father of lord Krishna?' 0]\n",
      "[ 'What is the best combination of courses I can take up along with CA to enhance my career?'\n",
      " 'What courses must be taken along with CA course?' 1]\n",
      "['How do you take a screenshot on a Mac laptop?'\n",
      " 'How do I take a screenshot on my MacBook Pro? What are some instructions?'\n",
      " 1]\n",
      "['What is the work of an executive recruiter like?'\n",
      " 'What is it like to work with an executive recruiter?' 0]\n",
      "[\"Which psychological need does 'collecting' fulfill?\"\n",
      " 'Why do people collect things?' 0]\n",
      "['What are some must watch TV shows before you die?'\n",
      " 'Are there any must watch TV shows?' 1]\n",
      "['How can I become more fluent in Chinese?'\n",
      " 'How can I become fluent in chinese?' 1]\n",
      "[ 'What are the effects of demonitization of 500 and 1000 rupees notes on real estate sector?'\n",
      " 'What will be the impact of scrapping of ₹500 and ₹1000 rupee notes on the real estate market?'\n",
      " 1]\n"
     ]
    }
   ],
   "source": [
    "for x in data[100:][:100].values:\n",
    "    print(x[3:])"
   ]
  },
  {
   "cell_type": "code",
   "execution_count": 37,
   "metadata": {
    "collapsed": false
   },
   "outputs": [],
   "source": [
    "text = ' '.join(chain(*[[str(x[3]),str(x[4])] for x in data.values]))"
   ]
  },
  {
   "cell_type": "code",
   "execution_count": 110,
   "metadata": {
    "collapsed": false
   },
   "outputs": [
    {
     "data": {
      "text/plain": [
       "'9 year old'"
      ]
     },
     "execution_count": 110,
     "metadata": {},
     "output_type": "execute_result"
    }
   ],
   "source": [
    "utils.clean_string(\"9-year-old?\")"
   ]
  },
  {
   "cell_type": "code",
   "execution_count": 102,
   "metadata": {
    "collapsed": false
   },
   "outputs": [
    {
     "data": {
      "text/plain": [
       "'omg lolg 25446687'"
      ]
     },
     "execution_count": 102,
     "metadata": {},
     "output_type": "execute_result"
    }
   ],
   "source": [
    "re.sub('(?<=[0-9])[^0-9](?=[0-9])', \"\", \"omg lolg 2544d6687\")\n"
   ]
  },
  {
   "cell_type": "code",
   "execution_count": 98,
   "metadata": {
    "collapsed": true
   },
   "outputs": [],
   "source": [
    "import utils as uti"
   ]
  },
  {
   "cell_type": "code",
   "execution_count": 89,
   "metadata": {
    "collapsed": false
   },
   "outputs": [],
   "source": [
    "%reload_ext utils"
   ]
  },
  {
   "cell_type": "code",
   "execution_count": 1,
   "metadata": {
    "collapsed": false
   },
   "outputs": [
    {
     "name": "stdout",
     "output_type": "stream",
     "text": [
      "Object `count` not found.\n"
     ]
    }
   ],
   "source": [
    "count?"
   ]
  },
  {
   "cell_type": "code",
   "execution_count": null,
   "metadata": {
    "collapsed": true
   },
   "outputs": [],
   "source": []
  }
 ],
 "metadata": {
  "kernelspec": {
   "display_name": "Python 3",
   "language": "python",
   "name": "python3"
  },
  "language_info": {
   "codemirror_mode": {
    "name": "ipython",
    "version": 3
   },
   "file_extension": ".py",
   "mimetype": "text/x-python",
   "name": "python",
   "nbconvert_exporter": "python",
   "pygments_lexer": "ipython3",
   "version": "3.5.2"
  }
 },
 "nbformat": 4,
 "nbformat_minor": 2
}
