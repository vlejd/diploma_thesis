{
 "cells": [
  {
   "cell_type": "code",
   "execution_count": 1,
   "metadata": {
    "collapsed": true
   },
   "outputs": [],
   "source": [
    "%matplotlib inline\n",
    "%load_ext autoreload\n",
    "%autoreload 2"
   ]
  },
  {
   "cell_type": "code",
   "execution_count": 2,
   "metadata": {
    "collapsed": true
   },
   "outputs": [],
   "source": [
    "import pandas as pd\n",
    "import numpy as np\n",
    "import gensim\n",
    "import matplotlib.pyplot as plt\n",
    "from utils import *\n",
    "import logging\n",
    "import json\n",
    "import scipy.sparse as sps\n",
    "import scipy\n",
    "import itertools\n",
    "import nltk\n",
    "import sklearn\n",
    "import gc\n",
    "import string\n",
    "import pickle"
   ]
  },
  {
   "cell_type": "code",
   "execution_count": 3,
   "metadata": {
    "collapsed": true
   },
   "outputs": [],
   "source": [
    "logging.basicConfig(level=logging.INFO)"
   ]
  },
  {
   "cell_type": "code",
   "execution_count": 4,
   "metadata": {
    "collapsed": false,
    "scrolled": true
   },
   "outputs": [],
   "source": [
    "done = 0\n",
    "def nlp_progress(x):\n",
    "    return nlp_progress_str(' '.join(x))\n",
    "\n",
    "def nlp_progress_str(x):\n",
    "    global done\n",
    "    done += 1\n",
    "    if not done %50000:\n",
    "        print(done)\n",
    "    return nlp(str(x)).vector\n",
    "\n",
    "if False:  #vectorization\n",
    "    data = pd.read_pickle(\"cdata/train_cleaned_nostop.pickle\")\n",
    "    work = data\n",
    "    vectorized = work.copy()\n",
    "    vectorized.question1 = work.question1.apply(nlp_progress)\n",
    "    vectorized.question2 = work.question2.apply(nlp_progress)\n",
    "    vectorized.to_pickle(\"cdata/train_cleaned_nostop_vectorized.pickle\")\n",
    "    \n",
    "\n",
    "if False:  #vectorization\n",
    "    data = pd.read_pickle(\"cdata/test_cleaned_nostop.pickle\")\n",
    "    print(\"loaded\")\n",
    "    work = data\n",
    "    vectorized = work.copy()\n",
    "    vectorized.question1 = work.question1.apply(nlp_progress)\n",
    "    vectorized.question2 = work.question2.apply(nlp_progress)\n",
    "    vectorized.to_pickle(\"cdata/test_cleaned_nostop_vectorized.pickle\")"
   ]
  },
  {
   "cell_type": "code",
   "execution_count": 6,
   "metadata": {
    "collapsed": true
   },
   "outputs": [],
   "source": [
    "data = pd.read_pickle(\"cdata/test_cleaned_nostop.pickle\")"
   ]
  },
  {
   "cell_type": "code",
   "execution_count": 10,
   "metadata": {
    "collapsed": false,
    "scrolled": true
   },
   "outputs": [
    {
     "name": "stdout",
     "output_type": "stream",
     "text": [
      "10\n"
     ]
    }
   ],
   "source": [
    "parts = 10\n",
    "part_size = (data.shape[0]//parts) + 1\n",
    "for i in range(parts):\n",
    "    print(i)\n",
    "    work = data[i*part_size:][:part_size]\n",
    "    vectorized = work.copy()\n",
    "    vectorized.question1 = work.question1.apply(nlp_progress)\n",
    "    vectorized.question2 = work.question2.apply(nlp_progress)\n",
    "    vectorized.to_pickle(\"cdata/test/cleaned_nostop_vectorized_{0:d}.pickle\".format(i))\n",
    "    "
   ]
  },
  {
   "cell_type": "code",
   "execution_count": null,
   "metadata": {
    "collapsed": true
   },
   "outputs": [],
   "source": [
    "print(\"done\")"
   ]
  },
  {
   "cell_type": "code",
   "execution_count": 5,
   "metadata": {
    "collapsed": false
   },
   "outputs": [],
   "source": [
    "done = 0\n",
    "def per_word(x):\n",
    "    global done\n",
    "    done += 1\n",
    "    if not done%50000:\n",
    "        print(done)\n",
    "    return list(map(lambda x: nlp(x).vector, x))\n",
    "\n",
    "    "
   ]
  },
  {
   "cell_type": "code",
   "execution_count": 15,
   "metadata": {
    "collapsed": true
   },
   "outputs": [],
   "source": [
    "data = pd.read_pickle(\"cdata/train_cleaned_nostop.pickle\")\n"
   ]
  },
  {
   "cell_type": "code",
   "execution_count": 39,
   "metadata": {
    "collapsed": false,
    "scrolled": true
   },
   "outputs": [
    {
     "name": "stdout",
     "output_type": "stream",
     "text": [
      "0\n",
      "1900000\n",
      "1\n",
      "1950000\n",
      "2000000\n",
      "2\n",
      "2050000\n",
      "2100000\n",
      "3\n",
      "2150000\n",
      "4\n",
      "2200000\n",
      "2250000\n",
      "5\n",
      "2300000\n",
      "6\n",
      "2350000\n",
      "2400000\n",
      "7\n",
      "2450000\n",
      "2500000\n",
      "8\n",
      "2550000\n",
      "9\n",
      "2600000\n",
      "2650000\n"
     ]
    }
   ],
   "source": [
    "parts = 10\n",
    "part_size = (data.shape[0]//parts) + 1\n",
    "for i in range(parts):\n",
    "    print(i)\n",
    "    work = data[i*part_size:][:part_size]\n",
    "    vectorized = work.copy()\n",
    "    vectorized.question1 = work.question1.apply(per_word)\n",
    "    vectorized.question2 = work.question2.apply(per_word)\n",
    "    vectorized.to_pickle(\"cdata/train_cleaned_nostop_vectorized_perword_{0:d}.pickle\".format(i))\n",
    "    pickle.dump(vectorized[[\"question1\",\"question1\",\"is_duplicate\"]].values, \n",
    "                open(\"cdata/train_cleaned_nostop_vectorized_perword_{0:d}.np_pickle\".format(i), \"wb\"))\n"
   ]
  },
  {
   "cell_type": "code",
   "execution_count": 6,
   "metadata": {
    "collapsed": true
   },
   "outputs": [],
   "source": [
    "data = pd.read_pickle(\"cdata/test_cleaned_nostop.pickle\")\n"
   ]
  },
  {
   "cell_type": "code",
   "execution_count": 7,
   "metadata": {
    "collapsed": false
   },
   "outputs": [
    {
     "name": "stdout",
     "output_type": "stream",
     "text": [
      "0\n",
      "50000\n",
      "1\n",
      "100000\n",
      "150000\n",
      "2\n",
      "200000\n",
      "250000\n",
      "3\n",
      "300000\n",
      "350000\n",
      "4\n",
      "400000\n",
      "450000\n",
      "5\n",
      "500000\n",
      "550000\n",
      "6\n",
      "600000\n",
      "650000\n",
      "7\n",
      "700000\n",
      "750000\n",
      "8\n",
      "800000\n",
      "9\n",
      "850000\n",
      "900000\n",
      "10\n",
      "950000\n",
      "1000000\n",
      "11\n",
      "1050000\n",
      "1100000\n",
      "12\n",
      "1150000\n",
      "1200000\n",
      "13\n",
      "1250000\n",
      "1300000\n",
      "14\n",
      "1350000\n",
      "1400000\n",
      "15\n",
      "1450000\n",
      "1500000\n",
      "16\n",
      "1550000\n",
      "17\n",
      "1600000\n",
      "1650000\n",
      "18\n",
      "1700000\n",
      "1750000\n",
      "19\n",
      "1800000\n",
      "1850000\n",
      "20\n",
      "1900000\n",
      "1950000\n",
      "21\n",
      "2000000\n",
      "2050000\n",
      "22\n",
      "2100000\n",
      "2150000\n",
      "23\n",
      "2200000\n",
      "2250000\n",
      "24\n",
      "2300000\n",
      "25\n",
      "2350000\n",
      "2400000\n",
      "26\n",
      "2450000\n",
      "2500000\n",
      "27\n",
      "2550000\n",
      "2600000\n",
      "28\n",
      "2650000\n",
      "2700000\n",
      "29\n",
      "2750000\n",
      "2800000\n",
      "30\n",
      "2850000\n",
      "2900000\n",
      "31\n",
      "2950000\n",
      "3000000\n",
      "32\n",
      "3050000\n",
      "33\n",
      "3100000\n",
      "3150000\n",
      "34\n",
      "3200000\n",
      "3250000\n",
      "35\n",
      "3300000\n",
      "3350000\n",
      "36\n",
      "3400000\n",
      "3450000\n",
      "37\n",
      "3500000\n",
      "3550000\n",
      "38\n",
      "3600000\n",
      "3650000\n",
      "39\n",
      "3700000\n",
      "3750000\n",
      "40\n",
      "3800000\n",
      "41\n",
      "3850000\n",
      "3900000\n",
      "42\n",
      "3950000\n",
      "4000000\n",
      "43\n",
      "4050000\n",
      "4100000\n",
      "44\n",
      "4150000\n",
      "4200000\n",
      "45\n",
      "4250000\n",
      "4300000\n",
      "46\n",
      "4350000\n",
      "4400000\n",
      "47\n",
      "4450000\n",
      "4500000\n",
      "48\n",
      "4550000\n",
      "49\n",
      "4600000\n",
      "4650000\n",
      "50\n"
     ]
    }
   ],
   "source": [
    "parts = 50\n",
    "part_size = (data.shape[0]//parts)\n",
    "for i in range(parts+1):\n",
    "    print(i)\n",
    "    work = data[i*part_size:][:part_size]\n",
    "    vectorized = work.copy()\n",
    "    vectorized.question1 = work.question1.apply(per_word)\n",
    "    vectorized.question2 = work.question2.apply(per_word)\n",
    "    vectorized.to_pickle(\"cdata/per_word/test_cleaned_nostop_vectorized_perword_{0:d}.pickle\".format(i))\n",
    "    "
   ]
  },
  {
   "cell_type": "code",
   "execution_count": null,
   "metadata": {
    "collapsed": true
   },
   "outputs": [],
   "source": []
  },
  {
   "cell_type": "code",
   "execution_count": null,
   "metadata": {
    "collapsed": true
   },
   "outputs": [],
   "source": []
  },
  {
   "cell_type": "code",
   "execution_count": null,
   "metadata": {
    "collapsed": true
   },
   "outputs": [],
   "source": []
  }
 ],
 "metadata": {
  "kernelspec": {
   "display_name": "Python 3",
   "language": "python",
   "name": "python3"
  },
  "language_info": {
   "codemirror_mode": {
    "name": "ipython",
    "version": 3
   },
   "file_extension": ".py",
   "mimetype": "text/x-python",
   "name": "python",
   "nbconvert_exporter": "python",
   "pygments_lexer": "ipython3",
   "version": "3.5.2"
  }
 },
 "nbformat": 4,
 "nbformat_minor": 2
}
