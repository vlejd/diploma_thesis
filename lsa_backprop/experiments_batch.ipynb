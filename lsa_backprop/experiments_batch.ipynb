{
 "cells": [
  {
   "cell_type": "code",
   "execution_count": 48,
   "metadata": {},
   "outputs": [
    {
     "name": "stdout",
     "output_type": "stream",
     "text": [
      "The autoreload extension is already loaded. To reload it, use:\n",
      "  %reload_ext autoreload\n"
     ]
    }
   ],
   "source": [
    "%load_ext autoreload\n",
    "%autoreload 2\n",
    "%matplotlib inline\n",
    "\n",
    "import dill\n",
    "from IPython.core import display as ICD  # to print multiple nice pandas tables\n",
    "import json\n",
    "import logging\n",
    "import matplotlib.pyplot as plt\n",
    "import numpy as np\n",
    "import pandas as pd\n",
    "import pickle\n",
    "import seaborn as sns\n",
    "import tqdm\n",
    "from tqdm import tqdm_notebook, tnrange\n",
    "sns.set()\n",
    "import os"
   ]
  },
  {
   "cell_type": "code",
   "execution_count": 49,
   "metadata": {},
   "outputs": [],
   "source": [
    "import datasets\n",
    "import classify\n",
    "from simple_model import SimpleModel\n",
    "from testing import test_simple_model"
   ]
  },
  {
   "cell_type": "code",
   "execution_count": 50,
   "metadata": {},
   "outputs": [],
   "source": [
    "from multiprocessing import Pool"
   ]
  },
  {
   "cell_type": "code",
   "execution_count": 51,
   "metadata": {},
   "outputs": [],
   "source": [
    "from collections import defaultdict\n",
    "results = defaultdict(dict)\n",
    "dump = defaultdict(dict)"
   ]
  },
  {
   "cell_type": "code",
   "execution_count": 52,
   "metadata": {},
   "outputs": [],
   "source": [
    "def gradient_w(model, dataset, alpha=0.01, epochs=150):\n",
    "    train_scores = []\n",
    "    valid_scores = []\n",
    "    test_scores = []\n",
    "    model.fit(dataset.train_samples(), dataset.train_labels())\n",
    "    if epochs is None:\n",
    "        t = tnrange(100000)\n",
    "    else:\n",
    "        t = tnrange(epochs)\n",
    "    for e in t:\n",
    "        w = model.get_matrix_w()\n",
    "        w -= alpha * model.dw(dataset.train_samples(), dataset.train_labels())\n",
    "        model.save_matrix_w(w)\n",
    "        model.fit(dataset.train_samples(), dataset.train_labels())\n",
    "\n",
    "        train_score = model.score(dataset.train_samples(), dataset.train_labels())\n",
    "        valid_score = model.score(dataset.valid_samples(), dataset.valid_labels())\n",
    "        test_score = model.score(dataset.test_samples(), dataset.test_labels())\n",
    "        train_scores.append(train_score)\n",
    "        valid_scores.append(valid_score)\n",
    "        test_scores.append(test_score)\n",
    "        t.set_postfix(train_score=train_score, valid_score=valid_score, test_score=test_score)\n",
    "        \n",
    "        if epochs is None and e > 30:\n",
    "            end_mean = np.mean(valid_scores[-10:])\n",
    "            previos_mean = np.mean(valid_scores[-20:-10])\n",
    "            t.set_postfix(train_score=train_score, valid_score=valid_score, test_score=test_score, previos=previos_mean, end=end_mean)\n",
    "            if end_mean < previos_mean:\n",
    "                break\n",
    "    plt.plot(train_scores)\n",
    "    plt.plot(valid_scores)\n",
    "    plt.plot(test_scores)\n",
    "    plt.legend(['train', 'valid', 'test'])\n",
    "    plt.show()\n",
    "    return train_scores, valid_scores, test_scores"
   ]
  },
  {
   "cell_type": "code",
   "execution_count": 53,
   "metadata": {},
   "outputs": [],
   "source": [
    "def test_simple_model_with_gradient(\n",
    "    model, dataset, gradient_iters=300, dims=300, alpha=0.01, tag=None, results=None, dump=None, with_models=False, folds=1):\n",
    "    \n",
    "    for i in dataset.reshufle(None, folds):\n",
    "        model.internal_w=None\n",
    "        train_ps, valid_ps, test_ps = gradient_w(model, dataset, alpha, gradient_iters)\n",
    "        #train_p = model.score(dataset.train_samples(), dataset.train_labels())\n",
    "        #test_p = model.score(dataset.test_samples(), dataset.test_labels())\n",
    "\n",
    "        train_p = np.mean(train_ps[-10:])\n",
    "        valid_p = np.mean(valid_ps[-10:])\n",
    "        test_p = np.mean(test_ps[-10:])\n",
    "        if results is not None:\n",
    "            results[dataset.name()][('batch', tag, alpha, dims, 'train', i)] = train_p\n",
    "            results[dataset.name()][('batch', tag, alpha, dims, 'valid', i)] = valid_p\n",
    "            results[dataset.name()][('batch', tag, alpha, dims, 'test', i)] = test_p\n",
    "\n",
    "        if dump is not None:\n",
    "            dump[dataset.name()][('batch', tag, alpha, i)] = {\n",
    "                'train': list(train_ps),\n",
    "                'valid': list(valid_ps),\n",
    "                'test': list(test_ps),\n",
    "                'w': model.internal_w,\n",
    "            }\n",
    "            if with_models:\n",
    "                dump[dataset.name()][('batch', tag, alpha, i)]['model']= model\n",
    "\n",
    "\n",
    "        #raw_results[dataset.name()][('gradientw', tag, alpha)] = (train_ps, test_ps)\n",
    "        print(dataset.name())\n",
    "        print(\"Train precision\", train_p)\n",
    "        print(\"Valid precision\", valid_p)\n",
    "        print(\"Test precision\", test_p)"
   ]
  },
  {
   "cell_type": "code",
   "execution_count": 54,
   "metadata": {},
   "outputs": [],
   "source": [
    "def run_test(args):\n",
    "    start = True\n",
    "    start_on = ' '\n",
    "    dump_results = True\n",
    "\n",
    "    result_file_pattern = 'dumps_new/batch_results_{}.pickle'\n",
    "    dump_file_pattern = 'dumps_new/batch_dump_{}.pickle'\n",
    "    results = defaultdict(dict)\n",
    "    dump = defaultdict(dict)\n",
    "\n",
    "    \n",
    "    dataset, scheme, alpha, dims = args\n",
    "    tag = '{}_{}_{}_{}'.format(dataset.name(), scheme, alpha, dims)\n",
    "    results_file = result_file_pattern.format(tag)\n",
    "    dumps_file = dump_file_pattern.format(tag)\n",
    "    if os.path.isfile(results_file):\n",
    "        print('skipping', results_file)\n",
    "        return\n",
    "    if not start:\n",
    "        start = (tag == start_on)\n",
    "        return\n",
    "    print(dataset.name(), scheme, alpha, dims, tag)\n",
    "    model = SimpleModel(classify.SkClassifier(), use_svd=True, weights=scheme, svd_dim=dims)\n",
    "    test_simple_model_with_gradient(\n",
    "        model, dataset, alpha=alpha, dims=dims, tag=scheme, \n",
    "        gradient_iters=None, results=results, dump=dump, with_models=False, folds=3)\n",
    "    print(list(model.internal_w.items())[:10])\n",
    "    if dump_results:\n",
    "        pickle.dump(results, open(results_file, 'bw'))\n",
    "        pickle.dump(dump, open(dumps_file, 'bw'))\n",
    "                "
   ]
  },
  {
   "cell_type": "code",
   "execution_count": null,
   "metadata": {
    "scrolled": false
   },
   "outputs": [
    {
     "name": "stdout",
     "output_type": "stream",
     "text": [
      "skipping dumps_new/batch_results_CRDataset_None_0.1_200.pickle\n",
      "SUBJDataset None 0.1 200 SUBJDataset_None_0.1_200\n",
      "skipping dumps_new/batch_results_MRDataset_None_0.1_200.pickle\n",
      "skipping dumps_new/batch_results_MPQADataset_None_0.1_400.pickle\n",
      "TRECDataset-ENTY None 0.1 400 TRECDataset-ENTY_None_0.1_400\n",
      "skipping dumps_new/batch_results_TRECDataset-LOC_None_0.1_400.pickle\n",
      "TRECDataset-ABBR None 0.01 300 TRECDataset-ABBR_None_0.01_300\n",
      "SUBJDataset None 0.001 300 SUBJDataset_None_0.001_300\n",
      "skipping dumps_new/batch_results_TRECDataset-HUM_None_0.001_200.pickle\n",
      "skipping dumps_new/batch_results_CRDataset_None_0.001_300.pickle\n",
      "skipping dumps_new/batch_results_MRDataset_None_0.001_300.pickle\n"
     ]
    },
    {
     "data": {
      "application/vnd.jupyter.widget-view+json": {
       "model_id": "c8cc8daf9a1d406eb85dc7b6efb3504a",
       "version_major": 2,
       "version_minor": 0
      },
      "text/html": [
       "<p>Failed to display Jupyter Widget of type <code>HBox</code>.</p>\n",
       "<p>\n",
       "  If you're reading this message in the Jupyter Notebook or JupyterLab Notebook, it may mean\n",
       "  that the widgets JavaScript is still loading. If this message persists, it\n",
       "  likely means that the widgets JavaScript library is either not installed or\n",
       "  not enabled. See the <a href=\"https://ipywidgets.readthedocs.io/en/stable/user_install.html\">Jupyter\n",
       "  Widgets Documentation</a> for setup instructions.\n",
       "</p>\n",
       "<p>\n",
       "  If you're reading this message in another frontend (for example, a static\n",
       "  rendering on GitHub or <a href=\"https://nbviewer.jupyter.org/\">NBViewer</a>),\n",
       "  it may mean that your frontend doesn't currently support widgets.\n",
       "</p>\n"
      ],
      "text/plain": [
       "HBox(children=(IntProgress(value=0, max=100000), HTML(value='')))"
      ]
     },
     "metadata": {},
     "output_type": "display_data"
    },
    {
     "data": {
      "application/vnd.jupyter.widget-view+json": {
       "model_id": "875b638485724d3183bee9cc41496dc3",
       "version_major": 2,
       "version_minor": 0
      },
      "text/html": [
       "<p>Failed to display Jupyter Widget of type <code>HBox</code>.</p>\n",
       "<p>\n",
       "  If you're reading this message in the Jupyter Notebook or JupyterLab Notebook, it may mean\n",
       "  that the widgets JavaScript is still loading. If this message persists, it\n",
       "  likely means that the widgets JavaScript library is either not installed or\n",
       "  not enabled. See the <a href=\"https://ipywidgets.readthedocs.io/en/stable/user_install.html\">Jupyter\n",
       "  Widgets Documentation</a> for setup instructions.\n",
       "</p>\n",
       "<p>\n",
       "  If you're reading this message in another frontend (for example, a static\n",
       "  rendering on GitHub or <a href=\"https://nbviewer.jupyter.org/\">NBViewer</a>),\n",
       "  it may mean that your frontend doesn't currently support widgets.\n",
       "</p>\n"
      ],
      "text/plain": [
       "HBox(children=(IntProgress(value=0, max=100000), HTML(value='')))"
      ]
     },
     "metadata": {},
     "output_type": "display_data"
    },
    {
     "data": {
      "application/vnd.jupyter.widget-view+json": {
       "model_id": "32a6494f5f654ba28bf1227f750c0e93",
       "version_major": 2,
       "version_minor": 0
      },
      "text/html": [
       "<p>Failed to display Jupyter Widget of type <code>HBox</code>.</p>\n",
       "<p>\n",
       "  If you're reading this message in the Jupyter Notebook or JupyterLab Notebook, it may mean\n",
       "  that the widgets JavaScript is still loading. If this message persists, it\n",
       "  likely means that the widgets JavaScript library is either not installed or\n",
       "  not enabled. See the <a href=\"https://ipywidgets.readthedocs.io/en/stable/user_install.html\">Jupyter\n",
       "  Widgets Documentation</a> for setup instructions.\n",
       "</p>\n",
       "<p>\n",
       "  If you're reading this message in another frontend (for example, a static\n",
       "  rendering on GitHub or <a href=\"https://nbviewer.jupyter.org/\">NBViewer</a>),\n",
       "  it may mean that your frontend doesn't currently support widgets.\n",
       "</p>\n"
      ],
      "text/plain": [
       "HBox(children=(IntProgress(value=0, max=100000), HTML(value='')))"
      ]
     },
     "metadata": {},
     "output_type": "display_data"
    }
   ],
   "source": [
    "args = []\n",
    "\n",
    "for scheme in SimpleModel.SCHEMES[::2]:\n",
    "    for alpha in [0.1, 0.01, 0.001]:\n",
    "        for dims in [200, 300, 400]:\n",
    "            for dataset in datasets.ALL_DATASETS+ datasets.TREC_DATASETS:\n",
    "                args.append((dataset, scheme, alpha, dims))\n",
    "\n",
    "with Pool(4) as p:\n",
    "    print(p.map(run_test, args))\n"
   ]
  },
  {
   "cell_type": "code",
   "execution_count": 19,
   "metadata": {},
   "outputs": [
    {
     "data": {
      "text/html": [
       "<div>\n",
       "<style scoped>\n",
       "    .dataframe tbody tr th:only-of-type {\n",
       "        vertical-align: middle;\n",
       "    }\n",
       "\n",
       "    .dataframe tbody tr th {\n",
       "        vertical-align: top;\n",
       "    }\n",
       "\n",
       "    .dataframe thead th {\n",
       "        text-align: right;\n",
       "    }\n",
       "</style>\n",
       "<table border=\"1\" class=\"dataframe\">\n",
       "  <thead>\n",
       "    <tr style=\"text-align: right;\">\n",
       "      <th></th>\n",
       "    </tr>\n",
       "  </thead>\n",
       "  <tbody>\n",
       "  </tbody>\n",
       "</table>\n",
       "</div>"
      ],
      "text/plain": [
       "Empty DataFrame\n",
       "Columns: []\n",
       "Index: []"
      ]
     },
     "execution_count": 19,
     "metadata": {},
     "output_type": "execute_result"
    }
   ],
   "source": [
    "pd.DataFrame(results)"
   ]
  },
  {
   "cell_type": "code",
   "execution_count": null,
   "metadata": {},
   "outputs": [],
   "source": []
  }
 ],
 "metadata": {
  "kernelspec": {
   "display_name": "diplomka",
   "language": "python",
   "name": "diplomka"
  },
  "language_info": {
   "codemirror_mode": {
    "name": "ipython",
    "version": 3
   },
   "file_extension": ".py",
   "mimetype": "text/x-python",
   "name": "python",
   "nbconvert_exporter": "python",
   "pygments_lexer": "ipython3",
   "version": "3.5.2"
  }
 },
 "nbformat": 4,
 "nbformat_minor": 2
}
