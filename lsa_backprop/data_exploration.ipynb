{
 "cells": [
  {
   "cell_type": "code",
   "execution_count": 1,
   "metadata": {},
   "outputs": [],
   "source": [
    "%load_ext autoreload\n",
    "%autoreload 2"
   ]
  },
  {
   "cell_type": "code",
   "execution_count": 16,
   "metadata": {},
   "outputs": [],
   "source": [
    "import datasets\n",
    "from itertools import chain \n",
    "from collections import Counter\n",
    "import numpy as np"
   ]
  },
  {
   "cell_type": "code",
   "execution_count": 8,
   "metadata": {},
   "outputs": [
    {
     "data": {
      "text/plain": [
       "[1, 2, 3, 5, 6]"
      ]
     },
     "execution_count": 8,
     "metadata": {},
     "output_type": "execute_result"
    }
   ],
   "source": [
    "list(chain(*[[1,2,3],[5,6]]))"
   ]
  },
  {
   "cell_type": "code",
   "execution_count": 11,
   "metadata": {},
   "outputs": [],
   "source": [
    "c = Counter([1,2,3,1,3,1,2])"
   ]
  },
  {
   "cell_type": "code",
   "execution_count": 13,
   "metadata": {},
   "outputs": [
    {
     "data": {
      "text/plain": [
       "Counter({1: 3, 2: 2, 3: 2})"
      ]
     },
     "execution_count": 13,
     "metadata": {},
     "output_type": "execute_result"
    }
   ],
   "source": [
    "c"
   ]
  },
  {
   "cell_type": "code",
   "execution_count": 24,
   "metadata": {},
   "outputs": [],
   "source": [
    "def get_stats(examples):\n",
    "    words = list(chain(*examples))\n",
    "    c = Counter(words)\n",
    "    sc = sorted(list(c.items()))\n",
    "    return {\n",
    "        \"words\": len(words),\n",
    "        \"unique_words\": len(c),\n",
    "        #\"most_words\": sc[-10:][::-1],\n",
    "        #\"least_words\": sc[:10],\n",
    "        \"counter\": c\n",
    "    }\n",
    "\n",
    "def explore_dataset(dataset):\n",
    "    # number of tokens\n",
    "    # number of unique tokens\n",
    "    # same for positive, and negative\n",
    "    stats = get_stats(dataset.samples)\n",
    "    stats['mean'] = np.mean(dataset.labels)\n",
    "    del stats['counter']\n",
    "    return stats\n",
    "        "
   ]
  },
  {
   "cell_type": "code",
   "execution_count": 27,
   "metadata": {},
   "outputs": [],
   "source": [
    "all_stats = {}\n",
    "for dataset in datasets.ALL_DATASETS:\n",
    "    all_stats[dataset.name] = explore_dataset(dataset)"
   ]
  },
  {
   "cell_type": "code",
   "execution_count": 26,
   "metadata": {},
   "outputs": [
    {
     "data": {
      "text/plain": [
       "{'least_words': [('!', 341),\n",
       "  ('#', 8),\n",
       "  ('$', 63),\n",
       "  ('%', 22),\n",
       "  ('&', 49),\n",
       "  (\"'\", 38),\n",
       "  (\"'98\", 1),\n",
       "  (\"'braille\", 1),\n",
       "  (\"'creative\", 1),\n",
       "  (\"'d\", 31)],\n",
       " 'mean': 0.6376158940397351,\n",
       " 'most_words': [('~3', 1),\n",
       "  ('~', 2),\n",
       "  ('zx', 3),\n",
       "  ('zs', 1),\n",
       "  ('zooms', 3),\n",
       "  ('zooming', 1),\n",
       "  ('zoomed', 1),\n",
       "  ('zoom', 45),\n",
       "  ('zone', 1),\n",
       "  ('zero-star', 1)],\n",
       " 'unique_words': 5674,\n",
       " 'words': 75932}"
      ]
     },
     "execution_count": 26,
     "metadata": {},
     "output_type": "execute_result"
    }
   ],
   "source": [
    "explore_dataset(datasets.ALL_DATASETS[0])"
   ]
  },
  {
   "cell_type": "code",
   "execution_count": null,
   "metadata": {},
   "outputs": [],
   "source": []
  }
 ],
 "metadata": {
  "kernelspec": {
   "display_name": "diplomka",
   "language": "python",
   "name": "diplomka"
  },
  "language_info": {
   "codemirror_mode": {
    "name": "ipython",
    "version": 3
   },
   "file_extension": ".py",
   "mimetype": "text/x-python",
   "name": "python",
   "nbconvert_exporter": "python",
   "pygments_lexer": "ipython3",
   "version": "3.5.2"
  }
 },
 "nbformat": 4,
 "nbformat_minor": 2
}
