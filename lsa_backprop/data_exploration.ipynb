{
 "cells": [
  {
   "cell_type": "code",
   "execution_count": 1,
   "metadata": {},
   "outputs": [],
   "source": [
    "%load_ext autoreload\n",
    "%autoreload 2"
   ]
  },
  {
   "cell_type": "code",
   "execution_count": 2,
   "metadata": {},
   "outputs": [],
   "source": [
    "import datasets\n",
    "from itertools import chain \n",
    "from collections import Counter\n",
    "import numpy as np\n",
    "import pandas as pd"
   ]
  },
  {
   "cell_type": "code",
   "execution_count": 3,
   "metadata": {},
   "outputs": [],
   "source": [
    "def get_stats(examples):\n",
    "    words = list(chain(*examples))\n",
    "    c = Counter(words)\n",
    "    sc = sorted(list(c.items()))\n",
    "    return {\n",
    "        \"words\": len(words),\n",
    "        \"unique_words\": len(c),\n",
    "        #\"most_words\": sc[-10:][::-1],\n",
    "        #\"least_words\": sc[:10],\n",
    "        \"length\": len(examples),\n",
    "        \"counter\": c\n",
    "    }\n",
    "\n",
    "def explore_dataset(dataset):\n",
    "    # number of tokens\n",
    "    # number of unique tokens\n",
    "    # same for positive, and negative\n",
    "    stats = get_stats(dataset.samples)\n",
    "    mean = np.mean(dataset.labels)\n",
    "    stats['Dominant_class'] = max(mean, 1-mean)\n",
    "    del stats['counter']\n",
    "    return stats\n",
    "        "
   ]
  },
  {
   "cell_type": "code",
   "execution_count": 4,
   "metadata": {},
   "outputs": [],
   "source": [
    "all_stats = {}\n",
    "for dataset in datasets.ALL_DATASETS:\n",
    "    all_stats[dataset.name()] = explore_dataset(dataset)"
   ]
  },
  {
   "cell_type": "code",
   "execution_count": 5,
   "metadata": {},
   "outputs": [
    {
     "data": {
      "text/html": [
       "<div>\n",
       "<style scoped>\n",
       "    .dataframe tbody tr th:only-of-type {\n",
       "        vertical-align: middle;\n",
       "    }\n",
       "\n",
       "    .dataframe tbody tr th {\n",
       "        vertical-align: top;\n",
       "    }\n",
       "\n",
       "    .dataframe thead th {\n",
       "        text-align: right;\n",
       "    }\n",
       "</style>\n",
       "<table border=\"1\" class=\"dataframe\">\n",
       "  <thead>\n",
       "    <tr style=\"text-align: right;\">\n",
       "      <th></th>\n",
       "      <th>Dominant_class</th>\n",
       "      <th>length</th>\n",
       "      <th>unique_words</th>\n",
       "      <th>words</th>\n",
       "    </tr>\n",
       "  </thead>\n",
       "  <tbody>\n",
       "    <tr>\n",
       "      <th>CRDataset</th>\n",
       "      <td>0.637616</td>\n",
       "      <td>3775.0</td>\n",
       "      <td>5674.0</td>\n",
       "      <td>75932.0</td>\n",
       "    </tr>\n",
       "    <tr>\n",
       "      <th>MPQADataset</th>\n",
       "      <td>0.687724</td>\n",
       "      <td>10606.0</td>\n",
       "      <td>6238.0</td>\n",
       "      <td>32779.0</td>\n",
       "    </tr>\n",
       "    <tr>\n",
       "      <th>MRDataset</th>\n",
       "      <td>0.500000</td>\n",
       "      <td>10662.0</td>\n",
       "      <td>20325.0</td>\n",
       "      <td>230162.0</td>\n",
       "    </tr>\n",
       "    <tr>\n",
       "      <th>SUBJDataset</th>\n",
       "      <td>0.500000</td>\n",
       "      <td>10000.0</td>\n",
       "      <td>22636.0</td>\n",
       "      <td>246015.0</td>\n",
       "    </tr>\n",
       "  </tbody>\n",
       "</table>\n",
       "</div>"
      ],
      "text/plain": [
       "             Dominant_class   length  unique_words     words\n",
       "CRDataset          0.637616   3775.0        5674.0   75932.0\n",
       "MPQADataset        0.687724  10606.0        6238.0   32779.0\n",
       "MRDataset          0.500000  10662.0       20325.0  230162.0\n",
       "SUBJDataset        0.500000  10000.0       22636.0  246015.0"
      ]
     },
     "execution_count": 5,
     "metadata": {},
     "output_type": "execute_result"
    }
   ],
   "source": [
    "pd.DataFrame(all_stats).T"
   ]
  },
  {
   "cell_type": "code",
   "execution_count": null,
   "metadata": {},
   "outputs": [],
   "source": []
  }
 ],
 "metadata": {
  "kernelspec": {
   "display_name": "diplomka",
   "language": "python",
   "name": "diplomka"
  },
  "language_info": {
   "codemirror_mode": {
    "name": "ipython",
    "version": 3
   },
   "file_extension": ".py",
   "mimetype": "text/x-python",
   "name": "python",
   "nbconvert_exporter": "python",
   "pygments_lexer": "ipython3",
   "version": "3.5.2"
  }
 },
 "nbformat": 4,
 "nbformat_minor": 2
}
