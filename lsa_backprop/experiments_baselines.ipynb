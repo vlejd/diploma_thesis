{
 "cells": [
  {
   "cell_type": "code",
   "execution_count": 1,
   "metadata": {},
   "outputs": [],
   "source": [
    "%load_ext autoreload\n",
    "%autoreload 2\n",
    "%matplotlib inline\n",
    "\n",
    "import dill\n",
    "from IPython.core import display as ICD  # to print multiple nice pandas tables\n",
    "import json\n",
    "import logging\n",
    "import matplotlib.pyplot as plt\n",
    "import numpy as np\n",
    "import pandas as pd\n",
    "import pickle\n",
    "import seaborn as sns\n",
    "import tqdm\n",
    "from tqdm import tqdm_notebook, tnrange\n",
    "sns.set()"
   ]
  },
  {
   "cell_type": "code",
   "execution_count": 2,
   "metadata": {},
   "outputs": [],
   "source": [
    "import datasets\n",
    "import classify\n",
    "from simple_model import SimpleModel\n",
    "from testing import test_simple_model"
   ]
  },
  {
   "cell_type": "code",
   "execution_count": 6,
   "metadata": {},
   "outputs": [],
   "source": [
    "from collections import defaultdict\n",
    "results = defaultdict(dict)\n",
    "dump = defaultdict(dict)"
   ]
  },
  {
   "cell_type": "markdown",
   "metadata": {},
   "source": [
    "# Constant classifier"
   ]
  },
  {
   "cell_type": "code",
   "execution_count": 7,
   "metadata": {
    "scrolled": true
   },
   "outputs": [
    {
     "data": {
      "application/vnd.jupyter.widget-view+json": {
       "model_id": "745f1863596445ccba489b394cae8259",
       "version_major": 2,
       "version_minor": 0
      },
      "text/html": [
       "<p>Failed to display Jupyter Widget of type <code>HBox</code>.</p>\n",
       "<p>\n",
       "  If you're reading this message in the Jupyter Notebook or JupyterLab Notebook, it may mean\n",
       "  that the widgets JavaScript is still loading. If this message persists, it\n",
       "  likely means that the widgets JavaScript library is either not installed or\n",
       "  not enabled. See the <a href=\"https://ipywidgets.readthedocs.io/en/stable/user_install.html\">Jupyter\n",
       "  Widgets Documentation</a> for setup instructions.\n",
       "</p>\n",
       "<p>\n",
       "  If you're reading this message in another frontend (for example, a static\n",
       "  rendering on GitHub or <a href=\"https://nbviewer.jupyter.org/\">NBViewer</a>),\n",
       "  it may mean that your frontend doesn't currently support widgets.\n",
       "</p>\n"
      ],
      "text/plain": [
       "HBox(children=(IntProgress(value=0, max=1), HTML(value='')))"
      ]
     },
     "metadata": {},
     "output_type": "display_data"
    },
    {
     "name": "stdout",
     "output_type": "stream",
     "text": [
      "\n",
      "CRDataset\n",
      "Train precision 0.6377483443708609 0.6377483443708609 0.6377483443708609\n",
      "Valid precision 0.636604774535809 0.636604774535809 0.636604774535809\n",
      "Test precision 0.6375661375661376 0.6375661375661376 0.6375661375661376\n"
     ]
    },
    {
     "data": {
      "application/vnd.jupyter.widget-view+json": {
       "model_id": "103f544339e74d2292bb0ebd872da861",
       "version_major": 2,
       "version_minor": 0
      },
      "text/html": [
       "<p>Failed to display Jupyter Widget of type <code>HBox</code>.</p>\n",
       "<p>\n",
       "  If you're reading this message in the Jupyter Notebook or JupyterLab Notebook, it may mean\n",
       "  that the widgets JavaScript is still loading. If this message persists, it\n",
       "  likely means that the widgets JavaScript library is either not installed or\n",
       "  not enabled. See the <a href=\"https://ipywidgets.readthedocs.io/en/stable/user_install.html\">Jupyter\n",
       "  Widgets Documentation</a> for setup instructions.\n",
       "</p>\n",
       "<p>\n",
       "  If you're reading this message in another frontend (for example, a static\n",
       "  rendering on GitHub or <a href=\"https://nbviewer.jupyter.org/\">NBViewer</a>),\n",
       "  it may mean that your frontend doesn't currently support widgets.\n",
       "</p>\n"
      ],
      "text/plain": [
       "HBox(children=(IntProgress(value=0, max=1), HTML(value='')))"
      ]
     },
     "metadata": {},
     "output_type": "display_data"
    },
    {
     "name": "stdout",
     "output_type": "stream",
     "text": [
      "\n",
      "MRDataset\n",
      "Train precision 0.5000586235197562 0.5000586235197562 0.5000586235197562\n",
      "Valid precision 0.5 0.5 0.5\n",
      "Test precision 0.4995313964386129 0.4995313964386129 0.4995313964386129\n"
     ]
    },
    {
     "data": {
      "application/vnd.jupyter.widget-view+json": {
       "model_id": "aaed10ba7c0e4b9e88e3b711e4e56e18",
       "version_major": 2,
       "version_minor": 0
      },
      "text/html": [
       "<p>Failed to display Jupyter Widget of type <code>HBox</code>.</p>\n",
       "<p>\n",
       "  If you're reading this message in the Jupyter Notebook or JupyterLab Notebook, it may mean\n",
       "  that the widgets JavaScript is still loading. If this message persists, it\n",
       "  likely means that the widgets JavaScript library is either not installed or\n",
       "  not enabled. See the <a href=\"https://ipywidgets.readthedocs.io/en/stable/user_install.html\">Jupyter\n",
       "  Widgets Documentation</a> for setup instructions.\n",
       "</p>\n",
       "<p>\n",
       "  If you're reading this message in another frontend (for example, a static\n",
       "  rendering on GitHub or <a href=\"https://nbviewer.jupyter.org/\">NBViewer</a>),\n",
       "  it may mean that your frontend doesn't currently support widgets.\n",
       "</p>\n"
      ],
      "text/plain": [
       "HBox(children=(IntProgress(value=0, max=1), HTML(value='')))"
      ]
     },
     "metadata": {},
     "output_type": "display_data"
    },
    {
     "name": "stdout",
     "output_type": "stream",
     "text": [
      "\n",
      "SUBJDataset\n",
      "Train precision 0.5 0.5 0.5\n",
      "Valid precision 0.5 0.5 0.5\n",
      "Test precision 0.5 0.5 0.5\n"
     ]
    },
    {
     "data": {
      "application/vnd.jupyter.widget-view+json": {
       "model_id": "5574faf4af014212a0048a9445040031",
       "version_major": 2,
       "version_minor": 0
      },
      "text/html": [
       "<p>Failed to display Jupyter Widget of type <code>HBox</code>.</p>\n",
       "<p>\n",
       "  If you're reading this message in the Jupyter Notebook or JupyterLab Notebook, it may mean\n",
       "  that the widgets JavaScript is still loading. If this message persists, it\n",
       "  likely means that the widgets JavaScript library is either not installed or\n",
       "  not enabled. See the <a href=\"https://ipywidgets.readthedocs.io/en/stable/user_install.html\">Jupyter\n",
       "  Widgets Documentation</a> for setup instructions.\n",
       "</p>\n",
       "<p>\n",
       "  If you're reading this message in another frontend (for example, a static\n",
       "  rendering on GitHub or <a href=\"https://nbviewer.jupyter.org/\">NBViewer</a>),\n",
       "  it may mean that your frontend doesn't currently support widgets.\n",
       "</p>\n"
      ],
      "text/plain": [
       "HBox(children=(IntProgress(value=0, max=1), HTML(value='')))"
      ]
     },
     "metadata": {},
     "output_type": "display_data"
    },
    {
     "name": "stdout",
     "output_type": "stream",
     "text": [
      "\n",
      "MPQADataset\n",
      "Train precision 0.6877652050919378 0.6877652050919378 0.6877652050919378\n",
      "Valid precision 0.6870876531573986 0.6870876531573986 0.6870876531573986\n",
      "Test precision 0.6880301602262017 0.6880301602262017 0.6880301602262017\n"
     ]
    },
    {
     "data": {
      "application/vnd.jupyter.widget-view+json": {
       "model_id": "c9119973825d48f3a3efbd458700de54",
       "version_major": 2,
       "version_minor": 0
      },
      "text/html": [
       "<p>Failed to display Jupyter Widget of type <code>HBox</code>.</p>\n",
       "<p>\n",
       "  If you're reading this message in the Jupyter Notebook or JupyterLab Notebook, it may mean\n",
       "  that the widgets JavaScript is still loading. If this message persists, it\n",
       "  likely means that the widgets JavaScript library is either not installed or\n",
       "  not enabled. See the <a href=\"https://ipywidgets.readthedocs.io/en/stable/user_install.html\">Jupyter\n",
       "  Widgets Documentation</a> for setup instructions.\n",
       "</p>\n",
       "<p>\n",
       "  If you're reading this message in another frontend (for example, a static\n",
       "  rendering on GitHub or <a href=\"https://nbviewer.jupyter.org/\">NBViewer</a>),\n",
       "  it may mean that your frontend doesn't currently support widgets.\n",
       "</p>\n"
      ],
      "text/plain": [
       "HBox(children=(IntProgress(value=0, max=1), HTML(value='')))"
      ]
     },
     "metadata": {},
     "output_type": "display_data"
    },
    {
     "name": "stdout",
     "output_type": "stream",
     "text": [
      "\n",
      "TRECDataset-DESC\n",
      "Train precision 0.7815584961142616 0.7815584961142616 0.7815584961142616\n",
      "Valid precision 0.7815126050420168 0.7815126050420168 0.7815126050420168\n",
      "Test precision 0.7818791946308725 0.7818791946308725 0.7818791946308725\n"
     ]
    },
    {
     "data": {
      "application/vnd.jupyter.widget-view+json": {
       "model_id": "1624e9e736b2453692092826f9b8ead0",
       "version_major": 2,
       "version_minor": 0
      },
      "text/html": [
       "<p>Failed to display Jupyter Widget of type <code>HBox</code>.</p>\n",
       "<p>\n",
       "  If you're reading this message in the Jupyter Notebook or JupyterLab Notebook, it may mean\n",
       "  that the widgets JavaScript is still loading. If this message persists, it\n",
       "  likely means that the widgets JavaScript library is either not installed or\n",
       "  not enabled. See the <a href=\"https://ipywidgets.readthedocs.io/en/stable/user_install.html\">Jupyter\n",
       "  Widgets Documentation</a> for setup instructions.\n",
       "</p>\n",
       "<p>\n",
       "  If you're reading this message in another frontend (for example, a static\n",
       "  rendering on GitHub or <a href=\"https://nbviewer.jupyter.org/\">NBViewer</a>),\n",
       "  it may mean that your frontend doesn't currently support widgets.\n",
       "</p>\n"
      ],
      "text/plain": [
       "HBox(children=(IntProgress(value=0, max=1), HTML(value='')))"
      ]
     },
     "metadata": {},
     "output_type": "display_data"
    },
    {
     "name": "stdout",
     "output_type": "stream",
     "text": [
      "\n",
      "TRECDataset-ABBR\n",
      "Train precision 0.9840369670237346 0.9840369670237346 0.9840369670237346\n",
      "Valid precision 0.984873949579832 0.984873949579832 0.984873949579832\n",
      "Test precision 0.9832214765100671 0.9832214765100671 0.9832214765100671\n"
     ]
    },
    {
     "data": {
      "application/vnd.jupyter.widget-view+json": {
       "model_id": "93ac7f85c01a403e9b390d9c1bf0e7f5",
       "version_major": 2,
       "version_minor": 0
      },
      "text/html": [
       "<p>Failed to display Jupyter Widget of type <code>HBox</code>.</p>\n",
       "<p>\n",
       "  If you're reading this message in the Jupyter Notebook or JupyterLab Notebook, it may mean\n",
       "  that the widgets JavaScript is still loading. If this message persists, it\n",
       "  likely means that the widgets JavaScript library is either not installed or\n",
       "  not enabled. See the <a href=\"https://ipywidgets.readthedocs.io/en/stable/user_install.html\">Jupyter\n",
       "  Widgets Documentation</a> for setup instructions.\n",
       "</p>\n",
       "<p>\n",
       "  If you're reading this message in another frontend (for example, a static\n",
       "  rendering on GitHub or <a href=\"https://nbviewer.jupyter.org/\">NBViewer</a>),\n",
       "  it may mean that your frontend doesn't currently support widgets.\n",
       "</p>\n"
      ],
      "text/plain": [
       "HBox(children=(IntProgress(value=0, max=1), HTML(value='')))"
      ]
     },
     "metadata": {},
     "output_type": "display_data"
    },
    {
     "name": "stdout",
     "output_type": "stream",
     "text": [
      "\n",
      "TRECDataset-LOC\n",
      "Train precision 0.846040747742071 0.846040747742071 0.846040747742071\n",
      "Valid precision 0.8470588235294118 0.8470588235294118 0.8470588235294118\n",
      "Test precision 0.8456375838926175 0.8456375838926175 0.8456375838926175\n"
     ]
    },
    {
     "data": {
      "application/vnd.jupyter.widget-view+json": {
       "model_id": "ccce227132334612a97ad550edb8bcda",
       "version_major": 2,
       "version_minor": 0
      },
      "text/html": [
       "<p>Failed to display Jupyter Widget of type <code>HBox</code>.</p>\n",
       "<p>\n",
       "  If you're reading this message in the Jupyter Notebook or JupyterLab Notebook, it may mean\n",
       "  that the widgets JavaScript is still loading. If this message persists, it\n",
       "  likely means that the widgets JavaScript library is either not installed or\n",
       "  not enabled. See the <a href=\"https://ipywidgets.readthedocs.io/en/stable/user_install.html\">Jupyter\n",
       "  Widgets Documentation</a> for setup instructions.\n",
       "</p>\n",
       "<p>\n",
       "  If you're reading this message in another frontend (for example, a static\n",
       "  rendering on GitHub or <a href=\"https://nbviewer.jupyter.org/\">NBViewer</a>),\n",
       "  it may mean that your frontend doesn't currently support widgets.\n",
       "</p>\n"
      ],
      "text/plain": [
       "HBox(children=(IntProgress(value=0, max=1), HTML(value='')))"
      ]
     },
     "metadata": {},
     "output_type": "display_data"
    },
    {
     "name": "stdout",
     "output_type": "stream",
     "text": [
      "\n",
      "TRECDataset-HUM\n",
      "Train precision 0.7836588951900861 0.7836588951900861 0.7836588951900861\n",
      "Valid precision 0.7831932773109244 0.7831932773109244 0.7831932773109244\n",
      "Test precision 0.7835570469798658 0.7835570469798658 0.7835570469798658\n"
     ]
    },
    {
     "data": {
      "application/vnd.jupyter.widget-view+json": {
       "model_id": "4fecdd9a3abf47f0b33b9bb09f7fc1c5",
       "version_major": 2,
       "version_minor": 0
      },
      "text/html": [
       "<p>Failed to display Jupyter Widget of type <code>HBox</code>.</p>\n",
       "<p>\n",
       "  If you're reading this message in the Jupyter Notebook or JupyterLab Notebook, it may mean\n",
       "  that the widgets JavaScript is still loading. If this message persists, it\n",
       "  likely means that the widgets JavaScript library is either not installed or\n",
       "  not enabled. See the <a href=\"https://ipywidgets.readthedocs.io/en/stable/user_install.html\">Jupyter\n",
       "  Widgets Documentation</a> for setup instructions.\n",
       "</p>\n",
       "<p>\n",
       "  If you're reading this message in another frontend (for example, a static\n",
       "  rendering on GitHub or <a href=\"https://nbviewer.jupyter.org/\">NBViewer</a>),\n",
       "  it may mean that your frontend doesn't currently support widgets.\n",
       "</p>\n"
      ],
      "text/plain": [
       "HBox(children=(IntProgress(value=0, max=1), HTML(value='')))"
      ]
     },
     "metadata": {},
     "output_type": "display_data"
    },
    {
     "name": "stdout",
     "output_type": "stream",
     "text": [
      "\n",
      "TRECDataset-ENTY\n",
      "Train precision 0.7742070993488763 0.7742070993488763 0.7742070993488763\n",
      "Valid precision 0.7747899159663866 0.7747899159663866 0.7747899159663866\n",
      "Test precision 0.7734899328859061 0.7734899328859061 0.7734899328859061\n"
     ]
    },
    {
     "data": {
      "application/vnd.jupyter.widget-view+json": {
       "model_id": "dd55993f8a52416ebd94b5c249015682",
       "version_major": 2,
       "version_minor": 0
      },
      "text/html": [
       "<p>Failed to display Jupyter Widget of type <code>HBox</code>.</p>\n",
       "<p>\n",
       "  If you're reading this message in the Jupyter Notebook or JupyterLab Notebook, it may mean\n",
       "  that the widgets JavaScript is still loading. If this message persists, it\n",
       "  likely means that the widgets JavaScript library is either not installed or\n",
       "  not enabled. See the <a href=\"https://ipywidgets.readthedocs.io/en/stable/user_install.html\">Jupyter\n",
       "  Widgets Documentation</a> for setup instructions.\n",
       "</p>\n",
       "<p>\n",
       "  If you're reading this message in another frontend (for example, a static\n",
       "  rendering on GitHub or <a href=\"https://nbviewer.jupyter.org/\">NBViewer</a>),\n",
       "  it may mean that your frontend doesn't currently support widgets.\n",
       "</p>\n"
      ],
      "text/plain": [
       "HBox(children=(IntProgress(value=0, max=1), HTML(value='')))"
      ]
     },
     "metadata": {},
     "output_type": "display_data"
    },
    {
     "name": "stdout",
     "output_type": "stream",
     "text": [
      "\n",
      "TRECDataset-NUM\n",
      "Train precision 0.8304977945809704 0.8304977945809704 0.8304977945809704\n",
      "Valid precision 0.8302521008403361 0.8302521008403361 0.8302521008403361\n",
      "Test precision 0.8305369127516778 0.8305369127516778 0.8305369127516778\n"
     ]
    }
   ],
   "source": [
    "for dataset in datasets.ALL_DATASETS+datasets.TREC_DATASETS:\n",
    "    model = SimpleModel(classify.MostClassifier(), use_svd=False, weights=None)\n",
    "    test_simple_model(model, dataset, 1, 'constant__', results, dump)"
   ]
  },
  {
   "cell_type": "code",
   "execution_count": null,
   "metadata": {
    "scrolled": true
   },
   "outputs": [
    {
     "data": {
      "application/vnd.jupyter.widget-view+json": {
       "model_id": "14cd09d858cc4726ad0f3730312901d3",
       "version_major": 2,
       "version_minor": 0
      },
      "text/html": [
       "<p>Failed to display Jupyter Widget of type <code>HBox</code>.</p>\n",
       "<p>\n",
       "  If you're reading this message in the Jupyter Notebook or JupyterLab Notebook, it may mean\n",
       "  that the widgets JavaScript is still loading. If this message persists, it\n",
       "  likely means that the widgets JavaScript library is either not installed or\n",
       "  not enabled. See the <a href=\"https://ipywidgets.readthedocs.io/en/stable/user_install.html\">Jupyter\n",
       "  Widgets Documentation</a> for setup instructions.\n",
       "</p>\n",
       "<p>\n",
       "  If you're reading this message in another frontend (for example, a static\n",
       "  rendering on GitHub or <a href=\"https://nbviewer.jupyter.org/\">NBViewer</a>),\n",
       "  it may mean that your frontend doesn't currently support widgets.\n",
       "</p>\n"
      ],
      "text/plain": [
       "HBox(children=(IntProgress(value=0, max=10), HTML(value='')))"
      ]
     },
     "metadata": {},
     "output_type": "display_data"
    },
    {
     "name": "stdout",
     "output_type": "stream",
     "text": [
      "\n",
      "CRDataset\n",
      "Train precision 0.9721854304635762 0.9721854304635761 0.9721854304635762\n",
      "Valid precision 0.8143236074270557 0.8143236074270558 0.8143236074270557\n",
      "Test precision 0.7804232804232805 0.7804232804232804 0.7804232804232805\n"
     ]
    },
    {
     "data": {
      "application/vnd.jupyter.widget-view+json": {
       "model_id": "e344ebd830a0400fa57248129af91dcd",
       "version_major": 2,
       "version_minor": 0
      },
      "text/html": [
       "<p>Failed to display Jupyter Widget of type <code>HBox</code>.</p>\n",
       "<p>\n",
       "  If you're reading this message in the Jupyter Notebook or JupyterLab Notebook, it may mean\n",
       "  that the widgets JavaScript is still loading. If this message persists, it\n",
       "  likely means that the widgets JavaScript library is either not installed or\n",
       "  not enabled. See the <a href=\"https://ipywidgets.readthedocs.io/en/stable/user_install.html\">Jupyter\n",
       "  Widgets Documentation</a> for setup instructions.\n",
       "</p>\n",
       "<p>\n",
       "  If you're reading this message in another frontend (for example, a static\n",
       "  rendering on GitHub or <a href=\"https://nbviewer.jupyter.org/\">NBViewer</a>),\n",
       "  it may mean that your frontend doesn't currently support widgets.\n",
       "</p>\n"
      ],
      "text/plain": [
       "HBox(children=(IntProgress(value=0, max=10), HTML(value='')))"
      ]
     },
     "metadata": {},
     "output_type": "display_data"
    },
    {
     "name": "stdout",
     "output_type": "stream",
     "text": [
      "\n",
      "CRDataset\n",
      "Train precision 0.9990066225165563 0.9990066225165564 0.9990066225165563\n",
      "Valid precision 0.806366047745358 0.8063660477453581 0.806366047745358\n",
      "Test precision 0.7619047619047619 0.7619047619047619 0.7619047619047619\n"
     ]
    },
    {
     "data": {
      "application/vnd.jupyter.widget-view+json": {
       "model_id": "186a9f7b31b742598ae0f0929761fba6",
       "version_major": 2,
       "version_minor": 0
      },
      "text/html": [
       "<p>Failed to display Jupyter Widget of type <code>HBox</code>.</p>\n",
       "<p>\n",
       "  If you're reading this message in the Jupyter Notebook or JupyterLab Notebook, it may mean\n",
       "  that the widgets JavaScript is still loading. If this message persists, it\n",
       "  likely means that the widgets JavaScript library is either not installed or\n",
       "  not enabled. See the <a href=\"https://ipywidgets.readthedocs.io/en/stable/user_install.html\">Jupyter\n",
       "  Widgets Documentation</a> for setup instructions.\n",
       "</p>\n",
       "<p>\n",
       "  If you're reading this message in another frontend (for example, a static\n",
       "  rendering on GitHub or <a href=\"https://nbviewer.jupyter.org/\">NBViewer</a>),\n",
       "  it may mean that your frontend doesn't currently support widgets.\n",
       "</p>\n"
      ],
      "text/plain": [
       "HBox(children=(IntProgress(value=0, max=10), HTML(value='')))"
      ]
     },
     "metadata": {},
     "output_type": "display_data"
    },
    {
     "name": "stdout",
     "output_type": "stream",
     "text": [
      "\n",
      "CRDataset\n",
      "Train precision 0.7850993377483444 0.7850993377483444 0.7850993377483444\n",
      "Valid precision 0.7612732095490716 0.7612732095490716 0.7612732095490716\n",
      "Test precision 0.7486772486772486 0.7486772486772486 0.7486772486772486\n"
     ]
    },
    {
     "data": {
      "application/vnd.jupyter.widget-view+json": {
       "model_id": "9147bcee816d4e6cb55cbeedc8cc3b70",
       "version_major": 2,
       "version_minor": 0
      },
      "text/html": [
       "<p>Failed to display Jupyter Widget of type <code>HBox</code>.</p>\n",
       "<p>\n",
       "  If you're reading this message in the Jupyter Notebook or JupyterLab Notebook, it may mean\n",
       "  that the widgets JavaScript is still loading. If this message persists, it\n",
       "  likely means that the widgets JavaScript library is either not installed or\n",
       "  not enabled. See the <a href=\"https://ipywidgets.readthedocs.io/en/stable/user_install.html\">Jupyter\n",
       "  Widgets Documentation</a> for setup instructions.\n",
       "</p>\n",
       "<p>\n",
       "  If you're reading this message in another frontend (for example, a static\n",
       "  rendering on GitHub or <a href=\"https://nbviewer.jupyter.org/\">NBViewer</a>),\n",
       "  it may mean that your frontend doesn't currently support widgets.\n",
       "</p>\n"
      ],
      "text/plain": [
       "HBox(children=(IntProgress(value=0, max=10), HTML(value='')))"
      ]
     },
     "metadata": {},
     "output_type": "display_data"
    },
    {
     "name": "stdout",
     "output_type": "stream",
     "text": [
      "\n",
      "CRDataset\n",
      "Train precision 0.7877483443708609 0.787748344370861 0.7877483443708609\n",
      "Valid precision 0.7559681697612732 0.7559681697612731 0.7559681697612732\n",
      "Test precision 0.753968253968254 0.753968253968254 0.753968253968254\n"
     ]
    },
    {
     "data": {
      "application/vnd.jupyter.widget-view+json": {
       "model_id": "276684df9f5e448c862fd11da7df3e9b",
       "version_major": 2,
       "version_minor": 0
      },
      "text/html": [
       "<p>Failed to display Jupyter Widget of type <code>HBox</code>.</p>\n",
       "<p>\n",
       "  If you're reading this message in the Jupyter Notebook or JupyterLab Notebook, it may mean\n",
       "  that the widgets JavaScript is still loading. If this message persists, it\n",
       "  likely means that the widgets JavaScript library is either not installed or\n",
       "  not enabled. See the <a href=\"https://ipywidgets.readthedocs.io/en/stable/user_install.html\">Jupyter\n",
       "  Widgets Documentation</a> for setup instructions.\n",
       "</p>\n",
       "<p>\n",
       "  If you're reading this message in another frontend (for example, a static\n",
       "  rendering on GitHub or <a href=\"https://nbviewer.jupyter.org/\">NBViewer</a>),\n",
       "  it may mean that your frontend doesn't currently support widgets.\n",
       "</p>\n"
      ],
      "text/plain": [
       "HBox(children=(IntProgress(value=0, max=10), HTML(value='')))"
      ]
     },
     "metadata": {},
     "output_type": "display_data"
    },
    {
     "name": "stdout",
     "output_type": "stream",
     "text": [
      "\n",
      "CRDataset\n",
      "Train precision 0.7877483443708609 0.787748344370861 0.7877483443708609\n",
      "Valid precision 0.7559681697612732 0.7559681697612731 0.7559681697612732\n",
      "Test precision 0.753968253968254 0.753968253968254 0.753968253968254\n"
     ]
    },
    {
     "data": {
      "application/vnd.jupyter.widget-view+json": {
       "model_id": "d27f158d65a540e4a2784a71fccfeb96",
       "version_major": 2,
       "version_minor": 0
      },
      "text/html": [
       "<p>Failed to display Jupyter Widget of type <code>HBox</code>.</p>\n",
       "<p>\n",
       "  If you're reading this message in the Jupyter Notebook or JupyterLab Notebook, it may mean\n",
       "  that the widgets JavaScript is still loading. If this message persists, it\n",
       "  likely means that the widgets JavaScript library is either not installed or\n",
       "  not enabled. See the <a href=\"https://ipywidgets.readthedocs.io/en/stable/user_install.html\">Jupyter\n",
       "  Widgets Documentation</a> for setup instructions.\n",
       "</p>\n",
       "<p>\n",
       "  If you're reading this message in another frontend (for example, a static\n",
       "  rendering on GitHub or <a href=\"https://nbviewer.jupyter.org/\">NBViewer</a>),\n",
       "  it may mean that your frontend doesn't currently support widgets.\n",
       "</p>\n"
      ],
      "text/plain": [
       "HBox(children=(IntProgress(value=0, max=10), HTML(value='')))"
      ]
     },
     "metadata": {},
     "output_type": "display_data"
    },
    {
     "name": "stdout",
     "output_type": "stream",
     "text": [
      "\n",
      "CRDataset\n",
      "Train precision 0.8910596026490066 0.8910596026490067 0.8910596026490066\n",
      "Valid precision 0.8037135278514589 0.8037135278514589 0.8037135278514589\n",
      "Test precision 0.7724867724867726 0.7724867724867724 0.7724867724867726\n"
     ]
    },
    {
     "data": {
      "application/vnd.jupyter.widget-view+json": {
       "model_id": "1bb9ca438e0042a79e9dc995001d72d4",
       "version_major": 2,
       "version_minor": 0
      },
      "text/html": [
       "<p>Failed to display Jupyter Widget of type <code>HBox</code>.</p>\n",
       "<p>\n",
       "  If you're reading this message in the Jupyter Notebook or JupyterLab Notebook, it may mean\n",
       "  that the widgets JavaScript is still loading. If this message persists, it\n",
       "  likely means that the widgets JavaScript library is either not installed or\n",
       "  not enabled. See the <a href=\"https://ipywidgets.readthedocs.io/en/stable/user_install.html\">Jupyter\n",
       "  Widgets Documentation</a> for setup instructions.\n",
       "</p>\n",
       "<p>\n",
       "  If you're reading this message in another frontend (for example, a static\n",
       "  rendering on GitHub or <a href=\"https://nbviewer.jupyter.org/\">NBViewer</a>),\n",
       "  it may mean that your frontend doesn't currently support widgets.\n",
       "</p>\n"
      ],
      "text/plain": [
       "HBox(children=(IntProgress(value=0, max=10), HTML(value='')))"
      ]
     },
     "metadata": {},
     "output_type": "display_data"
    },
    {
     "name": "stdout",
     "output_type": "stream",
     "text": [
      "\n",
      "CRDataset\n",
      "Train precision 0.8314569536423841 0.8314569536423841 0.8314569536423841\n",
      "Valid precision 0.7771883289124668 0.7771883289124668 0.7771883289124668\n",
      "Test precision 0.7433862433862434 0.7433862433862435 0.7433862433862434\n"
     ]
    },
    {
     "data": {
      "application/vnd.jupyter.widget-view+json": {
       "model_id": "befc963d5acd4743be6cf82845b5c0b4",
       "version_major": 2,
       "version_minor": 0
      },
      "text/html": [
       "<p>Failed to display Jupyter Widget of type <code>HBox</code>.</p>\n",
       "<p>\n",
       "  If you're reading this message in the Jupyter Notebook or JupyterLab Notebook, it may mean\n",
       "  that the widgets JavaScript is still loading. If this message persists, it\n",
       "  likely means that the widgets JavaScript library is either not installed or\n",
       "  not enabled. See the <a href=\"https://ipywidgets.readthedocs.io/en/stable/user_install.html\">Jupyter\n",
       "  Widgets Documentation</a> for setup instructions.\n",
       "</p>\n",
       "<p>\n",
       "  If you're reading this message in another frontend (for example, a static\n",
       "  rendering on GitHub or <a href=\"https://nbviewer.jupyter.org/\">NBViewer</a>),\n",
       "  it may mean that your frontend doesn't currently support widgets.\n",
       "</p>\n"
      ],
      "text/plain": [
       "HBox(children=(IntProgress(value=0, max=10), HTML(value='')))"
      ]
     },
     "metadata": {},
     "output_type": "display_data"
    },
    {
     "name": "stdout",
     "output_type": "stream",
     "text": [
      "\n",
      "MRDataset\n",
      "Train precision 0.9793645210458436 0.9793645210458436 0.9793645210458436\n",
      "Valid precision 0.7532833020637899 0.7532833020637899 0.7532833020637899\n",
      "Test precision 0.7703842549203375 0.7703842549203375 0.7703842549203375\n"
     ]
    },
    {
     "data": {
      "application/vnd.jupyter.widget-view+json": {
       "model_id": "56a2f5a73755490b899003c84e0710a3",
       "version_major": 2,
       "version_minor": 0
      },
      "text/html": [
       "<p>Failed to display Jupyter Widget of type <code>HBox</code>.</p>\n",
       "<p>\n",
       "  If you're reading this message in the Jupyter Notebook or JupyterLab Notebook, it may mean\n",
       "  that the widgets JavaScript is still loading. If this message persists, it\n",
       "  likely means that the widgets JavaScript library is either not installed or\n",
       "  not enabled. See the <a href=\"https://ipywidgets.readthedocs.io/en/stable/user_install.html\">Jupyter\n",
       "  Widgets Documentation</a> for setup instructions.\n",
       "</p>\n",
       "<p>\n",
       "  If you're reading this message in another frontend (for example, a static\n",
       "  rendering on GitHub or <a href=\"https://nbviewer.jupyter.org/\">NBViewer</a>),\n",
       "  it may mean that your frontend doesn't currently support widgets.\n",
       "</p>\n"
      ],
      "text/plain": [
       "HBox(children=(IntProgress(value=0, max=10), HTML(value='')))"
      ]
     },
     "metadata": {},
     "output_type": "display_data"
    },
    {
     "name": "stdout",
     "output_type": "stream",
     "text": [
      "\n",
      "MRDataset\n",
      "Train precision 1.0 1.0 1.0\n",
      "Valid precision 0.7476547842401501 0.7476547842401501 0.7476547842401501\n",
      "Test precision 0.7582005623242737 0.7582005623242737 0.7582005623242737\n"
     ]
    },
    {
     "data": {
      "application/vnd.jupyter.widget-view+json": {
       "model_id": "6929997aa9cc4808af35952ee297edb7",
       "version_major": 2,
       "version_minor": 0
      },
      "text/html": [
       "<p>Failed to display Jupyter Widget of type <code>HBox</code>.</p>\n",
       "<p>\n",
       "  If you're reading this message in the Jupyter Notebook or JupyterLab Notebook, it may mean\n",
       "  that the widgets JavaScript is still loading. If this message persists, it\n",
       "  likely means that the widgets JavaScript library is either not installed or\n",
       "  not enabled. See the <a href=\"https://ipywidgets.readthedocs.io/en/stable/user_install.html\">Jupyter\n",
       "  Widgets Documentation</a> for setup instructions.\n",
       "</p>\n",
       "<p>\n",
       "  If you're reading this message in another frontend (for example, a static\n",
       "  rendering on GitHub or <a href=\"https://nbviewer.jupyter.org/\">NBViewer</a>),\n",
       "  it may mean that your frontend doesn't currently support widgets.\n",
       "</p>\n"
      ],
      "text/plain": [
       "HBox(children=(IntProgress(value=0, max=10), HTML(value='')))"
      ]
     },
     "metadata": {},
     "output_type": "display_data"
    },
    {
     "name": "stdout",
     "output_type": "stream",
     "text": [
      "\n",
      "MRDataset\n",
      "Train precision 0.7060616719427835 0.7060616719427835 0.7060616719427835\n",
      "Valid precision 0.6594746716697937 0.6594746716697937 0.6594746716697937\n",
      "Test precision 0.6757263355201499 0.6757263355201498 0.6757263355201499\n"
     ]
    },
    {
     "data": {
      "application/vnd.jupyter.widget-view+json": {
       "model_id": "75c61645b0b74a68a4e301d1eec8d987",
       "version_major": 2,
       "version_minor": 0
      },
      "text/html": [
       "<p>Failed to display Jupyter Widget of type <code>HBox</code>.</p>\n",
       "<p>\n",
       "  If you're reading this message in the Jupyter Notebook or JupyterLab Notebook, it may mean\n",
       "  that the widgets JavaScript is still loading. If this message persists, it\n",
       "  likely means that the widgets JavaScript library is either not installed or\n",
       "  not enabled. See the <a href=\"https://ipywidgets.readthedocs.io/en/stable/user_install.html\">Jupyter\n",
       "  Widgets Documentation</a> for setup instructions.\n",
       "</p>\n",
       "<p>\n",
       "  If you're reading this message in another frontend (for example, a static\n",
       "  rendering on GitHub or <a href=\"https://nbviewer.jupyter.org/\">NBViewer</a>),\n",
       "  it may mean that your frontend doesn't currently support widgets.\n",
       "</p>\n"
      ],
      "text/plain": [
       "HBox(children=(IntProgress(value=0, max=10), HTML(value='')))"
      ]
     },
     "metadata": {},
     "output_type": "display_data"
    },
    {
     "name": "stdout",
     "output_type": "stream",
     "text": [
      "\n",
      "MRDataset\n",
      "Train precision 0.7114550357603471 0.711455035760347 0.7114550357603471\n",
      "Valid precision 0.6604127579737336 0.6604127579737336 0.6604127579737336\n",
      "Test precision 0.6757263355201499 0.6757263355201498 0.6757263355201499\n"
     ]
    },
    {
     "data": {
      "application/vnd.jupyter.widget-view+json": {
       "model_id": "a3979daf0e864253b234d1f24b400298",
       "version_major": 2,
       "version_minor": 0
      },
      "text/html": [
       "<p>Failed to display Jupyter Widget of type <code>HBox</code>.</p>\n",
       "<p>\n",
       "  If you're reading this message in the Jupyter Notebook or JupyterLab Notebook, it may mean\n",
       "  that the widgets JavaScript is still loading. If this message persists, it\n",
       "  likely means that the widgets JavaScript library is either not installed or\n",
       "  not enabled. See the <a href=\"https://ipywidgets.readthedocs.io/en/stable/user_install.html\">Jupyter\n",
       "  Widgets Documentation</a> for setup instructions.\n",
       "</p>\n",
       "<p>\n",
       "  If you're reading this message in another frontend (for example, a static\n",
       "  rendering on GitHub or <a href=\"https://nbviewer.jupyter.org/\">NBViewer</a>),\n",
       "  it may mean that your frontend doesn't currently support widgets.\n",
       "</p>\n"
      ],
      "text/plain": [
       "HBox(children=(IntProgress(value=0, max=10), HTML(value='')))"
      ]
     },
     "metadata": {},
     "output_type": "display_data"
    },
    {
     "name": "stdout",
     "output_type": "stream",
     "text": [
      "\n",
      "MRDataset\n",
      "Train precision 0.7114550357603471 0.711455035760347 0.7114550357603471\n",
      "Valid precision 0.6604127579737336 0.6604127579737336 0.6604127579737336\n",
      "Test precision 0.6757263355201499 0.6757263355201498 0.6757263355201499\n"
     ]
    },
    {
     "data": {
      "application/vnd.jupyter.widget-view+json": {
       "model_id": "95d6e38e5a334cad91c9da3102bbbec3",
       "version_major": 2,
       "version_minor": 0
      },
      "text/html": [
       "<p>Failed to display Jupyter Widget of type <code>HBox</code>.</p>\n",
       "<p>\n",
       "  If you're reading this message in the Jupyter Notebook or JupyterLab Notebook, it may mean\n",
       "  that the widgets JavaScript is still loading. If this message persists, it\n",
       "  likely means that the widgets JavaScript library is either not installed or\n",
       "  not enabled. See the <a href=\"https://ipywidgets.readthedocs.io/en/stable/user_install.html\">Jupyter\n",
       "  Widgets Documentation</a> for setup instructions.\n",
       "</p>\n",
       "<p>\n",
       "  If you're reading this message in another frontend (for example, a static\n",
       "  rendering on GitHub or <a href=\"https://nbviewer.jupyter.org/\">NBViewer</a>),\n",
       "  it may mean that your frontend doesn't currently support widgets.\n",
       "</p>\n"
      ],
      "text/plain": [
       "HBox(children=(IntProgress(value=0, max=10), HTML(value='')))"
      ]
     },
     "metadata": {},
     "output_type": "display_data"
    },
    {
     "name": "stdout",
     "output_type": "stream",
     "text": [
      "\n",
      "MRDataset\n",
      "Train precision 0.907492085824833 0.907492085824833 0.907492085824833\n",
      "Valid precision 0.7673545966228893 0.7673545966228892 0.7673545966228893\n",
      "Test precision 0.7731958762886598 0.7731958762886598 0.7731958762886598\n"
     ]
    },
    {
     "data": {
      "application/vnd.jupyter.widget-view+json": {
       "model_id": "d53472dc5baa4de6aa071d0bcf249547",
       "version_major": 2,
       "version_minor": 0
      },
      "text/html": [
       "<p>Failed to display Jupyter Widget of type <code>HBox</code>.</p>\n",
       "<p>\n",
       "  If you're reading this message in the Jupyter Notebook or JupyterLab Notebook, it may mean\n",
       "  that the widgets JavaScript is still loading. If this message persists, it\n",
       "  likely means that the widgets JavaScript library is either not installed or\n",
       "  not enabled. See the <a href=\"https://ipywidgets.readthedocs.io/en/stable/user_install.html\">Jupyter\n",
       "  Widgets Documentation</a> for setup instructions.\n",
       "</p>\n",
       "<p>\n",
       "  If you're reading this message in another frontend (for example, a static\n",
       "  rendering on GitHub or <a href=\"https://nbviewer.jupyter.org/\">NBViewer</a>),\n",
       "  it may mean that your frontend doesn't currently support widgets.\n",
       "</p>\n"
      ],
      "text/plain": [
       "HBox(children=(IntProgress(value=0, max=10), HTML(value='')))"
      ]
     },
     "metadata": {},
     "output_type": "display_data"
    },
    {
     "name": "stdout",
     "output_type": "stream",
     "text": [
      "\n",
      "MRDataset\n",
      "Train precision 0.8216672529018643 0.8216672529018643 0.8216672529018643\n",
      "Valid precision 0.7035647279549719 0.7035647279549719 0.7035647279549719\n",
      "Test precision 0.739456419868791 0.739456419868791 0.739456419868791\n"
     ]
    },
    {
     "data": {
      "application/vnd.jupyter.widget-view+json": {
       "model_id": "53c2ae114e8843b4a35579e50d24ad63",
       "version_major": 2,
       "version_minor": 0
      },
      "text/html": [
       "<p>Failed to display Jupyter Widget of type <code>HBox</code>.</p>\n",
       "<p>\n",
       "  If you're reading this message in the Jupyter Notebook or JupyterLab Notebook, it may mean\n",
       "  that the widgets JavaScript is still loading. If this message persists, it\n",
       "  likely means that the widgets JavaScript library is either not installed or\n",
       "  not enabled. See the <a href=\"https://ipywidgets.readthedocs.io/en/stable/user_install.html\">Jupyter\n",
       "  Widgets Documentation</a> for setup instructions.\n",
       "</p>\n",
       "<p>\n",
       "  If you're reading this message in another frontend (for example, a static\n",
       "  rendering on GitHub or <a href=\"https://nbviewer.jupyter.org/\">NBViewer</a>),\n",
       "  it may mean that your frontend doesn't currently support widgets.\n",
       "</p>\n"
      ],
      "text/plain": [
       "HBox(children=(IntProgress(value=0, max=10), HTML(value='')))"
      ]
     },
     "metadata": {},
     "output_type": "display_data"
    },
    {
     "name": "stdout",
     "output_type": "stream",
     "text": [
      "\n",
      "SUBJDataset\n",
      "Train precision 0.994125 0.994125 0.994125\n",
      "Valid precision 0.898 0.898 0.898\n",
      "Test precision 0.919 0.9190000000000002 0.919\n"
     ]
    },
    {
     "data": {
      "application/vnd.jupyter.widget-view+json": {
       "model_id": "e972387b10ce4adfaacf662cddc15c89",
       "version_major": 2,
       "version_minor": 0
      },
      "text/html": [
       "<p>Failed to display Jupyter Widget of type <code>HBox</code>.</p>\n",
       "<p>\n",
       "  If you're reading this message in the Jupyter Notebook or JupyterLab Notebook, it may mean\n",
       "  that the widgets JavaScript is still loading. If this message persists, it\n",
       "  likely means that the widgets JavaScript library is either not installed or\n",
       "  not enabled. See the <a href=\"https://ipywidgets.readthedocs.io/en/stable/user_install.html\">Jupyter\n",
       "  Widgets Documentation</a> for setup instructions.\n",
       "</p>\n",
       "<p>\n",
       "  If you're reading this message in another frontend (for example, a static\n",
       "  rendering on GitHub or <a href=\"https://nbviewer.jupyter.org/\">NBViewer</a>),\n",
       "  it may mean that your frontend doesn't currently support widgets.\n",
       "</p>\n"
      ],
      "text/plain": [
       "HBox(children=(IntProgress(value=0, max=10), HTML(value='')))"
      ]
     },
     "metadata": {},
     "output_type": "display_data"
    },
    {
     "name": "stdout",
     "output_type": "stream",
     "text": [
      "\n",
      "SUBJDataset\n",
      "Train precision 1.0 1.0 1.0\n",
      "Valid precision 0.896 0.8960000000000001 0.896\n",
      "Test precision 0.916 0.916 0.916\n"
     ]
    },
    {
     "data": {
      "application/vnd.jupyter.widget-view+json": {
       "model_id": "b9c906f26efd4b049e36d388b20f9979",
       "version_major": 2,
       "version_minor": 0
      },
      "text/html": [
       "<p>Failed to display Jupyter Widget of type <code>HBox</code>.</p>\n",
       "<p>\n",
       "  If you're reading this message in the Jupyter Notebook or JupyterLab Notebook, it may mean\n",
       "  that the widgets JavaScript is still loading. If this message persists, it\n",
       "  likely means that the widgets JavaScript library is either not installed or\n",
       "  not enabled. See the <a href=\"https://ipywidgets.readthedocs.io/en/stable/user_install.html\">Jupyter\n",
       "  Widgets Documentation</a> for setup instructions.\n",
       "</p>\n",
       "<p>\n",
       "  If you're reading this message in another frontend (for example, a static\n",
       "  rendering on GitHub or <a href=\"https://nbviewer.jupyter.org/\">NBViewer</a>),\n",
       "  it may mean that your frontend doesn't currently support widgets.\n",
       "</p>\n"
      ],
      "text/plain": [
       "HBox(children=(IntProgress(value=0, max=10), HTML(value='')))"
      ]
     },
     "metadata": {},
     "output_type": "display_data"
    },
    {
     "name": "stdout",
     "output_type": "stream",
     "text": [
      "\n",
      "SUBJDataset\n",
      "Train precision 0.842875 0.842875 0.842875\n",
      "Valid precision 0.834 0.834 0.834\n",
      "Test precision 0.849 0.849 0.849\n"
     ]
    },
    {
     "data": {
      "application/vnd.jupyter.widget-view+json": {
       "model_id": "a2d7130d788f46098332595c71832ee6",
       "version_major": 2,
       "version_minor": 0
      },
      "text/html": [
       "<p>Failed to display Jupyter Widget of type <code>HBox</code>.</p>\n",
       "<p>\n",
       "  If you're reading this message in the Jupyter Notebook or JupyterLab Notebook, it may mean\n",
       "  that the widgets JavaScript is still loading. If this message persists, it\n",
       "  likely means that the widgets JavaScript library is either not installed or\n",
       "  not enabled. See the <a href=\"https://ipywidgets.readthedocs.io/en/stable/user_install.html\">Jupyter\n",
       "  Widgets Documentation</a> for setup instructions.\n",
       "</p>\n",
       "<p>\n",
       "  If you're reading this message in another frontend (for example, a static\n",
       "  rendering on GitHub or <a href=\"https://nbviewer.jupyter.org/\">NBViewer</a>),\n",
       "  it may mean that your frontend doesn't currently support widgets.\n",
       "</p>\n"
      ],
      "text/plain": [
       "HBox(children=(IntProgress(value=0, max=10), HTML(value='')))"
      ]
     },
     "metadata": {},
     "output_type": "display_data"
    },
    {
     "name": "stdout",
     "output_type": "stream",
     "text": [
      "\n",
      "SUBJDataset\n",
      "Train precision 0.8455 0.8455 0.8455\n",
      "Valid precision 0.842 0.842 0.842\n",
      "Test precision 0.849 0.849 0.849\n"
     ]
    },
    {
     "data": {
      "application/vnd.jupyter.widget-view+json": {
       "model_id": "0404246442be402f9c017b5e203c6244",
       "version_major": 2,
       "version_minor": 0
      },
      "text/html": [
       "<p>Failed to display Jupyter Widget of type <code>HBox</code>.</p>\n",
       "<p>\n",
       "  If you're reading this message in the Jupyter Notebook or JupyterLab Notebook, it may mean\n",
       "  that the widgets JavaScript is still loading. If this message persists, it\n",
       "  likely means that the widgets JavaScript library is either not installed or\n",
       "  not enabled. See the <a href=\"https://ipywidgets.readthedocs.io/en/stable/user_install.html\">Jupyter\n",
       "  Widgets Documentation</a> for setup instructions.\n",
       "</p>\n",
       "<p>\n",
       "  If you're reading this message in another frontend (for example, a static\n",
       "  rendering on GitHub or <a href=\"https://nbviewer.jupyter.org/\">NBViewer</a>),\n",
       "  it may mean that your frontend doesn't currently support widgets.\n",
       "</p>\n"
      ],
      "text/plain": [
       "HBox(children=(IntProgress(value=0, max=10), HTML(value='')))"
      ]
     },
     "metadata": {},
     "output_type": "display_data"
    },
    {
     "name": "stdout",
     "output_type": "stream",
     "text": [
      "\n",
      "SUBJDataset\n",
      "Train precision 0.8455 0.8455 0.8455\n",
      "Valid precision 0.842 0.842 0.842\n",
      "Test precision 0.849 0.849 0.849\n"
     ]
    },
    {
     "data": {
      "application/vnd.jupyter.widget-view+json": {
       "model_id": "efa82267008e463fb222334fda2f1676",
       "version_major": 2,
       "version_minor": 0
      },
      "text/html": [
       "<p>Failed to display Jupyter Widget of type <code>HBox</code>.</p>\n",
       "<p>\n",
       "  If you're reading this message in the Jupyter Notebook or JupyterLab Notebook, it may mean\n",
       "  that the widgets JavaScript is still loading. If this message persists, it\n",
       "  likely means that the widgets JavaScript library is either not installed or\n",
       "  not enabled. See the <a href=\"https://ipywidgets.readthedocs.io/en/stable/user_install.html\">Jupyter\n",
       "  Widgets Documentation</a> for setup instructions.\n",
       "</p>\n",
       "<p>\n",
       "  If you're reading this message in another frontend (for example, a static\n",
       "  rendering on GitHub or <a href=\"https://nbviewer.jupyter.org/\">NBViewer</a>),\n",
       "  it may mean that your frontend doesn't currently support widgets.\n",
       "</p>\n"
      ],
      "text/plain": [
       "HBox(children=(IntProgress(value=0, max=10), HTML(value='')))"
      ]
     },
     "metadata": {},
     "output_type": "display_data"
    },
    {
     "name": "stdout",
     "output_type": "stream",
     "text": [
      "\n",
      "SUBJDataset\n",
      "Train precision 0.936125 0.936125 0.936125\n",
      "Valid precision 0.9 0.9 0.9\n",
      "Test precision 0.904 0.9040000000000001 0.904\n"
     ]
    },
    {
     "data": {
      "application/vnd.jupyter.widget-view+json": {
       "model_id": "825f61c0b272468cbfd10d0d55939de8",
       "version_major": 2,
       "version_minor": 0
      },
      "text/html": [
       "<p>Failed to display Jupyter Widget of type <code>HBox</code>.</p>\n",
       "<p>\n",
       "  If you're reading this message in the Jupyter Notebook or JupyterLab Notebook, it may mean\n",
       "  that the widgets JavaScript is still loading. If this message persists, it\n",
       "  likely means that the widgets JavaScript library is either not installed or\n",
       "  not enabled. See the <a href=\"https://ipywidgets.readthedocs.io/en/stable/user_install.html\">Jupyter\n",
       "  Widgets Documentation</a> for setup instructions.\n",
       "</p>\n",
       "<p>\n",
       "  If you're reading this message in another frontend (for example, a static\n",
       "  rendering on GitHub or <a href=\"https://nbviewer.jupyter.org/\">NBViewer</a>),\n",
       "  it may mean that your frontend doesn't currently support widgets.\n",
       "</p>\n"
      ],
      "text/plain": [
       "HBox(children=(IntProgress(value=0, max=10), HTML(value='')))"
      ]
     },
     "metadata": {},
     "output_type": "display_data"
    },
    {
     "name": "stdout",
     "output_type": "stream",
     "text": [
      "\n",
      "SUBJDataset\n",
      "Train precision 0.9175 0.9175000000000001 0.9175\n",
      "Valid precision 0.862 0.8619999999999999 0.862\n",
      "Test precision 0.886 0.8859999999999999 0.886\n"
     ]
    },
    {
     "data": {
      "application/vnd.jupyter.widget-view+json": {
       "model_id": "b6ba03064c794e88bbb99324df2ca0eb",
       "version_major": 2,
       "version_minor": 0
      },
      "text/html": [
       "<p>Failed to display Jupyter Widget of type <code>HBox</code>.</p>\n",
       "<p>\n",
       "  If you're reading this message in the Jupyter Notebook or JupyterLab Notebook, it may mean\n",
       "  that the widgets JavaScript is still loading. If this message persists, it\n",
       "  likely means that the widgets JavaScript library is either not installed or\n",
       "  not enabled. See the <a href=\"https://ipywidgets.readthedocs.io/en/stable/user_install.html\">Jupyter\n",
       "  Widgets Documentation</a> for setup instructions.\n",
       "</p>\n",
       "<p>\n",
       "  If you're reading this message in another frontend (for example, a static\n",
       "  rendering on GitHub or <a href=\"https://nbviewer.jupyter.org/\">NBViewer</a>),\n",
       "  it may mean that your frontend doesn't currently support widgets.\n",
       "</p>\n"
      ],
      "text/plain": [
       "HBox(children=(IntProgress(value=0, max=10), HTML(value='')))"
      ]
     },
     "metadata": {},
     "output_type": "display_data"
    },
    {
     "name": "stdout",
     "output_type": "stream",
     "text": [
      "\n",
      "MPQADataset\n",
      "Train precision 0.9104196133899104 0.9104196133899103 0.9104196133899104\n",
      "Valid precision 0.8294062205466541 0.8294062205466541 0.8294062205466541\n",
      "Test precision 0.8463713477851084 0.8463713477851084 0.8463713477851084\n"
     ]
    },
    {
     "data": {
      "application/vnd.jupyter.widget-view+json": {
       "model_id": "c72891def8d04710b0767e722e0875e6",
       "version_major": 2,
       "version_minor": 0
      },
      "text/html": [
       "<p>Failed to display Jupyter Widget of type <code>HBox</code>.</p>\n",
       "<p>\n",
       "  If you're reading this message in the Jupyter Notebook or JupyterLab Notebook, it may mean\n",
       "  that the widgets JavaScript is still loading. If this message persists, it\n",
       "  likely means that the widgets JavaScript library is either not installed or\n",
       "  not enabled. See the <a href=\"https://ipywidgets.readthedocs.io/en/stable/user_install.html\">Jupyter\n",
       "  Widgets Documentation</a> for setup instructions.\n",
       "</p>\n",
       "<p>\n",
       "  If you're reading this message in another frontend (for example, a static\n",
       "  rendering on GitHub or <a href=\"https://nbviewer.jupyter.org/\">NBViewer</a>),\n",
       "  it may mean that your frontend doesn't currently support widgets.\n",
       "</p>\n"
      ],
      "text/plain": [
       "HBox(children=(IntProgress(value=0, max=10), HTML(value='')))"
      ]
     },
     "metadata": {},
     "output_type": "display_data"
    },
    {
     "name": "stdout",
     "output_type": "stream",
     "text": [
      "\n",
      "MPQADataset\n",
      "Train precision 0.9791371994342292 0.9791371994342292 0.9791371994342292\n",
      "Valid precision 0.8388312912346843 0.8388312912346843 0.8388312912346843\n",
      "Test precision 0.8473138548539114 0.8473138548539115 0.8473138548539114\n"
     ]
    },
    {
     "data": {
      "application/vnd.jupyter.widget-view+json": {
       "model_id": "d19ef4c68dab46bab9d122d85cb9fd5a",
       "version_major": 2,
       "version_minor": 0
      },
      "text/html": [
       "<p>Failed to display Jupyter Widget of type <code>HBox</code>.</p>\n",
       "<p>\n",
       "  If you're reading this message in the Jupyter Notebook or JupyterLab Notebook, it may mean\n",
       "  that the widgets JavaScript is still loading. If this message persists, it\n",
       "  likely means that the widgets JavaScript library is either not installed or\n",
       "  not enabled. See the <a href=\"https://ipywidgets.readthedocs.io/en/stable/user_install.html\">Jupyter\n",
       "  Widgets Documentation</a> for setup instructions.\n",
       "</p>\n",
       "<p>\n",
       "  If you're reading this message in another frontend (for example, a static\n",
       "  rendering on GitHub or <a href=\"https://nbviewer.jupyter.org/\">NBViewer</a>),\n",
       "  it may mean that your frontend doesn't currently support widgets.\n",
       "</p>\n"
      ],
      "text/plain": [
       "HBox(children=(IntProgress(value=0, max=10), HTML(value='')))"
      ]
     },
     "metadata": {},
     "output_type": "display_data"
    },
    {
     "name": "stdout",
     "output_type": "stream",
     "text": [
      "\n",
      "MPQADataset\n",
      "Train precision 0.8539603960396039 0.8539603960396039 0.8539603960396039\n",
      "Valid precision 0.8020735155513666 0.8020735155513666 0.8020735155513666\n",
      "Test precision 0.8124410933081998 0.8124410933081998 0.8124410933081998\n"
     ]
    },
    {
     "data": {
      "application/vnd.jupyter.widget-view+json": {
       "model_id": "69d6abadea9341e694f8428bd0795b41",
       "version_major": 2,
       "version_minor": 0
      },
      "text/html": [
       "<p>Failed to display Jupyter Widget of type <code>HBox</code>.</p>\n",
       "<p>\n",
       "  If you're reading this message in the Jupyter Notebook or JupyterLab Notebook, it may mean\n",
       "  that the widgets JavaScript is still loading. If this message persists, it\n",
       "  likely means that the widgets JavaScript library is either not installed or\n",
       "  not enabled. See the <a href=\"https://ipywidgets.readthedocs.io/en/stable/user_install.html\">Jupyter\n",
       "  Widgets Documentation</a> for setup instructions.\n",
       "</p>\n",
       "<p>\n",
       "  If you're reading this message in another frontend (for example, a static\n",
       "  rendering on GitHub or <a href=\"https://nbviewer.jupyter.org/\">NBViewer</a>),\n",
       "  it may mean that your frontend doesn't currently support widgets.\n",
       "</p>\n"
      ],
      "text/plain": [
       "HBox(children=(IntProgress(value=0, max=10), HTML(value='')))"
      ]
     },
     "metadata": {},
     "output_type": "display_data"
    },
    {
     "name": "stdout",
     "output_type": "stream",
     "text": [
      "\n",
      "MPQADataset\n",
      "Train precision 0.8546676096181047 0.8546676096181047 0.8546676096181047\n",
      "Valid precision 0.8049010367577757 0.8049010367577758 0.8049010367577757\n",
      "Test precision 0.8133836003770029 0.8133836003770029 0.8133836003770029\n"
     ]
    },
    {
     "data": {
      "application/vnd.jupyter.widget-view+json": {
       "model_id": "15874b7e454243979aa5da5014245d6c",
       "version_major": 2,
       "version_minor": 0
      },
      "text/html": [
       "<p>Failed to display Jupyter Widget of type <code>HBox</code>.</p>\n",
       "<p>\n",
       "  If you're reading this message in the Jupyter Notebook or JupyterLab Notebook, it may mean\n",
       "  that the widgets JavaScript is still loading. If this message persists, it\n",
       "  likely means that the widgets JavaScript library is either not installed or\n",
       "  not enabled. See the <a href=\"https://ipywidgets.readthedocs.io/en/stable/user_install.html\">Jupyter\n",
       "  Widgets Documentation</a> for setup instructions.\n",
       "</p>\n",
       "<p>\n",
       "  If you're reading this message in another frontend (for example, a static\n",
       "  rendering on GitHub or <a href=\"https://nbviewer.jupyter.org/\">NBViewer</a>),\n",
       "  it may mean that your frontend doesn't currently support widgets.\n",
       "</p>\n"
      ],
      "text/plain": [
       "HBox(children=(IntProgress(value=0, max=10), HTML(value='')))"
      ]
     },
     "metadata": {},
     "output_type": "display_data"
    },
    {
     "name": "stdout",
     "output_type": "stream",
     "text": [
      "\n",
      "MPQADataset\n",
      "Train precision 0.8546676096181047 0.8546676096181047 0.8546676096181047\n",
      "Valid precision 0.8049010367577757 0.8049010367577758 0.8049010367577757\n",
      "Test precision 0.8133836003770029 0.8133836003770029 0.8133836003770029\n"
     ]
    },
    {
     "data": {
      "application/vnd.jupyter.widget-view+json": {
       "model_id": "b169010b346c4af98004a945c111ae2c",
       "version_major": 2,
       "version_minor": 0
      },
      "text/html": [
       "<p>Failed to display Jupyter Widget of type <code>HBox</code>.</p>\n",
       "<p>\n",
       "  If you're reading this message in the Jupyter Notebook or JupyterLab Notebook, it may mean\n",
       "  that the widgets JavaScript is still loading. If this message persists, it\n",
       "  likely means that the widgets JavaScript library is either not installed or\n",
       "  not enabled. See the <a href=\"https://ipywidgets.readthedocs.io/en/stable/user_install.html\">Jupyter\n",
       "  Widgets Documentation</a> for setup instructions.\n",
       "</p>\n",
       "<p>\n",
       "  If you're reading this message in another frontend (for example, a static\n",
       "  rendering on GitHub or <a href=\"https://nbviewer.jupyter.org/\">NBViewer</a>),\n",
       "  it may mean that your frontend doesn't currently support widgets.\n",
       "</p>\n"
      ],
      "text/plain": [
       "HBox(children=(IntProgress(value=0, max=10), HTML(value='')))"
      ]
     },
     "metadata": {},
     "output_type": "display_data"
    },
    {
     "name": "stdout",
     "output_type": "stream",
     "text": [
      "\n",
      "MPQADataset\n",
      "Train precision 0.8854314002828855 0.8854314002828854 0.8854314002828855\n",
      "Valid precision 0.8190386427898209 0.8190386427898207 0.8190386427898209\n",
      "Test precision 0.8388312912346843 0.8388312912346843 0.8388312912346843\n"
     ]
    },
    {
     "data": {
      "application/vnd.jupyter.widget-view+json": {
       "model_id": "a9bb49a165ee4e7583d0868dec5c9e05",
       "version_major": 2,
       "version_minor": 0
      },
      "text/html": [
       "<p>Failed to display Jupyter Widget of type <code>HBox</code>.</p>\n",
       "<p>\n",
       "  If you're reading this message in the Jupyter Notebook or JupyterLab Notebook, it may mean\n",
       "  that the widgets JavaScript is still loading. If this message persists, it\n",
       "  likely means that the widgets JavaScript library is either not installed or\n",
       "  not enabled. See the <a href=\"https://ipywidgets.readthedocs.io/en/stable/user_install.html\">Jupyter\n",
       "  Widgets Documentation</a> for setup instructions.\n",
       "</p>\n",
       "<p>\n",
       "  If you're reading this message in another frontend (for example, a static\n",
       "  rendering on GitHub or <a href=\"https://nbviewer.jupyter.org/\">NBViewer</a>),\n",
       "  it may mean that your frontend doesn't currently support widgets.\n",
       "</p>\n"
      ],
      "text/plain": [
       "HBox(children=(IntProgress(value=0, max=10), HTML(value='')))"
      ]
     },
     "metadata": {},
     "output_type": "display_data"
    },
    {
     "name": "stdout",
     "output_type": "stream",
     "text": [
      "\n",
      "MPQADataset\n",
      "Train precision 0.8668081093823667 0.8668081093823667 0.8668081093823667\n",
      "Valid precision 0.8067860508953817 0.8067860508953817 0.8067860508953817\n",
      "Test precision 0.8350612629594723 0.8350612629594723 0.8350612629594723\n"
     ]
    },
    {
     "data": {
      "application/vnd.jupyter.widget-view+json": {
       "model_id": "9ec2ff9e7cac4eefbb6969212a16759a",
       "version_major": 2,
       "version_minor": 0
      },
      "text/html": [
       "<p>Failed to display Jupyter Widget of type <code>HBox</code>.</p>\n",
       "<p>\n",
       "  If you're reading this message in the Jupyter Notebook or JupyterLab Notebook, it may mean\n",
       "  that the widgets JavaScript is still loading. If this message persists, it\n",
       "  likely means that the widgets JavaScript library is either not installed or\n",
       "  not enabled. See the <a href=\"https://ipywidgets.readthedocs.io/en/stable/user_install.html\">Jupyter\n",
       "  Widgets Documentation</a> for setup instructions.\n",
       "</p>\n",
       "<p>\n",
       "  If you're reading this message in another frontend (for example, a static\n",
       "  rendering on GitHub or <a href=\"https://nbviewer.jupyter.org/\">NBViewer</a>),\n",
       "  it may mean that your frontend doesn't currently support widgets.\n",
       "</p>\n"
      ],
      "text/plain": [
       "HBox(children=(IntProgress(value=0, max=10), HTML(value='')))"
      ]
     },
     "metadata": {},
     "output_type": "display_data"
    },
    {
     "name": "stdout",
     "output_type": "stream",
     "text": [
      "\n",
      "TRECDataset-DESC\n",
      "Train precision 0.9834068473009872 0.9834068473009872 0.9834068473009872\n",
      "Valid precision 0.934453781512605 0.934453781512605 0.934453781512605\n",
      "Test precision 0.9295302013422819 0.9295302013422818 0.9295302013422819\n"
     ]
    },
    {
     "data": {
      "application/vnd.jupyter.widget-view+json": {
       "model_id": "9305db2a8764470aa2f9d5b7aa9e5908",
       "version_major": 2,
       "version_minor": 0
      },
      "text/html": [
       "<p>Failed to display Jupyter Widget of type <code>HBox</code>.</p>\n",
       "<p>\n",
       "  If you're reading this message in the Jupyter Notebook or JupyterLab Notebook, it may mean\n",
       "  that the widgets JavaScript is still loading. If this message persists, it\n",
       "  likely means that the widgets JavaScript library is either not installed or\n",
       "  not enabled. See the <a href=\"https://ipywidgets.readthedocs.io/en/stable/user_install.html\">Jupyter\n",
       "  Widgets Documentation</a> for setup instructions.\n",
       "</p>\n",
       "<p>\n",
       "  If you're reading this message in another frontend (for example, a static\n",
       "  rendering on GitHub or <a href=\"https://nbviewer.jupyter.org/\">NBViewer</a>),\n",
       "  it may mean that your frontend doesn't currently support widgets.\n",
       "</p>\n"
      ],
      "text/plain": [
       "HBox(children=(IntProgress(value=0, max=10), HTML(value='')))"
      ]
     },
     "metadata": {},
     "output_type": "display_data"
    },
    {
     "name": "stdout",
     "output_type": "stream",
     "text": [
      "\n",
      "TRECDataset-DESC\n",
      "Train precision 0.9993698802772527 0.9993698802772528 0.9993698802772527\n",
      "Valid precision 0.9142857142857143 0.9142857142857143 0.9142857142857143\n",
      "Test precision 0.9295302013422819 0.9295302013422818 0.9295302013422819\n"
     ]
    },
    {
     "data": {
      "application/vnd.jupyter.widget-view+json": {
       "model_id": "1d08daf6bb424e17872d316da6f52dbd",
       "version_major": 2,
       "version_minor": 0
      },
      "text/html": [
       "<p>Failed to display Jupyter Widget of type <code>HBox</code>.</p>\n",
       "<p>\n",
       "  If you're reading this message in the Jupyter Notebook or JupyterLab Notebook, it may mean\n",
       "  that the widgets JavaScript is still loading. If this message persists, it\n",
       "  likely means that the widgets JavaScript library is either not installed or\n",
       "  not enabled. See the <a href=\"https://ipywidgets.readthedocs.io/en/stable/user_install.html\">Jupyter\n",
       "  Widgets Documentation</a> for setup instructions.\n",
       "</p>\n",
       "<p>\n",
       "  If you're reading this message in another frontend (for example, a static\n",
       "  rendering on GitHub or <a href=\"https://nbviewer.jupyter.org/\">NBViewer</a>),\n",
       "  it may mean that your frontend doesn't currently support widgets.\n",
       "</p>\n"
      ],
      "text/plain": [
       "HBox(children=(IntProgress(value=0, max=10), HTML(value='')))"
      ]
     },
     "metadata": {},
     "output_type": "display_data"
    },
    {
     "name": "stdout",
     "output_type": "stream",
     "text": [
      "\n",
      "TRECDataset-DESC\n",
      "Train precision 0.879437093047679 0.8794370930476789 0.879437093047679\n",
      "Valid precision 0.8957983193277311 0.8957983193277311 0.8957983193277311\n",
      "Test precision 0.8640939597315436 0.8640939597315436 0.8640939597315436\n"
     ]
    },
    {
     "data": {
      "application/vnd.jupyter.widget-view+json": {
       "model_id": "2c585d8dda5e4bc18e062eff187d2df5",
       "version_major": 2,
       "version_minor": 0
      },
      "text/html": [
       "<p>Failed to display Jupyter Widget of type <code>HBox</code>.</p>\n",
       "<p>\n",
       "  If you're reading this message in the Jupyter Notebook or JupyterLab Notebook, it may mean\n",
       "  that the widgets JavaScript is still loading. If this message persists, it\n",
       "  likely means that the widgets JavaScript library is either not installed or\n",
       "  not enabled. See the <a href=\"https://ipywidgets.readthedocs.io/en/stable/user_install.html\">Jupyter\n",
       "  Widgets Documentation</a> for setup instructions.\n",
       "</p>\n",
       "<p>\n",
       "  If you're reading this message in another frontend (for example, a static\n",
       "  rendering on GitHub or <a href=\"https://nbviewer.jupyter.org/\">NBViewer</a>),\n",
       "  it may mean that your frontend doesn't currently support widgets.\n",
       "</p>\n"
      ],
      "text/plain": [
       "HBox(children=(IntProgress(value=0, max=10), HTML(value='')))"
      ]
     },
     "metadata": {},
     "output_type": "display_data"
    },
    {
     "name": "stdout",
     "output_type": "stream",
     "text": [
      "\n",
      "TRECDataset-DESC\n",
      "Train precision 0.8788069733249317 0.8788069733249317 0.8788069733249317\n",
      "Valid precision 0.8907563025210083 0.8907563025210085 0.8907563025210083\n",
      "Test precision 0.8624161073825504 0.8624161073825503 0.8624161073825504\n"
     ]
    },
    {
     "data": {
      "application/vnd.jupyter.widget-view+json": {
       "model_id": "bd18517340fd4ad18bbe6bc4f081eef2",
       "version_major": 2,
       "version_minor": 0
      },
      "text/html": [
       "<p>Failed to display Jupyter Widget of type <code>HBox</code>.</p>\n",
       "<p>\n",
       "  If you're reading this message in the Jupyter Notebook or JupyterLab Notebook, it may mean\n",
       "  that the widgets JavaScript is still loading. If this message persists, it\n",
       "  likely means that the widgets JavaScript library is either not installed or\n",
       "  not enabled. See the <a href=\"https://ipywidgets.readthedocs.io/en/stable/user_install.html\">Jupyter\n",
       "  Widgets Documentation</a> for setup instructions.\n",
       "</p>\n",
       "<p>\n",
       "  If you're reading this message in another frontend (for example, a static\n",
       "  rendering on GitHub or <a href=\"https://nbviewer.jupyter.org/\">NBViewer</a>),\n",
       "  it may mean that your frontend doesn't currently support widgets.\n",
       "</p>\n"
      ],
      "text/plain": [
       "HBox(children=(IntProgress(value=0, max=10), HTML(value='')))"
      ]
     },
     "metadata": {},
     "output_type": "display_data"
    },
    {
     "name": "stdout",
     "output_type": "stream",
     "text": [
      "\n",
      "TRECDataset-DESC\n",
      "Train precision 0.8788069733249317 0.8788069733249317 0.8788069733249317\n",
      "Valid precision 0.8907563025210083 0.8907563025210085 0.8907563025210083\n",
      "Test precision 0.8624161073825504 0.8624161073825503 0.8624161073825504\n"
     ]
    },
    {
     "data": {
      "application/vnd.jupyter.widget-view+json": {
       "model_id": "b05ffb1a34f04f68ba8b42a15bc97a5c",
       "version_major": 2,
       "version_minor": 0
      },
      "text/html": [
       "<p>Failed to display Jupyter Widget of type <code>HBox</code>.</p>\n",
       "<p>\n",
       "  If you're reading this message in the Jupyter Notebook or JupyterLab Notebook, it may mean\n",
       "  that the widgets JavaScript is still loading. If this message persists, it\n",
       "  likely means that the widgets JavaScript library is either not installed or\n",
       "  not enabled. See the <a href=\"https://ipywidgets.readthedocs.io/en/stable/user_install.html\">Jupyter\n",
       "  Widgets Documentation</a> for setup instructions.\n",
       "</p>\n",
       "<p>\n",
       "  If you're reading this message in another frontend (for example, a static\n",
       "  rendering on GitHub or <a href=\"https://nbviewer.jupyter.org/\">NBViewer</a>),\n",
       "  it may mean that your frontend doesn't currently support widgets.\n",
       "</p>\n"
      ],
      "text/plain": [
       "HBox(children=(IntProgress(value=0, max=10), HTML(value='')))"
      ]
     },
     "metadata": {},
     "output_type": "display_data"
    },
    {
     "name": "stdout",
     "output_type": "stream",
     "text": [
      "\n",
      "TRECDataset-DESC\n",
      "Train precision 0.9512707414408738 0.9512707414408738 0.9512707414408738\n",
      "Valid precision 0.8705882352941177 0.8705882352941178 0.8705882352941177\n",
      "Test precision 0.8473154362416108 0.8473154362416107 0.8473154362416108\n"
     ]
    },
    {
     "data": {
      "application/vnd.jupyter.widget-view+json": {
       "model_id": "ca72c369112d4d798e57558e9e480e9b",
       "version_major": 2,
       "version_minor": 0
      },
      "text/html": [
       "<p>Failed to display Jupyter Widget of type <code>HBox</code>.</p>\n",
       "<p>\n",
       "  If you're reading this message in the Jupyter Notebook or JupyterLab Notebook, it may mean\n",
       "  that the widgets JavaScript is still loading. If this message persists, it\n",
       "  likely means that the widgets JavaScript library is either not installed or\n",
       "  not enabled. See the <a href=\"https://ipywidgets.readthedocs.io/en/stable/user_install.html\">Jupyter\n",
       "  Widgets Documentation</a> for setup instructions.\n",
       "</p>\n",
       "<p>\n",
       "  If you're reading this message in another frontend (for example, a static\n",
       "  rendering on GitHub or <a href=\"https://nbviewer.jupyter.org/\">NBViewer</a>),\n",
       "  it may mean that your frontend doesn't currently support widgets.\n",
       "</p>\n"
      ],
      "text/plain": [
       "HBox(children=(IntProgress(value=0, max=10), HTML(value='')))"
      ]
     },
     "metadata": {},
     "output_type": "display_data"
    },
    {
     "name": "stdout",
     "output_type": "stream",
     "text": [
      "\n",
      "TRECDataset-DESC\n",
      "Train precision 0.9172442764125184 0.9172442764125183 0.9172442764125184\n",
      "Valid precision 0.865546218487395 0.8655462184873951 0.865546218487395\n",
      "Test precision 0.8422818791946309 0.8422818791946309 0.8422818791946309\n"
     ]
    },
    {
     "data": {
      "application/vnd.jupyter.widget-view+json": {
       "model_id": "561031f3b0874e10b065fedced9a545e",
       "version_major": 2,
       "version_minor": 0
      },
      "text/html": [
       "<p>Failed to display Jupyter Widget of type <code>HBox</code>.</p>\n",
       "<p>\n",
       "  If you're reading this message in the Jupyter Notebook or JupyterLab Notebook, it may mean\n",
       "  that the widgets JavaScript is still loading. If this message persists, it\n",
       "  likely means that the widgets JavaScript library is either not installed or\n",
       "  not enabled. See the <a href=\"https://ipywidgets.readthedocs.io/en/stable/user_install.html\">Jupyter\n",
       "  Widgets Documentation</a> for setup instructions.\n",
       "</p>\n",
       "<p>\n",
       "  If you're reading this message in another frontend (for example, a static\n",
       "  rendering on GitHub or <a href=\"https://nbviewer.jupyter.org/\">NBViewer</a>),\n",
       "  it may mean that your frontend doesn't currently support widgets.\n",
       "</p>\n"
      ],
      "text/plain": [
       "HBox(children=(IntProgress(value=0, max=10), HTML(value='')))"
      ]
     },
     "metadata": {},
     "output_type": "display_data"
    },
    {
     "name": "stdout",
     "output_type": "stream",
     "text": [
      "\n",
      "TRECDataset-ABBR\n",
      "Train precision 0.9945389624028566 0.9945389624028567 0.9945389624028566\n",
      "Valid precision 0.9932773109243698 0.9932773109243698 0.9932773109243698\n",
      "Test precision 0.9949664429530202 0.9949664429530202 0.9949664429530202\n"
     ]
    },
    {
     "data": {
      "application/vnd.jupyter.widget-view+json": {
       "model_id": "f0eefceeefca4964b1230a28035e85d3",
       "version_major": 2,
       "version_minor": 0
      },
      "text/html": [
       "<p>Failed to display Jupyter Widget of type <code>HBox</code>.</p>\n",
       "<p>\n",
       "  If you're reading this message in the Jupyter Notebook or JupyterLab Notebook, it may mean\n",
       "  that the widgets JavaScript is still loading. If this message persists, it\n",
       "  likely means that the widgets JavaScript library is either not installed or\n",
       "  not enabled. See the <a href=\"https://ipywidgets.readthedocs.io/en/stable/user_install.html\">Jupyter\n",
       "  Widgets Documentation</a> for setup instructions.\n",
       "</p>\n",
       "<p>\n",
       "  If you're reading this message in another frontend (for example, a static\n",
       "  rendering on GitHub or <a href=\"https://nbviewer.jupyter.org/\">NBViewer</a>),\n",
       "  it may mean that your frontend doesn't currently support widgets.\n",
       "</p>\n"
      ],
      "text/plain": [
       "HBox(children=(IntProgress(value=0, max=10), HTML(value='')))"
      ]
     },
     "metadata": {},
     "output_type": "display_data"
    },
    {
     "name": "stdout",
     "output_type": "stream",
     "text": [
      "\n",
      "TRECDataset-ABBR\n",
      "Train precision 0.9995799201848351 0.9995799201848351 0.9995799201848351\n",
      "Valid precision 0.9899159663865547 0.9899159663865547 0.9899159663865547\n",
      "Test precision 0.9949664429530202 0.9949664429530202 0.9949664429530202\n"
     ]
    },
    {
     "data": {
      "application/vnd.jupyter.widget-view+json": {
       "model_id": "58c408c9552f4f208cf54356a3befc5b",
       "version_major": 2,
       "version_minor": 0
      },
      "text/html": [
       "<p>Failed to display Jupyter Widget of type <code>HBox</code>.</p>\n",
       "<p>\n",
       "  If you're reading this message in the Jupyter Notebook or JupyterLab Notebook, it may mean\n",
       "  that the widgets JavaScript is still loading. If this message persists, it\n",
       "  likely means that the widgets JavaScript library is either not installed or\n",
       "  not enabled. See the <a href=\"https://ipywidgets.readthedocs.io/en/stable/user_install.html\">Jupyter\n",
       "  Widgets Documentation</a> for setup instructions.\n",
       "</p>\n",
       "<p>\n",
       "  If you're reading this message in another frontend (for example, a static\n",
       "  rendering on GitHub or <a href=\"https://nbviewer.jupyter.org/\">NBViewer</a>),\n",
       "  it may mean that your frontend doesn't currently support widgets.\n",
       "</p>\n"
      ],
      "text/plain": [
       "HBox(children=(IntProgress(value=0, max=10), HTML(value='')))"
      ]
     },
     "metadata": {},
     "output_type": "display_data"
    },
    {
     "name": "stdout",
     "output_type": "stream",
     "text": [
      "\n",
      "TRECDataset-ABBR\n",
      "Train precision 0.9930686830497795 0.9930686830497795 0.9930686830497795\n",
      "Valid precision 0.9966386554621849 0.9966386554621849 0.9966386554621849\n",
      "Test precision 0.9932885906040269 0.993288590604027 0.9932885906040269\n"
     ]
    },
    {
     "data": {
      "application/vnd.jupyter.widget-view+json": {
       "model_id": "b18ada45fc63406d8d4852a8931c4469",
       "version_major": 2,
       "version_minor": 0
      },
      "text/html": [
       "<p>Failed to display Jupyter Widget of type <code>HBox</code>.</p>\n",
       "<p>\n",
       "  If you're reading this message in the Jupyter Notebook or JupyterLab Notebook, it may mean\n",
       "  that the widgets JavaScript is still loading. If this message persists, it\n",
       "  likely means that the widgets JavaScript library is either not installed or\n",
       "  not enabled. See the <a href=\"https://ipywidgets.readthedocs.io/en/stable/user_install.html\">Jupyter\n",
       "  Widgets Documentation</a> for setup instructions.\n",
       "</p>\n",
       "<p>\n",
       "  If you're reading this message in another frontend (for example, a static\n",
       "  rendering on GitHub or <a href=\"https://nbviewer.jupyter.org/\">NBViewer</a>),\n",
       "  it may mean that your frontend doesn't currently support widgets.\n",
       "</p>\n"
      ],
      "text/plain": [
       "HBox(children=(IntProgress(value=0, max=10), HTML(value='')))"
      ]
     },
     "metadata": {},
     "output_type": "display_data"
    },
    {
     "name": "stdout",
     "output_type": "stream",
     "text": [
      "\n",
      "TRECDataset-ABBR\n",
      "Train precision 0.9905482041587902 0.9905482041587902 0.9905482041587902\n",
      "Valid precision 0.9949579831932773 0.9949579831932773 0.9949579831932773\n",
      "Test precision 0.9899328859060402 0.9899328859060402 0.9899328859060402\n"
     ]
    },
    {
     "data": {
      "application/vnd.jupyter.widget-view+json": {
       "model_id": "2f83ee2f72044f859cfabcc87b1f8ccc",
       "version_major": 2,
       "version_minor": 0
      },
      "text/html": [
       "<p>Failed to display Jupyter Widget of type <code>HBox</code>.</p>\n",
       "<p>\n",
       "  If you're reading this message in the Jupyter Notebook or JupyterLab Notebook, it may mean\n",
       "  that the widgets JavaScript is still loading. If this message persists, it\n",
       "  likely means that the widgets JavaScript library is either not installed or\n",
       "  not enabled. See the <a href=\"https://ipywidgets.readthedocs.io/en/stable/user_install.html\">Jupyter\n",
       "  Widgets Documentation</a> for setup instructions.\n",
       "</p>\n",
       "<p>\n",
       "  If you're reading this message in another frontend (for example, a static\n",
       "  rendering on GitHub or <a href=\"https://nbviewer.jupyter.org/\">NBViewer</a>),\n",
       "  it may mean that your frontend doesn't currently support widgets.\n",
       "</p>\n"
      ],
      "text/plain": [
       "HBox(children=(IntProgress(value=0, max=10), HTML(value='')))"
      ]
     },
     "metadata": {},
     "output_type": "display_data"
    },
    {
     "name": "stdout",
     "output_type": "stream",
     "text": [
      "\n",
      "TRECDataset-ABBR\n",
      "Train precision 0.9905482041587902 0.9905482041587902 0.9905482041587902\n",
      "Valid precision 0.9949579831932773 0.9949579831932773 0.9949579831932773\n",
      "Test precision 0.9899328859060402 0.9899328859060402 0.9899328859060402\n"
     ]
    },
    {
     "data": {
      "application/vnd.jupyter.widget-view+json": {
       "model_id": "d377027e43774001a74fb0a990ebe7a4",
       "version_major": 2,
       "version_minor": 0
      },
      "text/html": [
       "<p>Failed to display Jupyter Widget of type <code>HBox</code>.</p>\n",
       "<p>\n",
       "  If you're reading this message in the Jupyter Notebook or JupyterLab Notebook, it may mean\n",
       "  that the widgets JavaScript is still loading. If this message persists, it\n",
       "  likely means that the widgets JavaScript library is either not installed or\n",
       "  not enabled. See the <a href=\"https://ipywidgets.readthedocs.io/en/stable/user_install.html\">Jupyter\n",
       "  Widgets Documentation</a> for setup instructions.\n",
       "</p>\n",
       "<p>\n",
       "  If you're reading this message in another frontend (for example, a static\n",
       "  rendering on GitHub or <a href=\"https://nbviewer.jupyter.org/\">NBViewer</a>),\n",
       "  it may mean that your frontend doesn't currently support widgets.\n",
       "</p>\n"
      ],
      "text/plain": [
       "HBox(children=(IntProgress(value=0, max=10), HTML(value='')))"
      ]
     },
     "metadata": {},
     "output_type": "display_data"
    },
    {
     "name": "stdout",
     "output_type": "stream",
     "text": [
      "\n",
      "TRECDataset-ABBR\n",
      "Train precision 0.9901281243436253 0.9901281243436253 0.9901281243436253\n",
      "Valid precision 0.9932773109243698 0.9932773109243698 0.9932773109243698\n",
      "Test precision 0.9899328859060402 0.9899328859060402 0.9899328859060402\n"
     ]
    },
    {
     "data": {
      "application/vnd.jupyter.widget-view+json": {
       "model_id": "449abbeccebb4d13bd4dd763b0f02d30",
       "version_major": 2,
       "version_minor": 0
      },
      "text/html": [
       "<p>Failed to display Jupyter Widget of type <code>HBox</code>.</p>\n",
       "<p>\n",
       "  If you're reading this message in the Jupyter Notebook or JupyterLab Notebook, it may mean\n",
       "  that the widgets JavaScript is still loading. If this message persists, it\n",
       "  likely means that the widgets JavaScript library is either not installed or\n",
       "  not enabled. See the <a href=\"https://ipywidgets.readthedocs.io/en/stable/user_install.html\">Jupyter\n",
       "  Widgets Documentation</a> for setup instructions.\n",
       "</p>\n",
       "<p>\n",
       "  If you're reading this message in another frontend (for example, a static\n",
       "  rendering on GitHub or <a href=\"https://nbviewer.jupyter.org/\">NBViewer</a>),\n",
       "  it may mean that your frontend doesn't currently support widgets.\n",
       "</p>\n"
      ],
      "text/plain": [
       "HBox(children=(IntProgress(value=0, max=10), HTML(value='')))"
      ]
     },
     "metadata": {},
     "output_type": "display_data"
    },
    {
     "name": "stdout",
     "output_type": "stream",
     "text": [
      "\n",
      "TRECDataset-ABBR\n",
      "Train precision 0.9909682839739551 0.9909682839739553 0.9909682839739551\n",
      "Valid precision 0.9899159663865547 0.9899159663865547 0.9899159663865547\n",
      "Test precision 0.9899328859060402 0.9899328859060402 0.9899328859060402\n"
     ]
    },
    {
     "data": {
      "application/vnd.jupyter.widget-view+json": {
       "model_id": "5e6fe348439d4ab5ae0ac63654353d7d",
       "version_major": 2,
       "version_minor": 0
      },
      "text/html": [
       "<p>Failed to display Jupyter Widget of type <code>HBox</code>.</p>\n",
       "<p>\n",
       "  If you're reading this message in the Jupyter Notebook or JupyterLab Notebook, it may mean\n",
       "  that the widgets JavaScript is still loading. If this message persists, it\n",
       "  likely means that the widgets JavaScript library is either not installed or\n",
       "  not enabled. See the <a href=\"https://ipywidgets.readthedocs.io/en/stable/user_install.html\">Jupyter\n",
       "  Widgets Documentation</a> for setup instructions.\n",
       "</p>\n",
       "<p>\n",
       "  If you're reading this message in another frontend (for example, a static\n",
       "  rendering on GitHub or <a href=\"https://nbviewer.jupyter.org/\">NBViewer</a>),\n",
       "  it may mean that your frontend doesn't currently support widgets.\n",
       "</p>\n"
      ],
      "text/plain": [
       "HBox(children=(IntProgress(value=0, max=10), HTML(value='')))"
      ]
     },
     "metadata": {},
     "output_type": "display_data"
    },
    {
     "name": "stdout",
     "output_type": "stream",
     "text": [
      "\n",
      "TRECDataset-LOC\n",
      "Train precision 0.9884478050829658 0.9884478050829658 0.9884478050829658\n",
      "Valid precision 0.9613445378151261 0.961344537815126 0.9613445378151261\n",
      "Test precision 0.9630872483221476 0.9630872483221478 0.9630872483221476\n"
     ]
    },
    {
     "data": {
      "application/vnd.jupyter.widget-view+json": {
       "model_id": "2e779e382ac0437caf1f951acd1ec6a4",
       "version_major": 2,
       "version_minor": 0
      },
      "text/html": [
       "<p>Failed to display Jupyter Widget of type <code>HBox</code>.</p>\n",
       "<p>\n",
       "  If you're reading this message in the Jupyter Notebook or JupyterLab Notebook, it may mean\n",
       "  that the widgets JavaScript is still loading. If this message persists, it\n",
       "  likely means that the widgets JavaScript library is either not installed or\n",
       "  not enabled. See the <a href=\"https://ipywidgets.readthedocs.io/en/stable/user_install.html\">Jupyter\n",
       "  Widgets Documentation</a> for setup instructions.\n",
       "</p>\n",
       "<p>\n",
       "  If you're reading this message in another frontend (for example, a static\n",
       "  rendering on GitHub or <a href=\"https://nbviewer.jupyter.org/\">NBViewer</a>),\n",
       "  it may mean that your frontend doesn't currently support widgets.\n",
       "</p>\n"
      ],
      "text/plain": [
       "HBox(children=(IntProgress(value=0, max=10), HTML(value='')))"
      ]
     },
     "metadata": {},
     "output_type": "display_data"
    },
    {
     "name": "stdout",
     "output_type": "stream",
     "text": [
      "\n",
      "TRECDataset-LOC\n",
      "Train precision 0.9997899600924176 0.9997899600924176 0.9997899600924176\n",
      "Valid precision 0.9697478991596639 0.9697478991596638 0.9697478991596639\n",
      "Test precision 0.9731543624161074 0.9731543624161073 0.9731543624161074\n"
     ]
    },
    {
     "data": {
      "application/vnd.jupyter.widget-view+json": {
       "model_id": "f4ce92c2cae440ddb419dfc985a3f116",
       "version_major": 2,
       "version_minor": 0
      },
      "text/html": [
       "<p>Failed to display Jupyter Widget of type <code>HBox</code>.</p>\n",
       "<p>\n",
       "  If you're reading this message in the Jupyter Notebook or JupyterLab Notebook, it may mean\n",
       "  that the widgets JavaScript is still loading. If this message persists, it\n",
       "  likely means that the widgets JavaScript library is either not installed or\n",
       "  not enabled. See the <a href=\"https://ipywidgets.readthedocs.io/en/stable/user_install.html\">Jupyter\n",
       "  Widgets Documentation</a> for setup instructions.\n",
       "</p>\n",
       "<p>\n",
       "  If you're reading this message in another frontend (for example, a static\n",
       "  rendering on GitHub or <a href=\"https://nbviewer.jupyter.org/\">NBViewer</a>),\n",
       "  it may mean that your frontend doesn't currently support widgets.\n",
       "</p>\n"
      ],
      "text/plain": [
       "HBox(children=(IntProgress(value=0, max=10), HTML(value='')))"
      ]
     },
     "metadata": {},
     "output_type": "display_data"
    },
    {
     "name": "stdout",
     "output_type": "stream",
     "text": [
      "\n",
      "TRECDataset-LOC\n",
      "Train precision 0.9493803822726318 0.9493803822726317 0.9493803822726318\n",
      "Valid precision 0.9529411764705882 0.9529411764705882 0.9529411764705882\n",
      "Test precision 0.9496644295302014 0.9496644295302014 0.9496644295302014\n"
     ]
    },
    {
     "data": {
      "application/vnd.jupyter.widget-view+json": {
       "model_id": "4da7ee4745404d34b48c2034e6423660",
       "version_major": 2,
       "version_minor": 0
      },
      "text/html": [
       "<p>Failed to display Jupyter Widget of type <code>HBox</code>.</p>\n",
       "<p>\n",
       "  If you're reading this message in the Jupyter Notebook or JupyterLab Notebook, it may mean\n",
       "  that the widgets JavaScript is still loading. If this message persists, it\n",
       "  likely means that the widgets JavaScript library is either not installed or\n",
       "  not enabled. See the <a href=\"https://ipywidgets.readthedocs.io/en/stable/user_install.html\">Jupyter\n",
       "  Widgets Documentation</a> for setup instructions.\n",
       "</p>\n",
       "<p>\n",
       "  If you're reading this message in another frontend (for example, a static\n",
       "  rendering on GitHub or <a href=\"https://nbviewer.jupyter.org/\">NBViewer</a>),\n",
       "  it may mean that your frontend doesn't currently support widgets.\n",
       "</p>\n"
      ],
      "text/plain": [
       "HBox(children=(IntProgress(value=0, max=10), HTML(value='')))"
      ]
     },
     "metadata": {},
     "output_type": "display_data"
    },
    {
     "name": "stdout",
     "output_type": "stream",
     "text": [
      "\n",
      "TRECDataset-LOC\n",
      "Train precision 0.9495904221802143 0.9495904221802144 0.9495904221802143\n",
      "Valid precision 0.9512605042016806 0.9512605042016806 0.9512605042016806\n",
      "Test precision 0.9496644295302014 0.9496644295302014 0.9496644295302014\n"
     ]
    },
    {
     "data": {
      "application/vnd.jupyter.widget-view+json": {
       "model_id": "3a6850630aac4f869c5a797185909913",
       "version_major": 2,
       "version_minor": 0
      },
      "text/html": [
       "<p>Failed to display Jupyter Widget of type <code>HBox</code>.</p>\n",
       "<p>\n",
       "  If you're reading this message in the Jupyter Notebook or JupyterLab Notebook, it may mean\n",
       "  that the widgets JavaScript is still loading. If this message persists, it\n",
       "  likely means that the widgets JavaScript library is either not installed or\n",
       "  not enabled. See the <a href=\"https://ipywidgets.readthedocs.io/en/stable/user_install.html\">Jupyter\n",
       "  Widgets Documentation</a> for setup instructions.\n",
       "</p>\n",
       "<p>\n",
       "  If you're reading this message in another frontend (for example, a static\n",
       "  rendering on GitHub or <a href=\"https://nbviewer.jupyter.org/\">NBViewer</a>),\n",
       "  it may mean that your frontend doesn't currently support widgets.\n",
       "</p>\n"
      ],
      "text/plain": [
       "HBox(children=(IntProgress(value=0, max=10), HTML(value='')))"
      ]
     },
     "metadata": {},
     "output_type": "display_data"
    },
    {
     "name": "stdout",
     "output_type": "stream",
     "text": [
      "\n",
      "TRECDataset-LOC\n",
      "Train precision 0.9495904221802143 0.9495904221802144 0.9495904221802143\n",
      "Valid precision 0.9512605042016806 0.9512605042016806 0.9512605042016806\n",
      "Test precision 0.9496644295302014 0.9496644295302014 0.9496644295302014\n"
     ]
    },
    {
     "data": {
      "application/vnd.jupyter.widget-view+json": {
       "model_id": "f20ff46b4cd8409a8cdc583e2a5d7080",
       "version_major": 2,
       "version_minor": 0
      },
      "text/html": [
       "<p>Failed to display Jupyter Widget of type <code>HBox</code>.</p>\n",
       "<p>\n",
       "  If you're reading this message in the Jupyter Notebook or JupyterLab Notebook, it may mean\n",
       "  that the widgets JavaScript is still loading. If this message persists, it\n",
       "  likely means that the widgets JavaScript library is either not installed or\n",
       "  not enabled. See the <a href=\"https://ipywidgets.readthedocs.io/en/stable/user_install.html\">Jupyter\n",
       "  Widgets Documentation</a> for setup instructions.\n",
       "</p>\n",
       "<p>\n",
       "  If you're reading this message in another frontend (for example, a static\n",
       "  rendering on GitHub or <a href=\"https://nbviewer.jupyter.org/\">NBViewer</a>),\n",
       "  it may mean that your frontend doesn't currently support widgets.\n",
       "</p>\n"
      ],
      "text/plain": [
       "HBox(children=(IntProgress(value=0, max=10), HTML(value='')))"
      ]
     },
     "metadata": {},
     "output_type": "display_data"
    },
    {
     "name": "stdout",
     "output_type": "stream",
     "text": [
      "\n",
      "TRECDataset-LOC\n",
      "Train precision 0.9689140936777988 0.9689140936777989 0.9689140936777988\n",
      "Valid precision 0.9563025210084034 0.9563025210084033 0.9563025210084034\n",
      "Test precision 0.9530201342281879 0.9530201342281879 0.9530201342281879\n"
     ]
    },
    {
     "data": {
      "application/vnd.jupyter.widget-view+json": {
       "model_id": "51b21171136c4fe9b51d0d121a5ea061",
       "version_major": 2,
       "version_minor": 0
      },
      "text/html": [
       "<p>Failed to display Jupyter Widget of type <code>HBox</code>.</p>\n",
       "<p>\n",
       "  If you're reading this message in the Jupyter Notebook or JupyterLab Notebook, it may mean\n",
       "  that the widgets JavaScript is still loading. If this message persists, it\n",
       "  likely means that the widgets JavaScript library is either not installed or\n",
       "  not enabled. See the <a href=\"https://ipywidgets.readthedocs.io/en/stable/user_install.html\">Jupyter\n",
       "  Widgets Documentation</a> for setup instructions.\n",
       "</p>\n",
       "<p>\n",
       "  If you're reading this message in another frontend (for example, a static\n",
       "  rendering on GitHub or <a href=\"https://nbviewer.jupyter.org/\">NBViewer</a>),\n",
       "  it may mean that your frontend doesn't currently support widgets.\n",
       "</p>\n"
      ],
      "text/plain": [
       "HBox(children=(IntProgress(value=0, max=10), HTML(value='')))"
      ]
     },
     "metadata": {},
     "output_type": "display_data"
    },
    {
     "name": "stdout",
     "output_type": "stream",
     "text": [
      "\n",
      "TRECDataset-LOC\n",
      "Train precision 0.9502205419029616 0.9502205419029617 0.9502205419029616\n",
      "Valid precision 0.9445378151260504 0.9445378151260504 0.9445378151260504\n",
      "Test precision 0.947986577181208 0.9479865771812082 0.947986577181208\n"
     ]
    },
    {
     "data": {
      "application/vnd.jupyter.widget-view+json": {
       "model_id": "860d932c235243fb941add3c66312491",
       "version_major": 2,
       "version_minor": 0
      },
      "text/html": [
       "<p>Failed to display Jupyter Widget of type <code>HBox</code>.</p>\n",
       "<p>\n",
       "  If you're reading this message in the Jupyter Notebook or JupyterLab Notebook, it may mean\n",
       "  that the widgets JavaScript is still loading. If this message persists, it\n",
       "  likely means that the widgets JavaScript library is either not installed or\n",
       "  not enabled. See the <a href=\"https://ipywidgets.readthedocs.io/en/stable/user_install.html\">Jupyter\n",
       "  Widgets Documentation</a> for setup instructions.\n",
       "</p>\n",
       "<p>\n",
       "  If you're reading this message in another frontend (for example, a static\n",
       "  rendering on GitHub or <a href=\"https://nbviewer.jupyter.org/\">NBViewer</a>),\n",
       "  it may mean that your frontend doesn't currently support widgets.\n",
       "</p>\n"
      ],
      "text/plain": [
       "HBox(children=(IntProgress(value=0, max=10), HTML(value='')))"
      ]
     },
     "metadata": {},
     "output_type": "display_data"
    },
    {
     "name": "stdout",
     "output_type": "stream",
     "text": [
      "\n",
      "TRECDataset-HUM\n",
      "Train precision 0.985717286284394 0.985717286284394 0.985717286284394\n",
      "Valid precision 0.9243697478991597 0.9243697478991597 0.9243697478991597\n",
      "Test precision 0.9211409395973155 0.9211409395973155 0.9211409395973155\n"
     ]
    },
    {
     "data": {
      "application/vnd.jupyter.widget-view+json": {
       "model_id": "6972ecf6adb949c4b18ac2b121b8cb98",
       "version_major": 2,
       "version_minor": 0
      },
      "text/html": [
       "<p>Failed to display Jupyter Widget of type <code>HBox</code>.</p>\n",
       "<p>\n",
       "  If you're reading this message in the Jupyter Notebook or JupyterLab Notebook, it may mean\n",
       "  that the widgets JavaScript is still loading. If this message persists, it\n",
       "  likely means that the widgets JavaScript library is either not installed or\n",
       "  not enabled. See the <a href=\"https://ipywidgets.readthedocs.io/en/stable/user_install.html\">Jupyter\n",
       "  Widgets Documentation</a> for setup instructions.\n",
       "</p>\n",
       "<p>\n",
       "  If you're reading this message in another frontend (for example, a static\n",
       "  rendering on GitHub or <a href=\"https://nbviewer.jupyter.org/\">NBViewer</a>),\n",
       "  it may mean that your frontend doesn't currently support widgets.\n",
       "</p>\n"
      ],
      "text/plain": [
       "HBox(children=(IntProgress(value=0, max=10), HTML(value='')))"
      ]
     },
     "metadata": {},
     "output_type": "display_data"
    },
    {
     "name": "stdout",
     "output_type": "stream",
     "text": [
      "\n",
      "TRECDataset-HUM\n",
      "Train precision 1.0 1.0 1.0\n",
      "Valid precision 0.9226890756302522 0.9226890756302522 0.9226890756302522\n",
      "Test precision 0.9177852348993288 0.917785234899329 0.9177852348993288\n"
     ]
    },
    {
     "data": {
      "application/vnd.jupyter.widget-view+json": {
       "model_id": "c0812c7c2eb1485e9a575a55ebafafb6",
       "version_major": 2,
       "version_minor": 0
      },
      "text/html": [
       "<p>Failed to display Jupyter Widget of type <code>HBox</code>.</p>\n",
       "<p>\n",
       "  If you're reading this message in the Jupyter Notebook or JupyterLab Notebook, it may mean\n",
       "  that the widgets JavaScript is still loading. If this message persists, it\n",
       "  likely means that the widgets JavaScript library is either not installed or\n",
       "  not enabled. See the <a href=\"https://ipywidgets.readthedocs.io/en/stable/user_install.html\">Jupyter\n",
       "  Widgets Documentation</a> for setup instructions.\n",
       "</p>\n",
       "<p>\n",
       "  If you're reading this message in another frontend (for example, a static\n",
       "  rendering on GitHub or <a href=\"https://nbviewer.jupyter.org/\">NBViewer</a>),\n",
       "  it may mean that your frontend doesn't currently support widgets.\n",
       "</p>\n"
      ],
      "text/plain": [
       "HBox(children=(IntProgress(value=0, max=10), HTML(value='')))"
      ]
     },
     "metadata": {},
     "output_type": "display_data"
    },
    {
     "name": "stdout",
     "output_type": "stream",
     "text": [
      "\n",
      "TRECDataset-HUM\n",
      "Train precision 0.8966603654694392 0.8966603654694391 0.8966603654694392\n",
      "Valid precision 0.9008403361344538 0.9008403361344538 0.9008403361344538\n",
      "Test precision 0.8859060402684564 0.8859060402684564 0.8859060402684564\n"
     ]
    },
    {
     "data": {
      "application/vnd.jupyter.widget-view+json": {
       "model_id": "e8108db84b874deba98259827b9fa75d",
       "version_major": 2,
       "version_minor": 0
      },
      "text/html": [
       "<p>Failed to display Jupyter Widget of type <code>HBox</code>.</p>\n",
       "<p>\n",
       "  If you're reading this message in the Jupyter Notebook or JupyterLab Notebook, it may mean\n",
       "  that the widgets JavaScript is still loading. If this message persists, it\n",
       "  likely means that the widgets JavaScript library is either not installed or\n",
       "  not enabled. See the <a href=\"https://ipywidgets.readthedocs.io/en/stable/user_install.html\">Jupyter\n",
       "  Widgets Documentation</a> for setup instructions.\n",
       "</p>\n",
       "<p>\n",
       "  If you're reading this message in another frontend (for example, a static\n",
       "  rendering on GitHub or <a href=\"https://nbviewer.jupyter.org/\">NBViewer</a>),\n",
       "  it may mean that your frontend doesn't currently support widgets.\n",
       "</p>\n"
      ],
      "text/plain": [
       "HBox(children=(IntProgress(value=0, max=10), HTML(value='')))"
      ]
     },
     "metadata": {},
     "output_type": "display_data"
    },
    {
     "name": "stdout",
     "output_type": "stream",
     "text": [
      "\n",
      "TRECDataset-HUM\n",
      "Train precision 0.8958202058391094 0.8958202058391095 0.8958202058391094\n",
      "Valid precision 0.9042016806722689 0.9042016806722689 0.9042016806722689\n",
      "Test precision 0.8875838926174496 0.8875838926174497 0.8875838926174496\n"
     ]
    },
    {
     "data": {
      "application/vnd.jupyter.widget-view+json": {
       "model_id": "b593becb392e4eb8801a8bdc50aa6b36",
       "version_major": 2,
       "version_minor": 0
      },
      "text/html": [
       "<p>Failed to display Jupyter Widget of type <code>HBox</code>.</p>\n",
       "<p>\n",
       "  If you're reading this message in the Jupyter Notebook or JupyterLab Notebook, it may mean\n",
       "  that the widgets JavaScript is still loading. If this message persists, it\n",
       "  likely means that the widgets JavaScript library is either not installed or\n",
       "  not enabled. See the <a href=\"https://ipywidgets.readthedocs.io/en/stable/user_install.html\">Jupyter\n",
       "  Widgets Documentation</a> for setup instructions.\n",
       "</p>\n",
       "<p>\n",
       "  If you're reading this message in another frontend (for example, a static\n",
       "  rendering on GitHub or <a href=\"https://nbviewer.jupyter.org/\">NBViewer</a>),\n",
       "  it may mean that your frontend doesn't currently support widgets.\n",
       "</p>\n"
      ],
      "text/plain": [
       "HBox(children=(IntProgress(value=0, max=10), HTML(value='')))"
      ]
     },
     "metadata": {},
     "output_type": "display_data"
    },
    {
     "name": "stdout",
     "output_type": "stream",
     "text": [
      "\n",
      "TRECDataset-HUM\n",
      "Train precision 0.8958202058391094 0.8958202058391095 0.8958202058391094\n",
      "Valid precision 0.9042016806722689 0.9042016806722689 0.9042016806722689\n",
      "Test precision 0.8875838926174496 0.8875838926174497 0.8875838926174496\n"
     ]
    },
    {
     "data": {
      "application/vnd.jupyter.widget-view+json": {
       "model_id": "c59f386ff9fb4659be050d3de0c3b3de",
       "version_major": 2,
       "version_minor": 0
      },
      "text/html": [
       "<p>Failed to display Jupyter Widget of type <code>HBox</code>.</p>\n",
       "<p>\n",
       "  If you're reading this message in the Jupyter Notebook or JupyterLab Notebook, it may mean\n",
       "  that the widgets JavaScript is still loading. If this message persists, it\n",
       "  likely means that the widgets JavaScript library is either not installed or\n",
       "  not enabled. See the <a href=\"https://ipywidgets.readthedocs.io/en/stable/user_install.html\">Jupyter\n",
       "  Widgets Documentation</a> for setup instructions.\n",
       "</p>\n",
       "<p>\n",
       "  If you're reading this message in another frontend (for example, a static\n",
       "  rendering on GitHub or <a href=\"https://nbviewer.jupyter.org/\">NBViewer</a>),\n",
       "  it may mean that your frontend doesn't currently support widgets.\n",
       "</p>\n"
      ],
      "text/plain": [
       "HBox(children=(IntProgress(value=0, max=10), HTML(value='')))"
      ]
     },
     "metadata": {},
     "output_type": "display_data"
    },
    {
     "name": "stdout",
     "output_type": "stream",
     "text": [
      "\n",
      "TRECDataset-HUM\n",
      "Train precision 0.9670237345095568 0.9670237345095568 0.9670237345095568\n",
      "Valid precision 0.9310924369747899 0.9310924369747899 0.9310924369747899\n",
      "Test precision 0.9228187919463087 0.9228187919463087 0.9228187919463087\n"
     ]
    },
    {
     "data": {
      "application/vnd.jupyter.widget-view+json": {
       "model_id": "8e701d54c585422795a03ade73b282c8",
       "version_major": 2,
       "version_minor": 0
      },
      "text/html": [
       "<p>Failed to display Jupyter Widget of type <code>HBox</code>.</p>\n",
       "<p>\n",
       "  If you're reading this message in the Jupyter Notebook or JupyterLab Notebook, it may mean\n",
       "  that the widgets JavaScript is still loading. If this message persists, it\n",
       "  likely means that the widgets JavaScript library is either not installed or\n",
       "  not enabled. See the <a href=\"https://ipywidgets.readthedocs.io/en/stable/user_install.html\">Jupyter\n",
       "  Widgets Documentation</a> for setup instructions.\n",
       "</p>\n",
       "<p>\n",
       "  If you're reading this message in another frontend (for example, a static\n",
       "  rendering on GitHub or <a href=\"https://nbviewer.jupyter.org/\">NBViewer</a>),\n",
       "  it may mean that your frontend doesn't currently support widgets.\n",
       "</p>\n"
      ],
      "text/plain": [
       "HBox(children=(IntProgress(value=0, max=10), HTML(value='')))"
      ]
     },
     "metadata": {},
     "output_type": "display_data"
    },
    {
     "name": "stdout",
     "output_type": "stream",
     "text": [
      "\n",
      "TRECDataset-HUM\n",
      "Train precision 0.9420289855072463 0.9420289855072463 0.9420289855072463\n",
      "Valid precision 0.9210084033613446 0.9210084033613446 0.9210084033613446\n",
      "Test precision 0.9077181208053691 0.907718120805369 0.9077181208053691\n"
     ]
    },
    {
     "data": {
      "application/vnd.jupyter.widget-view+json": {
       "model_id": "0087d140c0c74aa794fbc01f0cad5327",
       "version_major": 2,
       "version_minor": 0
      },
      "text/html": [
       "<p>Failed to display Jupyter Widget of type <code>HBox</code>.</p>\n",
       "<p>\n",
       "  If you're reading this message in the Jupyter Notebook or JupyterLab Notebook, it may mean\n",
       "  that the widgets JavaScript is still loading. If this message persists, it\n",
       "  likely means that the widgets JavaScript library is either not installed or\n",
       "  not enabled. See the <a href=\"https://ipywidgets.readthedocs.io/en/stable/user_install.html\">Jupyter\n",
       "  Widgets Documentation</a> for setup instructions.\n",
       "</p>\n",
       "<p>\n",
       "  If you're reading this message in another frontend (for example, a static\n",
       "  rendering on GitHub or <a href=\"https://nbviewer.jupyter.org/\">NBViewer</a>),\n",
       "  it may mean that your frontend doesn't currently support widgets.\n",
       "</p>\n"
      ],
      "text/plain": [
       "HBox(children=(IntProgress(value=0, max=10), HTML(value='')))"
      ]
     },
     "metadata": {},
     "output_type": "display_data"
    },
    {
     "name": "stdout",
     "output_type": "stream",
     "text": [
      "\n",
      "TRECDataset-ENTY\n",
      "Train precision 0.9827767275782399 0.98277672757824 0.9827767275782399\n",
      "Valid precision 0.880672268907563 0.8806722689075631 0.880672268907563\n",
      "Test precision 0.8825503355704698 0.8825503355704697 0.8825503355704698\n"
     ]
    },
    {
     "data": {
      "application/vnd.jupyter.widget-view+json": {
       "model_id": "5abe2c37393549f49bc1045580ea4aa9",
       "version_major": 2,
       "version_minor": 0
      },
      "text/html": [
       "<p>Failed to display Jupyter Widget of type <code>HBox</code>.</p>\n",
       "<p>\n",
       "  If you're reading this message in the Jupyter Notebook or JupyterLab Notebook, it may mean\n",
       "  that the widgets JavaScript is still loading. If this message persists, it\n",
       "  likely means that the widgets JavaScript library is either not installed or\n",
       "  not enabled. See the <a href=\"https://ipywidgets.readthedocs.io/en/stable/user_install.html\">Jupyter\n",
       "  Widgets Documentation</a> for setup instructions.\n",
       "</p>\n",
       "<p>\n",
       "  If you're reading this message in another frontend (for example, a static\n",
       "  rendering on GitHub or <a href=\"https://nbviewer.jupyter.org/\">NBViewer</a>),\n",
       "  it may mean that your frontend doesn't currently support widgets.\n",
       "</p>\n"
      ],
      "text/plain": [
       "HBox(children=(IntProgress(value=0, max=10), HTML(value='')))"
      ]
     },
     "metadata": {},
     "output_type": "display_data"
    },
    {
     "name": "stdout",
     "output_type": "stream",
     "text": [
      "\n",
      "TRECDataset-ENTY\n",
      "Train precision 1.0 1.0 1.0\n",
      "Valid precision 0.8823529411764706 0.8823529411764707 0.8823529411764706\n",
      "Test precision 0.8825503355704698 0.8825503355704697 0.8825503355704698\n"
     ]
    },
    {
     "data": {
      "application/vnd.jupyter.widget-view+json": {
       "model_id": "bbf5a0cf81ba4e7eb6f7802a0c433c8e",
       "version_major": 2,
       "version_minor": 0
      },
      "text/html": [
       "<p>Failed to display Jupyter Widget of type <code>HBox</code>.</p>\n",
       "<p>\n",
       "  If you're reading this message in the Jupyter Notebook or JupyterLab Notebook, it may mean\n",
       "  that the widgets JavaScript is still loading. If this message persists, it\n",
       "  likely means that the widgets JavaScript library is either not installed or\n",
       "  not enabled. See the <a href=\"https://ipywidgets.readthedocs.io/en/stable/user_install.html\">Jupyter\n",
       "  Widgets Documentation</a> for setup instructions.\n",
       "</p>\n",
       "<p>\n",
       "  If you're reading this message in another frontend (for example, a static\n",
       "  rendering on GitHub or <a href=\"https://nbviewer.jupyter.org/\">NBViewer</a>),\n",
       "  it may mean that your frontend doesn't currently support widgets.\n",
       "</p>\n"
      ],
      "text/plain": [
       "HBox(children=(IntProgress(value=0, max=10), HTML(value='')))"
      ]
     },
     "metadata": {},
     "output_type": "display_data"
    },
    {
     "name": "stdout",
     "output_type": "stream",
     "text": [
      "\n",
      "TRECDataset-ENTY\n",
      "Train precision 0.7889098928796472 0.7889098928796472 0.7889098928796472\n",
      "Valid precision 0.7848739495798319 0.7848739495798319 0.7848739495798319\n",
      "Test precision 0.7802013422818792 0.7802013422818792 0.7802013422818792\n"
     ]
    },
    {
     "data": {
      "application/vnd.jupyter.widget-view+json": {
       "model_id": "1d0f6b1adc544716a2250e67668336fb",
       "version_major": 2,
       "version_minor": 0
      },
      "text/html": [
       "<p>Failed to display Jupyter Widget of type <code>HBox</code>.</p>\n",
       "<p>\n",
       "  If you're reading this message in the Jupyter Notebook or JupyterLab Notebook, it may mean\n",
       "  that the widgets JavaScript is still loading. If this message persists, it\n",
       "  likely means that the widgets JavaScript library is either not installed or\n",
       "  not enabled. See the <a href=\"https://ipywidgets.readthedocs.io/en/stable/user_install.html\">Jupyter\n",
       "  Widgets Documentation</a> for setup instructions.\n",
       "</p>\n",
       "<p>\n",
       "  If you're reading this message in another frontend (for example, a static\n",
       "  rendering on GitHub or <a href=\"https://nbviewer.jupyter.org/\">NBViewer</a>),\n",
       "  it may mean that your frontend doesn't currently support widgets.\n",
       "</p>\n"
      ],
      "text/plain": [
       "HBox(children=(IntProgress(value=0, max=10), HTML(value='')))"
      ]
     },
     "metadata": {},
     "output_type": "display_data"
    },
    {
     "name": "stdout",
     "output_type": "stream",
     "text": [
      "\n",
      "TRECDataset-ENTY\n",
      "Train precision 0.7880697332493174 0.7880697332493174 0.7880697332493174\n",
      "Valid precision 0.788235294117647 0.788235294117647 0.788235294117647\n",
      "Test precision 0.7802013422818792 0.7802013422818792 0.7802013422818792\n"
     ]
    },
    {
     "data": {
      "application/vnd.jupyter.widget-view+json": {
       "model_id": "74f369835522427d878eb9771652069a",
       "version_major": 2,
       "version_minor": 0
      },
      "text/html": [
       "<p>Failed to display Jupyter Widget of type <code>HBox</code>.</p>\n",
       "<p>\n",
       "  If you're reading this message in the Jupyter Notebook or JupyterLab Notebook, it may mean\n",
       "  that the widgets JavaScript is still loading. If this message persists, it\n",
       "  likely means that the widgets JavaScript library is either not installed or\n",
       "  not enabled. See the <a href=\"https://ipywidgets.readthedocs.io/en/stable/user_install.html\">Jupyter\n",
       "  Widgets Documentation</a> for setup instructions.\n",
       "</p>\n",
       "<p>\n",
       "  If you're reading this message in another frontend (for example, a static\n",
       "  rendering on GitHub or <a href=\"https://nbviewer.jupyter.org/\">NBViewer</a>),\n",
       "  it may mean that your frontend doesn't currently support widgets.\n",
       "</p>\n"
      ],
      "text/plain": [
       "HBox(children=(IntProgress(value=0, max=10), HTML(value='')))"
      ]
     },
     "metadata": {},
     "output_type": "display_data"
    },
    {
     "name": "stdout",
     "output_type": "stream",
     "text": [
      "\n",
      "TRECDataset-ENTY\n",
      "Train precision 0.7880697332493174 0.7880697332493174 0.7880697332493174\n",
      "Valid precision 0.788235294117647 0.788235294117647 0.788235294117647\n",
      "Test precision 0.7802013422818792 0.7802013422818792 0.7802013422818792\n"
     ]
    },
    {
     "data": {
      "application/vnd.jupyter.widget-view+json": {
       "model_id": "43d830d4ab674afaaf860bd3fb84115e",
       "version_major": 2,
       "version_minor": 0
      },
      "text/html": [
       "<p>Failed to display Jupyter Widget of type <code>HBox</code>.</p>\n",
       "<p>\n",
       "  If you're reading this message in the Jupyter Notebook or JupyterLab Notebook, it may mean\n",
       "  that the widgets JavaScript is still loading. If this message persists, it\n",
       "  likely means that the widgets JavaScript library is either not installed or\n",
       "  not enabled. See the <a href=\"https://ipywidgets.readthedocs.io/en/stable/user_install.html\">Jupyter\n",
       "  Widgets Documentation</a> for setup instructions.\n",
       "</p>\n",
       "<p>\n",
       "  If you're reading this message in another frontend (for example, a static\n",
       "  rendering on GitHub or <a href=\"https://nbviewer.jupyter.org/\">NBViewer</a>),\n",
       "  it may mean that your frontend doesn't currently support widgets.\n",
       "</p>\n"
      ],
      "text/plain": [
       "HBox(children=(IntProgress(value=0, max=10), HTML(value='')))"
      ]
     },
     "metadata": {},
     "output_type": "display_data"
    },
    {
     "name": "stdout",
     "output_type": "stream",
     "text": [
      "\n",
      "TRECDataset-ENTY\n",
      "Train precision 0.939928586431422 0.9399285864314221 0.939928586431422\n",
      "Valid precision 0.8588235294117648 0.8588235294117649 0.8588235294117648\n",
      "Test precision 0.837248322147651 0.8372483221476511 0.837248322147651\n"
     ]
    },
    {
     "data": {
      "application/vnd.jupyter.widget-view+json": {
       "model_id": "c2a85560b6c54d45b236a9d335fa0218",
       "version_major": 2,
       "version_minor": 0
      },
      "text/html": [
       "<p>Failed to display Jupyter Widget of type <code>HBox</code>.</p>\n",
       "<p>\n",
       "  If you're reading this message in the Jupyter Notebook or JupyterLab Notebook, it may mean\n",
       "  that the widgets JavaScript is still loading. If this message persists, it\n",
       "  likely means that the widgets JavaScript library is either not installed or\n",
       "  not enabled. See the <a href=\"https://ipywidgets.readthedocs.io/en/stable/user_install.html\">Jupyter\n",
       "  Widgets Documentation</a> for setup instructions.\n",
       "</p>\n",
       "<p>\n",
       "  If you're reading this message in another frontend (for example, a static\n",
       "  rendering on GitHub or <a href=\"https://nbviewer.jupyter.org/\">NBViewer</a>),\n",
       "  it may mean that your frontend doesn't currently support widgets.\n",
       "</p>\n"
      ],
      "text/plain": [
       "HBox(children=(IntProgress(value=0, max=10), HTML(value='')))"
      ]
     },
     "metadata": {},
     "output_type": "display_data"
    },
    {
     "name": "stdout",
     "output_type": "stream",
     "text": [
      "\n",
      "TRECDataset-ENTY\n",
      "Train precision 0.9090527200168032 0.9090527200168032 0.9090527200168032\n",
      "Valid precision 0.8369747899159664 0.8369747899159664 0.8369747899159664\n",
      "Test precision 0.8338926174496644 0.8338926174496644 0.8338926174496644\n"
     ]
    },
    {
     "data": {
      "application/vnd.jupyter.widget-view+json": {
       "model_id": "efc5266e15274cd18f58f23cd2e3a624",
       "version_major": 2,
       "version_minor": 0
      },
      "text/html": [
       "<p>Failed to display Jupyter Widget of type <code>HBox</code>.</p>\n",
       "<p>\n",
       "  If you're reading this message in the Jupyter Notebook or JupyterLab Notebook, it may mean\n",
       "  that the widgets JavaScript is still loading. If this message persists, it\n",
       "  likely means that the widgets JavaScript library is either not installed or\n",
       "  not enabled. See the <a href=\"https://ipywidgets.readthedocs.io/en/stable/user_install.html\">Jupyter\n",
       "  Widgets Documentation</a> for setup instructions.\n",
       "</p>\n",
       "<p>\n",
       "  If you're reading this message in another frontend (for example, a static\n",
       "  rendering on GitHub or <a href=\"https://nbviewer.jupyter.org/\">NBViewer</a>),\n",
       "  it may mean that your frontend doesn't currently support widgets.\n",
       "</p>\n"
      ],
      "text/plain": [
       "HBox(children=(IntProgress(value=0, max=10), HTML(value='')))"
      ]
     },
     "metadata": {},
     "output_type": "display_data"
    },
    {
     "name": "stdout",
     "output_type": "stream",
     "text": [
      "\n",
      "TRECDataset-NUM\n",
      "Train precision 0.9884478050829658 0.9884478050829658 0.9884478050829658\n",
      "Valid precision 0.9697478991596639 0.9697478991596638 0.9697478991596639\n",
      "Test precision 0.9597315436241611 0.959731543624161 0.9597315436241611\n"
     ]
    },
    {
     "data": {
      "application/vnd.jupyter.widget-view+json": {
       "model_id": "81b34080694a4af3be6da65a2bad947e",
       "version_major": 2,
       "version_minor": 0
      },
      "text/html": [
       "<p>Failed to display Jupyter Widget of type <code>HBox</code>.</p>\n",
       "<p>\n",
       "  If you're reading this message in the Jupyter Notebook or JupyterLab Notebook, it may mean\n",
       "  that the widgets JavaScript is still loading. If this message persists, it\n",
       "  likely means that the widgets JavaScript library is either not installed or\n",
       "  not enabled. See the <a href=\"https://ipywidgets.readthedocs.io/en/stable/user_install.html\">Jupyter\n",
       "  Widgets Documentation</a> for setup instructions.\n",
       "</p>\n",
       "<p>\n",
       "  If you're reading this message in another frontend (for example, a static\n",
       "  rendering on GitHub or <a href=\"https://nbviewer.jupyter.org/\">NBViewer</a>),\n",
       "  it may mean that your frontend doesn't currently support widgets.\n",
       "</p>\n"
      ],
      "text/plain": [
       "HBox(children=(IntProgress(value=0, max=10), HTML(value='')))"
      ]
     },
     "metadata": {},
     "output_type": "display_data"
    },
    {
     "name": "stdout",
     "output_type": "stream",
     "text": [
      "\n",
      "TRECDataset-NUM\n",
      "Train precision 1.0 1.0 1.0\n",
      "Valid precision 0.9798319327731092 0.9798319327731091 0.9798319327731092\n",
      "Test precision 0.9697986577181208 0.9697986577181208 0.9697986577181208\n"
     ]
    },
    {
     "data": {
      "application/vnd.jupyter.widget-view+json": {
       "model_id": "5e938986d4d14e76a67ef90cfb4a3583",
       "version_major": 2,
       "version_minor": 0
      },
      "text/html": [
       "<p>Failed to display Jupyter Widget of type <code>HBox</code>.</p>\n",
       "<p>\n",
       "  If you're reading this message in the Jupyter Notebook or JupyterLab Notebook, it may mean\n",
       "  that the widgets JavaScript is still loading. If this message persists, it\n",
       "  likely means that the widgets JavaScript library is either not installed or\n",
       "  not enabled. See the <a href=\"https://ipywidgets.readthedocs.io/en/stable/user_install.html\">Jupyter\n",
       "  Widgets Documentation</a> for setup instructions.\n",
       "</p>\n",
       "<p>\n",
       "  If you're reading this message in another frontend (for example, a static\n",
       "  rendering on GitHub or <a href=\"https://nbviewer.jupyter.org/\">NBViewer</a>),\n",
       "  it may mean that your frontend doesn't currently support widgets.\n",
       "</p>\n"
      ],
      "text/plain": [
       "HBox(children=(IntProgress(value=0, max=10), HTML(value='')))"
      ]
     },
     "metadata": {},
     "output_type": "display_data"
    },
    {
     "name": "stdout",
     "output_type": "stream",
     "text": [
      "\n",
      "TRECDataset-NUM\n",
      "Train precision 0.9220751942869145 0.9220751942869146 0.9220751942869145\n",
      "Valid precision 0.9294117647058824 0.9294117647058824 0.9294117647058824\n",
      "Test precision 0.9278523489932886 0.9278523489932887 0.9278523489932886\n"
     ]
    },
    {
     "data": {
      "application/vnd.jupyter.widget-view+json": {
       "model_id": "92117bfe8a0d4451ba2046db7d48e31d",
       "version_major": 2,
       "version_minor": 0
      },
      "text/html": [
       "<p>Failed to display Jupyter Widget of type <code>HBox</code>.</p>\n",
       "<p>\n",
       "  If you're reading this message in the Jupyter Notebook or JupyterLab Notebook, it may mean\n",
       "  that the widgets JavaScript is still loading. If this message persists, it\n",
       "  likely means that the widgets JavaScript library is either not installed or\n",
       "  not enabled. See the <a href=\"https://ipywidgets.readthedocs.io/en/stable/user_install.html\">Jupyter\n",
       "  Widgets Documentation</a> for setup instructions.\n",
       "</p>\n",
       "<p>\n",
       "  If you're reading this message in another frontend (for example, a static\n",
       "  rendering on GitHub or <a href=\"https://nbviewer.jupyter.org/\">NBViewer</a>),\n",
       "  it may mean that your frontend doesn't currently support widgets.\n",
       "</p>\n"
      ],
      "text/plain": [
       "HBox(children=(IntProgress(value=0, max=10), HTML(value='')))"
      ]
     },
     "metadata": {},
     "output_type": "display_data"
    },
    {
     "name": "stdout",
     "output_type": "stream",
     "text": [
      "\n",
      "TRECDataset-NUM\n",
      "Train precision 0.9332073093887838 0.9332073093887839 0.9332073093887838\n",
      "Valid precision 0.9445378151260504 0.9445378151260504 0.9445378151260504\n",
      "Test precision 0.9362416107382551 0.9362416107382551 0.9362416107382551\n"
     ]
    },
    {
     "data": {
      "application/vnd.jupyter.widget-view+json": {
       "model_id": "b8f837b0981542ecac91ccffca5ad337",
       "version_major": 2,
       "version_minor": 0
      },
      "text/html": [
       "<p>Failed to display Jupyter Widget of type <code>HBox</code>.</p>\n",
       "<p>\n",
       "  If you're reading this message in the Jupyter Notebook or JupyterLab Notebook, it may mean\n",
       "  that the widgets JavaScript is still loading. If this message persists, it\n",
       "  likely means that the widgets JavaScript library is either not installed or\n",
       "  not enabled. See the <a href=\"https://ipywidgets.readthedocs.io/en/stable/user_install.html\">Jupyter\n",
       "  Widgets Documentation</a> for setup instructions.\n",
       "</p>\n",
       "<p>\n",
       "  If you're reading this message in another frontend (for example, a static\n",
       "  rendering on GitHub or <a href=\"https://nbviewer.jupyter.org/\">NBViewer</a>),\n",
       "  it may mean that your frontend doesn't currently support widgets.\n",
       "</p>\n"
      ],
      "text/plain": [
       "HBox(children=(IntProgress(value=0, max=10), HTML(value='')))"
      ]
     },
     "metadata": {},
     "output_type": "display_data"
    },
    {
     "name": "stdout",
     "output_type": "stream",
     "text": [
      "\n",
      "TRECDataset-NUM\n",
      "Train precision 0.9332073093887838 0.9332073093887839 0.9332073093887838\n",
      "Valid precision 0.9445378151260504 0.9445378151260504 0.9445378151260504\n",
      "Test precision 0.9362416107382551 0.9362416107382551 0.9362416107382551\n"
     ]
    },
    {
     "data": {
      "application/vnd.jupyter.widget-view+json": {
       "model_id": "3419319c868442409a6c371e62afbc85",
       "version_major": 2,
       "version_minor": 0
      },
      "text/html": [
       "<p>Failed to display Jupyter Widget of type <code>HBox</code>.</p>\n",
       "<p>\n",
       "  If you're reading this message in the Jupyter Notebook or JupyterLab Notebook, it may mean\n",
       "  that the widgets JavaScript is still loading. If this message persists, it\n",
       "  likely means that the widgets JavaScript library is either not installed or\n",
       "  not enabled. See the <a href=\"https://ipywidgets.readthedocs.io/en/stable/user_install.html\">Jupyter\n",
       "  Widgets Documentation</a> for setup instructions.\n",
       "</p>\n",
       "<p>\n",
       "  If you're reading this message in another frontend (for example, a static\n",
       "  rendering on GitHub or <a href=\"https://nbviewer.jupyter.org/\">NBViewer</a>),\n",
       "  it may mean that your frontend doesn't currently support widgets.\n",
       "</p>\n"
      ],
      "text/plain": [
       "HBox(children=(IntProgress(value=0, max=10), HTML(value='')))"
      ]
     },
     "metadata": {},
     "output_type": "display_data"
    },
    {
     "name": "stdout",
     "output_type": "stream",
     "text": [
      "\n",
      "TRECDataset-NUM\n",
      "Train precision 0.9701743331232934 0.9701743331232933 0.9701743331232934\n",
      "Valid precision 0.9697478991596639 0.9697478991596638 0.9697478991596639\n",
      "Test precision 0.9597315436241611 0.959731543624161 0.9597315436241611\n"
     ]
    },
    {
     "data": {
      "application/vnd.jupyter.widget-view+json": {
       "model_id": "f0ace54f87cb4ba38b2fed9c5b9234d3",
       "version_major": 2,
       "version_minor": 0
      },
      "text/html": [
       "<p>Failed to display Jupyter Widget of type <code>HBox</code>.</p>\n",
       "<p>\n",
       "  If you're reading this message in the Jupyter Notebook or JupyterLab Notebook, it may mean\n",
       "  that the widgets JavaScript is still loading. If this message persists, it\n",
       "  likely means that the widgets JavaScript library is either not installed or\n",
       "  not enabled. See the <a href=\"https://ipywidgets.readthedocs.io/en/stable/user_install.html\">Jupyter\n",
       "  Widgets Documentation</a> for setup instructions.\n",
       "</p>\n",
       "<p>\n",
       "  If you're reading this message in another frontend (for example, a static\n",
       "  rendering on GitHub or <a href=\"https://nbviewer.jupyter.org/\">NBViewer</a>),\n",
       "  it may mean that your frontend doesn't currently support widgets.\n",
       "</p>\n"
      ],
      "text/plain": [
       "HBox(children=(IntProgress(value=0, max=10), HTML(value='')))"
      ]
     },
     "metadata": {},
     "output_type": "display_data"
    },
    {
     "name": "stdout",
     "output_type": "stream",
     "text": [
      "\n",
      "TRECDataset-NUM\n",
      "Train precision 0.9554715395925226 0.9554715395925226 0.9554715395925226\n",
      "Valid precision 0.9647058823529412 0.9647058823529411 0.9647058823529412\n",
      "Test precision 0.947986577181208 0.9479865771812082 0.947986577181208\n"
     ]
    }
   ],
   "source": [
    "for dataset in datasets.ALL_DATASETS+datasets.TREC_DATASETS:\n",
    "    for sheme in SimpleModel.SCHEMES:\n",
    "        model = SimpleModel(classify.SkClassifier(), use_svd=False, weights=sheme)\n",
    "        test_simple_model(model, dataset, 10, 'logistic__'+sheme, results, dump)"
   ]
  },
  {
   "cell_type": "code",
   "execution_count": null,
   "metadata": {},
   "outputs": [
    {
     "name": "stdout",
     "output_type": "stream",
     "text": [
      "CRDataset None 200\n"
     ]
    },
    {
     "data": {
      "application/vnd.jupyter.widget-view+json": {
       "model_id": "8184e6578c4a47beb2804b9a6dbdcda7",
       "version_major": 2,
       "version_minor": 0
      },
      "text/html": [
       "<p>Failed to display Jupyter Widget of type <code>HBox</code>.</p>\n",
       "<p>\n",
       "  If you're reading this message in the Jupyter Notebook or JupyterLab Notebook, it may mean\n",
       "  that the widgets JavaScript is still loading. If this message persists, it\n",
       "  likely means that the widgets JavaScript library is either not installed or\n",
       "  not enabled. See the <a href=\"https://ipywidgets.readthedocs.io/en/stable/user_install.html\">Jupyter\n",
       "  Widgets Documentation</a> for setup instructions.\n",
       "</p>\n",
       "<p>\n",
       "  If you're reading this message in another frontend (for example, a static\n",
       "  rendering on GitHub or <a href=\"https://nbviewer.jupyter.org/\">NBViewer</a>),\n",
       "  it may mean that your frontend doesn't currently support widgets.\n",
       "</p>\n"
      ],
      "text/plain": [
       "HBox(children=(IntProgress(value=0, max=10), HTML(value='')))"
      ]
     },
     "metadata": {},
     "output_type": "display_data"
    },
    {
     "name": "stdout",
     "output_type": "stream",
     "text": [
      "\n",
      "CRDataset\n",
      "Train precision 0.7990066225165563 0.7999337748344371 0.8006622516556291\n",
      "Valid precision 0.7639257294429709 0.7671087533156499 0.7692307692307692\n",
      "Test precision 0.7301587301587302 0.7304232804232804 0.7328042328042328\n",
      "CRDataset None 300\n"
     ]
    },
    {
     "data": {
      "application/vnd.jupyter.widget-view+json": {
       "model_id": "bf94245645884f0092044ce0939aaf65",
       "version_major": 2,
       "version_minor": 0
      },
      "text/html": [
       "<p>Failed to display Jupyter Widget of type <code>HBox</code>.</p>\n",
       "<p>\n",
       "  If you're reading this message in the Jupyter Notebook or JupyterLab Notebook, it may mean\n",
       "  that the widgets JavaScript is still loading. If this message persists, it\n",
       "  likely means that the widgets JavaScript library is either not installed or\n",
       "  not enabled. See the <a href=\"https://ipywidgets.readthedocs.io/en/stable/user_install.html\">Jupyter\n",
       "  Widgets Documentation</a> for setup instructions.\n",
       "</p>\n",
       "<p>\n",
       "  If you're reading this message in another frontend (for example, a static\n",
       "  rendering on GitHub or <a href=\"https://nbviewer.jupyter.org/\">NBViewer</a>),\n",
       "  it may mean that your frontend doesn't currently support widgets.\n",
       "</p>\n"
      ],
      "text/plain": [
       "HBox(children=(IntProgress(value=0, max=10), HTML(value='')))"
      ]
     },
     "metadata": {},
     "output_type": "display_data"
    },
    {
     "name": "stdout",
     "output_type": "stream",
     "text": [
      "\n",
      "CRDataset\n",
      "Train precision 0.8039735099337748 0.8049337748344371 0.8056291390728477\n",
      "Valid precision 0.7586206896551724 0.7623342175066312 0.7639257294429709\n",
      "Test precision 0.7407407407407407 0.7433862433862435 0.746031746031746\n",
      "CRDataset None 400\n"
     ]
    },
    {
     "data": {
      "application/vnd.jupyter.widget-view+json": {
       "model_id": "74149fb670814b0ca3b8fefe23450147",
       "version_major": 2,
       "version_minor": 0
      },
      "text/html": [
       "<p>Failed to display Jupyter Widget of type <code>HBox</code>.</p>\n",
       "<p>\n",
       "  If you're reading this message in the Jupyter Notebook or JupyterLab Notebook, it may mean\n",
       "  that the widgets JavaScript is still loading. If this message persists, it\n",
       "  likely means that the widgets JavaScript library is either not installed or\n",
       "  not enabled. See the <a href=\"https://ipywidgets.readthedocs.io/en/stable/user_install.html\">Jupyter\n",
       "  Widgets Documentation</a> for setup instructions.\n",
       "</p>\n",
       "<p>\n",
       "  If you're reading this message in another frontend (for example, a static\n",
       "  rendering on GitHub or <a href=\"https://nbviewer.jupyter.org/\">NBViewer</a>),\n",
       "  it may mean that your frontend doesn't currently support widgets.\n",
       "</p>\n"
      ],
      "text/plain": [
       "HBox(children=(IntProgress(value=0, max=10), HTML(value='')))"
      ]
     },
     "metadata": {},
     "output_type": "display_data"
    },
    {
     "name": "stdout",
     "output_type": "stream",
     "text": [
      "\n",
      "CRDataset\n",
      "Train precision 0.8056291390728477 0.8071523178807947 0.8082781456953643\n",
      "Valid precision 0.7639257294429709 0.7649867374005306 0.7692307692307692\n",
      "Test precision 0.7433862433862434 0.7444444444444445 0.746031746031746\n",
      "CRDataset tfidf 200\n"
     ]
    },
    {
     "data": {
      "application/vnd.jupyter.widget-view+json": {
       "model_id": "4e665328194141de9dd13acac2ef394c",
       "version_major": 2,
       "version_minor": 0
      },
      "text/html": [
       "<p>Failed to display Jupyter Widget of type <code>HBox</code>.</p>\n",
       "<p>\n",
       "  If you're reading this message in the Jupyter Notebook or JupyterLab Notebook, it may mean\n",
       "  that the widgets JavaScript is still loading. If this message persists, it\n",
       "  likely means that the widgets JavaScript library is either not installed or\n",
       "  not enabled. See the <a href=\"https://ipywidgets.readthedocs.io/en/stable/user_install.html\">Jupyter\n",
       "  Widgets Documentation</a> for setup instructions.\n",
       "</p>\n",
       "<p>\n",
       "  If you're reading this message in another frontend (for example, a static\n",
       "  rendering on GitHub or <a href=\"https://nbviewer.jupyter.org/\">NBViewer</a>),\n",
       "  it may mean that your frontend doesn't currently support widgets.\n",
       "</p>\n"
      ],
      "text/plain": [
       "HBox(children=(IntProgress(value=0, max=10), HTML(value='')))"
      ]
     },
     "metadata": {},
     "output_type": "display_data"
    },
    {
     "name": "stdout",
     "output_type": "stream",
     "text": [
      "\n",
      "CRDataset\n",
      "Train precision 0.7993377483443709 0.7998013245033113 0.8\n",
      "Valid precision 0.7639257294429709 0.7649867374005306 0.7692307692307692\n",
      "Test precision 0.7301587301587302 0.7304232804232804 0.7328042328042328\n",
      "CRDataset tfidf 300\n"
     ]
    },
    {
     "data": {
      "application/vnd.jupyter.widget-view+json": {
       "model_id": "6d882d7db337490a872b0fb7bec08c70",
       "version_major": 2,
       "version_minor": 0
      },
      "text/html": [
       "<p>Failed to display Jupyter Widget of type <code>HBox</code>.</p>\n",
       "<p>\n",
       "  If you're reading this message in the Jupyter Notebook or JupyterLab Notebook, it may mean\n",
       "  that the widgets JavaScript is still loading. If this message persists, it\n",
       "  likely means that the widgets JavaScript library is either not installed or\n",
       "  not enabled. See the <a href=\"https://ipywidgets.readthedocs.io/en/stable/user_install.html\">Jupyter\n",
       "  Widgets Documentation</a> for setup instructions.\n",
       "</p>\n",
       "<p>\n",
       "  If you're reading this message in another frontend (for example, a static\n",
       "  rendering on GitHub or <a href=\"https://nbviewer.jupyter.org/\">NBViewer</a>),\n",
       "  it may mean that your frontend doesn't currently support widgets.\n",
       "</p>\n"
      ],
      "text/plain": [
       "HBox(children=(IntProgress(value=0, max=10), HTML(value='')))"
      ]
     },
     "metadata": {},
     "output_type": "display_data"
    },
    {
     "name": "stdout",
     "output_type": "stream",
     "text": [
      "\n",
      "CRDataset\n",
      "Train precision 0.804635761589404 0.8054635761589404 0.8066225165562914\n",
      "Valid precision 0.7586206896551724 0.7615384615384615 0.7639257294429709\n",
      "Test precision 0.7407407407407407 0.7439153439153439 0.746031746031746\n",
      "CRDataset tfidf 400\n"
     ]
    },
    {
     "data": {
      "application/vnd.jupyter.widget-view+json": {
       "model_id": "ee1644fef04542e8998196a129325cc3",
       "version_major": 2,
       "version_minor": 0
      },
      "text/html": [
       "<p>Failed to display Jupyter Widget of type <code>HBox</code>.</p>\n",
       "<p>\n",
       "  If you're reading this message in the Jupyter Notebook or JupyterLab Notebook, it may mean\n",
       "  that the widgets JavaScript is still loading. If this message persists, it\n",
       "  likely means that the widgets JavaScript library is either not installed or\n",
       "  not enabled. See the <a href=\"https://ipywidgets.readthedocs.io/en/stable/user_install.html\">Jupyter\n",
       "  Widgets Documentation</a> for setup instructions.\n",
       "</p>\n",
       "<p>\n",
       "  If you're reading this message in another frontend (for example, a static\n",
       "  rendering on GitHub or <a href=\"https://nbviewer.jupyter.org/\">NBViewer</a>),\n",
       "  it may mean that your frontend doesn't currently support widgets.\n",
       "</p>\n"
      ],
      "text/plain": [
       "HBox(children=(IntProgress(value=0, max=10), HTML(value='')))"
      ]
     },
     "metadata": {},
     "output_type": "display_data"
    },
    {
     "name": "stdout",
     "output_type": "stream",
     "text": [
      "\n",
      "CRDataset\n",
      "Train precision 0.8059602649006623 0.8067549668874172 0.8079470198675497\n",
      "Valid precision 0.7612732095490716 0.7641909814323607 0.76657824933687\n",
      "Test precision 0.7433862433862434 0.7444444444444445 0.746031746031746\n",
      "CRDataset tfchi2 200\n"
     ]
    },
    {
     "data": {
      "application/vnd.jupyter.widget-view+json": {
       "model_id": "af48ffa7f2974cdd8261ec0533f3bb9c",
       "version_major": 2,
       "version_minor": 0
      },
      "text/html": [
       "<p>Failed to display Jupyter Widget of type <code>HBox</code>.</p>\n",
       "<p>\n",
       "  If you're reading this message in the Jupyter Notebook or JupyterLab Notebook, it may mean\n",
       "  that the widgets JavaScript is still loading. If this message persists, it\n",
       "  likely means that the widgets JavaScript library is either not installed or\n",
       "  not enabled. See the <a href=\"https://ipywidgets.readthedocs.io/en/stable/user_install.html\">Jupyter\n",
       "  Widgets Documentation</a> for setup instructions.\n",
       "</p>\n",
       "<p>\n",
       "  If you're reading this message in another frontend (for example, a static\n",
       "  rendering on GitHub or <a href=\"https://nbviewer.jupyter.org/\">NBViewer</a>),\n",
       "  it may mean that your frontend doesn't currently support widgets.\n",
       "</p>\n"
      ],
      "text/plain": [
       "HBox(children=(IntProgress(value=0, max=10), HTML(value='')))"
      ]
     },
     "metadata": {},
     "output_type": "display_data"
    },
    {
     "name": "stdout",
     "output_type": "stream",
     "text": [
      "\n",
      "CRDataset\n",
      "Train precision 0.7993377483443709 0.7999006622516557 0.8009933774834437\n",
      "Valid precision 0.7639257294429709 0.76631299734748 0.7692307692307692\n",
      "Test precision 0.7301587301587302 0.7301587301587302 0.7301587301587302\n",
      "CRDataset tfchi2 300\n"
     ]
    },
    {
     "data": {
      "application/vnd.jupyter.widget-view+json": {
       "model_id": "0fc635507ff743c6a2619e9d331bdceb",
       "version_major": 2,
       "version_minor": 0
      },
      "text/html": [
       "<p>Failed to display Jupyter Widget of type <code>HBox</code>.</p>\n",
       "<p>\n",
       "  If you're reading this message in the Jupyter Notebook or JupyterLab Notebook, it may mean\n",
       "  that the widgets JavaScript is still loading. If this message persists, it\n",
       "  likely means that the widgets JavaScript library is either not installed or\n",
       "  not enabled. See the <a href=\"https://ipywidgets.readthedocs.io/en/stable/user_install.html\">Jupyter\n",
       "  Widgets Documentation</a> for setup instructions.\n",
       "</p>\n",
       "<p>\n",
       "  If you're reading this message in another frontend (for example, a static\n",
       "  rendering on GitHub or <a href=\"https://nbviewer.jupyter.org/\">NBViewer</a>),\n",
       "  it may mean that your frontend doesn't currently support widgets.\n",
       "</p>\n"
      ],
      "text/plain": [
       "HBox(children=(IntProgress(value=0, max=10), HTML(value='')))"
      ]
     },
     "metadata": {},
     "output_type": "display_data"
    },
    {
     "name": "stdout",
     "output_type": "stream",
     "text": [
      "\n",
      "CRDataset\n",
      "Train precision 0.804635761589404 0.8053642384105961 0.8066225165562914\n",
      "Valid precision 0.7586206896551724 0.7607427055702918 0.7639257294429709\n",
      "Test precision 0.7433862433862434 0.7447089947089948 0.7486772486772486\n",
      "CRDataset tfchi2 400\n"
     ]
    },
    {
     "data": {
      "application/vnd.jupyter.widget-view+json": {
       "model_id": "96b835f1b932464dbdc5a6043b360706",
       "version_major": 2,
       "version_minor": 0
      },
      "text/html": [
       "<p>Failed to display Jupyter Widget of type <code>HBox</code>.</p>\n",
       "<p>\n",
       "  If you're reading this message in the Jupyter Notebook or JupyterLab Notebook, it may mean\n",
       "  that the widgets JavaScript is still loading. If this message persists, it\n",
       "  likely means that the widgets JavaScript library is either not installed or\n",
       "  not enabled. See the <a href=\"https://ipywidgets.readthedocs.io/en/stable/user_install.html\">Jupyter\n",
       "  Widgets Documentation</a> for setup instructions.\n",
       "</p>\n",
       "<p>\n",
       "  If you're reading this message in another frontend (for example, a static\n",
       "  rendering on GitHub or <a href=\"https://nbviewer.jupyter.org/\">NBViewer</a>),\n",
       "  it may mean that your frontend doesn't currently support widgets.\n",
       "</p>\n"
      ],
      "text/plain": [
       "HBox(children=(IntProgress(value=0, max=10), HTML(value='')))"
      ]
     },
     "metadata": {},
     "output_type": "display_data"
    },
    {
     "name": "stdout",
     "output_type": "stream",
     "text": [
      "\n",
      "CRDataset\n",
      "Train precision 0.8059602649006623 0.8067549668874172 0.8086092715231787\n",
      "Valid precision 0.7612732095490716 0.7636604774535809 0.76657824933687\n",
      "Test precision 0.7433862433862434 0.7441798941798943 0.746031746031746\n",
      "CRDataset tfig 200\n"
     ]
    },
    {
     "data": {
      "application/vnd.jupyter.widget-view+json": {
       "model_id": "aa72b8f5f5ab4d7c97979ec327962ac6",
       "version_major": 2,
       "version_minor": 0
      },
      "text/html": [
       "<p>Failed to display Jupyter Widget of type <code>HBox</code>.</p>\n",
       "<p>\n",
       "  If you're reading this message in the Jupyter Notebook or JupyterLab Notebook, it may mean\n",
       "  that the widgets JavaScript is still loading. If this message persists, it\n",
       "  likely means that the widgets JavaScript library is either not installed or\n",
       "  not enabled. See the <a href=\"https://ipywidgets.readthedocs.io/en/stable/user_install.html\">Jupyter\n",
       "  Widgets Documentation</a> for setup instructions.\n",
       "</p>\n",
       "<p>\n",
       "  If you're reading this message in another frontend (for example, a static\n",
       "  rendering on GitHub or <a href=\"https://nbviewer.jupyter.org/\">NBViewer</a>),\n",
       "  it may mean that your frontend doesn't currently support widgets.\n",
       "</p>\n"
      ],
      "text/plain": [
       "HBox(children=(IntProgress(value=0, max=10), HTML(value='')))"
      ]
     },
     "metadata": {},
     "output_type": "display_data"
    },
    {
     "name": "stdout",
     "output_type": "stream",
     "text": [
      "\n",
      "CRDataset\n",
      "Train precision 0.7990066225165563 0.8000331125827815 0.8009933774834437\n",
      "Valid precision 0.7639257294429709 0.7668435013262599 0.7718832891246684\n",
      "Test precision 0.7301587301587302 0.7301587301587302 0.7301587301587302\n",
      "CRDataset tfig 300\n"
     ]
    },
    {
     "data": {
      "application/vnd.jupyter.widget-view+json": {
       "model_id": "5398a49c090b4522915b9a6317f982b2",
       "version_major": 2,
       "version_minor": 0
      },
      "text/html": [
       "<p>Failed to display Jupyter Widget of type <code>HBox</code>.</p>\n",
       "<p>\n",
       "  If you're reading this message in the Jupyter Notebook or JupyterLab Notebook, it may mean\n",
       "  that the widgets JavaScript is still loading. If this message persists, it\n",
       "  likely means that the widgets JavaScript library is either not installed or\n",
       "  not enabled. See the <a href=\"https://ipywidgets.readthedocs.io/en/stable/user_install.html\">Jupyter\n",
       "  Widgets Documentation</a> for setup instructions.\n",
       "</p>\n",
       "<p>\n",
       "  If you're reading this message in another frontend (for example, a static\n",
       "  rendering on GitHub or <a href=\"https://nbviewer.jupyter.org/\">NBViewer</a>),\n",
       "  it may mean that your frontend doesn't currently support widgets.\n",
       "</p>\n"
      ],
      "text/plain": [
       "HBox(children=(IntProgress(value=0, max=10), HTML(value='')))"
      ]
     },
     "metadata": {},
     "output_type": "display_data"
    },
    {
     "name": "stdout",
     "output_type": "stream",
     "text": [
      "\n",
      "CRDataset\n",
      "Train precision 0.8036423841059602 0.8049668874172186 0.8066225165562914\n",
      "Valid precision 0.7586206896551724 0.7612732095490716 0.7639257294429709\n",
      "Test precision 0.7407407407407407 0.7433862433862435 0.746031746031746\n",
      "CRDataset tfig 400\n"
     ]
    },
    {
     "data": {
      "application/vnd.jupyter.widget-view+json": {
       "model_id": "d9b258e9227c4c4c8b042a7300a6b2ad",
       "version_major": 2,
       "version_minor": 0
      },
      "text/html": [
       "<p>Failed to display Jupyter Widget of type <code>HBox</code>.</p>\n",
       "<p>\n",
       "  If you're reading this message in the Jupyter Notebook or JupyterLab Notebook, it may mean\n",
       "  that the widgets JavaScript is still loading. If this message persists, it\n",
       "  likely means that the widgets JavaScript library is either not installed or\n",
       "  not enabled. See the <a href=\"https://ipywidgets.readthedocs.io/en/stable/user_install.html\">Jupyter\n",
       "  Widgets Documentation</a> for setup instructions.\n",
       "</p>\n",
       "<p>\n",
       "  If you're reading this message in another frontend (for example, a static\n",
       "  rendering on GitHub or <a href=\"https://nbviewer.jupyter.org/\">NBViewer</a>),\n",
       "  it may mean that your frontend doesn't currently support widgets.\n",
       "</p>\n"
      ],
      "text/plain": [
       "HBox(children=(IntProgress(value=0, max=10), HTML(value='')))"
      ]
     },
     "metadata": {},
     "output_type": "display_data"
    },
    {
     "name": "stdout",
     "output_type": "stream",
     "text": [
      "\n",
      "CRDataset\n",
      "Train precision 0.8066225165562914 0.807185430463576 0.8086092715231787\n",
      "Valid precision 0.7612732095490716 0.7657824933687003 0.7692307692307692\n",
      "Test precision 0.7407407407407407 0.7441798941798942 0.746031746031746\n",
      "CRDataset tfgr 200\n"
     ]
    },
    {
     "data": {
      "application/vnd.jupyter.widget-view+json": {
       "model_id": "a3473d126cdd446697df77ee3147166e",
       "version_major": 2,
       "version_minor": 0
      },
      "text/html": [
       "<p>Failed to display Jupyter Widget of type <code>HBox</code>.</p>\n",
       "<p>\n",
       "  If you're reading this message in the Jupyter Notebook or JupyterLab Notebook, it may mean\n",
       "  that the widgets JavaScript is still loading. If this message persists, it\n",
       "  likely means that the widgets JavaScript library is either not installed or\n",
       "  not enabled. See the <a href=\"https://ipywidgets.readthedocs.io/en/stable/user_install.html\">Jupyter\n",
       "  Widgets Documentation</a> for setup instructions.\n",
       "</p>\n",
       "<p>\n",
       "  If you're reading this message in another frontend (for example, a static\n",
       "  rendering on GitHub or <a href=\"https://nbviewer.jupyter.org/\">NBViewer</a>),\n",
       "  it may mean that your frontend doesn't currently support widgets.\n",
       "</p>\n"
      ],
      "text/plain": [
       "HBox(children=(IntProgress(value=0, max=10), HTML(value='')))"
      ]
     },
     "metadata": {},
     "output_type": "display_data"
    },
    {
     "name": "stdout",
     "output_type": "stream",
     "text": [
      "\n",
      "CRDataset\n",
      "Train precision 0.7993377483443709 0.7999668874172186 0.8009933774834437\n",
      "Valid precision 0.7639257294429709 0.7660477453580901 0.7692307692307692\n",
      "Test precision 0.7301587301587302 0.7306878306878307 0.7354497354497355\n",
      "CRDataset tfgr 300\n"
     ]
    },
    {
     "data": {
      "application/vnd.jupyter.widget-view+json": {
       "model_id": "663f4d8cf8664913a2823b98ea0507a4",
       "version_major": 2,
       "version_minor": 0
      },
      "text/html": [
       "<p>Failed to display Jupyter Widget of type <code>HBox</code>.</p>\n",
       "<p>\n",
       "  If you're reading this message in the Jupyter Notebook or JupyterLab Notebook, it may mean\n",
       "  that the widgets JavaScript is still loading. If this message persists, it\n",
       "  likely means that the widgets JavaScript library is either not installed or\n",
       "  not enabled. See the <a href=\"https://ipywidgets.readthedocs.io/en/stable/user_install.html\">Jupyter\n",
       "  Widgets Documentation</a> for setup instructions.\n",
       "</p>\n",
       "<p>\n",
       "  If you're reading this message in another frontend (for example, a static\n",
       "  rendering on GitHub or <a href=\"https://nbviewer.jupyter.org/\">NBViewer</a>),\n",
       "  it may mean that your frontend doesn't currently support widgets.\n",
       "</p>\n"
      ],
      "text/plain": [
       "HBox(children=(IntProgress(value=0, max=10), HTML(value='')))"
      ]
     },
     "metadata": {},
     "output_type": "display_data"
    },
    {
     "name": "stdout",
     "output_type": "stream",
     "text": [
      "\n",
      "CRDataset\n",
      "Train precision 0.8039735099337748 0.8046026490066225 0.8056291390728477\n",
      "Valid precision 0.7586206896551724 0.7602122015915119 0.7612732095490716\n",
      "Test precision 0.7407407407407407 0.7436507936507937 0.746031746031746\n",
      "CRDataset tfgr 400\n"
     ]
    },
    {
     "data": {
      "application/vnd.jupyter.widget-view+json": {
       "model_id": "f97e17e3545e4874939152a8a665c3d3",
       "version_major": 2,
       "version_minor": 0
      },
      "text/html": [
       "<p>Failed to display Jupyter Widget of type <code>HBox</code>.</p>\n",
       "<p>\n",
       "  If you're reading this message in the Jupyter Notebook or JupyterLab Notebook, it may mean\n",
       "  that the widgets JavaScript is still loading. If this message persists, it\n",
       "  likely means that the widgets JavaScript library is either not installed or\n",
       "  not enabled. See the <a href=\"https://ipywidgets.readthedocs.io/en/stable/user_install.html\">Jupyter\n",
       "  Widgets Documentation</a> for setup instructions.\n",
       "</p>\n",
       "<p>\n",
       "  If you're reading this message in another frontend (for example, a static\n",
       "  rendering on GitHub or <a href=\"https://nbviewer.jupyter.org/\">NBViewer</a>),\n",
       "  it may mean that your frontend doesn't currently support widgets.\n",
       "</p>\n"
      ],
      "text/plain": [
       "HBox(children=(IntProgress(value=0, max=10), HTML(value='')))"
      ]
     },
     "metadata": {},
     "output_type": "display_data"
    },
    {
     "name": "stdout",
     "output_type": "stream",
     "text": [
      "\n",
      "CRDataset\n",
      "Train precision 0.8056291390728477 0.8067880794701987 0.8076158940397351\n",
      "Valid precision 0.7612732095490716 0.7647214854111406 0.7692307692307692\n",
      "Test precision 0.7407407407407407 0.7433862433862434 0.746031746031746\n",
      "CRDataset tfor 200\n"
     ]
    },
    {
     "data": {
      "application/vnd.jupyter.widget-view+json": {
       "model_id": "1f6d7d205ccc4a61a85769a121017409",
       "version_major": 2,
       "version_minor": 0
      },
      "text/html": [
       "<p>Failed to display Jupyter Widget of type <code>HBox</code>.</p>\n",
       "<p>\n",
       "  If you're reading this message in the Jupyter Notebook or JupyterLab Notebook, it may mean\n",
       "  that the widgets JavaScript is still loading. If this message persists, it\n",
       "  likely means that the widgets JavaScript library is either not installed or\n",
       "  not enabled. See the <a href=\"https://ipywidgets.readthedocs.io/en/stable/user_install.html\">Jupyter\n",
       "  Widgets Documentation</a> for setup instructions.\n",
       "</p>\n",
       "<p>\n",
       "  If you're reading this message in another frontend (for example, a static\n",
       "  rendering on GitHub or <a href=\"https://nbviewer.jupyter.org/\">NBViewer</a>),\n",
       "  it may mean that your frontend doesn't currently support widgets.\n",
       "</p>\n"
      ],
      "text/plain": [
       "HBox(children=(IntProgress(value=0, max=10), HTML(value='')))"
      ]
     },
     "metadata": {},
     "output_type": "display_data"
    },
    {
     "name": "stdout",
     "output_type": "stream",
     "text": [
      "\n",
      "CRDataset\n",
      "Train precision 0.7993377483443709 0.8000993377483445 0.8009933774834437\n",
      "Valid precision 0.7639257294429709 0.7660477453580903 0.7718832891246684\n",
      "Test precision 0.7301587301587302 0.7304232804232804 0.7328042328042328\n",
      "CRDataset tfor 300\n"
     ]
    },
    {
     "data": {
      "application/vnd.jupyter.widget-view+json": {
       "model_id": "6e1b4c2b05734fedb2e7b11d4b3ed52d",
       "version_major": 2,
       "version_minor": 0
      },
      "text/html": [
       "<p>Failed to display Jupyter Widget of type <code>HBox</code>.</p>\n",
       "<p>\n",
       "  If you're reading this message in the Jupyter Notebook or JupyterLab Notebook, it may mean\n",
       "  that the widgets JavaScript is still loading. If this message persists, it\n",
       "  likely means that the widgets JavaScript library is either not installed or\n",
       "  not enabled. See the <a href=\"https://ipywidgets.readthedocs.io/en/stable/user_install.html\">Jupyter\n",
       "  Widgets Documentation</a> for setup instructions.\n",
       "</p>\n",
       "<p>\n",
       "  If you're reading this message in another frontend (for example, a static\n",
       "  rendering on GitHub or <a href=\"https://nbviewer.jupyter.org/\">NBViewer</a>),\n",
       "  it may mean that your frontend doesn't currently support widgets.\n",
       "</p>\n"
      ],
      "text/plain": [
       "HBox(children=(IntProgress(value=0, max=10), HTML(value='')))"
      ]
     },
     "metadata": {},
     "output_type": "display_data"
    },
    {
     "name": "stdout",
     "output_type": "stream",
     "text": [
      "\n",
      "CRDataset\n",
      "Train precision 0.8043046357615894 0.8050993377483444 0.8062913907284768\n",
      "Valid precision 0.7586206896551724 0.7612732095490716 0.7639257294429709\n",
      "Test precision 0.7407407407407407 0.7431216931216932 0.746031746031746\n",
      "CRDataset tfor 400\n"
     ]
    },
    {
     "data": {
      "application/vnd.jupyter.widget-view+json": {
       "model_id": "2588b4033ab7441d98b2814158d3514e",
       "version_major": 2,
       "version_minor": 0
      },
      "text/html": [
       "<p>Failed to display Jupyter Widget of type <code>HBox</code>.</p>\n",
       "<p>\n",
       "  If you're reading this message in the Jupyter Notebook or JupyterLab Notebook, it may mean\n",
       "  that the widgets JavaScript is still loading. If this message persists, it\n",
       "  likely means that the widgets JavaScript library is either not installed or\n",
       "  not enabled. See the <a href=\"https://ipywidgets.readthedocs.io/en/stable/user_install.html\">Jupyter\n",
       "  Widgets Documentation</a> for setup instructions.\n",
       "</p>\n",
       "<p>\n",
       "  If you're reading this message in another frontend (for example, a static\n",
       "  rendering on GitHub or <a href=\"https://nbviewer.jupyter.org/\">NBViewer</a>),\n",
       "  it may mean that your frontend doesn't currently support widgets.\n",
       "</p>\n"
      ],
      "text/plain": [
       "HBox(children=(IntProgress(value=0, max=10), HTML(value='')))"
      ]
     },
     "metadata": {},
     "output_type": "display_data"
    },
    {
     "name": "stdout",
     "output_type": "stream",
     "text": [
      "\n",
      "CRDataset\n",
      "Train precision 0.8056291390728477 0.8069205298013244 0.8079470198675497\n",
      "Valid precision 0.7612732095490716 0.7641909814323607 0.7692307692307692\n",
      "Test precision 0.7407407407407407 0.7433862433862435 0.746031746031746\n",
      "CRDataset tfrf 200\n"
     ]
    },
    {
     "data": {
      "application/vnd.jupyter.widget-view+json": {
       "model_id": "2d1b46ee6ed34677824febfe547c39eb",
       "version_major": 2,
       "version_minor": 0
      },
      "text/html": [
       "<p>Failed to display Jupyter Widget of type <code>HBox</code>.</p>\n",
       "<p>\n",
       "  If you're reading this message in the Jupyter Notebook or JupyterLab Notebook, it may mean\n",
       "  that the widgets JavaScript is still loading. If this message persists, it\n",
       "  likely means that the widgets JavaScript library is either not installed or\n",
       "  not enabled. See the <a href=\"https://ipywidgets.readthedocs.io/en/stable/user_install.html\">Jupyter\n",
       "  Widgets Documentation</a> for setup instructions.\n",
       "</p>\n",
       "<p>\n",
       "  If you're reading this message in another frontend (for example, a static\n",
       "  rendering on GitHub or <a href=\"https://nbviewer.jupyter.org/\">NBViewer</a>),\n",
       "  it may mean that your frontend doesn't currently support widgets.\n",
       "</p>\n"
      ],
      "text/plain": [
       "HBox(children=(IntProgress(value=0, max=10), HTML(value='')))"
      ]
     },
     "metadata": {},
     "output_type": "display_data"
    },
    {
     "name": "stdout",
     "output_type": "stream",
     "text": [
      "\n",
      "CRDataset\n",
      "Train precision 0.7993377483443709 0.8000993377483443 0.8006622516556291\n",
      "Valid precision 0.7639257294429709 0.7663129973474802 0.7718832891246684\n",
      "Test precision 0.7301587301587302 0.7304232804232804 0.7328042328042328\n",
      "CRDataset tfrf 300\n"
     ]
    },
    {
     "data": {
      "application/vnd.jupyter.widget-view+json": {
       "model_id": "5a12a6e897e34c0e8339cf0e69600b4b",
       "version_major": 2,
       "version_minor": 0
      },
      "text/html": [
       "<p>Failed to display Jupyter Widget of type <code>HBox</code>.</p>\n",
       "<p>\n",
       "  If you're reading this message in the Jupyter Notebook or JupyterLab Notebook, it may mean\n",
       "  that the widgets JavaScript is still loading. If this message persists, it\n",
       "  likely means that the widgets JavaScript library is either not installed or\n",
       "  not enabled. See the <a href=\"https://ipywidgets.readthedocs.io/en/stable/user_install.html\">Jupyter\n",
       "  Widgets Documentation</a> for setup instructions.\n",
       "</p>\n",
       "<p>\n",
       "  If you're reading this message in another frontend (for example, a static\n",
       "  rendering on GitHub or <a href=\"https://nbviewer.jupyter.org/\">NBViewer</a>),\n",
       "  it may mean that your frontend doesn't currently support widgets.\n",
       "</p>\n"
      ],
      "text/plain": [
       "HBox(children=(IntProgress(value=0, max=10), HTML(value='')))"
      ]
     },
     "metadata": {},
     "output_type": "display_data"
    },
    {
     "name": "stdout",
     "output_type": "stream",
     "text": [
      "\n",
      "CRDataset\n",
      "Train precision 0.8043046357615894 0.8051986754966887 0.8059602649006623\n",
      "Valid precision 0.7586206896551724 0.7615384615384615 0.7639257294429709\n",
      "Test precision 0.7407407407407407 0.7433862433862435 0.746031746031746\n",
      "CRDataset tfrf 400\n"
     ]
    },
    {
     "data": {
      "application/vnd.jupyter.widget-view+json": {
       "model_id": "7c677c28bd3e404abae754d656249453",
       "version_major": 2,
       "version_minor": 0
      },
      "text/html": [
       "<p>Failed to display Jupyter Widget of type <code>HBox</code>.</p>\n",
       "<p>\n",
       "  If you're reading this message in the Jupyter Notebook or JupyterLab Notebook, it may mean\n",
       "  that the widgets JavaScript is still loading. If this message persists, it\n",
       "  likely means that the widgets JavaScript library is either not installed or\n",
       "  not enabled. See the <a href=\"https://ipywidgets.readthedocs.io/en/stable/user_install.html\">Jupyter\n",
       "  Widgets Documentation</a> for setup instructions.\n",
       "</p>\n",
       "<p>\n",
       "  If you're reading this message in another frontend (for example, a static\n",
       "  rendering on GitHub or <a href=\"https://nbviewer.jupyter.org/\">NBViewer</a>),\n",
       "  it may mean that your frontend doesn't currently support widgets.\n",
       "</p>\n"
      ],
      "text/plain": [
       "HBox(children=(IntProgress(value=0, max=10), HTML(value='')))"
      ]
     },
     "metadata": {},
     "output_type": "display_data"
    },
    {
     "name": "stdout",
     "output_type": "stream",
     "text": [
      "\n",
      "CRDataset\n",
      "Train precision 0.8059602649006623 0.807251655629139 0.8086092715231787\n",
      "Valid precision 0.7612732095490716 0.7644562334217506 0.7692307692307692\n",
      "Test precision 0.7433862433862434 0.7447089947089947 0.746031746031746\n",
      "MRDataset None 200\n"
     ]
    },
    {
     "data": {
      "application/vnd.jupyter.widget-view+json": {
       "model_id": "479914138feb451cbeab33f225e2dc11",
       "version_major": 2,
       "version_minor": 0
      },
      "text/html": [
       "<p>Failed to display Jupyter Widget of type <code>HBox</code>.</p>\n",
       "<p>\n",
       "  If you're reading this message in the Jupyter Notebook or JupyterLab Notebook, it may mean\n",
       "  that the widgets JavaScript is still loading. If this message persists, it\n",
       "  likely means that the widgets JavaScript library is either not installed or\n",
       "  not enabled. See the <a href=\"https://ipywidgets.readthedocs.io/en/stable/user_install.html\">Jupyter\n",
       "  Widgets Documentation</a> for setup instructions.\n",
       "</p>\n",
       "<p>\n",
       "  If you're reading this message in another frontend (for example, a static\n",
       "  rendering on GitHub or <a href=\"https://nbviewer.jupyter.org/\">NBViewer</a>),\n",
       "  it may mean that your frontend doesn't currently support widgets.\n",
       "</p>\n"
      ],
      "text/plain": [
       "HBox(children=(IntProgress(value=0, max=10), HTML(value='')))"
      ]
     },
     "metadata": {},
     "output_type": "display_data"
    },
    {
     "name": "stdout",
     "output_type": "stream",
     "text": [
      "\n",
      "MRDataset\n",
      "Train precision 0.7141517176691288 0.7156993785906905 0.717903622933521\n",
      "Valid precision 0.650093808630394 0.65093808630394 0.6538461538461539\n",
      "Test precision 0.6935332708528585 0.6977507029053421 0.7019681349578257\n",
      "MRDataset None 300\n"
     ]
    },
    {
     "data": {
      "application/vnd.jupyter.widget-view+json": {
       "model_id": "be4f71feea044aee85d539e34101d369",
       "version_major": 2,
       "version_minor": 0
      },
      "text/html": [
       "<p>Failed to display Jupyter Widget of type <code>HBox</code>.</p>\n",
       "<p>\n",
       "  If you're reading this message in the Jupyter Notebook or JupyterLab Notebook, it may mean\n",
       "  that the widgets JavaScript is still loading. If this message persists, it\n",
       "  likely means that the widgets JavaScript library is either not installed or\n",
       "  not enabled. See the <a href=\"https://ipywidgets.readthedocs.io/en/stable/user_install.html\">Jupyter\n",
       "  Widgets Documentation</a> for setup instructions.\n",
       "</p>\n",
       "<p>\n",
       "  If you're reading this message in another frontend (for example, a static\n",
       "  rendering on GitHub or <a href=\"https://nbviewer.jupyter.org/\">NBViewer</a>),\n",
       "  it may mean that your frontend doesn't currently support widgets.\n",
       "</p>\n"
      ],
      "text/plain": [
       "HBox(children=(IntProgress(value=0, max=10), HTML(value='')))"
      ]
     },
     "metadata": {},
     "output_type": "display_data"
    },
    {
     "name": "stdout",
     "output_type": "stream",
     "text": [
      "\n",
      "MRDataset\n",
      "Train precision 0.732793996951577 0.7347051236956268 0.7366631492554814\n",
      "Valid precision 0.6669793621013134 0.6701688555347092 0.6735459662288931\n",
      "Test precision 0.697282099343955 0.7023430178069354 0.7094657919400187\n",
      "MRDataset None 400\n"
     ]
    },
    {
     "data": {
      "application/vnd.jupyter.widget-view+json": {
       "model_id": "e9041aeffcae47eeb2c346784a291578",
       "version_major": 2,
       "version_minor": 0
      },
      "text/html": [
       "<p>Failed to display Jupyter Widget of type <code>HBox</code>.</p>\n",
       "<p>\n",
       "  If you're reading this message in the Jupyter Notebook or JupyterLab Notebook, it may mean\n",
       "  that the widgets JavaScript is still loading. If this message persists, it\n",
       "  likely means that the widgets JavaScript library is either not installed or\n",
       "  not enabled. See the <a href=\"https://ipywidgets.readthedocs.io/en/stable/user_install.html\">Jupyter\n",
       "  Widgets Documentation</a> for setup instructions.\n",
       "</p>\n",
       "<p>\n",
       "  If you're reading this message in another frontend (for example, a static\n",
       "  rendering on GitHub or <a href=\"https://nbviewer.jupyter.org/\">NBViewer</a>),\n",
       "  it may mean that your frontend doesn't currently support widgets.\n",
       "</p>\n"
      ],
      "text/plain": [
       "HBox(children=(IntProgress(value=0, max=10), HTML(value='')))"
      ]
     },
     "metadata": {},
     "output_type": "display_data"
    },
    {
     "name": "stdout",
     "output_type": "stream",
     "text": [
      "\n",
      "MRDataset\n",
      "Train precision 0.7449876890608512 0.7470512369562667 0.7483878532067065\n",
      "Valid precision 0.6585365853658536 0.6639774859287054 0.6688555347091932\n",
      "Test precision 0.7047797563261481 0.7103092783505154 0.7169634489222119\n",
      "MRDataset tfidf 200\n"
     ]
    },
    {
     "data": {
      "application/vnd.jupyter.widget-view+json": {
       "model_id": "343debf736304338b11fe3426c970f40",
       "version_major": 2,
       "version_minor": 0
      },
      "text/html": [
       "<p>Failed to display Jupyter Widget of type <code>HBox</code>.</p>\n",
       "<p>\n",
       "  If you're reading this message in the Jupyter Notebook or JupyterLab Notebook, it may mean\n",
       "  that the widgets JavaScript is still loading. If this message persists, it\n",
       "  likely means that the widgets JavaScript library is either not installed or\n",
       "  not enabled. See the <a href=\"https://ipywidgets.readthedocs.io/en/stable/user_install.html\">Jupyter\n",
       "  Widgets Documentation</a> for setup instructions.\n",
       "</p>\n",
       "<p>\n",
       "  If you're reading this message in another frontend (for example, a static\n",
       "  rendering on GitHub or <a href=\"https://nbviewer.jupyter.org/\">NBViewer</a>),\n",
       "  it may mean that your frontend doesn't currently support widgets.\n",
       "</p>\n"
      ],
      "text/plain": [
       "HBox(children=(IntProgress(value=0, max=10), HTML(value='')))"
      ]
     },
     "metadata": {},
     "output_type": "display_data"
    },
    {
     "name": "stdout",
     "output_type": "stream",
     "text": [
      "\n",
      "MRDataset\n",
      "Train precision 0.7145034587876656 0.7154297103998125 0.7161449173408372\n",
      "Valid precision 0.648217636022514 0.65093808630394 0.6547842401500938\n",
      "Test precision 0.6944704779756325 0.6970946579194002 0.6991565135895033\n",
      "MRDataset tfidf 300\n"
     ]
    },
    {
     "data": {
      "application/vnd.jupyter.widget-view+json": {
       "model_id": "767f5694e04f4fd29c1e1ddfddb25174",
       "version_major": 2,
       "version_minor": 0
      },
      "text/html": [
       "<p>Failed to display Jupyter Widget of type <code>HBox</code>.</p>\n",
       "<p>\n",
       "  If you're reading this message in the Jupyter Notebook or JupyterLab Notebook, it may mean\n",
       "  that the widgets JavaScript is still loading. If this message persists, it\n",
       "  likely means that the widgets JavaScript library is either not installed or\n",
       "  not enabled. See the <a href=\"https://ipywidgets.readthedocs.io/en/stable/user_install.html\">Jupyter\n",
       "  Widgets Documentation</a> for setup instructions.\n",
       "</p>\n",
       "<p>\n",
       "  If you're reading this message in another frontend (for example, a static\n",
       "  rendering on GitHub or <a href=\"https://nbviewer.jupyter.org/\">NBViewer</a>),\n",
       "  it may mean that your frontend doesn't currently support widgets.\n",
       "</p>\n"
      ],
      "text/plain": [
       "HBox(children=(IntProgress(value=0, max=10), HTML(value='')))"
      ]
     },
     "metadata": {},
     "output_type": "display_data"
    },
    {
     "name": "stdout",
     "output_type": "stream",
     "text": [
      "\n",
      "MRDataset\n",
      "Train precision 0.7330284910306015 0.7343651072810411 0.7358424199788955\n",
      "Valid precision 0.6632270168855534 0.6693245778611632 0.6744840525328331\n",
      "Test precision 0.697282099343955 0.7000937207122775 0.7029053420805997\n",
      "MRDataset tfidf 400\n"
     ]
    },
    {
     "data": {
      "application/vnd.jupyter.widget-view+json": {
       "model_id": "b08b3f2c181e405ca828ea75f9fb8242",
       "version_major": 2,
       "version_minor": 0
      },
      "text/html": [
       "<p>Failed to display Jupyter Widget of type <code>HBox</code>.</p>\n",
       "<p>\n",
       "  If you're reading this message in the Jupyter Notebook or JupyterLab Notebook, it may mean\n",
       "  that the widgets JavaScript is still loading. If this message persists, it\n",
       "  likely means that the widgets JavaScript library is either not installed or\n",
       "  not enabled. See the <a href=\"https://ipywidgets.readthedocs.io/en/stable/user_install.html\">Jupyter\n",
       "  Widgets Documentation</a> for setup instructions.\n",
       "</p>\n",
       "<p>\n",
       "  If you're reading this message in another frontend (for example, a static\n",
       "  rendering on GitHub or <a href=\"https://nbviewer.jupyter.org/\">NBViewer</a>),\n",
       "  it may mean that your frontend doesn't currently support widgets.\n",
       "</p>\n"
      ],
      "text/plain": [
       "HBox(children=(IntProgress(value=0, max=10), HTML(value='')))"
      ]
     },
     "metadata": {},
     "output_type": "display_data"
    },
    {
     "name": "stdout",
     "output_type": "stream",
     "text": [
      "\n",
      "MRDataset\n",
      "Train precision 0.7458084183374369 0.7472622816273888 0.7482706061671942\n",
      "Valid precision 0.6594746716697937 0.6657598499061914 0.6716697936210132\n",
      "Test precision 0.703842549203374 0.7096532333645736 0.7132146204311153\n",
      "MRDataset tfchi2 200\n"
     ]
    },
    {
     "data": {
      "application/vnd.jupyter.widget-view+json": {
       "model_id": "7feb926b1dd54ffc891ba6ebd0cbd385",
       "version_major": 2,
       "version_minor": 0
      },
      "text/html": [
       "<p>Failed to display Jupyter Widget of type <code>HBox</code>.</p>\n",
       "<p>\n",
       "  If you're reading this message in the Jupyter Notebook or JupyterLab Notebook, it may mean\n",
       "  that the widgets JavaScript is still loading. If this message persists, it\n",
       "  likely means that the widgets JavaScript library is either not installed or\n",
       "  not enabled. See the <a href=\"https://ipywidgets.readthedocs.io/en/stable/user_install.html\">Jupyter\n",
       "  Widgets Documentation</a> for setup instructions.\n",
       "</p>\n",
       "<p>\n",
       "  If you're reading this message in another frontend (for example, a static\n",
       "  rendering on GitHub or <a href=\"https://nbviewer.jupyter.org/\">NBViewer</a>),\n",
       "  it may mean that your frontend doesn't currently support widgets.\n",
       "</p>\n"
      ],
      "text/plain": [
       "HBox(children=(IntProgress(value=0, max=10), HTML(value='')))"
      ]
     },
     "metadata": {},
     "output_type": "display_data"
    },
    {
     "name": "stdout",
     "output_type": "stream",
     "text": [
      "\n",
      "MRDataset\n",
      "Train precision 0.7140344706296167 0.7150545198733733 0.7163794114198616\n",
      "Valid precision 0.648217636022514 0.6513133208255161 0.6566604127579737\n",
      "Test precision 0.6963448922211809 0.6982193064667293 0.7010309278350515\n",
      "MRDataset tfchi2 300\n"
     ]
    },
    {
     "data": {
      "application/vnd.jupyter.widget-view+json": {
       "model_id": "240c005d2b2d4962a81f17fc74f8e698",
       "version_major": 2,
       "version_minor": 0
      },
      "text/html": [
       "<p>Failed to display Jupyter Widget of type <code>HBox</code>.</p>\n",
       "<p>\n",
       "  If you're reading this message in the Jupyter Notebook or JupyterLab Notebook, it may mean\n",
       "  that the widgets JavaScript is still loading. If this message persists, it\n",
       "  likely means that the widgets JavaScript library is either not installed or\n",
       "  not enabled. See the <a href=\"https://ipywidgets.readthedocs.io/en/stable/user_install.html\">Jupyter\n",
       "  Widgets Documentation</a> for setup instructions.\n",
       "</p>\n",
       "<p>\n",
       "  If you're reading this message in another frontend (for example, a static\n",
       "  rendering on GitHub or <a href=\"https://nbviewer.jupyter.org/\">NBViewer</a>),\n",
       "  it may mean that your frontend doesn't currently support widgets.\n",
       "</p>\n"
      ],
      "text/plain": [
       "HBox(children=(IntProgress(value=0, max=10), HTML(value='')))"
      ]
     },
     "metadata": {},
     "output_type": "display_data"
    },
    {
     "name": "stdout",
     "output_type": "stream",
     "text": [
      "\n",
      "MRDataset\n",
      "Train precision 0.733262985109626 0.7342947590573338 0.7364286551764567\n",
      "Valid precision 0.6679174484052532 0.6709193245778612 0.6735459662288931\n",
      "Test precision 0.6991565135895033 0.7029053420805998 0.7057169634489222\n",
      "MRDataset tfchi2 400\n"
     ]
    },
    {
     "data": {
      "application/vnd.jupyter.widget-view+json": {
       "model_id": "0814491d99c8490183636ae4330be7b9",
       "version_major": 2,
       "version_minor": 0
      },
      "text/html": [
       "<p>Failed to display Jupyter Widget of type <code>HBox</code>.</p>\n",
       "<p>\n",
       "  If you're reading this message in the Jupyter Notebook or JupyterLab Notebook, it may mean\n",
       "  that the widgets JavaScript is still loading. If this message persists, it\n",
       "  likely means that the widgets JavaScript library is either not installed or\n",
       "  not enabled. See the <a href=\"https://ipywidgets.readthedocs.io/en/stable/user_install.html\">Jupyter\n",
       "  Widgets Documentation</a> for setup instructions.\n",
       "</p>\n",
       "<p>\n",
       "  If you're reading this message in another frontend (for example, a static\n",
       "  rendering on GitHub or <a href=\"https://nbviewer.jupyter.org/\">NBViewer</a>),\n",
       "  it may mean that your frontend doesn't currently support widgets.\n",
       "</p>\n"
      ],
      "text/plain": [
       "HBox(children=(IntProgress(value=0, max=10), HTML(value='')))"
      ]
     },
     "metadata": {},
     "output_type": "display_data"
    },
    {
     "name": "stdout",
     "output_type": "stream",
     "text": [
      "\n",
      "MRDataset\n",
      "Train precision 0.7455739242584125 0.7472271075155353 0.7499120647203659\n",
      "Valid precision 0.6594746716697937 0.6643527204502815 0.6679174484052532\n",
      "Test precision 0.7075913776944704 0.7105904404873477 0.7150890346766635\n",
      "MRDataset tfig 200\n"
     ]
    },
    {
     "data": {
      "application/vnd.jupyter.widget-view+json": {
       "model_id": "d5dee3a2528746419db1a94fb039481f",
       "version_major": 2,
       "version_minor": 0
      },
      "text/html": [
       "<p>Failed to display Jupyter Widget of type <code>HBox</code>.</p>\n",
       "<p>\n",
       "  If you're reading this message in the Jupyter Notebook or JupyterLab Notebook, it may mean\n",
       "  that the widgets JavaScript is still loading. If this message persists, it\n",
       "  likely means that the widgets JavaScript library is either not installed or\n",
       "  not enabled. See the <a href=\"https://ipywidgets.readthedocs.io/en/stable/user_install.html\">Jupyter\n",
       "  Widgets Documentation</a> for setup instructions.\n",
       "</p>\n",
       "<p>\n",
       "  If you're reading this message in another frontend (for example, a static\n",
       "  rendering on GitHub or <a href=\"https://nbviewer.jupyter.org/\">NBViewer</a>),\n",
       "  it may mean that your frontend doesn't currently support widgets.\n",
       "</p>\n"
      ],
      "text/plain": [
       "HBox(children=(IntProgress(value=0, max=10), HTML(value='')))"
      ]
     },
     "metadata": {},
     "output_type": "display_data"
    },
    {
     "name": "stdout",
     "output_type": "stream",
     "text": [
      "\n",
      "MRDataset\n",
      "Train precision 0.7146207058271778 0.715511783327471 0.7163794114198616\n",
      "Valid precision 0.649155722326454 0.6511257035647279 0.6529080675422139\n",
      "Test precision 0.6944704779756325 0.6974695407685099 0.7010309278350515\n",
      "MRDataset tfig 300\n"
     ]
    },
    {
     "data": {
      "application/vnd.jupyter.widget-view+json": {
       "model_id": "06f7863895b9421bb43e3da7aad4f267",
       "version_major": 2,
       "version_minor": 0
      },
      "text/html": [
       "<p>Failed to display Jupyter Widget of type <code>HBox</code>.</p>\n",
       "<p>\n",
       "  If you're reading this message in the Jupyter Notebook or JupyterLab Notebook, it may mean\n",
       "  that the widgets JavaScript is still loading. If this message persists, it\n",
       "  likely means that the widgets JavaScript library is either not installed or\n",
       "  not enabled. See the <a href=\"https://ipywidgets.readthedocs.io/en/stable/user_install.html\">Jupyter\n",
       "  Widgets Documentation</a> for setup instructions.\n",
       "</p>\n",
       "<p>\n",
       "  If you're reading this message in another frontend (for example, a static\n",
       "  rendering on GitHub or <a href=\"https://nbviewer.jupyter.org/\">NBViewer</a>),\n",
       "  it may mean that your frontend doesn't currently support widgets.\n",
       "</p>\n"
      ],
      "text/plain": [
       "HBox(children=(IntProgress(value=0, max=10), HTML(value='')))"
      ]
     },
     "metadata": {},
     "output_type": "display_data"
    },
    {
     "name": "stdout",
     "output_type": "stream",
     "text": [
      "\n",
      "MRDataset\n",
      "Train precision 0.7330284910306015 0.734716848399578 0.7358424199788955\n",
      "Valid precision 0.6669793621013134 0.6708255159474671 0.6763602251407129\n",
      "Test precision 0.7000937207122775 0.7029990627928773 0.7066541705716963\n",
      "MRDataset tfig 400\n"
     ]
    },
    {
     "data": {
      "application/vnd.jupyter.widget-view+json": {
       "model_id": "718d7b2d0af54b0f89f188f1ff7390dd",
       "version_major": 2,
       "version_minor": 0
      },
      "text/html": [
       "<p>Failed to display Jupyter Widget of type <code>HBox</code>.</p>\n",
       "<p>\n",
       "  If you're reading this message in the Jupyter Notebook or JupyterLab Notebook, it may mean\n",
       "  that the widgets JavaScript is still loading. If this message persists, it\n",
       "  likely means that the widgets JavaScript library is either not installed or\n",
       "  not enabled. See the <a href=\"https://ipywidgets.readthedocs.io/en/stable/user_install.html\">Jupyter\n",
       "  Widgets Documentation</a> for setup instructions.\n",
       "</p>\n",
       "<p>\n",
       "  If you're reading this message in another frontend (for example, a static\n",
       "  rendering on GitHub or <a href=\"https://nbviewer.jupyter.org/\">NBViewer</a>),\n",
       "  it may mean that your frontend doesn't currently support widgets.\n",
       "</p>\n"
      ],
      "text/plain": [
       "HBox(children=(IntProgress(value=0, max=10), HTML(value='')))"
      ]
     },
     "metadata": {},
     "output_type": "display_data"
    },
    {
     "name": "stdout",
     "output_type": "stream",
     "text": [
      "\n",
      "MRDataset\n",
      "Train precision 0.7433462305076797 0.7467698440614374 0.7495603236018291\n",
      "Valid precision 0.6585365853658536 0.6643527204502814 0.6707317073170731\n",
      "Test precision 0.7047797563261481 0.7099343955014059 0.7141518275538894\n",
      "MRDataset tfgr 200\n"
     ]
    },
    {
     "data": {
      "application/vnd.jupyter.widget-view+json": {
       "model_id": "98326c89462f43c685045849e40fb6db",
       "version_major": 2,
       "version_minor": 0
      },
      "text/html": [
       "<p>Failed to display Jupyter Widget of type <code>HBox</code>.</p>\n",
       "<p>\n",
       "  If you're reading this message in the Jupyter Notebook or JupyterLab Notebook, it may mean\n",
       "  that the widgets JavaScript is still loading. If this message persists, it\n",
       "  likely means that the widgets JavaScript library is either not installed or\n",
       "  not enabled. See the <a href=\"https://ipywidgets.readthedocs.io/en/stable/user_install.html\">Jupyter\n",
       "  Widgets Documentation</a> for setup instructions.\n",
       "</p>\n",
       "<p>\n",
       "  If you're reading this message in another frontend (for example, a static\n",
       "  rendering on GitHub or <a href=\"https://nbviewer.jupyter.org/\">NBViewer</a>),\n",
       "  it may mean that your frontend doesn't currently support widgets.\n",
       "</p>\n"
      ],
      "text/plain": [
       "HBox(children=(IntProgress(value=0, max=10), HTML(value='')))"
      ]
     },
     "metadata": {},
     "output_type": "display_data"
    },
    {
     "name": "stdout",
     "output_type": "stream",
     "text": [
      "\n",
      "MRDataset\n",
      "Train precision 0.7135654824715676 0.7147145034587876 0.7157931762223004\n",
      "Valid precision 0.6454033771106942 0.6513133208255161 0.6547842401500938\n",
      "Test precision 0.6935332708528585 0.6975632614807872 0.703842549203374\n",
      "MRDataset tfgr 300\n"
     ]
    },
    {
     "data": {
      "application/vnd.jupyter.widget-view+json": {
       "model_id": "2a7a3799f54c4fe29e1355c62f01e1c1",
       "version_major": 2,
       "version_minor": 0
      },
      "text/html": [
       "<p>Failed to display Jupyter Widget of type <code>HBox</code>.</p>\n",
       "<p>\n",
       "  If you're reading this message in the Jupyter Notebook or JupyterLab Notebook, it may mean\n",
       "  that the widgets JavaScript is still loading. If this message persists, it\n",
       "  likely means that the widgets JavaScript library is either not installed or\n",
       "  not enabled. See the <a href=\"https://ipywidgets.readthedocs.io/en/stable/user_install.html\">Jupyter\n",
       "  Widgets Documentation</a> for setup instructions.\n",
       "</p>\n",
       "<p>\n",
       "  If you're reading this message in another frontend (for example, a static\n",
       "  rendering on GitHub or <a href=\"https://nbviewer.jupyter.org/\">NBViewer</a>),\n",
       "  it may mean that your frontend doesn't currently support widgets.\n",
       "</p>\n"
      ],
      "text/plain": [
       "HBox(children=(IntProgress(value=0, max=10), HTML(value='')))"
      ]
     },
     "metadata": {},
     "output_type": "display_data"
    },
    {
     "name": "stdout",
     "output_type": "stream",
     "text": [
      "\n",
      "MRDataset\n",
      "Train precision 0.7319732676749913 0.7347051236956268 0.7367803962949935\n",
      "Valid precision 0.6669793621013134 0.6702626641651033 0.6744840525328331\n",
      "Test precision 0.6982193064667291 0.7006560449859419 0.7057169634489222\n",
      "MRDataset tfgr 400\n"
     ]
    },
    {
     "data": {
      "application/vnd.jupyter.widget-view+json": {
       "model_id": "43ac8a6ec36b46fdb6e95fffc4ab30a1",
       "version_major": 2,
       "version_minor": 0
      },
      "text/html": [
       "<p>Failed to display Jupyter Widget of type <code>HBox</code>.</p>\n",
       "<p>\n",
       "  If you're reading this message in the Jupyter Notebook or JupyterLab Notebook, it may mean\n",
       "  that the widgets JavaScript is still loading. If this message persists, it\n",
       "  likely means that the widgets JavaScript library is either not installed or\n",
       "  not enabled. See the <a href=\"https://ipywidgets.readthedocs.io/en/stable/user_install.html\">Jupyter\n",
       "  Widgets Documentation</a> for setup instructions.\n",
       "</p>\n",
       "<p>\n",
       "  If you're reading this message in another frontend (for example, a static\n",
       "  rendering on GitHub or <a href=\"https://nbviewer.jupyter.org/\">NBViewer</a>),\n",
       "  it may mean that your frontend doesn't currently support widgets.\n",
       "</p>\n"
      ],
      "text/plain": [
       "HBox(children=(IntProgress(value=0, max=10), HTML(value='')))"
      ]
     },
     "metadata": {},
     "output_type": "display_data"
    },
    {
     "name": "stdout",
     "output_type": "stream",
     "text": [
      "\n",
      "MRDataset\n",
      "Train precision 0.7452221831398758 0.7466877711337789 0.7485051002462189\n",
      "Valid precision 0.6613508442776735 0.6648217636022513 0.6679174484052532\n",
      "Test precision 0.7075913776944704 0.712464854732896 0.7160262417994376\n",
      "MRDataset tfor 200\n"
     ]
    },
    {
     "data": {
      "application/vnd.jupyter.widget-view+json": {
       "model_id": "b1cb91643e2748e5ab0507de2674accd",
       "version_major": 2,
       "version_minor": 0
      },
      "text/html": [
       "<p>Failed to display Jupyter Widget of type <code>HBox</code>.</p>\n",
       "<p>\n",
       "  If you're reading this message in the Jupyter Notebook or JupyterLab Notebook, it may mean\n",
       "  that the widgets JavaScript is still loading. If this message persists, it\n",
       "  likely means that the widgets JavaScript library is either not installed or\n",
       "  not enabled. See the <a href=\"https://ipywidgets.readthedocs.io/en/stable/user_install.html\">Jupyter\n",
       "  Widgets Documentation</a> for setup instructions.\n",
       "</p>\n",
       "<p>\n",
       "  If you're reading this message in another frontend (for example, a static\n",
       "  rendering on GitHub or <a href=\"https://nbviewer.jupyter.org/\">NBViewer</a>),\n",
       "  it may mean that your frontend doesn't currently support widgets.\n",
       "</p>\n"
      ],
      "text/plain": [
       "HBox(children=(IntProgress(value=0, max=10), HTML(value='')))"
      ]
     },
     "metadata": {},
     "output_type": "display_data"
    },
    {
     "name": "stdout",
     "output_type": "stream",
     "text": [
      "\n",
      "MRDataset\n",
      "Train precision 0.7141517176691288 0.7150310704654708 0.7162621643803494\n",
      "Valid precision 0.6463414634146342 0.651313320825516 0.6547842401500938\n",
      "Test precision 0.6944704779756325 0.6969072164948453 0.6991565135895033\n",
      "MRDataset tfor 300\n"
     ]
    },
    {
     "data": {
      "application/vnd.jupyter.widget-view+json": {
       "model_id": "8385d6520ddd4776b4d021299d52d694",
       "version_major": 2,
       "version_minor": 0
      },
      "text/html": [
       "<p>Failed to display Jupyter Widget of type <code>HBox</code>.</p>\n",
       "<p>\n",
       "  If you're reading this message in the Jupyter Notebook or JupyterLab Notebook, it may mean\n",
       "  that the widgets JavaScript is still loading. If this message persists, it\n",
       "  likely means that the widgets JavaScript library is either not installed or\n",
       "  not enabled. See the <a href=\"https://ipywidgets.readthedocs.io/en/stable/user_install.html\">Jupyter\n",
       "  Widgets Documentation</a> for setup instructions.\n",
       "</p>\n",
       "<p>\n",
       "  If you're reading this message in another frontend (for example, a static\n",
       "  rendering on GitHub or <a href=\"https://nbviewer.jupyter.org/\">NBViewer</a>),\n",
       "  it may mean that your frontend doesn't currently support widgets.\n",
       "</p>\n"
      ],
      "text/plain": [
       "HBox(children=(IntProgress(value=0, max=10), HTML(value='')))"
      ]
     },
     "metadata": {},
     "output_type": "display_data"
    },
    {
     "name": "stdout",
     "output_type": "stream",
     "text": [
      "\n",
      "MRDataset\n",
      "Train precision 0.7330284910306015 0.7343768319849924 0.7361941610974323\n",
      "Valid precision 0.6669793621013134 0.6709193245778613 0.6735459662288931\n",
      "Test precision 0.6982193064667291 0.7011246485473289 0.7066541705716963\n",
      "MRDataset tfor 400\n"
     ]
    },
    {
     "data": {
      "application/vnd.jupyter.widget-view+json": {
       "model_id": "60d1aae404ca4da495b3be93e6fec034",
       "version_major": 2,
       "version_minor": 0
      },
      "text/html": [
       "<p>Failed to display Jupyter Widget of type <code>HBox</code>.</p>\n",
       "<p>\n",
       "  If you're reading this message in the Jupyter Notebook or JupyterLab Notebook, it may mean\n",
       "  that the widgets JavaScript is still loading. If this message persists, it\n",
       "  likely means that the widgets JavaScript library is either not installed or\n",
       "  not enabled. See the <a href=\"https://ipywidgets.readthedocs.io/en/stable/user_install.html\">Jupyter\n",
       "  Widgets Documentation</a> for setup instructions.\n",
       "</p>\n",
       "<p>\n",
       "  If you're reading this message in another frontend (for example, a static\n",
       "  rendering on GitHub or <a href=\"https://nbviewer.jupyter.org/\">NBViewer</a>),\n",
       "  it may mean that your frontend doesn't currently support widgets.\n",
       "</p>\n"
      ],
      "text/plain": [
       "HBox(children=(IntProgress(value=0, max=10), HTML(value='')))"
      ]
     },
     "metadata": {},
     "output_type": "display_data"
    },
    {
     "name": "stdout",
     "output_type": "stream",
     "text": [
      "\n",
      "MRDataset\n",
      "Train precision 0.7459256653769493 0.7470629616602181 0.7497948176808535\n",
      "Valid precision 0.6604127579737336 0.6632270168855536 0.6669793621013134\n",
      "Test precision 0.7047797563261481 0.7099343955014058 0.7141518275538894\n",
      "MRDataset tfrf 200\n"
     ]
    },
    {
     "data": {
      "application/vnd.jupyter.widget-view+json": {
       "model_id": "3868b5b6b8c947a1af9ce99533bb3f8b",
       "version_major": 2,
       "version_minor": 0
      },
      "text/html": [
       "<p>Failed to display Jupyter Widget of type <code>HBox</code>.</p>\n",
       "<p>\n",
       "  If you're reading this message in the Jupyter Notebook or JupyterLab Notebook, it may mean\n",
       "  that the widgets JavaScript is still loading. If this message persists, it\n",
       "  likely means that the widgets JavaScript library is either not installed or\n",
       "  not enabled. See the <a href=\"https://ipywidgets.readthedocs.io/en/stable/user_install.html\">Jupyter\n",
       "  Widgets Documentation</a> for setup instructions.\n",
       "</p>\n",
       "<p>\n",
       "  If you're reading this message in another frontend (for example, a static\n",
       "  rendering on GitHub or <a href=\"https://nbviewer.jupyter.org/\">NBViewer</a>),\n",
       "  it may mean that your frontend doesn't currently support widgets.\n",
       "</p>\n"
      ],
      "text/plain": [
       "HBox(children=(IntProgress(value=0, max=10), HTML(value='')))"
      ]
     },
     "metadata": {},
     "output_type": "display_data"
    },
    {
     "name": "stdout",
     "output_type": "stream",
     "text": [
      "\n",
      "MRDataset\n",
      "Train precision 0.7142689647086411 0.7152303904326416 0.7168483995779107\n",
      "Valid precision 0.648217636022514 0.650375234521576 0.6529080675422139\n",
      "Test precision 0.6925960637300843 0.696813495782568 0.7010309278350515\n",
      "MRDataset tfrf 300\n"
     ]
    },
    {
     "data": {
      "application/vnd.jupyter.widget-view+json": {
       "model_id": "9a4325e43b0c47dc892ff13c45732e80",
       "version_major": 2,
       "version_minor": 0
      },
      "text/html": [
       "<p>Failed to display Jupyter Widget of type <code>HBox</code>.</p>\n",
       "<p>\n",
       "  If you're reading this message in the Jupyter Notebook or JupyterLab Notebook, it may mean\n",
       "  that the widgets JavaScript is still loading. If this message persists, it\n",
       "  likely means that the widgets JavaScript library is either not installed or\n",
       "  not enabled. See the <a href=\"https://ipywidgets.readthedocs.io/en/stable/user_install.html\">Jupyter\n",
       "  Widgets Documentation</a> for setup instructions.\n",
       "</p>\n",
       "<p>\n",
       "  If you're reading this message in another frontend (for example, a static\n",
       "  rendering on GitHub or <a href=\"https://nbviewer.jupyter.org/\">NBViewer</a>),\n",
       "  it may mean that your frontend doesn't currently support widgets.\n",
       "</p>\n"
      ],
      "text/plain": [
       "HBox(children=(IntProgress(value=0, max=10), HTML(value='')))"
      ]
     },
     "metadata": {},
     "output_type": "display_data"
    },
    {
     "name": "stdout",
     "output_type": "stream",
     "text": [
      "\n",
      "MRDataset\n",
      "Train precision 0.733262985109626 0.7350451401102122 0.7372493844530426\n",
      "Valid precision 0.6669793621013134 0.6704502814258912 0.6754221388367729\n",
      "Test precision 0.697282099343955 0.7014995313964386 0.7047797563261481\n",
      "MRDataset tfrf 400\n"
     ]
    },
    {
     "data": {
      "application/vnd.jupyter.widget-view+json": {
       "model_id": "4fddecd378ef49e8ad5a993e6d00cd1a",
       "version_major": 2,
       "version_minor": 0
      },
      "text/html": [
       "<p>Failed to display Jupyter Widget of type <code>HBox</code>.</p>\n",
       "<p>\n",
       "  If you're reading this message in the Jupyter Notebook or JupyterLab Notebook, it may mean\n",
       "  that the widgets JavaScript is still loading. If this message persists, it\n",
       "  likely means that the widgets JavaScript library is either not installed or\n",
       "  not enabled. See the <a href=\"https://ipywidgets.readthedocs.io/en/stable/user_install.html\">Jupyter\n",
       "  Widgets Documentation</a> for setup instructions.\n",
       "</p>\n",
       "<p>\n",
       "  If you're reading this message in another frontend (for example, a static\n",
       "  rendering on GitHub or <a href=\"https://nbviewer.jupyter.org/\">NBViewer</a>),\n",
       "  it may mean that your frontend doesn't currently support widgets.\n",
       "</p>\n"
      ],
      "text/plain": [
       "HBox(children=(IntProgress(value=0, max=10), HTML(value='')))"
      ]
     },
     "metadata": {},
     "output_type": "display_data"
    },
    {
     "name": "stdout",
     "output_type": "stream",
     "text": [
      "\n",
      "MRDataset\n",
      "Train precision 0.7427599953101185 0.7464532770547543 0.747684370969633\n",
      "Valid precision 0.6604127579737336 0.6645403377110694 0.6688555347091932\n",
      "Test precision 0.7057169634489222 0.7087160262417995 0.711340206185567\n",
      "SUBJDataset None 200\n"
     ]
    },
    {
     "data": {
      "application/vnd.jupyter.widget-view+json": {
       "model_id": "a44958daab4140b59de768c052f4ba71",
       "version_major": 2,
       "version_minor": 0
      },
      "text/html": [
       "<p>Failed to display Jupyter Widget of type <code>HBox</code>.</p>\n",
       "<p>\n",
       "  If you're reading this message in the Jupyter Notebook or JupyterLab Notebook, it may mean\n",
       "  that the widgets JavaScript is still loading. If this message persists, it\n",
       "  likely means that the widgets JavaScript library is either not installed or\n",
       "  not enabled. See the <a href=\"https://ipywidgets.readthedocs.io/en/stable/user_install.html\">Jupyter\n",
       "  Widgets Documentation</a> for setup instructions.\n",
       "</p>\n",
       "<p>\n",
       "  If you're reading this message in another frontend (for example, a static\n",
       "  rendering on GitHub or <a href=\"https://nbviewer.jupyter.org/\">NBViewer</a>),\n",
       "  it may mean that your frontend doesn't currently support widgets.\n",
       "</p>\n"
      ],
      "text/plain": [
       "HBox(children=(IntProgress(value=0, max=10), HTML(value='')))"
      ]
     },
     "metadata": {},
     "output_type": "display_data"
    },
    {
     "name": "stdout",
     "output_type": "stream",
     "text": [
      "\n",
      "SUBJDataset\n",
      "Train precision 0.889 0.8896749999999999 0.890125\n",
      "Valid precision 0.843 0.8446999999999999 0.847\n",
      "Test precision 0.859 0.8595 0.861\n",
      "SUBJDataset None 300\n"
     ]
    },
    {
     "data": {
      "application/vnd.jupyter.widget-view+json": {
       "model_id": "a8dda0529668439a97ef3c83ab63ae9f",
       "version_major": 2,
       "version_minor": 0
      },
      "text/html": [
       "<p>Failed to display Jupyter Widget of type <code>HBox</code>.</p>\n",
       "<p>\n",
       "  If you're reading this message in the Jupyter Notebook or JupyterLab Notebook, it may mean\n",
       "  that the widgets JavaScript is still loading. If this message persists, it\n",
       "  likely means that the widgets JavaScript library is either not installed or\n",
       "  not enabled. See the <a href=\"https://ipywidgets.readthedocs.io/en/stable/user_install.html\">Jupyter\n",
       "  Widgets Documentation</a> for setup instructions.\n",
       "</p>\n",
       "<p>\n",
       "  If you're reading this message in another frontend (for example, a static\n",
       "  rendering on GitHub or <a href=\"https://nbviewer.jupyter.org/\">NBViewer</a>),\n",
       "  it may mean that your frontend doesn't currently support widgets.\n",
       "</p>\n"
      ],
      "text/plain": [
       "HBox(children=(IntProgress(value=0, max=10), HTML(value='')))"
      ]
     },
     "metadata": {},
     "output_type": "display_data"
    },
    {
     "name": "stdout",
     "output_type": "stream",
     "text": [
      "\n",
      "SUBJDataset\n",
      "Train precision 0.894875 0.8957500000000002 0.896625\n",
      "Valid precision 0.848 0.8517000000000001 0.853\n",
      "Test precision 0.871 0.8724000000000001 0.873\n",
      "SUBJDataset None 400\n"
     ]
    },
    {
     "data": {
      "application/vnd.jupyter.widget-view+json": {
       "model_id": "f671735f4fb04e26a389e4eb83dd4331",
       "version_major": 2,
       "version_minor": 0
      },
      "text/html": [
       "<p>Failed to display Jupyter Widget of type <code>HBox</code>.</p>\n",
       "<p>\n",
       "  If you're reading this message in the Jupyter Notebook or JupyterLab Notebook, it may mean\n",
       "  that the widgets JavaScript is still loading. If this message persists, it\n",
       "  likely means that the widgets JavaScript library is either not installed or\n",
       "  not enabled. See the <a href=\"https://ipywidgets.readthedocs.io/en/stable/user_install.html\">Jupyter\n",
       "  Widgets Documentation</a> for setup instructions.\n",
       "</p>\n",
       "<p>\n",
       "  If you're reading this message in another frontend (for example, a static\n",
       "  rendering on GitHub or <a href=\"https://nbviewer.jupyter.org/\">NBViewer</a>),\n",
       "  it may mean that your frontend doesn't currently support widgets.\n",
       "</p>\n"
      ],
      "text/plain": [
       "HBox(children=(IntProgress(value=0, max=10), HTML(value='')))"
      ]
     },
     "metadata": {},
     "output_type": "display_data"
    },
    {
     "name": "stdout",
     "output_type": "stream",
     "text": [
      "\n",
      "SUBJDataset\n",
      "Train precision 0.89925 0.8998625 0.9005\n",
      "Valid precision 0.853 0.8552 0.857\n",
      "Test precision 0.875 0.8761000000000001 0.878\n",
      "SUBJDataset tfidf 200\n"
     ]
    },
    {
     "data": {
      "application/vnd.jupyter.widget-view+json": {
       "model_id": "0ffabdbd0ce2451e8a496bab00b3f4e3",
       "version_major": 2,
       "version_minor": 0
      },
      "text/html": [
       "<p>Failed to display Jupyter Widget of type <code>HBox</code>.</p>\n",
       "<p>\n",
       "  If you're reading this message in the Jupyter Notebook or JupyterLab Notebook, it may mean\n",
       "  that the widgets JavaScript is still loading. If this message persists, it\n",
       "  likely means that the widgets JavaScript library is either not installed or\n",
       "  not enabled. See the <a href=\"https://ipywidgets.readthedocs.io/en/stable/user_install.html\">Jupyter\n",
       "  Widgets Documentation</a> for setup instructions.\n",
       "</p>\n",
       "<p>\n",
       "  If you're reading this message in another frontend (for example, a static\n",
       "  rendering on GitHub or <a href=\"https://nbviewer.jupyter.org/\">NBViewer</a>),\n",
       "  it may mean that your frontend doesn't currently support widgets.\n",
       "</p>\n"
      ],
      "text/plain": [
       "HBox(children=(IntProgress(value=0, max=10), HTML(value='')))"
      ]
     },
     "metadata": {},
     "output_type": "display_data"
    },
    {
     "name": "stdout",
     "output_type": "stream",
     "text": [
      "\n",
      "SUBJDataset\n",
      "Train precision 0.888875 0.8894375 0.890125\n",
      "Valid precision 0.844 0.8462 0.848\n",
      "Test precision 0.859 0.8597999999999999 0.861\n",
      "SUBJDataset tfidf 300\n"
     ]
    },
    {
     "data": {
      "application/vnd.jupyter.widget-view+json": {
       "model_id": "81c237522476437196861032df1226d9",
       "version_major": 2,
       "version_minor": 0
      },
      "text/html": [
       "<p>Failed to display Jupyter Widget of type <code>HBox</code>.</p>\n",
       "<p>\n",
       "  If you're reading this message in the Jupyter Notebook or JupyterLab Notebook, it may mean\n",
       "  that the widgets JavaScript is still loading. If this message persists, it\n",
       "  likely means that the widgets JavaScript library is either not installed or\n",
       "  not enabled. See the <a href=\"https://ipywidgets.readthedocs.io/en/stable/user_install.html\">Jupyter\n",
       "  Widgets Documentation</a> for setup instructions.\n",
       "</p>\n",
       "<p>\n",
       "  If you're reading this message in another frontend (for example, a static\n",
       "  rendering on GitHub or <a href=\"https://nbviewer.jupyter.org/\">NBViewer</a>),\n",
       "  it may mean that your frontend doesn't currently support widgets.\n",
       "</p>\n"
      ],
      "text/plain": [
       "HBox(children=(IntProgress(value=0, max=10), HTML(value='')))"
      ]
     },
     "metadata": {},
     "output_type": "display_data"
    },
    {
     "name": "stdout",
     "output_type": "stream",
     "text": [
      "\n",
      "SUBJDataset\n",
      "Train precision 0.895375 0.8959249999999999 0.8965\n",
      "Valid precision 0.848 0.8509 0.855\n",
      "Test precision 0.87 0.8722000000000001 0.874\n",
      "SUBJDataset tfidf 400\n"
     ]
    },
    {
     "data": {
      "application/vnd.jupyter.widget-view+json": {
       "model_id": "a81834ee67c54e6d95622ccb466d8579",
       "version_major": 2,
       "version_minor": 0
      },
      "text/html": [
       "<p>Failed to display Jupyter Widget of type <code>HBox</code>.</p>\n",
       "<p>\n",
       "  If you're reading this message in the Jupyter Notebook or JupyterLab Notebook, it may mean\n",
       "  that the widgets JavaScript is still loading. If this message persists, it\n",
       "  likely means that the widgets JavaScript library is either not installed or\n",
       "  not enabled. See the <a href=\"https://ipywidgets.readthedocs.io/en/stable/user_install.html\">Jupyter\n",
       "  Widgets Documentation</a> for setup instructions.\n",
       "</p>\n",
       "<p>\n",
       "  If you're reading this message in another frontend (for example, a static\n",
       "  rendering on GitHub or <a href=\"https://nbviewer.jupyter.org/\">NBViewer</a>),\n",
       "  it may mean that your frontend doesn't currently support widgets.\n",
       "</p>\n"
      ],
      "text/plain": [
       "HBox(children=(IntProgress(value=0, max=10), HTML(value='')))"
      ]
     },
     "metadata": {},
     "output_type": "display_data"
    },
    {
     "name": "stdout",
     "output_type": "stream",
     "text": [
      "\n",
      "SUBJDataset\n",
      "Train precision 0.899 0.8995624999999998 0.899875\n",
      "Valid precision 0.855 0.8562999999999998 0.858\n",
      "Test precision 0.873 0.8748000000000001 0.877\n",
      "SUBJDataset tfchi2 200\n"
     ]
    },
    {
     "data": {
      "application/vnd.jupyter.widget-view+json": {
       "model_id": "8e0153dd84c64f939e554acb5c5838e1",
       "version_major": 2,
       "version_minor": 0
      },
      "text/html": [
       "<p>Failed to display Jupyter Widget of type <code>HBox</code>.</p>\n",
       "<p>\n",
       "  If you're reading this message in the Jupyter Notebook or JupyterLab Notebook, it may mean\n",
       "  that the widgets JavaScript is still loading. If this message persists, it\n",
       "  likely means that the widgets JavaScript library is either not installed or\n",
       "  not enabled. See the <a href=\"https://ipywidgets.readthedocs.io/en/stable/user_install.html\">Jupyter\n",
       "  Widgets Documentation</a> for setup instructions.\n",
       "</p>\n",
       "<p>\n",
       "  If you're reading this message in another frontend (for example, a static\n",
       "  rendering on GitHub or <a href=\"https://nbviewer.jupyter.org/\">NBViewer</a>),\n",
       "  it may mean that your frontend doesn't currently support widgets.\n",
       "</p>\n"
      ],
      "text/plain": [
       "HBox(children=(IntProgress(value=0, max=10), HTML(value='')))"
      ]
     },
     "metadata": {},
     "output_type": "display_data"
    },
    {
     "name": "stdout",
     "output_type": "stream",
     "text": [
      "\n",
      "SUBJDataset\n",
      "Train precision 0.8891249999999999 0.8895624999999999 0.890125\n",
      "Valid precision 0.843 0.8449 0.847\n",
      "Test precision 0.859 0.8597000000000001 0.86\n",
      "SUBJDataset tfchi2 300\n"
     ]
    },
    {
     "data": {
      "application/vnd.jupyter.widget-view+json": {
       "model_id": "69f4e690b9e44b788440bbaab74fa310",
       "version_major": 2,
       "version_minor": 0
      },
      "text/html": [
       "<p>Failed to display Jupyter Widget of type <code>HBox</code>.</p>\n",
       "<p>\n",
       "  If you're reading this message in the Jupyter Notebook or JupyterLab Notebook, it may mean\n",
       "  that the widgets JavaScript is still loading. If this message persists, it\n",
       "  likely means that the widgets JavaScript library is either not installed or\n",
       "  not enabled. See the <a href=\"https://ipywidgets.readthedocs.io/en/stable/user_install.html\">Jupyter\n",
       "  Widgets Documentation</a> for setup instructions.\n",
       "</p>\n",
       "<p>\n",
       "  If you're reading this message in another frontend (for example, a static\n",
       "  rendering on GitHub or <a href=\"https://nbviewer.jupyter.org/\">NBViewer</a>),\n",
       "  it may mean that your frontend doesn't currently support widgets.\n",
       "</p>\n"
      ],
      "text/plain": [
       "HBox(children=(IntProgress(value=0, max=10), HTML(value='')))"
      ]
     },
     "metadata": {},
     "output_type": "display_data"
    },
    {
     "name": "stdout",
     "output_type": "stream",
     "text": [
      "\n",
      "SUBJDataset\n",
      "Train precision 0.89525 0.8954625 0.896\n",
      "Valid precision 0.848 0.8508999999999999 0.854\n",
      "Test precision 0.87 0.873 0.875\n",
      "SUBJDataset tfchi2 400\n"
     ]
    },
    {
     "data": {
      "application/vnd.jupyter.widget-view+json": {
       "model_id": "18d7209d2528488db0e9d043dd03b9de",
       "version_major": 2,
       "version_minor": 0
      },
      "text/html": [
       "<p>Failed to display Jupyter Widget of type <code>HBox</code>.</p>\n",
       "<p>\n",
       "  If you're reading this message in the Jupyter Notebook or JupyterLab Notebook, it may mean\n",
       "  that the widgets JavaScript is still loading. If this message persists, it\n",
       "  likely means that the widgets JavaScript library is either not installed or\n",
       "  not enabled. See the <a href=\"https://ipywidgets.readthedocs.io/en/stable/user_install.html\">Jupyter\n",
       "  Widgets Documentation</a> for setup instructions.\n",
       "</p>\n",
       "<p>\n",
       "  If you're reading this message in another frontend (for example, a static\n",
       "  rendering on GitHub or <a href=\"https://nbviewer.jupyter.org/\">NBViewer</a>),\n",
       "  it may mean that your frontend doesn't currently support widgets.\n",
       "</p>\n"
      ],
      "text/plain": [
       "HBox(children=(IntProgress(value=0, max=10), HTML(value='')))"
      ]
     },
     "metadata": {},
     "output_type": "display_data"
    },
    {
     "name": "stdout",
     "output_type": "stream",
     "text": [
      "\n",
      "SUBJDataset\n",
      "Train precision 0.8987499999999999 0.8996875000000001 0.900125\n",
      "Valid precision 0.851 0.8554 0.857\n",
      "Test precision 0.874 0.8755 0.877\n",
      "SUBJDataset tfig 200\n"
     ]
    },
    {
     "data": {
      "application/vnd.jupyter.widget-view+json": {
       "model_id": "3f335d490ad047f9b1527e6f0d89e832",
       "version_major": 2,
       "version_minor": 0
      },
      "text/html": [
       "<p>Failed to display Jupyter Widget of type <code>HBox</code>.</p>\n",
       "<p>\n",
       "  If you're reading this message in the Jupyter Notebook or JupyterLab Notebook, it may mean\n",
       "  that the widgets JavaScript is still loading. If this message persists, it\n",
       "  likely means that the widgets JavaScript library is either not installed or\n",
       "  not enabled. See the <a href=\"https://ipywidgets.readthedocs.io/en/stable/user_install.html\">Jupyter\n",
       "  Widgets Documentation</a> for setup instructions.\n",
       "</p>\n",
       "<p>\n",
       "  If you're reading this message in another frontend (for example, a static\n",
       "  rendering on GitHub or <a href=\"https://nbviewer.jupyter.org/\">NBViewer</a>),\n",
       "  it may mean that your frontend doesn't currently support widgets.\n",
       "</p>\n"
      ],
      "text/plain": [
       "HBox(children=(IntProgress(value=0, max=10), HTML(value='')))"
      ]
     },
     "metadata": {},
     "output_type": "display_data"
    },
    {
     "name": "stdout",
     "output_type": "stream",
     "text": [
      "\n",
      "SUBJDataset\n",
      "Train precision 0.888625 0.8895624999999999 0.89\n",
      "Valid precision 0.845 0.8460000000000001 0.847\n",
      "Test precision 0.859 0.86 0.861\n",
      "SUBJDataset tfig 300\n"
     ]
    },
    {
     "data": {
      "application/vnd.jupyter.widget-view+json": {
       "model_id": "a168353af29347d3b8848a31b65466cc",
       "version_major": 2,
       "version_minor": 0
      },
      "text/html": [
       "<p>Failed to display Jupyter Widget of type <code>HBox</code>.</p>\n",
       "<p>\n",
       "  If you're reading this message in the Jupyter Notebook or JupyterLab Notebook, it may mean\n",
       "  that the widgets JavaScript is still loading. If this message persists, it\n",
       "  likely means that the widgets JavaScript library is either not installed or\n",
       "  not enabled. See the <a href=\"https://ipywidgets.readthedocs.io/en/stable/user_install.html\">Jupyter\n",
       "  Widgets Documentation</a> for setup instructions.\n",
       "</p>\n",
       "<p>\n",
       "  If you're reading this message in another frontend (for example, a static\n",
       "  rendering on GitHub or <a href=\"https://nbviewer.jupyter.org/\">NBViewer</a>),\n",
       "  it may mean that your frontend doesn't currently support widgets.\n",
       "</p>\n"
      ],
      "text/plain": [
       "HBox(children=(IntProgress(value=0, max=10), HTML(value='')))"
      ]
     },
     "metadata": {},
     "output_type": "display_data"
    },
    {
     "name": "stdout",
     "output_type": "stream",
     "text": [
      "\n",
      "SUBJDataset\n",
      "Train precision 0.894875 0.8959624999999999 0.896625\n",
      "Valid precision 0.85 0.8509 0.853\n",
      "Test precision 0.869 0.8720000000000001 0.874\n",
      "SUBJDataset tfig 400\n"
     ]
    },
    {
     "data": {
      "application/vnd.jupyter.widget-view+json": {
       "model_id": "98eaf832dece4405aab718c36093c805",
       "version_major": 2,
       "version_minor": 0
      },
      "text/html": [
       "<p>Failed to display Jupyter Widget of type <code>HBox</code>.</p>\n",
       "<p>\n",
       "  If you're reading this message in the Jupyter Notebook or JupyterLab Notebook, it may mean\n",
       "  that the widgets JavaScript is still loading. If this message persists, it\n",
       "  likely means that the widgets JavaScript library is either not installed or\n",
       "  not enabled. See the <a href=\"https://ipywidgets.readthedocs.io/en/stable/user_install.html\">Jupyter\n",
       "  Widgets Documentation</a> for setup instructions.\n",
       "</p>\n",
       "<p>\n",
       "  If you're reading this message in another frontend (for example, a static\n",
       "  rendering on GitHub or <a href=\"https://nbviewer.jupyter.org/\">NBViewer</a>),\n",
       "  it may mean that your frontend doesn't currently support widgets.\n",
       "</p>\n"
      ],
      "text/plain": [
       "HBox(children=(IntProgress(value=0, max=10), HTML(value='')))"
      ]
     },
     "metadata": {},
     "output_type": "display_data"
    },
    {
     "name": "stdout",
     "output_type": "stream",
     "text": [
      "\n",
      "SUBJDataset\n",
      "Train precision 0.8995 0.8999124999999999 0.900375\n",
      "Valid precision 0.854 0.8552000000000002 0.857\n",
      "Test precision 0.875 0.8765000000000001 0.878\n",
      "SUBJDataset tfgr 200\n"
     ]
    },
    {
     "data": {
      "application/vnd.jupyter.widget-view+json": {
       "model_id": "f1fd0e17bb1346f2b1ff1eed0ee7dc8e",
       "version_major": 2,
       "version_minor": 0
      },
      "text/html": [
       "<p>Failed to display Jupyter Widget of type <code>HBox</code>.</p>\n",
       "<p>\n",
       "  If you're reading this message in the Jupyter Notebook or JupyterLab Notebook, it may mean\n",
       "  that the widgets JavaScript is still loading. If this message persists, it\n",
       "  likely means that the widgets JavaScript library is either not installed or\n",
       "  not enabled. See the <a href=\"https://ipywidgets.readthedocs.io/en/stable/user_install.html\">Jupyter\n",
       "  Widgets Documentation</a> for setup instructions.\n",
       "</p>\n",
       "<p>\n",
       "  If you're reading this message in another frontend (for example, a static\n",
       "  rendering on GitHub or <a href=\"https://nbviewer.jupyter.org/\">NBViewer</a>),\n",
       "  it may mean that your frontend doesn't currently support widgets.\n",
       "</p>\n"
      ],
      "text/plain": [
       "HBox(children=(IntProgress(value=0, max=10), HTML(value='')))"
      ]
     },
     "metadata": {},
     "output_type": "display_data"
    },
    {
     "name": "stdout",
     "output_type": "stream",
     "text": [
      "\n",
      "SUBJDataset\n",
      "Train precision 0.88925 0.8895875 0.890375\n",
      "Valid precision 0.844 0.8455999999999999 0.847\n",
      "Test precision 0.858 0.8593999999999999 0.861\n",
      "SUBJDataset tfgr 300\n"
     ]
    },
    {
     "data": {
      "application/vnd.jupyter.widget-view+json": {
       "model_id": "d86b63c3f75448b2a0ed9e895d14e891",
       "version_major": 2,
       "version_minor": 0
      },
      "text/html": [
       "<p>Failed to display Jupyter Widget of type <code>HBox</code>.</p>\n",
       "<p>\n",
       "  If you're reading this message in the Jupyter Notebook or JupyterLab Notebook, it may mean\n",
       "  that the widgets JavaScript is still loading. If this message persists, it\n",
       "  likely means that the widgets JavaScript library is either not installed or\n",
       "  not enabled. See the <a href=\"https://ipywidgets.readthedocs.io/en/stable/user_install.html\">Jupyter\n",
       "  Widgets Documentation</a> for setup instructions.\n",
       "</p>\n",
       "<p>\n",
       "  If you're reading this message in another frontend (for example, a static\n",
       "  rendering on GitHub or <a href=\"https://nbviewer.jupyter.org/\">NBViewer</a>),\n",
       "  it may mean that your frontend doesn't currently support widgets.\n",
       "</p>\n"
      ],
      "text/plain": [
       "HBox(children=(IntProgress(value=0, max=10), HTML(value='')))"
      ]
     },
     "metadata": {},
     "output_type": "display_data"
    },
    {
     "name": "stdout",
     "output_type": "stream",
     "text": [
      "\n",
      "SUBJDataset\n",
      "Train precision 0.895 0.8956375000000001 0.896\n",
      "Valid precision 0.849 0.8509 0.852\n",
      "Test precision 0.872 0.8732 0.875\n",
      "SUBJDataset tfgr 400\n"
     ]
    },
    {
     "data": {
      "application/vnd.jupyter.widget-view+json": {
       "model_id": "40b5b7bf0b6f4e3c9e9dc1289046062f",
       "version_major": 2,
       "version_minor": 0
      },
      "text/html": [
       "<p>Failed to display Jupyter Widget of type <code>HBox</code>.</p>\n",
       "<p>\n",
       "  If you're reading this message in the Jupyter Notebook or JupyterLab Notebook, it may mean\n",
       "  that the widgets JavaScript is still loading. If this message persists, it\n",
       "  likely means that the widgets JavaScript library is either not installed or\n",
       "  not enabled. See the <a href=\"https://ipywidgets.readthedocs.io/en/stable/user_install.html\">Jupyter\n",
       "  Widgets Documentation</a> for setup instructions.\n",
       "</p>\n",
       "<p>\n",
       "  If you're reading this message in another frontend (for example, a static\n",
       "  rendering on GitHub or <a href=\"https://nbviewer.jupyter.org/\">NBViewer</a>),\n",
       "  it may mean that your frontend doesn't currently support widgets.\n",
       "</p>\n"
      ],
      "text/plain": [
       "HBox(children=(IntProgress(value=0, max=10), HTML(value='')))"
      ]
     },
     "metadata": {},
     "output_type": "display_data"
    },
    {
     "name": "stdout",
     "output_type": "stream",
     "text": [
      "\n",
      "SUBJDataset\n",
      "Train precision 0.89925 0.8998375000000001 0.900375\n",
      "Valid precision 0.852 0.8539 0.857\n",
      "Test precision 0.874 0.8754 0.877\n",
      "SUBJDataset tfor 200\n"
     ]
    },
    {
     "data": {
      "application/vnd.jupyter.widget-view+json": {
       "model_id": "bcca5bd2d7be4ea382342cd3fb777ea9",
       "version_major": 2,
       "version_minor": 0
      },
      "text/html": [
       "<p>Failed to display Jupyter Widget of type <code>HBox</code>.</p>\n",
       "<p>\n",
       "  If you're reading this message in the Jupyter Notebook or JupyterLab Notebook, it may mean\n",
       "  that the widgets JavaScript is still loading. If this message persists, it\n",
       "  likely means that the widgets JavaScript library is either not installed or\n",
       "  not enabled. See the <a href=\"https://ipywidgets.readthedocs.io/en/stable/user_install.html\">Jupyter\n",
       "  Widgets Documentation</a> for setup instructions.\n",
       "</p>\n",
       "<p>\n",
       "  If you're reading this message in another frontend (for example, a static\n",
       "  rendering on GitHub or <a href=\"https://nbviewer.jupyter.org/\">NBViewer</a>),\n",
       "  it may mean that your frontend doesn't currently support widgets.\n",
       "</p>\n"
      ],
      "text/plain": [
       "HBox(children=(IntProgress(value=0, max=10), HTML(value='')))"
      ]
     },
     "metadata": {},
     "output_type": "display_data"
    },
    {
     "name": "stdout",
     "output_type": "stream",
     "text": [
      "\n",
      "SUBJDataset\n",
      "Train precision 0.889 0.889375 0.889625\n",
      "Valid precision 0.843 0.8450000000000001 0.848\n",
      "Test precision 0.857 0.8595 0.86\n",
      "SUBJDataset tfor 300\n"
     ]
    },
    {
     "data": {
      "application/vnd.jupyter.widget-view+json": {
       "model_id": "03c73c1dc63141f7919ac43392c800aa",
       "version_major": 2,
       "version_minor": 0
      },
      "text/html": [
       "<p>Failed to display Jupyter Widget of type <code>HBox</code>.</p>\n",
       "<p>\n",
       "  If you're reading this message in the Jupyter Notebook or JupyterLab Notebook, it may mean\n",
       "  that the widgets JavaScript is still loading. If this message persists, it\n",
       "  likely means that the widgets JavaScript library is either not installed or\n",
       "  not enabled. See the <a href=\"https://ipywidgets.readthedocs.io/en/stable/user_install.html\">Jupyter\n",
       "  Widgets Documentation</a> for setup instructions.\n",
       "</p>\n",
       "<p>\n",
       "  If you're reading this message in another frontend (for example, a static\n",
       "  rendering on GitHub or <a href=\"https://nbviewer.jupyter.org/\">NBViewer</a>),\n",
       "  it may mean that your frontend doesn't currently support widgets.\n",
       "</p>\n"
      ],
      "text/plain": [
       "HBox(children=(IntProgress(value=0, max=10), HTML(value='')))"
      ]
     },
     "metadata": {},
     "output_type": "display_data"
    },
    {
     "name": "stdout",
     "output_type": "stream",
     "text": [
      "\n",
      "SUBJDataset\n",
      "Train precision 0.89525 0.89585 0.896875\n",
      "Valid precision 0.85 0.8513999999999999 0.854\n",
      "Test precision 0.871 0.8728999999999999 0.875\n",
      "SUBJDataset tfor 400\n"
     ]
    },
    {
     "data": {
      "application/vnd.jupyter.widget-view+json": {
       "model_id": "6d03b10581954328bb1851613f20b396",
       "version_major": 2,
       "version_minor": 0
      },
      "text/html": [
       "<p>Failed to display Jupyter Widget of type <code>HBox</code>.</p>\n",
       "<p>\n",
       "  If you're reading this message in the Jupyter Notebook or JupyterLab Notebook, it may mean\n",
       "  that the widgets JavaScript is still loading. If this message persists, it\n",
       "  likely means that the widgets JavaScript library is either not installed or\n",
       "  not enabled. See the <a href=\"https://ipywidgets.readthedocs.io/en/stable/user_install.html\">Jupyter\n",
       "  Widgets Documentation</a> for setup instructions.\n",
       "</p>\n",
       "<p>\n",
       "  If you're reading this message in another frontend (for example, a static\n",
       "  rendering on GitHub or <a href=\"https://nbviewer.jupyter.org/\">NBViewer</a>),\n",
       "  it may mean that your frontend doesn't currently support widgets.\n",
       "</p>\n"
      ],
      "text/plain": [
       "HBox(children=(IntProgress(value=0, max=10), HTML(value='')))"
      ]
     },
     "metadata": {},
     "output_type": "display_data"
    },
    {
     "name": "stdout",
     "output_type": "stream",
     "text": [
      "\n",
      "SUBJDataset\n",
      "Train precision 0.89975 0.9000499999999999 0.900375\n",
      "Valid precision 0.853 0.8545999999999999 0.857\n",
      "Test precision 0.875 0.8760999999999999 0.877\n",
      "SUBJDataset tfrf 200\n"
     ]
    },
    {
     "data": {
      "application/vnd.jupyter.widget-view+json": {
       "model_id": "90074d5bc5784c4da27378be10f20797",
       "version_major": 2,
       "version_minor": 0
      },
      "text/html": [
       "<p>Failed to display Jupyter Widget of type <code>HBox</code>.</p>\n",
       "<p>\n",
       "  If you're reading this message in the Jupyter Notebook or JupyterLab Notebook, it may mean\n",
       "  that the widgets JavaScript is still loading. If this message persists, it\n",
       "  likely means that the widgets JavaScript library is either not installed or\n",
       "  not enabled. See the <a href=\"https://ipywidgets.readthedocs.io/en/stable/user_install.html\">Jupyter\n",
       "  Widgets Documentation</a> for setup instructions.\n",
       "</p>\n",
       "<p>\n",
       "  If you're reading this message in another frontend (for example, a static\n",
       "  rendering on GitHub or <a href=\"https://nbviewer.jupyter.org/\">NBViewer</a>),\n",
       "  it may mean that your frontend doesn't currently support widgets.\n",
       "</p>\n"
      ],
      "text/plain": [
       "HBox(children=(IntProgress(value=0, max=10), HTML(value='')))"
      ]
     },
     "metadata": {},
     "output_type": "display_data"
    },
    {
     "name": "stdout",
     "output_type": "stream",
     "text": [
      "\n",
      "SUBJDataset\n",
      "Train precision 0.889 0.889475 0.89\n",
      "Valid precision 0.844 0.8452999999999999 0.848\n",
      "Test precision 0.859 0.8594999999999999 0.86\n",
      "SUBJDataset tfrf 300\n"
     ]
    },
    {
     "data": {
      "application/vnd.jupyter.widget-view+json": {
       "model_id": "b35e552354ef4ce980b85d42d56e97a4",
       "version_major": 2,
       "version_minor": 0
      },
      "text/html": [
       "<p>Failed to display Jupyter Widget of type <code>HBox</code>.</p>\n",
       "<p>\n",
       "  If you're reading this message in the Jupyter Notebook or JupyterLab Notebook, it may mean\n",
       "  that the widgets JavaScript is still loading. If this message persists, it\n",
       "  likely means that the widgets JavaScript library is either not installed or\n",
       "  not enabled. See the <a href=\"https://ipywidgets.readthedocs.io/en/stable/user_install.html\">Jupyter\n",
       "  Widgets Documentation</a> for setup instructions.\n",
       "</p>\n",
       "<p>\n",
       "  If you're reading this message in another frontend (for example, a static\n",
       "  rendering on GitHub or <a href=\"https://nbviewer.jupyter.org/\">NBViewer</a>),\n",
       "  it may mean that your frontend doesn't currently support widgets.\n",
       "</p>\n"
      ],
      "text/plain": [
       "HBox(children=(IntProgress(value=0, max=10), HTML(value='')))"
      ]
     },
     "metadata": {},
     "output_type": "display_data"
    },
    {
     "name": "stdout",
     "output_type": "stream",
     "text": [
      "\n",
      "SUBJDataset\n",
      "Train precision 0.894875 0.8956625 0.89625\n",
      "Valid precision 0.849 0.8503000000000001 0.852\n",
      "Test precision 0.871 0.8726 0.874\n",
      "SUBJDataset tfrf 400\n"
     ]
    },
    {
     "data": {
      "application/vnd.jupyter.widget-view+json": {
       "model_id": "d614015780534239b322428b5755a1f9",
       "version_major": 2,
       "version_minor": 0
      },
      "text/html": [
       "<p>Failed to display Jupyter Widget of type <code>HBox</code>.</p>\n",
       "<p>\n",
       "  If you're reading this message in the Jupyter Notebook or JupyterLab Notebook, it may mean\n",
       "  that the widgets JavaScript is still loading. If this message persists, it\n",
       "  likely means that the widgets JavaScript library is either not installed or\n",
       "  not enabled. See the <a href=\"https://ipywidgets.readthedocs.io/en/stable/user_install.html\">Jupyter\n",
       "  Widgets Documentation</a> for setup instructions.\n",
       "</p>\n",
       "<p>\n",
       "  If you're reading this message in another frontend (for example, a static\n",
       "  rendering on GitHub or <a href=\"https://nbviewer.jupyter.org/\">NBViewer</a>),\n",
       "  it may mean that your frontend doesn't currently support widgets.\n",
       "</p>\n"
      ],
      "text/plain": [
       "HBox(children=(IntProgress(value=0, max=10), HTML(value='')))"
      ]
     },
     "metadata": {},
     "output_type": "display_data"
    },
    {
     "name": "stdout",
     "output_type": "stream",
     "text": [
      "\n",
      "SUBJDataset\n",
      "Train precision 0.899625 0.8999500000000001 0.9005\n",
      "Valid precision 0.853 0.8546999999999999 0.859\n",
      "Test precision 0.873 0.8755 0.878\n",
      "MPQADataset None 200\n"
     ]
    },
    {
     "data": {
      "application/vnd.jupyter.widget-view+json": {
       "model_id": "c865b7644dc74092a2f83d898bee23ce",
       "version_major": 2,
       "version_minor": 0
      },
      "text/html": [
       "<p>Failed to display Jupyter Widget of type <code>HBox</code>.</p>\n",
       "<p>\n",
       "  If you're reading this message in the Jupyter Notebook or JupyterLab Notebook, it may mean\n",
       "  that the widgets JavaScript is still loading. If this message persists, it\n",
       "  likely means that the widgets JavaScript library is either not installed or\n",
       "  not enabled. See the <a href=\"https://ipywidgets.readthedocs.io/en/stable/user_install.html\">Jupyter\n",
       "  Widgets Documentation</a> for setup instructions.\n",
       "</p>\n",
       "<p>\n",
       "  If you're reading this message in another frontend (for example, a static\n",
       "  rendering on GitHub or <a href=\"https://nbviewer.jupyter.org/\">NBViewer</a>),\n",
       "  it may mean that your frontend doesn't currently support widgets.\n",
       "</p>\n"
      ],
      "text/plain": [
       "HBox(children=(IntProgress(value=0, max=10), HTML(value='')))"
      ]
     },
     "metadata": {},
     "output_type": "display_data"
    },
    {
     "name": "stdout",
     "output_type": "stream",
     "text": [
      "\n",
      "MPQADataset\n",
      "Train precision 0.7892503536067892 0.7904408297972654 0.7914898632720415\n",
      "Valid precision 0.7558906691800189 0.7582469368520264 0.760603204524034\n",
      "Test precision 0.7803958529688972 0.7822808671065034 0.7841658812441094\n",
      "MPQADataset None 300\n"
     ]
    },
    {
     "data": {
      "application/vnd.jupyter.widget-view+json": {
       "model_id": "ef901b806dc34517b3803e76fc638140",
       "version_major": 2,
       "version_minor": 0
      },
      "text/html": [
       "<p>Failed to display Jupyter Widget of type <code>HBox</code>.</p>\n",
       "<p>\n",
       "  If you're reading this message in the Jupyter Notebook or JupyterLab Notebook, it may mean\n",
       "  that the widgets JavaScript is still loading. If this message persists, it\n",
       "  likely means that the widgets JavaScript library is either not installed or\n",
       "  not enabled. See the <a href=\"https://ipywidgets.readthedocs.io/en/stable/user_install.html\">Jupyter\n",
       "  Widgets Documentation</a> for setup instructions.\n",
       "</p>\n",
       "<p>\n",
       "  If you're reading this message in another frontend (for example, a static\n",
       "  rendering on GitHub or <a href=\"https://nbviewer.jupyter.org/\">NBViewer</a>),\n",
       "  it may mean that your frontend doesn't currently support widgets.\n",
       "</p>\n"
      ],
      "text/plain": [
       "HBox(children=(IntProgress(value=0, max=10), HTML(value='')))"
      ]
     },
     "metadata": {},
     "output_type": "display_data"
    },
    {
     "name": "stdout",
     "output_type": "stream",
     "text": [
      "\n",
      "MPQADataset\n",
      "Train precision 0.8031588873173032 0.8042314945780292 0.8057520037718058\n",
      "Valid precision 0.763430725730443 0.7675777568331762 0.769085768143261\n",
      "Test precision 0.7860508953817154 0.7901036757775682 0.7935909519321395\n",
      "MPQADataset None 400\n"
     ]
    },
    {
     "data": {
      "application/vnd.jupyter.widget-view+json": {
       "model_id": "f8897e8a7e2347a28aae3a2949153552",
       "version_major": 2,
       "version_minor": 0
      },
      "text/html": [
       "<p>Failed to display Jupyter Widget of type <code>HBox</code>.</p>\n",
       "<p>\n",
       "  If you're reading this message in the Jupyter Notebook or JupyterLab Notebook, it may mean\n",
       "  that the widgets JavaScript is still loading. If this message persists, it\n",
       "  likely means that the widgets JavaScript library is either not installed or\n",
       "  not enabled. See the <a href=\"https://ipywidgets.readthedocs.io/en/stable/user_install.html\">Jupyter\n",
       "  Widgets Documentation</a> for setup instructions.\n",
       "</p>\n",
       "<p>\n",
       "  If you're reading this message in another frontend (for example, a static\n",
       "  rendering on GitHub or <a href=\"https://nbviewer.jupyter.org/\">NBViewer</a>),\n",
       "  it may mean that your frontend doesn't currently support widgets.\n",
       "</p>\n"
      ],
      "text/plain": [
       "HBox(children=(IntProgress(value=0, max=10), HTML(value='')))"
      ]
     },
     "metadata": {},
     "output_type": "display_data"
    },
    {
     "name": "stdout",
     "output_type": "stream",
     "text": [
      "\n",
      "MPQADataset\n",
      "Train precision 0.8155351249410655 0.817185289957567 0.818010372465818\n",
      "Valid precision 0.7794533459000943 0.78124410933082 0.7822808671065034\n",
      "Test precision 0.7964184731385485 0.8005655042412819 0.8049010367577757\n",
      "MPQADataset tfidf 200\n"
     ]
    },
    {
     "data": {
      "application/vnd.jupyter.widget-view+json": {
       "model_id": "00182242fc5a4142aa6c35adc228adf5",
       "version_major": 2,
       "version_minor": 0
      },
      "text/html": [
       "<p>Failed to display Jupyter Widget of type <code>HBox</code>.</p>\n",
       "<p>\n",
       "  If you're reading this message in the Jupyter Notebook or JupyterLab Notebook, it may mean\n",
       "  that the widgets JavaScript is still loading. If this message persists, it\n",
       "  likely means that the widgets JavaScript library is either not installed or\n",
       "  not enabled. See the <a href=\"https://ipywidgets.readthedocs.io/en/stable/user_install.html\">Jupyter\n",
       "  Widgets Documentation</a> for setup instructions.\n",
       "</p>\n",
       "<p>\n",
       "  If you're reading this message in another frontend (for example, a static\n",
       "  rendering on GitHub or <a href=\"https://nbviewer.jupyter.org/\">NBViewer</a>),\n",
       "  it may mean that your frontend doesn't currently support widgets.\n",
       "</p>\n"
      ],
      "text/plain": [
       "HBox(children=(IntProgress(value=0, max=10), HTML(value='')))"
      ]
     },
     "metadata": {},
     "output_type": "display_data"
    },
    {
     "name": "stdout",
     "output_type": "stream",
     "text": [
      "\n",
      "MPQADataset\n",
      "Train precision 0.7894860914662895 0.790935879302216 0.7917256011315417\n",
      "Valid precision 0.7549481621112158 0.757492931196984 0.760603204524034\n",
      "Test precision 0.7803958529688972 0.7823751178133836 0.7851083883129124\n",
      "MPQADataset tfidf 300\n"
     ]
    },
    {
     "data": {
      "application/vnd.jupyter.widget-view+json": {
       "model_id": "f8b26da3fc4b4d94908e077cf05ee8a3",
       "version_major": 2,
       "version_minor": 0
      },
      "text/html": [
       "<p>Failed to display Jupyter Widget of type <code>HBox</code>.</p>\n",
       "<p>\n",
       "  If you're reading this message in the Jupyter Notebook or JupyterLab Notebook, it may mean\n",
       "  that the widgets JavaScript is still loading. If this message persists, it\n",
       "  likely means that the widgets JavaScript library is either not installed or\n",
       "  not enabled. See the <a href=\"https://ipywidgets.readthedocs.io/en/stable/user_install.html\">Jupyter\n",
       "  Widgets Documentation</a> for setup instructions.\n",
       "</p>\n",
       "<p>\n",
       "  If you're reading this message in another frontend (for example, a static\n",
       "  rendering on GitHub or <a href=\"https://nbviewer.jupyter.org/\">NBViewer</a>),\n",
       "  it may mean that your frontend doesn't currently support widgets.\n",
       "</p>\n"
      ],
      "text/plain": [
       "HBox(children=(IntProgress(value=0, max=10), HTML(value='')))"
      ]
     },
     "metadata": {},
     "output_type": "display_data"
    },
    {
     "name": "stdout",
     "output_type": "stream",
     "text": [
      "\n",
      "MPQADataset\n",
      "Train precision 0.8031588873173032 0.8040900518623293 0.8050447901933051\n",
      "Valid precision 0.767200754005655 0.7683317624882188 0.7700282752120641\n",
      "Test precision 0.7869934024505184 0.7910461828463713 0.7954759660697455\n",
      "MPQADataset tfidf 400\n"
     ]
    },
    {
     "data": {
      "application/vnd.jupyter.widget-view+json": {
       "model_id": "9cef9082c347407cadcfaa8d73befd87",
       "version_major": 2,
       "version_minor": 0
      },
      "text/html": [
       "<p>Failed to display Jupyter Widget of type <code>HBox</code>.</p>\n",
       "<p>\n",
       "  If you're reading this message in the Jupyter Notebook or JupyterLab Notebook, it may mean\n",
       "  that the widgets JavaScript is still loading. If this message persists, it\n",
       "  likely means that the widgets JavaScript library is either not installed or\n",
       "  not enabled. See the <a href=\"https://ipywidgets.readthedocs.io/en/stable/user_install.html\">Jupyter\n",
       "  Widgets Documentation</a> for setup instructions.\n",
       "</p>\n",
       "<p>\n",
       "  If you're reading this message in another frontend (for example, a static\n",
       "  rendering on GitHub or <a href=\"https://nbviewer.jupyter.org/\">NBViewer</a>),\n",
       "  it may mean that your frontend doesn't currently support widgets.\n",
       "</p>\n"
      ],
      "text/plain": [
       "HBox(children=(IntProgress(value=0, max=10), HTML(value='')))"
      ]
     },
     "metadata": {},
     "output_type": "display_data"
    },
    {
     "name": "stdout",
     "output_type": "stream",
     "text": [
      "\n",
      "MPQADataset\n",
      "Train precision 0.8162423385195663 0.8168316831683168 0.8181282413955682\n",
      "Valid precision 0.7813383600377003 0.7828463713477851 0.7860508953817154\n",
      "Test precision 0.7954759660697455 0.7991517436380773 0.8030160226201697\n",
      "MPQADataset tfchi2 200\n"
     ]
    },
    {
     "data": {
      "application/vnd.jupyter.widget-view+json": {
       "model_id": "1e16857e4a824742a376e0895d6ca003",
       "version_major": 2,
       "version_minor": 0
      },
      "text/html": [
       "<p>Failed to display Jupyter Widget of type <code>HBox</code>.</p>\n",
       "<p>\n",
       "  If you're reading this message in the Jupyter Notebook or JupyterLab Notebook, it may mean\n",
       "  that the widgets JavaScript is still loading. If this message persists, it\n",
       "  likely means that the widgets JavaScript library is either not installed or\n",
       "  not enabled. See the <a href=\"https://ipywidgets.readthedocs.io/en/stable/user_install.html\">Jupyter\n",
       "  Widgets Documentation</a> for setup instructions.\n",
       "</p>\n",
       "<p>\n",
       "  If you're reading this message in another frontend (for example, a static\n",
       "  rendering on GitHub or <a href=\"https://nbviewer.jupyter.org/\">NBViewer</a>),\n",
       "  it may mean that your frontend doesn't currently support widgets.\n",
       "</p>\n"
      ],
      "text/plain": [
       "HBox(children=(IntProgress(value=0, max=10), HTML(value='')))"
      ]
     },
     "metadata": {},
     "output_type": "display_data"
    },
    {
     "name": "stdout",
     "output_type": "stream",
     "text": [
      "\n",
      "MPQADataset\n",
      "Train precision 0.7898396982555398 0.7909123055162659 0.7916077322017916\n",
      "Valid precision 0.7558906691800189 0.7577756833176249 0.7615457115928369\n",
      "Test precision 0.7813383600377003 0.7825636192271441 0.7832233741753063\n",
      "MPQADataset tfchi2 300\n"
     ]
    },
    {
     "data": {
      "application/vnd.jupyter.widget-view+json": {
       "model_id": "91798c1fcbfe4ed2b26cb0f232079a92",
       "version_major": 2,
       "version_minor": 0
      },
      "text/html": [
       "<p>Failed to display Jupyter Widget of type <code>HBox</code>.</p>\n",
       "<p>\n",
       "  If you're reading this message in the Jupyter Notebook or JupyterLab Notebook, it may mean\n",
       "  that the widgets JavaScript is still loading. If this message persists, it\n",
       "  likely means that the widgets JavaScript library is either not installed or\n",
       "  not enabled. See the <a href=\"https://ipywidgets.readthedocs.io/en/stable/user_install.html\">Jupyter\n",
       "  Widgets Documentation</a> for setup instructions.\n",
       "</p>\n",
       "<p>\n",
       "  If you're reading this message in another frontend (for example, a static\n",
       "  rendering on GitHub or <a href=\"https://nbviewer.jupyter.org/\">NBViewer</a>),\n",
       "  it may mean that your frontend doesn't currently support widgets.\n",
       "</p>\n"
      ],
      "text/plain": [
       "HBox(children=(IntProgress(value=0, max=10), HTML(value='')))"
      ]
     },
     "metadata": {},
     "output_type": "display_data"
    },
    {
     "name": "stdout",
     "output_type": "stream",
     "text": [
      "\n",
      "MPQADataset\n",
      "Train precision 0.8032767562470533 0.8041607732201792 0.8055162659123055\n",
      "Valid precision 0.766258246936852 0.7686145146088595 0.7709707822808671\n",
      "Test precision 0.7851083883129124 0.7904806786050895 0.7935909519321395\n",
      "MPQADataset tfchi2 400\n"
     ]
    },
    {
     "data": {
      "application/vnd.jupyter.widget-view+json": {
       "model_id": "0309b35130df4f98ad38ac0df6bed61b",
       "version_major": 2,
       "version_minor": 0
      },
      "text/html": [
       "<p>Failed to display Jupyter Widget of type <code>HBox</code>.</p>\n",
       "<p>\n",
       "  If you're reading this message in the Jupyter Notebook or JupyterLab Notebook, it may mean\n",
       "  that the widgets JavaScript is still loading. If this message persists, it\n",
       "  likely means that the widgets JavaScript library is either not installed or\n",
       "  not enabled. See the <a href=\"https://ipywidgets.readthedocs.io/en/stable/user_install.html\">Jupyter\n",
       "  Widgets Documentation</a> for setup instructions.\n",
       "</p>\n",
       "<p>\n",
       "  If you're reading this message in another frontend (for example, a static\n",
       "  rendering on GitHub or <a href=\"https://nbviewer.jupyter.org/\">NBViewer</a>),\n",
       "  it may mean that your frontend doesn't currently support widgets.\n",
       "</p>\n"
      ],
      "text/plain": [
       "HBox(children=(IntProgress(value=0, max=10), HTML(value='')))"
      ]
     },
     "metadata": {},
     "output_type": "display_data"
    },
    {
     "name": "stdout",
     "output_type": "stream",
     "text": [
      "\n",
      "MPQADataset\n",
      "Train precision 0.8148279113625648 0.8166666666666667 0.8177746346063177\n",
      "Valid precision 0.7785108388312912 0.7813383600377003 0.7841658812441094\n",
      "Test precision 0.7964184731385485 0.799340245051838 0.8030160226201697\n",
      "MPQADataset tfig 200\n"
     ]
    },
    {
     "data": {
      "application/vnd.jupyter.widget-view+json": {
       "model_id": "67475d2ee46b4758bd1abb53a78e93b1",
       "version_major": 2,
       "version_minor": 0
      },
      "text/html": [
       "<p>Failed to display Jupyter Widget of type <code>HBox</code>.</p>\n",
       "<p>\n",
       "  If you're reading this message in the Jupyter Notebook or JupyterLab Notebook, it may mean\n",
       "  that the widgets JavaScript is still loading. If this message persists, it\n",
       "  likely means that the widgets JavaScript library is either not installed or\n",
       "  not enabled. See the <a href=\"https://ipywidgets.readthedocs.io/en/stable/user_install.html\">Jupyter\n",
       "  Widgets Documentation</a> for setup instructions.\n",
       "</p>\n",
       "<p>\n",
       "  If you're reading this message in another frontend (for example, a static\n",
       "  rendering on GitHub or <a href=\"https://nbviewer.jupyter.org/\">NBViewer</a>),\n",
       "  it may mean that your frontend doesn't currently support widgets.\n",
       "</p>\n"
      ],
      "text/plain": [
       "HBox(children=(IntProgress(value=0, max=10), HTML(value='')))"
      ]
     },
     "metadata": {},
     "output_type": "display_data"
    },
    {
     "name": "stdout",
     "output_type": "stream",
     "text": [
      "\n",
      "MPQADataset\n",
      "Train precision 0.7898396982555398 0.7905233380480905 0.791018387553041\n",
      "Valid precision 0.7558906691800189 0.757492931196984 0.758718190386428\n",
      "Test precision 0.7803958529688972 0.7819038642789821 0.7841658812441094\n",
      "MPQADataset tfig 300\n"
     ]
    },
    {
     "data": {
      "application/vnd.jupyter.widget-view+json": {
       "model_id": "b5b7d1eae2814a259f83f3515c99e8dd",
       "version_major": 2,
       "version_minor": 0
      },
      "text/html": [
       "<p>Failed to display Jupyter Widget of type <code>HBox</code>.</p>\n",
       "<p>\n",
       "  If you're reading this message in the Jupyter Notebook or JupyterLab Notebook, it may mean\n",
       "  that the widgets JavaScript is still loading. If this message persists, it\n",
       "  likely means that the widgets JavaScript library is either not installed or\n",
       "  not enabled. See the <a href=\"https://ipywidgets.readthedocs.io/en/stable/user_install.html\">Jupyter\n",
       "  Widgets Documentation</a> for setup instructions.\n",
       "</p>\n",
       "<p>\n",
       "  If you're reading this message in another frontend (for example, a static\n",
       "  rendering on GitHub or <a href=\"https://nbviewer.jupyter.org/\">NBViewer</a>),\n",
       "  it may mean that your frontend doesn't currently support widgets.\n",
       "</p>\n"
      ],
      "text/plain": [
       "HBox(children=(IntProgress(value=0, max=10), HTML(value='')))"
      ]
     },
     "metadata": {},
     "output_type": "display_data"
    },
    {
     "name": "stdout",
     "output_type": "stream",
     "text": [
      "\n",
      "MPQADataset\n",
      "Train precision 0.8017444601603018 0.8039839698255541 0.8056341348420556\n",
      "Valid precision 0.763430725730443 0.7667295004712534 0.7681432610744581\n",
      "Test precision 0.7869934024505184 0.7906691800188502 0.7935909519321395\n",
      "MPQADataset tfig 400\n"
     ]
    },
    {
     "data": {
      "application/vnd.jupyter.widget-view+json": {
       "model_id": "7524d4327b884faebcaae267f5ecd458",
       "version_major": 2,
       "version_minor": 0
      },
      "text/html": [
       "<p>Failed to display Jupyter Widget of type <code>HBox</code>.</p>\n",
       "<p>\n",
       "  If you're reading this message in the Jupyter Notebook or JupyterLab Notebook, it may mean\n",
       "  that the widgets JavaScript is still loading. If this message persists, it\n",
       "  likely means that the widgets JavaScript library is either not installed or\n",
       "  not enabled. See the <a href=\"https://ipywidgets.readthedocs.io/en/stable/user_install.html\">Jupyter\n",
       "  Widgets Documentation</a> for setup instructions.\n",
       "</p>\n",
       "<p>\n",
       "  If you're reading this message in another frontend (for example, a static\n",
       "  rendering on GitHub or <a href=\"https://nbviewer.jupyter.org/\">NBViewer</a>),\n",
       "  it may mean that your frontend doesn't currently support widgets.\n",
       "</p>\n"
      ],
      "text/plain": [
       "HBox(children=(IntProgress(value=0, max=10), HTML(value='')))"
      ]
     },
     "metadata": {},
     "output_type": "display_data"
    },
    {
     "name": "stdout",
     "output_type": "stream",
     "text": [
      "\n",
      "MPQADataset\n",
      "Train precision 0.814945780292315 0.817067421027817 0.8181282413955682\n",
      "Valid precision 0.7813383600377003 0.7827521206409048 0.7851083883129124\n",
      "Test precision 0.7945334590009425 0.7995287464655985 0.8030160226201697\n",
      "MPQADataset tfgr 200\n"
     ]
    },
    {
     "data": {
      "application/vnd.jupyter.widget-view+json": {
       "model_id": "dc5add492d724032b53b10e53effcbd1",
       "version_major": 2,
       "version_minor": 0
      },
      "text/html": [
       "<p>Failed to display Jupyter Widget of type <code>HBox</code>.</p>\n",
       "<p>\n",
       "  If you're reading this message in the Jupyter Notebook or JupyterLab Notebook, it may mean\n",
       "  that the widgets JavaScript is still loading. If this message persists, it\n",
       "  likely means that the widgets JavaScript library is either not installed or\n",
       "  not enabled. See the <a href=\"https://ipywidgets.readthedocs.io/en/stable/user_install.html\">Jupyter\n",
       "  Widgets Documentation</a> for setup instructions.\n",
       "</p>\n",
       "<p>\n",
       "  If you're reading this message in another frontend (for example, a static\n",
       "  rendering on GitHub or <a href=\"https://nbviewer.jupyter.org/\">NBViewer</a>),\n",
       "  it may mean that your frontend doesn't currently support widgets.\n",
       "</p>\n"
      ],
      "text/plain": [
       "HBox(children=(IntProgress(value=0, max=10), HTML(value='')))"
      ]
     },
     "metadata": {},
     "output_type": "display_data"
    },
    {
     "name": "stdout",
     "output_type": "stream",
     "text": [
      "\n",
      "MPQADataset\n",
      "Train precision 0.7896039603960396 0.7904879773691655 0.7916077322017916\n",
      "Valid precision 0.7558906691800189 0.7581526861451462 0.7615457115928369\n",
      "Test precision 0.7803958529688972 0.782186616399623 0.7841658812441094\n",
      "MPQADataset tfgr 300\n"
     ]
    },
    {
     "data": {
      "application/vnd.jupyter.widget-view+json": {
       "model_id": "5d223e10844f4618896c5cf5c6b1a6f6",
       "version_major": 2,
       "version_minor": 0
      },
      "text/html": [
       "<p>Failed to display Jupyter Widget of type <code>HBox</code>.</p>\n",
       "<p>\n",
       "  If you're reading this message in the Jupyter Notebook or JupyterLab Notebook, it may mean\n",
       "  that the widgets JavaScript is still loading. If this message persists, it\n",
       "  likely means that the widgets JavaScript library is either not installed or\n",
       "  not enabled. See the <a href=\"https://ipywidgets.readthedocs.io/en/stable/user_install.html\">Jupyter\n",
       "  Widgets Documentation</a> for setup instructions.\n",
       "</p>\n",
       "<p>\n",
       "  If you're reading this message in another frontend (for example, a static\n",
       "  rendering on GitHub or <a href=\"https://nbviewer.jupyter.org/\">NBViewer</a>),\n",
       "  it may mean that your frontend doesn't currently support widgets.\n",
       "</p>\n"
      ],
      "text/plain": [
       "HBox(children=(IntProgress(value=0, max=10), HTML(value='')))"
      ]
     },
     "metadata": {},
     "output_type": "display_data"
    },
    {
     "name": "stdout",
     "output_type": "stream",
     "text": [
      "\n",
      "MPQADataset\n",
      "Train precision 0.8028052805280528 0.8038307402168788 0.8049269212635549\n",
      "Valid precision 0.766258246936852 0.7687087653157398 0.7709707822808671\n",
      "Test precision 0.7879359095193214 0.7905749293119699 0.7935909519321395\n",
      "MPQADataset tfgr 400\n"
     ]
    },
    {
     "data": {
      "application/vnd.jupyter.widget-view+json": {
       "model_id": "c6a7df10ff3f49fba3c0caef95affb94",
       "version_major": 2,
       "version_minor": 0
      },
      "text/html": [
       "<p>Failed to display Jupyter Widget of type <code>HBox</code>.</p>\n",
       "<p>\n",
       "  If you're reading this message in the Jupyter Notebook or JupyterLab Notebook, it may mean\n",
       "  that the widgets JavaScript is still loading. If this message persists, it\n",
       "  likely means that the widgets JavaScript library is either not installed or\n",
       "  not enabled. See the <a href=\"https://ipywidgets.readthedocs.io/en/stable/user_install.html\">Jupyter\n",
       "  Widgets Documentation</a> for setup instructions.\n",
       "</p>\n",
       "<p>\n",
       "  If you're reading this message in another frontend (for example, a static\n",
       "  rendering on GitHub or <a href=\"https://nbviewer.jupyter.org/\">NBViewer</a>),\n",
       "  it may mean that your frontend doesn't currently support widgets.\n",
       "</p>\n"
      ],
      "text/plain": [
       "HBox(children=(IntProgress(value=0, max=10), HTML(value='')))"
      ]
     },
     "metadata": {},
     "output_type": "display_data"
    },
    {
     "name": "stdout",
     "output_type": "stream",
     "text": [
      "\n",
      "MPQADataset\n",
      "Train precision 0.8152993870815652 0.8166902404526167 0.8175388967468176\n",
      "Valid precision 0.7803958529688972 0.7817153628652215 0.7832233741753063\n",
      "Test precision 0.7926484448633364 0.7979264844486333 0.8020735155513666\n",
      "MPQADataset tfor 200\n"
     ]
    },
    {
     "data": {
      "application/vnd.jupyter.widget-view+json": {
       "model_id": "08811d9b3c914045ad32acf5574dcc08",
       "version_major": 2,
       "version_minor": 0
      },
      "text/html": [
       "<p>Failed to display Jupyter Widget of type <code>HBox</code>.</p>\n",
       "<p>\n",
       "  If you're reading this message in the Jupyter Notebook or JupyterLab Notebook, it may mean\n",
       "  that the widgets JavaScript is still loading. If this message persists, it\n",
       "  likely means that the widgets JavaScript library is either not installed or\n",
       "  not enabled. See the <a href=\"https://ipywidgets.readthedocs.io/en/stable/user_install.html\">Jupyter\n",
       "  Widgets Documentation</a> for setup instructions.\n",
       "</p>\n",
       "<p>\n",
       "  If you're reading this message in another frontend (for example, a static\n",
       "  rendering on GitHub or <a href=\"https://nbviewer.jupyter.org/\">NBViewer</a>),\n",
       "  it may mean that your frontend doesn't currently support widgets.\n",
       "</p>\n"
      ],
      "text/plain": [
       "HBox(children=(IntProgress(value=0, max=10), HTML(value='')))"
      ]
     },
     "metadata": {},
     "output_type": "display_data"
    },
    {
     "name": "stdout",
     "output_type": "stream",
     "text": [
      "\n",
      "MPQADataset\n",
      "Train precision 0.7893682225365394 0.7902522395096654 0.7909005186232909\n",
      "Valid precision 0.7558906691800189 0.7573986804901038 0.7596606974552309\n",
      "Test precision 0.7803958529688972 0.7816211121583411 0.7822808671065034\n",
      "MPQADataset tfor 300\n"
     ]
    },
    {
     "data": {
      "application/vnd.jupyter.widget-view+json": {
       "model_id": "21d4b5282bd3412ebb1a6ae314302896",
       "version_major": 2,
       "version_minor": 0
      },
      "text/html": [
       "<p>Failed to display Jupyter Widget of type <code>HBox</code>.</p>\n",
       "<p>\n",
       "  If you're reading this message in the Jupyter Notebook or JupyterLab Notebook, it may mean\n",
       "  that the widgets JavaScript is still loading. If this message persists, it\n",
       "  likely means that the widgets JavaScript library is either not installed or\n",
       "  not enabled. See the <a href=\"https://ipywidgets.readthedocs.io/en/stable/user_install.html\">Jupyter\n",
       "  Widgets Documentation</a> for setup instructions.\n",
       "</p>\n",
       "<p>\n",
       "  If you're reading this message in another frontend (for example, a static\n",
       "  rendering on GitHub or <a href=\"https://nbviewer.jupyter.org/\">NBViewer</a>),\n",
       "  it may mean that your frontend doesn't currently support widgets.\n",
       "</p>\n"
      ],
      "text/plain": [
       "HBox(children=(IntProgress(value=0, max=10), HTML(value='')))"
      ]
     },
     "metadata": {},
     "output_type": "display_data"
    },
    {
     "name": "stdout",
     "output_type": "stream",
     "text": [
      "\n",
      "MPQADataset\n",
      "Train precision 0.801980198019802 0.8036067892503536 0.8051626591230552\n",
      "Valid precision 0.764373232799246 0.7680490103675778 0.7709707822808671\n",
      "Test precision 0.7879359095193214 0.7901036757775683 0.7935909519321395\n",
      "MPQADataset tfor 400\n"
     ]
    },
    {
     "data": {
      "application/vnd.jupyter.widget-view+json": {
       "model_id": "5dd9f3ad4e2f4bd5aea89da92d177dfb",
       "version_major": 2,
       "version_minor": 0
      },
      "text/html": [
       "<p>Failed to display Jupyter Widget of type <code>HBox</code>.</p>\n",
       "<p>\n",
       "  If you're reading this message in the Jupyter Notebook or JupyterLab Notebook, it may mean\n",
       "  that the widgets JavaScript is still loading. If this message persists, it\n",
       "  likely means that the widgets JavaScript library is either not installed or\n",
       "  not enabled. See the <a href=\"https://ipywidgets.readthedocs.io/en/stable/user_install.html\">Jupyter\n",
       "  Widgets Documentation</a> for setup instructions.\n",
       "</p>\n",
       "<p>\n",
       "  If you're reading this message in another frontend (for example, a static\n",
       "  rendering on GitHub or <a href=\"https://nbviewer.jupyter.org/\">NBViewer</a>),\n",
       "  it may mean that your frontend doesn't currently support widgets.\n",
       "</p>\n"
      ],
      "text/plain": [
       "HBox(children=(IntProgress(value=0, max=10), HTML(value='')))"
      ]
     },
     "metadata": {},
     "output_type": "display_data"
    },
    {
     "name": "stdout",
     "output_type": "stream",
     "text": [
      "\n",
      "MPQADataset\n",
      "Train precision 0.816006600660066 0.8170320603488921 0.8185997171145686\n",
      "Valid precision 0.7794533459000943 0.782186616399623 0.7851083883129124\n",
      "Test precision 0.7983034872761545 0.8008482563619228 0.8039585296889726\n",
      "MPQADataset tfrf 200\n"
     ]
    },
    {
     "data": {
      "application/vnd.jupyter.widget-view+json": {
       "model_id": "5211f2b861584b52b66cf65481c56fff",
       "version_major": 2,
       "version_minor": 0
      },
      "text/html": [
       "<p>Failed to display Jupyter Widget of type <code>HBox</code>.</p>\n",
       "<p>\n",
       "  If you're reading this message in the Jupyter Notebook or JupyterLab Notebook, it may mean\n",
       "  that the widgets JavaScript is still loading. If this message persists, it\n",
       "  likely means that the widgets JavaScript library is either not installed or\n",
       "  not enabled. See the <a href=\"https://ipywidgets.readthedocs.io/en/stable/user_install.html\">Jupyter\n",
       "  Widgets Documentation</a> for setup instructions.\n",
       "</p>\n",
       "<p>\n",
       "  If you're reading this message in another frontend (for example, a static\n",
       "  rendering on GitHub or <a href=\"https://nbviewer.jupyter.org/\">NBViewer</a>),\n",
       "  it may mean that your frontend doesn't currently support widgets.\n",
       "</p>\n"
      ],
      "text/plain": [
       "HBox(children=(IntProgress(value=0, max=10), HTML(value='')))"
      ]
     },
     "metadata": {},
     "output_type": "display_data"
    },
    {
     "name": "stdout",
     "output_type": "stream",
     "text": [
      "\n",
      "MPQADataset\n",
      "Train precision 0.7892503536067892 0.7906412069778408 0.7914898632720415\n",
      "Valid precision 0.7558906691800189 0.7577756833176249 0.7596606974552309\n",
      "Test precision 0.7794533459000943 0.782186616399623 0.7841658812441094\n",
      "MPQADataset tfrf 300\n"
     ]
    },
    {
     "data": {
      "application/vnd.jupyter.widget-view+json": {
       "model_id": "234b99f5a818499dab1ace6ac6e3b0a0",
       "version_major": 2,
       "version_minor": 0
      },
      "text/html": [
       "<p>Failed to display Jupyter Widget of type <code>HBox</code>.</p>\n",
       "<p>\n",
       "  If you're reading this message in the Jupyter Notebook or JupyterLab Notebook, it may mean\n",
       "  that the widgets JavaScript is still loading. If this message persists, it\n",
       "  likely means that the widgets JavaScript library is either not installed or\n",
       "  not enabled. See the <a href=\"https://ipywidgets.readthedocs.io/en/stable/user_install.html\">Jupyter\n",
       "  Widgets Documentation</a> for setup instructions.\n",
       "</p>\n",
       "<p>\n",
       "  If you're reading this message in another frontend (for example, a static\n",
       "  rendering on GitHub or <a href=\"https://nbviewer.jupyter.org/\">NBViewer</a>),\n",
       "  it may mean that your frontend doesn't currently support widgets.\n",
       "</p>\n"
      ],
      "text/plain": [
       "HBox(children=(IntProgress(value=0, max=10), HTML(value='')))"
      ]
     },
     "metadata": {},
     "output_type": "display_data"
    },
    {
     "name": "stdout",
     "output_type": "stream",
     "text": [
      "\n",
      "MPQADataset\n",
      "Train precision 0.8029231494578029 0.8035832154644037 0.8045733144743046\n",
      "Valid precision 0.764373232799246 0.7669180018850141 0.7700282752120641\n",
      "Test precision 0.7888784165881244 0.7912346842601319 0.7935909519321395\n",
      "MPQADataset tfrf 400\n"
     ]
    },
    {
     "data": {
      "application/vnd.jupyter.widget-view+json": {
       "model_id": "9951d789e83d407cb17884b08ba37eba",
       "version_major": 2,
       "version_minor": 0
      },
      "text/html": [
       "<p>Failed to display Jupyter Widget of type <code>HBox</code>.</p>\n",
       "<p>\n",
       "  If you're reading this message in the Jupyter Notebook or JupyterLab Notebook, it may mean\n",
       "  that the widgets JavaScript is still loading. If this message persists, it\n",
       "  likely means that the widgets JavaScript library is either not installed or\n",
       "  not enabled. See the <a href=\"https://ipywidgets.readthedocs.io/en/stable/user_install.html\">Jupyter\n",
       "  Widgets Documentation</a> for setup instructions.\n",
       "</p>\n",
       "<p>\n",
       "  If you're reading this message in another frontend (for example, a static\n",
       "  rendering on GitHub or <a href=\"https://nbviewer.jupyter.org/\">NBViewer</a>),\n",
       "  it may mean that your frontend doesn't currently support widgets.\n",
       "</p>\n"
      ],
      "text/plain": [
       "HBox(children=(IntProgress(value=0, max=10), HTML(value='')))"
      ]
     },
     "metadata": {},
     "output_type": "display_data"
    },
    {
     "name": "stdout",
     "output_type": "stream",
     "text": [
      "\n",
      "MPQADataset\n",
      "Train precision 0.8154172560113154 0.8170320603488921 0.8185997171145686\n",
      "Valid precision 0.7785108388312912 0.78124410933082 0.7841658812441094\n",
      "Test precision 0.7964184731385485 0.7994344957587182 0.8020735155513666\n",
      "TRECDataset-DESC None 200\n"
     ]
    },
    {
     "data": {
      "application/vnd.jupyter.widget-view+json": {
       "model_id": "d64f70532e8c4509b5cd609a68e9b7b9",
       "version_major": 2,
       "version_minor": 0
      },
      "text/html": [
       "<p>Failed to display Jupyter Widget of type <code>HBox</code>.</p>\n",
       "<p>\n",
       "  If you're reading this message in the Jupyter Notebook or JupyterLab Notebook, it may mean\n",
       "  that the widgets JavaScript is still loading. If this message persists, it\n",
       "  likely means that the widgets JavaScript library is either not installed or\n",
       "  not enabled. See the <a href=\"https://ipywidgets.readthedocs.io/en/stable/user_install.html\">Jupyter\n",
       "  Widgets Documentation</a> for setup instructions.\n",
       "</p>\n",
       "<p>\n",
       "  If you're reading this message in another frontend (for example, a static\n",
       "  rendering on GitHub or <a href=\"https://nbviewer.jupyter.org/\">NBViewer</a>),\n",
       "  it may mean that your frontend doesn't currently support widgets.\n",
       "</p>\n"
      ],
      "text/plain": [
       "HBox(children=(IntProgress(value=0, max=10), HTML(value='')))"
      ]
     },
     "metadata": {},
     "output_type": "display_data"
    },
    {
     "name": "stdout",
     "output_type": "stream",
     "text": [
      "\n",
      "TRECDataset-DESC\n",
      "Train precision 0.8970804452846041 0.8977735769796261 0.8991808443604284\n",
      "Valid precision 0.8621848739495799 0.8640336134453783 0.865546218487395\n",
      "Test precision 0.8305369127516778 0.8320469798657719 0.8322147651006712\n",
      "TRECDataset-DESC None 300\n"
     ]
    },
    {
     "data": {
      "application/vnd.jupyter.widget-view+json": {
       "model_id": "9a74a1c8adcf45b4b53a62fe62823a8a",
       "version_major": 2,
       "version_minor": 0
      },
      "text/html": [
       "<p>Failed to display Jupyter Widget of type <code>HBox</code>.</p>\n",
       "<p>\n",
       "  If you're reading this message in the Jupyter Notebook or JupyterLab Notebook, it may mean\n",
       "  that the widgets JavaScript is still loading. If this message persists, it\n",
       "  likely means that the widgets JavaScript library is either not installed or\n",
       "  not enabled. See the <a href=\"https://ipywidgets.readthedocs.io/en/stable/user_install.html\">Jupyter\n",
       "  Widgets Documentation</a> for setup instructions.\n",
       "</p>\n",
       "<p>\n",
       "  If you're reading this message in another frontend (for example, a static\n",
       "  rendering on GitHub or <a href=\"https://nbviewer.jupyter.org/\">NBViewer</a>),\n",
       "  it may mean that your frontend doesn't currently support widgets.\n",
       "</p>\n"
      ],
      "text/plain": [
       "HBox(children=(IntProgress(value=0, max=10), HTML(value='')))"
      ]
     },
     "metadata": {},
     "output_type": "display_data"
    },
    {
     "name": "stdout",
     "output_type": "stream",
     "text": [
      "\n",
      "TRECDataset-DESC\n",
      "Train precision 0.9006511237135055 0.9016173072883849 0.9023314429741651\n",
      "Valid precision 0.8605042016806723 0.8638655462184875 0.865546218487395\n",
      "Test precision 0.8338926174496644 0.8348993288590604 0.837248322147651\n",
      "TRECDataset-DESC None 400\n"
     ]
    },
    {
     "data": {
      "application/vnd.jupyter.widget-view+json": {
       "model_id": "b795bf90b7f845e6965e43575c35e484",
       "version_major": 2,
       "version_minor": 0
      },
      "text/html": [
       "<p>Failed to display Jupyter Widget of type <code>HBox</code>.</p>\n",
       "<p>\n",
       "  If you're reading this message in the Jupyter Notebook or JupyterLab Notebook, it may mean\n",
       "  that the widgets JavaScript is still loading. If this message persists, it\n",
       "  likely means that the widgets JavaScript library is either not installed or\n",
       "  not enabled. See the <a href=\"https://ipywidgets.readthedocs.io/en/stable/user_install.html\">Jupyter\n",
       "  Widgets Documentation</a> for setup instructions.\n",
       "</p>\n",
       "<p>\n",
       "  If you're reading this message in another frontend (for example, a static\n",
       "  rendering on GitHub or <a href=\"https://nbviewer.jupyter.org/\">NBViewer</a>),\n",
       "  it may mean that your frontend doesn't currently support widgets.\n",
       "</p>\n"
      ],
      "text/plain": [
       "HBox(children=(IntProgress(value=0, max=10), HTML(value='')))"
      ]
     },
     "metadata": {},
     "output_type": "display_data"
    },
    {
     "name": "stdout",
     "output_type": "stream",
     "text": [
      "\n",
      "TRECDataset-DESC\n",
      "Train precision 0.9031716026044949 0.904221802142407 0.9052720016803193\n",
      "Valid precision 0.8621848739495799 0.8630252100840338 0.8638655462184874\n",
      "Test precision 0.8338926174496644 0.8355704697986577 0.837248322147651\n",
      "TRECDataset-DESC tfidf 200\n"
     ]
    },
    {
     "data": {
      "application/vnd.jupyter.widget-view+json": {
       "model_id": "33939215ed2c4d0c9ab1e5bd7bd4e6b5",
       "version_major": 2,
       "version_minor": 0
      },
      "text/html": [
       "<p>Failed to display Jupyter Widget of type <code>HBox</code>.</p>\n",
       "<p>\n",
       "  If you're reading this message in the Jupyter Notebook or JupyterLab Notebook, it may mean\n",
       "  that the widgets JavaScript is still loading. If this message persists, it\n",
       "  likely means that the widgets JavaScript library is either not installed or\n",
       "  not enabled. See the <a href=\"https://ipywidgets.readthedocs.io/en/stable/user_install.html\">Jupyter\n",
       "  Widgets Documentation</a> for setup instructions.\n",
       "</p>\n",
       "<p>\n",
       "  If you're reading this message in another frontend (for example, a static\n",
       "  rendering on GitHub or <a href=\"https://nbviewer.jupyter.org/\">NBViewer</a>),\n",
       "  it may mean that your frontend doesn't currently support widgets.\n",
       "</p>\n"
      ],
      "text/plain": [
       "HBox(children=(IntProgress(value=0, max=10), HTML(value='')))"
      ]
     },
     "metadata": {},
     "output_type": "display_data"
    },
    {
     "name": "stdout",
     "output_type": "stream",
     "text": [
      "\n",
      "TRECDataset-DESC\n",
      "Train precision 0.8972904851921866 0.8979836168872085 0.8987607645452635\n",
      "Valid precision 0.8621848739495799 0.8633613445378152 0.8638655462184874\n",
      "Test precision 0.8322147651006712 0.832214765100671 0.8322147651006712\n",
      "TRECDataset-DESC tfidf 300\n"
     ]
    },
    {
     "data": {
      "application/vnd.jupyter.widget-view+json": {
       "model_id": "982dc920765f4716a23340d4f7b3ccb1",
       "version_major": 2,
       "version_minor": 0
      },
      "text/html": [
       "<p>Failed to display Jupyter Widget of type <code>HBox</code>.</p>\n",
       "<p>\n",
       "  If you're reading this message in the Jupyter Notebook or JupyterLab Notebook, it may mean\n",
       "  that the widgets JavaScript is still loading. If this message persists, it\n",
       "  likely means that the widgets JavaScript library is either not installed or\n",
       "  not enabled. See the <a href=\"https://ipywidgets.readthedocs.io/en/stable/user_install.html\">Jupyter\n",
       "  Widgets Documentation</a> for setup instructions.\n",
       "</p>\n",
       "<p>\n",
       "  If you're reading this message in another frontend (for example, a static\n",
       "  rendering on GitHub or <a href=\"https://nbviewer.jupyter.org/\">NBViewer</a>),\n",
       "  it may mean that your frontend doesn't currently support widgets.\n",
       "</p>\n"
      ],
      "text/plain": [
       "HBox(children=(IntProgress(value=0, max=10), HTML(value='')))"
      ]
     },
     "metadata": {},
     "output_type": "display_data"
    },
    {
     "name": "stdout",
     "output_type": "stream",
     "text": [
      "\n",
      "TRECDataset-DESC\n",
      "Train precision 0.9006511237135055 0.9015752993068682 0.9023314429741651\n",
      "Valid precision 0.8605042016806723 0.8631932773109245 0.865546218487395\n",
      "Test precision 0.8338926174496644 0.8350671140939596 0.837248322147651\n",
      "TRECDataset-DESC tfidf 400\n"
     ]
    },
    {
     "data": {
      "application/vnd.jupyter.widget-view+json": {
       "model_id": "6090a15856b44703a00876568460ad9f",
       "version_major": 2,
       "version_minor": 0
      },
      "text/html": [
       "<p>Failed to display Jupyter Widget of type <code>HBox</code>.</p>\n",
       "<p>\n",
       "  If you're reading this message in the Jupyter Notebook or JupyterLab Notebook, it may mean\n",
       "  that the widgets JavaScript is still loading. If this message persists, it\n",
       "  likely means that the widgets JavaScript library is either not installed or\n",
       "  not enabled. See the <a href=\"https://ipywidgets.readthedocs.io/en/stable/user_install.html\">Jupyter\n",
       "  Widgets Documentation</a> for setup instructions.\n",
       "</p>\n",
       "<p>\n",
       "  If you're reading this message in another frontend (for example, a static\n",
       "  rendering on GitHub or <a href=\"https://nbviewer.jupyter.org/\">NBViewer</a>),\n",
       "  it may mean that your frontend doesn't currently support widgets.\n",
       "</p>\n"
      ],
      "text/plain": [
       "HBox(children=(IntProgress(value=0, max=10), HTML(value='')))"
      ]
     },
     "metadata": {},
     "output_type": "display_data"
    },
    {
     "name": "stdout",
     "output_type": "stream",
     "text": [
      "\n",
      "TRECDataset-DESC\n",
      "Train precision 0.9029615626969124 0.9040117622348246 0.9044318420499895\n",
      "Valid precision 0.8621848739495799 0.8636974789915968 0.865546218487395\n",
      "Test precision 0.8338926174496644 0.8350671140939598 0.837248322147651\n",
      "TRECDataset-DESC tfchi2 200\n"
     ]
    },
    {
     "data": {
      "application/vnd.jupyter.widget-view+json": {
       "model_id": "962a5b3160fb4b8893d84a35850712ba",
       "version_major": 2,
       "version_minor": 0
      },
      "text/html": [
       "<p>Failed to display Jupyter Widget of type <code>HBox</code>.</p>\n",
       "<p>\n",
       "  If you're reading this message in the Jupyter Notebook or JupyterLab Notebook, it may mean\n",
       "  that the widgets JavaScript is still loading. If this message persists, it\n",
       "  likely means that the widgets JavaScript library is either not installed or\n",
       "  not enabled. See the <a href=\"https://ipywidgets.readthedocs.io/en/stable/user_install.html\">Jupyter\n",
       "  Widgets Documentation</a> for setup instructions.\n",
       "</p>\n",
       "<p>\n",
       "  If you're reading this message in another frontend (for example, a static\n",
       "  rendering on GitHub or <a href=\"https://nbviewer.jupyter.org/\">NBViewer</a>),\n",
       "  it may mean that your frontend doesn't currently support widgets.\n",
       "</p>\n"
      ],
      "text/plain": [
       "HBox(children=(IntProgress(value=0, max=10), HTML(value='')))"
      ]
     },
     "metadata": {},
     "output_type": "display_data"
    },
    {
     "name": "stdout",
     "output_type": "stream",
     "text": [
      "\n",
      "TRECDataset-DESC\n",
      "Train precision 0.8968704053770217 0.8975425330812856 0.8985507246376812\n",
      "Valid precision 0.8621848739495799 0.8640336134453783 0.865546218487395\n",
      "Test precision 0.8322147651006712 0.832214765100671 0.8322147651006712\n",
      "TRECDataset-DESC tfchi2 300\n"
     ]
    },
    {
     "data": {
      "application/vnd.jupyter.widget-view+json": {
       "model_id": "6dbdcef082ee4e5a9e641d04169c31bf",
       "version_major": 2,
       "version_minor": 0
      },
      "text/html": [
       "<p>Failed to display Jupyter Widget of type <code>HBox</code>.</p>\n",
       "<p>\n",
       "  If you're reading this message in the Jupyter Notebook or JupyterLab Notebook, it may mean\n",
       "  that the widgets JavaScript is still loading. If this message persists, it\n",
       "  likely means that the widgets JavaScript library is either not installed or\n",
       "  not enabled. See the <a href=\"https://ipywidgets.readthedocs.io/en/stable/user_install.html\">Jupyter\n",
       "  Widgets Documentation</a> for setup instructions.\n",
       "</p>\n",
       "<p>\n",
       "  If you're reading this message in another frontend (for example, a static\n",
       "  rendering on GitHub or <a href=\"https://nbviewer.jupyter.org/\">NBViewer</a>),\n",
       "  it may mean that your frontend doesn't currently support widgets.\n",
       "</p>\n"
      ],
      "text/plain": [
       "HBox(children=(IntProgress(value=0, max=10), HTML(value='')))"
      ]
     },
     "metadata": {},
     "output_type": "display_data"
    },
    {
     "name": "stdout",
     "output_type": "stream",
     "text": [
      "\n",
      "TRECDataset-DESC\n",
      "Train precision 0.9006511237135055 0.90155429531611 0.9023314429741651\n",
      "Valid precision 0.8605042016806723 0.8630252100840338 0.865546218487395\n",
      "Test precision 0.8338926174496644 0.8348993288590604 0.837248322147651\n",
      "TRECDataset-DESC tfchi2 400\n"
     ]
    },
    {
     "data": {
      "application/vnd.jupyter.widget-view+json": {
       "model_id": "c7b1ba2fa77749a79374c35c720bdb56",
       "version_major": 2,
       "version_minor": 0
      },
      "text/html": [
       "<p>Failed to display Jupyter Widget of type <code>HBox</code>.</p>\n",
       "<p>\n",
       "  If you're reading this message in the Jupyter Notebook or JupyterLab Notebook, it may mean\n",
       "  that the widgets JavaScript is still loading. If this message persists, it\n",
       "  likely means that the widgets JavaScript library is either not installed or\n",
       "  not enabled. See the <a href=\"https://ipywidgets.readthedocs.io/en/stable/user_install.html\">Jupyter\n",
       "  Widgets Documentation</a> for setup instructions.\n",
       "</p>\n",
       "<p>\n",
       "  If you're reading this message in another frontend (for example, a static\n",
       "  rendering on GitHub or <a href=\"https://nbviewer.jupyter.org/\">NBViewer</a>),\n",
       "  it may mean that your frontend doesn't currently support widgets.\n",
       "</p>\n"
      ],
      "text/plain": [
       "HBox(children=(IntProgress(value=0, max=10), HTML(value='')))"
      ]
     },
     "metadata": {},
     "output_type": "display_data"
    },
    {
     "name": "stdout",
     "output_type": "stream",
     "text": [
      "\n",
      "TRECDataset-DESC\n",
      "Train precision 0.9033816425120773 0.904116782188616 0.9048519218651544\n",
      "Valid precision 0.8621848739495799 0.864201680672269 0.865546218487395\n",
      "Test precision 0.8338926174496644 0.8347315436241611 0.837248322147651\n",
      "TRECDataset-DESC tfig 200\n"
     ]
    },
    {
     "data": {
      "application/vnd.jupyter.widget-view+json": {
       "model_id": "1c7d34c1f20641dca4fb34136f6e3cda",
       "version_major": 2,
       "version_minor": 0
      },
      "text/html": [
       "<p>Failed to display Jupyter Widget of type <code>HBox</code>.</p>\n",
       "<p>\n",
       "  If you're reading this message in the Jupyter Notebook or JupyterLab Notebook, it may mean\n",
       "  that the widgets JavaScript is still loading. If this message persists, it\n",
       "  likely means that the widgets JavaScript library is either not installed or\n",
       "  not enabled. See the <a href=\"https://ipywidgets.readthedocs.io/en/stable/user_install.html\">Jupyter\n",
       "  Widgets Documentation</a> for setup instructions.\n",
       "</p>\n",
       "<p>\n",
       "  If you're reading this message in another frontend (for example, a static\n",
       "  rendering on GitHub or <a href=\"https://nbviewer.jupyter.org/\">NBViewer</a>),\n",
       "  it may mean that your frontend doesn't currently support widgets.\n",
       "</p>\n"
      ],
      "text/plain": [
       "HBox(children=(IntProgress(value=0, max=10), HTML(value='')))"
      ]
     },
     "metadata": {},
     "output_type": "display_data"
    },
    {
     "name": "stdout",
     "output_type": "stream",
     "text": [
      "\n",
      "TRECDataset-DESC\n",
      "Train precision 0.8970804452846041 0.8979626128964503 0.898970804452846\n",
      "Valid precision 0.8621848739495799 0.8638655462184875 0.8672268907563025\n",
      "Test precision 0.8322147651006712 0.8323825503355705 0.8338926174496644\n",
      "TRECDataset-DESC tfig 300\n"
     ]
    },
    {
     "data": {
      "application/vnd.jupyter.widget-view+json": {
       "model_id": "b8116637199342e1a06b713ac75e2af2",
       "version_major": 2,
       "version_minor": 0
      },
      "text/html": [
       "<p>Failed to display Jupyter Widget of type <code>HBox</code>.</p>\n",
       "<p>\n",
       "  If you're reading this message in the Jupyter Notebook or JupyterLab Notebook, it may mean\n",
       "  that the widgets JavaScript is still loading. If this message persists, it\n",
       "  likely means that the widgets JavaScript library is either not installed or\n",
       "  not enabled. See the <a href=\"https://ipywidgets.readthedocs.io/en/stable/user_install.html\">Jupyter\n",
       "  Widgets Documentation</a> for setup instructions.\n",
       "</p>\n",
       "<p>\n",
       "  If you're reading this message in another frontend (for example, a static\n",
       "  rendering on GitHub or <a href=\"https://nbviewer.jupyter.org/\">NBViewer</a>),\n",
       "  it may mean that your frontend doesn't currently support widgets.\n",
       "</p>\n"
      ],
      "text/plain": [
       "HBox(children=(IntProgress(value=0, max=10), HTML(value='')))"
      ]
     },
     "metadata": {},
     "output_type": "display_data"
    },
    {
     "name": "stdout",
     "output_type": "stream",
     "text": [
      "\n",
      "TRECDataset-DESC\n",
      "Train precision 0.900861163621088 0.90155429531611 0.9021214030665826\n",
      "Valid precision 0.8621848739495799 0.8631932773109245 0.865546218487395\n",
      "Test precision 0.8305369127516778 0.8343959731543624 0.8355704697986577\n",
      "TRECDataset-DESC tfig 400\n"
     ]
    },
    {
     "data": {
      "application/vnd.jupyter.widget-view+json": {
       "model_id": "708b2a8f75a9485e9f46c0757a9b42bd",
       "version_major": 2,
       "version_minor": 0
      },
      "text/html": [
       "<p>Failed to display Jupyter Widget of type <code>HBox</code>.</p>\n",
       "<p>\n",
       "  If you're reading this message in the Jupyter Notebook or JupyterLab Notebook, it may mean\n",
       "  that the widgets JavaScript is still loading. If this message persists, it\n",
       "  likely means that the widgets JavaScript library is either not installed or\n",
       "  not enabled. See the <a href=\"https://ipywidgets.readthedocs.io/en/stable/user_install.html\">Jupyter\n",
       "  Widgets Documentation</a> for setup instructions.\n",
       "</p>\n",
       "<p>\n",
       "  If you're reading this message in another frontend (for example, a static\n",
       "  rendering on GitHub or <a href=\"https://nbviewer.jupyter.org/\">NBViewer</a>),\n",
       "  it may mean that your frontend doesn't currently support widgets.\n",
       "</p>\n"
      ],
      "text/plain": [
       "HBox(children=(IntProgress(value=0, max=10), HTML(value='')))"
      ]
     },
     "metadata": {},
     "output_type": "display_data"
    },
    {
     "name": "stdout",
     "output_type": "stream",
     "text": [
      "\n",
      "TRECDataset-DESC\n",
      "Train precision 0.9031716026044949 0.903717706364209 0.9044318420499895\n",
      "Valid precision 0.8621848739495799 0.8638655462184875 0.865546218487395\n",
      "Test precision 0.8338926174496644 0.8354026845637584 0.837248322147651\n",
      "TRECDataset-DESC tfgr 200\n"
     ]
    },
    {
     "data": {
      "application/vnd.jupyter.widget-view+json": {
       "model_id": "927089c2cfd541feb1cfbb19833beba2",
       "version_major": 2,
       "version_minor": 0
      },
      "text/html": [
       "<p>Failed to display Jupyter Widget of type <code>HBox</code>.</p>\n",
       "<p>\n",
       "  If you're reading this message in the Jupyter Notebook or JupyterLab Notebook, it may mean\n",
       "  that the widgets JavaScript is still loading. If this message persists, it\n",
       "  likely means that the widgets JavaScript library is either not installed or\n",
       "  not enabled. See the <a href=\"https://ipywidgets.readthedocs.io/en/stable/user_install.html\">Jupyter\n",
       "  Widgets Documentation</a> for setup instructions.\n",
       "</p>\n",
       "<p>\n",
       "  If you're reading this message in another frontend (for example, a static\n",
       "  rendering on GitHub or <a href=\"https://nbviewer.jupyter.org/\">NBViewer</a>),\n",
       "  it may mean that your frontend doesn't currently support widgets.\n",
       "</p>\n"
      ],
      "text/plain": [
       "HBox(children=(IntProgress(value=0, max=10), HTML(value='')))"
      ]
     },
     "metadata": {},
     "output_type": "display_data"
    },
    {
     "name": "stdout",
     "output_type": "stream",
     "text": [
      "\n",
      "TRECDataset-DESC\n",
      "Train precision 0.897500525099769 0.898025624868725 0.8991808443604284\n",
      "Valid precision 0.8621848739495799 0.8633613445378152 0.865546218487395\n",
      "Test precision 0.8322147651006712 0.8323825503355705 0.8338926174496644\n",
      "TRECDataset-DESC tfgr 300\n"
     ]
    },
    {
     "data": {
      "application/vnd.jupyter.widget-view+json": {
       "model_id": "ddb13818144745aba53b3d5d6156a211",
       "version_major": 2,
       "version_minor": 0
      },
      "text/html": [
       "<p>Failed to display Jupyter Widget of type <code>HBox</code>.</p>\n",
       "<p>\n",
       "  If you're reading this message in the Jupyter Notebook or JupyterLab Notebook, it may mean\n",
       "  that the widgets JavaScript is still loading. If this message persists, it\n",
       "  likely means that the widgets JavaScript library is either not installed or\n",
       "  not enabled. See the <a href=\"https://ipywidgets.readthedocs.io/en/stable/user_install.html\">Jupyter\n",
       "  Widgets Documentation</a> for setup instructions.\n",
       "</p>\n",
       "<p>\n",
       "  If you're reading this message in another frontend (for example, a static\n",
       "  rendering on GitHub or <a href=\"https://nbviewer.jupyter.org/\">NBViewer</a>),\n",
       "  it may mean that your frontend doesn't currently support widgets.\n",
       "</p>\n"
      ],
      "text/plain": [
       "HBox(children=(IntProgress(value=0, max=10), HTML(value='')))"
      ]
     },
     "metadata": {},
     "output_type": "display_data"
    },
    {
     "name": "stdout",
     "output_type": "stream",
     "text": [
      "\n",
      "TRECDataset-DESC\n",
      "Train precision 0.9004410838059231 0.9013232514177693 0.9021214030665826\n",
      "Valid precision 0.8605042016806723 0.8623529411764708 0.8638655462184874\n",
      "Test precision 0.8322147651006712 0.8348993288590604 0.837248322147651\n",
      "TRECDataset-DESC tfgr 400\n"
     ]
    },
    {
     "data": {
      "application/vnd.jupyter.widget-view+json": {
       "model_id": "726256024e1f4754971ef1d3fe715190",
       "version_major": 2,
       "version_minor": 0
      },
      "text/html": [
       "<p>Failed to display Jupyter Widget of type <code>HBox</code>.</p>\n",
       "<p>\n",
       "  If you're reading this message in the Jupyter Notebook or JupyterLab Notebook, it may mean\n",
       "  that the widgets JavaScript is still loading. If this message persists, it\n",
       "  likely means that the widgets JavaScript library is either not installed or\n",
       "  not enabled. See the <a href=\"https://ipywidgets.readthedocs.io/en/stable/user_install.html\">Jupyter\n",
       "  Widgets Documentation</a> for setup instructions.\n",
       "</p>\n",
       "<p>\n",
       "  If you're reading this message in another frontend (for example, a static\n",
       "  rendering on GitHub or <a href=\"https://nbviewer.jupyter.org/\">NBViewer</a>),\n",
       "  it may mean that your frontend doesn't currently support widgets.\n",
       "</p>\n"
      ],
      "text/plain": [
       "HBox(children=(IntProgress(value=0, max=10), HTML(value='')))"
      ]
     },
     "metadata": {},
     "output_type": "display_data"
    },
    {
     "name": "stdout",
     "output_type": "stream",
     "text": [
      "\n",
      "TRECDataset-DESC\n",
      "Train precision 0.9031716026044949 0.9042007981516488 0.9054820415879017\n",
      "Valid precision 0.8621848739495799 0.8638655462184875 0.865546218487395\n",
      "Test precision 0.8338926174496644 0.8362416107382551 0.8389261744966443\n",
      "TRECDataset-DESC tfor 200\n"
     ]
    },
    {
     "data": {
      "application/vnd.jupyter.widget-view+json": {
       "model_id": "c6c4d6533c0c44f6967176a4737fda00",
       "version_major": 2,
       "version_minor": 0
      },
      "text/html": [
       "<p>Failed to display Jupyter Widget of type <code>HBox</code>.</p>\n",
       "<p>\n",
       "  If you're reading this message in the Jupyter Notebook or JupyterLab Notebook, it may mean\n",
       "  that the widgets JavaScript is still loading. If this message persists, it\n",
       "  likely means that the widgets JavaScript library is either not installed or\n",
       "  not enabled. See the <a href=\"https://ipywidgets.readthedocs.io/en/stable/user_install.html\">Jupyter\n",
       "  Widgets Documentation</a> for setup instructions.\n",
       "</p>\n",
       "<p>\n",
       "  If you're reading this message in another frontend (for example, a static\n",
       "  rendering on GitHub or <a href=\"https://nbviewer.jupyter.org/\">NBViewer</a>),\n",
       "  it may mean that your frontend doesn't currently support widgets.\n",
       "</p>\n"
      ],
      "text/plain": [
       "HBox(children=(IntProgress(value=0, max=10), HTML(value='')))"
      ]
     },
     "metadata": {},
     "output_type": "display_data"
    },
    {
     "name": "stdout",
     "output_type": "stream",
     "text": [
      "\n",
      "TRECDataset-DESC\n",
      "Train precision 0.8968704053770217 0.8978996009241756 0.8987607645452635\n",
      "Valid precision 0.8621848739495799 0.863529411764706 0.8638655462184874\n",
      "Test precision 0.8322147651006712 0.8323825503355705 0.8338926174496644\n",
      "TRECDataset-DESC tfor 300\n"
     ]
    },
    {
     "data": {
      "application/vnd.jupyter.widget-view+json": {
       "model_id": "fba0694ed5a14e168fe96fc068865ed1",
       "version_major": 2,
       "version_minor": 0
      },
      "text/html": [
       "<p>Failed to display Jupyter Widget of type <code>HBox</code>.</p>\n",
       "<p>\n",
       "  If you're reading this message in the Jupyter Notebook or JupyterLab Notebook, it may mean\n",
       "  that the widgets JavaScript is still loading. If this message persists, it\n",
       "  likely means that the widgets JavaScript library is either not installed or\n",
       "  not enabled. See the <a href=\"https://ipywidgets.readthedocs.io/en/stable/user_install.html\">Jupyter\n",
       "  Widgets Documentation</a> for setup instructions.\n",
       "</p>\n",
       "<p>\n",
       "  If you're reading this message in another frontend (for example, a static\n",
       "  rendering on GitHub or <a href=\"https://nbviewer.jupyter.org/\">NBViewer</a>),\n",
       "  it may mean that your frontend doesn't currently support widgets.\n",
       "</p>\n"
      ],
      "text/plain": [
       "HBox(children=(IntProgress(value=0, max=10), HTML(value='')))"
      ]
     },
     "metadata": {},
     "output_type": "display_data"
    },
    {
     "name": "stdout",
     "output_type": "stream",
     "text": [
      "\n",
      "TRECDataset-DESC\n",
      "Train precision 0.900861163621088 0.9018693551774837 0.9029615626969124\n",
      "Valid precision 0.8605042016806723 0.8630252100840338 0.865546218487395\n",
      "Test precision 0.8338926174496644 0.834731543624161 0.837248322147651\n",
      "TRECDataset-DESC tfor 400\n"
     ]
    },
    {
     "data": {
      "application/vnd.jupyter.widget-view+json": {
       "model_id": "ec847580665a4dec8eba38b37752c137",
       "version_major": 2,
       "version_minor": 0
      },
      "text/html": [
       "<p>Failed to display Jupyter Widget of type <code>HBox</code>.</p>\n",
       "<p>\n",
       "  If you're reading this message in the Jupyter Notebook or JupyterLab Notebook, it may mean\n",
       "  that the widgets JavaScript is still loading. If this message persists, it\n",
       "  likely means that the widgets JavaScript library is either not installed or\n",
       "  not enabled. See the <a href=\"https://ipywidgets.readthedocs.io/en/stable/user_install.html\">Jupyter\n",
       "  Widgets Documentation</a> for setup instructions.\n",
       "</p>\n",
       "<p>\n",
       "  If you're reading this message in another frontend (for example, a static\n",
       "  rendering on GitHub or <a href=\"https://nbviewer.jupyter.org/\">NBViewer</a>),\n",
       "  it may mean that your frontend doesn't currently support widgets.\n",
       "</p>\n"
      ],
      "text/plain": [
       "HBox(children=(IntProgress(value=0, max=10), HTML(value='')))"
      ]
     },
     "metadata": {},
     "output_type": "display_data"
    },
    {
     "name": "stdout",
     "output_type": "stream",
     "text": [
      "\n",
      "TRECDataset-DESC\n",
      "Train precision 0.9031716026044949 0.9042638101239235 0.9054820415879017\n",
      "Valid precision 0.8621848739495799 0.8640336134453783 0.865546218487395\n",
      "Test precision 0.8338926174496644 0.8354026845637584 0.837248322147651\n",
      "TRECDataset-DESC tfrf 200\n"
     ]
    },
    {
     "data": {
      "application/vnd.jupyter.widget-view+json": {
       "model_id": "431d52640e19433e999080b82dc50396",
       "version_major": 2,
       "version_minor": 0
      },
      "text/html": [
       "<p>Failed to display Jupyter Widget of type <code>HBox</code>.</p>\n",
       "<p>\n",
       "  If you're reading this message in the Jupyter Notebook or JupyterLab Notebook, it may mean\n",
       "  that the widgets JavaScript is still loading. If this message persists, it\n",
       "  likely means that the widgets JavaScript library is either not installed or\n",
       "  not enabled. See the <a href=\"https://ipywidgets.readthedocs.io/en/stable/user_install.html\">Jupyter\n",
       "  Widgets Documentation</a> for setup instructions.\n",
       "</p>\n",
       "<p>\n",
       "  If you're reading this message in another frontend (for example, a static\n",
       "  rendering on GitHub or <a href=\"https://nbviewer.jupyter.org/\">NBViewer</a>),\n",
       "  it may mean that your frontend doesn't currently support widgets.\n",
       "</p>\n"
      ],
      "text/plain": [
       "HBox(children=(IntProgress(value=0, max=10), HTML(value='')))"
      ]
     },
     "metadata": {},
     "output_type": "display_data"
    },
    {
     "name": "stdout",
     "output_type": "stream",
     "text": [
      "\n",
      "TRECDataset-DESC\n",
      "Train precision 0.8966603654694392 0.8976685570258349 0.8987607645452635\n",
      "Valid precision 0.8621848739495799 0.862857142857143 0.865546218487395\n",
      "Test precision 0.8305369127516778 0.8320469798657719 0.8322147651006712\n",
      "TRECDataset-DESC tfrf 300\n"
     ]
    },
    {
     "data": {
      "application/vnd.jupyter.widget-view+json": {
       "model_id": "832896f201f24967b9b0da15b5d2c97e",
       "version_major": 2,
       "version_minor": 0
      },
      "text/html": [
       "<p>Failed to display Jupyter Widget of type <code>HBox</code>.</p>\n",
       "<p>\n",
       "  If you're reading this message in the Jupyter Notebook or JupyterLab Notebook, it may mean\n",
       "  that the widgets JavaScript is still loading. If this message persists, it\n",
       "  likely means that the widgets JavaScript library is either not installed or\n",
       "  not enabled. See the <a href=\"https://ipywidgets.readthedocs.io/en/stable/user_install.html\">Jupyter\n",
       "  Widgets Documentation</a> for setup instructions.\n",
       "</p>\n",
       "<p>\n",
       "  If you're reading this message in another frontend (for example, a static\n",
       "  rendering on GitHub or <a href=\"https://nbviewer.jupyter.org/\">NBViewer</a>),\n",
       "  it may mean that your frontend doesn't currently support widgets.\n",
       "</p>\n"
      ],
      "text/plain": [
       "HBox(children=(IntProgress(value=0, max=10), HTML(value='')))"
      ]
     },
     "metadata": {},
     "output_type": "display_data"
    },
    {
     "name": "stdout",
     "output_type": "stream",
     "text": [
      "\n",
      "TRECDataset-DESC\n",
      "Train precision 0.9010712035286704 0.9017013232514177 0.9023314429741651\n",
      "Valid precision 0.8621848739495799 0.8631932773109245 0.8638655462184874\n",
      "Test precision 0.8322147651006712 0.8345637583892616 0.8355704697986577\n",
      "TRECDataset-DESC tfrf 400\n"
     ]
    },
    {
     "data": {
      "application/vnd.jupyter.widget-view+json": {
       "model_id": "63ea9f0310d8457abd2a085a61efa5ec",
       "version_major": 2,
       "version_minor": 0
      },
      "text/html": [
       "<p>Failed to display Jupyter Widget of type <code>HBox</code>.</p>\n",
       "<p>\n",
       "  If you're reading this message in the Jupyter Notebook or JupyterLab Notebook, it may mean\n",
       "  that the widgets JavaScript is still loading. If this message persists, it\n",
       "  likely means that the widgets JavaScript library is either not installed or\n",
       "  not enabled. See the <a href=\"https://ipywidgets.readthedocs.io/en/stable/user_install.html\">Jupyter\n",
       "  Widgets Documentation</a> for setup instructions.\n",
       "</p>\n",
       "<p>\n",
       "  If you're reading this message in another frontend (for example, a static\n",
       "  rendering on GitHub or <a href=\"https://nbviewer.jupyter.org/\">NBViewer</a>),\n",
       "  it may mean that your frontend doesn't currently support widgets.\n",
       "</p>\n"
      ],
      "text/plain": [
       "HBox(children=(IntProgress(value=0, max=10), HTML(value='')))"
      ]
     },
     "metadata": {},
     "output_type": "display_data"
    },
    {
     "name": "stdout",
     "output_type": "stream",
     "text": [
      "\n",
      "TRECDataset-DESC\n",
      "Train precision 0.9029615626969124 0.9038437303087588 0.9044318420499895\n",
      "Valid precision 0.8605042016806723 0.863529411764706 0.865546218487395\n",
      "Test precision 0.8322147651006712 0.8354026845637584 0.837248322147651\n",
      "TRECDataset-ABBR None 200\n"
     ]
    },
    {
     "data": {
      "application/vnd.jupyter.widget-view+json": {
       "model_id": "583ce385bd034957b3b336d4c4d5051b",
       "version_major": 2,
       "version_minor": 0
      },
      "text/html": [
       "<p>Failed to display Jupyter Widget of type <code>HBox</code>.</p>\n",
       "<p>\n",
       "  If you're reading this message in the Jupyter Notebook or JupyterLab Notebook, it may mean\n",
       "  that the widgets JavaScript is still loading. If this message persists, it\n",
       "  likely means that the widgets JavaScript library is either not installed or\n",
       "  not enabled. See the <a href=\"https://ipywidgets.readthedocs.io/en/stable/user_install.html\">Jupyter\n",
       "  Widgets Documentation</a> for setup instructions.\n",
       "</p>\n",
       "<p>\n",
       "  If you're reading this message in another frontend (for example, a static\n",
       "  rendering on GitHub or <a href=\"https://nbviewer.jupyter.org/\">NBViewer</a>),\n",
       "  it may mean that your frontend doesn't currently support widgets.\n",
       "</p>\n"
      ],
      "text/plain": [
       "HBox(children=(IntProgress(value=0, max=10), HTML(value='')))"
      ]
     },
     "metadata": {},
     "output_type": "display_data"
    },
    {
     "name": "stdout",
     "output_type": "stream",
     "text": [
      "\n",
      "TRECDataset-ABBR\n",
      "Train precision 0.9909682839739551 0.9909682839739553 0.9909682839739551\n",
      "Valid precision 0.9932773109243698 0.9932773109243698 0.9932773109243698\n",
      "Test precision 0.9899328859060402 0.9901006711409395 0.9916107382550335\n",
      "TRECDataset-ABBR None 300\n"
     ]
    },
    {
     "data": {
      "application/vnd.jupyter.widget-view+json": {
       "model_id": "92d14953991a4b15850973ef11184c97",
       "version_major": 2,
       "version_minor": 0
      },
      "text/html": [
       "<p>Failed to display Jupyter Widget of type <code>HBox</code>.</p>\n",
       "<p>\n",
       "  If you're reading this message in the Jupyter Notebook or JupyterLab Notebook, it may mean\n",
       "  that the widgets JavaScript is still loading. If this message persists, it\n",
       "  likely means that the widgets JavaScript library is either not installed or\n",
       "  not enabled. See the <a href=\"https://ipywidgets.readthedocs.io/en/stable/user_install.html\">Jupyter\n",
       "  Widgets Documentation</a> for setup instructions.\n",
       "</p>\n",
       "<p>\n",
       "  If you're reading this message in another frontend (for example, a static\n",
       "  rendering on GitHub or <a href=\"https://nbviewer.jupyter.org/\">NBViewer</a>),\n",
       "  it may mean that your frontend doesn't currently support widgets.\n",
       "</p>\n"
      ],
      "text/plain": [
       "HBox(children=(IntProgress(value=0, max=10), HTML(value='')))"
      ]
     },
     "metadata": {},
     "output_type": "display_data"
    },
    {
     "name": "stdout",
     "output_type": "stream",
     "text": [
      "\n",
      "TRECDataset-ABBR\n",
      "Train precision 0.9909682839739551 0.9909682839739553 0.9909682839739551\n",
      "Valid precision 0.9915966386554622 0.9915966386554622 0.9915966386554622\n",
      "Test precision 0.9899328859060402 0.9899328859060402 0.9899328859060402\n",
      "TRECDataset-ABBR None 400\n"
     ]
    },
    {
     "data": {
      "application/vnd.jupyter.widget-view+json": {
       "model_id": "b27d7b7eb68e4b95b9d0bdb8e868b47c",
       "version_major": 2,
       "version_minor": 0
      },
      "text/html": [
       "<p>Failed to display Jupyter Widget of type <code>HBox</code>.</p>\n",
       "<p>\n",
       "  If you're reading this message in the Jupyter Notebook or JupyterLab Notebook, it may mean\n",
       "  that the widgets JavaScript is still loading. If this message persists, it\n",
       "  likely means that the widgets JavaScript library is either not installed or\n",
       "  not enabled. See the <a href=\"https://ipywidgets.readthedocs.io/en/stable/user_install.html\">Jupyter\n",
       "  Widgets Documentation</a> for setup instructions.\n",
       "</p>\n",
       "<p>\n",
       "  If you're reading this message in another frontend (for example, a static\n",
       "  rendering on GitHub or <a href=\"https://nbviewer.jupyter.org/\">NBViewer</a>),\n",
       "  it may mean that your frontend doesn't currently support widgets.\n",
       "</p>\n"
      ],
      "text/plain": [
       "HBox(children=(IntProgress(value=0, max=10), HTML(value='')))"
      ]
     },
     "metadata": {},
     "output_type": "display_data"
    },
    {
     "name": "stdout",
     "output_type": "stream",
     "text": [
      "\n",
      "TRECDataset-ABBR\n",
      "Train precision 0.9909682839739551 0.9909682839739553 0.9909682839739551\n",
      "Valid precision 0.9915966386554622 0.9915966386554622 0.9915966386554622\n",
      "Test precision 0.9899328859060402 0.9899328859060402 0.9899328859060402\n",
      "TRECDataset-ABBR tfidf 200\n"
     ]
    },
    {
     "data": {
      "application/vnd.jupyter.widget-view+json": {
       "model_id": "7d319cb4af2a437db549f1e62f271ee1",
       "version_major": 2,
       "version_minor": 0
      },
      "text/html": [
       "<p>Failed to display Jupyter Widget of type <code>HBox</code>.</p>\n",
       "<p>\n",
       "  If you're reading this message in the Jupyter Notebook or JupyterLab Notebook, it may mean\n",
       "  that the widgets JavaScript is still loading. If this message persists, it\n",
       "  likely means that the widgets JavaScript library is either not installed or\n",
       "  not enabled. See the <a href=\"https://ipywidgets.readthedocs.io/en/stable/user_install.html\">Jupyter\n",
       "  Widgets Documentation</a> for setup instructions.\n",
       "</p>\n",
       "<p>\n",
       "  If you're reading this message in another frontend (for example, a static\n",
       "  rendering on GitHub or <a href=\"https://nbviewer.jupyter.org/\">NBViewer</a>),\n",
       "  it may mean that your frontend doesn't currently support widgets.\n",
       "</p>\n"
      ],
      "text/plain": [
       "HBox(children=(IntProgress(value=0, max=10), HTML(value='')))"
      ]
     },
     "metadata": {},
     "output_type": "display_data"
    },
    {
     "name": "stdout",
     "output_type": "stream",
     "text": [
      "\n",
      "TRECDataset-ABBR\n",
      "Train precision 0.9909682839739551 0.9909682839739553 0.9909682839739551\n",
      "Valid precision 0.9932773109243698 0.9932773109243698 0.9932773109243698\n",
      "Test precision 0.9899328859060402 0.9904362416107382 0.9916107382550335\n",
      "TRECDataset-ABBR tfidf 300\n"
     ]
    },
    {
     "data": {
      "application/vnd.jupyter.widget-view+json": {
       "model_id": "4410be6f7d1e4e1cb5a167875b75b73a",
       "version_major": 2,
       "version_minor": 0
      },
      "text/html": [
       "<p>Failed to display Jupyter Widget of type <code>HBox</code>.</p>\n",
       "<p>\n",
       "  If you're reading this message in the Jupyter Notebook or JupyterLab Notebook, it may mean\n",
       "  that the widgets JavaScript is still loading. If this message persists, it\n",
       "  likely means that the widgets JavaScript library is either not installed or\n",
       "  not enabled. See the <a href=\"https://ipywidgets.readthedocs.io/en/stable/user_install.html\">Jupyter\n",
       "  Widgets Documentation</a> for setup instructions.\n",
       "</p>\n",
       "<p>\n",
       "  If you're reading this message in another frontend (for example, a static\n",
       "  rendering on GitHub or <a href=\"https://nbviewer.jupyter.org/\">NBViewer</a>),\n",
       "  it may mean that your frontend doesn't currently support widgets.\n",
       "</p>\n"
      ],
      "text/plain": [
       "HBox(children=(IntProgress(value=0, max=10), HTML(value='')))"
      ]
     },
     "metadata": {},
     "output_type": "display_data"
    },
    {
     "name": "stdout",
     "output_type": "stream",
     "text": [
      "\n",
      "TRECDataset-ABBR\n",
      "Train precision 0.9909682839739551 0.9909682839739553 0.9909682839739551\n",
      "Valid precision 0.9915966386554622 0.9915966386554622 0.9915966386554622\n",
      "Test precision 0.9899328859060402 0.9899328859060402 0.9899328859060402\n",
      "TRECDataset-ABBR tfidf 400\n"
     ]
    },
    {
     "data": {
      "application/vnd.jupyter.widget-view+json": {
       "model_id": "077863611b0a4dcbb5acbae2d5702908",
       "version_major": 2,
       "version_minor": 0
      },
      "text/html": [
       "<p>Failed to display Jupyter Widget of type <code>HBox</code>.</p>\n",
       "<p>\n",
       "  If you're reading this message in the Jupyter Notebook or JupyterLab Notebook, it may mean\n",
       "  that the widgets JavaScript is still loading. If this message persists, it\n",
       "  likely means that the widgets JavaScript library is either not installed or\n",
       "  not enabled. See the <a href=\"https://ipywidgets.readthedocs.io/en/stable/user_install.html\">Jupyter\n",
       "  Widgets Documentation</a> for setup instructions.\n",
       "</p>\n",
       "<p>\n",
       "  If you're reading this message in another frontend (for example, a static\n",
       "  rendering on GitHub or <a href=\"https://nbviewer.jupyter.org/\">NBViewer</a>),\n",
       "  it may mean that your frontend doesn't currently support widgets.\n",
       "</p>\n"
      ],
      "text/plain": [
       "HBox(children=(IntProgress(value=0, max=10), HTML(value='')))"
      ]
     },
     "metadata": {},
     "output_type": "display_data"
    },
    {
     "name": "stdout",
     "output_type": "stream",
     "text": [
      "\n",
      "TRECDataset-ABBR\n",
      "Train precision 0.9909682839739551 0.9909682839739553 0.9909682839739551\n",
      "Valid precision 0.9915966386554622 0.9915966386554622 0.9915966386554622\n",
      "Test precision 0.9899328859060402 0.9899328859060402 0.9899328859060402\n",
      "TRECDataset-ABBR tfchi2 200\n"
     ]
    },
    {
     "data": {
      "application/vnd.jupyter.widget-view+json": {
       "model_id": "700983a81c0f458a9d96154708818697",
       "version_major": 2,
       "version_minor": 0
      },
      "text/html": [
       "<p>Failed to display Jupyter Widget of type <code>HBox</code>.</p>\n",
       "<p>\n",
       "  If you're reading this message in the Jupyter Notebook or JupyterLab Notebook, it may mean\n",
       "  that the widgets JavaScript is still loading. If this message persists, it\n",
       "  likely means that the widgets JavaScript library is either not installed or\n",
       "  not enabled. See the <a href=\"https://ipywidgets.readthedocs.io/en/stable/user_install.html\">Jupyter\n",
       "  Widgets Documentation</a> for setup instructions.\n",
       "</p>\n",
       "<p>\n",
       "  If you're reading this message in another frontend (for example, a static\n",
       "  rendering on GitHub or <a href=\"https://nbviewer.jupyter.org/\">NBViewer</a>),\n",
       "  it may mean that your frontend doesn't currently support widgets.\n",
       "</p>\n"
      ],
      "text/plain": [
       "HBox(children=(IntProgress(value=0, max=10), HTML(value='')))"
      ]
     },
     "metadata": {},
     "output_type": "display_data"
    },
    {
     "name": "stdout",
     "output_type": "stream",
     "text": [
      "\n",
      "TRECDataset-ABBR\n",
      "Train precision 0.9909682839739551 0.9909682839739553 0.9909682839739551\n",
      "Valid precision 0.9932773109243698 0.9932773109243698 0.9932773109243698\n",
      "Test precision 0.9899328859060402 0.9901006711409395 0.9916107382550335\n",
      "TRECDataset-ABBR tfchi2 300\n"
     ]
    },
    {
     "data": {
      "application/vnd.jupyter.widget-view+json": {
       "model_id": "3d54d5aeffeb457eaceb826fe28c6144",
       "version_major": 2,
       "version_minor": 0
      },
      "text/html": [
       "<p>Failed to display Jupyter Widget of type <code>HBox</code>.</p>\n",
       "<p>\n",
       "  If you're reading this message in the Jupyter Notebook or JupyterLab Notebook, it may mean\n",
       "  that the widgets JavaScript is still loading. If this message persists, it\n",
       "  likely means that the widgets JavaScript library is either not installed or\n",
       "  not enabled. See the <a href=\"https://ipywidgets.readthedocs.io/en/stable/user_install.html\">Jupyter\n",
       "  Widgets Documentation</a> for setup instructions.\n",
       "</p>\n",
       "<p>\n",
       "  If you're reading this message in another frontend (for example, a static\n",
       "  rendering on GitHub or <a href=\"https://nbviewer.jupyter.org/\">NBViewer</a>),\n",
       "  it may mean that your frontend doesn't currently support widgets.\n",
       "</p>\n"
      ],
      "text/plain": [
       "HBox(children=(IntProgress(value=0, max=10), HTML(value='')))"
      ]
     },
     "metadata": {},
     "output_type": "display_data"
    },
    {
     "name": "stdout",
     "output_type": "stream",
     "text": [
      "\n",
      "TRECDataset-ABBR\n",
      "Train precision 0.9909682839739551 0.9909682839739553 0.9909682839739551\n",
      "Valid precision 0.9915966386554622 0.9915966386554622 0.9915966386554622\n",
      "Test precision 0.9899328859060402 0.9899328859060402 0.9899328859060402\n",
      "TRECDataset-ABBR tfchi2 400\n"
     ]
    },
    {
     "data": {
      "application/vnd.jupyter.widget-view+json": {
       "model_id": "a09fe83b1c4041f6900d9474fdeb7657",
       "version_major": 2,
       "version_minor": 0
      },
      "text/html": [
       "<p>Failed to display Jupyter Widget of type <code>HBox</code>.</p>\n",
       "<p>\n",
       "  If you're reading this message in the Jupyter Notebook or JupyterLab Notebook, it may mean\n",
       "  that the widgets JavaScript is still loading. If this message persists, it\n",
       "  likely means that the widgets JavaScript library is either not installed or\n",
       "  not enabled. See the <a href=\"https://ipywidgets.readthedocs.io/en/stable/user_install.html\">Jupyter\n",
       "  Widgets Documentation</a> for setup instructions.\n",
       "</p>\n",
       "<p>\n",
       "  If you're reading this message in another frontend (for example, a static\n",
       "  rendering on GitHub or <a href=\"https://nbviewer.jupyter.org/\">NBViewer</a>),\n",
       "  it may mean that your frontend doesn't currently support widgets.\n",
       "</p>\n"
      ],
      "text/plain": [
       "HBox(children=(IntProgress(value=0, max=10), HTML(value='')))"
      ]
     },
     "metadata": {},
     "output_type": "display_data"
    },
    {
     "name": "stdout",
     "output_type": "stream",
     "text": [
      "\n",
      "TRECDataset-ABBR\n",
      "Train precision 0.9909682839739551 0.9909682839739553 0.9909682839739551\n",
      "Valid precision 0.9915966386554622 0.9915966386554622 0.9915966386554622\n",
      "Test precision 0.9899328859060402 0.9899328859060402 0.9899328859060402\n",
      "TRECDataset-ABBR tfig 200\n"
     ]
    },
    {
     "data": {
      "application/vnd.jupyter.widget-view+json": {
       "model_id": "05bcdc99da484f659076b812630a32c6",
       "version_major": 2,
       "version_minor": 0
      },
      "text/html": [
       "<p>Failed to display Jupyter Widget of type <code>HBox</code>.</p>\n",
       "<p>\n",
       "  If you're reading this message in the Jupyter Notebook or JupyterLab Notebook, it may mean\n",
       "  that the widgets JavaScript is still loading. If this message persists, it\n",
       "  likely means that the widgets JavaScript library is either not installed or\n",
       "  not enabled. See the <a href=\"https://ipywidgets.readthedocs.io/en/stable/user_install.html\">Jupyter\n",
       "  Widgets Documentation</a> for setup instructions.\n",
       "</p>\n",
       "<p>\n",
       "  If you're reading this message in another frontend (for example, a static\n",
       "  rendering on GitHub or <a href=\"https://nbviewer.jupyter.org/\">NBViewer</a>),\n",
       "  it may mean that your frontend doesn't currently support widgets.\n",
       "</p>\n"
      ],
      "text/plain": [
       "HBox(children=(IntProgress(value=0, max=10), HTML(value='')))"
      ]
     },
     "metadata": {},
     "output_type": "display_data"
    },
    {
     "name": "stdout",
     "output_type": "stream",
     "text": [
      "\n",
      "TRECDataset-ABBR\n",
      "Train precision 0.9909682839739551 0.9909682839739553 0.9909682839739551\n",
      "Valid precision 0.9932773109243698 0.9932773109243698 0.9932773109243698\n",
      "Test precision 0.9899328859060402 0.9902684563758388 0.9916107382550335\n",
      "TRECDataset-ABBR tfig 300\n"
     ]
    },
    {
     "data": {
      "application/vnd.jupyter.widget-view+json": {
       "model_id": "e826a86f7dc046fb8fd0ea5164bf4cc3",
       "version_major": 2,
       "version_minor": 0
      },
      "text/html": [
       "<p>Failed to display Jupyter Widget of type <code>HBox</code>.</p>\n",
       "<p>\n",
       "  If you're reading this message in the Jupyter Notebook or JupyterLab Notebook, it may mean\n",
       "  that the widgets JavaScript is still loading. If this message persists, it\n",
       "  likely means that the widgets JavaScript library is either not installed or\n",
       "  not enabled. See the <a href=\"https://ipywidgets.readthedocs.io/en/stable/user_install.html\">Jupyter\n",
       "  Widgets Documentation</a> for setup instructions.\n",
       "</p>\n",
       "<p>\n",
       "  If you're reading this message in another frontend (for example, a static\n",
       "  rendering on GitHub or <a href=\"https://nbviewer.jupyter.org/\">NBViewer</a>),\n",
       "  it may mean that your frontend doesn't currently support widgets.\n",
       "</p>\n"
      ],
      "text/plain": [
       "HBox(children=(IntProgress(value=0, max=10), HTML(value='')))"
      ]
     },
     "metadata": {},
     "output_type": "display_data"
    },
    {
     "name": "stdout",
     "output_type": "stream",
     "text": [
      "\n",
      "TRECDataset-ABBR\n",
      "Train precision 0.9909682839739551 0.9909682839739553 0.9909682839739551\n",
      "Valid precision 0.9915966386554622 0.9915966386554622 0.9915966386554622\n",
      "Test precision 0.9899328859060402 0.9899328859060402 0.9899328859060402\n",
      "TRECDataset-ABBR tfig 400\n"
     ]
    },
    {
     "data": {
      "application/vnd.jupyter.widget-view+json": {
       "model_id": "38ce45796d344aa1b4f9655b8f9ae64f",
       "version_major": 2,
       "version_minor": 0
      },
      "text/html": [
       "<p>Failed to display Jupyter Widget of type <code>HBox</code>.</p>\n",
       "<p>\n",
       "  If you're reading this message in the Jupyter Notebook or JupyterLab Notebook, it may mean\n",
       "  that the widgets JavaScript is still loading. If this message persists, it\n",
       "  likely means that the widgets JavaScript library is either not installed or\n",
       "  not enabled. See the <a href=\"https://ipywidgets.readthedocs.io/en/stable/user_install.html\">Jupyter\n",
       "  Widgets Documentation</a> for setup instructions.\n",
       "</p>\n",
       "<p>\n",
       "  If you're reading this message in another frontend (for example, a static\n",
       "  rendering on GitHub or <a href=\"https://nbviewer.jupyter.org/\">NBViewer</a>),\n",
       "  it may mean that your frontend doesn't currently support widgets.\n",
       "</p>\n"
      ],
      "text/plain": [
       "HBox(children=(IntProgress(value=0, max=10), HTML(value='')))"
      ]
     },
     "metadata": {},
     "output_type": "display_data"
    },
    {
     "name": "stdout",
     "output_type": "stream",
     "text": [
      "\n",
      "TRECDataset-ABBR\n",
      "Train precision 0.9909682839739551 0.9909682839739553 0.9909682839739551\n",
      "Valid precision 0.9915966386554622 0.9915966386554622 0.9915966386554622\n",
      "Test precision 0.9899328859060402 0.9899328859060402 0.9899328859060402\n",
      "TRECDataset-ABBR tfgr 200\n"
     ]
    },
    {
     "data": {
      "application/vnd.jupyter.widget-view+json": {
       "model_id": "6607449e2875481fb7062d53239eca53",
       "version_major": 2,
       "version_minor": 0
      },
      "text/html": [
       "<p>Failed to display Jupyter Widget of type <code>HBox</code>.</p>\n",
       "<p>\n",
       "  If you're reading this message in the Jupyter Notebook or JupyterLab Notebook, it may mean\n",
       "  that the widgets JavaScript is still loading. If this message persists, it\n",
       "  likely means that the widgets JavaScript library is either not installed or\n",
       "  not enabled. See the <a href=\"https://ipywidgets.readthedocs.io/en/stable/user_install.html\">Jupyter\n",
       "  Widgets Documentation</a> for setup instructions.\n",
       "</p>\n",
       "<p>\n",
       "  If you're reading this message in another frontend (for example, a static\n",
       "  rendering on GitHub or <a href=\"https://nbviewer.jupyter.org/\">NBViewer</a>),\n",
       "  it may mean that your frontend doesn't currently support widgets.\n",
       "</p>\n"
      ],
      "text/plain": [
       "HBox(children=(IntProgress(value=0, max=10), HTML(value='')))"
      ]
     },
     "metadata": {},
     "output_type": "display_data"
    },
    {
     "name": "stdout",
     "output_type": "stream",
     "text": [
      "\n",
      "TRECDataset-ABBR\n",
      "Train precision 0.9909682839739551 0.9909682839739553 0.9909682839739551\n",
      "Valid precision 0.9932773109243698 0.9932773109243698 0.9932773109243698\n",
      "Test precision 0.9899328859060402 0.9904362416107382 0.9916107382550335\n",
      "TRECDataset-ABBR tfgr 300\n"
     ]
    },
    {
     "data": {
      "application/vnd.jupyter.widget-view+json": {
       "model_id": "de600c01249f40a2bfa95e718ed07e37",
       "version_major": 2,
       "version_minor": 0
      },
      "text/html": [
       "<p>Failed to display Jupyter Widget of type <code>HBox</code>.</p>\n",
       "<p>\n",
       "  If you're reading this message in the Jupyter Notebook or JupyterLab Notebook, it may mean\n",
       "  that the widgets JavaScript is still loading. If this message persists, it\n",
       "  likely means that the widgets JavaScript library is either not installed or\n",
       "  not enabled. See the <a href=\"https://ipywidgets.readthedocs.io/en/stable/user_install.html\">Jupyter\n",
       "  Widgets Documentation</a> for setup instructions.\n",
       "</p>\n",
       "<p>\n",
       "  If you're reading this message in another frontend (for example, a static\n",
       "  rendering on GitHub or <a href=\"https://nbviewer.jupyter.org/\">NBViewer</a>),\n",
       "  it may mean that your frontend doesn't currently support widgets.\n",
       "</p>\n"
      ],
      "text/plain": [
       "HBox(children=(IntProgress(value=0, max=10), HTML(value='')))"
      ]
     },
     "metadata": {},
     "output_type": "display_data"
    },
    {
     "name": "stdout",
     "output_type": "stream",
     "text": [
      "\n",
      "TRECDataset-ABBR\n",
      "Train precision 0.9909682839739551 0.9909682839739553 0.9909682839739551\n",
      "Valid precision 0.9915966386554622 0.9915966386554622 0.9915966386554622\n",
      "Test precision 0.9899328859060402 0.9899328859060402 0.9899328859060402\n",
      "TRECDataset-ABBR tfgr 400\n"
     ]
    },
    {
     "data": {
      "application/vnd.jupyter.widget-view+json": {
       "model_id": "61e76ce7933243a6ac0f008114434f40",
       "version_major": 2,
       "version_minor": 0
      },
      "text/html": [
       "<p>Failed to display Jupyter Widget of type <code>HBox</code>.</p>\n",
       "<p>\n",
       "  If you're reading this message in the Jupyter Notebook or JupyterLab Notebook, it may mean\n",
       "  that the widgets JavaScript is still loading. If this message persists, it\n",
       "  likely means that the widgets JavaScript library is either not installed or\n",
       "  not enabled. See the <a href=\"https://ipywidgets.readthedocs.io/en/stable/user_install.html\">Jupyter\n",
       "  Widgets Documentation</a> for setup instructions.\n",
       "</p>\n",
       "<p>\n",
       "  If you're reading this message in another frontend (for example, a static\n",
       "  rendering on GitHub or <a href=\"https://nbviewer.jupyter.org/\">NBViewer</a>),\n",
       "  it may mean that your frontend doesn't currently support widgets.\n",
       "</p>\n"
      ],
      "text/plain": [
       "HBox(children=(IntProgress(value=0, max=10), HTML(value='')))"
      ]
     },
     "metadata": {},
     "output_type": "display_data"
    },
    {
     "name": "stdout",
     "output_type": "stream",
     "text": [
      "\n",
      "TRECDataset-ABBR\n",
      "Train precision 0.9909682839739551 0.9909682839739553 0.9909682839739551\n",
      "Valid precision 0.9915966386554622 0.9915966386554622 0.9915966386554622\n",
      "Test precision 0.9899328859060402 0.9899328859060402 0.9899328859060402\n",
      "TRECDataset-ABBR tfor 200\n"
     ]
    },
    {
     "data": {
      "application/vnd.jupyter.widget-view+json": {
       "model_id": "7609a9a02972464ca01190663dc48ba3",
       "version_major": 2,
       "version_minor": 0
      },
      "text/html": [
       "<p>Failed to display Jupyter Widget of type <code>HBox</code>.</p>\n",
       "<p>\n",
       "  If you're reading this message in the Jupyter Notebook or JupyterLab Notebook, it may mean\n",
       "  that the widgets JavaScript is still loading. If this message persists, it\n",
       "  likely means that the widgets JavaScript library is either not installed or\n",
       "  not enabled. See the <a href=\"https://ipywidgets.readthedocs.io/en/stable/user_install.html\">Jupyter\n",
       "  Widgets Documentation</a> for setup instructions.\n",
       "</p>\n",
       "<p>\n",
       "  If you're reading this message in another frontend (for example, a static\n",
       "  rendering on GitHub or <a href=\"https://nbviewer.jupyter.org/\">NBViewer</a>),\n",
       "  it may mean that your frontend doesn't currently support widgets.\n",
       "</p>\n"
      ],
      "text/plain": [
       "HBox(children=(IntProgress(value=0, max=10), HTML(value='')))"
      ]
     },
     "metadata": {},
     "output_type": "display_data"
    },
    {
     "name": "stdout",
     "output_type": "stream",
     "text": [
      "\n",
      "TRECDataset-ABBR\n",
      "Train precision 0.9909682839739551 0.9909682839739553 0.9909682839739551\n",
      "Valid precision 0.9932773109243698 0.9932773109243698 0.9932773109243698\n",
      "Test precision 0.9899328859060402 0.9904362416107382 0.9916107382550335\n",
      "TRECDataset-ABBR tfor 300\n"
     ]
    },
    {
     "data": {
      "application/vnd.jupyter.widget-view+json": {
       "model_id": "947125ff65124a9caf357ac14e57101e",
       "version_major": 2,
       "version_minor": 0
      },
      "text/html": [
       "<p>Failed to display Jupyter Widget of type <code>HBox</code>.</p>\n",
       "<p>\n",
       "  If you're reading this message in the Jupyter Notebook or JupyterLab Notebook, it may mean\n",
       "  that the widgets JavaScript is still loading. If this message persists, it\n",
       "  likely means that the widgets JavaScript library is either not installed or\n",
       "  not enabled. See the <a href=\"https://ipywidgets.readthedocs.io/en/stable/user_install.html\">Jupyter\n",
       "  Widgets Documentation</a> for setup instructions.\n",
       "</p>\n",
       "<p>\n",
       "  If you're reading this message in another frontend (for example, a static\n",
       "  rendering on GitHub or <a href=\"https://nbviewer.jupyter.org/\">NBViewer</a>),\n",
       "  it may mean that your frontend doesn't currently support widgets.\n",
       "</p>\n"
      ],
      "text/plain": [
       "HBox(children=(IntProgress(value=0, max=10), HTML(value='')))"
      ]
     },
     "metadata": {},
     "output_type": "display_data"
    },
    {
     "name": "stdout",
     "output_type": "stream",
     "text": [
      "\n",
      "TRECDataset-ABBR\n",
      "Train precision 0.9909682839739551 0.9909682839739553 0.9909682839739551\n",
      "Valid precision 0.9915966386554622 0.9915966386554622 0.9915966386554622\n",
      "Test precision 0.9899328859060402 0.9899328859060402 0.9899328859060402\n",
      "TRECDataset-ABBR tfor 400\n"
     ]
    },
    {
     "data": {
      "application/vnd.jupyter.widget-view+json": {
       "model_id": "39e30eab4de64bb2a6df92ed4e201d9c",
       "version_major": 2,
       "version_minor": 0
      },
      "text/html": [
       "<p>Failed to display Jupyter Widget of type <code>HBox</code>.</p>\n",
       "<p>\n",
       "  If you're reading this message in the Jupyter Notebook or JupyterLab Notebook, it may mean\n",
       "  that the widgets JavaScript is still loading. If this message persists, it\n",
       "  likely means that the widgets JavaScript library is either not installed or\n",
       "  not enabled. See the <a href=\"https://ipywidgets.readthedocs.io/en/stable/user_install.html\">Jupyter\n",
       "  Widgets Documentation</a> for setup instructions.\n",
       "</p>\n",
       "<p>\n",
       "  If you're reading this message in another frontend (for example, a static\n",
       "  rendering on GitHub or <a href=\"https://nbviewer.jupyter.org/\">NBViewer</a>),\n",
       "  it may mean that your frontend doesn't currently support widgets.\n",
       "</p>\n"
      ],
      "text/plain": [
       "HBox(children=(IntProgress(value=0, max=10), HTML(value='')))"
      ]
     },
     "metadata": {},
     "output_type": "display_data"
    },
    {
     "name": "stdout",
     "output_type": "stream",
     "text": [
      "\n",
      "TRECDataset-ABBR\n",
      "Train precision 0.9909682839739551 0.9909682839739553 0.9909682839739551\n",
      "Valid precision 0.9915966386554622 0.9915966386554622 0.9915966386554622\n",
      "Test precision 0.9899328859060402 0.9899328859060402 0.9899328859060402\n",
      "TRECDataset-ABBR tfrf 200\n"
     ]
    },
    {
     "data": {
      "application/vnd.jupyter.widget-view+json": {
       "model_id": "0332de1a47fb4a45b6893d56c36033c5",
       "version_major": 2,
       "version_minor": 0
      },
      "text/html": [
       "<p>Failed to display Jupyter Widget of type <code>HBox</code>.</p>\n",
       "<p>\n",
       "  If you're reading this message in the Jupyter Notebook or JupyterLab Notebook, it may mean\n",
       "  that the widgets JavaScript is still loading. If this message persists, it\n",
       "  likely means that the widgets JavaScript library is either not installed or\n",
       "  not enabled. See the <a href=\"https://ipywidgets.readthedocs.io/en/stable/user_install.html\">Jupyter\n",
       "  Widgets Documentation</a> for setup instructions.\n",
       "</p>\n",
       "<p>\n",
       "  If you're reading this message in another frontend (for example, a static\n",
       "  rendering on GitHub or <a href=\"https://nbviewer.jupyter.org/\">NBViewer</a>),\n",
       "  it may mean that your frontend doesn't currently support widgets.\n",
       "</p>\n"
      ],
      "text/plain": [
       "HBox(children=(IntProgress(value=0, max=10), HTML(value='')))"
      ]
     },
     "metadata": {},
     "output_type": "display_data"
    },
    {
     "name": "stdout",
     "output_type": "stream",
     "text": [
      "\n",
      "TRECDataset-ABBR\n",
      "Train precision 0.9909682839739551 0.9909682839739553 0.9909682839739551\n",
      "Valid precision 0.9932773109243698 0.9932773109243698 0.9932773109243698\n",
      "Test precision 0.9899328859060402 0.9906040268456376 0.9916107382550335\n",
      "TRECDataset-ABBR tfrf 300\n"
     ]
    },
    {
     "data": {
      "application/vnd.jupyter.widget-view+json": {
       "model_id": "56ad2cf6c8ba48149c5f50b3c5923444",
       "version_major": 2,
       "version_minor": 0
      },
      "text/html": [
       "<p>Failed to display Jupyter Widget of type <code>HBox</code>.</p>\n",
       "<p>\n",
       "  If you're reading this message in the Jupyter Notebook or JupyterLab Notebook, it may mean\n",
       "  that the widgets JavaScript is still loading. If this message persists, it\n",
       "  likely means that the widgets JavaScript library is either not installed or\n",
       "  not enabled. See the <a href=\"https://ipywidgets.readthedocs.io/en/stable/user_install.html\">Jupyter\n",
       "  Widgets Documentation</a> for setup instructions.\n",
       "</p>\n",
       "<p>\n",
       "  If you're reading this message in another frontend (for example, a static\n",
       "  rendering on GitHub or <a href=\"https://nbviewer.jupyter.org/\">NBViewer</a>),\n",
       "  it may mean that your frontend doesn't currently support widgets.\n",
       "</p>\n"
      ],
      "text/plain": [
       "HBox(children=(IntProgress(value=0, max=10), HTML(value='')))"
      ]
     },
     "metadata": {},
     "output_type": "display_data"
    },
    {
     "name": "stdout",
     "output_type": "stream",
     "text": [
      "\n",
      "TRECDataset-ABBR\n",
      "Train precision 0.9909682839739551 0.9909682839739553 0.9909682839739551\n",
      "Valid precision 0.9915966386554622 0.9915966386554622 0.9915966386554622\n",
      "Test precision 0.9899328859060402 0.9899328859060402 0.9899328859060402\n",
      "TRECDataset-ABBR tfrf 400\n"
     ]
    },
    {
     "data": {
      "application/vnd.jupyter.widget-view+json": {
       "model_id": "28783f55f8b74fd081e8e27d9e224a46",
       "version_major": 2,
       "version_minor": 0
      },
      "text/html": [
       "<p>Failed to display Jupyter Widget of type <code>HBox</code>.</p>\n",
       "<p>\n",
       "  If you're reading this message in the Jupyter Notebook or JupyterLab Notebook, it may mean\n",
       "  that the widgets JavaScript is still loading. If this message persists, it\n",
       "  likely means that the widgets JavaScript library is either not installed or\n",
       "  not enabled. See the <a href=\"https://ipywidgets.readthedocs.io/en/stable/user_install.html\">Jupyter\n",
       "  Widgets Documentation</a> for setup instructions.\n",
       "</p>\n",
       "<p>\n",
       "  If you're reading this message in another frontend (for example, a static\n",
       "  rendering on GitHub or <a href=\"https://nbviewer.jupyter.org/\">NBViewer</a>),\n",
       "  it may mean that your frontend doesn't currently support widgets.\n",
       "</p>\n"
      ],
      "text/plain": [
       "HBox(children=(IntProgress(value=0, max=10), HTML(value='')))"
      ]
     },
     "metadata": {},
     "output_type": "display_data"
    },
    {
     "name": "stdout",
     "output_type": "stream",
     "text": [
      "\n",
      "TRECDataset-ABBR\n",
      "Train precision 0.9909682839739551 0.9909682839739553 0.9909682839739551\n",
      "Valid precision 0.9915966386554622 0.9915966386554622 0.9915966386554622\n",
      "Test precision 0.9899328859060402 0.9899328859060402 0.9899328859060402\n",
      "TRECDataset-LOC None 200\n"
     ]
    },
    {
     "data": {
      "application/vnd.jupyter.widget-view+json": {
       "model_id": "f0960e5367fb4b7f9cb4f85830fca447",
       "version_major": 2,
       "version_minor": 0
      },
      "text/html": [
       "<p>Failed to display Jupyter Widget of type <code>HBox</code>.</p>\n",
       "<p>\n",
       "  If you're reading this message in the Jupyter Notebook or JupyterLab Notebook, it may mean\n",
       "  that the widgets JavaScript is still loading. If this message persists, it\n",
       "  likely means that the widgets JavaScript library is either not installed or\n",
       "  not enabled. See the <a href=\"https://ipywidgets.readthedocs.io/en/stable/user_install.html\">Jupyter\n",
       "  Widgets Documentation</a> for setup instructions.\n",
       "</p>\n",
       "<p>\n",
       "  If you're reading this message in another frontend (for example, a static\n",
       "  rendering on GitHub or <a href=\"https://nbviewer.jupyter.org/\">NBViewer</a>),\n",
       "  it may mean that your frontend doesn't currently support widgets.\n",
       "</p>\n"
      ],
      "text/plain": [
       "HBox(children=(IntProgress(value=0, max=10), HTML(value='')))"
      ]
     },
     "metadata": {},
     "output_type": "display_data"
    },
    {
     "name": "stdout",
     "output_type": "stream",
     "text": [
      "\n",
      "TRECDataset-LOC\n",
      "Train precision 0.9477000630119723 0.9481411468178955 0.9483301827347196\n",
      "Valid precision 0.9445378151260504 0.9445378151260504 0.9445378151260504\n",
      "Test precision 0.9395973154362416 0.9411073825503357 0.9412751677852349\n",
      "TRECDataset-LOC None 300\n"
     ]
    },
    {
     "data": {
      "application/vnd.jupyter.widget-view+json": {
       "model_id": "9cb16fb9eb8b4963884ec6139a937657",
       "version_major": 2,
       "version_minor": 0
      },
      "text/html": [
       "<p>Failed to display Jupyter Widget of type <code>HBox</code>.</p>\n",
       "<p>\n",
       "  If you're reading this message in the Jupyter Notebook or JupyterLab Notebook, it may mean\n",
       "  that the widgets JavaScript is still loading. If this message persists, it\n",
       "  likely means that the widgets JavaScript library is either not installed or\n",
       "  not enabled. See the <a href=\"https://ipywidgets.readthedocs.io/en/stable/user_install.html\">Jupyter\n",
       "  Widgets Documentation</a> for setup instructions.\n",
       "</p>\n",
       "<p>\n",
       "  If you're reading this message in another frontend (for example, a static\n",
       "  rendering on GitHub or <a href=\"https://nbviewer.jupyter.org/\">NBViewer</a>),\n",
       "  it may mean that your frontend doesn't currently support widgets.\n",
       "</p>\n"
      ],
      "text/plain": [
       "HBox(children=(IntProgress(value=0, max=10), HTML(value='')))"
      ]
     },
     "metadata": {},
     "output_type": "display_data"
    },
    {
     "name": "stdout",
     "output_type": "stream",
     "text": [
      "\n",
      "TRECDataset-LOC\n",
      "Train precision 0.9481201428271372 0.9483301827347196 0.9485402226423021\n",
      "Valid precision 0.9445378151260504 0.9445378151260504 0.9445378151260504\n",
      "Test precision 0.9395973154362416 0.9401006711409396 0.9412751677852349\n",
      "TRECDataset-LOC None 400\n"
     ]
    },
    {
     "data": {
      "application/vnd.jupyter.widget-view+json": {
       "model_id": "89b16e5c4c0c418e9e91ba511edf2ea9",
       "version_major": 2,
       "version_minor": 0
      },
      "text/html": [
       "<p>Failed to display Jupyter Widget of type <code>HBox</code>.</p>\n",
       "<p>\n",
       "  If you're reading this message in the Jupyter Notebook or JupyterLab Notebook, it may mean\n",
       "  that the widgets JavaScript is still loading. If this message persists, it\n",
       "  likely means that the widgets JavaScript library is either not installed or\n",
       "  not enabled. See the <a href=\"https://ipywidgets.readthedocs.io/en/stable/user_install.html\">Jupyter\n",
       "  Widgets Documentation</a> for setup instructions.\n",
       "</p>\n",
       "<p>\n",
       "  If you're reading this message in another frontend (for example, a static\n",
       "  rendering on GitHub or <a href=\"https://nbviewer.jupyter.org/\">NBViewer</a>),\n",
       "  it may mean that your frontend doesn't currently support widgets.\n",
       "</p>\n"
      ],
      "text/plain": [
       "HBox(children=(IntProgress(value=0, max=10), HTML(value='')))"
      ]
     },
     "metadata": {},
     "output_type": "display_data"
    },
    {
     "name": "stdout",
     "output_type": "stream",
     "text": [
      "\n",
      "TRECDataset-LOC\n",
      "Train precision 0.9485402226423021 0.9487712665406427 0.9491703423650494\n",
      "Valid precision 0.9445378151260504 0.9445378151260504 0.9445378151260504\n",
      "Test precision 0.9395973154362416 0.9411073825503357 0.9429530201342282\n",
      "TRECDataset-LOC tfidf 200\n"
     ]
    },
    {
     "data": {
      "application/vnd.jupyter.widget-view+json": {
       "model_id": "2900f299bb43435db323387e0ed694be",
       "version_major": 2,
       "version_minor": 0
      },
      "text/html": [
       "<p>Failed to display Jupyter Widget of type <code>HBox</code>.</p>\n",
       "<p>\n",
       "  If you're reading this message in the Jupyter Notebook or JupyterLab Notebook, it may mean\n",
       "  that the widgets JavaScript is still loading. If this message persists, it\n",
       "  likely means that the widgets JavaScript library is either not installed or\n",
       "  not enabled. See the <a href=\"https://ipywidgets.readthedocs.io/en/stable/user_install.html\">Jupyter\n",
       "  Widgets Documentation</a> for setup instructions.\n",
       "</p>\n",
       "<p>\n",
       "  If you're reading this message in another frontend (for example, a static\n",
       "  rendering on GitHub or <a href=\"https://nbviewer.jupyter.org/\">NBViewer</a>),\n",
       "  it may mean that your frontend doesn't currently support widgets.\n",
       "</p>\n"
      ],
      "text/plain": [
       "HBox(children=(IntProgress(value=0, max=10), HTML(value='')))"
      ]
     },
     "metadata": {},
     "output_type": "display_data"
    },
    {
     "name": "stdout",
     "output_type": "stream",
     "text": [
      "\n",
      "TRECDataset-LOC\n",
      "Train precision 0.9477000630119723 0.9482461667716866 0.9487502625498845\n",
      "Valid precision 0.9445378151260504 0.9445378151260504 0.9445378151260504\n",
      "Test precision 0.9395973154362416 0.9411073825503357 0.9412751677852349\n",
      "TRECDataset-LOC tfidf 300\n"
     ]
    },
    {
     "data": {
      "application/vnd.jupyter.widget-view+json": {
       "model_id": "dcefe5b37733404d8101db352d792662",
       "version_major": 2,
       "version_minor": 0
      },
      "text/html": [
       "<p>Failed to display Jupyter Widget of type <code>HBox</code>.</p>\n",
       "<p>\n",
       "  If you're reading this message in the Jupyter Notebook or JupyterLab Notebook, it may mean\n",
       "  that the widgets JavaScript is still loading. If this message persists, it\n",
       "  likely means that the widgets JavaScript library is either not installed or\n",
       "  not enabled. See the <a href=\"https://ipywidgets.readthedocs.io/en/stable/user_install.html\">Jupyter\n",
       "  Widgets Documentation</a> for setup instructions.\n",
       "</p>\n",
       "<p>\n",
       "  If you're reading this message in another frontend (for example, a static\n",
       "  rendering on GitHub or <a href=\"https://nbviewer.jupyter.org/\">NBViewer</a>),\n",
       "  it may mean that your frontend doesn't currently support widgets.\n",
       "</p>\n"
      ],
      "text/plain": [
       "HBox(children=(IntProgress(value=0, max=10), HTML(value='')))"
      ]
     },
     "metadata": {},
     "output_type": "display_data"
    },
    {
     "name": "stdout",
     "output_type": "stream",
     "text": [
      "\n",
      "TRECDataset-LOC\n",
      "Train precision 0.9481201428271372 0.9483091787439614 0.9485402226423021\n",
      "Valid precision 0.9445378151260504 0.9445378151260504 0.9445378151260504\n",
      "Test precision 0.9395973154362416 0.9404362416107382 0.9429530201342282\n",
      "TRECDataset-LOC tfidf 400\n"
     ]
    },
    {
     "data": {
      "application/vnd.jupyter.widget-view+json": {
       "model_id": "d19eec3958b04f9fa9fd0e6543a1ac13",
       "version_major": 2,
       "version_minor": 0
      },
      "text/html": [
       "<p>Failed to display Jupyter Widget of type <code>HBox</code>.</p>\n",
       "<p>\n",
       "  If you're reading this message in the Jupyter Notebook or JupyterLab Notebook, it may mean\n",
       "  that the widgets JavaScript is still loading. If this message persists, it\n",
       "  likely means that the widgets JavaScript library is either not installed or\n",
       "  not enabled. See the <a href=\"https://ipywidgets.readthedocs.io/en/stable/user_install.html\">Jupyter\n",
       "  Widgets Documentation</a> for setup instructions.\n",
       "</p>\n",
       "<p>\n",
       "  If you're reading this message in another frontend (for example, a static\n",
       "  rendering on GitHub or <a href=\"https://nbviewer.jupyter.org/\">NBViewer</a>),\n",
       "  it may mean that your frontend doesn't currently support widgets.\n",
       "</p>\n"
      ],
      "text/plain": [
       "HBox(children=(IntProgress(value=0, max=10), HTML(value='')))"
      ]
     },
     "metadata": {},
     "output_type": "display_data"
    },
    {
     "name": "stdout",
     "output_type": "stream",
     "text": [
      "\n",
      "TRECDataset-LOC\n",
      "Train precision 0.9481201428271372 0.9486452425960934 0.9489603024574669\n",
      "Valid precision 0.9445378151260504 0.9445378151260504 0.9445378151260504\n",
      "Test precision 0.9395973154362416 0.9411073825503357 0.9429530201342282\n",
      "TRECDataset-LOC tfchi2 200\n"
     ]
    },
    {
     "data": {
      "application/vnd.jupyter.widget-view+json": {
       "model_id": "85cc84dacf3b4bb9995a3e09c46dece6",
       "version_major": 2,
       "version_minor": 0
      },
      "text/html": [
       "<p>Failed to display Jupyter Widget of type <code>HBox</code>.</p>\n",
       "<p>\n",
       "  If you're reading this message in the Jupyter Notebook or JupyterLab Notebook, it may mean\n",
       "  that the widgets JavaScript is still loading. If this message persists, it\n",
       "  likely means that the widgets JavaScript library is either not installed or\n",
       "  not enabled. See the <a href=\"https://ipywidgets.readthedocs.io/en/stable/user_install.html\">Jupyter\n",
       "  Widgets Documentation</a> for setup instructions.\n",
       "</p>\n",
       "<p>\n",
       "  If you're reading this message in another frontend (for example, a static\n",
       "  rendering on GitHub or <a href=\"https://nbviewer.jupyter.org/\">NBViewer</a>),\n",
       "  it may mean that your frontend doesn't currently support widgets.\n",
       "</p>\n"
      ],
      "text/plain": [
       "HBox(children=(IntProgress(value=0, max=10), HTML(value='')))"
      ]
     },
     "metadata": {},
     "output_type": "display_data"
    },
    {
     "name": "stdout",
     "output_type": "stream",
     "text": [
      "\n",
      "TRECDataset-LOC\n",
      "Train precision 0.9477000630119723 0.9481831547994117 0.9485402226423021\n",
      "Valid precision 0.9445378151260504 0.9445378151260504 0.9445378151260504\n",
      "Test precision 0.9395973154362416 0.9409395973154364 0.9412751677852349\n",
      "TRECDataset-LOC tfchi2 300\n"
     ]
    },
    {
     "data": {
      "application/vnd.jupyter.widget-view+json": {
       "model_id": "78fae418a2f743b2a94b132e2a12155c",
       "version_major": 2,
       "version_minor": 0
      },
      "text/html": [
       "<p>Failed to display Jupyter Widget of type <code>HBox</code>.</p>\n",
       "<p>\n",
       "  If you're reading this message in the Jupyter Notebook or JupyterLab Notebook, it may mean\n",
       "  that the widgets JavaScript is still loading. If this message persists, it\n",
       "  likely means that the widgets JavaScript library is either not installed or\n",
       "  not enabled. See the <a href=\"https://ipywidgets.readthedocs.io/en/stable/user_install.html\">Jupyter\n",
       "  Widgets Documentation</a> for setup instructions.\n",
       "</p>\n",
       "<p>\n",
       "  If you're reading this message in another frontend (for example, a static\n",
       "  rendering on GitHub or <a href=\"https://nbviewer.jupyter.org/\">NBViewer</a>),\n",
       "  it may mean that your frontend doesn't currently support widgets.\n",
       "</p>\n"
      ],
      "text/plain": [
       "HBox(children=(IntProgress(value=0, max=10), HTML(value='')))"
      ]
     },
     "metadata": {},
     "output_type": "display_data"
    },
    {
     "name": "stdout",
     "output_type": "stream",
     "text": [
      "\n",
      "TRECDataset-LOC\n",
      "Train precision 0.9479101029195547 0.9482881747532032 0.9485402226423021\n",
      "Valid precision 0.9445378151260504 0.9445378151260504 0.9445378151260504\n",
      "Test precision 0.9395973154362416 0.9399328859060402 0.9412751677852349\n",
      "TRECDataset-LOC tfchi2 400\n"
     ]
    },
    {
     "data": {
      "application/vnd.jupyter.widget-view+json": {
       "model_id": "f5e1fdbe603d4be2a0a2c49ce59847ec",
       "version_major": 2,
       "version_minor": 0
      },
      "text/html": [
       "<p>Failed to display Jupyter Widget of type <code>HBox</code>.</p>\n",
       "<p>\n",
       "  If you're reading this message in the Jupyter Notebook or JupyterLab Notebook, it may mean\n",
       "  that the widgets JavaScript is still loading. If this message persists, it\n",
       "  likely means that the widgets JavaScript library is either not installed or\n",
       "  not enabled. See the <a href=\"https://ipywidgets.readthedocs.io/en/stable/user_install.html\">Jupyter\n",
       "  Widgets Documentation</a> for setup instructions.\n",
       "</p>\n",
       "<p>\n",
       "  If you're reading this message in another frontend (for example, a static\n",
       "  rendering on GitHub or <a href=\"https://nbviewer.jupyter.org/\">NBViewer</a>),\n",
       "  it may mean that your frontend doesn't currently support widgets.\n",
       "</p>\n"
      ],
      "text/plain": [
       "HBox(children=(IntProgress(value=0, max=10), HTML(value='')))"
      ]
     },
     "metadata": {},
     "output_type": "display_data"
    },
    {
     "name": "stdout",
     "output_type": "stream",
     "text": [
      "\n",
      "TRECDataset-LOC\n",
      "Train precision 0.9485402226423021 0.9488552825036758 0.9491703423650494\n",
      "Valid precision 0.9445378151260504 0.9445378151260504 0.9445378151260504\n",
      "Test precision 0.9395973154362416 0.941442953020134 0.9429530201342282\n",
      "TRECDataset-LOC tfig 200\n"
     ]
    },
    {
     "data": {
      "application/vnd.jupyter.widget-view+json": {
       "model_id": "55b7b97107414740afaa6d37dd606ba2",
       "version_major": 2,
       "version_minor": 0
      },
      "text/html": [
       "<p>Failed to display Jupyter Widget of type <code>HBox</code>.</p>\n",
       "<p>\n",
       "  If you're reading this message in the Jupyter Notebook or JupyterLab Notebook, it may mean\n",
       "  that the widgets JavaScript is still loading. If this message persists, it\n",
       "  likely means that the widgets JavaScript library is either not installed or\n",
       "  not enabled. See the <a href=\"https://ipywidgets.readthedocs.io/en/stable/user_install.html\">Jupyter\n",
       "  Widgets Documentation</a> for setup instructions.\n",
       "</p>\n",
       "<p>\n",
       "  If you're reading this message in another frontend (for example, a static\n",
       "  rendering on GitHub or <a href=\"https://nbviewer.jupyter.org/\">NBViewer</a>),\n",
       "  it may mean that your frontend doesn't currently support widgets.\n",
       "</p>\n"
      ],
      "text/plain": [
       "HBox(children=(IntProgress(value=0, max=10), HTML(value='')))"
      ]
     },
     "metadata": {},
     "output_type": "display_data"
    },
    {
     "name": "stdout",
     "output_type": "stream",
     "text": [
      "\n",
      "TRECDataset-LOC\n",
      "Train precision 0.9477000630119723 0.9481411468178956 0.9487502625498845\n",
      "Valid precision 0.9445378151260504 0.9445378151260504 0.9445378151260504\n",
      "Test precision 0.9412751677852349 0.941275167785235 0.9412751677852349\n",
      "TRECDataset-LOC tfig 300\n"
     ]
    },
    {
     "data": {
      "application/vnd.jupyter.widget-view+json": {
       "model_id": "1c780e4b4d1341afbc8e443b1464f90a",
       "version_major": 2,
       "version_minor": 0
      },
      "text/html": [
       "<p>Failed to display Jupyter Widget of type <code>HBox</code>.</p>\n",
       "<p>\n",
       "  If you're reading this message in the Jupyter Notebook or JupyterLab Notebook, it may mean\n",
       "  that the widgets JavaScript is still loading. If this message persists, it\n",
       "  likely means that the widgets JavaScript library is either not installed or\n",
       "  not enabled. See the <a href=\"https://ipywidgets.readthedocs.io/en/stable/user_install.html\">Jupyter\n",
       "  Widgets Documentation</a> for setup instructions.\n",
       "</p>\n",
       "<p>\n",
       "  If you're reading this message in another frontend (for example, a static\n",
       "  rendering on GitHub or <a href=\"https://nbviewer.jupyter.org/\">NBViewer</a>),\n",
       "  it may mean that your frontend doesn't currently support widgets.\n",
       "</p>\n"
      ],
      "text/plain": [
       "HBox(children=(IntProgress(value=0, max=10), HTML(value='')))"
      ]
     },
     "metadata": {},
     "output_type": "display_data"
    },
    {
     "name": "stdout",
     "output_type": "stream",
     "text": [
      "\n",
      "TRECDataset-LOC\n",
      "Train precision 0.9481201428271372 0.948351186725478 0.9485402226423021\n",
      "Valid precision 0.9445378151260504 0.9445378151260504 0.9445378151260504\n",
      "Test precision 0.9395973154362416 0.9404362416107382 0.9412751677852349\n",
      "TRECDataset-LOC tfig 400\n"
     ]
    },
    {
     "data": {
      "application/vnd.jupyter.widget-view+json": {
       "model_id": "52bcac2e34824b38aaa67b1063fd1450",
       "version_major": 2,
       "version_minor": 0
      },
      "text/html": [
       "<p>Failed to display Jupyter Widget of type <code>HBox</code>.</p>\n",
       "<p>\n",
       "  If you're reading this message in the Jupyter Notebook or JupyterLab Notebook, it may mean\n",
       "  that the widgets JavaScript is still loading. If this message persists, it\n",
       "  likely means that the widgets JavaScript library is either not installed or\n",
       "  not enabled. See the <a href=\"https://ipywidgets.readthedocs.io/en/stable/user_install.html\">Jupyter\n",
       "  Widgets Documentation</a> for setup instructions.\n",
       "</p>\n",
       "<p>\n",
       "  If you're reading this message in another frontend (for example, a static\n",
       "  rendering on GitHub or <a href=\"https://nbviewer.jupyter.org/\">NBViewer</a>),\n",
       "  it may mean that your frontend doesn't currently support widgets.\n",
       "</p>\n"
      ],
      "text/plain": [
       "HBox(children=(IntProgress(value=0, max=10), HTML(value='')))"
      ]
     },
     "metadata": {},
     "output_type": "display_data"
    },
    {
     "name": "stdout",
     "output_type": "stream",
     "text": [
      "\n",
      "TRECDataset-LOC\n",
      "Train precision 0.9485402226423021 0.9489813064482251 0.9493803822726318\n",
      "Valid precision 0.9445378151260504 0.9445378151260504 0.9445378151260504\n",
      "Test precision 0.9395973154362416 0.9414429530201343 0.9429530201342282\n",
      "TRECDataset-LOC tfgr 200\n"
     ]
    },
    {
     "data": {
      "application/vnd.jupyter.widget-view+json": {
       "model_id": "cccce9e0a6cc457a95262049d81f3457",
       "version_major": 2,
       "version_minor": 0
      },
      "text/html": [
       "<p>Failed to display Jupyter Widget of type <code>HBox</code>.</p>\n",
       "<p>\n",
       "  If you're reading this message in the Jupyter Notebook or JupyterLab Notebook, it may mean\n",
       "  that the widgets JavaScript is still loading. If this message persists, it\n",
       "  likely means that the widgets JavaScript library is either not installed or\n",
       "  not enabled. See the <a href=\"https://ipywidgets.readthedocs.io/en/stable/user_install.html\">Jupyter\n",
       "  Widgets Documentation</a> for setup instructions.\n",
       "</p>\n",
       "<p>\n",
       "  If you're reading this message in another frontend (for example, a static\n",
       "  rendering on GitHub or <a href=\"https://nbviewer.jupyter.org/\">NBViewer</a>),\n",
       "  it may mean that your frontend doesn't currently support widgets.\n",
       "</p>\n"
      ],
      "text/plain": [
       "HBox(children=(IntProgress(value=0, max=10), HTML(value='')))"
      ]
     },
     "metadata": {},
     "output_type": "display_data"
    },
    {
     "name": "stdout",
     "output_type": "stream",
     "text": [
      "\n",
      "TRECDataset-LOC\n",
      "Train precision 0.9474900231043898 0.948183154799412 0.9489603024574669\n",
      "Valid precision 0.9445378151260504 0.9445378151260504 0.9445378151260504\n",
      "Test precision 0.9395973154362416 0.9411073825503357 0.9412751677852349\n",
      "TRECDataset-LOC tfgr 300\n"
     ]
    },
    {
     "data": {
      "application/vnd.jupyter.widget-view+json": {
       "model_id": "f4154a2fa9014004ab33d0cb69c33967",
       "version_major": 2,
       "version_minor": 0
      },
      "text/html": [
       "<p>Failed to display Jupyter Widget of type <code>HBox</code>.</p>\n",
       "<p>\n",
       "  If you're reading this message in the Jupyter Notebook or JupyterLab Notebook, it may mean\n",
       "  that the widgets JavaScript is still loading. If this message persists, it\n",
       "  likely means that the widgets JavaScript library is either not installed or\n",
       "  not enabled. See the <a href=\"https://ipywidgets.readthedocs.io/en/stable/user_install.html\">Jupyter\n",
       "  Widgets Documentation</a> for setup instructions.\n",
       "</p>\n",
       "<p>\n",
       "  If you're reading this message in another frontend (for example, a static\n",
       "  rendering on GitHub or <a href=\"https://nbviewer.jupyter.org/\">NBViewer</a>),\n",
       "  it may mean that your frontend doesn't currently support widgets.\n",
       "</p>\n"
      ],
      "text/plain": [
       "HBox(children=(IntProgress(value=0, max=10), HTML(value='')))"
      ]
     },
     "metadata": {},
     "output_type": "display_data"
    },
    {
     "name": "stdout",
     "output_type": "stream",
     "text": [
      "\n",
      "TRECDataset-LOC\n",
      "Train precision 0.9481201428271372 0.9482881747532032 0.9485402226423021\n",
      "Valid precision 0.9445378151260504 0.9445378151260504 0.9445378151260504\n",
      "Test precision 0.9395973154362416 0.9401006711409396 0.9412751677852349\n",
      "TRECDataset-LOC tfgr 400\n"
     ]
    },
    {
     "data": {
      "application/vnd.jupyter.widget-view+json": {
       "model_id": "eef88f47b3d94cb2b227a7d86cc07d14",
       "version_major": 2,
       "version_minor": 0
      },
      "text/html": [
       "<p>Failed to display Jupyter Widget of type <code>HBox</code>.</p>\n",
       "<p>\n",
       "  If you're reading this message in the Jupyter Notebook or JupyterLab Notebook, it may mean\n",
       "  that the widgets JavaScript is still loading. If this message persists, it\n",
       "  likely means that the widgets JavaScript library is either not installed or\n",
       "  not enabled. See the <a href=\"https://ipywidgets.readthedocs.io/en/stable/user_install.html\">Jupyter\n",
       "  Widgets Documentation</a> for setup instructions.\n",
       "</p>\n",
       "<p>\n",
       "  If you're reading this message in another frontend (for example, a static\n",
       "  rendering on GitHub or <a href=\"https://nbviewer.jupyter.org/\">NBViewer</a>),\n",
       "  it may mean that your frontend doesn't currently support widgets.\n",
       "</p>\n"
      ],
      "text/plain": [
       "HBox(children=(IntProgress(value=0, max=10), HTML(value='')))"
      ]
     },
     "metadata": {},
     "output_type": "display_data"
    },
    {
     "name": "stdout",
     "output_type": "stream",
     "text": [
      "\n",
      "TRECDataset-LOC\n",
      "Train precision 0.9487502625498845 0.9489182944759504 0.9493803822726318\n",
      "Valid precision 0.9445378151260504 0.9447058823529412 0.946218487394958\n",
      "Test precision 0.9395973154362416 0.9411073825503357 0.9446308724832215\n",
      "TRECDataset-LOC tfor 200\n"
     ]
    },
    {
     "data": {
      "application/vnd.jupyter.widget-view+json": {
       "model_id": "3c0e2c3491694d29b29e03dd1449c91a",
       "version_major": 2,
       "version_minor": 0
      },
      "text/html": [
       "<p>Failed to display Jupyter Widget of type <code>HBox</code>.</p>\n",
       "<p>\n",
       "  If you're reading this message in the Jupyter Notebook or JupyterLab Notebook, it may mean\n",
       "  that the widgets JavaScript is still loading. If this message persists, it\n",
       "  likely means that the widgets JavaScript library is either not installed or\n",
       "  not enabled. See the <a href=\"https://ipywidgets.readthedocs.io/en/stable/user_install.html\">Jupyter\n",
       "  Widgets Documentation</a> for setup instructions.\n",
       "</p>\n",
       "<p>\n",
       "  If you're reading this message in another frontend (for example, a static\n",
       "  rendering on GitHub or <a href=\"https://nbviewer.jupyter.org/\">NBViewer</a>),\n",
       "  it may mean that your frontend doesn't currently support widgets.\n",
       "</p>\n"
      ],
      "text/plain": [
       "HBox(children=(IntProgress(value=0, max=10), HTML(value='')))"
      ]
     },
     "metadata": {},
     "output_type": "display_data"
    },
    {
     "name": "stdout",
     "output_type": "stream",
     "text": [
      "\n",
      "TRECDataset-LOC\n",
      "Train precision 0.9474900231043898 0.9481411468178955 0.9485402226423021\n",
      "Valid precision 0.9445378151260504 0.9445378151260504 0.9445378151260504\n",
      "Test precision 0.9395973154362416 0.9411073825503357 0.9412751677852349\n",
      "TRECDataset-LOC tfor 300\n"
     ]
    },
    {
     "data": {
      "application/vnd.jupyter.widget-view+json": {
       "model_id": "8fc091a8de0e4a52a7054d1e847335f2",
       "version_major": 2,
       "version_minor": 0
      },
      "text/html": [
       "<p>Failed to display Jupyter Widget of type <code>HBox</code>.</p>\n",
       "<p>\n",
       "  If you're reading this message in the Jupyter Notebook or JupyterLab Notebook, it may mean\n",
       "  that the widgets JavaScript is still loading. If this message persists, it\n",
       "  likely means that the widgets JavaScript library is either not installed or\n",
       "  not enabled. See the <a href=\"https://ipywidgets.readthedocs.io/en/stable/user_install.html\">Jupyter\n",
       "  Widgets Documentation</a> for setup instructions.\n",
       "</p>\n",
       "<p>\n",
       "  If you're reading this message in another frontend (for example, a static\n",
       "  rendering on GitHub or <a href=\"https://nbviewer.jupyter.org/\">NBViewer</a>),\n",
       "  it may mean that your frontend doesn't currently support widgets.\n",
       "</p>\n"
      ],
      "text/plain": [
       "HBox(children=(IntProgress(value=0, max=10), HTML(value='')))"
      ]
     },
     "metadata": {},
     "output_type": "display_data"
    },
    {
     "name": "stdout",
     "output_type": "stream",
     "text": [
      "\n",
      "TRECDataset-LOC\n",
      "Train precision 0.9479101029195547 0.9482671707624448 0.9485402226423021\n",
      "Valid precision 0.9445378151260504 0.9445378151260504 0.9445378151260504\n",
      "Test precision 0.9395973154362416 0.9404362416107382 0.9412751677852349\n",
      "TRECDataset-LOC tfor 400\n"
     ]
    },
    {
     "data": {
      "application/vnd.jupyter.widget-view+json": {
       "model_id": "02a0c1ba91de496bb6f9116de6fd117a",
       "version_major": 2,
       "version_minor": 0
      },
      "text/html": [
       "<p>Failed to display Jupyter Widget of type <code>HBox</code>.</p>\n",
       "<p>\n",
       "  If you're reading this message in the Jupyter Notebook or JupyterLab Notebook, it may mean\n",
       "  that the widgets JavaScript is still loading. If this message persists, it\n",
       "  likely means that the widgets JavaScript library is either not installed or\n",
       "  not enabled. See the <a href=\"https://ipywidgets.readthedocs.io/en/stable/user_install.html\">Jupyter\n",
       "  Widgets Documentation</a> for setup instructions.\n",
       "</p>\n",
       "<p>\n",
       "  If you're reading this message in another frontend (for example, a static\n",
       "  rendering on GitHub or <a href=\"https://nbviewer.jupyter.org/\">NBViewer</a>),\n",
       "  it may mean that your frontend doesn't currently support widgets.\n",
       "</p>\n"
      ],
      "text/plain": [
       "HBox(children=(IntProgress(value=0, max=10), HTML(value='')))"
      ]
     },
     "metadata": {},
     "output_type": "display_data"
    },
    {
     "name": "stdout",
     "output_type": "stream",
     "text": [
      "\n",
      "TRECDataset-LOC\n",
      "Train precision 0.9485402226423021 0.9488552825036758 0.9491703423650494\n",
      "Valid precision 0.9445378151260504 0.9447058823529412 0.946218487394958\n",
      "Test precision 0.9395973154362416 0.9414429530201343 0.9446308724832215\n",
      "TRECDataset-LOC tfrf 200\n"
     ]
    },
    {
     "data": {
      "application/vnd.jupyter.widget-view+json": {
       "model_id": "a4415c27dee047609139d27ea4984755",
       "version_major": 2,
       "version_minor": 0
      },
      "text/html": [
       "<p>Failed to display Jupyter Widget of type <code>HBox</code>.</p>\n",
       "<p>\n",
       "  If you're reading this message in the Jupyter Notebook or JupyterLab Notebook, it may mean\n",
       "  that the widgets JavaScript is still loading. If this message persists, it\n",
       "  likely means that the widgets JavaScript library is either not installed or\n",
       "  not enabled. See the <a href=\"https://ipywidgets.readthedocs.io/en/stable/user_install.html\">Jupyter\n",
       "  Widgets Documentation</a> for setup instructions.\n",
       "</p>\n",
       "<p>\n",
       "  If you're reading this message in another frontend (for example, a static\n",
       "  rendering on GitHub or <a href=\"https://nbviewer.jupyter.org/\">NBViewer</a>),\n",
       "  it may mean that your frontend doesn't currently support widgets.\n",
       "</p>\n"
      ],
      "text/plain": [
       "HBox(children=(IntProgress(value=0, max=10), HTML(value='')))"
      ]
     },
     "metadata": {},
     "output_type": "display_data"
    },
    {
     "name": "stdout",
     "output_type": "stream",
     "text": [
      "\n",
      "TRECDataset-LOC\n",
      "Train precision 0.9479101029195547 0.9482461667716867 0.9485402226423021\n",
      "Valid precision 0.9445378151260504 0.9445378151260504 0.9445378151260504\n",
      "Test precision 0.9395973154362416 0.9411073825503357 0.9412751677852349\n",
      "TRECDataset-LOC tfrf 300\n"
     ]
    },
    {
     "data": {
      "application/vnd.jupyter.widget-view+json": {
       "model_id": "6739f1fe5e6843f290c1788a0e896a52",
       "version_major": 2,
       "version_minor": 0
      },
      "text/html": [
       "<p>Failed to display Jupyter Widget of type <code>HBox</code>.</p>\n",
       "<p>\n",
       "  If you're reading this message in the Jupyter Notebook or JupyterLab Notebook, it may mean\n",
       "  that the widgets JavaScript is still loading. If this message persists, it\n",
       "  likely means that the widgets JavaScript library is either not installed or\n",
       "  not enabled. See the <a href=\"https://ipywidgets.readthedocs.io/en/stable/user_install.html\">Jupyter\n",
       "  Widgets Documentation</a> for setup instructions.\n",
       "</p>\n",
       "<p>\n",
       "  If you're reading this message in another frontend (for example, a static\n",
       "  rendering on GitHub or <a href=\"https://nbviewer.jupyter.org/\">NBViewer</a>),\n",
       "  it may mean that your frontend doesn't currently support widgets.\n",
       "</p>\n"
      ],
      "text/plain": [
       "HBox(children=(IntProgress(value=0, max=10), HTML(value='')))"
      ]
     },
     "metadata": {},
     "output_type": "display_data"
    },
    {
     "name": "stdout",
     "output_type": "stream",
     "text": [
      "\n",
      "TRECDataset-LOC\n",
      "Train precision 0.9481201428271372 0.9483721907162362 0.9487502625498845\n",
      "Valid precision 0.9445378151260504 0.9445378151260504 0.9445378151260504\n",
      "Test precision 0.9395973154362416 0.9401006711409396 0.9412751677852349\n",
      "TRECDataset-LOC tfrf 400\n"
     ]
    },
    {
     "data": {
      "application/vnd.jupyter.widget-view+json": {
       "model_id": "18e633f3e0cf4745b2753077dfe826b3",
       "version_major": 2,
       "version_minor": 0
      },
      "text/html": [
       "<p>Failed to display Jupyter Widget of type <code>HBox</code>.</p>\n",
       "<p>\n",
       "  If you're reading this message in the Jupyter Notebook or JupyterLab Notebook, it may mean\n",
       "  that the widgets JavaScript is still loading. If this message persists, it\n",
       "  likely means that the widgets JavaScript library is either not installed or\n",
       "  not enabled. See the <a href=\"https://ipywidgets.readthedocs.io/en/stable/user_install.html\">Jupyter\n",
       "  Widgets Documentation</a> for setup instructions.\n",
       "</p>\n",
       "<p>\n",
       "  If you're reading this message in another frontend (for example, a static\n",
       "  rendering on GitHub or <a href=\"https://nbviewer.jupyter.org/\">NBViewer</a>),\n",
       "  it may mean that your frontend doesn't currently support widgets.\n",
       "</p>\n"
      ],
      "text/plain": [
       "HBox(children=(IntProgress(value=0, max=10), HTML(value='')))"
      ]
     },
     "metadata": {},
     "output_type": "display_data"
    },
    {
     "name": "stdout",
     "output_type": "stream",
     "text": [
      "\n",
      "TRECDataset-LOC\n",
      "Train precision 0.9481201428271372 0.948876286494434 0.9493803822726318\n",
      "Valid precision 0.9445378151260504 0.9445378151260504 0.9445378151260504\n",
      "Test precision 0.9395973154362416 0.9409395973154364 0.9429530201342282\n",
      "TRECDataset-HUM None 200\n"
     ]
    },
    {
     "data": {
      "application/vnd.jupyter.widget-view+json": {
       "model_id": "5c6b3bf031f8475985b13f3a34c32a04",
       "version_major": 2,
       "version_minor": 0
      },
      "text/html": [
       "<p>Failed to display Jupyter Widget of type <code>HBox</code>.</p>\n",
       "<p>\n",
       "  If you're reading this message in the Jupyter Notebook or JupyterLab Notebook, it may mean\n",
       "  that the widgets JavaScript is still loading. If this message persists, it\n",
       "  likely means that the widgets JavaScript library is either not installed or\n",
       "  not enabled. See the <a href=\"https://ipywidgets.readthedocs.io/en/stable/user_install.html\">Jupyter\n",
       "  Widgets Documentation</a> for setup instructions.\n",
       "</p>\n",
       "<p>\n",
       "  If you're reading this message in another frontend (for example, a static\n",
       "  rendering on GitHub or <a href=\"https://nbviewer.jupyter.org/\">NBViewer</a>),\n",
       "  it may mean that your frontend doesn't currently support widgets.\n",
       "</p>\n"
      ],
      "text/plain": [
       "HBox(children=(IntProgress(value=0, max=10), HTML(value='')))"
      ]
     },
     "metadata": {},
     "output_type": "display_data"
    },
    {
     "name": "stdout",
     "output_type": "stream",
     "text": [
      "\n",
      "TRECDataset-HUM\n",
      "Train precision 0.9325771896660365 0.9330602814534762 0.9338374291115312\n",
      "Valid precision 0.9159663865546218 0.9174789915966386 0.9193277310924369\n",
      "Test precision 0.9043624161073825 0.9043624161073825 0.9043624161073825\n",
      "TRECDataset-HUM None 300\n"
     ]
    },
    {
     "data": {
      "application/vnd.jupyter.widget-view+json": {
       "model_id": "0bea8f356794424a8712e47bbb35c0e9",
       "version_major": 2,
       "version_minor": 0
      },
      "text/html": [
       "<p>Failed to display Jupyter Widget of type <code>HBox</code>.</p>\n",
       "<p>\n",
       "  If you're reading this message in the Jupyter Notebook or JupyterLab Notebook, it may mean\n",
       "  that the widgets JavaScript is still loading. If this message persists, it\n",
       "  likely means that the widgets JavaScript library is either not installed or\n",
       "  not enabled. See the <a href=\"https://ipywidgets.readthedocs.io/en/stable/user_install.html\">Jupyter\n",
       "  Widgets Documentation</a> for setup instructions.\n",
       "</p>\n",
       "<p>\n",
       "  If you're reading this message in another frontend (for example, a static\n",
       "  rendering on GitHub or <a href=\"https://nbviewer.jupyter.org/\">NBViewer</a>),\n",
       "  it may mean that your frontend doesn't currently support widgets.\n",
       "</p>\n"
      ],
      "text/plain": [
       "HBox(children=(IntProgress(value=0, max=10), HTML(value='')))"
      ]
     },
     "metadata": {},
     "output_type": "display_data"
    },
    {
     "name": "stdout",
     "output_type": "stream",
     "text": [
      "\n",
      "TRECDataset-HUM\n",
      "Train precision 0.9344675488342785 0.9349086326402016 0.9357277882797732\n",
      "Valid precision 0.9159663865546218 0.917142857142857 0.9176470588235294\n",
      "Test precision 0.9043624161073825 0.9060402684563759 0.9077181208053691\n",
      "TRECDataset-HUM None 400\n"
     ]
    },
    {
     "data": {
      "application/vnd.jupyter.widget-view+json": {
       "model_id": "b8579ac1b5974092874fdbf80ac3fe30",
       "version_major": 2,
       "version_minor": 0
      },
      "text/html": [
       "<p>Failed to display Jupyter Widget of type <code>HBox</code>.</p>\n",
       "<p>\n",
       "  If you're reading this message in the Jupyter Notebook or JupyterLab Notebook, it may mean\n",
       "  that the widgets JavaScript is still loading. If this message persists, it\n",
       "  likely means that the widgets JavaScript library is either not installed or\n",
       "  not enabled. See the <a href=\"https://ipywidgets.readthedocs.io/en/stable/user_install.html\">Jupyter\n",
       "  Widgets Documentation</a> for setup instructions.\n",
       "</p>\n",
       "<p>\n",
       "  If you're reading this message in another frontend (for example, a static\n",
       "  rendering on GitHub or <a href=\"https://nbviewer.jupyter.org/\">NBViewer</a>),\n",
       "  it may mean that your frontend doesn't currently support widgets.\n",
       "</p>\n"
      ],
      "text/plain": [
       "HBox(children=(IntProgress(value=0, max=10), HTML(value='')))"
      ]
     },
     "metadata": {},
     "output_type": "display_data"
    },
    {
     "name": "stdout",
     "output_type": "stream",
     "text": [
      "\n",
      "TRECDataset-HUM\n",
      "Train precision 0.9357277882797732 0.9367149758454106 0.9376181474480151\n",
      "Valid precision 0.9176470588235294 0.9184873949579831 0.9193277310924369\n",
      "Test precision 0.9060402684563759 0.9073825503355704 0.9077181208053691\n",
      "TRECDataset-HUM tfidf 200\n"
     ]
    },
    {
     "data": {
      "application/vnd.jupyter.widget-view+json": {
       "model_id": "9412679c7fee4561b15af21aea91552a",
       "version_major": 2,
       "version_minor": 0
      },
      "text/html": [
       "<p>Failed to display Jupyter Widget of type <code>HBox</code>.</p>\n",
       "<p>\n",
       "  If you're reading this message in the Jupyter Notebook or JupyterLab Notebook, it may mean\n",
       "  that the widgets JavaScript is still loading. If this message persists, it\n",
       "  likely means that the widgets JavaScript library is either not installed or\n",
       "  not enabled. See the <a href=\"https://ipywidgets.readthedocs.io/en/stable/user_install.html\">Jupyter\n",
       "  Widgets Documentation</a> for setup instructions.\n",
       "</p>\n",
       "<p>\n",
       "  If you're reading this message in another frontend (for example, a static\n",
       "  rendering on GitHub or <a href=\"https://nbviewer.jupyter.org/\">NBViewer</a>),\n",
       "  it may mean that your frontend doesn't currently support widgets.\n",
       "</p>\n"
      ],
      "text/plain": [
       "HBox(children=(IntProgress(value=0, max=10), HTML(value='')))"
      ]
     },
     "metadata": {},
     "output_type": "display_data"
    },
    {
     "name": "stdout",
     "output_type": "stream",
     "text": [
      "\n",
      "TRECDataset-HUM\n",
      "Train precision 0.9323671497584541 0.9331653014072673 0.9336273892039487\n",
      "Valid precision 0.9159663865546218 0.9176470588235294 0.9193277310924369\n",
      "Test precision 0.9043624161073825 0.9045302013422818 0.9060402684563759\n",
      "TRECDataset-HUM tfidf 300\n"
     ]
    },
    {
     "data": {
      "application/vnd.jupyter.widget-view+json": {
       "model_id": "75b113fda3fc4f0d960e6677f25931a6",
       "version_major": 2,
       "version_minor": 0
      },
      "text/html": [
       "<p>Failed to display Jupyter Widget of type <code>HBox</code>.</p>\n",
       "<p>\n",
       "  If you're reading this message in the Jupyter Notebook or JupyterLab Notebook, it may mean\n",
       "  that the widgets JavaScript is still loading. If this message persists, it\n",
       "  likely means that the widgets JavaScript library is either not installed or\n",
       "  not enabled. See the <a href=\"https://ipywidgets.readthedocs.io/en/stable/user_install.html\">Jupyter\n",
       "  Widgets Documentation</a> for setup instructions.\n",
       "</p>\n",
       "<p>\n",
       "  If you're reading this message in another frontend (for example, a static\n",
       "  rendering on GitHub or <a href=\"https://nbviewer.jupyter.org/\">NBViewer</a>),\n",
       "  it may mean that your frontend doesn't currently support widgets.\n",
       "</p>\n"
      ],
      "text/plain": [
       "HBox(children=(IntProgress(value=0, max=10), HTML(value='')))"
      ]
     },
     "metadata": {},
     "output_type": "display_data"
    },
    {
     "name": "stdout",
     "output_type": "stream",
     "text": [
      "\n",
      "TRECDataset-HUM\n",
      "Train precision 0.9338374291115312 0.9345725687880698 0.9353077084646083\n",
      "Valid precision 0.9159663865546218 0.917142857142857 0.9176470588235294\n",
      "Test precision 0.9043624161073825 0.9058724832214766 0.9060402684563759\n",
      "TRECDataset-HUM tfidf 400\n"
     ]
    },
    {
     "data": {
      "application/vnd.jupyter.widget-view+json": {
       "model_id": "9179c1855d374a05bcb1a5755d34070e",
       "version_major": 2,
       "version_minor": 0
      },
      "text/html": [
       "<p>Failed to display Jupyter Widget of type <code>HBox</code>.</p>\n",
       "<p>\n",
       "  If you're reading this message in the Jupyter Notebook or JupyterLab Notebook, it may mean\n",
       "  that the widgets JavaScript is still loading. If this message persists, it\n",
       "  likely means that the widgets JavaScript library is either not installed or\n",
       "  not enabled. See the <a href=\"https://ipywidgets.readthedocs.io/en/stable/user_install.html\">Jupyter\n",
       "  Widgets Documentation</a> for setup instructions.\n",
       "</p>\n",
       "<p>\n",
       "  If you're reading this message in another frontend (for example, a static\n",
       "  rendering on GitHub or <a href=\"https://nbviewer.jupyter.org/\">NBViewer</a>),\n",
       "  it may mean that your frontend doesn't currently support widgets.\n",
       "</p>\n"
      ],
      "text/plain": [
       "HBox(children=(IntProgress(value=0, max=10), HTML(value='')))"
      ]
     },
     "metadata": {},
     "output_type": "display_data"
    },
    {
     "name": "stdout",
     "output_type": "stream",
     "text": [
      "\n",
      "TRECDataset-HUM\n",
      "Train precision 0.936147868094938 0.936672967863894 0.9376181474480151\n",
      "Valid precision 0.9176470588235294 0.9191596638655464 0.9226890756302522\n",
      "Test precision 0.9077181208053691 0.907718120805369 0.9077181208053691\n",
      "TRECDataset-HUM tfchi2 200\n"
     ]
    },
    {
     "data": {
      "application/vnd.jupyter.widget-view+json": {
       "model_id": "ae020c46a3f246d1bb5e30d1a3cc8ff9",
       "version_major": 2,
       "version_minor": 0
      },
      "text/html": [
       "<p>Failed to display Jupyter Widget of type <code>HBox</code>.</p>\n",
       "<p>\n",
       "  If you're reading this message in the Jupyter Notebook or JupyterLab Notebook, it may mean\n",
       "  that the widgets JavaScript is still loading. If this message persists, it\n",
       "  likely means that the widgets JavaScript library is either not installed or\n",
       "  not enabled. See the <a href=\"https://ipywidgets.readthedocs.io/en/stable/user_install.html\">Jupyter\n",
       "  Widgets Documentation</a> for setup instructions.\n",
       "</p>\n",
       "<p>\n",
       "  If you're reading this message in another frontend (for example, a static\n",
       "  rendering on GitHub or <a href=\"https://nbviewer.jupyter.org/\">NBViewer</a>),\n",
       "  it may mean that your frontend doesn't currently support widgets.\n",
       "</p>\n"
      ],
      "text/plain": [
       "HBox(children=(IntProgress(value=0, max=10), HTML(value='')))"
      ]
     },
     "metadata": {},
     "output_type": "display_data"
    },
    {
     "name": "stdout",
     "output_type": "stream",
     "text": [
      "\n",
      "TRECDataset-HUM\n",
      "Train precision 0.9325771896660365 0.932955261499685 0.9332073093887838\n",
      "Valid precision 0.9159663865546218 0.9174789915966386 0.9176470588235294\n",
      "Test precision 0.9043624161073825 0.9043624161073825 0.9043624161073825\n",
      "TRECDataset-HUM tfchi2 300\n"
     ]
    },
    {
     "data": {
      "application/vnd.jupyter.widget-view+json": {
       "model_id": "df89c2b2ae884e5eab710070112a8365",
       "version_major": 2,
       "version_minor": 0
      },
      "text/html": [
       "<p>Failed to display Jupyter Widget of type <code>HBox</code>.</p>\n",
       "<p>\n",
       "  If you're reading this message in the Jupyter Notebook or JupyterLab Notebook, it may mean\n",
       "  that the widgets JavaScript is still loading. If this message persists, it\n",
       "  likely means that the widgets JavaScript library is either not installed or\n",
       "  not enabled. See the <a href=\"https://ipywidgets.readthedocs.io/en/stable/user_install.html\">Jupyter\n",
       "  Widgets Documentation</a> for setup instructions.\n",
       "</p>\n",
       "<p>\n",
       "  If you're reading this message in another frontend (for example, a static\n",
       "  rendering on GitHub or <a href=\"https://nbviewer.jupyter.org/\">NBViewer</a>),\n",
       "  it may mean that your frontend doesn't currently support widgets.\n",
       "</p>\n"
      ],
      "text/plain": [
       "HBox(children=(IntProgress(value=0, max=10), HTML(value='')))"
      ]
     },
     "metadata": {},
     "output_type": "display_data"
    },
    {
     "name": "stdout",
     "output_type": "stream",
     "text": [
      "\n",
      "TRECDataset-HUM\n",
      "Train precision 0.9336273892039487 0.9348036126864105 0.9359378281873556\n",
      "Valid precision 0.9159663865546218 0.917142857142857 0.9176470588235294\n",
      "Test precision 0.9043624161073825 0.9062080536912751 0.9077181208053691\n",
      "TRECDataset-HUM tfchi2 400\n"
     ]
    },
    {
     "data": {
      "application/vnd.jupyter.widget-view+json": {
       "model_id": "77f7e077fe914b97a80b4b599f788e46",
       "version_major": 2,
       "version_minor": 0
      },
      "text/html": [
       "<p>Failed to display Jupyter Widget of type <code>HBox</code>.</p>\n",
       "<p>\n",
       "  If you're reading this message in the Jupyter Notebook or JupyterLab Notebook, it may mean\n",
       "  that the widgets JavaScript is still loading. If this message persists, it\n",
       "  likely means that the widgets JavaScript library is either not installed or\n",
       "  not enabled. See the <a href=\"https://ipywidgets.readthedocs.io/en/stable/user_install.html\">Jupyter\n",
       "  Widgets Documentation</a> for setup instructions.\n",
       "</p>\n",
       "<p>\n",
       "  If you're reading this message in another frontend (for example, a static\n",
       "  rendering on GitHub or <a href=\"https://nbviewer.jupyter.org/\">NBViewer</a>),\n",
       "  it may mean that your frontend doesn't currently support widgets.\n",
       "</p>\n"
      ],
      "text/plain": [
       "HBox(children=(IntProgress(value=0, max=10), HTML(value='')))"
      ]
     },
     "metadata": {},
     "output_type": "display_data"
    },
    {
     "name": "stdout",
     "output_type": "stream",
     "text": [
      "\n",
      "TRECDataset-HUM\n",
      "Train precision 0.936147868094938 0.9366939718546524 0.9374081075404327\n",
      "Valid precision 0.9176470588235294 0.919327731092437 0.9226890756302522\n",
      "Test precision 0.9077181208053691 0.907718120805369 0.9077181208053691\n",
      "TRECDataset-HUM tfig 200\n"
     ]
    },
    {
     "data": {
      "application/vnd.jupyter.widget-view+json": {
       "model_id": "c8bc6947431e4c0f80b9ddefa8439b99",
       "version_major": 2,
       "version_minor": 0
      },
      "text/html": [
       "<p>Failed to display Jupyter Widget of type <code>HBox</code>.</p>\n",
       "<p>\n",
       "  If you're reading this message in the Jupyter Notebook or JupyterLab Notebook, it may mean\n",
       "  that the widgets JavaScript is still loading. If this message persists, it\n",
       "  likely means that the widgets JavaScript library is either not installed or\n",
       "  not enabled. See the <a href=\"https://ipywidgets.readthedocs.io/en/stable/user_install.html\">Jupyter\n",
       "  Widgets Documentation</a> for setup instructions.\n",
       "</p>\n",
       "<p>\n",
       "  If you're reading this message in another frontend (for example, a static\n",
       "  rendering on GitHub or <a href=\"https://nbviewer.jupyter.org/\">NBViewer</a>),\n",
       "  it may mean that your frontend doesn't currently support widgets.\n",
       "</p>\n"
      ],
      "text/plain": [
       "HBox(children=(IntProgress(value=0, max=10), HTML(value='')))"
      ]
     },
     "metadata": {},
     "output_type": "display_data"
    },
    {
     "name": "stdout",
     "output_type": "stream",
     "text": [
      "\n",
      "TRECDataset-HUM\n",
      "Train precision 0.9325771896660365 0.933039277462718 0.9336273892039487\n",
      "Valid precision 0.9159663865546218 0.9173109243697478 0.9176470588235294\n",
      "Test precision 0.9043624161073825 0.9043624161073825 0.9043624161073825\n",
      "TRECDataset-HUM tfig 300\n"
     ]
    },
    {
     "data": {
      "application/vnd.jupyter.widget-view+json": {
       "model_id": "2c32dd32043a464ab5b4bc75580effc9",
       "version_major": 2,
       "version_minor": 0
      },
      "text/html": [
       "<p>Failed to display Jupyter Widget of type <code>HBox</code>.</p>\n",
       "<p>\n",
       "  If you're reading this message in the Jupyter Notebook or JupyterLab Notebook, it may mean\n",
       "  that the widgets JavaScript is still loading. If this message persists, it\n",
       "  likely means that the widgets JavaScript library is either not installed or\n",
       "  not enabled. See the <a href=\"https://ipywidgets.readthedocs.io/en/stable/user_install.html\">Jupyter\n",
       "  Widgets Documentation</a> for setup instructions.\n",
       "</p>\n",
       "<p>\n",
       "  If you're reading this message in another frontend (for example, a static\n",
       "  rendering on GitHub or <a href=\"https://nbviewer.jupyter.org/\">NBViewer</a>),\n",
       "  it may mean that your frontend doesn't currently support widgets.\n",
       "</p>\n"
      ],
      "text/plain": [
       "HBox(children=(IntProgress(value=0, max=10), HTML(value='')))"
      ]
     },
     "metadata": {},
     "output_type": "display_data"
    },
    {
     "name": "stdout",
     "output_type": "stream",
     "text": [
      "\n",
      "TRECDataset-HUM\n",
      "Train precision 0.9336273892039487 0.9346565847511027 0.9353077084646083\n",
      "Valid precision 0.9176470588235294 0.9176470588235294 0.9176470588235294\n",
      "Test precision 0.9060402684563759 0.9060402684563759 0.9060402684563759\n",
      "TRECDataset-HUM tfig 400\n"
     ]
    },
    {
     "data": {
      "application/vnd.jupyter.widget-view+json": {
       "model_id": "b8d6474f5b9147e8b35dd7c292e99b85",
       "version_major": 2,
       "version_minor": 0
      },
      "text/html": [
       "<p>Failed to display Jupyter Widget of type <code>HBox</code>.</p>\n",
       "<p>\n",
       "  If you're reading this message in the Jupyter Notebook or JupyterLab Notebook, it may mean\n",
       "  that the widgets JavaScript is still loading. If this message persists, it\n",
       "  likely means that the widgets JavaScript library is either not installed or\n",
       "  not enabled. See the <a href=\"https://ipywidgets.readthedocs.io/en/stable/user_install.html\">Jupyter\n",
       "  Widgets Documentation</a> for setup instructions.\n",
       "</p>\n",
       "<p>\n",
       "  If you're reading this message in another frontend (for example, a static\n",
       "  rendering on GitHub or <a href=\"https://nbviewer.jupyter.org/\">NBViewer</a>),\n",
       "  it may mean that your frontend doesn't currently support widgets.\n",
       "</p>\n"
      ],
      "text/plain": [
       "HBox(children=(IntProgress(value=0, max=10), HTML(value='')))"
      ]
     },
     "metadata": {},
     "output_type": "display_data"
    },
    {
     "name": "stdout",
     "output_type": "stream",
     "text": [
      "\n",
      "TRECDataset-HUM\n",
      "Train precision 0.9359378281873556 0.936672967863894 0.9374081075404327\n",
      "Valid precision 0.9176470588235294 0.9181512605042016 0.9193277310924369\n",
      "Test precision 0.9060402684563759 0.9073825503355704 0.9077181208053691\n",
      "TRECDataset-HUM tfgr 200\n"
     ]
    },
    {
     "data": {
      "application/vnd.jupyter.widget-view+json": {
       "model_id": "9d57c4e1f1204671852d662b38404010",
       "version_major": 2,
       "version_minor": 0
      },
      "text/html": [
       "<p>Failed to display Jupyter Widget of type <code>HBox</code>.</p>\n",
       "<p>\n",
       "  If you're reading this message in the Jupyter Notebook or JupyterLab Notebook, it may mean\n",
       "  that the widgets JavaScript is still loading. If this message persists, it\n",
       "  likely means that the widgets JavaScript library is either not installed or\n",
       "  not enabled. See the <a href=\"https://ipywidgets.readthedocs.io/en/stable/user_install.html\">Jupyter\n",
       "  Widgets Documentation</a> for setup instructions.\n",
       "</p>\n",
       "<p>\n",
       "  If you're reading this message in another frontend (for example, a static\n",
       "  rendering on GitHub or <a href=\"https://nbviewer.jupyter.org/\">NBViewer</a>),\n",
       "  it may mean that your frontend doesn't currently support widgets.\n",
       "</p>\n"
      ],
      "text/plain": [
       "HBox(children=(IntProgress(value=0, max=10), HTML(value='')))"
      ]
     },
     "metadata": {},
     "output_type": "display_data"
    },
    {
     "name": "stdout",
     "output_type": "stream",
     "text": [
      "\n",
      "TRECDataset-HUM\n",
      "Train precision 0.9323671497584541 0.933312329342575 0.9338374291115312\n",
      "Valid precision 0.9159663865546218 0.9188235294117646 0.9193277310924369\n",
      "Test precision 0.9043624161073825 0.9043624161073825 0.9043624161073825\n",
      "TRECDataset-HUM tfgr 300\n"
     ]
    },
    {
     "data": {
      "application/vnd.jupyter.widget-view+json": {
       "model_id": "15ae73c8c9944de7b60790a90ea0f211",
       "version_major": 2,
       "version_minor": 0
      },
      "text/html": [
       "<p>Failed to display Jupyter Widget of type <code>HBox</code>.</p>\n",
       "<p>\n",
       "  If you're reading this message in the Jupyter Notebook or JupyterLab Notebook, it may mean\n",
       "  that the widgets JavaScript is still loading. If this message persists, it\n",
       "  likely means that the widgets JavaScript library is either not installed or\n",
       "  not enabled. See the <a href=\"https://ipywidgets.readthedocs.io/en/stable/user_install.html\">Jupyter\n",
       "  Widgets Documentation</a> for setup instructions.\n",
       "</p>\n",
       "<p>\n",
       "  If you're reading this message in another frontend (for example, a static\n",
       "  rendering on GitHub or <a href=\"https://nbviewer.jupyter.org/\">NBViewer</a>),\n",
       "  it may mean that your frontend doesn't currently support widgets.\n",
       "</p>\n"
      ],
      "text/plain": [
       "HBox(children=(IntProgress(value=0, max=10), HTML(value='')))"
      ]
     },
     "metadata": {},
     "output_type": "display_data"
    },
    {
     "name": "stdout",
     "output_type": "stream",
     "text": [
      "\n",
      "TRECDataset-HUM\n",
      "Train precision 0.9340474690191136 0.934677588741861 0.9350976685570258\n",
      "Valid precision 0.9159663865546218 0.9169747899159664 0.9176470588235294\n",
      "Test precision 0.9043624161073825 0.9058724832214766 0.9077181208053691\n",
      "TRECDataset-HUM tfgr 400\n"
     ]
    },
    {
     "data": {
      "application/vnd.jupyter.widget-view+json": {
       "model_id": "4ed47e5c671248648ee8300862ed2b5c",
       "version_major": 2,
       "version_minor": 0
      },
      "text/html": [
       "<p>Failed to display Jupyter Widget of type <code>HBox</code>.</p>\n",
       "<p>\n",
       "  If you're reading this message in the Jupyter Notebook or JupyterLab Notebook, it may mean\n",
       "  that the widgets JavaScript is still loading. If this message persists, it\n",
       "  likely means that the widgets JavaScript library is either not installed or\n",
       "  not enabled. See the <a href=\"https://ipywidgets.readthedocs.io/en/stable/user_install.html\">Jupyter\n",
       "  Widgets Documentation</a> for setup instructions.\n",
       "</p>\n",
       "<p>\n",
       "  If you're reading this message in another frontend (for example, a static\n",
       "  rendering on GitHub or <a href=\"https://nbviewer.jupyter.org/\">NBViewer</a>),\n",
       "  it may mean that your frontend doesn't currently support widgets.\n",
       "</p>\n"
      ],
      "text/plain": [
       "HBox(children=(IntProgress(value=0, max=10), HTML(value='')))"
      ]
     },
     "metadata": {},
     "output_type": "display_data"
    },
    {
     "name": "stdout",
     "output_type": "stream",
     "text": [
      "\n",
      "TRECDataset-HUM\n",
      "Train precision 0.9363579080025205 0.9369460197437514 0.9376181474480151\n",
      "Valid precision 0.9176470588235294 0.9183193277310924 0.9193277310924369\n",
      "Test precision 0.9077181208053691 0.9078859060402683 0.9093959731543624\n",
      "TRECDataset-HUM tfor 200\n"
     ]
    },
    {
     "data": {
      "application/vnd.jupyter.widget-view+json": {
       "model_id": "4fe2e1dd2d2f40469e50951ee043c0c0",
       "version_major": 2,
       "version_minor": 0
      },
      "text/html": [
       "<p>Failed to display Jupyter Widget of type <code>HBox</code>.</p>\n",
       "<p>\n",
       "  If you're reading this message in the Jupyter Notebook or JupyterLab Notebook, it may mean\n",
       "  that the widgets JavaScript is still loading. If this message persists, it\n",
       "  likely means that the widgets JavaScript library is either not installed or\n",
       "  not enabled. See the <a href=\"https://ipywidgets.readthedocs.io/en/stable/user_install.html\">Jupyter\n",
       "  Widgets Documentation</a> for setup instructions.\n",
       "</p>\n",
       "<p>\n",
       "  If you're reading this message in another frontend (for example, a static\n",
       "  rendering on GitHub or <a href=\"https://nbviewer.jupyter.org/\">NBViewer</a>),\n",
       "  it may mean that your frontend doesn't currently support widgets.\n",
       "</p>\n"
      ],
      "text/plain": [
       "HBox(children=(IntProgress(value=0, max=10), HTML(value='')))"
      ]
     },
     "metadata": {},
     "output_type": "display_data"
    },
    {
     "name": "stdout",
     "output_type": "stream",
     "text": [
      "\n",
      "TRECDataset-HUM\n",
      "Train precision 0.9325771896660365 0.9331022894349926 0.9336273892039487\n",
      "Valid precision 0.9159663865546218 0.9181512605042016 0.9193277310924369\n",
      "Test precision 0.9043624161073825 0.9043624161073825 0.9043624161073825\n",
      "TRECDataset-HUM tfor 300\n"
     ]
    },
    {
     "data": {
      "application/vnd.jupyter.widget-view+json": {
       "model_id": "4890926d42df470ab008d70aed257ec3",
       "version_major": 2,
       "version_minor": 0
      },
      "text/html": [
       "<p>Failed to display Jupyter Widget of type <code>HBox</code>.</p>\n",
       "<p>\n",
       "  If you're reading this message in the Jupyter Notebook or JupyterLab Notebook, it may mean\n",
       "  that the widgets JavaScript is still loading. If this message persists, it\n",
       "  likely means that the widgets JavaScript library is either not installed or\n",
       "  not enabled. See the <a href=\"https://ipywidgets.readthedocs.io/en/stable/user_install.html\">Jupyter\n",
       "  Widgets Documentation</a> for setup instructions.\n",
       "</p>\n",
       "<p>\n",
       "  If you're reading this message in another frontend (for example, a static\n",
       "  rendering on GitHub or <a href=\"https://nbviewer.jupyter.org/\">NBViewer</a>),\n",
       "  it may mean that your frontend doesn't currently support widgets.\n",
       "</p>\n"
      ],
      "text/plain": [
       "HBox(children=(IntProgress(value=0, max=10), HTML(value='')))"
      ]
     },
     "metadata": {},
     "output_type": "display_data"
    },
    {
     "name": "stdout",
     "output_type": "stream",
     "text": [
      "\n",
      "TRECDataset-HUM\n",
      "Train precision 0.934257508926696 0.9346145767695863 0.9350976685570258\n",
      "Valid precision 0.9159663865546218 0.9173109243697478 0.9176470588235294\n",
      "Test precision 0.9043624161073825 0.9060402684563759 0.9077181208053691\n",
      "TRECDataset-HUM tfor 400\n"
     ]
    },
    {
     "data": {
      "application/vnd.jupyter.widget-view+json": {
       "model_id": "ce1e74fe6a944a5c99293ebe23adb1ac",
       "version_major": 2,
       "version_minor": 0
      },
      "text/html": [
       "<p>Failed to display Jupyter Widget of type <code>HBox</code>.</p>\n",
       "<p>\n",
       "  If you're reading this message in the Jupyter Notebook or JupyterLab Notebook, it may mean\n",
       "  that the widgets JavaScript is still loading. If this message persists, it\n",
       "  likely means that the widgets JavaScript library is either not installed or\n",
       "  not enabled. See the <a href=\"https://ipywidgets.readthedocs.io/en/stable/user_install.html\">Jupyter\n",
       "  Widgets Documentation</a> for setup instructions.\n",
       "</p>\n",
       "<p>\n",
       "  If you're reading this message in another frontend (for example, a static\n",
       "  rendering on GitHub or <a href=\"https://nbviewer.jupyter.org/\">NBViewer</a>),\n",
       "  it may mean that your frontend doesn't currently support widgets.\n",
       "</p>\n"
      ],
      "text/plain": [
       "HBox(children=(IntProgress(value=0, max=10), HTML(value='')))"
      ]
     },
     "metadata": {},
     "output_type": "display_data"
    },
    {
     "name": "stdout",
     "output_type": "stream",
     "text": [
      "\n",
      "TRECDataset-HUM\n",
      "Train precision 0.936147868094938 0.936735979836169 0.9374081075404327\n",
      "Valid precision 0.9176470588235294 0.9181512605042016 0.9193277310924369\n",
      "Test precision 0.9060402684563759 0.9073825503355704 0.9077181208053691\n",
      "TRECDataset-HUM tfrf 200\n"
     ]
    },
    {
     "data": {
      "application/vnd.jupyter.widget-view+json": {
       "model_id": "7b5f1dceb1164ccb90109ddaab0f0f9e",
       "version_major": 2,
       "version_minor": 0
      },
      "text/html": [
       "<p>Failed to display Jupyter Widget of type <code>HBox</code>.</p>\n",
       "<p>\n",
       "  If you're reading this message in the Jupyter Notebook or JupyterLab Notebook, it may mean\n",
       "  that the widgets JavaScript is still loading. If this message persists, it\n",
       "  likely means that the widgets JavaScript library is either not installed or\n",
       "  not enabled. See the <a href=\"https://ipywidgets.readthedocs.io/en/stable/user_install.html\">Jupyter\n",
       "  Widgets Documentation</a> for setup instructions.\n",
       "</p>\n",
       "<p>\n",
       "  If you're reading this message in another frontend (for example, a static\n",
       "  rendering on GitHub or <a href=\"https://nbviewer.jupyter.org/\">NBViewer</a>),\n",
       "  it may mean that your frontend doesn't currently support widgets.\n",
       "</p>\n"
      ],
      "text/plain": [
       "HBox(children=(IntProgress(value=0, max=10), HTML(value='')))"
      ]
     },
     "metadata": {},
     "output_type": "display_data"
    },
    {
     "name": "stdout",
     "output_type": "stream",
     "text": [
      "\n",
      "TRECDataset-HUM\n",
      "Train precision 0.9323671497584541 0.9329762654904432 0.9338374291115312\n",
      "Valid precision 0.9159663865546218 0.9178151260504201 0.9193277310924369\n",
      "Test precision 0.9043624161073825 0.9043624161073825 0.9043624161073825\n",
      "TRECDataset-HUM tfrf 300\n"
     ]
    },
    {
     "data": {
      "application/vnd.jupyter.widget-view+json": {
       "model_id": "8fbe0614c422476db67159d16b7625dc",
       "version_major": 2,
       "version_minor": 0
      },
      "text/html": [
       "<p>Failed to display Jupyter Widget of type <code>HBox</code>.</p>\n",
       "<p>\n",
       "  If you're reading this message in the Jupyter Notebook or JupyterLab Notebook, it may mean\n",
       "  that the widgets JavaScript is still loading. If this message persists, it\n",
       "  likely means that the widgets JavaScript library is either not installed or\n",
       "  not enabled. See the <a href=\"https://ipywidgets.readthedocs.io/en/stable/user_install.html\">Jupyter\n",
       "  Widgets Documentation</a> for setup instructions.\n",
       "</p>\n",
       "<p>\n",
       "  If you're reading this message in another frontend (for example, a static\n",
       "  rendering on GitHub or <a href=\"https://nbviewer.jupyter.org/\">NBViewer</a>),\n",
       "  it may mean that your frontend doesn't currently support widgets.\n",
       "</p>\n"
      ],
      "text/plain": [
       "HBox(children=(IntProgress(value=0, max=10), HTML(value='')))"
      ]
     },
     "metadata": {},
     "output_type": "display_data"
    },
    {
     "name": "stdout",
     "output_type": "stream",
     "text": [
      "\n",
      "TRECDataset-HUM\n",
      "Train precision 0.9340474690191136 0.9349716446124765 0.936147868094938\n",
      "Valid precision 0.9159663865546218 0.9174789915966386 0.9176470588235294\n",
      "Test precision 0.9060402684563759 0.9062080536912752 0.9077181208053691\n",
      "TRECDataset-HUM tfrf 400\n"
     ]
    },
    {
     "data": {
      "application/vnd.jupyter.widget-view+json": {
       "model_id": "419cd634692a4acebd07070688a1de7a",
       "version_major": 2,
       "version_minor": 0
      },
      "text/html": [
       "<p>Failed to display Jupyter Widget of type <code>HBox</code>.</p>\n",
       "<p>\n",
       "  If you're reading this message in the Jupyter Notebook or JupyterLab Notebook, it may mean\n",
       "  that the widgets JavaScript is still loading. If this message persists, it\n",
       "  likely means that the widgets JavaScript library is either not installed or\n",
       "  not enabled. See the <a href=\"https://ipywidgets.readthedocs.io/en/stable/user_install.html\">Jupyter\n",
       "  Widgets Documentation</a> for setup instructions.\n",
       "</p>\n",
       "<p>\n",
       "  If you're reading this message in another frontend (for example, a static\n",
       "  rendering on GitHub or <a href=\"https://nbviewer.jupyter.org/\">NBViewer</a>),\n",
       "  it may mean that your frontend doesn't currently support widgets.\n",
       "</p>\n"
      ],
      "text/plain": [
       "HBox(children=(IntProgress(value=0, max=10), HTML(value='')))"
      ]
     },
     "metadata": {},
     "output_type": "display_data"
    },
    {
     "name": "stdout",
     "output_type": "stream",
     "text": [
      "\n",
      "TRECDataset-HUM\n",
      "Train precision 0.9363579080025205 0.9369250157529929 0.9374081075404327\n",
      "Valid precision 0.9176470588235294 0.9181512605042016 0.9193277310924369\n",
      "Test precision 0.9077181208053691 0.907718120805369 0.9077181208053691\n",
      "TRECDataset-ENTY None 200\n"
     ]
    },
    {
     "data": {
      "application/vnd.jupyter.widget-view+json": {
       "model_id": "5f2cd3800ef1460ebdf48a299994e841",
       "version_major": 2,
       "version_minor": 0
      },
      "text/html": [
       "<p>Failed to display Jupyter Widget of type <code>HBox</code>.</p>\n",
       "<p>\n",
       "  If you're reading this message in the Jupyter Notebook or JupyterLab Notebook, it may mean\n",
       "  that the widgets JavaScript is still loading. If this message persists, it\n",
       "  likely means that the widgets JavaScript library is either not installed or\n",
       "  not enabled. See the <a href=\"https://ipywidgets.readthedocs.io/en/stable/user_install.html\">Jupyter\n",
       "  Widgets Documentation</a> for setup instructions.\n",
       "</p>\n",
       "<p>\n",
       "  If you're reading this message in another frontend (for example, a static\n",
       "  rendering on GitHub or <a href=\"https://nbviewer.jupyter.org/\">NBViewer</a>),\n",
       "  it may mean that your frontend doesn't currently support widgets.\n",
       "</p>\n"
      ],
      "text/plain": [
       "HBox(children=(IntProgress(value=0, max=10), HTML(value='')))"
      ]
     },
     "metadata": {},
     "output_type": "display_data"
    },
    {
     "name": "stdout",
     "output_type": "stream",
     "text": [
      "\n",
      "TRECDataset-ENTY\n",
      "Train precision 0.8809073724007561 0.8817895400126025 0.8830077714765805\n",
      "Valid precision 0.8302521008403361 0.8319327731092436 0.8336134453781513\n",
      "Test precision 0.8288590604026845 0.8318791946308725 0.8338926174496644\n",
      "TRECDataset-ENTY None 300\n"
     ]
    },
    {
     "data": {
      "application/vnd.jupyter.widget-view+json": {
       "model_id": "235f8b38ee3c4ca2bbbad6382b79a97a",
       "version_major": 2,
       "version_minor": 0
      },
      "text/html": [
       "<p>Failed to display Jupyter Widget of type <code>HBox</code>.</p>\n",
       "<p>\n",
       "  If you're reading this message in the Jupyter Notebook or JupyterLab Notebook, it may mean\n",
       "  that the widgets JavaScript is still loading. If this message persists, it\n",
       "  likely means that the widgets JavaScript library is either not installed or\n",
       "  not enabled. See the <a href=\"https://ipywidgets.readthedocs.io/en/stable/user_install.html\">Jupyter\n",
       "  Widgets Documentation</a> for setup instructions.\n",
       "</p>\n",
       "<p>\n",
       "  If you're reading this message in another frontend (for example, a static\n",
       "  rendering on GitHub or <a href=\"https://nbviewer.jupyter.org/\">NBViewer</a>),\n",
       "  it may mean that your frontend doesn't currently support widgets.\n",
       "</p>\n"
      ],
      "text/plain": [
       "HBox(children=(IntProgress(value=0, max=10), HTML(value='')))"
      ]
     },
     "metadata": {},
     "output_type": "display_data"
    },
    {
     "name": "stdout",
     "output_type": "stream",
     "text": [
      "\n",
      "TRECDataset-ENTY\n",
      "Train precision 0.8857382902751523 0.8866834698592732 0.8882587691661415\n",
      "Valid precision 0.8302521008403361 0.8321008403361343 0.8336134453781513\n",
      "Test precision 0.8288590604026845 0.8323825503355705 0.8338926174496644\n",
      "TRECDataset-ENTY None 400\n"
     ]
    },
    {
     "data": {
      "application/vnd.jupyter.widget-view+json": {
       "model_id": "9a8378d409304a8e9811e17c9bed6f35",
       "version_major": 2,
       "version_minor": 0
      },
      "text/html": [
       "<p>Failed to display Jupyter Widget of type <code>HBox</code>.</p>\n",
       "<p>\n",
       "  If you're reading this message in the Jupyter Notebook or JupyterLab Notebook, it may mean\n",
       "  that the widgets JavaScript is still loading. If this message persists, it\n",
       "  likely means that the widgets JavaScript library is either not installed or\n",
       "  not enabled. See the <a href=\"https://ipywidgets.readthedocs.io/en/stable/user_install.html\">Jupyter\n",
       "  Widgets Documentation</a> for setup instructions.\n",
       "</p>\n",
       "<p>\n",
       "  If you're reading this message in another frontend (for example, a static\n",
       "  rendering on GitHub or <a href=\"https://nbviewer.jupyter.org/\">NBViewer</a>),\n",
       "  it may mean that your frontend doesn't currently support widgets.\n",
       "</p>\n"
      ],
      "text/plain": [
       "HBox(children=(IntProgress(value=0, max=10), HTML(value='')))"
      ]
     },
     "metadata": {},
     "output_type": "display_data"
    },
    {
     "name": "stdout",
     "output_type": "stream",
     "text": [
      "\n",
      "TRECDataset-ENTY\n",
      "Train precision 0.8895190086116362 0.890695232094098 0.8914093677798782\n",
      "Valid precision 0.8319327731092436 0.8331092436974789 0.8336134453781513\n",
      "Test precision 0.8305369127516778 0.832214765100671 0.8355704697986577\n",
      "TRECDataset-ENTY tfidf 200\n"
     ]
    },
    {
     "data": {
      "application/vnd.jupyter.widget-view+json": {
       "model_id": "7aad96480cd94cc699b819b83a6a225e",
       "version_major": 2,
       "version_minor": 0
      },
      "text/html": [
       "<p>Failed to display Jupyter Widget of type <code>HBox</code>.</p>\n",
       "<p>\n",
       "  If you're reading this message in the Jupyter Notebook or JupyterLab Notebook, it may mean\n",
       "  that the widgets JavaScript is still loading. If this message persists, it\n",
       "  likely means that the widgets JavaScript library is either not installed or\n",
       "  not enabled. See the <a href=\"https://ipywidgets.readthedocs.io/en/stable/user_install.html\">Jupyter\n",
       "  Widgets Documentation</a> for setup instructions.\n",
       "</p>\n",
       "<p>\n",
       "  If you're reading this message in another frontend (for example, a static\n",
       "  rendering on GitHub or <a href=\"https://nbviewer.jupyter.org/\">NBViewer</a>),\n",
       "  it may mean that your frontend doesn't currently support widgets.\n",
       "</p>\n"
      ],
      "text/plain": [
       "HBox(children=(IntProgress(value=0, max=10), HTML(value='')))"
      ]
     },
     "metadata": {},
     "output_type": "display_data"
    },
    {
     "name": "stdout",
     "output_type": "stream",
     "text": [
      "\n",
      "TRECDataset-ENTY\n",
      "Train precision 0.8806973324931737 0.8816215080865366 0.8825876916614157\n",
      "Valid precision 0.8319327731092436 0.8319327731092436 0.8319327731092436\n",
      "Test precision 0.8305369127516778 0.8330536912751679 0.8355704697986577\n",
      "TRECDataset-ENTY tfidf 300\n"
     ]
    },
    {
     "data": {
      "application/vnd.jupyter.widget-view+json": {
       "model_id": "4fe67eb00c744aab9ee2817c6b8ee52e",
       "version_major": 2,
       "version_minor": 0
      },
      "text/html": [
       "<p>Failed to display Jupyter Widget of type <code>HBox</code>.</p>\n",
       "<p>\n",
       "  If you're reading this message in the Jupyter Notebook or JupyterLab Notebook, it may mean\n",
       "  that the widgets JavaScript is still loading. If this message persists, it\n",
       "  likely means that the widgets JavaScript library is either not installed or\n",
       "  not enabled. See the <a href=\"https://ipywidgets.readthedocs.io/en/stable/user_install.html\">Jupyter\n",
       "  Widgets Documentation</a> for setup instructions.\n",
       "</p>\n",
       "<p>\n",
       "  If you're reading this message in another frontend (for example, a static\n",
       "  rendering on GitHub or <a href=\"https://nbviewer.jupyter.org/\">NBViewer</a>),\n",
       "  it may mean that your frontend doesn't currently support widgets.\n",
       "</p>\n"
      ],
      "text/plain": [
       "HBox(children=(IntProgress(value=0, max=10), HTML(value='')))"
      ]
     },
     "metadata": {},
     "output_type": "display_data"
    },
    {
     "name": "stdout",
     "output_type": "stream",
     "text": [
      "\n",
      "TRECDataset-ENTY\n",
      "Train precision 0.8855282503675699 0.8867254778407897 0.8876286494433943\n",
      "Valid precision 0.8285714285714285 0.8307563025210083 0.8319327731092436\n",
      "Test precision 0.8305369127516778 0.8318791946308725 0.8338926174496644\n",
      "TRECDataset-ENTY tfidf 400\n"
     ]
    },
    {
     "data": {
      "application/vnd.jupyter.widget-view+json": {
       "model_id": "1f1fcba8577249c1b8630a7b419e18b3",
       "version_major": 2,
       "version_minor": 0
      },
      "text/html": [
       "<p>Failed to display Jupyter Widget of type <code>HBox</code>.</p>\n",
       "<p>\n",
       "  If you're reading this message in the Jupyter Notebook or JupyterLab Notebook, it may mean\n",
       "  that the widgets JavaScript is still loading. If this message persists, it\n",
       "  likely means that the widgets JavaScript library is either not installed or\n",
       "  not enabled. See the <a href=\"https://ipywidgets.readthedocs.io/en/stable/user_install.html\">Jupyter\n",
       "  Widgets Documentation</a> for setup instructions.\n",
       "</p>\n",
       "<p>\n",
       "  If you're reading this message in another frontend (for example, a static\n",
       "  rendering on GitHub or <a href=\"https://nbviewer.jupyter.org/\">NBViewer</a>),\n",
       "  it may mean that your frontend doesn't currently support widgets.\n",
       "</p>\n"
      ],
      "text/plain": [
       "HBox(children=(IntProgress(value=0, max=10), HTML(value='')))"
      ]
     },
     "metadata": {},
     "output_type": "display_data"
    },
    {
     "name": "stdout",
     "output_type": "stream",
     "text": [
      "\n",
      "TRECDataset-ENTY\n",
      "Train precision 0.8893089687040537 0.8904851921865156 0.8916194076874606\n",
      "Valid precision 0.8319327731092436 0.8334453781512604 0.8352941176470589\n",
      "Test precision 0.8305369127516778 0.8323825503355705 0.8338926174496644\n",
      "TRECDataset-ENTY tfchi2 200\n"
     ]
    },
    {
     "data": {
      "application/vnd.jupyter.widget-view+json": {
       "model_id": "5bc72ced843f4c2b8f9cf0b0d7598161",
       "version_major": 2,
       "version_minor": 0
      },
      "text/html": [
       "<p>Failed to display Jupyter Widget of type <code>HBox</code>.</p>\n",
       "<p>\n",
       "  If you're reading this message in the Jupyter Notebook or JupyterLab Notebook, it may mean\n",
       "  that the widgets JavaScript is still loading. If this message persists, it\n",
       "  likely means that the widgets JavaScript library is either not installed or\n",
       "  not enabled. See the <a href=\"https://ipywidgets.readthedocs.io/en/stable/user_install.html\">Jupyter\n",
       "  Widgets Documentation</a> for setup instructions.\n",
       "</p>\n",
       "<p>\n",
       "  If you're reading this message in another frontend (for example, a static\n",
       "  rendering on GitHub or <a href=\"https://nbviewer.jupyter.org/\">NBViewer</a>),\n",
       "  it may mean that your frontend doesn't currently support widgets.\n",
       "</p>\n"
      ],
      "text/plain": [
       "HBox(children=(IntProgress(value=0, max=10), HTML(value='')))"
      ]
     },
     "metadata": {},
     "output_type": "display_data"
    },
    {
     "name": "stdout",
     "output_type": "stream",
     "text": [
      "\n",
      "TRECDataset-ENTY\n",
      "Train precision 0.8809073724007561 0.8818735559756353 0.8827977315689981\n",
      "Valid precision 0.8302521008403361 0.8321008403361343 0.8336134453781513\n",
      "Test precision 0.8305369127516778 0.832214765100671 0.8338926174496644\n",
      "TRECDataset-ENTY tfchi2 300\n"
     ]
    },
    {
     "data": {
      "application/vnd.jupyter.widget-view+json": {
       "model_id": "3687060f3fb34f98bf8cd060024b1ba6",
       "version_major": 2,
       "version_minor": 0
      },
      "text/html": [
       "<p>Failed to display Jupyter Widget of type <code>HBox</code>.</p>\n",
       "<p>\n",
       "  If you're reading this message in the Jupyter Notebook or JupyterLab Notebook, it may mean\n",
       "  that the widgets JavaScript is still loading. If this message persists, it\n",
       "  likely means that the widgets JavaScript library is either not installed or\n",
       "  not enabled. See the <a href=\"https://ipywidgets.readthedocs.io/en/stable/user_install.html\">Jupyter\n",
       "  Widgets Documentation</a> for setup instructions.\n",
       "</p>\n",
       "<p>\n",
       "  If you're reading this message in another frontend (for example, a static\n",
       "  rendering on GitHub or <a href=\"https://nbviewer.jupyter.org/\">NBViewer</a>),\n",
       "  it may mean that your frontend doesn't currently support widgets.\n",
       "</p>\n"
      ],
      "text/plain": [
       "HBox(children=(IntProgress(value=0, max=10), HTML(value='')))"
      ]
     },
     "metadata": {},
     "output_type": "display_data"
    }
   ],
   "source": [
    "for dataset in datasets.ALL_DATASETS+datasets.TREC_DATASETS:\n",
    "    for scheme in SimpleModel.SCHEMES:\n",
    "        for dims in [200, 300, 400]:\n",
    "            print(dataset.name(), scheme, dims)\n",
    "            model = SimpleModel(classify.SkClassifier(), use_svd=True, weights=sheme, svd_dim=dims)\n",
    "            test_simple_model(model, dataset, 10, 'logistic_lsa{}_{}'.format(dims,scheme), results, dump)"
   ]
  },
  {
   "cell_type": "code",
   "execution_count": null,
   "metadata": {
    "scrolled": true
   },
   "outputs": [],
   "source": [
    "for dataset in datasets.ALL_DATASETS+datasets.TREC_DATASETS:\n",
    "    for scheme in SimpleModel.SCHEMES:\n",
    "        model = SimpleModel(classify.CustomClassifier(), use_svd=False, weights=sheme)\n",
    "        test_simple_model(model, dataset, 10, 'mylogistic_'+scheme, results, dump)"
   ]
  },
  {
   "cell_type": "code",
   "execution_count": null,
   "metadata": {
    "scrolled": false
   },
   "outputs": [],
   "source": [
    "for dataset in datasets.ALL_DATASETS+datasets.TREC_DATASETS:\n",
    "    for scheme in SimpleModel.SCHEMES:\n",
    "        for dims in [200, 300, 400]:\n",
    "            print(dataset.name(), scheme, dims)\n",
    "            model = SimpleModel(classify.CustomClassifier(), use_svd=True, weights=sheme, svd_dim=dims)\n",
    "            test_simple_model(model, dataset, 10, 'mylogistic_lsa_'+scheme, results, dump)"
   ]
  },
  {
   "cell_type": "code",
   "execution_count": null,
   "metadata": {},
   "outputs": [],
   "source": [
    "dump_file = 'dumps/results_baselinessimple_model2.pickle'\n",
    "\n",
    "if True:\n",
    "    pickle.dump(results, open(dump_file,'bw'))\n",
    "\n",
    "loaded_results = pickle.load(open(dump_file,'br'))\n"
   ]
  },
  {
   "cell_type": "code",
   "execution_count": null,
   "metadata": {},
   "outputs": [],
   "source": []
  },
  {
   "cell_type": "code",
   "execution_count": 14,
   "metadata": {},
   "outputs": [
    {
     "data": {
      "text/html": [
       "<style  type=\"text/css\" >\n",
       "    #T_d69e0dc8_4652_11e8_8462_e4a471caa8c3row0_col0 {\n",
       "            background-color:  #e5ffe5;\n",
       "        }    #T_d69e0dc8_4652_11e8_8462_e4a471caa8c3row0_col1 {\n",
       "            background-color:  #e5ffe5;\n",
       "        }    #T_d69e0dc8_4652_11e8_8462_e4a471caa8c3row0_col2 {\n",
       "            background-color:  #e5ffe5;\n",
       "        }    #T_d69e0dc8_4652_11e8_8462_e4a471caa8c3row0_col3 {\n",
       "            background-color:  #e5ffe5;\n",
       "        }    #T_d69e0dc8_4652_11e8_8462_e4a471caa8c3row1_col0 {\n",
       "            background-color:  #e5ffe5;\n",
       "        }    #T_d69e0dc8_4652_11e8_8462_e4a471caa8c3row1_col1 {\n",
       "            background-color:  #e5ffe5;\n",
       "        }    #T_d69e0dc8_4652_11e8_8462_e4a471caa8c3row1_col2 {\n",
       "            background-color:  #e5ffe5;\n",
       "        }    #T_d69e0dc8_4652_11e8_8462_e4a471caa8c3row1_col3 {\n",
       "            background-color:  #e5ffe5;\n",
       "        }    #T_d69e0dc8_4652_11e8_8462_e4a471caa8c3row2_col0 {\n",
       "            background-color:  #e5ffe5;\n",
       "        }    #T_d69e0dc8_4652_11e8_8462_e4a471caa8c3row2_col1 {\n",
       "            background-color:  #e5ffe5;\n",
       "        }    #T_d69e0dc8_4652_11e8_8462_e4a471caa8c3row2_col2 {\n",
       "            background-color:  #e5ffe5;\n",
       "        }    #T_d69e0dc8_4652_11e8_8462_e4a471caa8c3row2_col3 {\n",
       "            background-color:  #e5ffe5;\n",
       "        }    #T_d69e0dc8_4652_11e8_8462_e4a471caa8c3row3_col0 {\n",
       "            background-color:  #e5ffe5;\n",
       "        }    #T_d69e0dc8_4652_11e8_8462_e4a471caa8c3row3_col1 {\n",
       "            background-color:  #e5ffe5;\n",
       "        }    #T_d69e0dc8_4652_11e8_8462_e4a471caa8c3row3_col2 {\n",
       "            background-color:  #e5ffe5;\n",
       "        }    #T_d69e0dc8_4652_11e8_8462_e4a471caa8c3row3_col3 {\n",
       "            background-color:  #e5ffe5;\n",
       "        }    #T_d69e0dc8_4652_11e8_8462_e4a471caa8c3row4_col0 {\n",
       "            background-color:  #e5ffe5;\n",
       "        }    #T_d69e0dc8_4652_11e8_8462_e4a471caa8c3row4_col1 {\n",
       "            background-color:  #e5ffe5;\n",
       "        }    #T_d69e0dc8_4652_11e8_8462_e4a471caa8c3row4_col2 {\n",
       "            background-color:  #e5ffe5;\n",
       "        }    #T_d69e0dc8_4652_11e8_8462_e4a471caa8c3row4_col3 {\n",
       "            background-color:  #e5ffe5;\n",
       "        }    #T_d69e0dc8_4652_11e8_8462_e4a471caa8c3row5_col0 {\n",
       "            background-color:  #e5ffe5;\n",
       "        }    #T_d69e0dc8_4652_11e8_8462_e4a471caa8c3row5_col1 {\n",
       "            background-color:  #e5ffe5;\n",
       "        }    #T_d69e0dc8_4652_11e8_8462_e4a471caa8c3row5_col2 {\n",
       "            background-color:  #e5ffe5;\n",
       "        }    #T_d69e0dc8_4652_11e8_8462_e4a471caa8c3row5_col3 {\n",
       "            background-color:  #e5ffe5;\n",
       "        }    #T_d69e0dc8_4652_11e8_8462_e4a471caa8c3row6_col0 {\n",
       "            background-color:  #e5ffe5;\n",
       "        }    #T_d69e0dc8_4652_11e8_8462_e4a471caa8c3row6_col1 {\n",
       "            background-color:  #e5ffe5;\n",
       "        }    #T_d69e0dc8_4652_11e8_8462_e4a471caa8c3row6_col2 {\n",
       "            background-color:  #e5ffe5;\n",
       "        }    #T_d69e0dc8_4652_11e8_8462_e4a471caa8c3row6_col3 {\n",
       "            background-color:  #e5ffe5;\n",
       "        }    #T_d69e0dc8_4652_11e8_8462_e4a471caa8c3row7_col0 {\n",
       "            background-color:  #048204;\n",
       "        }    #T_d69e0dc8_4652_11e8_8462_e4a471caa8c3row7_col1 {\n",
       "            background-color:  #168c16;\n",
       "        }    #T_d69e0dc8_4652_11e8_8462_e4a471caa8c3row7_col2 {\n",
       "            background-color:  #0c860c;\n",
       "        }    #T_d69e0dc8_4652_11e8_8462_e4a471caa8c3row7_col3 {\n",
       "            background-color:  #018001;\n",
       "        }    #T_d69e0dc8_4652_11e8_8462_e4a471caa8c3row8_col0 {\n",
       "            background-color:  #178c17;\n",
       "        }    #T_d69e0dc8_4652_11e8_8462_e4a471caa8c3row8_col1 {\n",
       "            background-color:  #45a645;\n",
       "        }    #T_d69e0dc8_4652_11e8_8462_e4a471caa8c3row8_col2 {\n",
       "            background-color:  #52ad52;\n",
       "        }    #T_d69e0dc8_4652_11e8_8462_e4a471caa8c3row8_col3 {\n",
       "            background-color:  #299729;\n",
       "        }    #T_d69e0dc8_4652_11e8_8462_e4a471caa8c3row9_col0 {\n",
       "            background-color:  #1f911f;\n",
       "        }    #T_d69e0dc8_4652_11e8_8462_e4a471caa8c3row9_col1 {\n",
       "            background-color:  #45a645;\n",
       "        }    #T_d69e0dc8_4652_11e8_8462_e4a471caa8c3row9_col2 {\n",
       "            background-color:  #4fac4f;\n",
       "        }    #T_d69e0dc8_4652_11e8_8462_e4a471caa8c3row9_col3 {\n",
       "            background-color:  #289628;\n",
       "        }    #T_d69e0dc8_4652_11e8_8462_e4a471caa8c3row10_col0 {\n",
       "            background-color:  #229322;\n",
       "        }    #T_d69e0dc8_4652_11e8_8462_e4a471caa8c3row10_col1 {\n",
       "            background-color:  #008000;\n",
       "        }    #T_d69e0dc8_4652_11e8_8462_e4a471caa8c3row10_col2 {\n",
       "            background-color:  #1d901d;\n",
       "        }    #T_d69e0dc8_4652_11e8_8462_e4a471caa8c3row10_col3 {\n",
       "            background-color:  #008000;\n",
       "        }    #T_d69e0dc8_4652_11e8_8462_e4a471caa8c3row11_col0 {\n",
       "            background-color:  #1f911f;\n",
       "        }    #T_d69e0dc8_4652_11e8_8462_e4a471caa8c3row11_col1 {\n",
       "            background-color:  #45a645;\n",
       "        }    #T_d69e0dc8_4652_11e8_8462_e4a471caa8c3row11_col2 {\n",
       "            background-color:  #4fac4f;\n",
       "        }    #T_d69e0dc8_4652_11e8_8462_e4a471caa8c3row11_col3 {\n",
       "            background-color:  #289628;\n",
       "        }    #T_d69e0dc8_4652_11e8_8462_e4a471caa8c3row12_col0 {\n",
       "            background-color:  #008000;\n",
       "        }    #T_d69e0dc8_4652_11e8_8462_e4a471caa8c3row12_col1 {\n",
       "            background-color:  #1b8f1b;\n",
       "        }    #T_d69e0dc8_4652_11e8_8462_e4a471caa8c3row12_col2 {\n",
       "            background-color:  #008000;\n",
       "        }    #T_d69e0dc8_4652_11e8_8462_e4a471caa8c3row12_col3 {\n",
       "            background-color:  #058305;\n",
       "        }    #T_d69e0dc8_4652_11e8_8462_e4a471caa8c3row13_col0 {\n",
       "            background-color:  #399f39;\n",
       "        }    #T_d69e0dc8_4652_11e8_8462_e4a471caa8c3row13_col1 {\n",
       "            background-color:  #289628;\n",
       "        }    #T_d69e0dc8_4652_11e8_8462_e4a471caa8c3row13_col2 {\n",
       "            background-color:  #2b982b;\n",
       "        }    #T_d69e0dc8_4652_11e8_8462_e4a471caa8c3row13_col3 {\n",
       "            background-color:  #168c16;\n",
       "        }    #T_d69e0dc8_4652_11e8_8462_e4a471caa8c3row14_col0 {\n",
       "            background-color:  #42a442;\n",
       "        }    #T_d69e0dc8_4652_11e8_8462_e4a471caa8c3row14_col1 {\n",
       "            background-color:  #98d498;\n",
       "        }    #T_d69e0dc8_4652_11e8_8462_e4a471caa8c3row14_col2 {\n",
       "            background-color:  #5fb55f;\n",
       "        }    #T_d69e0dc8_4652_11e8_8462_e4a471caa8c3row14_col3 {\n",
       "            background-color:  #1a8e1a;\n",
       "        }    #T_d69e0dc8_4652_11e8_8462_e4a471caa8c3row15_col0 {\n",
       "            background-color:  #178c17;\n",
       "        }    #T_d69e0dc8_4652_11e8_8462_e4a471caa8c3row15_col1 {\n",
       "            background-color:  #7ac47a;\n",
       "        }    #T_d69e0dc8_4652_11e8_8462_e4a471caa8c3row15_col2 {\n",
       "            background-color:  #62b662;\n",
       "        }    #T_d69e0dc8_4652_11e8_8462_e4a471caa8c3row15_col3 {\n",
       "            background-color:  #2b982b;\n",
       "        }    #T_d69e0dc8_4652_11e8_8462_e4a471caa8c3row16_col0 {\n",
       "            background-color:  #1f911f;\n",
       "        }    #T_d69e0dc8_4652_11e8_8462_e4a471caa8c3row16_col1 {\n",
       "            background-color:  #78c278;\n",
       "        }    #T_d69e0dc8_4652_11e8_8462_e4a471caa8c3row16_col2 {\n",
       "            background-color:  #5eb45e;\n",
       "        }    #T_d69e0dc8_4652_11e8_8462_e4a471caa8c3row16_col3 {\n",
       "            background-color:  #2b982b;\n",
       "        }    #T_d69e0dc8_4652_11e8_8462_e4a471caa8c3row17_col0 {\n",
       "            background-color:  #2b982b;\n",
       "        }    #T_d69e0dc8_4652_11e8_8462_e4a471caa8c3row17_col1 {\n",
       "            background-color:  #92d192;\n",
       "        }    #T_d69e0dc8_4652_11e8_8462_e4a471caa8c3row17_col2 {\n",
       "            background-color:  #52ad52;\n",
       "        }    #T_d69e0dc8_4652_11e8_8462_e4a471caa8c3row17_col3 {\n",
       "            background-color:  #128a12;\n",
       "        }    #T_d69e0dc8_4652_11e8_8462_e4a471caa8c3row18_col0 {\n",
       "            background-color:  #1f911f;\n",
       "        }    #T_d69e0dc8_4652_11e8_8462_e4a471caa8c3row18_col1 {\n",
       "            background-color:  #7bc47b;\n",
       "        }    #T_d69e0dc8_4652_11e8_8462_e4a471caa8c3row18_col2 {\n",
       "            background-color:  #5fb55f;\n",
       "        }    #T_d69e0dc8_4652_11e8_8462_e4a471caa8c3row18_col3 {\n",
       "            background-color:  #2b982b;\n",
       "        }    #T_d69e0dc8_4652_11e8_8462_e4a471caa8c3row19_col0 {\n",
       "            background-color:  #209220;\n",
       "        }    #T_d69e0dc8_4652_11e8_8462_e4a471caa8c3row19_col1 {\n",
       "            background-color:  #70be70;\n",
       "        }    #T_d69e0dc8_4652_11e8_8462_e4a471caa8c3row19_col2 {\n",
       "            background-color:  #269526;\n",
       "        }    #T_d69e0dc8_4652_11e8_8462_e4a471caa8c3row19_col3 {\n",
       "            background-color:  #128a12;\n",
       "        }    #T_d69e0dc8_4652_11e8_8462_e4a471caa8c3row20_col0 {\n",
       "            background-color:  #63b763;\n",
       "        }    #T_d69e0dc8_4652_11e8_8462_e4a471caa8c3row20_col1 {\n",
       "            background-color:  #7ec67e;\n",
       "        }    #T_d69e0dc8_4652_11e8_8462_e4a471caa8c3row20_col2 {\n",
       "            background-color:  #4dab4d;\n",
       "        }    #T_d69e0dc8_4652_11e8_8462_e4a471caa8c3row20_col3 {\n",
       "            background-color:  #1e901e;\n",
       "        }    #T_d69e0dc8_4652_11e8_8462_e4a471caa8c3row21_col0 {\n",
       "            background-color:  #e5ffe5;\n",
       "        }    #T_d69e0dc8_4652_11e8_8462_e4a471caa8c3row21_col1 {\n",
       "            background-color:  #e5ffe5;\n",
       "        }    #T_d69e0dc8_4652_11e8_8462_e4a471caa8c3row21_col2 {\n",
       "            background-color:  #379e37;\n",
       "        }    #T_d69e0dc8_4652_11e8_8462_e4a471caa8c3row21_col3 {\n",
       "            background-color:  #1d901d;\n",
       "        }    #T_d69e0dc8_4652_11e8_8462_e4a471caa8c3row22_col0 {\n",
       "            background-color:  #e5ffe5;\n",
       "        }    #T_d69e0dc8_4652_11e8_8462_e4a471caa8c3row22_col1 {\n",
       "            background-color:  #e5ffe5;\n",
       "        }    #T_d69e0dc8_4652_11e8_8462_e4a471caa8c3row22_col2 {\n",
       "            background-color:  #b8e6b8;\n",
       "        }    #T_d69e0dc8_4652_11e8_8462_e4a471caa8c3row22_col3 {\n",
       "            background-color:  #239323;\n",
       "        }    #T_d69e0dc8_4652_11e8_8462_e4a471caa8c3row23_col0 {\n",
       "            background-color:  #e5ffe5;\n",
       "        }    #T_d69e0dc8_4652_11e8_8462_e4a471caa8c3row23_col1 {\n",
       "            background-color:  #e5ffe5;\n",
       "        }    #T_d69e0dc8_4652_11e8_8462_e4a471caa8c3row23_col2 {\n",
       "            background-color:  #93d193;\n",
       "        }    #T_d69e0dc8_4652_11e8_8462_e4a471caa8c3row23_col3 {\n",
       "            background-color:  #319b31;\n",
       "        }    #T_d69e0dc8_4652_11e8_8462_e4a471caa8c3row24_col0 {\n",
       "            background-color:  #e5ffe5;\n",
       "        }    #T_d69e0dc8_4652_11e8_8462_e4a471caa8c3row24_col1 {\n",
       "            background-color:  #e5ffe5;\n",
       "        }    #T_d69e0dc8_4652_11e8_8462_e4a471caa8c3row24_col2 {\n",
       "            background-color:  #9ad59a;\n",
       "        }    #T_d69e0dc8_4652_11e8_8462_e4a471caa8c3row24_col3 {\n",
       "            background-color:  #319b31;\n",
       "        }    #T_d69e0dc8_4652_11e8_8462_e4a471caa8c3row25_col0 {\n",
       "            background-color:  #e1fde1;\n",
       "        }    #T_d69e0dc8_4652_11e8_8462_e4a471caa8c3row25_col1 {\n",
       "            background-color:  #dcfadc;\n",
       "        }    #T_d69e0dc8_4652_11e8_8462_e4a471caa8c3row25_col2 {\n",
       "            background-color:  #b8e6b8;\n",
       "        }    #T_d69e0dc8_4652_11e8_8462_e4a471caa8c3row25_col3 {\n",
       "            background-color:  #5cb35c;\n",
       "        }    #T_d69e0dc8_4652_11e8_8462_e4a471caa8c3row26_col0 {\n",
       "            background-color:  #e5ffe5;\n",
       "        }    #T_d69e0dc8_4652_11e8_8462_e4a471caa8c3row26_col1 {\n",
       "            background-color:  #e5ffe5;\n",
       "        }    #T_d69e0dc8_4652_11e8_8462_e4a471caa8c3row26_col2 {\n",
       "            background-color:  #a4dba4;\n",
       "        }    #T_d69e0dc8_4652_11e8_8462_e4a471caa8c3row26_col3 {\n",
       "            background-color:  #319b31;\n",
       "        }    #T_d69e0dc8_4652_11e8_8462_e4a471caa8c3row27_col0 {\n",
       "            background-color:  #e5ffe5;\n",
       "        }    #T_d69e0dc8_4652_11e8_8462_e4a471caa8c3row27_col1 {\n",
       "            background-color:  #e5ffe5;\n",
       "        }    #T_d69e0dc8_4652_11e8_8462_e4a471caa8c3row27_col2 {\n",
       "            background-color:  #e5ffe5;\n",
       "        }    #T_d69e0dc8_4652_11e8_8462_e4a471caa8c3row27_col3 {\n",
       "            background-color:  #178d17;\n",
       "        }    #T_d69e0dc8_4652_11e8_8462_e4a471caa8c3row28_col0 {\n",
       "            background-color:  #e5ffe5;\n",
       "        }    #T_d69e0dc8_4652_11e8_8462_e4a471caa8c3row28_col1 {\n",
       "            background-color:  #e5ffe5;\n",
       "        }    #T_d69e0dc8_4652_11e8_8462_e4a471caa8c3row28_col2 {\n",
       "            background-color:  #e5ffe5;\n",
       "        }    #T_d69e0dc8_4652_11e8_8462_e4a471caa8c3row28_col3 {\n",
       "            background-color:  #bfeabf;\n",
       "        }    #T_d69e0dc8_4652_11e8_8462_e4a471caa8c3row29_col0 {\n",
       "            background-color:  #e5ffe5;\n",
       "        }    #T_d69e0dc8_4652_11e8_8462_e4a471caa8c3row29_col1 {\n",
       "            background-color:  #e5ffe5;\n",
       "        }    #T_d69e0dc8_4652_11e8_8462_e4a471caa8c3row29_col2 {\n",
       "            background-color:  #84c984;\n",
       "        }    #T_d69e0dc8_4652_11e8_8462_e4a471caa8c3row29_col3 {\n",
       "            background-color:  #2c982c;\n",
       "        }    #T_d69e0dc8_4652_11e8_8462_e4a471caa8c3row30_col0 {\n",
       "            background-color:  #e5ffe5;\n",
       "        }    #T_d69e0dc8_4652_11e8_8462_e4a471caa8c3row30_col1 {\n",
       "            background-color:  #e5ffe5;\n",
       "        }    #T_d69e0dc8_4652_11e8_8462_e4a471caa8c3row30_col2 {\n",
       "            background-color:  #85ca85;\n",
       "        }    #T_d69e0dc8_4652_11e8_8462_e4a471caa8c3row30_col3 {\n",
       "            background-color:  #289628;\n",
       "        }    #T_d69e0dc8_4652_11e8_8462_e4a471caa8c3row31_col0 {\n",
       "            background-color:  #e5ffe5;\n",
       "        }    #T_d69e0dc8_4652_11e8_8462_e4a471caa8c3row31_col1 {\n",
       "            background-color:  #dcfadc;\n",
       "        }    #T_d69e0dc8_4652_11e8_8462_e4a471caa8c3row31_col2 {\n",
       "            background-color:  #7dc57d;\n",
       "        }    #T_d69e0dc8_4652_11e8_8462_e4a471caa8c3row31_col3 {\n",
       "            background-color:  #50ac50;\n",
       "        }    #T_d69e0dc8_4652_11e8_8462_e4a471caa8c3row32_col0 {\n",
       "            background-color:  #e5ffe5;\n",
       "        }    #T_d69e0dc8_4652_11e8_8462_e4a471caa8c3row32_col1 {\n",
       "            background-color:  #e5ffe5;\n",
       "        }    #T_d69e0dc8_4652_11e8_8462_e4a471caa8c3row32_col2 {\n",
       "            background-color:  #a6dca6;\n",
       "        }    #T_d69e0dc8_4652_11e8_8462_e4a471caa8c3row32_col3 {\n",
       "            background-color:  #2d992d;\n",
       "        }    #T_d69e0dc8_4652_11e8_8462_e4a471caa8c3row33_col0 {\n",
       "            background-color:  #e5ffe5;\n",
       "        }    #T_d69e0dc8_4652_11e8_8462_e4a471caa8c3row33_col1 {\n",
       "            background-color:  #e5ffe5;\n",
       "        }    #T_d69e0dc8_4652_11e8_8462_e4a471caa8c3row33_col2 {\n",
       "            background-color:  #e5ffe5;\n",
       "        }    #T_d69e0dc8_4652_11e8_8462_e4a471caa8c3row33_col3 {\n",
       "            background-color:  #5db35d;\n",
       "        }    #T_d69e0dc8_4652_11e8_8462_e4a471caa8c3row34_col0 {\n",
       "            background-color:  #e5ffe5;\n",
       "        }    #T_d69e0dc8_4652_11e8_8462_e4a471caa8c3row34_col1 {\n",
       "            background-color:  #e5ffe5;\n",
       "        }    #T_d69e0dc8_4652_11e8_8462_e4a471caa8c3row34_col2 {\n",
       "            background-color:  #e5ffe5;\n",
       "        }    #T_d69e0dc8_4652_11e8_8462_e4a471caa8c3row34_col3 {\n",
       "            background-color:  #c1ebc1;\n",
       "        }</style>  \n",
       "<table id=\"T_d69e0dc8_4652_11e8_8462_e4a471caa8c3\" > \n",
       "<thead>    <tr> \n",
       "        <th class=\"blank\" ></th> \n",
       "        <th class=\"blank\" ></th> \n",
       "        <th class=\"blank level0\" ></th> \n",
       "        <th class=\"col_heading level0 col0\" >CRDataset</th> \n",
       "        <th class=\"col_heading level0 col1\" >MPQADataset</th> \n",
       "        <th class=\"col_heading level0 col2\" >MRDataset</th> \n",
       "        <th class=\"col_heading level0 col3\" >SUBJDataset</th> \n",
       "    </tr></thead> \n",
       "<tbody>    <tr> \n",
       "        <th id=\"T_d69e0dc8_4652_11e8_8462_e4a471caa8c3level0_row0\" class=\"row_heading level0 row0\" rowspan=35>simple</th> \n",
       "        <th id=\"T_d69e0dc8_4652_11e8_8462_e4a471caa8c3level1_row0\" class=\"row_heading level1 row0\" >constant__None</th> \n",
       "        <th id=\"T_d69e0dc8_4652_11e8_8462_e4a471caa8c3level2_row0\" class=\"row_heading level2 row0\" >test</th> \n",
       "        <td id=\"T_d69e0dc8_4652_11e8_8462_e4a471caa8c3row0_col0\" class=\"data row0 col0\" >0.637566</td> \n",
       "        <td id=\"T_d69e0dc8_4652_11e8_8462_e4a471caa8c3row0_col1\" class=\"data row0 col1\" >0.68803</td> \n",
       "        <td id=\"T_d69e0dc8_4652_11e8_8462_e4a471caa8c3row0_col2\" class=\"data row0 col2\" >0.499531</td> \n",
       "        <td id=\"T_d69e0dc8_4652_11e8_8462_e4a471caa8c3row0_col3\" class=\"data row0 col3\" >0.5</td> \n",
       "    </tr>    <tr> \n",
       "        <th id=\"T_d69e0dc8_4652_11e8_8462_e4a471caa8c3level1_row1\" class=\"row_heading level1 row1\" >constant__tfchi2</th> \n",
       "        <th id=\"T_d69e0dc8_4652_11e8_8462_e4a471caa8c3level2_row1\" class=\"row_heading level2 row1\" >test</th> \n",
       "        <td id=\"T_d69e0dc8_4652_11e8_8462_e4a471caa8c3row1_col0\" class=\"data row1 col0\" >0.637566</td> \n",
       "        <td id=\"T_d69e0dc8_4652_11e8_8462_e4a471caa8c3row1_col1\" class=\"data row1 col1\" >0.68803</td> \n",
       "        <td id=\"T_d69e0dc8_4652_11e8_8462_e4a471caa8c3row1_col2\" class=\"data row1 col2\" >0.499531</td> \n",
       "        <td id=\"T_d69e0dc8_4652_11e8_8462_e4a471caa8c3row1_col3\" class=\"data row1 col3\" >0.5</td> \n",
       "    </tr>    <tr> \n",
       "        <th id=\"T_d69e0dc8_4652_11e8_8462_e4a471caa8c3level1_row2\" class=\"row_heading level1 row2\" >constant__tfgr</th> \n",
       "        <th id=\"T_d69e0dc8_4652_11e8_8462_e4a471caa8c3level2_row2\" class=\"row_heading level2 row2\" >test</th> \n",
       "        <td id=\"T_d69e0dc8_4652_11e8_8462_e4a471caa8c3row2_col0\" class=\"data row2 col0\" >0.637566</td> \n",
       "        <td id=\"T_d69e0dc8_4652_11e8_8462_e4a471caa8c3row2_col1\" class=\"data row2 col1\" >0.68803</td> \n",
       "        <td id=\"T_d69e0dc8_4652_11e8_8462_e4a471caa8c3row2_col2\" class=\"data row2 col2\" >0.499531</td> \n",
       "        <td id=\"T_d69e0dc8_4652_11e8_8462_e4a471caa8c3row2_col3\" class=\"data row2 col3\" >0.5</td> \n",
       "    </tr>    <tr> \n",
       "        <th id=\"T_d69e0dc8_4652_11e8_8462_e4a471caa8c3level1_row3\" class=\"row_heading level1 row3\" >constant__tfidf</th> \n",
       "        <th id=\"T_d69e0dc8_4652_11e8_8462_e4a471caa8c3level2_row3\" class=\"row_heading level2 row3\" >test</th> \n",
       "        <td id=\"T_d69e0dc8_4652_11e8_8462_e4a471caa8c3row3_col0\" class=\"data row3 col0\" >0.637566</td> \n",
       "        <td id=\"T_d69e0dc8_4652_11e8_8462_e4a471caa8c3row3_col1\" class=\"data row3 col1\" >0.68803</td> \n",
       "        <td id=\"T_d69e0dc8_4652_11e8_8462_e4a471caa8c3row3_col2\" class=\"data row3 col2\" >0.499531</td> \n",
       "        <td id=\"T_d69e0dc8_4652_11e8_8462_e4a471caa8c3row3_col3\" class=\"data row3 col3\" >0.5</td> \n",
       "    </tr>    <tr> \n",
       "        <th id=\"T_d69e0dc8_4652_11e8_8462_e4a471caa8c3level1_row4\" class=\"row_heading level1 row4\" >constant__tfig</th> \n",
       "        <th id=\"T_d69e0dc8_4652_11e8_8462_e4a471caa8c3level2_row4\" class=\"row_heading level2 row4\" >test</th> \n",
       "        <td id=\"T_d69e0dc8_4652_11e8_8462_e4a471caa8c3row4_col0\" class=\"data row4 col0\" >0.637566</td> \n",
       "        <td id=\"T_d69e0dc8_4652_11e8_8462_e4a471caa8c3row4_col1\" class=\"data row4 col1\" >0.68803</td> \n",
       "        <td id=\"T_d69e0dc8_4652_11e8_8462_e4a471caa8c3row4_col2\" class=\"data row4 col2\" >0.499531</td> \n",
       "        <td id=\"T_d69e0dc8_4652_11e8_8462_e4a471caa8c3row4_col3\" class=\"data row4 col3\" >0.5</td> \n",
       "    </tr>    <tr> \n",
       "        <th id=\"T_d69e0dc8_4652_11e8_8462_e4a471caa8c3level1_row5\" class=\"row_heading level1 row5\" >constant__tfor</th> \n",
       "        <th id=\"T_d69e0dc8_4652_11e8_8462_e4a471caa8c3level2_row5\" class=\"row_heading level2 row5\" >test</th> \n",
       "        <td id=\"T_d69e0dc8_4652_11e8_8462_e4a471caa8c3row5_col0\" class=\"data row5 col0\" >0.637566</td> \n",
       "        <td id=\"T_d69e0dc8_4652_11e8_8462_e4a471caa8c3row5_col1\" class=\"data row5 col1\" >0.68803</td> \n",
       "        <td id=\"T_d69e0dc8_4652_11e8_8462_e4a471caa8c3row5_col2\" class=\"data row5 col2\" >0.499531</td> \n",
       "        <td id=\"T_d69e0dc8_4652_11e8_8462_e4a471caa8c3row5_col3\" class=\"data row5 col3\" >0.5</td> \n",
       "    </tr>    <tr> \n",
       "        <th id=\"T_d69e0dc8_4652_11e8_8462_e4a471caa8c3level1_row6\" class=\"row_heading level1 row6\" >constant__tfrf</th> \n",
       "        <th id=\"T_d69e0dc8_4652_11e8_8462_e4a471caa8c3level2_row6\" class=\"row_heading level2 row6\" >test</th> \n",
       "        <td id=\"T_d69e0dc8_4652_11e8_8462_e4a471caa8c3row6_col0\" class=\"data row6 col0\" >0.637566</td> \n",
       "        <td id=\"T_d69e0dc8_4652_11e8_8462_e4a471caa8c3row6_col1\" class=\"data row6 col1\" >0.68803</td> \n",
       "        <td id=\"T_d69e0dc8_4652_11e8_8462_e4a471caa8c3row6_col2\" class=\"data row6 col2\" >0.499531</td> \n",
       "        <td id=\"T_d69e0dc8_4652_11e8_8462_e4a471caa8c3row6_col3\" class=\"data row6 col3\" >0.5</td> \n",
       "    </tr>    <tr> \n",
       "        <th id=\"T_d69e0dc8_4652_11e8_8462_e4a471caa8c3level1_row7\" class=\"row_heading level1 row7\" >logistic__None</th> \n",
       "        <th id=\"T_d69e0dc8_4652_11e8_8462_e4a471caa8c3level2_row7\" class=\"row_heading level2 row7\" >test</th> \n",
       "        <td id=\"T_d69e0dc8_4652_11e8_8462_e4a471caa8c3row7_col0\" class=\"data row7 col0\" >0.793651</td> \n",
       "        <td id=\"T_d69e0dc8_4652_11e8_8462_e4a471caa8c3row7_col1\" class=\"data row7 col1\" >0.832234</td> \n",
       "        <td id=\"T_d69e0dc8_4652_11e8_8462_e4a471caa8c3row7_col2\" class=\"data row7 col2\" >0.776945</td> \n",
       "        <td id=\"T_d69e0dc8_4652_11e8_8462_e4a471caa8c3row7_col3\" class=\"data row7 col3\" >0.919</td> \n",
       "    </tr>    <tr> \n",
       "        <th id=\"T_d69e0dc8_4652_11e8_8462_e4a471caa8c3level1_row8\" class=\"row_heading level1 row8\" >logistic__tfchi2</th> \n",
       "        <th id=\"T_d69e0dc8_4652_11e8_8462_e4a471caa8c3level2_row8\" class=\"row_heading level2 row8\" >test</th> \n",
       "        <td id=\"T_d69e0dc8_4652_11e8_8462_e4a471caa8c3row8_col0\" class=\"data row8 col0\" >0.780423</td> \n",
       "        <td id=\"T_d69e0dc8_4652_11e8_8462_e4a471caa8c3row8_col1\" class=\"data row8 col1\" >0.799246</td> \n",
       "        <td id=\"T_d69e0dc8_4652_11e8_8462_e4a471caa8c3row8_col2\" class=\"data row8 col2\" >0.68791</td> \n",
       "        <td id=\"T_d69e0dc8_4652_11e8_8462_e4a471caa8c3row8_col3\" class=\"data row8 col3\" >0.845</td> \n",
       "    </tr>    <tr> \n",
       "        <th id=\"T_d69e0dc8_4652_11e8_8462_e4a471caa8c3level1_row9\" class=\"row_heading level1 row9\" >logistic__tfgr</th> \n",
       "        <th id=\"T_d69e0dc8_4652_11e8_8462_e4a471caa8c3level2_row9\" class=\"row_heading level2 row9\" >test</th> \n",
       "        <td id=\"T_d69e0dc8_4652_11e8_8462_e4a471caa8c3row9_col0\" class=\"data row9 col0\" >0.775132</td> \n",
       "        <td id=\"T_d69e0dc8_4652_11e8_8462_e4a471caa8c3row9_col1\" class=\"data row9 col1\" >0.799246</td> \n",
       "        <td id=\"T_d69e0dc8_4652_11e8_8462_e4a471caa8c3row9_col2\" class=\"data row9 col2\" >0.690722</td> \n",
       "        <td id=\"T_d69e0dc8_4652_11e8_8462_e4a471caa8c3row9_col3\" class=\"data row9 col3\" >0.846</td> \n",
       "    </tr>    <tr> \n",
       "        <th id=\"T_d69e0dc8_4652_11e8_8462_e4a471caa8c3level1_row10\" class=\"row_heading level1 row10\" >logistic__tfidf</th> \n",
       "        <th id=\"T_d69e0dc8_4652_11e8_8462_e4a471caa8c3level2_row10\" class=\"row_heading level2 row10\" >test</th> \n",
       "        <td id=\"T_d69e0dc8_4652_11e8_8462_e4a471caa8c3row10_col0\" class=\"data row10 col0\" >0.772487</td> \n",
       "        <td id=\"T_d69e0dc8_4652_11e8_8462_e4a471caa8c3row10_col1\" class=\"data row10 col1\" >0.847314</td> \n",
       "        <td id=\"T_d69e0dc8_4652_11e8_8462_e4a471caa8c3row10_col2\" class=\"data row10 col2\" >0.754452</td> \n",
       "        <td id=\"T_d69e0dc8_4652_11e8_8462_e4a471caa8c3row10_col3\" class=\"data row10 col3\" >0.921</td> \n",
       "    </tr>    <tr> \n",
       "        <th id=\"T_d69e0dc8_4652_11e8_8462_e4a471caa8c3level1_row11\" class=\"row_heading level1 row11\" >logistic__tfig</th> \n",
       "        <th id=\"T_d69e0dc8_4652_11e8_8462_e4a471caa8c3level2_row11\" class=\"row_heading level2 row11\" >test</th> \n",
       "        <td id=\"T_d69e0dc8_4652_11e8_8462_e4a471caa8c3row11_col0\" class=\"data row11 col0\" >0.775132</td> \n",
       "        <td id=\"T_d69e0dc8_4652_11e8_8462_e4a471caa8c3row11_col1\" class=\"data row11 col1\" >0.799246</td> \n",
       "        <td id=\"T_d69e0dc8_4652_11e8_8462_e4a471caa8c3row11_col2\" class=\"data row11 col2\" >0.690722</td> \n",
       "        <td id=\"T_d69e0dc8_4652_11e8_8462_e4a471caa8c3row11_col3\" class=\"data row11 col3\" >0.846</td> \n",
       "    </tr>    <tr> \n",
       "        <th id=\"T_d69e0dc8_4652_11e8_8462_e4a471caa8c3level1_row12\" class=\"row_heading level1 row12\" >logistic__tfor</th> \n",
       "        <th id=\"T_d69e0dc8_4652_11e8_8462_e4a471caa8c3level2_row12\" class=\"row_heading level2 row12\" >test</th> \n",
       "        <td id=\"T_d69e0dc8_4652_11e8_8462_e4a471caa8c3row12_col0\" class=\"data row12 col0\" >0.796296</td> \n",
       "        <td id=\"T_d69e0dc8_4652_11e8_8462_e4a471caa8c3row12_col1\" class=\"data row12 col1\" >0.828464</td> \n",
       "        <td id=\"T_d69e0dc8_4652_11e8_8462_e4a471caa8c3row12_col2\" class=\"data row12 col2\" >0.79194</td> \n",
       "        <td id=\"T_d69e0dc8_4652_11e8_8462_e4a471caa8c3row12_col3\" class=\"data row12 col3\" >0.91</td> \n",
       "    </tr>    <tr> \n",
       "        <th id=\"T_d69e0dc8_4652_11e8_8462_e4a471caa8c3level1_row13\" class=\"row_heading level1 row13\" >logistic__tfrf</th> \n",
       "        <th id=\"T_d69e0dc8_4652_11e8_8462_e4a471caa8c3level2_row13\" class=\"row_heading level2 row13\" >test</th> \n",
       "        <td id=\"T_d69e0dc8_4652_11e8_8462_e4a471caa8c3row13_col0\" class=\"data row13 col0\" >0.756614</td> \n",
       "        <td id=\"T_d69e0dc8_4652_11e8_8462_e4a471caa8c3row13_col1\" class=\"data row13 col1\" >0.819039</td> \n",
       "        <td id=\"T_d69e0dc8_4652_11e8_8462_e4a471caa8c3row13_col2\" class=\"data row13 col2\" >0.736645</td> \n",
       "        <td id=\"T_d69e0dc8_4652_11e8_8462_e4a471caa8c3row13_col3\" class=\"data row13 col3\" >0.881</td> \n",
       "    </tr>    <tr> \n",
       "        <th id=\"T_d69e0dc8_4652_11e8_8462_e4a471caa8c3level1_row14\" class=\"row_heading level1 row14\" >logistic_lsa_None</th> \n",
       "        <th id=\"T_d69e0dc8_4652_11e8_8462_e4a471caa8c3level2_row14\" class=\"row_heading level2 row14\" >test</th> \n",
       "        <td id=\"T_d69e0dc8_4652_11e8_8462_e4a471caa8c3row14_col0\" class=\"data row14 col0\" >0.750794</td> \n",
       "        <td id=\"T_d69e0dc8_4652_11e8_8462_e4a471caa8c3row14_col1\" class=\"data row14 col1\" >0.741753</td> \n",
       "        <td id=\"T_d69e0dc8_4652_11e8_8462_e4a471caa8c3row14_col2\" class=\"data row14 col2\" >0.670853</td> \n",
       "        <td id=\"T_d69e0dc8_4652_11e8_8462_e4a471caa8c3row14_col3\" class=\"data row14 col3\" >0.8728</td> \n",
       "    </tr>    <tr> \n",
       "        <th id=\"T_d69e0dc8_4652_11e8_8462_e4a471caa8c3level1_row15\" class=\"row_heading level1 row15\" >logistic_lsa_tfchi2</th> \n",
       "        <th id=\"T_d69e0dc8_4652_11e8_8462_e4a471caa8c3level2_row15\" class=\"row_heading level2 row15\" >test</th> \n",
       "        <td id=\"T_d69e0dc8_4652_11e8_8462_e4a471caa8c3row15_col0\" class=\"data row15 col0\" >0.780423</td> \n",
       "        <td id=\"T_d69e0dc8_4652_11e8_8462_e4a471caa8c3row15_col1\" class=\"data row15 col1\" >0.7623</td> \n",
       "        <td id=\"T_d69e0dc8_4652_11e8_8462_e4a471caa8c3row15_col2\" class=\"data row15 col2\" >0.667291</td> \n",
       "        <td id=\"T_d69e0dc8_4652_11e8_8462_e4a471caa8c3row15_col3\" class=\"data row15 col3\" >0.8418</td> \n",
       "    </tr>    <tr> \n",
       "        <th id=\"T_d69e0dc8_4652_11e8_8462_e4a471caa8c3level1_row16\" class=\"row_heading level1 row16\" >logistic_lsa_tfgr</th> \n",
       "        <th id=\"T_d69e0dc8_4652_11e8_8462_e4a471caa8c3level2_row16\" class=\"row_heading level2 row16\" >test</th> \n",
       "        <td id=\"T_d69e0dc8_4652_11e8_8462_e4a471caa8c3row16_col0\" class=\"data row16 col0\" >0.775132</td> \n",
       "        <td id=\"T_d69e0dc8_4652_11e8_8462_e4a471caa8c3row16_col1\" class=\"data row16 col1\" >0.763996</td> \n",
       "        <td id=\"T_d69e0dc8_4652_11e8_8462_e4a471caa8c3row16_col2\" class=\"data row16 col2\" >0.672165</td> \n",
       "        <td id=\"T_d69e0dc8_4652_11e8_8462_e4a471caa8c3row16_col3\" class=\"data row16 col3\" >0.842</td> \n",
       "    </tr>    <tr> \n",
       "        <th id=\"T_d69e0dc8_4652_11e8_8462_e4a471caa8c3level1_row17\" class=\"row_heading level1 row17\" >logistic_lsa_tfidf</th> \n",
       "        <th id=\"T_d69e0dc8_4652_11e8_8462_e4a471caa8c3level2_row17\" class=\"row_heading level2 row17\" >test</th> \n",
       "        <td id=\"T_d69e0dc8_4652_11e8_8462_e4a471caa8c3row17_col0\" class=\"data row17 col0\" >0.766138</td> \n",
       "        <td id=\"T_d69e0dc8_4652_11e8_8462_e4a471caa8c3row17_col1\" class=\"data row17 col1\" >0.746089</td> \n",
       "        <td id=\"T_d69e0dc8_4652_11e8_8462_e4a471caa8c3row17_col2\" class=\"data row17 col2\" >0.68791</td> \n",
       "        <td id=\"T_d69e0dc8_4652_11e8_8462_e4a471caa8c3row17_col3\" class=\"data row17 col3\" >0.888</td> \n",
       "    </tr>    <tr> \n",
       "        <th id=\"T_d69e0dc8_4652_11e8_8462_e4a471caa8c3level1_row18\" class=\"row_heading level1 row18\" >logistic_lsa_tfig</th> \n",
       "        <th id=\"T_d69e0dc8_4652_11e8_8462_e4a471caa8c3level2_row18\" class=\"row_heading level2 row18\" >test</th> \n",
       "        <td id=\"T_d69e0dc8_4652_11e8_8462_e4a471caa8c3row18_col0\" class=\"data row18 col0\" >0.775132</td> \n",
       "        <td id=\"T_d69e0dc8_4652_11e8_8462_e4a471caa8c3row18_col1\" class=\"data row18 col1\" >0.761923</td> \n",
       "        <td id=\"T_d69e0dc8_4652_11e8_8462_e4a471caa8c3row18_col2\" class=\"data row18 col2\" >0.670291</td> \n",
       "        <td id=\"T_d69e0dc8_4652_11e8_8462_e4a471caa8c3row18_col3\" class=\"data row18 col3\" >0.842</td> \n",
       "    </tr>    <tr> \n",
       "        <th id=\"T_d69e0dc8_4652_11e8_8462_e4a471caa8c3level1_row19\" class=\"row_heading level1 row19\" >logistic_lsa_tfor</th> \n",
       "        <th id=\"T_d69e0dc8_4652_11e8_8462_e4a471caa8c3level2_row19\" class=\"row_heading level2 row19\" >test</th> \n",
       "        <td id=\"T_d69e0dc8_4652_11e8_8462_e4a471caa8c3row19_col0\" class=\"data row19 col0\" >0.773545</td> \n",
       "        <td id=\"T_d69e0dc8_4652_11e8_8462_e4a471caa8c3row19_col1\" class=\"data row19 col1\" >0.770028</td> \n",
       "        <td id=\"T_d69e0dc8_4652_11e8_8462_e4a471caa8c3row19_col2\" class=\"data row19 col2\" >0.74358</td> \n",
       "        <td id=\"T_d69e0dc8_4652_11e8_8462_e4a471caa8c3row19_col3\" class=\"data row19 col3\" >0.8866</td> \n",
       "    </tr>    <tr> \n",
       "        <th id=\"T_d69e0dc8_4652_11e8_8462_e4a471caa8c3level1_row20\" class=\"row_heading level1 row20\" >logistic_lsa_tfrf</th> \n",
       "        <th id=\"T_d69e0dc8_4652_11e8_8462_e4a471caa8c3level2_row20\" class=\"row_heading level2 row20\" >test</th> \n",
       "        <td id=\"T_d69e0dc8_4652_11e8_8462_e4a471caa8c3row20_col0\" class=\"data row20 col0\" >0.728042</td> \n",
       "        <td id=\"T_d69e0dc8_4652_11e8_8462_e4a471caa8c3row20_col1\" class=\"data row20 col1\" >0.759849</td> \n",
       "        <td id=\"T_d69e0dc8_4652_11e8_8462_e4a471caa8c3row20_col2\" class=\"data row20 col2\" >0.693346</td> \n",
       "        <td id=\"T_d69e0dc8_4652_11e8_8462_e4a471caa8c3row20_col3\" class=\"data row20 col3\" >0.8664</td> \n",
       "    </tr>    <tr> \n",
       "        <th id=\"T_d69e0dc8_4652_11e8_8462_e4a471caa8c3level1_row21\" class=\"row_heading level1 row21\" >mylogistic_None</th> \n",
       "        <th id=\"T_d69e0dc8_4652_11e8_8462_e4a471caa8c3level2_row21\" class=\"row_heading level2 row21\" >test</th> \n",
       "        <td id=\"T_d69e0dc8_4652_11e8_8462_e4a471caa8c3row21_col0\" class=\"data row21 col0\" >0.637566</td> \n",
       "        <td id=\"T_d69e0dc8_4652_11e8_8462_e4a471caa8c3row21_col1\" class=\"data row21 col1\" >0.68803</td> \n",
       "        <td id=\"T_d69e0dc8_4652_11e8_8462_e4a471caa8c3row21_col2\" class=\"data row21 col2\" >0.721649</td> \n",
       "        <td id=\"T_d69e0dc8_4652_11e8_8462_e4a471caa8c3row21_col3\" class=\"data row21 col3\" >0.867</td> \n",
       "    </tr>    <tr> \n",
       "        <th id=\"T_d69e0dc8_4652_11e8_8462_e4a471caa8c3level1_row22\" class=\"row_heading level1 row22\" >mylogistic_lsa_None</th> \n",
       "        <th id=\"T_d69e0dc8_4652_11e8_8462_e4a471caa8c3level2_row22\" class=\"row_heading level2 row22\" >test</th> \n",
       "        <td id=\"T_d69e0dc8_4652_11e8_8462_e4a471caa8c3row22_col0\" class=\"data row22 col0\" >0.637566</td> \n",
       "        <td id=\"T_d69e0dc8_4652_11e8_8462_e4a471caa8c3row22_col1\" class=\"data row22 col1\" >0.68803</td> \n",
       "        <td id=\"T_d69e0dc8_4652_11e8_8462_e4a471caa8c3row22_col2\" class=\"data row22 col2\" >0.556888</td> \n",
       "        <td id=\"T_d69e0dc8_4652_11e8_8462_e4a471caa8c3row22_col3\" class=\"data row22 col3\" >0.8556</td> \n",
       "    </tr>    <tr> \n",
       "        <th id=\"T_d69e0dc8_4652_11e8_8462_e4a471caa8c3level1_row23\" class=\"row_heading level1 row23\" >mylogistic_lsa_tfchi2</th> \n",
       "        <th id=\"T_d69e0dc8_4652_11e8_8462_e4a471caa8c3level2_row23\" class=\"row_heading level2 row23\" >test</th> \n",
       "        <td id=\"T_d69e0dc8_4652_11e8_8462_e4a471caa8c3row23_col0\" class=\"data row23 col0\" >0.637566</td> \n",
       "        <td id=\"T_d69e0dc8_4652_11e8_8462_e4a471caa8c3row23_col1\" class=\"data row23 col1\" >0.68803</td> \n",
       "        <td id=\"T_d69e0dc8_4652_11e8_8462_e4a471caa8c3row23_col2\" class=\"data row23 col2\" >0.604873</td> \n",
       "        <td id=\"T_d69e0dc8_4652_11e8_8462_e4a471caa8c3row23_col3\" class=\"data row23 col3\" >0.8308</td> \n",
       "    </tr>    <tr> \n",
       "        <th id=\"T_d69e0dc8_4652_11e8_8462_e4a471caa8c3level1_row24\" class=\"row_heading level1 row24\" >mylogistic_lsa_tfgr</th> \n",
       "        <th id=\"T_d69e0dc8_4652_11e8_8462_e4a471caa8c3level2_row24\" class=\"row_heading level2 row24\" >test</th> \n",
       "        <td id=\"T_d69e0dc8_4652_11e8_8462_e4a471caa8c3row24_col0\" class=\"data row24 col0\" >0.637566</td> \n",
       "        <td id=\"T_d69e0dc8_4652_11e8_8462_e4a471caa8c3row24_col1\" class=\"data row24 col1\" >0.68803</td> \n",
       "        <td id=\"T_d69e0dc8_4652_11e8_8462_e4a471caa8c3row24_col2\" class=\"data row24 col2\" >0.596439</td> \n",
       "        <td id=\"T_d69e0dc8_4652_11e8_8462_e4a471caa8c3row24_col3\" class=\"data row24 col3\" >0.8316</td> \n",
       "    </tr>    <tr> \n",
       "        <th id=\"T_d69e0dc8_4652_11e8_8462_e4a471caa8c3level1_row25\" class=\"row_heading level1 row25\" >mylogistic_lsa_tfidf</th> \n",
       "        <th id=\"T_d69e0dc8_4652_11e8_8462_e4a471caa8c3level2_row25\" class=\"row_heading level2 row25\" >test</th> \n",
       "        <td id=\"T_d69e0dc8_4652_11e8_8462_e4a471caa8c3row25_col0\" class=\"data row25 col0\" >0.640741</td> \n",
       "        <td id=\"T_d69e0dc8_4652_11e8_8462_e4a471caa8c3row25_col1\" class=\"data row25 col1\" >0.694816</td> \n",
       "        <td id=\"T_d69e0dc8_4652_11e8_8462_e4a471caa8c3row25_col2\" class=\"data row25 col2\" >0.557826</td> \n",
       "        <td id=\"T_d69e0dc8_4652_11e8_8462_e4a471caa8c3row25_col3\" class=\"data row25 col3\" >0.7532</td> \n",
       "    </tr>    <tr> \n",
       "        <th id=\"T_d69e0dc8_4652_11e8_8462_e4a471caa8c3level1_row26\" class=\"row_heading level1 row26\" >mylogistic_lsa_tfig</th> \n",
       "        <th id=\"T_d69e0dc8_4652_11e8_8462_e4a471caa8c3level2_row26\" class=\"row_heading level2 row26\" >test</th> \n",
       "        <td id=\"T_d69e0dc8_4652_11e8_8462_e4a471caa8c3row26_col0\" class=\"data row26 col0\" >0.637566</td> \n",
       "        <td id=\"T_d69e0dc8_4652_11e8_8462_e4a471caa8c3row26_col1\" class=\"data row26 col1\" >0.68803</td> \n",
       "        <td id=\"T_d69e0dc8_4652_11e8_8462_e4a471caa8c3row26_col2\" class=\"data row26 col2\" >0.58313</td> \n",
       "        <td id=\"T_d69e0dc8_4652_11e8_8462_e4a471caa8c3row26_col3\" class=\"data row26 col3\" >0.83</td> \n",
       "    </tr>    <tr> \n",
       "        <th id=\"T_d69e0dc8_4652_11e8_8462_e4a471caa8c3level1_row27\" class=\"row_heading level1 row27\" >mylogistic_lsa_tfor</th> \n",
       "        <th id=\"T_d69e0dc8_4652_11e8_8462_e4a471caa8c3level2_row27\" class=\"row_heading level2 row27\" >test</th> \n",
       "        <td id=\"T_d69e0dc8_4652_11e8_8462_e4a471caa8c3row27_col0\" class=\"data row27 col0\" >0.637566</td> \n",
       "        <td id=\"T_d69e0dc8_4652_11e8_8462_e4a471caa8c3row27_col1\" class=\"data row27 col1\" >0.68803</td> \n",
       "        <td id=\"T_d69e0dc8_4652_11e8_8462_e4a471caa8c3row27_col2\" class=\"data row27 col2\" >0.499719</td> \n",
       "        <td id=\"T_d69e0dc8_4652_11e8_8462_e4a471caa8c3row27_col3\" class=\"data row27 col3\" >0.8778</td> \n",
       "    </tr>    <tr> \n",
       "        <th id=\"T_d69e0dc8_4652_11e8_8462_e4a471caa8c3level1_row28\" class=\"row_heading level1 row28\" >mylogistic_lsa_tfrf</th> \n",
       "        <th id=\"T_d69e0dc8_4652_11e8_8462_e4a471caa8c3level2_row28\" class=\"row_heading level2 row28\" >test</th> \n",
       "        <td id=\"T_d69e0dc8_4652_11e8_8462_e4a471caa8c3row28_col0\" class=\"data row28 col0\" >0.637566</td> \n",
       "        <td id=\"T_d69e0dc8_4652_11e8_8462_e4a471caa8c3row28_col1\" class=\"data row28 col1\" >0.68803</td> \n",
       "        <td id=\"T_d69e0dc8_4652_11e8_8462_e4a471caa8c3row28_col2\" class=\"data row28 col2\" >0.499906</td> \n",
       "        <td id=\"T_d69e0dc8_4652_11e8_8462_e4a471caa8c3row28_col3\" class=\"data row28 col3\" >0.571</td> \n",
       "    </tr>    <tr> \n",
       "        <th id=\"T_d69e0dc8_4652_11e8_8462_e4a471caa8c3level1_row29\" class=\"row_heading level1 row29\" >mylogistic_tfchi2</th> \n",
       "        <th id=\"T_d69e0dc8_4652_11e8_8462_e4a471caa8c3level2_row29\" class=\"row_heading level2 row29\" >test</th> \n",
       "        <td id=\"T_d69e0dc8_4652_11e8_8462_e4a471caa8c3row29_col0\" class=\"data row29 col0\" >0.637566</td> \n",
       "        <td id=\"T_d69e0dc8_4652_11e8_8462_e4a471caa8c3row29_col1\" class=\"data row29 col1\" >0.68803</td> \n",
       "        <td id=\"T_d69e0dc8_4652_11e8_8462_e4a471caa8c3row29_col2\" class=\"data row29 col2\" >0.623055</td> \n",
       "        <td id=\"T_d69e0dc8_4652_11e8_8462_e4a471caa8c3row29_col3\" class=\"data row29 col3\" >0.8392</td> \n",
       "    </tr>    <tr> \n",
       "        <th id=\"T_d69e0dc8_4652_11e8_8462_e4a471caa8c3level1_row30\" class=\"row_heading level1 row30\" >mylogistic_tfgr</th> \n",
       "        <th id=\"T_d69e0dc8_4652_11e8_8462_e4a471caa8c3level2_row30\" class=\"row_heading level2 row30\" >test</th> \n",
       "        <td id=\"T_d69e0dc8_4652_11e8_8462_e4a471caa8c3row30_col0\" class=\"data row30 col0\" >0.637566</td> \n",
       "        <td id=\"T_d69e0dc8_4652_11e8_8462_e4a471caa8c3row30_col1\" class=\"data row30 col1\" >0.68803</td> \n",
       "        <td id=\"T_d69e0dc8_4652_11e8_8462_e4a471caa8c3row30_col2\" class=\"data row30 col2\" >0.622118</td> \n",
       "        <td id=\"T_d69e0dc8_4652_11e8_8462_e4a471caa8c3row30_col3\" class=\"data row30 col3\" >0.846</td> \n",
       "    </tr>    <tr> \n",
       "        <th id=\"T_d69e0dc8_4652_11e8_8462_e4a471caa8c3level1_row31\" class=\"row_heading level1 row31\" >mylogistic_tfidf</th> \n",
       "        <th id=\"T_d69e0dc8_4652_11e8_8462_e4a471caa8c3level2_row31\" class=\"row_heading level2 row31\" >test</th> \n",
       "        <td id=\"T_d69e0dc8_4652_11e8_8462_e4a471caa8c3row31_col0\" class=\"data row31 col0\" >0.637566</td> \n",
       "        <td id=\"T_d69e0dc8_4652_11e8_8462_e4a471caa8c3row31_col1\" class=\"data row31 col1\" >0.694439</td> \n",
       "        <td id=\"T_d69e0dc8_4652_11e8_8462_e4a471caa8c3row31_col2\" class=\"data row31 col2\" >0.63224</td> \n",
       "        <td id=\"T_d69e0dc8_4652_11e8_8462_e4a471caa8c3row31_col3\" class=\"data row31 col3\" >0.7738</td> \n",
       "    </tr>    <tr> \n",
       "        <th id=\"T_d69e0dc8_4652_11e8_8462_e4a471caa8c3level1_row32\" class=\"row_heading level1 row32\" >mylogistic_tfig</th> \n",
       "        <th id=\"T_d69e0dc8_4652_11e8_8462_e4a471caa8c3level2_row32\" class=\"row_heading level2 row32\" >test</th> \n",
       "        <td id=\"T_d69e0dc8_4652_11e8_8462_e4a471caa8c3row32_col0\" class=\"data row32 col0\" >0.637566</td> \n",
       "        <td id=\"T_d69e0dc8_4652_11e8_8462_e4a471caa8c3row32_col1\" class=\"data row32 col1\" >0.68803</td> \n",
       "        <td id=\"T_d69e0dc8_4652_11e8_8462_e4a471caa8c3row32_col2\" class=\"data row32 col2\" >0.579944</td> \n",
       "        <td id=\"T_d69e0dc8_4652_11e8_8462_e4a471caa8c3row32_col3\" class=\"data row32 col3\" >0.8384</td> \n",
       "    </tr>    <tr> \n",
       "        <th id=\"T_d69e0dc8_4652_11e8_8462_e4a471caa8c3level1_row33\" class=\"row_heading level1 row33\" >mylogistic_tfor</th> \n",
       "        <th id=\"T_d69e0dc8_4652_11e8_8462_e4a471caa8c3level2_row33\" class=\"row_heading level2 row33\" >test</th> \n",
       "        <td id=\"T_d69e0dc8_4652_11e8_8462_e4a471caa8c3row33_col0\" class=\"data row33 col0\" >0.637566</td> \n",
       "        <td id=\"T_d69e0dc8_4652_11e8_8462_e4a471caa8c3row33_col1\" class=\"data row33 col1\" >0.68803</td> \n",
       "        <td id=\"T_d69e0dc8_4652_11e8_8462_e4a471caa8c3row33_col2\" class=\"data row33 col2\" >0.500094</td> \n",
       "        <td id=\"T_d69e0dc8_4652_11e8_8462_e4a471caa8c3row33_col3\" class=\"data row33 col3\" >0.7516</td> \n",
       "    </tr>    <tr> \n",
       "        <th id=\"T_d69e0dc8_4652_11e8_8462_e4a471caa8c3level1_row34\" class=\"row_heading level1 row34\" >mylogistic_tfrf</th> \n",
       "        <th id=\"T_d69e0dc8_4652_11e8_8462_e4a471caa8c3level2_row34\" class=\"row_heading level2 row34\" >test</th> \n",
       "        <td id=\"T_d69e0dc8_4652_11e8_8462_e4a471caa8c3row34_col0\" class=\"data row34 col0\" >0.637566</td> \n",
       "        <td id=\"T_d69e0dc8_4652_11e8_8462_e4a471caa8c3row34_col1\" class=\"data row34 col1\" >0.68803</td> \n",
       "        <td id=\"T_d69e0dc8_4652_11e8_8462_e4a471caa8c3row34_col2\" class=\"data row34 col2\" >0.500281</td> \n",
       "        <td id=\"T_d69e0dc8_4652_11e8_8462_e4a471caa8c3row34_col3\" class=\"data row34 col3\" >0.568</td> \n",
       "    </tr></tbody> \n",
       "</table> "
      ],
      "text/plain": [
       "<pandas.io.formats.style.Styler at 0x7f873ba851d0>"
      ]
     },
     "execution_count": 14,
     "metadata": {},
     "output_type": "execute_result"
    }
   ],
   "source": [
    "cm = sns.light_palette(\"green\", as_cmap=True)\n",
    "df = pd.DataFrame(loaded_results)\n",
    "df = df.sort_index().loc[(slice(None),slice(None), 'test'),:]\n",
    "df.style.background_gradient(cmap=cm)"
   ]
  },
  {
   "cell_type": "code",
   "execution_count": 17,
   "metadata": {},
   "outputs": [
    {
     "data": {
      "text/html": [
       "<style  type=\"text/css\" >\n",
       "    #T_2845592e_4653_11e8_8462_e4a471caa8c3row0_col0 {\n",
       "            background-color:  #e5ffe5;\n",
       "        }    #T_2845592e_4653_11e8_8462_e4a471caa8c3row0_col1 {\n",
       "            background-color:  #e5ffe5;\n",
       "        }    #T_2845592e_4653_11e8_8462_e4a471caa8c3row0_col2 {\n",
       "            background-color:  #e5ffe5;\n",
       "        }    #T_2845592e_4653_11e8_8462_e4a471caa8c3row0_col3 {\n",
       "            background-color:  #e5ffe5;\n",
       "        }    #T_2845592e_4653_11e8_8462_e4a471caa8c3row1_col0 {\n",
       "            background-color:  #048204;\n",
       "        }    #T_2845592e_4653_11e8_8462_e4a471caa8c3row1_col1 {\n",
       "            background-color:  #168c16;\n",
       "        }    #T_2845592e_4653_11e8_8462_e4a471caa8c3row1_col2 {\n",
       "            background-color:  #0c860c;\n",
       "        }    #T_2845592e_4653_11e8_8462_e4a471caa8c3row1_col3 {\n",
       "            background-color:  #018001;\n",
       "        }    #T_2845592e_4653_11e8_8462_e4a471caa8c3row2_col0 {\n",
       "            background-color:  #178c17;\n",
       "        }    #T_2845592e_4653_11e8_8462_e4a471caa8c3row2_col1 {\n",
       "            background-color:  #45a645;\n",
       "        }    #T_2845592e_4653_11e8_8462_e4a471caa8c3row2_col2 {\n",
       "            background-color:  #52ad52;\n",
       "        }    #T_2845592e_4653_11e8_8462_e4a471caa8c3row2_col3 {\n",
       "            background-color:  #299729;\n",
       "        }    #T_2845592e_4653_11e8_8462_e4a471caa8c3row3_col0 {\n",
       "            background-color:  #1f911f;\n",
       "        }    #T_2845592e_4653_11e8_8462_e4a471caa8c3row3_col1 {\n",
       "            background-color:  #45a645;\n",
       "        }    #T_2845592e_4653_11e8_8462_e4a471caa8c3row3_col2 {\n",
       "            background-color:  #4fac4f;\n",
       "        }    #T_2845592e_4653_11e8_8462_e4a471caa8c3row3_col3 {\n",
       "            background-color:  #289628;\n",
       "        }    #T_2845592e_4653_11e8_8462_e4a471caa8c3row4_col0 {\n",
       "            background-color:  #229322;\n",
       "        }    #T_2845592e_4653_11e8_8462_e4a471caa8c3row4_col1 {\n",
       "            background-color:  #008000;\n",
       "        }    #T_2845592e_4653_11e8_8462_e4a471caa8c3row4_col2 {\n",
       "            background-color:  #1d901d;\n",
       "        }    #T_2845592e_4653_11e8_8462_e4a471caa8c3row4_col3 {\n",
       "            background-color:  #008000;\n",
       "        }    #T_2845592e_4653_11e8_8462_e4a471caa8c3row5_col0 {\n",
       "            background-color:  #1f911f;\n",
       "        }    #T_2845592e_4653_11e8_8462_e4a471caa8c3row5_col1 {\n",
       "            background-color:  #45a645;\n",
       "        }    #T_2845592e_4653_11e8_8462_e4a471caa8c3row5_col2 {\n",
       "            background-color:  #4fac4f;\n",
       "        }    #T_2845592e_4653_11e8_8462_e4a471caa8c3row5_col3 {\n",
       "            background-color:  #289628;\n",
       "        }    #T_2845592e_4653_11e8_8462_e4a471caa8c3row6_col0 {\n",
       "            background-color:  #008000;\n",
       "        }    #T_2845592e_4653_11e8_8462_e4a471caa8c3row6_col1 {\n",
       "            background-color:  #1b8f1b;\n",
       "        }    #T_2845592e_4653_11e8_8462_e4a471caa8c3row6_col2 {\n",
       "            background-color:  #008000;\n",
       "        }    #T_2845592e_4653_11e8_8462_e4a471caa8c3row6_col3 {\n",
       "            background-color:  #058305;\n",
       "        }    #T_2845592e_4653_11e8_8462_e4a471caa8c3row7_col0 {\n",
       "            background-color:  #399f39;\n",
       "        }    #T_2845592e_4653_11e8_8462_e4a471caa8c3row7_col1 {\n",
       "            background-color:  #289628;\n",
       "        }    #T_2845592e_4653_11e8_8462_e4a471caa8c3row7_col2 {\n",
       "            background-color:  #2b982b;\n",
       "        }    #T_2845592e_4653_11e8_8462_e4a471caa8c3row7_col3 {\n",
       "            background-color:  #168c16;\n",
       "        }    #T_2845592e_4653_11e8_8462_e4a471caa8c3row8_col0 {\n",
       "            background-color:  #42a442;\n",
       "        }    #T_2845592e_4653_11e8_8462_e4a471caa8c3row8_col1 {\n",
       "            background-color:  #98d498;\n",
       "        }    #T_2845592e_4653_11e8_8462_e4a471caa8c3row8_col2 {\n",
       "            background-color:  #5fb55f;\n",
       "        }    #T_2845592e_4653_11e8_8462_e4a471caa8c3row8_col3 {\n",
       "            background-color:  #1a8e1a;\n",
       "        }    #T_2845592e_4653_11e8_8462_e4a471caa8c3row9_col0 {\n",
       "            background-color:  #178c17;\n",
       "        }    #T_2845592e_4653_11e8_8462_e4a471caa8c3row9_col1 {\n",
       "            background-color:  #7ac47a;\n",
       "        }    #T_2845592e_4653_11e8_8462_e4a471caa8c3row9_col2 {\n",
       "            background-color:  #62b662;\n",
       "        }    #T_2845592e_4653_11e8_8462_e4a471caa8c3row9_col3 {\n",
       "            background-color:  #2b982b;\n",
       "        }    #T_2845592e_4653_11e8_8462_e4a471caa8c3row10_col0 {\n",
       "            background-color:  #1f911f;\n",
       "        }    #T_2845592e_4653_11e8_8462_e4a471caa8c3row10_col1 {\n",
       "            background-color:  #78c278;\n",
       "        }    #T_2845592e_4653_11e8_8462_e4a471caa8c3row10_col2 {\n",
       "            background-color:  #5eb45e;\n",
       "        }    #T_2845592e_4653_11e8_8462_e4a471caa8c3row10_col3 {\n",
       "            background-color:  #2b982b;\n",
       "        }    #T_2845592e_4653_11e8_8462_e4a471caa8c3row11_col0 {\n",
       "            background-color:  #2b982b;\n",
       "        }    #T_2845592e_4653_11e8_8462_e4a471caa8c3row11_col1 {\n",
       "            background-color:  #92d192;\n",
       "        }    #T_2845592e_4653_11e8_8462_e4a471caa8c3row11_col2 {\n",
       "            background-color:  #52ad52;\n",
       "        }    #T_2845592e_4653_11e8_8462_e4a471caa8c3row11_col3 {\n",
       "            background-color:  #128a12;\n",
       "        }    #T_2845592e_4653_11e8_8462_e4a471caa8c3row12_col0 {\n",
       "            background-color:  #1f911f;\n",
       "        }    #T_2845592e_4653_11e8_8462_e4a471caa8c3row12_col1 {\n",
       "            background-color:  #7bc47b;\n",
       "        }    #T_2845592e_4653_11e8_8462_e4a471caa8c3row12_col2 {\n",
       "            background-color:  #5fb55f;\n",
       "        }    #T_2845592e_4653_11e8_8462_e4a471caa8c3row12_col3 {\n",
       "            background-color:  #2b982b;\n",
       "        }    #T_2845592e_4653_11e8_8462_e4a471caa8c3row13_col0 {\n",
       "            background-color:  #209220;\n",
       "        }    #T_2845592e_4653_11e8_8462_e4a471caa8c3row13_col1 {\n",
       "            background-color:  #70be70;\n",
       "        }    #T_2845592e_4653_11e8_8462_e4a471caa8c3row13_col2 {\n",
       "            background-color:  #269526;\n",
       "        }    #T_2845592e_4653_11e8_8462_e4a471caa8c3row13_col3 {\n",
       "            background-color:  #128a12;\n",
       "        }    #T_2845592e_4653_11e8_8462_e4a471caa8c3row14_col0 {\n",
       "            background-color:  #63b763;\n",
       "        }    #T_2845592e_4653_11e8_8462_e4a471caa8c3row14_col1 {\n",
       "            background-color:  #7ec67e;\n",
       "        }    #T_2845592e_4653_11e8_8462_e4a471caa8c3row14_col2 {\n",
       "            background-color:  #4dab4d;\n",
       "        }    #T_2845592e_4653_11e8_8462_e4a471caa8c3row14_col3 {\n",
       "            background-color:  #1e901e;\n",
       "        }</style>  \n",
       "<table id=\"T_2845592e_4653_11e8_8462_e4a471caa8c3\" > \n",
       "<thead>    <tr> \n",
       "        <th class=\"blank\" ></th> \n",
       "        <th class=\"blank level0\" ></th> \n",
       "        <th class=\"col_heading level0 col0\" >CRDataset</th> \n",
       "        <th class=\"col_heading level0 col1\" >MPQADataset</th> \n",
       "        <th class=\"col_heading level0 col2\" >MRDataset</th> \n",
       "        <th class=\"col_heading level0 col3\" >SUBJDataset</th> \n",
       "    </tr></thead> \n",
       "<tbody>    <tr> \n",
       "        <th id=\"T_2845592e_4653_11e8_8462_e4a471caa8c3level0_row0\" class=\"row_heading level0 row0\" >constant__None</th> \n",
       "        <th id=\"T_2845592e_4653_11e8_8462_e4a471caa8c3level1_row0\" class=\"row_heading level1 row0\" >test</th> \n",
       "        <td id=\"T_2845592e_4653_11e8_8462_e4a471caa8c3row0_col0\" class=\"data row0 col0\" >0.637566</td> \n",
       "        <td id=\"T_2845592e_4653_11e8_8462_e4a471caa8c3row0_col1\" class=\"data row0 col1\" >0.68803</td> \n",
       "        <td id=\"T_2845592e_4653_11e8_8462_e4a471caa8c3row0_col2\" class=\"data row0 col2\" >0.499531</td> \n",
       "        <td id=\"T_2845592e_4653_11e8_8462_e4a471caa8c3row0_col3\" class=\"data row0 col3\" >0.5</td> \n",
       "    </tr>    <tr> \n",
       "        <th id=\"T_2845592e_4653_11e8_8462_e4a471caa8c3level0_row1\" class=\"row_heading level0 row1\" >logistic__None</th> \n",
       "        <th id=\"T_2845592e_4653_11e8_8462_e4a471caa8c3level1_row1\" class=\"row_heading level1 row1\" >test</th> \n",
       "        <td id=\"T_2845592e_4653_11e8_8462_e4a471caa8c3row1_col0\" class=\"data row1 col0\" >0.793651</td> \n",
       "        <td id=\"T_2845592e_4653_11e8_8462_e4a471caa8c3row1_col1\" class=\"data row1 col1\" >0.832234</td> \n",
       "        <td id=\"T_2845592e_4653_11e8_8462_e4a471caa8c3row1_col2\" class=\"data row1 col2\" >0.776945</td> \n",
       "        <td id=\"T_2845592e_4653_11e8_8462_e4a471caa8c3row1_col3\" class=\"data row1 col3\" >0.919</td> \n",
       "    </tr>    <tr> \n",
       "        <th id=\"T_2845592e_4653_11e8_8462_e4a471caa8c3level0_row2\" class=\"row_heading level0 row2\" >logistic__tfchi2</th> \n",
       "        <th id=\"T_2845592e_4653_11e8_8462_e4a471caa8c3level1_row2\" class=\"row_heading level1 row2\" >test</th> \n",
       "        <td id=\"T_2845592e_4653_11e8_8462_e4a471caa8c3row2_col0\" class=\"data row2 col0\" >0.780423</td> \n",
       "        <td id=\"T_2845592e_4653_11e8_8462_e4a471caa8c3row2_col1\" class=\"data row2 col1\" >0.799246</td> \n",
       "        <td id=\"T_2845592e_4653_11e8_8462_e4a471caa8c3row2_col2\" class=\"data row2 col2\" >0.68791</td> \n",
       "        <td id=\"T_2845592e_4653_11e8_8462_e4a471caa8c3row2_col3\" class=\"data row2 col3\" >0.845</td> \n",
       "    </tr>    <tr> \n",
       "        <th id=\"T_2845592e_4653_11e8_8462_e4a471caa8c3level0_row3\" class=\"row_heading level0 row3\" >logistic__tfgr</th> \n",
       "        <th id=\"T_2845592e_4653_11e8_8462_e4a471caa8c3level1_row3\" class=\"row_heading level1 row3\" >test</th> \n",
       "        <td id=\"T_2845592e_4653_11e8_8462_e4a471caa8c3row3_col0\" class=\"data row3 col0\" >0.775132</td> \n",
       "        <td id=\"T_2845592e_4653_11e8_8462_e4a471caa8c3row3_col1\" class=\"data row3 col1\" >0.799246</td> \n",
       "        <td id=\"T_2845592e_4653_11e8_8462_e4a471caa8c3row3_col2\" class=\"data row3 col2\" >0.690722</td> \n",
       "        <td id=\"T_2845592e_4653_11e8_8462_e4a471caa8c3row3_col3\" class=\"data row3 col3\" >0.846</td> \n",
       "    </tr>    <tr> \n",
       "        <th id=\"T_2845592e_4653_11e8_8462_e4a471caa8c3level0_row4\" class=\"row_heading level0 row4\" >logistic__tfidf</th> \n",
       "        <th id=\"T_2845592e_4653_11e8_8462_e4a471caa8c3level1_row4\" class=\"row_heading level1 row4\" >test</th> \n",
       "        <td id=\"T_2845592e_4653_11e8_8462_e4a471caa8c3row4_col0\" class=\"data row4 col0\" >0.772487</td> \n",
       "        <td id=\"T_2845592e_4653_11e8_8462_e4a471caa8c3row4_col1\" class=\"data row4 col1\" >0.847314</td> \n",
       "        <td id=\"T_2845592e_4653_11e8_8462_e4a471caa8c3row4_col2\" class=\"data row4 col2\" >0.754452</td> \n",
       "        <td id=\"T_2845592e_4653_11e8_8462_e4a471caa8c3row4_col3\" class=\"data row4 col3\" >0.921</td> \n",
       "    </tr>    <tr> \n",
       "        <th id=\"T_2845592e_4653_11e8_8462_e4a471caa8c3level0_row5\" class=\"row_heading level0 row5\" >logistic__tfig</th> \n",
       "        <th id=\"T_2845592e_4653_11e8_8462_e4a471caa8c3level1_row5\" class=\"row_heading level1 row5\" >test</th> \n",
       "        <td id=\"T_2845592e_4653_11e8_8462_e4a471caa8c3row5_col0\" class=\"data row5 col0\" >0.775132</td> \n",
       "        <td id=\"T_2845592e_4653_11e8_8462_e4a471caa8c3row5_col1\" class=\"data row5 col1\" >0.799246</td> \n",
       "        <td id=\"T_2845592e_4653_11e8_8462_e4a471caa8c3row5_col2\" class=\"data row5 col2\" >0.690722</td> \n",
       "        <td id=\"T_2845592e_4653_11e8_8462_e4a471caa8c3row5_col3\" class=\"data row5 col3\" >0.846</td> \n",
       "    </tr>    <tr> \n",
       "        <th id=\"T_2845592e_4653_11e8_8462_e4a471caa8c3level0_row6\" class=\"row_heading level0 row6\" >logistic__tfor</th> \n",
       "        <th id=\"T_2845592e_4653_11e8_8462_e4a471caa8c3level1_row6\" class=\"row_heading level1 row6\" >test</th> \n",
       "        <td id=\"T_2845592e_4653_11e8_8462_e4a471caa8c3row6_col0\" class=\"data row6 col0\" >0.796296</td> \n",
       "        <td id=\"T_2845592e_4653_11e8_8462_e4a471caa8c3row6_col1\" class=\"data row6 col1\" >0.828464</td> \n",
       "        <td id=\"T_2845592e_4653_11e8_8462_e4a471caa8c3row6_col2\" class=\"data row6 col2\" >0.79194</td> \n",
       "        <td id=\"T_2845592e_4653_11e8_8462_e4a471caa8c3row6_col3\" class=\"data row6 col3\" >0.91</td> \n",
       "    </tr>    <tr> \n",
       "        <th id=\"T_2845592e_4653_11e8_8462_e4a471caa8c3level0_row7\" class=\"row_heading level0 row7\" >logistic__tfrf</th> \n",
       "        <th id=\"T_2845592e_4653_11e8_8462_e4a471caa8c3level1_row7\" class=\"row_heading level1 row7\" >test</th> \n",
       "        <td id=\"T_2845592e_4653_11e8_8462_e4a471caa8c3row7_col0\" class=\"data row7 col0\" >0.756614</td> \n",
       "        <td id=\"T_2845592e_4653_11e8_8462_e4a471caa8c3row7_col1\" class=\"data row7 col1\" >0.819039</td> \n",
       "        <td id=\"T_2845592e_4653_11e8_8462_e4a471caa8c3row7_col2\" class=\"data row7 col2\" >0.736645</td> \n",
       "        <td id=\"T_2845592e_4653_11e8_8462_e4a471caa8c3row7_col3\" class=\"data row7 col3\" >0.881</td> \n",
       "    </tr>    <tr> \n",
       "        <th id=\"T_2845592e_4653_11e8_8462_e4a471caa8c3level0_row8\" class=\"row_heading level0 row8\" >logistic_lsa_None</th> \n",
       "        <th id=\"T_2845592e_4653_11e8_8462_e4a471caa8c3level1_row8\" class=\"row_heading level1 row8\" >test</th> \n",
       "        <td id=\"T_2845592e_4653_11e8_8462_e4a471caa8c3row8_col0\" class=\"data row8 col0\" >0.750794</td> \n",
       "        <td id=\"T_2845592e_4653_11e8_8462_e4a471caa8c3row8_col1\" class=\"data row8 col1\" >0.741753</td> \n",
       "        <td id=\"T_2845592e_4653_11e8_8462_e4a471caa8c3row8_col2\" class=\"data row8 col2\" >0.670853</td> \n",
       "        <td id=\"T_2845592e_4653_11e8_8462_e4a471caa8c3row8_col3\" class=\"data row8 col3\" >0.8728</td> \n",
       "    </tr>    <tr> \n",
       "        <th id=\"T_2845592e_4653_11e8_8462_e4a471caa8c3level0_row9\" class=\"row_heading level0 row9\" >logistic_lsa_tfchi2</th> \n",
       "        <th id=\"T_2845592e_4653_11e8_8462_e4a471caa8c3level1_row9\" class=\"row_heading level1 row9\" >test</th> \n",
       "        <td id=\"T_2845592e_4653_11e8_8462_e4a471caa8c3row9_col0\" class=\"data row9 col0\" >0.780423</td> \n",
       "        <td id=\"T_2845592e_4653_11e8_8462_e4a471caa8c3row9_col1\" class=\"data row9 col1\" >0.7623</td> \n",
       "        <td id=\"T_2845592e_4653_11e8_8462_e4a471caa8c3row9_col2\" class=\"data row9 col2\" >0.667291</td> \n",
       "        <td id=\"T_2845592e_4653_11e8_8462_e4a471caa8c3row9_col3\" class=\"data row9 col3\" >0.8418</td> \n",
       "    </tr>    <tr> \n",
       "        <th id=\"T_2845592e_4653_11e8_8462_e4a471caa8c3level0_row10\" class=\"row_heading level0 row10\" >logistic_lsa_tfgr</th> \n",
       "        <th id=\"T_2845592e_4653_11e8_8462_e4a471caa8c3level1_row10\" class=\"row_heading level1 row10\" >test</th> \n",
       "        <td id=\"T_2845592e_4653_11e8_8462_e4a471caa8c3row10_col0\" class=\"data row10 col0\" >0.775132</td> \n",
       "        <td id=\"T_2845592e_4653_11e8_8462_e4a471caa8c3row10_col1\" class=\"data row10 col1\" >0.763996</td> \n",
       "        <td id=\"T_2845592e_4653_11e8_8462_e4a471caa8c3row10_col2\" class=\"data row10 col2\" >0.672165</td> \n",
       "        <td id=\"T_2845592e_4653_11e8_8462_e4a471caa8c3row10_col3\" class=\"data row10 col3\" >0.842</td> \n",
       "    </tr>    <tr> \n",
       "        <th id=\"T_2845592e_4653_11e8_8462_e4a471caa8c3level0_row11\" class=\"row_heading level0 row11\" >logistic_lsa_tfidf</th> \n",
       "        <th id=\"T_2845592e_4653_11e8_8462_e4a471caa8c3level1_row11\" class=\"row_heading level1 row11\" >test</th> \n",
       "        <td id=\"T_2845592e_4653_11e8_8462_e4a471caa8c3row11_col0\" class=\"data row11 col0\" >0.766138</td> \n",
       "        <td id=\"T_2845592e_4653_11e8_8462_e4a471caa8c3row11_col1\" class=\"data row11 col1\" >0.746089</td> \n",
       "        <td id=\"T_2845592e_4653_11e8_8462_e4a471caa8c3row11_col2\" class=\"data row11 col2\" >0.68791</td> \n",
       "        <td id=\"T_2845592e_4653_11e8_8462_e4a471caa8c3row11_col3\" class=\"data row11 col3\" >0.888</td> \n",
       "    </tr>    <tr> \n",
       "        <th id=\"T_2845592e_4653_11e8_8462_e4a471caa8c3level0_row12\" class=\"row_heading level0 row12\" >logistic_lsa_tfig</th> \n",
       "        <th id=\"T_2845592e_4653_11e8_8462_e4a471caa8c3level1_row12\" class=\"row_heading level1 row12\" >test</th> \n",
       "        <td id=\"T_2845592e_4653_11e8_8462_e4a471caa8c3row12_col0\" class=\"data row12 col0\" >0.775132</td> \n",
       "        <td id=\"T_2845592e_4653_11e8_8462_e4a471caa8c3row12_col1\" class=\"data row12 col1\" >0.761923</td> \n",
       "        <td id=\"T_2845592e_4653_11e8_8462_e4a471caa8c3row12_col2\" class=\"data row12 col2\" >0.670291</td> \n",
       "        <td id=\"T_2845592e_4653_11e8_8462_e4a471caa8c3row12_col3\" class=\"data row12 col3\" >0.842</td> \n",
       "    </tr>    <tr> \n",
       "        <th id=\"T_2845592e_4653_11e8_8462_e4a471caa8c3level0_row13\" class=\"row_heading level0 row13\" >logistic_lsa_tfor</th> \n",
       "        <th id=\"T_2845592e_4653_11e8_8462_e4a471caa8c3level1_row13\" class=\"row_heading level1 row13\" >test</th> \n",
       "        <td id=\"T_2845592e_4653_11e8_8462_e4a471caa8c3row13_col0\" class=\"data row13 col0\" >0.773545</td> \n",
       "        <td id=\"T_2845592e_4653_11e8_8462_e4a471caa8c3row13_col1\" class=\"data row13 col1\" >0.770028</td> \n",
       "        <td id=\"T_2845592e_4653_11e8_8462_e4a471caa8c3row13_col2\" class=\"data row13 col2\" >0.74358</td> \n",
       "        <td id=\"T_2845592e_4653_11e8_8462_e4a471caa8c3row13_col3\" class=\"data row13 col3\" >0.8866</td> \n",
       "    </tr>    <tr> \n",
       "        <th id=\"T_2845592e_4653_11e8_8462_e4a471caa8c3level0_row14\" class=\"row_heading level0 row14\" >logistic_lsa_tfrf</th> \n",
       "        <th id=\"T_2845592e_4653_11e8_8462_e4a471caa8c3level1_row14\" class=\"row_heading level1 row14\" >test</th> \n",
       "        <td id=\"T_2845592e_4653_11e8_8462_e4a471caa8c3row14_col0\" class=\"data row14 col0\" >0.728042</td> \n",
       "        <td id=\"T_2845592e_4653_11e8_8462_e4a471caa8c3row14_col1\" class=\"data row14 col1\" >0.759849</td> \n",
       "        <td id=\"T_2845592e_4653_11e8_8462_e4a471caa8c3row14_col2\" class=\"data row14 col2\" >0.693346</td> \n",
       "        <td id=\"T_2845592e_4653_11e8_8462_e4a471caa8c3row14_col3\" class=\"data row14 col3\" >0.8664</td> \n",
       "    </tr></tbody> \n",
       "</table> "
      ],
      "text/plain": [
       "<pandas.io.formats.style.Styler at 0x7f873ef981d0>"
      ]
     },
     "execution_count": 17,
     "metadata": {},
     "output_type": "execute_result"
    }
   ],
   "source": [
    "cm = sns.light_palette(\"green\", as_cmap=True)\n",
    "df_results = pd.DataFrame(loaded_results).loc['simple']\n",
    "interesting = [x for x in df_results.index.levels[0] if 'constant' not in x and 'mylog' not in x] + ['constant__None']\n",
    "\n",
    "df_results.loc[(interesting, 'test'),:].style.background_gradient(cmap=cm)"
   ]
  },
  {
   "cell_type": "code",
   "execution_count": 44,
   "metadata": {},
   "outputs": [],
   "source": [
    "cm = sns.light_palette(\"green\", as_cmap=True)\n",
    "df_results = pd.DataFrame(loaded_results).loc['simple']\n",
    "interesting = [x for x in df_results.index.levels[0] if 'constant' not in x and 'mylog' not in x] + ['constant__None']\n",
    "\n",
    "df = df_results.loc[(interesting, 'test'),:]\n",
    "df.index = df.index.droplevel(1)"
   ]
  },
  {
   "cell_type": "code",
   "execution_count": 45,
   "metadata": {},
   "outputs": [
    {
     "data": {
      "text/html": [
       "<div>\n",
       "<style scoped>\n",
       "    .dataframe tbody tr th:only-of-type {\n",
       "        vertical-align: middle;\n",
       "    }\n",
       "\n",
       "    .dataframe tbody tr th {\n",
       "        vertical-align: top;\n",
       "    }\n",
       "\n",
       "    .dataframe thead th {\n",
       "        text-align: right;\n",
       "    }\n",
       "</style>\n",
       "<table border=\"1\" class=\"dataframe\">\n",
       "  <thead>\n",
       "    <tr style=\"text-align: right;\">\n",
       "      <th></th>\n",
       "      <th>CRDataset</th>\n",
       "      <th>MPQADataset</th>\n",
       "      <th>MRDataset</th>\n",
       "      <th>SUBJDataset</th>\n",
       "    </tr>\n",
       "  </thead>\n",
       "  <tbody>\n",
       "    <tr>\n",
       "      <th>constant__None</th>\n",
       "      <td>0.637566</td>\n",
       "      <td>0.688030</td>\n",
       "      <td>0.499531</td>\n",
       "      <td>0.5000</td>\n",
       "    </tr>\n",
       "    <tr>\n",
       "      <th>logistic__None</th>\n",
       "      <td>0.793651</td>\n",
       "      <td>0.832234</td>\n",
       "      <td>0.776945</td>\n",
       "      <td>0.9190</td>\n",
       "    </tr>\n",
       "    <tr>\n",
       "      <th>logistic__tfchi2</th>\n",
       "      <td>0.780423</td>\n",
       "      <td>0.799246</td>\n",
       "      <td>0.687910</td>\n",
       "      <td>0.8450</td>\n",
       "    </tr>\n",
       "    <tr>\n",
       "      <th>logistic__tfgr</th>\n",
       "      <td>0.775132</td>\n",
       "      <td>0.799246</td>\n",
       "      <td>0.690722</td>\n",
       "      <td>0.8460</td>\n",
       "    </tr>\n",
       "    <tr>\n",
       "      <th>logistic__tfidf</th>\n",
       "      <td>0.772487</td>\n",
       "      <td>0.847314</td>\n",
       "      <td>0.754452</td>\n",
       "      <td>0.9210</td>\n",
       "    </tr>\n",
       "    <tr>\n",
       "      <th>logistic__tfig</th>\n",
       "      <td>0.775132</td>\n",
       "      <td>0.799246</td>\n",
       "      <td>0.690722</td>\n",
       "      <td>0.8460</td>\n",
       "    </tr>\n",
       "    <tr>\n",
       "      <th>logistic__tfor</th>\n",
       "      <td>0.796296</td>\n",
       "      <td>0.828464</td>\n",
       "      <td>0.791940</td>\n",
       "      <td>0.9100</td>\n",
       "    </tr>\n",
       "    <tr>\n",
       "      <th>logistic__tfrf</th>\n",
       "      <td>0.756614</td>\n",
       "      <td>0.819039</td>\n",
       "      <td>0.736645</td>\n",
       "      <td>0.8810</td>\n",
       "    </tr>\n",
       "    <tr>\n",
       "      <th>logistic_lsa_None</th>\n",
       "      <td>0.750794</td>\n",
       "      <td>0.741753</td>\n",
       "      <td>0.670853</td>\n",
       "      <td>0.8728</td>\n",
       "    </tr>\n",
       "    <tr>\n",
       "      <th>logistic_lsa_tfchi2</th>\n",
       "      <td>0.780423</td>\n",
       "      <td>0.762300</td>\n",
       "      <td>0.667291</td>\n",
       "      <td>0.8418</td>\n",
       "    </tr>\n",
       "    <tr>\n",
       "      <th>logistic_lsa_tfgr</th>\n",
       "      <td>0.775132</td>\n",
       "      <td>0.763996</td>\n",
       "      <td>0.672165</td>\n",
       "      <td>0.8420</td>\n",
       "    </tr>\n",
       "    <tr>\n",
       "      <th>logistic_lsa_tfidf</th>\n",
       "      <td>0.766138</td>\n",
       "      <td>0.746089</td>\n",
       "      <td>0.687910</td>\n",
       "      <td>0.8880</td>\n",
       "    </tr>\n",
       "    <tr>\n",
       "      <th>logistic_lsa_tfig</th>\n",
       "      <td>0.775132</td>\n",
       "      <td>0.761923</td>\n",
       "      <td>0.670291</td>\n",
       "      <td>0.8420</td>\n",
       "    </tr>\n",
       "    <tr>\n",
       "      <th>logistic_lsa_tfor</th>\n",
       "      <td>0.773545</td>\n",
       "      <td>0.770028</td>\n",
       "      <td>0.743580</td>\n",
       "      <td>0.8866</td>\n",
       "    </tr>\n",
       "    <tr>\n",
       "      <th>logistic_lsa_tfrf</th>\n",
       "      <td>0.728042</td>\n",
       "      <td>0.759849</td>\n",
       "      <td>0.693346</td>\n",
       "      <td>0.8664</td>\n",
       "    </tr>\n",
       "  </tbody>\n",
       "</table>\n",
       "</div>"
      ],
      "text/plain": [
       "                     CRDataset  MPQADataset  MRDataset  SUBJDataset\n",
       "constant__None        0.637566     0.688030   0.499531       0.5000\n",
       "logistic__None        0.793651     0.832234   0.776945       0.9190\n",
       "logistic__tfchi2      0.780423     0.799246   0.687910       0.8450\n",
       "logistic__tfgr        0.775132     0.799246   0.690722       0.8460\n",
       "logistic__tfidf       0.772487     0.847314   0.754452       0.9210\n",
       "logistic__tfig        0.775132     0.799246   0.690722       0.8460\n",
       "logistic__tfor        0.796296     0.828464   0.791940       0.9100\n",
       "logistic__tfrf        0.756614     0.819039   0.736645       0.8810\n",
       "logistic_lsa_None     0.750794     0.741753   0.670853       0.8728\n",
       "logistic_lsa_tfchi2   0.780423     0.762300   0.667291       0.8418\n",
       "logistic_lsa_tfgr     0.775132     0.763996   0.672165       0.8420\n",
       "logistic_lsa_tfidf    0.766138     0.746089   0.687910       0.8880\n",
       "logistic_lsa_tfig     0.775132     0.761923   0.670291       0.8420\n",
       "logistic_lsa_tfor     0.773545     0.770028   0.743580       0.8866\n",
       "logistic_lsa_tfrf     0.728042     0.759849   0.693346       0.8664"
      ]
     },
     "execution_count": 45,
     "metadata": {},
     "output_type": "execute_result"
    }
   ],
   "source": [
    "df"
   ]
  },
  {
   "cell_type": "code",
   "execution_count": 46,
   "metadata": {},
   "outputs": [
    {
     "data": {
      "text/html": [
       "<div>\n",
       "<style scoped>\n",
       "    .dataframe tbody tr th:only-of-type {\n",
       "        vertical-align: middle;\n",
       "    }\n",
       "\n",
       "    .dataframe tbody tr th {\n",
       "        vertical-align: top;\n",
       "    }\n",
       "\n",
       "    .dataframe thead th {\n",
       "        text-align: right;\n",
       "    }\n",
       "</style>\n",
       "<table border=\"1\" class=\"dataframe\">\n",
       "  <thead>\n",
       "    <tr style=\"text-align: right;\">\n",
       "      <th></th>\n",
       "      <th>CRDataset</th>\n",
       "      <th>MPQADataset</th>\n",
       "      <th>MRDataset</th>\n",
       "      <th>SUBJDataset</th>\n",
       "    </tr>\n",
       "  </thead>\n",
       "  <tbody>\n",
       "    <tr>\n",
       "      <th>constant__None</th>\n",
       "      <td>0.637566</td>\n",
       "      <td>0.688030</td>\n",
       "      <td>0.499531</td>\n",
       "      <td>0.5000</td>\n",
       "    </tr>\n",
       "    <tr>\n",
       "      <th>logistic__None</th>\n",
       "      <td>0.793651</td>\n",
       "      <td>0.832234</td>\n",
       "      <td>0.776945</td>\n",
       "      <td>0.9190</td>\n",
       "    </tr>\n",
       "    <tr>\n",
       "      <th>logistic__tfchi2</th>\n",
       "      <td>0.780423</td>\n",
       "      <td>0.799246</td>\n",
       "      <td>0.687910</td>\n",
       "      <td>0.8450</td>\n",
       "    </tr>\n",
       "    <tr>\n",
       "      <th>logistic__tfgr</th>\n",
       "      <td>0.775132</td>\n",
       "      <td>0.799246</td>\n",
       "      <td>0.690722</td>\n",
       "      <td>0.8460</td>\n",
       "    </tr>\n",
       "    <tr>\n",
       "      <th>logistic__tfidf</th>\n",
       "      <td>0.772487</td>\n",
       "      <td>0.847314</td>\n",
       "      <td>0.754452</td>\n",
       "      <td>0.9210</td>\n",
       "    </tr>\n",
       "    <tr>\n",
       "      <th>logistic__tfig</th>\n",
       "      <td>0.775132</td>\n",
       "      <td>0.799246</td>\n",
       "      <td>0.690722</td>\n",
       "      <td>0.8460</td>\n",
       "    </tr>\n",
       "    <tr>\n",
       "      <th>logistic__tfor</th>\n",
       "      <td>0.796296</td>\n",
       "      <td>0.828464</td>\n",
       "      <td>0.791940</td>\n",
       "      <td>0.9100</td>\n",
       "    </tr>\n",
       "    <tr>\n",
       "      <th>logistic__tfrf</th>\n",
       "      <td>0.756614</td>\n",
       "      <td>0.819039</td>\n",
       "      <td>0.736645</td>\n",
       "      <td>0.8810</td>\n",
       "    </tr>\n",
       "    <tr>\n",
       "      <th>logistic_lsa_None</th>\n",
       "      <td>0.750794</td>\n",
       "      <td>0.741753</td>\n",
       "      <td>0.670853</td>\n",
       "      <td>0.8728</td>\n",
       "    </tr>\n",
       "    <tr>\n",
       "      <th>logistic_lsa_tfchi2</th>\n",
       "      <td>0.780423</td>\n",
       "      <td>0.762300</td>\n",
       "      <td>0.667291</td>\n",
       "      <td>0.8418</td>\n",
       "    </tr>\n",
       "    <tr>\n",
       "      <th>logistic_lsa_tfgr</th>\n",
       "      <td>0.775132</td>\n",
       "      <td>0.763996</td>\n",
       "      <td>0.672165</td>\n",
       "      <td>0.8420</td>\n",
       "    </tr>\n",
       "    <tr>\n",
       "      <th>logistic_lsa_tfidf</th>\n",
       "      <td>0.766138</td>\n",
       "      <td>0.746089</td>\n",
       "      <td>0.687910</td>\n",
       "      <td>0.8880</td>\n",
       "    </tr>\n",
       "    <tr>\n",
       "      <th>logistic_lsa_tfig</th>\n",
       "      <td>0.775132</td>\n",
       "      <td>0.761923</td>\n",
       "      <td>0.670291</td>\n",
       "      <td>0.8420</td>\n",
       "    </tr>\n",
       "    <tr>\n",
       "      <th>logistic_lsa_tfor</th>\n",
       "      <td>0.773545</td>\n",
       "      <td>0.770028</td>\n",
       "      <td>0.743580</td>\n",
       "      <td>0.8866</td>\n",
       "    </tr>\n",
       "    <tr>\n",
       "      <th>logistic_lsa_tfrf</th>\n",
       "      <td>0.728042</td>\n",
       "      <td>0.759849</td>\n",
       "      <td>0.693346</td>\n",
       "      <td>0.8664</td>\n",
       "    </tr>\n",
       "  </tbody>\n",
       "</table>\n",
       "</div>"
      ],
      "text/plain": [
       "                     CRDataset  MPQADataset  MRDataset  SUBJDataset\n",
       "constant__None        0.637566     0.688030   0.499531       0.5000\n",
       "logistic__None        0.793651     0.832234   0.776945       0.9190\n",
       "logistic__tfchi2      0.780423     0.799246   0.687910       0.8450\n",
       "logistic__tfgr        0.775132     0.799246   0.690722       0.8460\n",
       "logistic__tfidf       0.772487     0.847314   0.754452       0.9210\n",
       "logistic__tfig        0.775132     0.799246   0.690722       0.8460\n",
       "logistic__tfor        0.796296     0.828464   0.791940       0.9100\n",
       "logistic__tfrf        0.756614     0.819039   0.736645       0.8810\n",
       "logistic_lsa_None     0.750794     0.741753   0.670853       0.8728\n",
       "logistic_lsa_tfchi2   0.780423     0.762300   0.667291       0.8418\n",
       "logistic_lsa_tfgr     0.775132     0.763996   0.672165       0.8420\n",
       "logistic_lsa_tfidf    0.766138     0.746089   0.687910       0.8880\n",
       "logistic_lsa_tfig     0.775132     0.761923   0.670291       0.8420\n",
       "logistic_lsa_tfor     0.773545     0.770028   0.743580       0.8866\n",
       "logistic_lsa_tfrf     0.728042     0.759849   0.693346       0.8664"
      ]
     },
     "execution_count": 46,
     "metadata": {},
     "output_type": "execute_result"
    }
   ],
   "source": [
    "df"
   ]
  },
  {
   "cell_type": "code",
   "execution_count": null,
   "metadata": {},
   "outputs": [],
   "source": []
  },
  {
   "cell_type": "code",
   "execution_count": null,
   "metadata": {},
   "outputs": [],
   "source": []
  }
 ],
 "metadata": {
  "kernelspec": {
   "display_name": "diplomka",
   "language": "python",
   "name": "diplomka"
  },
  "language_info": {
   "codemirror_mode": {
    "name": "ipython",
    "version": 3
   },
   "file_extension": ".py",
   "mimetype": "text/x-python",
   "name": "python",
   "nbconvert_exporter": "python",
   "pygments_lexer": "ipython3",
   "version": "3.5.2"
  }
 },
 "nbformat": 4,
 "nbformat_minor": 2
}
