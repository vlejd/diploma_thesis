{
 "cells": [
  {
   "cell_type": "code",
   "execution_count": 105,
   "metadata": {},
   "outputs": [
    {
     "name": "stdout",
     "output_type": "stream",
     "text": [
      "The autoreload extension is already loaded. To reload it, use:\n",
      "  %reload_ext autoreload\n"
     ]
    }
   ],
   "source": [
    "%load_ext autoreload\n",
    "%autoreload 2\n",
    "%matplotlib inline\n",
    "\n",
    "import dill\n",
    "from IPython.core import display as ICD  # to print multiple nice pandas tables\n",
    "import json\n",
    "import logging\n",
    "import matplotlib.pyplot as plt\n",
    "import numpy as np\n",
    "import pandas as pd\n",
    "import pickle\n",
    "import seaborn as sns\n",
    "import tqdm\n",
    "from tqdm import tqdm_notebook, tnrange\n",
    "sns.set()"
   ]
  },
  {
   "cell_type": "code",
   "execution_count": 106,
   "metadata": {},
   "outputs": [],
   "source": [
    "import datasets\n",
    "import classify\n",
    "from simple_model import SimpleModel\n",
    "from testing import test_simple_model"
   ]
  },
  {
   "cell_type": "code",
   "execution_count": 107,
   "metadata": {},
   "outputs": [],
   "source": [
    "from collections import defaultdict\n",
    "results = defaultdict(dict)\n",
    "dump = defaultdict(dict)"
   ]
  },
  {
   "cell_type": "markdown",
   "metadata": {},
   "source": [
    "# Constant classifier"
   ]
  },
  {
   "cell_type": "code",
   "execution_count": 108,
   "metadata": {
    "scrolled": true
   },
   "outputs": [
    {
     "data": {
      "application/vnd.jupyter.widget-view+json": {
       "model_id": "bbc9229eba984a829e49f5fc1b28e548",
       "version_major": 2,
       "version_minor": 0
      },
      "text/html": [
       "<p>Failed to display Jupyter Widget of type <code>HBox</code>.</p>\n",
       "<p>\n",
       "  If you're reading this message in the Jupyter Notebook or JupyterLab Notebook, it may mean\n",
       "  that the widgets JavaScript is still loading. If this message persists, it\n",
       "  likely means that the widgets JavaScript library is either not installed or\n",
       "  not enabled. See the <a href=\"https://ipywidgets.readthedocs.io/en/stable/user_install.html\">Jupyter\n",
       "  Widgets Documentation</a> for setup instructions.\n",
       "</p>\n",
       "<p>\n",
       "  If you're reading this message in another frontend (for example, a static\n",
       "  rendering on GitHub or <a href=\"https://nbviewer.jupyter.org/\">NBViewer</a>),\n",
       "  it may mean that your frontend doesn't currently support widgets.\n",
       "</p>\n"
      ],
      "text/plain": [
       "HBox(children=(IntProgress(value=0, max=1), HTML(value='')))"
      ]
     },
     "metadata": {},
     "output_type": "display_data"
    },
    {
     "name": "stdout",
     "output_type": "stream",
     "text": [
      "\n",
      "CRDataset\n",
      "Train precision 0.6376214306741242 0.6376214306741242 0.6376214306741242\n",
      "Test precision 0.6375661375661376 0.6375661375661376 0.6375661375661376\n"
     ]
    },
    {
     "data": {
      "application/vnd.jupyter.widget-view+json": {
       "model_id": "8199a705e289465e9eb48a742b80393f",
       "version_major": 2,
       "version_minor": 0
      },
      "text/html": [
       "<p>Failed to display Jupyter Widget of type <code>HBox</code>.</p>\n",
       "<p>\n",
       "  If you're reading this message in the Jupyter Notebook or JupyterLab Notebook, it may mean\n",
       "  that the widgets JavaScript is still loading. If this message persists, it\n",
       "  likely means that the widgets JavaScript library is either not installed or\n",
       "  not enabled. See the <a href=\"https://ipywidgets.readthedocs.io/en/stable/user_install.html\">Jupyter\n",
       "  Widgets Documentation</a> for setup instructions.\n",
       "</p>\n",
       "<p>\n",
       "  If you're reading this message in another frontend (for example, a static\n",
       "  rendering on GitHub or <a href=\"https://nbviewer.jupyter.org/\">NBViewer</a>),\n",
       "  it may mean that your frontend doesn't currently support widgets.\n",
       "</p>\n"
      ],
      "text/plain": [
       "HBox(children=(IntProgress(value=0, max=1), HTML(value='')))"
      ]
     },
     "metadata": {},
     "output_type": "display_data"
    },
    {
     "name": "stdout",
     "output_type": "stream",
     "text": [
      "\n",
      "CRDataset\n",
      "Train precision 0.6376214306741242 0.6376214306741242 0.6376214306741242\n",
      "Test precision 0.6375661375661376 0.6375661375661376 0.6375661375661376\n"
     ]
    },
    {
     "data": {
      "application/vnd.jupyter.widget-view+json": {
       "model_id": "f0c77c1cb38d4b9f9197a121dbc71f51",
       "version_major": 2,
       "version_minor": 0
      },
      "text/html": [
       "<p>Failed to display Jupyter Widget of type <code>HBox</code>.</p>\n",
       "<p>\n",
       "  If you're reading this message in the Jupyter Notebook or JupyterLab Notebook, it may mean\n",
       "  that the widgets JavaScript is still loading. If this message persists, it\n",
       "  likely means that the widgets JavaScript library is either not installed or\n",
       "  not enabled. See the <a href=\"https://ipywidgets.readthedocs.io/en/stable/user_install.html\">Jupyter\n",
       "  Widgets Documentation</a> for setup instructions.\n",
       "</p>\n",
       "<p>\n",
       "  If you're reading this message in another frontend (for example, a static\n",
       "  rendering on GitHub or <a href=\"https://nbviewer.jupyter.org/\">NBViewer</a>),\n",
       "  it may mean that your frontend doesn't currently support widgets.\n",
       "</p>\n"
      ],
      "text/plain": [
       "HBox(children=(IntProgress(value=0, max=1), HTML(value='')))"
      ]
     },
     "metadata": {},
     "output_type": "display_data"
    },
    {
     "name": "stdout",
     "output_type": "stream",
     "text": [
      "\n",
      "CRDataset\n",
      "Train precision 0.6376214306741242 0.6376214306741242 0.6376214306741242\n",
      "Test precision 0.6375661375661376 0.6375661375661376 0.6375661375661376\n"
     ]
    },
    {
     "data": {
      "application/vnd.jupyter.widget-view+json": {
       "model_id": "e142ca84248744c6af2a279b03947c1d",
       "version_major": 2,
       "version_minor": 0
      },
      "text/html": [
       "<p>Failed to display Jupyter Widget of type <code>HBox</code>.</p>\n",
       "<p>\n",
       "  If you're reading this message in the Jupyter Notebook or JupyterLab Notebook, it may mean\n",
       "  that the widgets JavaScript is still loading. If this message persists, it\n",
       "  likely means that the widgets JavaScript library is either not installed or\n",
       "  not enabled. See the <a href=\"https://ipywidgets.readthedocs.io/en/stable/user_install.html\">Jupyter\n",
       "  Widgets Documentation</a> for setup instructions.\n",
       "</p>\n",
       "<p>\n",
       "  If you're reading this message in another frontend (for example, a static\n",
       "  rendering on GitHub or <a href=\"https://nbviewer.jupyter.org/\">NBViewer</a>),\n",
       "  it may mean that your frontend doesn't currently support widgets.\n",
       "</p>\n"
      ],
      "text/plain": [
       "HBox(children=(IntProgress(value=0, max=1), HTML(value='')))"
      ]
     },
     "metadata": {},
     "output_type": "display_data"
    },
    {
     "name": "stdout",
     "output_type": "stream",
     "text": [
      "\n",
      "CRDataset\n",
      "Train precision 0.6376214306741242 0.6376214306741242 0.6376214306741242\n",
      "Test precision 0.6375661375661376 0.6375661375661376 0.6375661375661376\n"
     ]
    },
    {
     "data": {
      "application/vnd.jupyter.widget-view+json": {
       "model_id": "ae760845a42b48f5b13bea1d23a0e7f9",
       "version_major": 2,
       "version_minor": 0
      },
      "text/html": [
       "<p>Failed to display Jupyter Widget of type <code>HBox</code>.</p>\n",
       "<p>\n",
       "  If you're reading this message in the Jupyter Notebook or JupyterLab Notebook, it may mean\n",
       "  that the widgets JavaScript is still loading. If this message persists, it\n",
       "  likely means that the widgets JavaScript library is either not installed or\n",
       "  not enabled. See the <a href=\"https://ipywidgets.readthedocs.io/en/stable/user_install.html\">Jupyter\n",
       "  Widgets Documentation</a> for setup instructions.\n",
       "</p>\n",
       "<p>\n",
       "  If you're reading this message in another frontend (for example, a static\n",
       "  rendering on GitHub or <a href=\"https://nbviewer.jupyter.org/\">NBViewer</a>),\n",
       "  it may mean that your frontend doesn't currently support widgets.\n",
       "</p>\n"
      ],
      "text/plain": [
       "HBox(children=(IntProgress(value=0, max=1), HTML(value='')))"
      ]
     },
     "metadata": {},
     "output_type": "display_data"
    },
    {
     "name": "stdout",
     "output_type": "stream",
     "text": [
      "\n",
      "CRDataset\n",
      "Train precision 0.6376214306741242 0.6376214306741242 0.6376214306741242\n",
      "Test precision 0.6375661375661376 0.6375661375661376 0.6375661375661376\n"
     ]
    },
    {
     "data": {
      "application/vnd.jupyter.widget-view+json": {
       "model_id": "66e8022ba0c64c668e450bc996151957",
       "version_major": 2,
       "version_minor": 0
      },
      "text/html": [
       "<p>Failed to display Jupyter Widget of type <code>HBox</code>.</p>\n",
       "<p>\n",
       "  If you're reading this message in the Jupyter Notebook or JupyterLab Notebook, it may mean\n",
       "  that the widgets JavaScript is still loading. If this message persists, it\n",
       "  likely means that the widgets JavaScript library is either not installed or\n",
       "  not enabled. See the <a href=\"https://ipywidgets.readthedocs.io/en/stable/user_install.html\">Jupyter\n",
       "  Widgets Documentation</a> for setup instructions.\n",
       "</p>\n",
       "<p>\n",
       "  If you're reading this message in another frontend (for example, a static\n",
       "  rendering on GitHub or <a href=\"https://nbviewer.jupyter.org/\">NBViewer</a>),\n",
       "  it may mean that your frontend doesn't currently support widgets.\n",
       "</p>\n"
      ],
      "text/plain": [
       "HBox(children=(IntProgress(value=0, max=1), HTML(value='')))"
      ]
     },
     "metadata": {},
     "output_type": "display_data"
    },
    {
     "name": "stdout",
     "output_type": "stream",
     "text": [
      "\n",
      "CRDataset\n",
      "Train precision 0.6376214306741242 0.6376214306741242 0.6376214306741242\n",
      "Test precision 0.6375661375661376 0.6375661375661376 0.6375661375661376\n"
     ]
    },
    {
     "data": {
      "application/vnd.jupyter.widget-view+json": {
       "model_id": "526632493bc4406c8c051d937f3f147c",
       "version_major": 2,
       "version_minor": 0
      },
      "text/html": [
       "<p>Failed to display Jupyter Widget of type <code>HBox</code>.</p>\n",
       "<p>\n",
       "  If you're reading this message in the Jupyter Notebook or JupyterLab Notebook, it may mean\n",
       "  that the widgets JavaScript is still loading. If this message persists, it\n",
       "  likely means that the widgets JavaScript library is either not installed or\n",
       "  not enabled. See the <a href=\"https://ipywidgets.readthedocs.io/en/stable/user_install.html\">Jupyter\n",
       "  Widgets Documentation</a> for setup instructions.\n",
       "</p>\n",
       "<p>\n",
       "  If you're reading this message in another frontend (for example, a static\n",
       "  rendering on GitHub or <a href=\"https://nbviewer.jupyter.org/\">NBViewer</a>),\n",
       "  it may mean that your frontend doesn't currently support widgets.\n",
       "</p>\n"
      ],
      "text/plain": [
       "HBox(children=(IntProgress(value=0, max=1), HTML(value='')))"
      ]
     },
     "metadata": {},
     "output_type": "display_data"
    },
    {
     "name": "stdout",
     "output_type": "stream",
     "text": [
      "\n",
      "CRDataset\n",
      "Train precision 0.6376214306741242 0.6376214306741242 0.6376214306741242\n",
      "Test precision 0.6375661375661376 0.6375661375661376 0.6375661375661376\n"
     ]
    },
    {
     "data": {
      "application/vnd.jupyter.widget-view+json": {
       "model_id": "be654f67391e43b3b863a9da42d1563a",
       "version_major": 2,
       "version_minor": 0
      },
      "text/html": [
       "<p>Failed to display Jupyter Widget of type <code>HBox</code>.</p>\n",
       "<p>\n",
       "  If you're reading this message in the Jupyter Notebook or JupyterLab Notebook, it may mean\n",
       "  that the widgets JavaScript is still loading. If this message persists, it\n",
       "  likely means that the widgets JavaScript library is either not installed or\n",
       "  not enabled. See the <a href=\"https://ipywidgets.readthedocs.io/en/stable/user_install.html\">Jupyter\n",
       "  Widgets Documentation</a> for setup instructions.\n",
       "</p>\n",
       "<p>\n",
       "  If you're reading this message in another frontend (for example, a static\n",
       "  rendering on GitHub or <a href=\"https://nbviewer.jupyter.org/\">NBViewer</a>),\n",
       "  it may mean that your frontend doesn't currently support widgets.\n",
       "</p>\n"
      ],
      "text/plain": [
       "HBox(children=(IntProgress(value=0, max=1), HTML(value='')))"
      ]
     },
     "metadata": {},
     "output_type": "display_data"
    },
    {
     "name": "stdout",
     "output_type": "stream",
     "text": [
      "\n",
      "CRDataset\n",
      "Train precision 0.6376214306741242 0.6376214306741242 0.6376214306741242\n",
      "Test precision 0.6375661375661376 0.6375661375661376 0.6375661375661376\n"
     ]
    },
    {
     "data": {
      "application/vnd.jupyter.widget-view+json": {
       "model_id": "0e41e315e35a4a0b883a9e89f78b61a2",
       "version_major": 2,
       "version_minor": 0
      },
      "text/html": [
       "<p>Failed to display Jupyter Widget of type <code>HBox</code>.</p>\n",
       "<p>\n",
       "  If you're reading this message in the Jupyter Notebook or JupyterLab Notebook, it may mean\n",
       "  that the widgets JavaScript is still loading. If this message persists, it\n",
       "  likely means that the widgets JavaScript library is either not installed or\n",
       "  not enabled. See the <a href=\"https://ipywidgets.readthedocs.io/en/stable/user_install.html\">Jupyter\n",
       "  Widgets Documentation</a> for setup instructions.\n",
       "</p>\n",
       "<p>\n",
       "  If you're reading this message in another frontend (for example, a static\n",
       "  rendering on GitHub or <a href=\"https://nbviewer.jupyter.org/\">NBViewer</a>),\n",
       "  it may mean that your frontend doesn't currently support widgets.\n",
       "</p>\n"
      ],
      "text/plain": [
       "HBox(children=(IntProgress(value=0, max=1), HTML(value='')))"
      ]
     },
     "metadata": {},
     "output_type": "display_data"
    },
    {
     "name": "stdout",
     "output_type": "stream",
     "text": [
      "\n",
      "MRDataset\n",
      "Train precision 0.5000521104742053 0.5000521104742053 0.5000521104742053\n",
      "Test precision 0.4995313964386129 0.4995313964386129 0.4995313964386129\n"
     ]
    },
    {
     "data": {
      "application/vnd.jupyter.widget-view+json": {
       "model_id": "e0ea9a8a08ff43629ebb5a40411316d8",
       "version_major": 2,
       "version_minor": 0
      },
      "text/html": [
       "<p>Failed to display Jupyter Widget of type <code>HBox</code>.</p>\n",
       "<p>\n",
       "  If you're reading this message in the Jupyter Notebook or JupyterLab Notebook, it may mean\n",
       "  that the widgets JavaScript is still loading. If this message persists, it\n",
       "  likely means that the widgets JavaScript library is either not installed or\n",
       "  not enabled. See the <a href=\"https://ipywidgets.readthedocs.io/en/stable/user_install.html\">Jupyter\n",
       "  Widgets Documentation</a> for setup instructions.\n",
       "</p>\n",
       "<p>\n",
       "  If you're reading this message in another frontend (for example, a static\n",
       "  rendering on GitHub or <a href=\"https://nbviewer.jupyter.org/\">NBViewer</a>),\n",
       "  it may mean that your frontend doesn't currently support widgets.\n",
       "</p>\n"
      ],
      "text/plain": [
       "HBox(children=(IntProgress(value=0, max=1), HTML(value='')))"
      ]
     },
     "metadata": {},
     "output_type": "display_data"
    },
    {
     "name": "stdout",
     "output_type": "stream",
     "text": [
      "\n",
      "MRDataset\n",
      "Train precision 0.5000521104742053 0.5000521104742053 0.5000521104742053\n",
      "Test precision 0.4995313964386129 0.4995313964386129 0.4995313964386129\n"
     ]
    },
    {
     "data": {
      "application/vnd.jupyter.widget-view+json": {
       "model_id": "bd0ea836e9ae4c138ed911e9d52c631c",
       "version_major": 2,
       "version_minor": 0
      },
      "text/html": [
       "<p>Failed to display Jupyter Widget of type <code>HBox</code>.</p>\n",
       "<p>\n",
       "  If you're reading this message in the Jupyter Notebook or JupyterLab Notebook, it may mean\n",
       "  that the widgets JavaScript is still loading. If this message persists, it\n",
       "  likely means that the widgets JavaScript library is either not installed or\n",
       "  not enabled. See the <a href=\"https://ipywidgets.readthedocs.io/en/stable/user_install.html\">Jupyter\n",
       "  Widgets Documentation</a> for setup instructions.\n",
       "</p>\n",
       "<p>\n",
       "  If you're reading this message in another frontend (for example, a static\n",
       "  rendering on GitHub or <a href=\"https://nbviewer.jupyter.org/\">NBViewer</a>),\n",
       "  it may mean that your frontend doesn't currently support widgets.\n",
       "</p>\n"
      ],
      "text/plain": [
       "HBox(children=(IntProgress(value=0, max=1), HTML(value='')))"
      ]
     },
     "metadata": {},
     "output_type": "display_data"
    },
    {
     "name": "stdout",
     "output_type": "stream",
     "text": [
      "\n",
      "MRDataset\n",
      "Train precision 0.5000521104742053 0.5000521104742053 0.5000521104742053\n",
      "Test precision 0.4995313964386129 0.4995313964386129 0.4995313964386129\n"
     ]
    },
    {
     "data": {
      "application/vnd.jupyter.widget-view+json": {
       "model_id": "22db6e8e7b9d41f7b25569f89cc3a936",
       "version_major": 2,
       "version_minor": 0
      },
      "text/html": [
       "<p>Failed to display Jupyter Widget of type <code>HBox</code>.</p>\n",
       "<p>\n",
       "  If you're reading this message in the Jupyter Notebook or JupyterLab Notebook, it may mean\n",
       "  that the widgets JavaScript is still loading. If this message persists, it\n",
       "  likely means that the widgets JavaScript library is either not installed or\n",
       "  not enabled. See the <a href=\"https://ipywidgets.readthedocs.io/en/stable/user_install.html\">Jupyter\n",
       "  Widgets Documentation</a> for setup instructions.\n",
       "</p>\n",
       "<p>\n",
       "  If you're reading this message in another frontend (for example, a static\n",
       "  rendering on GitHub or <a href=\"https://nbviewer.jupyter.org/\">NBViewer</a>),\n",
       "  it may mean that your frontend doesn't currently support widgets.\n",
       "</p>\n"
      ],
      "text/plain": [
       "HBox(children=(IntProgress(value=0, max=1), HTML(value='')))"
      ]
     },
     "metadata": {},
     "output_type": "display_data"
    },
    {
     "name": "stdout",
     "output_type": "stream",
     "text": [
      "\n",
      "MRDataset\n",
      "Train precision 0.5000521104742053 0.5000521104742053 0.5000521104742053\n",
      "Test precision 0.4995313964386129 0.4995313964386129 0.4995313964386129\n"
     ]
    },
    {
     "data": {
      "application/vnd.jupyter.widget-view+json": {
       "model_id": "b08180f22fdc42fca3c209dfd7ed5af7",
       "version_major": 2,
       "version_minor": 0
      },
      "text/html": [
       "<p>Failed to display Jupyter Widget of type <code>HBox</code>.</p>\n",
       "<p>\n",
       "  If you're reading this message in the Jupyter Notebook or JupyterLab Notebook, it may mean\n",
       "  that the widgets JavaScript is still loading. If this message persists, it\n",
       "  likely means that the widgets JavaScript library is either not installed or\n",
       "  not enabled. See the <a href=\"https://ipywidgets.readthedocs.io/en/stable/user_install.html\">Jupyter\n",
       "  Widgets Documentation</a> for setup instructions.\n",
       "</p>\n",
       "<p>\n",
       "  If you're reading this message in another frontend (for example, a static\n",
       "  rendering on GitHub or <a href=\"https://nbviewer.jupyter.org/\">NBViewer</a>),\n",
       "  it may mean that your frontend doesn't currently support widgets.\n",
       "</p>\n"
      ],
      "text/plain": [
       "HBox(children=(IntProgress(value=0, max=1), HTML(value='')))"
      ]
     },
     "metadata": {},
     "output_type": "display_data"
    },
    {
     "name": "stdout",
     "output_type": "stream",
     "text": [
      "\n",
      "MRDataset\n",
      "Train precision 0.5000521104742053 0.5000521104742053 0.5000521104742053\n",
      "Test precision 0.4995313964386129 0.4995313964386129 0.4995313964386129\n"
     ]
    },
    {
     "data": {
      "application/vnd.jupyter.widget-view+json": {
       "model_id": "c5469bf8034b4d3ea4eed8807ea60fbb",
       "version_major": 2,
       "version_minor": 0
      },
      "text/html": [
       "<p>Failed to display Jupyter Widget of type <code>HBox</code>.</p>\n",
       "<p>\n",
       "  If you're reading this message in the Jupyter Notebook or JupyterLab Notebook, it may mean\n",
       "  that the widgets JavaScript is still loading. If this message persists, it\n",
       "  likely means that the widgets JavaScript library is either not installed or\n",
       "  not enabled. See the <a href=\"https://ipywidgets.readthedocs.io/en/stable/user_install.html\">Jupyter\n",
       "  Widgets Documentation</a> for setup instructions.\n",
       "</p>\n",
       "<p>\n",
       "  If you're reading this message in another frontend (for example, a static\n",
       "  rendering on GitHub or <a href=\"https://nbviewer.jupyter.org/\">NBViewer</a>),\n",
       "  it may mean that your frontend doesn't currently support widgets.\n",
       "</p>\n"
      ],
      "text/plain": [
       "HBox(children=(IntProgress(value=0, max=1), HTML(value='')))"
      ]
     },
     "metadata": {},
     "output_type": "display_data"
    },
    {
     "name": "stdout",
     "output_type": "stream",
     "text": [
      "\n",
      "MRDataset\n",
      "Train precision 0.5000521104742053 0.5000521104742053 0.5000521104742053\n",
      "Test precision 0.4995313964386129 0.4995313964386129 0.4995313964386129\n"
     ]
    },
    {
     "data": {
      "application/vnd.jupyter.widget-view+json": {
       "model_id": "cf5110d2eab94c08a939568b648e681c",
       "version_major": 2,
       "version_minor": 0
      },
      "text/html": [
       "<p>Failed to display Jupyter Widget of type <code>HBox</code>.</p>\n",
       "<p>\n",
       "  If you're reading this message in the Jupyter Notebook or JupyterLab Notebook, it may mean\n",
       "  that the widgets JavaScript is still loading. If this message persists, it\n",
       "  likely means that the widgets JavaScript library is either not installed or\n",
       "  not enabled. See the <a href=\"https://ipywidgets.readthedocs.io/en/stable/user_install.html\">Jupyter\n",
       "  Widgets Documentation</a> for setup instructions.\n",
       "</p>\n",
       "<p>\n",
       "  If you're reading this message in another frontend (for example, a static\n",
       "  rendering on GitHub or <a href=\"https://nbviewer.jupyter.org/\">NBViewer</a>),\n",
       "  it may mean that your frontend doesn't currently support widgets.\n",
       "</p>\n"
      ],
      "text/plain": [
       "HBox(children=(IntProgress(value=0, max=1), HTML(value='')))"
      ]
     },
     "metadata": {},
     "output_type": "display_data"
    },
    {
     "name": "stdout",
     "output_type": "stream",
     "text": [
      "\n",
      "MRDataset\n",
      "Train precision 0.5000521104742053 0.5000521104742053 0.5000521104742053\n",
      "Test precision 0.4995313964386129 0.4995313964386129 0.4995313964386129\n"
     ]
    },
    {
     "data": {
      "application/vnd.jupyter.widget-view+json": {
       "model_id": "8af68002f29d46b6b9bf8ba786b085f7",
       "version_major": 2,
       "version_minor": 0
      },
      "text/html": [
       "<p>Failed to display Jupyter Widget of type <code>HBox</code>.</p>\n",
       "<p>\n",
       "  If you're reading this message in the Jupyter Notebook or JupyterLab Notebook, it may mean\n",
       "  that the widgets JavaScript is still loading. If this message persists, it\n",
       "  likely means that the widgets JavaScript library is either not installed or\n",
       "  not enabled. See the <a href=\"https://ipywidgets.readthedocs.io/en/stable/user_install.html\">Jupyter\n",
       "  Widgets Documentation</a> for setup instructions.\n",
       "</p>\n",
       "<p>\n",
       "  If you're reading this message in another frontend (for example, a static\n",
       "  rendering on GitHub or <a href=\"https://nbviewer.jupyter.org/\">NBViewer</a>),\n",
       "  it may mean that your frontend doesn't currently support widgets.\n",
       "</p>\n"
      ],
      "text/plain": [
       "HBox(children=(IntProgress(value=0, max=1), HTML(value='')))"
      ]
     },
     "metadata": {},
     "output_type": "display_data"
    },
    {
     "name": "stdout",
     "output_type": "stream",
     "text": [
      "\n",
      "MRDataset\n",
      "Train precision 0.5000521104742053 0.5000521104742053 0.5000521104742053\n",
      "Test precision 0.4995313964386129 0.4995313964386129 0.4995313964386129\n"
     ]
    },
    {
     "data": {
      "application/vnd.jupyter.widget-view+json": {
       "model_id": "b1e71f8f718d40769a18ac0addcedd34",
       "version_major": 2,
       "version_minor": 0
      },
      "text/html": [
       "<p>Failed to display Jupyter Widget of type <code>HBox</code>.</p>\n",
       "<p>\n",
       "  If you're reading this message in the Jupyter Notebook or JupyterLab Notebook, it may mean\n",
       "  that the widgets JavaScript is still loading. If this message persists, it\n",
       "  likely means that the widgets JavaScript library is either not installed or\n",
       "  not enabled. See the <a href=\"https://ipywidgets.readthedocs.io/en/stable/user_install.html\">Jupyter\n",
       "  Widgets Documentation</a> for setup instructions.\n",
       "</p>\n",
       "<p>\n",
       "  If you're reading this message in another frontend (for example, a static\n",
       "  rendering on GitHub or <a href=\"https://nbviewer.jupyter.org/\">NBViewer</a>),\n",
       "  it may mean that your frontend doesn't currently support widgets.\n",
       "</p>\n"
      ],
      "text/plain": [
       "HBox(children=(IntProgress(value=0, max=1), HTML(value='')))"
      ]
     },
     "metadata": {},
     "output_type": "display_data"
    },
    {
     "name": "stdout",
     "output_type": "stream",
     "text": [
      "\n",
      "SUBJDataset\n",
      "Train precision 0.5 0.5 0.5\n",
      "Test precision 0.5 0.5 0.5\n"
     ]
    },
    {
     "data": {
      "application/vnd.jupyter.widget-view+json": {
       "model_id": "7566fe0fb4f74a3b9661c2d7edfe7055",
       "version_major": 2,
       "version_minor": 0
      },
      "text/html": [
       "<p>Failed to display Jupyter Widget of type <code>HBox</code>.</p>\n",
       "<p>\n",
       "  If you're reading this message in the Jupyter Notebook or JupyterLab Notebook, it may mean\n",
       "  that the widgets JavaScript is still loading. If this message persists, it\n",
       "  likely means that the widgets JavaScript library is either not installed or\n",
       "  not enabled. See the <a href=\"https://ipywidgets.readthedocs.io/en/stable/user_install.html\">Jupyter\n",
       "  Widgets Documentation</a> for setup instructions.\n",
       "</p>\n",
       "<p>\n",
       "  If you're reading this message in another frontend (for example, a static\n",
       "  rendering on GitHub or <a href=\"https://nbviewer.jupyter.org/\">NBViewer</a>),\n",
       "  it may mean that your frontend doesn't currently support widgets.\n",
       "</p>\n"
      ],
      "text/plain": [
       "HBox(children=(IntProgress(value=0, max=1), HTML(value='')))"
      ]
     },
     "metadata": {},
     "output_type": "display_data"
    },
    {
     "name": "stdout",
     "output_type": "stream",
     "text": [
      "\n",
      "SUBJDataset\n",
      "Train precision 0.5 0.5 0.5\n",
      "Test precision 0.5 0.5 0.5\n"
     ]
    },
    {
     "data": {
      "application/vnd.jupyter.widget-view+json": {
       "model_id": "62b61da376c44b7782e8a6b19b278fb3",
       "version_major": 2,
       "version_minor": 0
      },
      "text/html": [
       "<p>Failed to display Jupyter Widget of type <code>HBox</code>.</p>\n",
       "<p>\n",
       "  If you're reading this message in the Jupyter Notebook or JupyterLab Notebook, it may mean\n",
       "  that the widgets JavaScript is still loading. If this message persists, it\n",
       "  likely means that the widgets JavaScript library is either not installed or\n",
       "  not enabled. See the <a href=\"https://ipywidgets.readthedocs.io/en/stable/user_install.html\">Jupyter\n",
       "  Widgets Documentation</a> for setup instructions.\n",
       "</p>\n",
       "<p>\n",
       "  If you're reading this message in another frontend (for example, a static\n",
       "  rendering on GitHub or <a href=\"https://nbviewer.jupyter.org/\">NBViewer</a>),\n",
       "  it may mean that your frontend doesn't currently support widgets.\n",
       "</p>\n"
      ],
      "text/plain": [
       "HBox(children=(IntProgress(value=0, max=1), HTML(value='')))"
      ]
     },
     "metadata": {},
     "output_type": "display_data"
    },
    {
     "name": "stdout",
     "output_type": "stream",
     "text": [
      "\n",
      "SUBJDataset\n",
      "Train precision 0.5 0.5 0.5\n",
      "Test precision 0.5 0.5 0.5\n"
     ]
    },
    {
     "data": {
      "application/vnd.jupyter.widget-view+json": {
       "model_id": "7354851f57384b50b3a3d5469b220e09",
       "version_major": 2,
       "version_minor": 0
      },
      "text/html": [
       "<p>Failed to display Jupyter Widget of type <code>HBox</code>.</p>\n",
       "<p>\n",
       "  If you're reading this message in the Jupyter Notebook or JupyterLab Notebook, it may mean\n",
       "  that the widgets JavaScript is still loading. If this message persists, it\n",
       "  likely means that the widgets JavaScript library is either not installed or\n",
       "  not enabled. See the <a href=\"https://ipywidgets.readthedocs.io/en/stable/user_install.html\">Jupyter\n",
       "  Widgets Documentation</a> for setup instructions.\n",
       "</p>\n",
       "<p>\n",
       "  If you're reading this message in another frontend (for example, a static\n",
       "  rendering on GitHub or <a href=\"https://nbviewer.jupyter.org/\">NBViewer</a>),\n",
       "  it may mean that your frontend doesn't currently support widgets.\n",
       "</p>\n"
      ],
      "text/plain": [
       "HBox(children=(IntProgress(value=0, max=1), HTML(value='')))"
      ]
     },
     "metadata": {},
     "output_type": "display_data"
    },
    {
     "name": "stdout",
     "output_type": "stream",
     "text": [
      "\n",
      "SUBJDataset\n",
      "Train precision 0.5 0.5 0.5\n",
      "Test precision 0.5 0.5 0.5\n"
     ]
    },
    {
     "data": {
      "application/vnd.jupyter.widget-view+json": {
       "model_id": "343c13aa454d402ca705220c4c948f42",
       "version_major": 2,
       "version_minor": 0
      },
      "text/html": [
       "<p>Failed to display Jupyter Widget of type <code>HBox</code>.</p>\n",
       "<p>\n",
       "  If you're reading this message in the Jupyter Notebook or JupyterLab Notebook, it may mean\n",
       "  that the widgets JavaScript is still loading. If this message persists, it\n",
       "  likely means that the widgets JavaScript library is either not installed or\n",
       "  not enabled. See the <a href=\"https://ipywidgets.readthedocs.io/en/stable/user_install.html\">Jupyter\n",
       "  Widgets Documentation</a> for setup instructions.\n",
       "</p>\n",
       "<p>\n",
       "  If you're reading this message in another frontend (for example, a static\n",
       "  rendering on GitHub or <a href=\"https://nbviewer.jupyter.org/\">NBViewer</a>),\n",
       "  it may mean that your frontend doesn't currently support widgets.\n",
       "</p>\n"
      ],
      "text/plain": [
       "HBox(children=(IntProgress(value=0, max=1), HTML(value='')))"
      ]
     },
     "metadata": {},
     "output_type": "display_data"
    },
    {
     "name": "stdout",
     "output_type": "stream",
     "text": [
      "\n",
      "SUBJDataset\n",
      "Train precision 0.5 0.5 0.5\n",
      "Test precision 0.5 0.5 0.5\n"
     ]
    },
    {
     "data": {
      "application/vnd.jupyter.widget-view+json": {
       "model_id": "8ad4bc6c958e4b9ca8461241c899c563",
       "version_major": 2,
       "version_minor": 0
      },
      "text/html": [
       "<p>Failed to display Jupyter Widget of type <code>HBox</code>.</p>\n",
       "<p>\n",
       "  If you're reading this message in the Jupyter Notebook or JupyterLab Notebook, it may mean\n",
       "  that the widgets JavaScript is still loading. If this message persists, it\n",
       "  likely means that the widgets JavaScript library is either not installed or\n",
       "  not enabled. See the <a href=\"https://ipywidgets.readthedocs.io/en/stable/user_install.html\">Jupyter\n",
       "  Widgets Documentation</a> for setup instructions.\n",
       "</p>\n",
       "<p>\n",
       "  If you're reading this message in another frontend (for example, a static\n",
       "  rendering on GitHub or <a href=\"https://nbviewer.jupyter.org/\">NBViewer</a>),\n",
       "  it may mean that your frontend doesn't currently support widgets.\n",
       "</p>\n"
      ],
      "text/plain": [
       "HBox(children=(IntProgress(value=0, max=1), HTML(value='')))"
      ]
     },
     "metadata": {},
     "output_type": "display_data"
    },
    {
     "name": "stdout",
     "output_type": "stream",
     "text": [
      "\n",
      "SUBJDataset\n",
      "Train precision 0.5 0.5 0.5\n",
      "Test precision 0.5 0.5 0.5\n"
     ]
    },
    {
     "data": {
      "application/vnd.jupyter.widget-view+json": {
       "model_id": "3dc25d5b235847e7b6365a2508c81154",
       "version_major": 2,
       "version_minor": 0
      },
      "text/html": [
       "<p>Failed to display Jupyter Widget of type <code>HBox</code>.</p>\n",
       "<p>\n",
       "  If you're reading this message in the Jupyter Notebook or JupyterLab Notebook, it may mean\n",
       "  that the widgets JavaScript is still loading. If this message persists, it\n",
       "  likely means that the widgets JavaScript library is either not installed or\n",
       "  not enabled. See the <a href=\"https://ipywidgets.readthedocs.io/en/stable/user_install.html\">Jupyter\n",
       "  Widgets Documentation</a> for setup instructions.\n",
       "</p>\n",
       "<p>\n",
       "  If you're reading this message in another frontend (for example, a static\n",
       "  rendering on GitHub or <a href=\"https://nbviewer.jupyter.org/\">NBViewer</a>),\n",
       "  it may mean that your frontend doesn't currently support widgets.\n",
       "</p>\n"
      ],
      "text/plain": [
       "HBox(children=(IntProgress(value=0, max=1), HTML(value='')))"
      ]
     },
     "metadata": {},
     "output_type": "display_data"
    },
    {
     "name": "stdout",
     "output_type": "stream",
     "text": [
      "\n",
      "SUBJDataset\n",
      "Train precision 0.5 0.5 0.5\n",
      "Test precision 0.5 0.5 0.5\n"
     ]
    },
    {
     "data": {
      "application/vnd.jupyter.widget-view+json": {
       "model_id": "25b98692dcfc4ee7b6193379c37f892e",
       "version_major": 2,
       "version_minor": 0
      },
      "text/html": [
       "<p>Failed to display Jupyter Widget of type <code>HBox</code>.</p>\n",
       "<p>\n",
       "  If you're reading this message in the Jupyter Notebook or JupyterLab Notebook, it may mean\n",
       "  that the widgets JavaScript is still loading. If this message persists, it\n",
       "  likely means that the widgets JavaScript library is either not installed or\n",
       "  not enabled. See the <a href=\"https://ipywidgets.readthedocs.io/en/stable/user_install.html\">Jupyter\n",
       "  Widgets Documentation</a> for setup instructions.\n",
       "</p>\n",
       "<p>\n",
       "  If you're reading this message in another frontend (for example, a static\n",
       "  rendering on GitHub or <a href=\"https://nbviewer.jupyter.org/\">NBViewer</a>),\n",
       "  it may mean that your frontend doesn't currently support widgets.\n",
       "</p>\n"
      ],
      "text/plain": [
       "HBox(children=(IntProgress(value=0, max=1), HTML(value='')))"
      ]
     },
     "metadata": {},
     "output_type": "display_data"
    },
    {
     "name": "stdout",
     "output_type": "stream",
     "text": [
      "\n",
      "SUBJDataset\n",
      "Train precision 0.5 0.5 0.5\n",
      "Test precision 0.5 0.5 0.5\n"
     ]
    },
    {
     "data": {
      "application/vnd.jupyter.widget-view+json": {
       "model_id": "22620c1363644ed1b899f3f9dc51fb9b",
       "version_major": 2,
       "version_minor": 0
      },
      "text/html": [
       "<p>Failed to display Jupyter Widget of type <code>HBox</code>.</p>\n",
       "<p>\n",
       "  If you're reading this message in the Jupyter Notebook or JupyterLab Notebook, it may mean\n",
       "  that the widgets JavaScript is still loading. If this message persists, it\n",
       "  likely means that the widgets JavaScript library is either not installed or\n",
       "  not enabled. See the <a href=\"https://ipywidgets.readthedocs.io/en/stable/user_install.html\">Jupyter\n",
       "  Widgets Documentation</a> for setup instructions.\n",
       "</p>\n",
       "<p>\n",
       "  If you're reading this message in another frontend (for example, a static\n",
       "  rendering on GitHub or <a href=\"https://nbviewer.jupyter.org/\">NBViewer</a>),\n",
       "  it may mean that your frontend doesn't currently support widgets.\n",
       "</p>\n"
      ],
      "text/plain": [
       "HBox(children=(IntProgress(value=0, max=1), HTML(value='')))"
      ]
     },
     "metadata": {},
     "output_type": "display_data"
    },
    {
     "name": "stdout",
     "output_type": "stream",
     "text": [
      "\n",
      "MPQADataset\n",
      "Train precision 0.6876898899947617 0.6876898899947617 0.6876898899947617\n",
      "Test precision 0.6880301602262017 0.6880301602262017 0.6880301602262017\n"
     ]
    },
    {
     "data": {
      "application/vnd.jupyter.widget-view+json": {
       "model_id": "92a2aeddb222494e8faaae6ef35b95db",
       "version_major": 2,
       "version_minor": 0
      },
      "text/html": [
       "<p>Failed to display Jupyter Widget of type <code>HBox</code>.</p>\n",
       "<p>\n",
       "  If you're reading this message in the Jupyter Notebook or JupyterLab Notebook, it may mean\n",
       "  that the widgets JavaScript is still loading. If this message persists, it\n",
       "  likely means that the widgets JavaScript library is either not installed or\n",
       "  not enabled. See the <a href=\"https://ipywidgets.readthedocs.io/en/stable/user_install.html\">Jupyter\n",
       "  Widgets Documentation</a> for setup instructions.\n",
       "</p>\n",
       "<p>\n",
       "  If you're reading this message in another frontend (for example, a static\n",
       "  rendering on GitHub or <a href=\"https://nbviewer.jupyter.org/\">NBViewer</a>),\n",
       "  it may mean that your frontend doesn't currently support widgets.\n",
       "</p>\n"
      ],
      "text/plain": [
       "HBox(children=(IntProgress(value=0, max=1), HTML(value='')))"
      ]
     },
     "metadata": {},
     "output_type": "display_data"
    },
    {
     "name": "stdout",
     "output_type": "stream",
     "text": [
      "\n",
      "MPQADataset\n",
      "Train precision 0.6876898899947617 0.6876898899947617 0.6876898899947617\n",
      "Test precision 0.6880301602262017 0.6880301602262017 0.6880301602262017\n"
     ]
    },
    {
     "data": {
      "application/vnd.jupyter.widget-view+json": {
       "model_id": "366b83efe6cd49bb906c1ec530e4fdab",
       "version_major": 2,
       "version_minor": 0
      },
      "text/html": [
       "<p>Failed to display Jupyter Widget of type <code>HBox</code>.</p>\n",
       "<p>\n",
       "  If you're reading this message in the Jupyter Notebook or JupyterLab Notebook, it may mean\n",
       "  that the widgets JavaScript is still loading. If this message persists, it\n",
       "  likely means that the widgets JavaScript library is either not installed or\n",
       "  not enabled. See the <a href=\"https://ipywidgets.readthedocs.io/en/stable/user_install.html\">Jupyter\n",
       "  Widgets Documentation</a> for setup instructions.\n",
       "</p>\n",
       "<p>\n",
       "  If you're reading this message in another frontend (for example, a static\n",
       "  rendering on GitHub or <a href=\"https://nbviewer.jupyter.org/\">NBViewer</a>),\n",
       "  it may mean that your frontend doesn't currently support widgets.\n",
       "</p>\n"
      ],
      "text/plain": [
       "HBox(children=(IntProgress(value=0, max=1), HTML(value='')))"
      ]
     },
     "metadata": {},
     "output_type": "display_data"
    },
    {
     "name": "stdout",
     "output_type": "stream",
     "text": [
      "\n",
      "MPQADataset\n",
      "Train precision 0.6876898899947617 0.6876898899947617 0.6876898899947617\n",
      "Test precision 0.6880301602262017 0.6880301602262017 0.6880301602262017\n"
     ]
    },
    {
     "data": {
      "application/vnd.jupyter.widget-view+json": {
       "model_id": "bd348d36064a4462bd63069be36a972a",
       "version_major": 2,
       "version_minor": 0
      },
      "text/html": [
       "<p>Failed to display Jupyter Widget of type <code>HBox</code>.</p>\n",
       "<p>\n",
       "  If you're reading this message in the Jupyter Notebook or JupyterLab Notebook, it may mean\n",
       "  that the widgets JavaScript is still loading. If this message persists, it\n",
       "  likely means that the widgets JavaScript library is either not installed or\n",
       "  not enabled. See the <a href=\"https://ipywidgets.readthedocs.io/en/stable/user_install.html\">Jupyter\n",
       "  Widgets Documentation</a> for setup instructions.\n",
       "</p>\n",
       "<p>\n",
       "  If you're reading this message in another frontend (for example, a static\n",
       "  rendering on GitHub or <a href=\"https://nbviewer.jupyter.org/\">NBViewer</a>),\n",
       "  it may mean that your frontend doesn't currently support widgets.\n",
       "</p>\n"
      ],
      "text/plain": [
       "HBox(children=(IntProgress(value=0, max=1), HTML(value='')))"
      ]
     },
     "metadata": {},
     "output_type": "display_data"
    },
    {
     "name": "stdout",
     "output_type": "stream",
     "text": [
      "\n",
      "MPQADataset\n",
      "Train precision 0.6876898899947617 0.6876898899947617 0.6876898899947617\n",
      "Test precision 0.6880301602262017 0.6880301602262017 0.6880301602262017\n"
     ]
    },
    {
     "data": {
      "application/vnd.jupyter.widget-view+json": {
       "model_id": "6f03abe41fe54339bdda45c9c8513479",
       "version_major": 2,
       "version_minor": 0
      },
      "text/html": [
       "<p>Failed to display Jupyter Widget of type <code>HBox</code>.</p>\n",
       "<p>\n",
       "  If you're reading this message in the Jupyter Notebook or JupyterLab Notebook, it may mean\n",
       "  that the widgets JavaScript is still loading. If this message persists, it\n",
       "  likely means that the widgets JavaScript library is either not installed or\n",
       "  not enabled. See the <a href=\"https://ipywidgets.readthedocs.io/en/stable/user_install.html\">Jupyter\n",
       "  Widgets Documentation</a> for setup instructions.\n",
       "</p>\n",
       "<p>\n",
       "  If you're reading this message in another frontend (for example, a static\n",
       "  rendering on GitHub or <a href=\"https://nbviewer.jupyter.org/\">NBViewer</a>),\n",
       "  it may mean that your frontend doesn't currently support widgets.\n",
       "</p>\n"
      ],
      "text/plain": [
       "HBox(children=(IntProgress(value=0, max=1), HTML(value='')))"
      ]
     },
     "metadata": {},
     "output_type": "display_data"
    },
    {
     "name": "stdout",
     "output_type": "stream",
     "text": [
      "\n",
      "MPQADataset\n",
      "Train precision 0.6876898899947617 0.6876898899947617 0.6876898899947617\n",
      "Test precision 0.6880301602262017 0.6880301602262017 0.6880301602262017\n"
     ]
    },
    {
     "data": {
      "application/vnd.jupyter.widget-view+json": {
       "model_id": "97203606eafa4df48d1a9d0bd2484cfe",
       "version_major": 2,
       "version_minor": 0
      },
      "text/html": [
       "<p>Failed to display Jupyter Widget of type <code>HBox</code>.</p>\n",
       "<p>\n",
       "  If you're reading this message in the Jupyter Notebook or JupyterLab Notebook, it may mean\n",
       "  that the widgets JavaScript is still loading. If this message persists, it\n",
       "  likely means that the widgets JavaScript library is either not installed or\n",
       "  not enabled. See the <a href=\"https://ipywidgets.readthedocs.io/en/stable/user_install.html\">Jupyter\n",
       "  Widgets Documentation</a> for setup instructions.\n",
       "</p>\n",
       "<p>\n",
       "  If you're reading this message in another frontend (for example, a static\n",
       "  rendering on GitHub or <a href=\"https://nbviewer.jupyter.org/\">NBViewer</a>),\n",
       "  it may mean that your frontend doesn't currently support widgets.\n",
       "</p>\n"
      ],
      "text/plain": [
       "HBox(children=(IntProgress(value=0, max=1), HTML(value='')))"
      ]
     },
     "metadata": {},
     "output_type": "display_data"
    },
    {
     "name": "stdout",
     "output_type": "stream",
     "text": [
      "\n",
      "MPQADataset\n",
      "Train precision 0.6876898899947617 0.6876898899947617 0.6876898899947617\n",
      "Test precision 0.6880301602262017 0.6880301602262017 0.6880301602262017\n"
     ]
    },
    {
     "data": {
      "application/vnd.jupyter.widget-view+json": {
       "model_id": "f20b4e77089449e8afe87b24810a7e5c",
       "version_major": 2,
       "version_minor": 0
      },
      "text/html": [
       "<p>Failed to display Jupyter Widget of type <code>HBox</code>.</p>\n",
       "<p>\n",
       "  If you're reading this message in the Jupyter Notebook or JupyterLab Notebook, it may mean\n",
       "  that the widgets JavaScript is still loading. If this message persists, it\n",
       "  likely means that the widgets JavaScript library is either not installed or\n",
       "  not enabled. See the <a href=\"https://ipywidgets.readthedocs.io/en/stable/user_install.html\">Jupyter\n",
       "  Widgets Documentation</a> for setup instructions.\n",
       "</p>\n",
       "<p>\n",
       "  If you're reading this message in another frontend (for example, a static\n",
       "  rendering on GitHub or <a href=\"https://nbviewer.jupyter.org/\">NBViewer</a>),\n",
       "  it may mean that your frontend doesn't currently support widgets.\n",
       "</p>\n"
      ],
      "text/plain": [
       "HBox(children=(IntProgress(value=0, max=1), HTML(value='')))"
      ]
     },
     "metadata": {},
     "output_type": "display_data"
    },
    {
     "name": "stdout",
     "output_type": "stream",
     "text": [
      "\n",
      "MPQADataset\n",
      "Train precision 0.6876898899947617 0.6876898899947617 0.6876898899947617\n",
      "Test precision 0.6880301602262017 0.6880301602262017 0.6880301602262017\n"
     ]
    },
    {
     "data": {
      "application/vnd.jupyter.widget-view+json": {
       "model_id": "8601bc0cc94545cba56f273048283995",
       "version_major": 2,
       "version_minor": 0
      },
      "text/html": [
       "<p>Failed to display Jupyter Widget of type <code>HBox</code>.</p>\n",
       "<p>\n",
       "  If you're reading this message in the Jupyter Notebook or JupyterLab Notebook, it may mean\n",
       "  that the widgets JavaScript is still loading. If this message persists, it\n",
       "  likely means that the widgets JavaScript library is either not installed or\n",
       "  not enabled. See the <a href=\"https://ipywidgets.readthedocs.io/en/stable/user_install.html\">Jupyter\n",
       "  Widgets Documentation</a> for setup instructions.\n",
       "</p>\n",
       "<p>\n",
       "  If you're reading this message in another frontend (for example, a static\n",
       "  rendering on GitHub or <a href=\"https://nbviewer.jupyter.org/\">NBViewer</a>),\n",
       "  it may mean that your frontend doesn't currently support widgets.\n",
       "</p>\n"
      ],
      "text/plain": [
       "HBox(children=(IntProgress(value=0, max=1), HTML(value='')))"
      ]
     },
     "metadata": {},
     "output_type": "display_data"
    },
    {
     "name": "stdout",
     "output_type": "stream",
     "text": [
      "\n",
      "MPQADataset\n",
      "Train precision 0.6876898899947617 0.6876898899947617 0.6876898899947617\n",
      "Test precision 0.6880301602262017 0.6880301602262017 0.6880301602262017\n"
     ]
    }
   ],
   "source": [
    "for dataset in datasets.ALL_DATASETS:\n",
    "    for scheme in SimpleModel.SCHEMES:\n",
    "        model = SimpleModel(classify.MostClassifier(), use_svd=False, weights=scheme)\n",
    "        test_simple_model(model, dataset, 1, 'constant__'+scheme, results, dump)"
   ]
  },
  {
   "cell_type": "code",
   "execution_count": 110,
   "metadata": {
    "scrolled": true
   },
   "outputs": [
    {
     "data": {
      "application/vnd.jupyter.widget-view+json": {
       "model_id": "379020ce627c4c719dcc0f95e7992166",
       "version_major": 2,
       "version_minor": 0
      },
      "text/html": [
       "<p>Failed to display Jupyter Widget of type <code>HBox</code>.</p>\n",
       "<p>\n",
       "  If you're reading this message in the Jupyter Notebook or JupyterLab Notebook, it may mean\n",
       "  that the widgets JavaScript is still loading. If this message persists, it\n",
       "  likely means that the widgets JavaScript library is either not installed or\n",
       "  not enabled. See the <a href=\"https://ipywidgets.readthedocs.io/en/stable/user_install.html\">Jupyter\n",
       "  Widgets Documentation</a> for setup instructions.\n",
       "</p>\n",
       "<p>\n",
       "  If you're reading this message in another frontend (for example, a static\n",
       "  rendering on GitHub or <a href=\"https://nbviewer.jupyter.org/\">NBViewer</a>),\n",
       "  it may mean that your frontend doesn't currently support widgets.\n",
       "</p>\n"
      ],
      "text/plain": [
       "HBox(children=(IntProgress(value=0, max=5), HTML(value='')))"
      ]
     },
     "metadata": {},
     "output_type": "display_data"
    },
    {
     "name": "stdout",
     "output_type": "stream",
     "text": [
      "\n",
      "CRDataset\n",
      "Train precision 0.9696791286429203 0.9696791286429203 0.9696791286429203\n",
      "Test precision 0.7936507936507937 0.7936507936507937 0.7936507936507937\n"
     ]
    },
    {
     "data": {
      "application/vnd.jupyter.widget-view+json": {
       "model_id": "4903f760769c42aa8b708a9ad225c7e6",
       "version_major": 2,
       "version_minor": 0
      },
      "text/html": [
       "<p>Failed to display Jupyter Widget of type <code>HBox</code>.</p>\n",
       "<p>\n",
       "  If you're reading this message in the Jupyter Notebook or JupyterLab Notebook, it may mean\n",
       "  that the widgets JavaScript is still loading. If this message persists, it\n",
       "  likely means that the widgets JavaScript library is either not installed or\n",
       "  not enabled. See the <a href=\"https://ipywidgets.readthedocs.io/en/stable/user_install.html\">Jupyter\n",
       "  Widgets Documentation</a> for setup instructions.\n",
       "</p>\n",
       "<p>\n",
       "  If you're reading this message in another frontend (for example, a static\n",
       "  rendering on GitHub or <a href=\"https://nbviewer.jupyter.org/\">NBViewer</a>),\n",
       "  it may mean that your frontend doesn't currently support widgets.\n",
       "</p>\n"
      ],
      "text/plain": [
       "HBox(children=(IntProgress(value=0, max=5), HTML(value='')))"
      ]
     },
     "metadata": {},
     "output_type": "display_data"
    },
    {
     "name": "stdout",
     "output_type": "stream",
     "text": [
      "\n",
      "CRDataset\n",
      "Train precision 0.9991168678245511 0.9991168678245511 0.9991168678245511\n",
      "Test precision 0.7724867724867726 0.7724867724867726 0.7724867724867726\n"
     ]
    },
    {
     "data": {
      "application/vnd.jupyter.widget-view+json": {
       "model_id": "3725952bcde94ff3b1ebed329a4f1b3c",
       "version_major": 2,
       "version_minor": 0
      },
      "text/html": [
       "<p>Failed to display Jupyter Widget of type <code>HBox</code>.</p>\n",
       "<p>\n",
       "  If you're reading this message in the Jupyter Notebook or JupyterLab Notebook, it may mean\n",
       "  that the widgets JavaScript is still loading. If this message persists, it\n",
       "  likely means that the widgets JavaScript library is either not installed or\n",
       "  not enabled. See the <a href=\"https://ipywidgets.readthedocs.io/en/stable/user_install.html\">Jupyter\n",
       "  Widgets Documentation</a> for setup instructions.\n",
       "</p>\n",
       "<p>\n",
       "  If you're reading this message in another frontend (for example, a static\n",
       "  rendering on GitHub or <a href=\"https://nbviewer.jupyter.org/\">NBViewer</a>),\n",
       "  it may mean that your frontend doesn't currently support widgets.\n",
       "</p>\n"
      ],
      "text/plain": [
       "HBox(children=(IntProgress(value=0, max=5), HTML(value='')))"
      ]
     },
     "metadata": {},
     "output_type": "display_data"
    },
    {
     "name": "stdout",
     "output_type": "stream",
     "text": [
      "\n",
      "CRDataset\n",
      "Train precision 0.7836326170150132 0.7836326170150132 0.7836326170150132\n",
      "Test precision 0.7804232804232805 0.7804232804232805 0.7804232804232805\n"
     ]
    },
    {
     "data": {
      "application/vnd.jupyter.widget-view+json": {
       "model_id": "4d2aefd7841c4fc484269001056f5e63",
       "version_major": 2,
       "version_minor": 0
      },
      "text/html": [
       "<p>Failed to display Jupyter Widget of type <code>HBox</code>.</p>\n",
       "<p>\n",
       "  If you're reading this message in the Jupyter Notebook or JupyterLab Notebook, it may mean\n",
       "  that the widgets JavaScript is still loading. If this message persists, it\n",
       "  likely means that the widgets JavaScript library is either not installed or\n",
       "  not enabled. See the <a href=\"https://ipywidgets.readthedocs.io/en/stable/user_install.html\">Jupyter\n",
       "  Widgets Documentation</a> for setup instructions.\n",
       "</p>\n",
       "<p>\n",
       "  If you're reading this message in another frontend (for example, a static\n",
       "  rendering on GitHub or <a href=\"https://nbviewer.jupyter.org/\">NBViewer</a>),\n",
       "  it may mean that your frontend doesn't currently support widgets.\n",
       "</p>\n"
      ],
      "text/plain": [
       "HBox(children=(IntProgress(value=0, max=5), HTML(value='')))"
      ]
     },
     "metadata": {},
     "output_type": "display_data"
    },
    {
     "name": "stdout",
     "output_type": "stream",
     "text": [
      "\n",
      "CRDataset\n",
      "Train precision 0.7856932587577274 0.7856932587577274 0.7856932587577274\n",
      "Test precision 0.7751322751322751 0.7751322751322751 0.7751322751322751\n"
     ]
    },
    {
     "data": {
      "application/vnd.jupyter.widget-view+json": {
       "model_id": "cf993f372ea44ce1ad34cf1a4b48d40f",
       "version_major": 2,
       "version_minor": 0
      },
      "text/html": [
       "<p>Failed to display Jupyter Widget of type <code>HBox</code>.</p>\n",
       "<p>\n",
       "  If you're reading this message in the Jupyter Notebook or JupyterLab Notebook, it may mean\n",
       "  that the widgets JavaScript is still loading. If this message persists, it\n",
       "  likely means that the widgets JavaScript library is either not installed or\n",
       "  not enabled. See the <a href=\"https://ipywidgets.readthedocs.io/en/stable/user_install.html\">Jupyter\n",
       "  Widgets Documentation</a> for setup instructions.\n",
       "</p>\n",
       "<p>\n",
       "  If you're reading this message in another frontend (for example, a static\n",
       "  rendering on GitHub or <a href=\"https://nbviewer.jupyter.org/\">NBViewer</a>),\n",
       "  it may mean that your frontend doesn't currently support widgets.\n",
       "</p>\n"
      ],
      "text/plain": [
       "HBox(children=(IntProgress(value=0, max=5), HTML(value='')))"
      ]
     },
     "metadata": {},
     "output_type": "display_data"
    },
    {
     "name": "stdout",
     "output_type": "stream",
     "text": [
      "\n",
      "CRDataset\n",
      "Train precision 0.7856932587577274 0.7856932587577274 0.7856932587577274\n",
      "Test precision 0.7751322751322751 0.7751322751322751 0.7751322751322751\n"
     ]
    },
    {
     "data": {
      "application/vnd.jupyter.widget-view+json": {
       "model_id": "ed5c02d93b3e478ea740dc042fce10a1",
       "version_major": 2,
       "version_minor": 0
      },
      "text/html": [
       "<p>Failed to display Jupyter Widget of type <code>HBox</code>.</p>\n",
       "<p>\n",
       "  If you're reading this message in the Jupyter Notebook or JupyterLab Notebook, it may mean\n",
       "  that the widgets JavaScript is still loading. If this message persists, it\n",
       "  likely means that the widgets JavaScript library is either not installed or\n",
       "  not enabled. See the <a href=\"https://ipywidgets.readthedocs.io/en/stable/user_install.html\">Jupyter\n",
       "  Widgets Documentation</a> for setup instructions.\n",
       "</p>\n",
       "<p>\n",
       "  If you're reading this message in another frontend (for example, a static\n",
       "  rendering on GitHub or <a href=\"https://nbviewer.jupyter.org/\">NBViewer</a>),\n",
       "  it may mean that your frontend doesn't currently support widgets.\n",
       "</p>\n"
      ],
      "text/plain": [
       "HBox(children=(IntProgress(value=0, max=5), HTML(value='')))"
      ]
     },
     "metadata": {},
     "output_type": "display_data"
    },
    {
     "name": "stdout",
     "output_type": "stream",
     "text": [
      "\n",
      "CRDataset\n",
      "Train precision 0.8922578745952311 0.8922578745952311 0.8922578745952311\n",
      "Test precision 0.7962962962962963 0.7962962962962963 0.7962962962962963\n"
     ]
    },
    {
     "data": {
      "application/vnd.jupyter.widget-view+json": {
       "model_id": "974ee869bc684c828bee95a8c0ff626b",
       "version_major": 2,
       "version_minor": 0
      },
      "text/html": [
       "<p>Failed to display Jupyter Widget of type <code>HBox</code>.</p>\n",
       "<p>\n",
       "  If you're reading this message in the Jupyter Notebook or JupyterLab Notebook, it may mean\n",
       "  that the widgets JavaScript is still loading. If this message persists, it\n",
       "  likely means that the widgets JavaScript library is either not installed or\n",
       "  not enabled. See the <a href=\"https://ipywidgets.readthedocs.io/en/stable/user_install.html\">Jupyter\n",
       "  Widgets Documentation</a> for setup instructions.\n",
       "</p>\n",
       "<p>\n",
       "  If you're reading this message in another frontend (for example, a static\n",
       "  rendering on GitHub or <a href=\"https://nbviewer.jupyter.org/\">NBViewer</a>),\n",
       "  it may mean that your frontend doesn't currently support widgets.\n",
       "</p>\n"
      ],
      "text/plain": [
       "HBox(children=(IntProgress(value=0, max=5), HTML(value='')))"
      ]
     },
     "metadata": {},
     "output_type": "display_data"
    },
    {
     "name": "stdout",
     "output_type": "stream",
     "text": [
      "\n",
      "CRDataset\n",
      "Train precision 0.8327936414483368 0.8327936414483368 0.8327936414483368\n",
      "Test precision 0.7566137566137566 0.7566137566137566 0.7566137566137566\n"
     ]
    },
    {
     "data": {
      "application/vnd.jupyter.widget-view+json": {
       "model_id": "7b4f72071d03442abcdbe08d33a9a622",
       "version_major": 2,
       "version_minor": 0
      },
      "text/html": [
       "<p>Failed to display Jupyter Widget of type <code>HBox</code>.</p>\n",
       "<p>\n",
       "  If you're reading this message in the Jupyter Notebook or JupyterLab Notebook, it may mean\n",
       "  that the widgets JavaScript is still loading. If this message persists, it\n",
       "  likely means that the widgets JavaScript library is either not installed or\n",
       "  not enabled. See the <a href=\"https://ipywidgets.readthedocs.io/en/stable/user_install.html\">Jupyter\n",
       "  Widgets Documentation</a> for setup instructions.\n",
       "</p>\n",
       "<p>\n",
       "  If you're reading this message in another frontend (for example, a static\n",
       "  rendering on GitHub or <a href=\"https://nbviewer.jupyter.org/\">NBViewer</a>),\n",
       "  it may mean that your frontend doesn't currently support widgets.\n",
       "</p>\n"
      ],
      "text/plain": [
       "HBox(children=(IntProgress(value=0, max=5), HTML(value='')))"
      ]
     },
     "metadata": {},
     "output_type": "display_data"
    },
    {
     "name": "stdout",
     "output_type": "stream",
     "text": [
      "\n",
      "CRDataset\n",
      "Train precision 0.9696791286429203 0.9696791286429203 0.9696791286429203\n",
      "Test precision 0.7936507936507937 0.7936507936507937 0.7936507936507937\n"
     ]
    },
    {
     "data": {
      "application/vnd.jupyter.widget-view+json": {
       "model_id": "171e89d464af4a2ebf31dd9883478e3d",
       "version_major": 2,
       "version_minor": 0
      },
      "text/html": [
       "<p>Failed to display Jupyter Widget of type <code>HBox</code>.</p>\n",
       "<p>\n",
       "  If you're reading this message in the Jupyter Notebook or JupyterLab Notebook, it may mean\n",
       "  that the widgets JavaScript is still loading. If this message persists, it\n",
       "  likely means that the widgets JavaScript library is either not installed or\n",
       "  not enabled. See the <a href=\"https://ipywidgets.readthedocs.io/en/stable/user_install.html\">Jupyter\n",
       "  Widgets Documentation</a> for setup instructions.\n",
       "</p>\n",
       "<p>\n",
       "  If you're reading this message in another frontend (for example, a static\n",
       "  rendering on GitHub or <a href=\"https://nbviewer.jupyter.org/\">NBViewer</a>),\n",
       "  it may mean that your frontend doesn't currently support widgets.\n",
       "</p>\n"
      ],
      "text/plain": [
       "HBox(children=(IntProgress(value=0, max=5), HTML(value='')))"
      ]
     },
     "metadata": {},
     "output_type": "display_data"
    },
    {
     "name": "stdout",
     "output_type": "stream",
     "text": [
      "\n",
      "MRDataset\n",
      "Train precision 0.9770713913496613 0.9770713913496613 0.9770713913496613\n",
      "Test precision 0.7769447047797563 0.7769447047797563 0.7769447047797563\n"
     ]
    },
    {
     "data": {
      "application/vnd.jupyter.widget-view+json": {
       "model_id": "ec213f99eb4142de8c87f22f0a25702f",
       "version_major": 2,
       "version_minor": 0
      },
      "text/html": [
       "<p>Failed to display Jupyter Widget of type <code>HBox</code>.</p>\n",
       "<p>\n",
       "  If you're reading this message in the Jupyter Notebook or JupyterLab Notebook, it may mean\n",
       "  that the widgets JavaScript is still loading. If this message persists, it\n",
       "  likely means that the widgets JavaScript library is either not installed or\n",
       "  not enabled. See the <a href=\"https://ipywidgets.readthedocs.io/en/stable/user_install.html\">Jupyter\n",
       "  Widgets Documentation</a> for setup instructions.\n",
       "</p>\n",
       "<p>\n",
       "  If you're reading this message in another frontend (for example, a static\n",
       "  rendering on GitHub or <a href=\"https://nbviewer.jupyter.org/\">NBViewer</a>),\n",
       "  it may mean that your frontend doesn't currently support widgets.\n",
       "</p>\n"
      ],
      "text/plain": [
       "HBox(children=(IntProgress(value=0, max=5), HTML(value='')))"
      ]
     },
     "metadata": {},
     "output_type": "display_data"
    },
    {
     "name": "stdout",
     "output_type": "stream",
     "text": [
      "\n",
      "MRDataset\n",
      "Train precision 1.0 1.0 1.0\n",
      "Test precision 0.7544517338331771 0.7544517338331771 0.7544517338331771\n"
     ]
    },
    {
     "data": {
      "application/vnd.jupyter.widget-view+json": {
       "model_id": "3f01470a3cfd4297b141869aa5c8e572",
       "version_major": 2,
       "version_minor": 0
      },
      "text/html": [
       "<p>Failed to display Jupyter Widget of type <code>HBox</code>.</p>\n",
       "<p>\n",
       "  If you're reading this message in the Jupyter Notebook or JupyterLab Notebook, it may mean\n",
       "  that the widgets JavaScript is still loading. If this message persists, it\n",
       "  likely means that the widgets JavaScript library is either not installed or\n",
       "  not enabled. See the <a href=\"https://ipywidgets.readthedocs.io/en/stable/user_install.html\">Jupyter\n",
       "  Widgets Documentation</a> for setup instructions.\n",
       "</p>\n",
       "<p>\n",
       "  If you're reading this message in another frontend (for example, a static\n",
       "  rendering on GitHub or <a href=\"https://nbviewer.jupyter.org/\">NBViewer</a>),\n",
       "  it may mean that your frontend doesn't currently support widgets.\n",
       "</p>\n"
      ],
      "text/plain": [
       "HBox(children=(IntProgress(value=0, max=5), HTML(value='')))"
      ]
     },
     "metadata": {},
     "output_type": "display_data"
    },
    {
     "name": "stdout",
     "output_type": "stream",
     "text": [
      "\n",
      "MRDataset\n",
      "Train precision 0.7031787389265243 0.7031787389265243 0.7031787389265243\n",
      "Test precision 0.6879100281162136 0.6879100281162136 0.6879100281162136\n"
     ]
    },
    {
     "data": {
      "application/vnd.jupyter.widget-view+json": {
       "model_id": "1e3772d479fc49bc83b54e48a7c9e451",
       "version_major": 2,
       "version_minor": 0
      },
      "text/html": [
       "<p>Failed to display Jupyter Widget of type <code>HBox</code>.</p>\n",
       "<p>\n",
       "  If you're reading this message in the Jupyter Notebook or JupyterLab Notebook, it may mean\n",
       "  that the widgets JavaScript is still loading. If this message persists, it\n",
       "  likely means that the widgets JavaScript library is either not installed or\n",
       "  not enabled. See the <a href=\"https://ipywidgets.readthedocs.io/en/stable/user_install.html\">Jupyter\n",
       "  Widgets Documentation</a> for setup instructions.\n",
       "</p>\n",
       "<p>\n",
       "  If you're reading this message in another frontend (for example, a static\n",
       "  rendering on GitHub or <a href=\"https://nbviewer.jupyter.org/\">NBViewer</a>),\n",
       "  it may mean that your frontend doesn't currently support widgets.\n",
       "</p>\n"
      ],
      "text/plain": [
       "HBox(children=(IntProgress(value=0, max=5), HTML(value='')))"
      ]
     },
     "metadata": {},
     "output_type": "display_data"
    },
    {
     "name": "stdout",
     "output_type": "stream",
     "text": [
      "\n",
      "MRDataset\n",
      "Train precision 0.7074517978113601 0.7074517978113601 0.7074517978113601\n",
      "Test precision 0.6907216494845361 0.6907216494845361 0.6907216494845361\n"
     ]
    },
    {
     "data": {
      "application/vnd.jupyter.widget-view+json": {
       "model_id": "b3afd89f943848d68cd5ea94aa721ff4",
       "version_major": 2,
       "version_minor": 0
      },
      "text/html": [
       "<p>Failed to display Jupyter Widget of type <code>HBox</code>.</p>\n",
       "<p>\n",
       "  If you're reading this message in the Jupyter Notebook or JupyterLab Notebook, it may mean\n",
       "  that the widgets JavaScript is still loading. If this message persists, it\n",
       "  likely means that the widgets JavaScript library is either not installed or\n",
       "  not enabled. See the <a href=\"https://ipywidgets.readthedocs.io/en/stable/user_install.html\">Jupyter\n",
       "  Widgets Documentation</a> for setup instructions.\n",
       "</p>\n",
       "<p>\n",
       "  If you're reading this message in another frontend (for example, a static\n",
       "  rendering on GitHub or <a href=\"https://nbviewer.jupyter.org/\">NBViewer</a>),\n",
       "  it may mean that your frontend doesn't currently support widgets.\n",
       "</p>\n"
      ],
      "text/plain": [
       "HBox(children=(IntProgress(value=0, max=5), HTML(value='')))"
      ]
     },
     "metadata": {},
     "output_type": "display_data"
    },
    {
     "name": "stdout",
     "output_type": "stream",
     "text": [
      "\n",
      "MRDataset\n",
      "Train precision 0.7074517978113601 0.7074517978113601 0.7074517978113601\n",
      "Test precision 0.6907216494845361 0.6907216494845361 0.6907216494845361\n"
     ]
    },
    {
     "data": {
      "application/vnd.jupyter.widget-view+json": {
       "model_id": "cf76f214b9894817ba31d3e144f03e47",
       "version_major": 2,
       "version_minor": 0
      },
      "text/html": [
       "<p>Failed to display Jupyter Widget of type <code>HBox</code>.</p>\n",
       "<p>\n",
       "  If you're reading this message in the Jupyter Notebook or JupyterLab Notebook, it may mean\n",
       "  that the widgets JavaScript is still loading. If this message persists, it\n",
       "  likely means that the widgets JavaScript library is either not installed or\n",
       "  not enabled. See the <a href=\"https://ipywidgets.readthedocs.io/en/stable/user_install.html\">Jupyter\n",
       "  Widgets Documentation</a> for setup instructions.\n",
       "</p>\n",
       "<p>\n",
       "  If you're reading this message in another frontend (for example, a static\n",
       "  rendering on GitHub or <a href=\"https://nbviewer.jupyter.org/\">NBViewer</a>),\n",
       "  it may mean that your frontend doesn't currently support widgets.\n",
       "</p>\n"
      ],
      "text/plain": [
       "HBox(children=(IntProgress(value=0, max=5), HTML(value='')))"
      ]
     },
     "metadata": {},
     "output_type": "display_data"
    },
    {
     "name": "stdout",
     "output_type": "stream",
     "text": [
      "\n",
      "MRDataset\n",
      "Train precision 0.9004689942678479 0.9004689942678479 0.9004689942678479\n",
      "Test precision 0.7919400187441424 0.7919400187441424 0.7919400187441424\n"
     ]
    },
    {
     "data": {
      "application/vnd.jupyter.widget-view+json": {
       "model_id": "491eaf0687ac4f20bfb50639c2de7a58",
       "version_major": 2,
       "version_minor": 0
      },
      "text/html": [
       "<p>Failed to display Jupyter Widget of type <code>HBox</code>.</p>\n",
       "<p>\n",
       "  If you're reading this message in the Jupyter Notebook or JupyterLab Notebook, it may mean\n",
       "  that the widgets JavaScript is still loading. If this message persists, it\n",
       "  likely means that the widgets JavaScript library is either not installed or\n",
       "  not enabled. See the <a href=\"https://ipywidgets.readthedocs.io/en/stable/user_install.html\">Jupyter\n",
       "  Widgets Documentation</a> for setup instructions.\n",
       "</p>\n",
       "<p>\n",
       "  If you're reading this message in another frontend (for example, a static\n",
       "  rendering on GitHub or <a href=\"https://nbviewer.jupyter.org/\">NBViewer</a>),\n",
       "  it may mean that your frontend doesn't currently support widgets.\n",
       "</p>\n"
      ],
      "text/plain": [
       "HBox(children=(IntProgress(value=0, max=5), HTML(value='')))"
      ]
     },
     "metadata": {},
     "output_type": "display_data"
    },
    {
     "name": "stdout",
     "output_type": "stream",
     "text": [
      "\n",
      "MRDataset\n",
      "Train precision 0.8200104220948411 0.8200104220948411 0.8200104220948411\n",
      "Test precision 0.7366447985004686 0.7366447985004686 0.7366447985004686\n"
     ]
    },
    {
     "data": {
      "application/vnd.jupyter.widget-view+json": {
       "model_id": "9f97666d06874b8f97b16da64ae3b755",
       "version_major": 2,
       "version_minor": 0
      },
      "text/html": [
       "<p>Failed to display Jupyter Widget of type <code>HBox</code>.</p>\n",
       "<p>\n",
       "  If you're reading this message in the Jupyter Notebook or JupyterLab Notebook, it may mean\n",
       "  that the widgets JavaScript is still loading. If this message persists, it\n",
       "  likely means that the widgets JavaScript library is either not installed or\n",
       "  not enabled. See the <a href=\"https://ipywidgets.readthedocs.io/en/stable/user_install.html\">Jupyter\n",
       "  Widgets Documentation</a> for setup instructions.\n",
       "</p>\n",
       "<p>\n",
       "  If you're reading this message in another frontend (for example, a static\n",
       "  rendering on GitHub or <a href=\"https://nbviewer.jupyter.org/\">NBViewer</a>),\n",
       "  it may mean that your frontend doesn't currently support widgets.\n",
       "</p>\n"
      ],
      "text/plain": [
       "HBox(children=(IntProgress(value=0, max=5), HTML(value='')))"
      ]
     },
     "metadata": {},
     "output_type": "display_data"
    },
    {
     "name": "stdout",
     "output_type": "stream",
     "text": [
      "\n",
      "MRDataset\n",
      "Train precision 0.9770713913496613 0.9770713913496613 0.9770713913496613\n",
      "Test precision 0.7769447047797563 0.7769447047797563 0.7769447047797563\n"
     ]
    },
    {
     "data": {
      "application/vnd.jupyter.widget-view+json": {
       "model_id": "2fdaf3cc828c4c51945c4b05d3a51ca1",
       "version_major": 2,
       "version_minor": 0
      },
      "text/html": [
       "<p>Failed to display Jupyter Widget of type <code>HBox</code>.</p>\n",
       "<p>\n",
       "  If you're reading this message in the Jupyter Notebook or JupyterLab Notebook, it may mean\n",
       "  that the widgets JavaScript is still loading. If this message persists, it\n",
       "  likely means that the widgets JavaScript library is either not installed or\n",
       "  not enabled. See the <a href=\"https://ipywidgets.readthedocs.io/en/stable/user_install.html\">Jupyter\n",
       "  Widgets Documentation</a> for setup instructions.\n",
       "</p>\n",
       "<p>\n",
       "  If you're reading this message in another frontend (for example, a static\n",
       "  rendering on GitHub or <a href=\"https://nbviewer.jupyter.org/\">NBViewer</a>),\n",
       "  it may mean that your frontend doesn't currently support widgets.\n",
       "</p>\n"
      ],
      "text/plain": [
       "HBox(children=(IntProgress(value=0, max=5), HTML(value='')))"
      ]
     },
     "metadata": {},
     "output_type": "display_data"
    },
    {
     "name": "stdout",
     "output_type": "stream",
     "text": [
      "\n",
      "SUBJDataset\n",
      "Train precision 0.9937777777777778 0.9937777777777776 0.9937777777777778\n",
      "Test precision 0.919 0.9190000000000002 0.919\n"
     ]
    },
    {
     "data": {
      "application/vnd.jupyter.widget-view+json": {
       "model_id": "428e166b56f344f3a49fd72d95993492",
       "version_major": 2,
       "version_minor": 0
      },
      "text/html": [
       "<p>Failed to display Jupyter Widget of type <code>HBox</code>.</p>\n",
       "<p>\n",
       "  If you're reading this message in the Jupyter Notebook or JupyterLab Notebook, it may mean\n",
       "  that the widgets JavaScript is still loading. If this message persists, it\n",
       "  likely means that the widgets JavaScript library is either not installed or\n",
       "  not enabled. See the <a href=\"https://ipywidgets.readthedocs.io/en/stable/user_install.html\">Jupyter\n",
       "  Widgets Documentation</a> for setup instructions.\n",
       "</p>\n",
       "<p>\n",
       "  If you're reading this message in another frontend (for example, a static\n",
       "  rendering on GitHub or <a href=\"https://nbviewer.jupyter.org/\">NBViewer</a>),\n",
       "  it may mean that your frontend doesn't currently support widgets.\n",
       "</p>\n"
      ],
      "text/plain": [
       "HBox(children=(IntProgress(value=0, max=5), HTML(value='')))"
      ]
     },
     "metadata": {},
     "output_type": "display_data"
    },
    {
     "name": "stdout",
     "output_type": "stream",
     "text": [
      "\n",
      "SUBJDataset\n",
      "Train precision 1.0 1.0 1.0\n",
      "Test precision 0.921 0.921 0.921\n"
     ]
    },
    {
     "data": {
      "application/vnd.jupyter.widget-view+json": {
       "model_id": "162b9b290acf402b8e35aff65258f5ac",
       "version_major": 2,
       "version_minor": 0
      },
      "text/html": [
       "<p>Failed to display Jupyter Widget of type <code>HBox</code>.</p>\n",
       "<p>\n",
       "  If you're reading this message in the Jupyter Notebook or JupyterLab Notebook, it may mean\n",
       "  that the widgets JavaScript is still loading. If this message persists, it\n",
       "  likely means that the widgets JavaScript library is either not installed or\n",
       "  not enabled. See the <a href=\"https://ipywidgets.readthedocs.io/en/stable/user_install.html\">Jupyter\n",
       "  Widgets Documentation</a> for setup instructions.\n",
       "</p>\n",
       "<p>\n",
       "  If you're reading this message in another frontend (for example, a static\n",
       "  rendering on GitHub or <a href=\"https://nbviewer.jupyter.org/\">NBViewer</a>),\n",
       "  it may mean that your frontend doesn't currently support widgets.\n",
       "</p>\n"
      ],
      "text/plain": [
       "HBox(children=(IntProgress(value=0, max=5), HTML(value='')))"
      ]
     },
     "metadata": {},
     "output_type": "display_data"
    },
    {
     "name": "stdout",
     "output_type": "stream",
     "text": [
      "\n",
      "SUBJDataset\n",
      "Train precision 0.8454444444444444 0.8454444444444444 0.8454444444444444\n",
      "Test precision 0.845 0.845 0.845\n"
     ]
    },
    {
     "data": {
      "application/vnd.jupyter.widget-view+json": {
       "model_id": "c7a5215e6fc346758f27005c96dd08c0",
       "version_major": 2,
       "version_minor": 0
      },
      "text/html": [
       "<p>Failed to display Jupyter Widget of type <code>HBox</code>.</p>\n",
       "<p>\n",
       "  If you're reading this message in the Jupyter Notebook or JupyterLab Notebook, it may mean\n",
       "  that the widgets JavaScript is still loading. If this message persists, it\n",
       "  likely means that the widgets JavaScript library is either not installed or\n",
       "  not enabled. See the <a href=\"https://ipywidgets.readthedocs.io/en/stable/user_install.html\">Jupyter\n",
       "  Widgets Documentation</a> for setup instructions.\n",
       "</p>\n",
       "<p>\n",
       "  If you're reading this message in another frontend (for example, a static\n",
       "  rendering on GitHub or <a href=\"https://nbviewer.jupyter.org/\">NBViewer</a>),\n",
       "  it may mean that your frontend doesn't currently support widgets.\n",
       "</p>\n"
      ],
      "text/plain": [
       "HBox(children=(IntProgress(value=0, max=5), HTML(value='')))"
      ]
     },
     "metadata": {},
     "output_type": "display_data"
    },
    {
     "name": "stdout",
     "output_type": "stream",
     "text": [
      "\n",
      "SUBJDataset\n",
      "Train precision 0.847 0.8469999999999999 0.847\n",
      "Test precision 0.846 0.8459999999999999 0.846\n"
     ]
    },
    {
     "data": {
      "application/vnd.jupyter.widget-view+json": {
       "model_id": "fe2682b86af34a01b70c393b0d2ea6c1",
       "version_major": 2,
       "version_minor": 0
      },
      "text/html": [
       "<p>Failed to display Jupyter Widget of type <code>HBox</code>.</p>\n",
       "<p>\n",
       "  If you're reading this message in the Jupyter Notebook or JupyterLab Notebook, it may mean\n",
       "  that the widgets JavaScript is still loading. If this message persists, it\n",
       "  likely means that the widgets JavaScript library is either not installed or\n",
       "  not enabled. See the <a href=\"https://ipywidgets.readthedocs.io/en/stable/user_install.html\">Jupyter\n",
       "  Widgets Documentation</a> for setup instructions.\n",
       "</p>\n",
       "<p>\n",
       "  If you're reading this message in another frontend (for example, a static\n",
       "  rendering on GitHub or <a href=\"https://nbviewer.jupyter.org/\">NBViewer</a>),\n",
       "  it may mean that your frontend doesn't currently support widgets.\n",
       "</p>\n"
      ],
      "text/plain": [
       "HBox(children=(IntProgress(value=0, max=5), HTML(value='')))"
      ]
     },
     "metadata": {},
     "output_type": "display_data"
    },
    {
     "name": "stdout",
     "output_type": "stream",
     "text": [
      "\n",
      "SUBJDataset\n",
      "Train precision 0.847 0.8469999999999999 0.847\n",
      "Test precision 0.846 0.8459999999999999 0.846\n"
     ]
    },
    {
     "data": {
      "application/vnd.jupyter.widget-view+json": {
       "model_id": "52a3f9407b1a4a5ca401a4a245c4b347",
       "version_major": 2,
       "version_minor": 0
      },
      "text/html": [
       "<p>Failed to display Jupyter Widget of type <code>HBox</code>.</p>\n",
       "<p>\n",
       "  If you're reading this message in the Jupyter Notebook or JupyterLab Notebook, it may mean\n",
       "  that the widgets JavaScript is still loading. If this message persists, it\n",
       "  likely means that the widgets JavaScript library is either not installed or\n",
       "  not enabled. See the <a href=\"https://ipywidgets.readthedocs.io/en/stable/user_install.html\">Jupyter\n",
       "  Widgets Documentation</a> for setup instructions.\n",
       "</p>\n",
       "<p>\n",
       "  If you're reading this message in another frontend (for example, a static\n",
       "  rendering on GitHub or <a href=\"https://nbviewer.jupyter.org/\">NBViewer</a>),\n",
       "  it may mean that your frontend doesn't currently support widgets.\n",
       "</p>\n"
      ],
      "text/plain": [
       "HBox(children=(IntProgress(value=0, max=5), HTML(value='')))"
      ]
     },
     "metadata": {},
     "output_type": "display_data"
    },
    {
     "name": "stdout",
     "output_type": "stream",
     "text": [
      "\n",
      "SUBJDataset\n",
      "Train precision 0.9363333333333334 0.9363333333333334 0.9363333333333334\n",
      "Test precision 0.91 0.9099999999999999 0.91\n"
     ]
    },
    {
     "data": {
      "application/vnd.jupyter.widget-view+json": {
       "model_id": "d9297756a1f9476fbeea44662d6f6816",
       "version_major": 2,
       "version_minor": 0
      },
      "text/html": [
       "<p>Failed to display Jupyter Widget of type <code>HBox</code>.</p>\n",
       "<p>\n",
       "  If you're reading this message in the Jupyter Notebook or JupyterLab Notebook, it may mean\n",
       "  that the widgets JavaScript is still loading. If this message persists, it\n",
       "  likely means that the widgets JavaScript library is either not installed or\n",
       "  not enabled. See the <a href=\"https://ipywidgets.readthedocs.io/en/stable/user_install.html\">Jupyter\n",
       "  Widgets Documentation</a> for setup instructions.\n",
       "</p>\n",
       "<p>\n",
       "  If you're reading this message in another frontend (for example, a static\n",
       "  rendering on GitHub or <a href=\"https://nbviewer.jupyter.org/\">NBViewer</a>),\n",
       "  it may mean that your frontend doesn't currently support widgets.\n",
       "</p>\n"
      ],
      "text/plain": [
       "HBox(children=(IntProgress(value=0, max=5), HTML(value='')))"
      ]
     },
     "metadata": {},
     "output_type": "display_data"
    },
    {
     "name": "stdout",
     "output_type": "stream",
     "text": [
      "\n",
      "SUBJDataset\n",
      "Train precision 0.9194444444444444 0.9194444444444445 0.9194444444444444\n",
      "Test precision 0.881 0.881 0.881\n"
     ]
    },
    {
     "data": {
      "application/vnd.jupyter.widget-view+json": {
       "model_id": "9150a7b4b1664e048a636bc0d61c777a",
       "version_major": 2,
       "version_minor": 0
      },
      "text/html": [
       "<p>Failed to display Jupyter Widget of type <code>HBox</code>.</p>\n",
       "<p>\n",
       "  If you're reading this message in the Jupyter Notebook or JupyterLab Notebook, it may mean\n",
       "  that the widgets JavaScript is still loading. If this message persists, it\n",
       "  likely means that the widgets JavaScript library is either not installed or\n",
       "  not enabled. See the <a href=\"https://ipywidgets.readthedocs.io/en/stable/user_install.html\">Jupyter\n",
       "  Widgets Documentation</a> for setup instructions.\n",
       "</p>\n",
       "<p>\n",
       "  If you're reading this message in another frontend (for example, a static\n",
       "  rendering on GitHub or <a href=\"https://nbviewer.jupyter.org/\">NBViewer</a>),\n",
       "  it may mean that your frontend doesn't currently support widgets.\n",
       "</p>\n"
      ],
      "text/plain": [
       "HBox(children=(IntProgress(value=0, max=5), HTML(value='')))"
      ]
     },
     "metadata": {},
     "output_type": "display_data"
    },
    {
     "name": "stdout",
     "output_type": "stream",
     "text": [
      "\n",
      "SUBJDataset\n",
      "Train precision 0.9937777777777778 0.9937777777777776 0.9937777777777778\n",
      "Test precision 0.919 0.9190000000000002 0.919\n"
     ]
    },
    {
     "data": {
      "application/vnd.jupyter.widget-view+json": {
       "model_id": "8f9ddbd1137d4630b56d534d1930b832",
       "version_major": 2,
       "version_minor": 0
      },
      "text/html": [
       "<p>Failed to display Jupyter Widget of type <code>HBox</code>.</p>\n",
       "<p>\n",
       "  If you're reading this message in the Jupyter Notebook or JupyterLab Notebook, it may mean\n",
       "  that the widgets JavaScript is still loading. If this message persists, it\n",
       "  likely means that the widgets JavaScript library is either not installed or\n",
       "  not enabled. See the <a href=\"https://ipywidgets.readthedocs.io/en/stable/user_install.html\">Jupyter\n",
       "  Widgets Documentation</a> for setup instructions.\n",
       "</p>\n",
       "<p>\n",
       "  If you're reading this message in another frontend (for example, a static\n",
       "  rendering on GitHub or <a href=\"https://nbviewer.jupyter.org/\">NBViewer</a>),\n",
       "  it may mean that your frontend doesn't currently support widgets.\n",
       "</p>\n"
      ],
      "text/plain": [
       "HBox(children=(IntProgress(value=0, max=5), HTML(value='')))"
      ]
     },
     "metadata": {},
     "output_type": "display_data"
    },
    {
     "name": "stdout",
     "output_type": "stream",
     "text": [
      "\n",
      "MPQADataset\n",
      "Train precision 0.9091671031953903 0.9091671031953903 0.9091671031953903\n",
      "Test precision 0.8322337417530632 0.8322337417530632 0.8322337417530632\n"
     ]
    },
    {
     "data": {
      "application/vnd.jupyter.widget-view+json": {
       "model_id": "4625924efef84524842cdb7688ecea46",
       "version_major": 2,
       "version_minor": 0
      },
      "text/html": [
       "<p>Failed to display Jupyter Widget of type <code>HBox</code>.</p>\n",
       "<p>\n",
       "  If you're reading this message in the Jupyter Notebook or JupyterLab Notebook, it may mean\n",
       "  that the widgets JavaScript is still loading. If this message persists, it\n",
       "  likely means that the widgets JavaScript library is either not installed or\n",
       "  not enabled. See the <a href=\"https://ipywidgets.readthedocs.io/en/stable/user_install.html\">Jupyter\n",
       "  Widgets Documentation</a> for setup instructions.\n",
       "</p>\n",
       "<p>\n",
       "  If you're reading this message in another frontend (for example, a static\n",
       "  rendering on GitHub or <a href=\"https://nbviewer.jupyter.org/\">NBViewer</a>),\n",
       "  it may mean that your frontend doesn't currently support widgets.\n",
       "</p>\n"
      ],
      "text/plain": [
       "HBox(children=(IntProgress(value=0, max=5), HTML(value='')))"
      ]
     },
     "metadata": {},
     "output_type": "display_data"
    },
    {
     "name": "stdout",
     "output_type": "stream",
     "text": [
      "\n",
      "MPQADataset\n",
      "Train precision 0.9757988475641697 0.9757988475641696 0.9757988475641697\n",
      "Test precision 0.8473138548539114 0.8473138548539115 0.8473138548539114\n"
     ]
    },
    {
     "data": {
      "application/vnd.jupyter.widget-view+json": {
       "model_id": "66be8e89dd01472bbf2ac880748ae2af",
       "version_major": 2,
       "version_minor": 0
      },
      "text/html": [
       "<p>Failed to display Jupyter Widget of type <code>HBox</code>.</p>\n",
       "<p>\n",
       "  If you're reading this message in the Jupyter Notebook or JupyterLab Notebook, it may mean\n",
       "  that the widgets JavaScript is still loading. If this message persists, it\n",
       "  likely means that the widgets JavaScript library is either not installed or\n",
       "  not enabled. See the <a href=\"https://ipywidgets.readthedocs.io/en/stable/user_install.html\">Jupyter\n",
       "  Widgets Documentation</a> for setup instructions.\n",
       "</p>\n",
       "<p>\n",
       "  If you're reading this message in another frontend (for example, a static\n",
       "  rendering on GitHub or <a href=\"https://nbviewer.jupyter.org/\">NBViewer</a>),\n",
       "  it may mean that your frontend doesn't currently support widgets.\n",
       "</p>\n"
      ],
      "text/plain": [
       "HBox(children=(IntProgress(value=0, max=5), HTML(value='')))"
      ]
     },
     "metadata": {},
     "output_type": "display_data"
    },
    {
     "name": "stdout",
     "output_type": "stream",
     "text": [
      "\n",
      "MPQADataset\n",
      "Train precision 0.8544787847040335 0.8544787847040334 0.8544787847040335\n",
      "Test precision 0.7992459943449576 0.7992459943449576 0.7992459943449576\n"
     ]
    },
    {
     "data": {
      "application/vnd.jupyter.widget-view+json": {
       "model_id": "c30ab3ea3c504dc19a8a451467db7b08",
       "version_major": 2,
       "version_minor": 0
      },
      "text/html": [
       "<p>Failed to display Jupyter Widget of type <code>HBox</code>.</p>\n",
       "<p>\n",
       "  If you're reading this message in the Jupyter Notebook or JupyterLab Notebook, it may mean\n",
       "  that the widgets JavaScript is still loading. If this message persists, it\n",
       "  likely means that the widgets JavaScript library is either not installed or\n",
       "  not enabled. See the <a href=\"https://ipywidgets.readthedocs.io/en/stable/user_install.html\">Jupyter\n",
       "  Widgets Documentation</a> for setup instructions.\n",
       "</p>\n",
       "<p>\n",
       "  If you're reading this message in another frontend (for example, a static\n",
       "  rendering on GitHub or <a href=\"https://nbviewer.jupyter.org/\">NBViewer</a>),\n",
       "  it may mean that your frontend doesn't currently support widgets.\n",
       "</p>\n"
      ],
      "text/plain": [
       "HBox(children=(IntProgress(value=0, max=5), HTML(value='')))"
      ]
     },
     "metadata": {},
     "output_type": "display_data"
    },
    {
     "name": "stdout",
     "output_type": "stream",
     "text": [
      "\n",
      "MPQADataset\n",
      "Train precision 0.8554216867469879 0.8554216867469879 0.8554216867469879\n",
      "Test precision 0.7992459943449576 0.7992459943449576 0.7992459943449576\n"
     ]
    },
    {
     "data": {
      "application/vnd.jupyter.widget-view+json": {
       "model_id": "f94a60c6d248447db4d9533bbc45fc67",
       "version_major": 2,
       "version_minor": 0
      },
      "text/html": [
       "<p>Failed to display Jupyter Widget of type <code>HBox</code>.</p>\n",
       "<p>\n",
       "  If you're reading this message in the Jupyter Notebook or JupyterLab Notebook, it may mean\n",
       "  that the widgets JavaScript is still loading. If this message persists, it\n",
       "  likely means that the widgets JavaScript library is either not installed or\n",
       "  not enabled. See the <a href=\"https://ipywidgets.readthedocs.io/en/stable/user_install.html\">Jupyter\n",
       "  Widgets Documentation</a> for setup instructions.\n",
       "</p>\n",
       "<p>\n",
       "  If you're reading this message in another frontend (for example, a static\n",
       "  rendering on GitHub or <a href=\"https://nbviewer.jupyter.org/\">NBViewer</a>),\n",
       "  it may mean that your frontend doesn't currently support widgets.\n",
       "</p>\n"
      ],
      "text/plain": [
       "HBox(children=(IntProgress(value=0, max=5), HTML(value='')))"
      ]
     },
     "metadata": {},
     "output_type": "display_data"
    },
    {
     "name": "stdout",
     "output_type": "stream",
     "text": [
      "\n",
      "MPQADataset\n",
      "Train precision 0.8554216867469879 0.8554216867469879 0.8554216867469879\n",
      "Test precision 0.7992459943449576 0.7992459943449576 0.7992459943449576\n"
     ]
    },
    {
     "data": {
      "application/vnd.jupyter.widget-view+json": {
       "model_id": "0b1b5b41dd33459c9f8455fde05a58da",
       "version_major": 2,
       "version_minor": 0
      },
      "text/html": [
       "<p>Failed to display Jupyter Widget of type <code>HBox</code>.</p>\n",
       "<p>\n",
       "  If you're reading this message in the Jupyter Notebook or JupyterLab Notebook, it may mean\n",
       "  that the widgets JavaScript is still loading. If this message persists, it\n",
       "  likely means that the widgets JavaScript library is either not installed or\n",
       "  not enabled. See the <a href=\"https://ipywidgets.readthedocs.io/en/stable/user_install.html\">Jupyter\n",
       "  Widgets Documentation</a> for setup instructions.\n",
       "</p>\n",
       "<p>\n",
       "  If you're reading this message in another frontend (for example, a static\n",
       "  rendering on GitHub or <a href=\"https://nbviewer.jupyter.org/\">NBViewer</a>),\n",
       "  it may mean that your frontend doesn't currently support widgets.\n",
       "</p>\n"
      ],
      "text/plain": [
       "HBox(children=(IntProgress(value=0, max=5), HTML(value='')))"
      ]
     },
     "metadata": {},
     "output_type": "display_data"
    },
    {
     "name": "stdout",
     "output_type": "stream",
     "text": [
      "\n",
      "MPQADataset\n",
      "Train precision 0.8876898899947616 0.8876898899947616 0.8876898899947616\n",
      "Test precision 0.8284637134778511 0.828463713477851 0.8284637134778511\n"
     ]
    },
    {
     "data": {
      "application/vnd.jupyter.widget-view+json": {
       "model_id": "408eec8d6a8a488794cba5f70c0729fc",
       "version_major": 2,
       "version_minor": 0
      },
      "text/html": [
       "<p>Failed to display Jupyter Widget of type <code>HBox</code>.</p>\n",
       "<p>\n",
       "  If you're reading this message in the Jupyter Notebook or JupyterLab Notebook, it may mean\n",
       "  that the widgets JavaScript is still loading. If this message persists, it\n",
       "  likely means that the widgets JavaScript library is either not installed or\n",
       "  not enabled. See the <a href=\"https://ipywidgets.readthedocs.io/en/stable/user_install.html\">Jupyter\n",
       "  Widgets Documentation</a> for setup instructions.\n",
       "</p>\n",
       "<p>\n",
       "  If you're reading this message in another frontend (for example, a static\n",
       "  rendering on GitHub or <a href=\"https://nbviewer.jupyter.org/\">NBViewer</a>),\n",
       "  it may mean that your frontend doesn't currently support widgets.\n",
       "</p>\n"
      ],
      "text/plain": [
       "HBox(children=(IntProgress(value=0, max=5), HTML(value='')))"
      ]
     },
     "metadata": {},
     "output_type": "display_data"
    },
    {
     "name": "stdout",
     "output_type": "stream",
     "text": [
      "\n",
      "MPQADataset\n",
      "Train precision 0.8691461498166579 0.8691461498166578 0.8691461498166579\n",
      "Test precision 0.8190386427898209 0.8190386427898207 0.8190386427898209\n"
     ]
    },
    {
     "data": {
      "application/vnd.jupyter.widget-view+json": {
       "model_id": "8f35c801fe454579b5e749fba7274401",
       "version_major": 2,
       "version_minor": 0
      },
      "text/html": [
       "<p>Failed to display Jupyter Widget of type <code>HBox</code>.</p>\n",
       "<p>\n",
       "  If you're reading this message in the Jupyter Notebook or JupyterLab Notebook, it may mean\n",
       "  that the widgets JavaScript is still loading. If this message persists, it\n",
       "  likely means that the widgets JavaScript library is either not installed or\n",
       "  not enabled. See the <a href=\"https://ipywidgets.readthedocs.io/en/stable/user_install.html\">Jupyter\n",
       "  Widgets Documentation</a> for setup instructions.\n",
       "</p>\n",
       "<p>\n",
       "  If you're reading this message in another frontend (for example, a static\n",
       "  rendering on GitHub or <a href=\"https://nbviewer.jupyter.org/\">NBViewer</a>),\n",
       "  it may mean that your frontend doesn't currently support widgets.\n",
       "</p>\n"
      ],
      "text/plain": [
       "HBox(children=(IntProgress(value=0, max=5), HTML(value='')))"
      ]
     },
     "metadata": {},
     "output_type": "display_data"
    },
    {
     "name": "stdout",
     "output_type": "stream",
     "text": [
      "\n",
      "MPQADataset\n",
      "Train precision 0.9091671031953903 0.9091671031953903 0.9091671031953903\n",
      "Test precision 0.8322337417530632 0.8322337417530632 0.8322337417530632\n"
     ]
    }
   ],
   "source": [
    "for dataset in datasets.ALL_DATASETS:\n",
    "    for sheme in SimpleModel.SCHEMES:\n",
    "        model = SimpleModel(classify.SkClassifier(), use_svd=False, weights=sheme)\n",
    "        test_simple_model(model, dataset, 5, 'logistic__'+sheme, results, dump)"
   ]
  },
  {
   "cell_type": "code",
   "execution_count": 111,
   "metadata": {},
   "outputs": [
    {
     "data": {
      "application/vnd.jupyter.widget-view+json": {
       "model_id": "4d9f299b247e447589605ec10f4b9ab3",
       "version_major": 2,
       "version_minor": 0
      },
      "text/html": [
       "<p>Failed to display Jupyter Widget of type <code>HBox</code>.</p>\n",
       "<p>\n",
       "  If you're reading this message in the Jupyter Notebook or JupyterLab Notebook, it may mean\n",
       "  that the widgets JavaScript is still loading. If this message persists, it\n",
       "  likely means that the widgets JavaScript library is either not installed or\n",
       "  not enabled. See the <a href=\"https://ipywidgets.readthedocs.io/en/stable/user_install.html\">Jupyter\n",
       "  Widgets Documentation</a> for setup instructions.\n",
       "</p>\n",
       "<p>\n",
       "  If you're reading this message in another frontend (for example, a static\n",
       "  rendering on GitHub or <a href=\"https://nbviewer.jupyter.org/\">NBViewer</a>),\n",
       "  it may mean that your frontend doesn't currently support widgets.\n",
       "</p>\n"
      ],
      "text/plain": [
       "HBox(children=(IntProgress(value=0, max=5), HTML(value='')))"
      ]
     },
     "metadata": {},
     "output_type": "display_data"
    },
    {
     "name": "stdout",
     "output_type": "stream",
     "text": [
      "\n",
      "CRDataset\n",
      "Train precision 0.7848101265822784 0.78628201354136 0.787165145716809\n",
      "Test precision 0.7486772486772486 0.7502645502645503 0.7513227513227514\n"
     ]
    },
    {
     "data": {
      "application/vnd.jupyter.widget-view+json": {
       "model_id": "5312416f4b804397bb37de99f1896068",
       "version_major": 2,
       "version_minor": 0
      },
      "text/html": [
       "<p>Failed to display Jupyter Widget of type <code>HBox</code>.</p>\n",
       "<p>\n",
       "  If you're reading this message in the Jupyter Notebook or JupyterLab Notebook, it may mean\n",
       "  that the widgets JavaScript is still loading. If this message persists, it\n",
       "  likely means that the widgets JavaScript library is either not installed or\n",
       "  not enabled. See the <a href=\"https://ipywidgets.readthedocs.io/en/stable/user_install.html\">Jupyter\n",
       "  Widgets Documentation</a> for setup instructions.\n",
       "</p>\n",
       "<p>\n",
       "  If you're reading this message in another frontend (for example, a static\n",
       "  rendering on GitHub or <a href=\"https://nbviewer.jupyter.org/\">NBViewer</a>),\n",
       "  it may mean that your frontend doesn't currently support widgets.\n",
       "</p>\n"
      ],
      "text/plain": [
       "HBox(children=(IntProgress(value=0, max=5), HTML(value='')))"
      ]
     },
     "metadata": {},
     "output_type": "display_data"
    },
    {
     "name": "stdout",
     "output_type": "stream",
     "text": [
      "\n",
      "CRDataset\n",
      "Train precision 0.794818957904033 0.797998233735649 0.8024727700912571\n",
      "Test precision 0.7486772486772486 0.7661375661375662 0.7751322751322751\n"
     ]
    },
    {
     "data": {
      "application/vnd.jupyter.widget-view+json": {
       "model_id": "de46b826fe914ec581d235e4e4ccc53a",
       "version_major": 2,
       "version_minor": 0
      },
      "text/html": [
       "<p>Failed to display Jupyter Widget of type <code>HBox</code>.</p>\n",
       "<p>\n",
       "  If you're reading this message in the Jupyter Notebook or JupyterLab Notebook, it may mean\n",
       "  that the widgets JavaScript is still loading. If this message persists, it\n",
       "  likely means that the widgets JavaScript library is either not installed or\n",
       "  not enabled. See the <a href=\"https://ipywidgets.readthedocs.io/en/stable/user_install.html\">Jupyter\n",
       "  Widgets Documentation</a> for setup instructions.\n",
       "</p>\n",
       "<p>\n",
       "  If you're reading this message in another frontend (for example, a static\n",
       "  rendering on GitHub or <a href=\"https://nbviewer.jupyter.org/\">NBViewer</a>),\n",
       "  it may mean that your frontend doesn't currently support widgets.\n",
       "</p>\n"
      ],
      "text/plain": [
       "HBox(children=(IntProgress(value=0, max=5), HTML(value='')))"
      ]
     },
     "metadata": {},
     "output_type": "display_data"
    },
    {
     "name": "stdout",
     "output_type": "stream",
     "text": [
      "\n",
      "CRDataset\n",
      "Train precision 0.781571975272299 0.7817486017073889 0.7818663526641154\n",
      "Test precision 0.7804232804232805 0.7804232804232805 0.7804232804232805\n"
     ]
    },
    {
     "data": {
      "application/vnd.jupyter.widget-view+json": {
       "model_id": "cc2e330bd942414da3341feaaebc2789",
       "version_major": 2,
       "version_minor": 0
      },
      "text/html": [
       "<p>Failed to display Jupyter Widget of type <code>HBox</code>.</p>\n",
       "<p>\n",
       "  If you're reading this message in the Jupyter Notebook or JupyterLab Notebook, it may mean\n",
       "  that the widgets JavaScript is still loading. If this message persists, it\n",
       "  likely means that the widgets JavaScript library is either not installed or\n",
       "  not enabled. See the <a href=\"https://ipywidgets.readthedocs.io/en/stable/user_install.html\">Jupyter\n",
       "  Widgets Documentation</a> for setup instructions.\n",
       "</p>\n",
       "<p>\n",
       "  If you're reading this message in another frontend (for example, a static\n",
       "  rendering on GitHub or <a href=\"https://nbviewer.jupyter.org/\">NBViewer</a>),\n",
       "  it may mean that your frontend doesn't currently support widgets.\n",
       "</p>\n"
      ],
      "text/plain": [
       "HBox(children=(IntProgress(value=0, max=5), HTML(value='')))"
      ]
     },
     "metadata": {},
     "output_type": "display_data"
    },
    {
     "name": "stdout",
     "output_type": "stream",
     "text": [
      "\n",
      "CRDataset\n",
      "Train precision 0.7848101265822784 0.7848101265822784 0.7848101265822784\n",
      "Test precision 0.7751322751322751 0.7751322751322751 0.7751322751322751\n"
     ]
    },
    {
     "data": {
      "application/vnd.jupyter.widget-view+json": {
       "model_id": "3940b0b30f4c4d7d919ca38952fe62a1",
       "version_major": 2,
       "version_minor": 0
      },
      "text/html": [
       "<p>Failed to display Jupyter Widget of type <code>HBox</code>.</p>\n",
       "<p>\n",
       "  If you're reading this message in the Jupyter Notebook or JupyterLab Notebook, it may mean\n",
       "  that the widgets JavaScript is still loading. If this message persists, it\n",
       "  likely means that the widgets JavaScript library is either not installed or\n",
       "  not enabled. See the <a href=\"https://ipywidgets.readthedocs.io/en/stable/user_install.html\">Jupyter\n",
       "  Widgets Documentation</a> for setup instructions.\n",
       "</p>\n",
       "<p>\n",
       "  If you're reading this message in another frontend (for example, a static\n",
       "  rendering on GitHub or <a href=\"https://nbviewer.jupyter.org/\">NBViewer</a>),\n",
       "  it may mean that your frontend doesn't currently support widgets.\n",
       "</p>\n"
      ],
      "text/plain": [
       "HBox(children=(IntProgress(value=0, max=5), HTML(value='')))"
      ]
     },
     "metadata": {},
     "output_type": "display_data"
    },
    {
     "name": "stdout",
     "output_type": "stream",
     "text": [
      "\n",
      "CRDataset\n",
      "Train precision 0.7845157491904622 0.7847512511039152 0.7848101265822784\n",
      "Test precision 0.7751322751322751 0.7751322751322751 0.7751322751322751\n"
     ]
    },
    {
     "data": {
      "application/vnd.jupyter.widget-view+json": {
       "model_id": "90b84fc94658424ea95861268df55093",
       "version_major": 2,
       "version_minor": 0
      },
      "text/html": [
       "<p>Failed to display Jupyter Widget of type <code>HBox</code>.</p>\n",
       "<p>\n",
       "  If you're reading this message in the Jupyter Notebook or JupyterLab Notebook, it may mean\n",
       "  that the widgets JavaScript is still loading. If this message persists, it\n",
       "  likely means that the widgets JavaScript library is either not installed or\n",
       "  not enabled. See the <a href=\"https://ipywidgets.readthedocs.io/en/stable/user_install.html\">Jupyter\n",
       "  Widgets Documentation</a> for setup instructions.\n",
       "</p>\n",
       "<p>\n",
       "  If you're reading this message in another frontend (for example, a static\n",
       "  rendering on GitHub or <a href=\"https://nbviewer.jupyter.org/\">NBViewer</a>),\n",
       "  it may mean that your frontend doesn't currently support widgets.\n",
       "</p>\n"
      ],
      "text/plain": [
       "HBox(children=(IntProgress(value=0, max=5), HTML(value='')))"
      ]
     },
     "metadata": {},
     "output_type": "display_data"
    },
    {
     "name": "stdout",
     "output_type": "stream",
     "text": [
      "\n",
      "CRDataset\n",
      "Train precision 0.8313217544892553 0.8332646452752428 0.8354430379746836\n",
      "Test precision 0.7671957671957672 0.7735449735449735 0.783068783068783\n"
     ]
    },
    {
     "data": {
      "application/vnd.jupyter.widget-view+json": {
       "model_id": "10885347a38147a0b133f4294a25e397",
       "version_major": 2,
       "version_minor": 0
      },
      "text/html": [
       "<p>Failed to display Jupyter Widget of type <code>HBox</code>.</p>\n",
       "<p>\n",
       "  If you're reading this message in the Jupyter Notebook or JupyterLab Notebook, it may mean\n",
       "  that the widgets JavaScript is still loading. If this message persists, it\n",
       "  likely means that the widgets JavaScript library is either not installed or\n",
       "  not enabled. See the <a href=\"https://ipywidgets.readthedocs.io/en/stable/user_install.html\">Jupyter\n",
       "  Widgets Documentation</a> for setup instructions.\n",
       "</p>\n",
       "<p>\n",
       "  If you're reading this message in another frontend (for example, a static\n",
       "  rendering on GitHub or <a href=\"https://nbviewer.jupyter.org/\">NBViewer</a>),\n",
       "  it may mean that your frontend doesn't currently support widgets.\n",
       "</p>\n"
      ],
      "text/plain": [
       "HBox(children=(IntProgress(value=0, max=5), HTML(value='')))"
      ]
     },
     "metadata": {},
     "output_type": "display_data"
    },
    {
     "name": "stdout",
     "output_type": "stream",
     "text": [
      "\n",
      "CRDataset\n",
      "Train precision 0.7930526935531351 0.796408595819841 0.7995289961730939\n",
      "Test precision 0.7275132275132274 0.728042328042328 0.7301587301587302\n"
     ]
    },
    {
     "data": {
      "application/vnd.jupyter.widget-view+json": {
       "model_id": "c83c3241da1448c99c5b6b5c9b84f0f7",
       "version_major": 2,
       "version_minor": 0
      },
      "text/html": [
       "<p>Failed to display Jupyter Widget of type <code>HBox</code>.</p>\n",
       "<p>\n",
       "  If you're reading this message in the Jupyter Notebook or JupyterLab Notebook, it may mean\n",
       "  that the widgets JavaScript is still loading. If this message persists, it\n",
       "  likely means that the widgets JavaScript library is either not installed or\n",
       "  not enabled. See the <a href=\"https://ipywidgets.readthedocs.io/en/stable/user_install.html\">Jupyter\n",
       "  Widgets Documentation</a> for setup instructions.\n",
       "</p>\n",
       "<p>\n",
       "  If you're reading this message in another frontend (for example, a static\n",
       "  rendering on GitHub or <a href=\"https://nbviewer.jupyter.org/\">NBViewer</a>),\n",
       "  it may mean that your frontend doesn't currently support widgets.\n",
       "</p>\n"
      ],
      "text/plain": [
       "HBox(children=(IntProgress(value=0, max=5), HTML(value='')))"
      ]
     },
     "metadata": {},
     "output_type": "display_data"
    },
    {
     "name": "stdout",
     "output_type": "stream",
     "text": [
      "\n",
      "CRDataset\n",
      "Train precision 0.7833382396231969 0.7850456284957315 0.787165145716809\n",
      "Test precision 0.7433862433862434 0.750793650793651 0.7566137566137566\n"
     ]
    },
    {
     "data": {
      "application/vnd.jupyter.widget-view+json": {
       "model_id": "2866d823de6b44fbbb8d585607d354d2",
       "version_major": 2,
       "version_minor": 0
      },
      "text/html": [
       "<p>Failed to display Jupyter Widget of type <code>HBox</code>.</p>\n",
       "<p>\n",
       "  If you're reading this message in the Jupyter Notebook or JupyterLab Notebook, it may mean\n",
       "  that the widgets JavaScript is still loading. If this message persists, it\n",
       "  likely means that the widgets JavaScript library is either not installed or\n",
       "  not enabled. See the <a href=\"https://ipywidgets.readthedocs.io/en/stable/user_install.html\">Jupyter\n",
       "  Widgets Documentation</a> for setup instructions.\n",
       "</p>\n",
       "<p>\n",
       "  If you're reading this message in another frontend (for example, a static\n",
       "  rendering on GitHub or <a href=\"https://nbviewer.jupyter.org/\">NBViewer</a>),\n",
       "  it may mean that your frontend doesn't currently support widgets.\n",
       "</p>\n"
      ],
      "text/plain": [
       "HBox(children=(IntProgress(value=0, max=5), HTML(value='')))"
      ]
     },
     "metadata": {},
     "output_type": "display_data"
    },
    {
     "name": "stdout",
     "output_type": "stream",
     "text": [
      "\n",
      "MRDataset\n",
      "Train precision 0.6873371547681084 0.690901511203752 0.6939030745179782\n",
      "Test precision 0.6635426429240863 0.6687910028116214 0.6719775070290535\n"
     ]
    },
    {
     "data": {
      "application/vnd.jupyter.widget-view+json": {
       "model_id": "e4ee17dfd1fc4a21a78946a25a19f580",
       "version_major": 2,
       "version_minor": 0
      },
      "text/html": [
       "<p>Failed to display Jupyter Widget of type <code>HBox</code>.</p>\n",
       "<p>\n",
       "  If you're reading this message in the Jupyter Notebook or JupyterLab Notebook, it may mean\n",
       "  that the widgets JavaScript is still loading. If this message persists, it\n",
       "  likely means that the widgets JavaScript library is either not installed or\n",
       "  not enabled. See the <a href=\"https://ipywidgets.readthedocs.io/en/stable/user_install.html\">Jupyter\n",
       "  Widgets Documentation</a> for setup instructions.\n",
       "</p>\n",
       "<p>\n",
       "  If you're reading this message in another frontend (for example, a static\n",
       "  rendering on GitHub or <a href=\"https://nbviewer.jupyter.org/\">NBViewer</a>),\n",
       "  it may mean that your frontend doesn't currently support widgets.\n",
       "</p>\n"
      ],
      "text/plain": [
       "HBox(children=(IntProgress(value=0, max=5), HTML(value='')))"
      ]
     },
     "metadata": {},
     "output_type": "display_data"
    },
    {
     "name": "stdout",
     "output_type": "stream",
     "text": [
      "\n",
      "MRDataset\n",
      "Train precision 0.7040125065138092 0.7067639395518499 0.708077123501824\n",
      "Test precision 0.6841611996251171 0.6879100281162136 0.6944704779756325\n"
     ]
    },
    {
     "data": {
      "application/vnd.jupyter.widget-view+json": {
       "model_id": "05fdb372903242a299f4f9fd1a2d03de",
       "version_major": 2,
       "version_minor": 0
      },
      "text/html": [
       "<p>Failed to display Jupyter Widget of type <code>HBox</code>.</p>\n",
       "<p>\n",
       "  If you're reading this message in the Jupyter Notebook or JupyterLab Notebook, it may mean\n",
       "  that the widgets JavaScript is still loading. If this message persists, it\n",
       "  likely means that the widgets JavaScript library is either not installed or\n",
       "  not enabled. See the <a href=\"https://ipywidgets.readthedocs.io/en/stable/user_install.html\">Jupyter\n",
       "  Widgets Documentation</a> for setup instructions.\n",
       "</p>\n",
       "<p>\n",
       "  If you're reading this message in another frontend (for example, a static\n",
       "  rendering on GitHub or <a href=\"https://nbviewer.jupyter.org/\">NBViewer</a>),\n",
       "  it may mean that your frontend doesn't currently support widgets.\n",
       "</p>\n"
      ],
      "text/plain": [
       "HBox(children=(IntProgress(value=0, max=5), HTML(value='')))"
      ]
     },
     "metadata": {},
     "output_type": "display_data"
    },
    {
     "name": "stdout",
     "output_type": "stream",
     "text": [
      "\n",
      "MRDataset\n",
      "Train precision 0.6852527357998958 0.6858780614903596 0.6867118290776446\n",
      "Test precision 0.6663542642924086 0.6672914714151827 0.6682286785379569\n"
     ]
    },
    {
     "data": {
      "application/vnd.jupyter.widget-view+json": {
       "model_id": "292e2a0819184dc4a641975b67210b61",
       "version_major": 2,
       "version_minor": 0
      },
      "text/html": [
       "<p>Failed to display Jupyter Widget of type <code>HBox</code>.</p>\n",
       "<p>\n",
       "  If you're reading this message in the Jupyter Notebook or JupyterLab Notebook, it may mean\n",
       "  that the widgets JavaScript is still loading. If this message persists, it\n",
       "  likely means that the widgets JavaScript library is either not installed or\n",
       "  not enabled. See the <a href=\"https://ipywidgets.readthedocs.io/en/stable/user_install.html\">Jupyter\n",
       "  Widgets Documentation</a> for setup instructions.\n",
       "</p>\n",
       "<p>\n",
       "  If you're reading this message in another frontend (for example, a static\n",
       "  rendering on GitHub or <a href=\"https://nbviewer.jupyter.org/\">NBViewer</a>),\n",
       "  it may mean that your frontend doesn't currently support widgets.\n",
       "</p>\n"
      ],
      "text/plain": [
       "HBox(children=(IntProgress(value=0, max=5), HTML(value='')))"
      ]
     },
     "metadata": {},
     "output_type": "display_data"
    },
    {
     "name": "stdout",
     "output_type": "stream",
     "text": [
      "\n",
      "MRDataset\n",
      "Train precision 0.6872329338196977 0.688254299114122 0.6892131318394997\n",
      "Test precision 0.6682286785379569 0.67029053420806 0.6729147141518276\n"
     ]
    },
    {
     "data": {
      "application/vnd.jupyter.widget-view+json": {
       "model_id": "809c9313dbb347c4b32ae156d9d9643a",
       "version_major": 2,
       "version_minor": 0
      },
      "text/html": [
       "<p>Failed to display Jupyter Widget of type <code>HBox</code>.</p>\n",
       "<p>\n",
       "  If you're reading this message in the Jupyter Notebook or JupyterLab Notebook, it may mean\n",
       "  that the widgets JavaScript is still loading. If this message persists, it\n",
       "  likely means that the widgets JavaScript library is either not installed or\n",
       "  not enabled. See the <a href=\"https://ipywidgets.readthedocs.io/en/stable/user_install.html\">Jupyter\n",
       "  Widgets Documentation</a> for setup instructions.\n",
       "</p>\n",
       "<p>\n",
       "  If you're reading this message in another frontend (for example, a static\n",
       "  rendering on GitHub or <a href=\"https://nbviewer.jupyter.org/\">NBViewer</a>),\n",
       "  it may mean that your frontend doesn't currently support widgets.\n",
       "</p>\n"
      ],
      "text/plain": [
       "HBox(children=(IntProgress(value=0, max=5), HTML(value='')))"
      ]
     },
     "metadata": {},
     "output_type": "display_data"
    },
    {
     "name": "stdout",
     "output_type": "stream",
     "text": [
      "\n",
      "MRDataset\n",
      "Train precision 0.6871287128712871 0.6880041688379365 0.6886920270974466\n",
      "Test precision 0.6710402999062792 0.6721649484536083 0.6729147141518276\n"
     ]
    },
    {
     "data": {
      "application/vnd.jupyter.widget-view+json": {
       "model_id": "dc4217077c2a4f0ea08ac5fd2d51c333",
       "version_major": 2,
       "version_minor": 0
      },
      "text/html": [
       "<p>Failed to display Jupyter Widget of type <code>HBox</code>.</p>\n",
       "<p>\n",
       "  If you're reading this message in the Jupyter Notebook or JupyterLab Notebook, it may mean\n",
       "  that the widgets JavaScript is still loading. If this message persists, it\n",
       "  likely means that the widgets JavaScript library is either not installed or\n",
       "  not enabled. See the <a href=\"https://ipywidgets.readthedocs.io/en/stable/user_install.html\">Jupyter\n",
       "  Widgets Documentation</a> for setup instructions.\n",
       "</p>\n",
       "<p>\n",
       "  If you're reading this message in another frontend (for example, a static\n",
       "  rendering on GitHub or <a href=\"https://nbviewer.jupyter.org/\">NBViewer</a>),\n",
       "  it may mean that your frontend doesn't currently support widgets.\n",
       "</p>\n"
      ],
      "text/plain": [
       "HBox(children=(IntProgress(value=0, max=5), HTML(value='')))"
      ]
     },
     "metadata": {},
     "output_type": "display_data"
    },
    {
     "name": "stdout",
     "output_type": "stream",
     "text": [
      "\n",
      "MRDataset\n",
      "Train precision 0.7635226680562793 0.7680041688379363 0.7711307972902554\n",
      "Test precision 0.7403936269915652 0.7435801312089971 0.7469540768509841\n"
     ]
    },
    {
     "data": {
      "application/vnd.jupyter.widget-view+json": {
       "model_id": "efe8b152756b47be9fb3a77d8fa5b30c",
       "version_major": 2,
       "version_minor": 0
      },
      "text/html": [
       "<p>Failed to display Jupyter Widget of type <code>HBox</code>.</p>\n",
       "<p>\n",
       "  If you're reading this message in the Jupyter Notebook or JupyterLab Notebook, it may mean\n",
       "  that the widgets JavaScript is still loading. If this message persists, it\n",
       "  likely means that the widgets JavaScript library is either not installed or\n",
       "  not enabled. See the <a href=\"https://ipywidgets.readthedocs.io/en/stable/user_install.html\">Jupyter\n",
       "  Widgets Documentation</a> for setup instructions.\n",
       "</p>\n",
       "<p>\n",
       "  If you're reading this message in another frontend (for example, a static\n",
       "  rendering on GitHub or <a href=\"https://nbviewer.jupyter.org/\">NBViewer</a>),\n",
       "  it may mean that your frontend doesn't currently support widgets.\n",
       "</p>\n"
      ],
      "text/plain": [
       "HBox(children=(IntProgress(value=0, max=5), HTML(value='')))"
      ]
     },
     "metadata": {},
     "output_type": "display_data"
    },
    {
     "name": "stdout",
     "output_type": "stream",
     "text": [
      "\n",
      "MRDataset\n",
      "Train precision 0.7113079729025534 0.7134549244398123 0.7168316831683168\n",
      "Test precision 0.6907216494845361 0.6933458294283037 0.697282099343955\n"
     ]
    },
    {
     "data": {
      "application/vnd.jupyter.widget-view+json": {
       "model_id": "c7c925d72bf34fc290faa19f7d4a7320",
       "version_major": 2,
       "version_minor": 0
      },
      "text/html": [
       "<p>Failed to display Jupyter Widget of type <code>HBox</code>.</p>\n",
       "<p>\n",
       "  If you're reading this message in the Jupyter Notebook or JupyterLab Notebook, it may mean\n",
       "  that the widgets JavaScript is still loading. If this message persists, it\n",
       "  likely means that the widgets JavaScript library is either not installed or\n",
       "  not enabled. See the <a href=\"https://ipywidgets.readthedocs.io/en/stable/user_install.html\">Jupyter\n",
       "  Widgets Documentation</a> for setup instructions.\n",
       "</p>\n",
       "<p>\n",
       "  If you're reading this message in another frontend (for example, a static\n",
       "  rendering on GitHub or <a href=\"https://nbviewer.jupyter.org/\">NBViewer</a>),\n",
       "  it may mean that your frontend doesn't currently support widgets.\n",
       "</p>\n"
      ],
      "text/plain": [
       "HBox(children=(IntProgress(value=0, max=5), HTML(value='')))"
      ]
     },
     "metadata": {},
     "output_type": "display_data"
    },
    {
     "name": "stdout",
     "output_type": "stream",
     "text": [
      "\n",
      "MRDataset\n",
      "Train precision 0.6895257946847316 0.6910891089108911 0.6929650859822825\n",
      "Test precision 0.6597938144329897 0.6708528584817245 0.6776007497656982\n"
     ]
    },
    {
     "data": {
      "application/vnd.jupyter.widget-view+json": {
       "model_id": "87e65deb3c634bf49fd3d9a429833d00",
       "version_major": 2,
       "version_minor": 0
      },
      "text/html": [
       "<p>Failed to display Jupyter Widget of type <code>HBox</code>.</p>\n",
       "<p>\n",
       "  If you're reading this message in the Jupyter Notebook or JupyterLab Notebook, it may mean\n",
       "  that the widgets JavaScript is still loading. If this message persists, it\n",
       "  likely means that the widgets JavaScript library is either not installed or\n",
       "  not enabled. See the <a href=\"https://ipywidgets.readthedocs.io/en/stable/user_install.html\">Jupyter\n",
       "  Widgets Documentation</a> for setup instructions.\n",
       "</p>\n",
       "<p>\n",
       "  If you're reading this message in another frontend (for example, a static\n",
       "  rendering on GitHub or <a href=\"https://nbviewer.jupyter.org/\">NBViewer</a>),\n",
       "  it may mean that your frontend doesn't currently support widgets.\n",
       "</p>\n"
      ],
      "text/plain": [
       "HBox(children=(IntProgress(value=0, max=5), HTML(value='')))"
      ]
     },
     "metadata": {},
     "output_type": "display_data"
    },
    {
     "name": "stdout",
     "output_type": "stream",
     "text": [
      "\n",
      "SUBJDataset\n",
      "Train precision 0.8833333333333333 0.8859999999999999 0.8883333333333333\n",
      "Test precision 0.865 0.8714000000000001 0.877\n"
     ]
    },
    {
     "data": {
      "application/vnd.jupyter.widget-view+json": {
       "model_id": "f4ff6e511b96405abb8d6619a5549021",
       "version_major": 2,
       "version_minor": 0
      },
      "text/html": [
       "<p>Failed to display Jupyter Widget of type <code>HBox</code>.</p>\n",
       "<p>\n",
       "  If you're reading this message in the Jupyter Notebook or JupyterLab Notebook, it may mean\n",
       "  that the widgets JavaScript is still loading. If this message persists, it\n",
       "  likely means that the widgets JavaScript library is either not installed or\n",
       "  not enabled. See the <a href=\"https://ipywidgets.readthedocs.io/en/stable/user_install.html\">Jupyter\n",
       "  Widgets Documentation</a> for setup instructions.\n",
       "</p>\n",
       "<p>\n",
       "  If you're reading this message in another frontend (for example, a static\n",
       "  rendering on GitHub or <a href=\"https://nbviewer.jupyter.org/\">NBViewer</a>),\n",
       "  it may mean that your frontend doesn't currently support widgets.\n",
       "</p>\n"
      ],
      "text/plain": [
       "HBox(children=(IntProgress(value=0, max=5), HTML(value='')))"
      ]
     },
     "metadata": {},
     "output_type": "display_data"
    },
    {
     "name": "stdout",
     "output_type": "stream",
     "text": [
      "\n",
      "SUBJDataset\n",
      "Train precision 0.8953333333333333 0.897 0.8997777777777778\n",
      "Test precision 0.884 0.8879999999999999 0.893\n"
     ]
    },
    {
     "data": {
      "application/vnd.jupyter.widget-view+json": {
       "model_id": "8ccdeb6ff5ef4a56b9eb6f6dba706a6d",
       "version_major": 2,
       "version_minor": 0
      },
      "text/html": [
       "<p>Failed to display Jupyter Widget of type <code>HBox</code>.</p>\n",
       "<p>\n",
       "  If you're reading this message in the Jupyter Notebook or JupyterLab Notebook, it may mean\n",
       "  that the widgets JavaScript is still loading. If this message persists, it\n",
       "  likely means that the widgets JavaScript library is either not installed or\n",
       "  not enabled. See the <a href=\"https://ipywidgets.readthedocs.io/en/stable/user_install.html\">Jupyter\n",
       "  Widgets Documentation</a> for setup instructions.\n",
       "</p>\n",
       "<p>\n",
       "  If you're reading this message in another frontend (for example, a static\n",
       "  rendering on GitHub or <a href=\"https://nbviewer.jupyter.org/\">NBViewer</a>),\n",
       "  it may mean that your frontend doesn't currently support widgets.\n",
       "</p>\n"
      ],
      "text/plain": [
       "HBox(children=(IntProgress(value=0, max=5), HTML(value='')))"
      ]
     },
     "metadata": {},
     "output_type": "display_data"
    },
    {
     "name": "stdout",
     "output_type": "stream",
     "text": [
      "\n",
      "SUBJDataset\n",
      "Train precision 0.8443333333333334 0.8444666666666667 0.8445555555555555\n",
      "Test precision 0.841 0.8417999999999999 0.842\n"
     ]
    },
    {
     "data": {
      "application/vnd.jupyter.widget-view+json": {
       "model_id": "798831b2d28748b9855d018590d2b4e8",
       "version_major": 2,
       "version_minor": 0
      },
      "text/html": [
       "<p>Failed to display Jupyter Widget of type <code>HBox</code>.</p>\n",
       "<p>\n",
       "  If you're reading this message in the Jupyter Notebook or JupyterLab Notebook, it may mean\n",
       "  that the widgets JavaScript is still loading. If this message persists, it\n",
       "  likely means that the widgets JavaScript library is either not installed or\n",
       "  not enabled. See the <a href=\"https://ipywidgets.readthedocs.io/en/stable/user_install.html\">Jupyter\n",
       "  Widgets Documentation</a> for setup instructions.\n",
       "</p>\n",
       "<p>\n",
       "  If you're reading this message in another frontend (for example, a static\n",
       "  rendering on GitHub or <a href=\"https://nbviewer.jupyter.org/\">NBViewer</a>),\n",
       "  it may mean that your frontend doesn't currently support widgets.\n",
       "</p>\n"
      ],
      "text/plain": [
       "HBox(children=(IntProgress(value=0, max=5), HTML(value='')))"
      ]
     },
     "metadata": {},
     "output_type": "display_data"
    },
    {
     "name": "stdout",
     "output_type": "stream",
     "text": [
      "\n",
      "SUBJDataset\n",
      "Train precision 0.8458888888888889 0.8460000000000001 0.8461111111111111\n",
      "Test precision 0.842 0.842 0.842\n"
     ]
    },
    {
     "data": {
      "application/vnd.jupyter.widget-view+json": {
       "model_id": "99b6f7e78bff445388d5e07c3902c179",
       "version_major": 2,
       "version_minor": 0
      },
      "text/html": [
       "<p>Failed to display Jupyter Widget of type <code>HBox</code>.</p>\n",
       "<p>\n",
       "  If you're reading this message in the Jupyter Notebook or JupyterLab Notebook, it may mean\n",
       "  that the widgets JavaScript is still loading. If this message persists, it\n",
       "  likely means that the widgets JavaScript library is either not installed or\n",
       "  not enabled. See the <a href=\"https://ipywidgets.readthedocs.io/en/stable/user_install.html\">Jupyter\n",
       "  Widgets Documentation</a> for setup instructions.\n",
       "</p>\n",
       "<p>\n",
       "  If you're reading this message in another frontend (for example, a static\n",
       "  rendering on GitHub or <a href=\"https://nbviewer.jupyter.org/\">NBViewer</a>),\n",
       "  it may mean that your frontend doesn't currently support widgets.\n",
       "</p>\n"
      ],
      "text/plain": [
       "HBox(children=(IntProgress(value=0, max=5), HTML(value='')))"
      ]
     },
     "metadata": {},
     "output_type": "display_data"
    },
    {
     "name": "stdout",
     "output_type": "stream",
     "text": [
      "\n",
      "SUBJDataset\n",
      "Train precision 0.846 0.846111111111111 0.8462222222222222\n",
      "Test precision 0.842 0.842 0.842\n"
     ]
    },
    {
     "data": {
      "application/vnd.jupyter.widget-view+json": {
       "model_id": "39a296ea27a246c89c333527fcedffd6",
       "version_major": 2,
       "version_minor": 0
      },
      "text/html": [
       "<p>Failed to display Jupyter Widget of type <code>HBox</code>.</p>\n",
       "<p>\n",
       "  If you're reading this message in the Jupyter Notebook or JupyterLab Notebook, it may mean\n",
       "  that the widgets JavaScript is still loading. If this message persists, it\n",
       "  likely means that the widgets JavaScript library is either not installed or\n",
       "  not enabled. See the <a href=\"https://ipywidgets.readthedocs.io/en/stable/user_install.html\">Jupyter\n",
       "  Widgets Documentation</a> for setup instructions.\n",
       "</p>\n",
       "<p>\n",
       "  If you're reading this message in another frontend (for example, a static\n",
       "  rendering on GitHub or <a href=\"https://nbviewer.jupyter.org/\">NBViewer</a>),\n",
       "  it may mean that your frontend doesn't currently support widgets.\n",
       "</p>\n"
      ],
      "text/plain": [
       "HBox(children=(IntProgress(value=0, max=5), HTML(value='')))"
      ]
     },
     "metadata": {},
     "output_type": "display_data"
    },
    {
     "name": "stdout",
     "output_type": "stream",
     "text": [
      "\n",
      "SUBJDataset\n",
      "Train precision 0.8966666666666667 0.8971555555555556 0.8985555555555556\n",
      "Test precision 0.884 0.8865999999999999 0.889\n"
     ]
    },
    {
     "data": {
      "application/vnd.jupyter.widget-view+json": {
       "model_id": "20418dbe505a48209c6b838a3d0ad61b",
       "version_major": 2,
       "version_minor": 0
      },
      "text/html": [
       "<p>Failed to display Jupyter Widget of type <code>HBox</code>.</p>\n",
       "<p>\n",
       "  If you're reading this message in the Jupyter Notebook or JupyterLab Notebook, it may mean\n",
       "  that the widgets JavaScript is still loading. If this message persists, it\n",
       "  likely means that the widgets JavaScript library is either not installed or\n",
       "  not enabled. See the <a href=\"https://ipywidgets.readthedocs.io/en/stable/user_install.html\">Jupyter\n",
       "  Widgets Documentation</a> for setup instructions.\n",
       "</p>\n",
       "<p>\n",
       "  If you're reading this message in another frontend (for example, a static\n",
       "  rendering on GitHub or <a href=\"https://nbviewer.jupyter.org/\">NBViewer</a>),\n",
       "  it may mean that your frontend doesn't currently support widgets.\n",
       "</p>\n"
      ],
      "text/plain": [
       "HBox(children=(IntProgress(value=0, max=5), HTML(value='')))"
      ]
     },
     "metadata": {},
     "output_type": "display_data"
    },
    {
     "name": "stdout",
     "output_type": "stream",
     "text": [
      "\n",
      "SUBJDataset\n",
      "Train precision 0.8882222222222222 0.8892222222222224 0.89\n",
      "Test precision 0.864 0.8664 0.869\n"
     ]
    },
    {
     "data": {
      "application/vnd.jupyter.widget-view+json": {
       "model_id": "cb5db07f4a0c49cea50b426165825a05",
       "version_major": 2,
       "version_minor": 0
      },
      "text/html": [
       "<p>Failed to display Jupyter Widget of type <code>HBox</code>.</p>\n",
       "<p>\n",
       "  If you're reading this message in the Jupyter Notebook or JupyterLab Notebook, it may mean\n",
       "  that the widgets JavaScript is still loading. If this message persists, it\n",
       "  likely means that the widgets JavaScript library is either not installed or\n",
       "  not enabled. See the <a href=\"https://ipywidgets.readthedocs.io/en/stable/user_install.html\">Jupyter\n",
       "  Widgets Documentation</a> for setup instructions.\n",
       "</p>\n",
       "<p>\n",
       "  If you're reading this message in another frontend (for example, a static\n",
       "  rendering on GitHub or <a href=\"https://nbviewer.jupyter.org/\">NBViewer</a>),\n",
       "  it may mean that your frontend doesn't currently support widgets.\n",
       "</p>\n"
      ],
      "text/plain": [
       "HBox(children=(IntProgress(value=0, max=5), HTML(value='')))"
      ]
     },
     "metadata": {},
     "output_type": "display_data"
    },
    {
     "name": "stdout",
     "output_type": "stream",
     "text": [
      "\n",
      "SUBJDataset\n",
      "Train precision 0.883 0.885688888888889 0.888\n",
      "Test precision 0.867 0.8728 0.88\n"
     ]
    },
    {
     "data": {
      "application/vnd.jupyter.widget-view+json": {
       "model_id": "fc31a03de70c445989125560a107c6f9",
       "version_major": 2,
       "version_minor": 0
      },
      "text/html": [
       "<p>Failed to display Jupyter Widget of type <code>HBox</code>.</p>\n",
       "<p>\n",
       "  If you're reading this message in the Jupyter Notebook or JupyterLab Notebook, it may mean\n",
       "  that the widgets JavaScript is still loading. If this message persists, it\n",
       "  likely means that the widgets JavaScript library is either not installed or\n",
       "  not enabled. See the <a href=\"https://ipywidgets.readthedocs.io/en/stable/user_install.html\">Jupyter\n",
       "  Widgets Documentation</a> for setup instructions.\n",
       "</p>\n",
       "<p>\n",
       "  If you're reading this message in another frontend (for example, a static\n",
       "  rendering on GitHub or <a href=\"https://nbviewer.jupyter.org/\">NBViewer</a>),\n",
       "  it may mean that your frontend doesn't currently support widgets.\n",
       "</p>\n"
      ],
      "text/plain": [
       "HBox(children=(IntProgress(value=0, max=5), HTML(value='')))"
      ]
     },
     "metadata": {},
     "output_type": "display_data"
    },
    {
     "name": "stdout",
     "output_type": "stream",
     "text": [
      "\n",
      "MPQADataset\n",
      "Train precision 0.7579884756416972 0.7615924567836565 0.7642744892613934\n",
      "Test precision 0.7389255419415646 0.7400565504241281 0.7417530631479736\n"
     ]
    },
    {
     "data": {
      "application/vnd.jupyter.widget-view+json": {
       "model_id": "39307bef43f74fd2bd87f7e9d36c0a21",
       "version_major": 2,
       "version_minor": 0
      },
      "text/html": [
       "<p>Failed to display Jupyter Widget of type <code>HBox</code>.</p>\n",
       "<p>\n",
       "  If you're reading this message in the Jupyter Notebook or JupyterLab Notebook, it may mean\n",
       "  that the widgets JavaScript is still loading. If this message persists, it\n",
       "  likely means that the widgets JavaScript library is either not installed or\n",
       "  not enabled. See the <a href=\"https://ipywidgets.readthedocs.io/en/stable/user_install.html\">Jupyter\n",
       "  Widgets Documentation</a> for setup instructions.\n",
       "</p>\n",
       "<p>\n",
       "  If you're reading this message in another frontend (for example, a static\n",
       "  rendering on GitHub or <a href=\"https://nbviewer.jupyter.org/\">NBViewer</a>),\n",
       "  it may mean that your frontend doesn't currently support widgets.\n",
       "</p>\n"
      ],
      "text/plain": [
       "HBox(children=(IntProgress(value=0, max=5), HTML(value='')))"
      ]
     },
     "metadata": {},
     "output_type": "display_data"
    },
    {
     "name": "stdout",
     "output_type": "stream",
     "text": [
      "\n",
      "MPQADataset\n",
      "Train precision 0.7602933473022525 0.7623258250392876 0.7639601885804086\n",
      "Test precision 0.7351555136663526 0.7460885956644674 0.7549481621112158\n"
     ]
    },
    {
     "data": {
      "application/vnd.jupyter.widget-view+json": {
       "model_id": "265b5f88ebc3426583ffe52d71c97631",
       "version_major": 2,
       "version_minor": 0
      },
      "text/html": [
       "<p>Failed to display Jupyter Widget of type <code>HBox</code>.</p>\n",
       "<p>\n",
       "  If you're reading this message in the Jupyter Notebook or JupyterLab Notebook, it may mean\n",
       "  that the widgets JavaScript is still loading. If this message persists, it\n",
       "  likely means that the widgets JavaScript library is either not installed or\n",
       "  not enabled. See the <a href=\"https://ipywidgets.readthedocs.io/en/stable/user_install.html\">Jupyter\n",
       "  Widgets Documentation</a> for setup instructions.\n",
       "</p>\n",
       "<p>\n",
       "  If you're reading this message in another frontend (for example, a static\n",
       "  rendering on GitHub or <a href=\"https://nbviewer.jupyter.org/\">NBViewer</a>),\n",
       "  it may mean that your frontend doesn't currently support widgets.\n",
       "</p>\n"
      ],
      "text/plain": [
       "HBox(children=(IntProgress(value=0, max=5), HTML(value='')))"
      ]
     },
     "metadata": {},
     "output_type": "display_data"
    },
    {
     "name": "stdout",
     "output_type": "stream",
     "text": [
      "\n",
      "MPQADataset\n",
      "Train precision 0.7866946045049764 0.7886223153483499 0.7904662126767941\n",
      "Test precision 0.760603204524034 0.7622997172478794 0.763430725730443\n"
     ]
    },
    {
     "data": {
      "application/vnd.jupyter.widget-view+json": {
       "model_id": "3b39a31860cf4ee8a3207a6108023554",
       "version_major": 2,
       "version_minor": 0
      },
      "text/html": [
       "<p>Failed to display Jupyter Widget of type <code>HBox</code>.</p>\n",
       "<p>\n",
       "  If you're reading this message in the Jupyter Notebook or JupyterLab Notebook, it may mean\n",
       "  that the widgets JavaScript is still loading. If this message persists, it\n",
       "  likely means that the widgets JavaScript library is either not installed or\n",
       "  not enabled. See the <a href=\"https://ipywidgets.readthedocs.io/en/stable/user_install.html\">Jupyter\n",
       "  Widgets Documentation</a> for setup instructions.\n",
       "</p>\n",
       "<p>\n",
       "  If you're reading this message in another frontend (for example, a static\n",
       "  rendering on GitHub or <a href=\"https://nbviewer.jupyter.org/\">NBViewer</a>),\n",
       "  it may mean that your frontend doesn't currently support widgets.\n",
       "</p>\n"
      ],
      "text/plain": [
       "HBox(children=(IntProgress(value=0, max=5), HTML(value='')))"
      ]
     },
     "metadata": {},
     "output_type": "display_data"
    },
    {
     "name": "stdout",
     "output_type": "stream",
     "text": [
      "\n",
      "MPQADataset\n",
      "Train precision 0.7886851754845469 0.7892718700890519 0.7899423782084861\n",
      "Test precision 0.7596606974552309 0.7619227144203581 0.765315739868049\n"
     ]
    },
    {
     "data": {
      "application/vnd.jupyter.widget-view+json": {
       "model_id": "a86609448b8b4306aed63f03a5c02e2b",
       "version_major": 2,
       "version_minor": 0
      },
      "text/html": [
       "<p>Failed to display Jupyter Widget of type <code>HBox</code>.</p>\n",
       "<p>\n",
       "  If you're reading this message in the Jupyter Notebook or JupyterLab Notebook, it may mean\n",
       "  that the widgets JavaScript is still loading. If this message persists, it\n",
       "  likely means that the widgets JavaScript library is either not installed or\n",
       "  not enabled. See the <a href=\"https://ipywidgets.readthedocs.io/en/stable/user_install.html\">Jupyter\n",
       "  Widgets Documentation</a> for setup instructions.\n",
       "</p>\n",
       "<p>\n",
       "  If you're reading this message in another frontend (for example, a static\n",
       "  rendering on GitHub or <a href=\"https://nbviewer.jupyter.org/\">NBViewer</a>),\n",
       "  it may mean that your frontend doesn't currently support widgets.\n",
       "</p>\n"
      ],
      "text/plain": [
       "HBox(children=(IntProgress(value=0, max=5), HTML(value='')))"
      ]
     },
     "metadata": {},
     "output_type": "display_data"
    },
    {
     "name": "stdout",
     "output_type": "stream",
     "text": [
      "\n",
      "MPQADataset\n",
      "Train precision 0.7882661079099005 0.789209009952855 0.7906757464641173\n",
      "Test precision 0.760603204524034 0.7639962299717248 0.767200754005655\n"
     ]
    },
    {
     "data": {
      "application/vnd.jupyter.widget-view+json": {
       "model_id": "eee7833c764142a7831f9ad417a7ef8f",
       "version_major": 2,
       "version_minor": 0
      },
      "text/html": [
       "<p>Failed to display Jupyter Widget of type <code>HBox</code>.</p>\n",
       "<p>\n",
       "  If you're reading this message in the Jupyter Notebook or JupyterLab Notebook, it may mean\n",
       "  that the widgets JavaScript is still loading. If this message persists, it\n",
       "  likely means that the widgets JavaScript library is either not installed or\n",
       "  not enabled. See the <a href=\"https://ipywidgets.readthedocs.io/en/stable/user_install.html\">Jupyter\n",
       "  Widgets Documentation</a> for setup instructions.\n",
       "</p>\n",
       "<p>\n",
       "  If you're reading this message in another frontend (for example, a static\n",
       "  rendering on GitHub or <a href=\"https://nbviewer.jupyter.org/\">NBViewer</a>),\n",
       "  it may mean that your frontend doesn't currently support widgets.\n",
       "</p>\n"
      ],
      "text/plain": [
       "HBox(children=(IntProgress(value=0, max=5), HTML(value='')))"
      ]
     },
     "metadata": {},
     "output_type": "display_data"
    },
    {
     "name": "stdout",
     "output_type": "stream",
     "text": [
      "\n",
      "MPQADataset\n",
      "Train precision 0.7909900471451021 0.7918072289156626 0.7941330539549503\n",
      "Test precision 0.766258246936852 0.7700282752120641 0.7728557964184731\n"
     ]
    },
    {
     "data": {
      "application/vnd.jupyter.widget-view+json": {
       "model_id": "3c9f7b95419e4a5da6036c6eb1e953ef",
       "version_major": 2,
       "version_minor": 0
      },
      "text/html": [
       "<p>Failed to display Jupyter Widget of type <code>HBox</code>.</p>\n",
       "<p>\n",
       "  If you're reading this message in the Jupyter Notebook or JupyterLab Notebook, it may mean\n",
       "  that the widgets JavaScript is still loading. If this message persists, it\n",
       "  likely means that the widgets JavaScript library is either not installed or\n",
       "  not enabled. See the <a href=\"https://ipywidgets.readthedocs.io/en/stable/user_install.html\">Jupyter\n",
       "  Widgets Documentation</a> for setup instructions.\n",
       "</p>\n",
       "<p>\n",
       "  If you're reading this message in another frontend (for example, a static\n",
       "  rendering on GitHub or <a href=\"https://nbviewer.jupyter.org/\">NBViewer</a>),\n",
       "  it may mean that your frontend doesn't currently support widgets.\n",
       "</p>\n"
      ],
      "text/plain": [
       "HBox(children=(IntProgress(value=0, max=5), HTML(value='')))"
      ]
     },
     "metadata": {},
     "output_type": "display_data"
    },
    {
     "name": "stdout",
     "output_type": "stream",
     "text": [
      "\n",
      "MPQADataset\n",
      "Train precision 0.7850183342063908 0.788098480880042 0.7899423782084861\n",
      "Test precision 0.7577756833176249 0.7598491988689916 0.76248821866164\n"
     ]
    },
    {
     "data": {
      "application/vnd.jupyter.widget-view+json": {
       "model_id": "956a919dcdde49f78f571d263e3c551b",
       "version_major": 2,
       "version_minor": 0
      },
      "text/html": [
       "<p>Failed to display Jupyter Widget of type <code>HBox</code>.</p>\n",
       "<p>\n",
       "  If you're reading this message in the Jupyter Notebook or JupyterLab Notebook, it may mean\n",
       "  that the widgets JavaScript is still loading. If this message persists, it\n",
       "  likely means that the widgets JavaScript library is either not installed or\n",
       "  not enabled. See the <a href=\"https://ipywidgets.readthedocs.io/en/stable/user_install.html\">Jupyter\n",
       "  Widgets Documentation</a> for setup instructions.\n",
       "</p>\n",
       "<p>\n",
       "  If you're reading this message in another frontend (for example, a static\n",
       "  rendering on GitHub or <a href=\"https://nbviewer.jupyter.org/\">NBViewer</a>),\n",
       "  it may mean that your frontend doesn't currently support widgets.\n",
       "</p>\n"
      ],
      "text/plain": [
       "HBox(children=(IntProgress(value=0, max=5), HTML(value='')))"
      ]
     },
     "metadata": {},
     "output_type": "display_data"
    },
    {
     "name": "stdout",
     "output_type": "stream",
     "text": [
      "\n",
      "MPQADataset\n",
      "Train precision 0.756731272917758 0.7599161864850708 0.7624934520691462\n",
      "Test precision 0.7370405278039585 0.7417530631479735 0.7436380772855796\n"
     ]
    }
   ],
   "source": [
    "for dataset in datasets.ALL_DATASETS:\n",
    "    for sheme in SimpleModel.SCHEMES:\n",
    "        model = SimpleModel(classify.SkClassifier(), use_svd=True, weights=sheme)\n",
    "        test_simple_model(model, dataset, 5, 'logistic_lsa_'+sheme, results, dump)"
   ]
  },
  {
   "cell_type": "code",
   "execution_count": 112,
   "metadata": {
    "scrolled": true
   },
   "outputs": [
    {
     "data": {
      "application/vnd.jupyter.widget-view+json": {
       "model_id": "eb7b504ed6db4a7594872f9a28ef8d35",
       "version_major": 2,
       "version_minor": 0
      },
      "text/html": [
       "<p>Failed to display Jupyter Widget of type <code>HBox</code>.</p>\n",
       "<p>\n",
       "  If you're reading this message in the Jupyter Notebook or JupyterLab Notebook, it may mean\n",
       "  that the widgets JavaScript is still loading. If this message persists, it\n",
       "  likely means that the widgets JavaScript library is either not installed or\n",
       "  not enabled. See the <a href=\"https://ipywidgets.readthedocs.io/en/stable/user_install.html\">Jupyter\n",
       "  Widgets Documentation</a> for setup instructions.\n",
       "</p>\n",
       "<p>\n",
       "  If you're reading this message in another frontend (for example, a static\n",
       "  rendering on GitHub or <a href=\"https://nbviewer.jupyter.org/\">NBViewer</a>),\n",
       "  it may mean that your frontend doesn't currently support widgets.\n",
       "</p>\n"
      ],
      "text/plain": [
       "HBox(children=(IntProgress(value=0, max=5), HTML(value='')))"
      ]
     },
     "metadata": {},
     "output_type": "display_data"
    },
    {
     "name": "stdout",
     "output_type": "stream",
     "text": [
      "\n",
      "CRDataset\n",
      "Train precision 0.6376214306741242 0.6376214306741242 0.6376214306741242\n",
      "Test precision 0.6375661375661376 0.6375661375661376 0.6375661375661376\n"
     ]
    },
    {
     "data": {
      "application/vnd.jupyter.widget-view+json": {
       "model_id": "5782d27c52e64bc7a0200007e1fd40b0",
       "version_major": 2,
       "version_minor": 0
      },
      "text/html": [
       "<p>Failed to display Jupyter Widget of type <code>HBox</code>.</p>\n",
       "<p>\n",
       "  If you're reading this message in the Jupyter Notebook or JupyterLab Notebook, it may mean\n",
       "  that the widgets JavaScript is still loading. If this message persists, it\n",
       "  likely means that the widgets JavaScript library is either not installed or\n",
       "  not enabled. See the <a href=\"https://ipywidgets.readthedocs.io/en/stable/user_install.html\">Jupyter\n",
       "  Widgets Documentation</a> for setup instructions.\n",
       "</p>\n",
       "<p>\n",
       "  If you're reading this message in another frontend (for example, a static\n",
       "  rendering on GitHub or <a href=\"https://nbviewer.jupyter.org/\">NBViewer</a>),\n",
       "  it may mean that your frontend doesn't currently support widgets.\n",
       "</p>\n"
      ],
      "text/plain": [
       "HBox(children=(IntProgress(value=0, max=5), HTML(value='')))"
      ]
     },
     "metadata": {},
     "output_type": "display_data"
    },
    {
     "name": "stdout",
     "output_type": "stream",
     "text": [
      "\n",
      "CRDataset\n",
      "Train precision 0.6376214306741242 0.6376214306741242 0.6376214306741242\n",
      "Test precision 0.6375661375661376 0.6375661375661376 0.6375661375661376\n"
     ]
    },
    {
     "data": {
      "application/vnd.jupyter.widget-view+json": {
       "model_id": "faa3466e06fb43b7965cd1bdb4ecabac",
       "version_major": 2,
       "version_minor": 0
      },
      "text/html": [
       "<p>Failed to display Jupyter Widget of type <code>HBox</code>.</p>\n",
       "<p>\n",
       "  If you're reading this message in the Jupyter Notebook or JupyterLab Notebook, it may mean\n",
       "  that the widgets JavaScript is still loading. If this message persists, it\n",
       "  likely means that the widgets JavaScript library is either not installed or\n",
       "  not enabled. See the <a href=\"https://ipywidgets.readthedocs.io/en/stable/user_install.html\">Jupyter\n",
       "  Widgets Documentation</a> for setup instructions.\n",
       "</p>\n",
       "<p>\n",
       "  If you're reading this message in another frontend (for example, a static\n",
       "  rendering on GitHub or <a href=\"https://nbviewer.jupyter.org/\">NBViewer</a>),\n",
       "  it may mean that your frontend doesn't currently support widgets.\n",
       "</p>\n"
      ],
      "text/plain": [
       "HBox(children=(IntProgress(value=0, max=5), HTML(value='')))"
      ]
     },
     "metadata": {},
     "output_type": "display_data"
    },
    {
     "name": "stdout",
     "output_type": "stream",
     "text": [
      "\n",
      "CRDataset\n",
      "Train precision 0.6376214306741242 0.6376214306741242 0.6376214306741242\n",
      "Test precision 0.6375661375661376 0.6375661375661376 0.6375661375661376\n"
     ]
    },
    {
     "data": {
      "application/vnd.jupyter.widget-view+json": {
       "model_id": "668352180919420dac8a58216373cab1",
       "version_major": 2,
       "version_minor": 0
      },
      "text/html": [
       "<p>Failed to display Jupyter Widget of type <code>HBox</code>.</p>\n",
       "<p>\n",
       "  If you're reading this message in the Jupyter Notebook or JupyterLab Notebook, it may mean\n",
       "  that the widgets JavaScript is still loading. If this message persists, it\n",
       "  likely means that the widgets JavaScript library is either not installed or\n",
       "  not enabled. See the <a href=\"https://ipywidgets.readthedocs.io/en/stable/user_install.html\">Jupyter\n",
       "  Widgets Documentation</a> for setup instructions.\n",
       "</p>\n",
       "<p>\n",
       "  If you're reading this message in another frontend (for example, a static\n",
       "  rendering on GitHub or <a href=\"https://nbviewer.jupyter.org/\">NBViewer</a>),\n",
       "  it may mean that your frontend doesn't currently support widgets.\n",
       "</p>\n"
      ],
      "text/plain": [
       "HBox(children=(IntProgress(value=0, max=5), HTML(value='')))"
      ]
     },
     "metadata": {},
     "output_type": "display_data"
    },
    {
     "name": "stdout",
     "output_type": "stream",
     "text": [
      "\n",
      "CRDataset\n",
      "Train precision 0.6376214306741242 0.6376214306741242 0.6376214306741242\n",
      "Test precision 0.6375661375661376 0.6375661375661376 0.6375661375661376\n"
     ]
    },
    {
     "data": {
      "application/vnd.jupyter.widget-view+json": {
       "model_id": "f32e538d51c84fcc82596156c39a02f0",
       "version_major": 2,
       "version_minor": 0
      },
      "text/html": [
       "<p>Failed to display Jupyter Widget of type <code>HBox</code>.</p>\n",
       "<p>\n",
       "  If you're reading this message in the Jupyter Notebook or JupyterLab Notebook, it may mean\n",
       "  that the widgets JavaScript is still loading. If this message persists, it\n",
       "  likely means that the widgets JavaScript library is either not installed or\n",
       "  not enabled. See the <a href=\"https://ipywidgets.readthedocs.io/en/stable/user_install.html\">Jupyter\n",
       "  Widgets Documentation</a> for setup instructions.\n",
       "</p>\n",
       "<p>\n",
       "  If you're reading this message in another frontend (for example, a static\n",
       "  rendering on GitHub or <a href=\"https://nbviewer.jupyter.org/\">NBViewer</a>),\n",
       "  it may mean that your frontend doesn't currently support widgets.\n",
       "</p>\n"
      ],
      "text/plain": [
       "HBox(children=(IntProgress(value=0, max=5), HTML(value='')))"
      ]
     },
     "metadata": {},
     "output_type": "display_data"
    },
    {
     "name": "stdout",
     "output_type": "stream",
     "text": [
      "\n",
      "CRDataset\n",
      "Train precision 0.6376214306741242 0.6376214306741242 0.6376214306741242\n",
      "Test precision 0.6375661375661376 0.6375661375661376 0.6375661375661376\n"
     ]
    },
    {
     "data": {
      "application/vnd.jupyter.widget-view+json": {
       "model_id": "95e9ce7302464b2ea67b42123b1f8da1",
       "version_major": 2,
       "version_minor": 0
      },
      "text/html": [
       "<p>Failed to display Jupyter Widget of type <code>HBox</code>.</p>\n",
       "<p>\n",
       "  If you're reading this message in the Jupyter Notebook or JupyterLab Notebook, it may mean\n",
       "  that the widgets JavaScript is still loading. If this message persists, it\n",
       "  likely means that the widgets JavaScript library is either not installed or\n",
       "  not enabled. See the <a href=\"https://ipywidgets.readthedocs.io/en/stable/user_install.html\">Jupyter\n",
       "  Widgets Documentation</a> for setup instructions.\n",
       "</p>\n",
       "<p>\n",
       "  If you're reading this message in another frontend (for example, a static\n",
       "  rendering on GitHub or <a href=\"https://nbviewer.jupyter.org/\">NBViewer</a>),\n",
       "  it may mean that your frontend doesn't currently support widgets.\n",
       "</p>\n"
      ],
      "text/plain": [
       "HBox(children=(IntProgress(value=0, max=5), HTML(value='')))"
      ]
     },
     "metadata": {},
     "output_type": "display_data"
    },
    {
     "name": "stdout",
     "output_type": "stream",
     "text": [
      "\n",
      "CRDataset\n",
      "Train precision 0.6376214306741242 0.6376214306741242 0.6376214306741242\n",
      "Test precision 0.6375661375661376 0.6375661375661376 0.6375661375661376\n"
     ]
    },
    {
     "data": {
      "application/vnd.jupyter.widget-view+json": {
       "model_id": "d3d0e1638c26443ab7bb78f1c27d6189",
       "version_major": 2,
       "version_minor": 0
      },
      "text/html": [
       "<p>Failed to display Jupyter Widget of type <code>HBox</code>.</p>\n",
       "<p>\n",
       "  If you're reading this message in the Jupyter Notebook or JupyterLab Notebook, it may mean\n",
       "  that the widgets JavaScript is still loading. If this message persists, it\n",
       "  likely means that the widgets JavaScript library is either not installed or\n",
       "  not enabled. See the <a href=\"https://ipywidgets.readthedocs.io/en/stable/user_install.html\">Jupyter\n",
       "  Widgets Documentation</a> for setup instructions.\n",
       "</p>\n",
       "<p>\n",
       "  If you're reading this message in another frontend (for example, a static\n",
       "  rendering on GitHub or <a href=\"https://nbviewer.jupyter.org/\">NBViewer</a>),\n",
       "  it may mean that your frontend doesn't currently support widgets.\n",
       "</p>\n"
      ],
      "text/plain": [
       "HBox(children=(IntProgress(value=0, max=5), HTML(value='')))"
      ]
     },
     "metadata": {},
     "output_type": "display_data"
    },
    {
     "name": "stdout",
     "output_type": "stream",
     "text": [
      "\n",
      "CRDataset\n",
      "Train precision 0.6376214306741242 0.6376214306741242 0.6376214306741242\n",
      "Test precision 0.6375661375661376 0.6375661375661376 0.6375661375661376\n"
     ]
    },
    {
     "data": {
      "application/vnd.jupyter.widget-view+json": {
       "model_id": "ea0a5e51c5114dcb85e2af09e06f9ecd",
       "version_major": 2,
       "version_minor": 0
      },
      "text/html": [
       "<p>Failed to display Jupyter Widget of type <code>HBox</code>.</p>\n",
       "<p>\n",
       "  If you're reading this message in the Jupyter Notebook or JupyterLab Notebook, it may mean\n",
       "  that the widgets JavaScript is still loading. If this message persists, it\n",
       "  likely means that the widgets JavaScript library is either not installed or\n",
       "  not enabled. See the <a href=\"https://ipywidgets.readthedocs.io/en/stable/user_install.html\">Jupyter\n",
       "  Widgets Documentation</a> for setup instructions.\n",
       "</p>\n",
       "<p>\n",
       "  If you're reading this message in another frontend (for example, a static\n",
       "  rendering on GitHub or <a href=\"https://nbviewer.jupyter.org/\">NBViewer</a>),\n",
       "  it may mean that your frontend doesn't currently support widgets.\n",
       "</p>\n"
      ],
      "text/plain": [
       "HBox(children=(IntProgress(value=0, max=5), HTML(value='')))"
      ]
     },
     "metadata": {},
     "output_type": "display_data"
    },
    {
     "name": "stdout",
     "output_type": "stream",
     "text": [
      "\n",
      "CRDataset\n",
      "Train precision 0.6376214306741242 0.6376214306741242 0.6376214306741242\n",
      "Test precision 0.6375661375661376 0.6375661375661376 0.6375661375661376\n"
     ]
    },
    {
     "data": {
      "application/vnd.jupyter.widget-view+json": {
       "model_id": "98b1e0f7c3fc4568ba1b3d1b4719f5b4",
       "version_major": 2,
       "version_minor": 0
      },
      "text/html": [
       "<p>Failed to display Jupyter Widget of type <code>HBox</code>.</p>\n",
       "<p>\n",
       "  If you're reading this message in the Jupyter Notebook or JupyterLab Notebook, it may mean\n",
       "  that the widgets JavaScript is still loading. If this message persists, it\n",
       "  likely means that the widgets JavaScript library is either not installed or\n",
       "  not enabled. See the <a href=\"https://ipywidgets.readthedocs.io/en/stable/user_install.html\">Jupyter\n",
       "  Widgets Documentation</a> for setup instructions.\n",
       "</p>\n",
       "<p>\n",
       "  If you're reading this message in another frontend (for example, a static\n",
       "  rendering on GitHub or <a href=\"https://nbviewer.jupyter.org/\">NBViewer</a>),\n",
       "  it may mean that your frontend doesn't currently support widgets.\n",
       "</p>\n"
      ],
      "text/plain": [
       "HBox(children=(IntProgress(value=0, max=5), HTML(value='')))"
      ]
     },
     "metadata": {},
     "output_type": "display_data"
    },
    {
     "name": "stdout",
     "output_type": "stream",
     "text": [
      "\n",
      "MRDataset\n",
      "Train precision 0.5003647733194372 0.6944450234497134 0.8588848358520063\n",
      "Test precision 0.4995313964386129 0.6397375820056231 0.7497656982193064\n"
     ]
    },
    {
     "data": {
      "application/vnd.jupyter.widget-view+json": {
       "model_id": "8d38438b595a49fd8a39f8cde45e47fd",
       "version_major": 2,
       "version_minor": 0
      },
      "text/html": [
       "<p>Failed to display Jupyter Widget of type <code>HBox</code>.</p>\n",
       "<p>\n",
       "  If you're reading this message in the Jupyter Notebook or JupyterLab Notebook, it may mean\n",
       "  that the widgets JavaScript is still loading. If this message persists, it\n",
       "  likely means that the widgets JavaScript library is either not installed or\n",
       "  not enabled. See the <a href=\"https://ipywidgets.readthedocs.io/en/stable/user_install.html\">Jupyter\n",
       "  Widgets Documentation</a> for setup instructions.\n",
       "</p>\n",
       "<p>\n",
       "  If you're reading this message in another frontend (for example, a static\n",
       "  rendering on GitHub or <a href=\"https://nbviewer.jupyter.org/\">NBViewer</a>),\n",
       "  it may mean that your frontend doesn't currently support widgets.\n",
       "</p>\n"
      ],
      "text/plain": [
       "HBox(children=(IntProgress(value=0, max=5), HTML(value='')))"
      ]
     },
     "metadata": {},
     "output_type": "display_data"
    },
    {
     "name": "stdout",
     "output_type": "stream",
     "text": [
      "\n",
      "MRDataset\n",
      "Train precision 0.5146430432516935 0.6708702449192288 0.7357998957790516\n",
      "Test precision 0.5089034676663542 0.6322399250234302 0.6850984067478914\n"
     ]
    },
    {
     "data": {
      "application/vnd.jupyter.widget-view+json": {
       "model_id": "10439e570bad44ce97fab283c9bbe70b",
       "version_major": 2,
       "version_minor": 0
      },
      "text/html": [
       "<p>Failed to display Jupyter Widget of type <code>HBox</code>.</p>\n",
       "<p>\n",
       "  If you're reading this message in the Jupyter Notebook or JupyterLab Notebook, it may mean\n",
       "  that the widgets JavaScript is still loading. If this message persists, it\n",
       "  likely means that the widgets JavaScript library is either not installed or\n",
       "  not enabled. See the <a href=\"https://ipywidgets.readthedocs.io/en/stable/user_install.html\">Jupyter\n",
       "  Widgets Documentation</a> for setup instructions.\n",
       "</p>\n",
       "<p>\n",
       "  If you're reading this message in another frontend (for example, a static\n",
       "  rendering on GitHub or <a href=\"https://nbviewer.jupyter.org/\">NBViewer</a>),\n",
       "  it may mean that your frontend doesn't currently support widgets.\n",
       "</p>\n"
      ],
      "text/plain": [
       "HBox(children=(IntProgress(value=0, max=5), HTML(value='')))"
      ]
     },
     "metadata": {},
     "output_type": "display_data"
    },
    {
     "name": "stdout",
     "output_type": "stream",
     "text": [
      "\n",
      "MRDataset\n",
      "Train precision 0.4999478895257947 0.6296195935383013 0.6873371547681084\n",
      "Test precision 0.500468603561387 0.6230552952202437 0.6738519212746017\n"
     ]
    },
    {
     "data": {
      "application/vnd.jupyter.widget-view+json": {
       "model_id": "cb15871dc8404d589952bbc57d8a2e5c",
       "version_major": 2,
       "version_minor": 0
      },
      "text/html": [
       "<p>Failed to display Jupyter Widget of type <code>HBox</code>.</p>\n",
       "<p>\n",
       "  If you're reading this message in the Jupyter Notebook or JupyterLab Notebook, it may mean\n",
       "  that the widgets JavaScript is still loading. If this message persists, it\n",
       "  likely means that the widgets JavaScript library is either not installed or\n",
       "  not enabled. See the <a href=\"https://ipywidgets.readthedocs.io/en/stable/user_install.html\">Jupyter\n",
       "  Widgets Documentation</a> for setup instructions.\n",
       "</p>\n",
       "<p>\n",
       "  If you're reading this message in another frontend (for example, a static\n",
       "  rendering on GitHub or <a href=\"https://nbviewer.jupyter.org/\">NBViewer</a>),\n",
       "  it may mean that your frontend doesn't currently support widgets.\n",
       "</p>\n"
      ],
      "text/plain": [
       "HBox(children=(IntProgress(value=0, max=5), HTML(value='')))"
      ]
     },
     "metadata": {},
     "output_type": "display_data"
    },
    {
     "name": "stdout",
     "output_type": "stream",
     "text": [
      "\n",
      "MRDataset\n",
      "Train precision 0.4999478895257947 0.5930380406461699 0.68097967691506\n",
      "Test precision 0.4995313964386129 0.5799437675726334 0.669165885660731\n"
     ]
    },
    {
     "data": {
      "application/vnd.jupyter.widget-view+json": {
       "model_id": "ee44d01c12584707b522b0ec3ee9b5e7",
       "version_major": 2,
       "version_minor": 0
      },
      "text/html": [
       "<p>Failed to display Jupyter Widget of type <code>HBox</code>.</p>\n",
       "<p>\n",
       "  If you're reading this message in the Jupyter Notebook or JupyterLab Notebook, it may mean\n",
       "  that the widgets JavaScript is still loading. If this message persists, it\n",
       "  likely means that the widgets JavaScript library is either not installed or\n",
       "  not enabled. See the <a href=\"https://ipywidgets.readthedocs.io/en/stable/user_install.html\">Jupyter\n",
       "  Widgets Documentation</a> for setup instructions.\n",
       "</p>\n",
       "<p>\n",
       "  If you're reading this message in another frontend (for example, a static\n",
       "  rendering on GitHub or <a href=\"https://nbviewer.jupyter.org/\">NBViewer</a>),\n",
       "  it may mean that your frontend doesn't currently support widgets.\n",
       "</p>\n"
      ],
      "text/plain": [
       "HBox(children=(IntProgress(value=0, max=5), HTML(value='')))"
      ]
     },
     "metadata": {},
     "output_type": "display_data"
    },
    {
     "name": "stdout",
     "output_type": "stream",
     "text": [
      "\n",
      "MRDataset\n",
      "Train precision 0.4999478895257947 0.6308285565398645 0.6802501302761855\n",
      "Test precision 0.500468603561387 0.6221180880974695 0.6757263355201499\n"
     ]
    },
    {
     "data": {
      "application/vnd.jupyter.widget-view+json": {
       "model_id": "1ef7fc1c74a24024bbad3d3598bb3a7f",
       "version_major": 2,
       "version_minor": 0
      },
      "text/html": [
       "<p>Failed to display Jupyter Widget of type <code>HBox</code>.</p>\n",
       "<p>\n",
       "  If you're reading this message in the Jupyter Notebook or JupyterLab Notebook, it may mean\n",
       "  that the widgets JavaScript is still loading. If this message persists, it\n",
       "  likely means that the widgets JavaScript library is either not installed or\n",
       "  not enabled. See the <a href=\"https://ipywidgets.readthedocs.io/en/stable/user_install.html\">Jupyter\n",
       "  Widgets Documentation</a> for setup instructions.\n",
       "</p>\n",
       "<p>\n",
       "  If you're reading this message in another frontend (for example, a static\n",
       "  rendering on GitHub or <a href=\"https://nbviewer.jupyter.org/\">NBViewer</a>),\n",
       "  it may mean that your frontend doesn't currently support widgets.\n",
       "</p>\n"
      ],
      "text/plain": [
       "HBox(children=(IntProgress(value=0, max=5), HTML(value='')))"
      ]
     },
     "metadata": {},
     "output_type": "display_data"
    },
    {
     "name": "stdout",
     "output_type": "stream",
     "text": [
      "\n",
      "MRDataset\n",
      "Train precision 0.4999478895257947 0.49998957790515897 0.5000521104742053\n",
      "Test precision 0.4995313964386129 0.5000937207122773 0.500468603561387\n"
     ]
    },
    {
     "data": {
      "application/vnd.jupyter.widget-view+json": {
       "model_id": "51a81c331b9e426c8f18883d0a3bb3f5",
       "version_major": 2,
       "version_minor": 0
      },
      "text/html": [
       "<p>Failed to display Jupyter Widget of type <code>HBox</code>.</p>\n",
       "<p>\n",
       "  If you're reading this message in the Jupyter Notebook or JupyterLab Notebook, it may mean\n",
       "  that the widgets JavaScript is still loading. If this message persists, it\n",
       "  likely means that the widgets JavaScript library is either not installed or\n",
       "  not enabled. See the <a href=\"https://ipywidgets.readthedocs.io/en/stable/user_install.html\">Jupyter\n",
       "  Widgets Documentation</a> for setup instructions.\n",
       "</p>\n",
       "<p>\n",
       "  If you're reading this message in another frontend (for example, a static\n",
       "  rendering on GitHub or <a href=\"https://nbviewer.jupyter.org/\">NBViewer</a>),\n",
       "  it may mean that your frontend doesn't currently support widgets.\n",
       "</p>\n"
      ],
      "text/plain": [
       "HBox(children=(IntProgress(value=0, max=5), HTML(value='')))"
      ]
     },
     "metadata": {},
     "output_type": "display_data"
    },
    {
     "name": "stdout",
     "output_type": "stream",
     "text": [
      "\n",
      "MRDataset\n",
      "Train precision 0.4999478895257947 0.4999687337154768 0.5000521104742053\n",
      "Test precision 0.4995313964386129 0.5002811621368322 0.500468603561387\n"
     ]
    },
    {
     "data": {
      "application/vnd.jupyter.widget-view+json": {
       "model_id": "8c1d6674edb44dd485b75d6ec3847d50",
       "version_major": 2,
       "version_minor": 0
      },
      "text/html": [
       "<p>Failed to display Jupyter Widget of type <code>HBox</code>.</p>\n",
       "<p>\n",
       "  If you're reading this message in the Jupyter Notebook or JupyterLab Notebook, it may mean\n",
       "  that the widgets JavaScript is still loading. If this message persists, it\n",
       "  likely means that the widgets JavaScript library is either not installed or\n",
       "  not enabled. See the <a href=\"https://ipywidgets.readthedocs.io/en/stable/user_install.html\">Jupyter\n",
       "  Widgets Documentation</a> for setup instructions.\n",
       "</p>\n",
       "<p>\n",
       "  If you're reading this message in another frontend (for example, a static\n",
       "  rendering on GitHub or <a href=\"https://nbviewer.jupyter.org/\">NBViewer</a>),\n",
       "  it may mean that your frontend doesn't currently support widgets.\n",
       "</p>\n"
      ],
      "text/plain": [
       "HBox(children=(IntProgress(value=0, max=5), HTML(value='')))"
      ]
     },
     "metadata": {},
     "output_type": "display_data"
    },
    {
     "name": "stdout",
     "output_type": "stream",
     "text": [
      "\n",
      "MRDataset\n",
      "Train precision 0.7318394997394476 0.8198019801980199 0.8746221990620114\n",
      "Test precision 0.6719775070290535 0.7216494845360826 0.761012183692596\n"
     ]
    },
    {
     "data": {
      "application/vnd.jupyter.widget-view+json": {
       "model_id": "a25ea18e2acf4602bffcef182ec20d2f",
       "version_major": 2,
       "version_minor": 0
      },
      "text/html": [
       "<p>Failed to display Jupyter Widget of type <code>HBox</code>.</p>\n",
       "<p>\n",
       "  If you're reading this message in the Jupyter Notebook or JupyterLab Notebook, it may mean\n",
       "  that the widgets JavaScript is still loading. If this message persists, it\n",
       "  likely means that the widgets JavaScript library is either not installed or\n",
       "  not enabled. See the <a href=\"https://ipywidgets.readthedocs.io/en/stable/user_install.html\">Jupyter\n",
       "  Widgets Documentation</a> for setup instructions.\n",
       "</p>\n",
       "<p>\n",
       "  If you're reading this message in another frontend (for example, a static\n",
       "  rendering on GitHub or <a href=\"https://nbviewer.jupyter.org/\">NBViewer</a>),\n",
       "  it may mean that your frontend doesn't currently support widgets.\n",
       "</p>\n"
      ],
      "text/plain": [
       "HBox(children=(IntProgress(value=0, max=5), HTML(value='')))"
      ]
     },
     "metadata": {},
     "output_type": "display_data"
    },
    {
     "name": "stdout",
     "output_type": "stream",
     "text": [
      "\n",
      "SUBJDataset\n",
      "Train precision 0.9073333333333333 0.9152444444444445 0.929\n",
      "Test precision 0.861 0.8639999999999999 0.867\n"
     ]
    },
    {
     "data": {
      "application/vnd.jupyter.widget-view+json": {
       "model_id": "05cd9291bfac46d8b802daa44ed07133",
       "version_major": 2,
       "version_minor": 0
      },
      "text/html": [
       "<p>Failed to display Jupyter Widget of type <code>HBox</code>.</p>\n",
       "<p>\n",
       "  If you're reading this message in the Jupyter Notebook or JupyterLab Notebook, it may mean\n",
       "  that the widgets JavaScript is still loading. If this message persists, it\n",
       "  likely means that the widgets JavaScript library is either not installed or\n",
       "  not enabled. See the <a href=\"https://ipywidgets.readthedocs.io/en/stable/user_install.html\">Jupyter\n",
       "  Widgets Documentation</a> for setup instructions.\n",
       "</p>\n",
       "<p>\n",
       "  If you're reading this message in another frontend (for example, a static\n",
       "  rendering on GitHub or <a href=\"https://nbviewer.jupyter.org/\">NBViewer</a>),\n",
       "  it may mean that your frontend doesn't currently support widgets.\n",
       "</p>\n"
      ],
      "text/plain": [
       "HBox(children=(IntProgress(value=0, max=5), HTML(value='')))"
      ]
     },
     "metadata": {},
     "output_type": "display_data"
    },
    {
     "name": "stdout",
     "output_type": "stream",
     "text": [
      "\n",
      "SUBJDataset\n",
      "Train precision 0.6644444444444444 0.7899111111111112 0.8726666666666667\n",
      "Test precision 0.6599999999999999 0.7737999999999999 0.861\n"
     ]
    },
    {
     "data": {
      "application/vnd.jupyter.widget-view+json": {
       "model_id": "0ca86c3bcf0044daa556039b13f2638f",
       "version_major": 2,
       "version_minor": 0
      },
      "text/html": [
       "<p>Failed to display Jupyter Widget of type <code>HBox</code>.</p>\n",
       "<p>\n",
       "  If you're reading this message in the Jupyter Notebook or JupyterLab Notebook, it may mean\n",
       "  that the widgets JavaScript is still loading. If this message persists, it\n",
       "  likely means that the widgets JavaScript library is either not installed or\n",
       "  not enabled. See the <a href=\"https://ipywidgets.readthedocs.io/en/stable/user_install.html\">Jupyter\n",
       "  Widgets Documentation</a> for setup instructions.\n",
       "</p>\n",
       "<p>\n",
       "  If you're reading this message in another frontend (for example, a static\n",
       "  rendering on GitHub or <a href=\"https://nbviewer.jupyter.org/\">NBViewer</a>),\n",
       "  it may mean that your frontend doesn't currently support widgets.\n",
       "</p>\n"
      ],
      "text/plain": [
       "HBox(children=(IntProgress(value=0, max=5), HTML(value='')))"
      ]
     },
     "metadata": {},
     "output_type": "display_data"
    },
    {
     "name": "stdout",
     "output_type": "stream",
     "text": [
      "\n",
      "SUBJDataset\n",
      "Train precision 0.8204444444444444 0.848488888888889 0.8628888888888889\n",
      "Test precision 0.815 0.8392 0.848\n"
     ]
    },
    {
     "data": {
      "application/vnd.jupyter.widget-view+json": {
       "model_id": "2aec7203712b49e99935f3bc428c97fa",
       "version_major": 2,
       "version_minor": 0
      },
      "text/html": [
       "<p>Failed to display Jupyter Widget of type <code>HBox</code>.</p>\n",
       "<p>\n",
       "  If you're reading this message in the Jupyter Notebook or JupyterLab Notebook, it may mean\n",
       "  that the widgets JavaScript is still loading. If this message persists, it\n",
       "  likely means that the widgets JavaScript library is either not installed or\n",
       "  not enabled. See the <a href=\"https://ipywidgets.readthedocs.io/en/stable/user_install.html\">Jupyter\n",
       "  Widgets Documentation</a> for setup instructions.\n",
       "</p>\n",
       "<p>\n",
       "  If you're reading this message in another frontend (for example, a static\n",
       "  rendering on GitHub or <a href=\"https://nbviewer.jupyter.org/\">NBViewer</a>),\n",
       "  it may mean that your frontend doesn't currently support widgets.\n",
       "</p>\n"
      ],
      "text/plain": [
       "HBox(children=(IntProgress(value=0, max=5), HTML(value='')))"
      ]
     },
     "metadata": {},
     "output_type": "display_data"
    },
    {
     "name": "stdout",
     "output_type": "stream",
     "text": [
      "\n",
      "SUBJDataset\n",
      "Train precision 0.8312222222222222 0.8461111111111113 0.8674444444444445\n",
      "Test precision 0.825 0.8383999999999998 0.852\n"
     ]
    },
    {
     "data": {
      "application/vnd.jupyter.widget-view+json": {
       "model_id": "6558907fb3a04de28233d3b2e2bfda0e",
       "version_major": 2,
       "version_minor": 0
      },
      "text/html": [
       "<p>Failed to display Jupyter Widget of type <code>HBox</code>.</p>\n",
       "<p>\n",
       "  If you're reading this message in the Jupyter Notebook or JupyterLab Notebook, it may mean\n",
       "  that the widgets JavaScript is still loading. If this message persists, it\n",
       "  likely means that the widgets JavaScript library is either not installed or\n",
       "  not enabled. See the <a href=\"https://ipywidgets.readthedocs.io/en/stable/user_install.html\">Jupyter\n",
       "  Widgets Documentation</a> for setup instructions.\n",
       "</p>\n",
       "<p>\n",
       "  If you're reading this message in another frontend (for example, a static\n",
       "  rendering on GitHub or <a href=\"https://nbviewer.jupyter.org/\">NBViewer</a>),\n",
       "  it may mean that your frontend doesn't currently support widgets.\n",
       "</p>\n"
      ],
      "text/plain": [
       "HBox(children=(IntProgress(value=0, max=5), HTML(value='')))"
      ]
     },
     "metadata": {},
     "output_type": "display_data"
    },
    {
     "name": "stdout",
     "output_type": "stream",
     "text": [
      "\n",
      "SUBJDataset\n",
      "Train precision 0.8531111111111112 0.858688888888889 0.864111111111111\n",
      "Test precision 0.841 0.8459999999999999 0.85\n"
     ]
    },
    {
     "data": {
      "application/vnd.jupyter.widget-view+json": {
       "model_id": "06e5dc97bffa4d4e9b4ac3ed50b7ad4b",
       "version_major": 2,
       "version_minor": 0
      },
      "text/html": [
       "<p>Failed to display Jupyter Widget of type <code>HBox</code>.</p>\n",
       "<p>\n",
       "  If you're reading this message in the Jupyter Notebook or JupyterLab Notebook, it may mean\n",
       "  that the widgets JavaScript is still loading. If this message persists, it\n",
       "  likely means that the widgets JavaScript library is either not installed or\n",
       "  not enabled. See the <a href=\"https://ipywidgets.readthedocs.io/en/stable/user_install.html\">Jupyter\n",
       "  Widgets Documentation</a> for setup instructions.\n",
       "</p>\n",
       "<p>\n",
       "  If you're reading this message in another frontend (for example, a static\n",
       "  rendering on GitHub or <a href=\"https://nbviewer.jupyter.org/\">NBViewer</a>),\n",
       "  it may mean that your frontend doesn't currently support widgets.\n",
       "</p>\n"
      ],
      "text/plain": [
       "HBox(children=(IntProgress(value=0, max=5), HTML(value='')))"
      ]
     },
     "metadata": {},
     "output_type": "display_data"
    },
    {
     "name": "stdout",
     "output_type": "stream",
     "text": [
      "\n",
      "SUBJDataset\n",
      "Train precision 0.5 0.7763555555555556 0.9628888888888889\n",
      "Test precision 0.5 0.7516 0.923\n"
     ]
    },
    {
     "data": {
      "application/vnd.jupyter.widget-view+json": {
       "model_id": "afe295dcd57a4f849cc435e79e2a334e",
       "version_major": 2,
       "version_minor": 0
      },
      "text/html": [
       "<p>Failed to display Jupyter Widget of type <code>HBox</code>.</p>\n",
       "<p>\n",
       "  If you're reading this message in the Jupyter Notebook or JupyterLab Notebook, it may mean\n",
       "  that the widgets JavaScript is still loading. If this message persists, it\n",
       "  likely means that the widgets JavaScript library is either not installed or\n",
       "  not enabled. See the <a href=\"https://ipywidgets.readthedocs.io/en/stable/user_install.html\">Jupyter\n",
       "  Widgets Documentation</a> for setup instructions.\n",
       "</p>\n",
       "<p>\n",
       "  If you're reading this message in another frontend (for example, a static\n",
       "  rendering on GitHub or <a href=\"https://nbviewer.jupyter.org/\">NBViewer</a>),\n",
       "  it may mean that your frontend doesn't currently support widgets.\n",
       "</p>\n"
      ],
      "text/plain": [
       "HBox(children=(IntProgress(value=0, max=5), HTML(value='')))"
      ]
     },
     "metadata": {},
     "output_type": "display_data"
    },
    {
     "name": "stdout",
     "output_type": "stream",
     "text": [
      "\n",
      "SUBJDataset\n",
      "Train precision 0.5 0.5758666666666666 0.8793333333333333\n",
      "Test precision 0.5 0.568 0.84\n"
     ]
    },
    {
     "data": {
      "application/vnd.jupyter.widget-view+json": {
       "model_id": "73ee7cb4dc1a47c0897de9aa041c692c",
       "version_major": 2,
       "version_minor": 0
      },
      "text/html": [
       "<p>Failed to display Jupyter Widget of type <code>HBox</code>.</p>\n",
       "<p>\n",
       "  If you're reading this message in the Jupyter Notebook or JupyterLab Notebook, it may mean\n",
       "  that the widgets JavaScript is still loading. If this message persists, it\n",
       "  likely means that the widgets JavaScript library is either not installed or\n",
       "  not enabled. See the <a href=\"https://ipywidgets.readthedocs.io/en/stable/user_install.html\">Jupyter\n",
       "  Widgets Documentation</a> for setup instructions.\n",
       "</p>\n",
       "<p>\n",
       "  If you're reading this message in another frontend (for example, a static\n",
       "  rendering on GitHub or <a href=\"https://nbviewer.jupyter.org/\">NBViewer</a>),\n",
       "  it may mean that your frontend doesn't currently support widgets.\n",
       "</p>\n"
      ],
      "text/plain": [
       "HBox(children=(IntProgress(value=0, max=5), HTML(value='')))"
      ]
     },
     "metadata": {},
     "output_type": "display_data"
    },
    {
     "name": "stdout",
     "output_type": "stream",
     "text": [
      "\n",
      "SUBJDataset\n",
      "Train precision 0.907 0.9186888888888888 0.9332222222222222\n",
      "Test precision 0.86 0.867 0.872\n"
     ]
    },
    {
     "data": {
      "application/vnd.jupyter.widget-view+json": {
       "model_id": "57f874097a6e4d3aa9e0e993c07539df",
       "version_major": 2,
       "version_minor": 0
      },
      "text/html": [
       "<p>Failed to display Jupyter Widget of type <code>HBox</code>.</p>\n",
       "<p>\n",
       "  If you're reading this message in the Jupyter Notebook or JupyterLab Notebook, it may mean\n",
       "  that the widgets JavaScript is still loading. If this message persists, it\n",
       "  likely means that the widgets JavaScript library is either not installed or\n",
       "  not enabled. See the <a href=\"https://ipywidgets.readthedocs.io/en/stable/user_install.html\">Jupyter\n",
       "  Widgets Documentation</a> for setup instructions.\n",
       "</p>\n",
       "<p>\n",
       "  If you're reading this message in another frontend (for example, a static\n",
       "  rendering on GitHub or <a href=\"https://nbviewer.jupyter.org/\">NBViewer</a>),\n",
       "  it may mean that your frontend doesn't currently support widgets.\n",
       "</p>\n"
      ],
      "text/plain": [
       "HBox(children=(IntProgress(value=0, max=5), HTML(value='')))"
      ]
     },
     "metadata": {},
     "output_type": "display_data"
    },
    {
     "name": "stdout",
     "output_type": "stream",
     "text": [
      "\n",
      "MPQADataset\n",
      "Train precision 0.6876898899947617 0.6876898899947617 0.6876898899947617\n",
      "Test precision 0.6880301602262017 0.6880301602262017 0.6880301602262017\n"
     ]
    },
    {
     "data": {
      "application/vnd.jupyter.widget-view+json": {
       "model_id": "3ab1933856914bc0bd5db3d1bff8362f",
       "version_major": 2,
       "version_minor": 0
      },
      "text/html": [
       "<p>Failed to display Jupyter Widget of type <code>HBox</code>.</p>\n",
       "<p>\n",
       "  If you're reading this message in the Jupyter Notebook or JupyterLab Notebook, it may mean\n",
       "  that the widgets JavaScript is still loading. If this message persists, it\n",
       "  likely means that the widgets JavaScript library is either not installed or\n",
       "  not enabled. See the <a href=\"https://ipywidgets.readthedocs.io/en/stable/user_install.html\">Jupyter\n",
       "  Widgets Documentation</a> for setup instructions.\n",
       "</p>\n",
       "<p>\n",
       "  If you're reading this message in another frontend (for example, a static\n",
       "  rendering on GitHub or <a href=\"https://nbviewer.jupyter.org/\">NBViewer</a>),\n",
       "  it may mean that your frontend doesn't currently support widgets.\n",
       "</p>\n"
      ],
      "text/plain": [
       "HBox(children=(IntProgress(value=0, max=5), HTML(value='')))"
      ]
     },
     "metadata": {},
     "output_type": "display_data"
    },
    {
     "name": "stdout",
     "output_type": "stream",
     "text": [
      "\n",
      "MPQADataset\n",
      "Train precision 0.6964903090623362 0.6966788894709272 0.6970141435306443\n",
      "Test precision 0.6936852026390198 0.6944392082940622 0.6946277097078228\n"
     ]
    },
    {
     "data": {
      "application/vnd.jupyter.widget-view+json": {
       "model_id": "cffb22dda207445f98c820150beadfce",
       "version_major": 2,
       "version_minor": 0
      },
      "text/html": [
       "<p>Failed to display Jupyter Widget of type <code>HBox</code>.</p>\n",
       "<p>\n",
       "  If you're reading this message in the Jupyter Notebook or JupyterLab Notebook, it may mean\n",
       "  that the widgets JavaScript is still loading. If this message persists, it\n",
       "  likely means that the widgets JavaScript library is either not installed or\n",
       "  not enabled. See the <a href=\"https://ipywidgets.readthedocs.io/en/stable/user_install.html\">Jupyter\n",
       "  Widgets Documentation</a> for setup instructions.\n",
       "</p>\n",
       "<p>\n",
       "  If you're reading this message in another frontend (for example, a static\n",
       "  rendering on GitHub or <a href=\"https://nbviewer.jupyter.org/\">NBViewer</a>),\n",
       "  it may mean that your frontend doesn't currently support widgets.\n",
       "</p>\n"
      ],
      "text/plain": [
       "HBox(children=(IntProgress(value=0, max=5), HTML(value='')))"
      ]
     },
     "metadata": {},
     "output_type": "display_data"
    },
    {
     "name": "stdout",
     "output_type": "stream",
     "text": [
      "\n",
      "MPQADataset\n",
      "Train precision 0.6876898899947617 0.6876898899947617 0.6876898899947617\n",
      "Test precision 0.6880301602262017 0.6880301602262017 0.6880301602262017\n"
     ]
    },
    {
     "data": {
      "application/vnd.jupyter.widget-view+json": {
       "model_id": "f124b2b1b4104acebaf36b708f788130",
       "version_major": 2,
       "version_minor": 0
      },
      "text/html": [
       "<p>Failed to display Jupyter Widget of type <code>HBox</code>.</p>\n",
       "<p>\n",
       "  If you're reading this message in the Jupyter Notebook or JupyterLab Notebook, it may mean\n",
       "  that the widgets JavaScript is still loading. If this message persists, it\n",
       "  likely means that the widgets JavaScript library is either not installed or\n",
       "  not enabled. See the <a href=\"https://ipywidgets.readthedocs.io/en/stable/user_install.html\">Jupyter\n",
       "  Widgets Documentation</a> for setup instructions.\n",
       "</p>\n",
       "<p>\n",
       "  If you're reading this message in another frontend (for example, a static\n",
       "  rendering on GitHub or <a href=\"https://nbviewer.jupyter.org/\">NBViewer</a>),\n",
       "  it may mean that your frontend doesn't currently support widgets.\n",
       "</p>\n"
      ],
      "text/plain": [
       "HBox(children=(IntProgress(value=0, max=5), HTML(value='')))"
      ]
     },
     "metadata": {},
     "output_type": "display_data"
    },
    {
     "name": "stdout",
     "output_type": "stream",
     "text": [
      "\n",
      "MPQADataset\n",
      "Train precision 0.6876898899947617 0.6876898899947617 0.6876898899947617\n",
      "Test precision 0.6880301602262017 0.6880301602262017 0.6880301602262017\n"
     ]
    },
    {
     "data": {
      "application/vnd.jupyter.widget-view+json": {
       "model_id": "45d433fa4b70432387b19e0344153586",
       "version_major": 2,
       "version_minor": 0
      },
      "text/html": [
       "<p>Failed to display Jupyter Widget of type <code>HBox</code>.</p>\n",
       "<p>\n",
       "  If you're reading this message in the Jupyter Notebook or JupyterLab Notebook, it may mean\n",
       "  that the widgets JavaScript is still loading. If this message persists, it\n",
       "  likely means that the widgets JavaScript library is either not installed or\n",
       "  not enabled. See the <a href=\"https://ipywidgets.readthedocs.io/en/stable/user_install.html\">Jupyter\n",
       "  Widgets Documentation</a> for setup instructions.\n",
       "</p>\n",
       "<p>\n",
       "  If you're reading this message in another frontend (for example, a static\n",
       "  rendering on GitHub or <a href=\"https://nbviewer.jupyter.org/\">NBViewer</a>),\n",
       "  it may mean that your frontend doesn't currently support widgets.\n",
       "</p>\n"
      ],
      "text/plain": [
       "HBox(children=(IntProgress(value=0, max=5), HTML(value='')))"
      ]
     },
     "metadata": {},
     "output_type": "display_data"
    },
    {
     "name": "stdout",
     "output_type": "stream",
     "text": [
      "\n",
      "MPQADataset\n",
      "Train precision 0.6876898899947617 0.6876898899947617 0.6876898899947617\n",
      "Test precision 0.6880301602262017 0.6880301602262017 0.6880301602262017\n"
     ]
    },
    {
     "data": {
      "application/vnd.jupyter.widget-view+json": {
       "model_id": "499a398d7dff4ca996f5a92940a08652",
       "version_major": 2,
       "version_minor": 0
      },
      "text/html": [
       "<p>Failed to display Jupyter Widget of type <code>HBox</code>.</p>\n",
       "<p>\n",
       "  If you're reading this message in the Jupyter Notebook or JupyterLab Notebook, it may mean\n",
       "  that the widgets JavaScript is still loading. If this message persists, it\n",
       "  likely means that the widgets JavaScript library is either not installed or\n",
       "  not enabled. See the <a href=\"https://ipywidgets.readthedocs.io/en/stable/user_install.html\">Jupyter\n",
       "  Widgets Documentation</a> for setup instructions.\n",
       "</p>\n",
       "<p>\n",
       "  If you're reading this message in another frontend (for example, a static\n",
       "  rendering on GitHub or <a href=\"https://nbviewer.jupyter.org/\">NBViewer</a>),\n",
       "  it may mean that your frontend doesn't currently support widgets.\n",
       "</p>\n"
      ],
      "text/plain": [
       "HBox(children=(IntProgress(value=0, max=5), HTML(value='')))"
      ]
     },
     "metadata": {},
     "output_type": "display_data"
    },
    {
     "name": "stdout",
     "output_type": "stream",
     "text": [
      "\n",
      "MPQADataset\n",
      "Train precision 0.6876898899947617 0.6876898899947617 0.6876898899947617\n",
      "Test precision 0.6880301602262017 0.6880301602262017 0.6880301602262017\n"
     ]
    },
    {
     "data": {
      "application/vnd.jupyter.widget-view+json": {
       "model_id": "fe54df772262463fad799833f7bfdfa6",
       "version_major": 2,
       "version_minor": 0
      },
      "text/html": [
       "<p>Failed to display Jupyter Widget of type <code>HBox</code>.</p>\n",
       "<p>\n",
       "  If you're reading this message in the Jupyter Notebook or JupyterLab Notebook, it may mean\n",
       "  that the widgets JavaScript is still loading. If this message persists, it\n",
       "  likely means that the widgets JavaScript library is either not installed or\n",
       "  not enabled. See the <a href=\"https://ipywidgets.readthedocs.io/en/stable/user_install.html\">Jupyter\n",
       "  Widgets Documentation</a> for setup instructions.\n",
       "</p>\n",
       "<p>\n",
       "  If you're reading this message in another frontend (for example, a static\n",
       "  rendering on GitHub or <a href=\"https://nbviewer.jupyter.org/\">NBViewer</a>),\n",
       "  it may mean that your frontend doesn't currently support widgets.\n",
       "</p>\n"
      ],
      "text/plain": [
       "HBox(children=(IntProgress(value=0, max=5), HTML(value='')))"
      ]
     },
     "metadata": {},
     "output_type": "display_data"
    },
    {
     "name": "stdout",
     "output_type": "stream",
     "text": [
      "\n",
      "MPQADataset\n",
      "Train precision 0.6876898899947617 0.6876898899947617 0.6876898899947617\n",
      "Test precision 0.6880301602262017 0.6880301602262017 0.6880301602262017\n"
     ]
    },
    {
     "data": {
      "application/vnd.jupyter.widget-view+json": {
       "model_id": "008c8906626e4a1fa6c2d3c9b3db6524",
       "version_major": 2,
       "version_minor": 0
      },
      "text/html": [
       "<p>Failed to display Jupyter Widget of type <code>HBox</code>.</p>\n",
       "<p>\n",
       "  If you're reading this message in the Jupyter Notebook or JupyterLab Notebook, it may mean\n",
       "  that the widgets JavaScript is still loading. If this message persists, it\n",
       "  likely means that the widgets JavaScript library is either not installed or\n",
       "  not enabled. See the <a href=\"https://ipywidgets.readthedocs.io/en/stable/user_install.html\">Jupyter\n",
       "  Widgets Documentation</a> for setup instructions.\n",
       "</p>\n",
       "<p>\n",
       "  If you're reading this message in another frontend (for example, a static\n",
       "  rendering on GitHub or <a href=\"https://nbviewer.jupyter.org/\">NBViewer</a>),\n",
       "  it may mean that your frontend doesn't currently support widgets.\n",
       "</p>\n"
      ],
      "text/plain": [
       "HBox(children=(IntProgress(value=0, max=5), HTML(value='')))"
      ]
     },
     "metadata": {},
     "output_type": "display_data"
    },
    {
     "name": "stdout",
     "output_type": "stream",
     "text": [
      "\n",
      "MPQADataset\n",
      "Train precision 0.6876898899947617 0.6876898899947617 0.6876898899947617\n",
      "Test precision 0.6880301602262017 0.6880301602262017 0.6880301602262017\n"
     ]
    }
   ],
   "source": [
    "for dataset in datasets.ALL_DATASETS:\n",
    "    for sheme in SimpleModel.SCHEMES:\n",
    "        model = SimpleModel(classify.CustomClassifier(), use_svd=False, weights=sheme)\n",
    "        test_simple_model(model, dataset, 5, 'mylogistic_'+sheme, results, dump)"
   ]
  },
  {
   "cell_type": "code",
   "execution_count": 113,
   "metadata": {
    "scrolled": false
   },
   "outputs": [
    {
     "data": {
      "application/vnd.jupyter.widget-view+json": {
       "model_id": "9c16d19e709b446db46ce2ca83f37010",
       "version_major": 2,
       "version_minor": 0
      },
      "text/html": [
       "<p>Failed to display Jupyter Widget of type <code>HBox</code>.</p>\n",
       "<p>\n",
       "  If you're reading this message in the Jupyter Notebook or JupyterLab Notebook, it may mean\n",
       "  that the widgets JavaScript is still loading. If this message persists, it\n",
       "  likely means that the widgets JavaScript library is either not installed or\n",
       "  not enabled. See the <a href=\"https://ipywidgets.readthedocs.io/en/stable/user_install.html\">Jupyter\n",
       "  Widgets Documentation</a> for setup instructions.\n",
       "</p>\n",
       "<p>\n",
       "  If you're reading this message in another frontend (for example, a static\n",
       "  rendering on GitHub or <a href=\"https://nbviewer.jupyter.org/\">NBViewer</a>),\n",
       "  it may mean that your frontend doesn't currently support widgets.\n",
       "</p>\n"
      ],
      "text/plain": [
       "HBox(children=(IntProgress(value=0, max=5), HTML(value='')))"
      ]
     },
     "metadata": {},
     "output_type": "display_data"
    },
    {
     "name": "stdout",
     "output_type": "stream",
     "text": [
      "\n",
      "CRDataset\n",
      "Train precision 0.6376214306741242 0.6376214306741242 0.6376214306741242\n",
      "Test precision 0.6375661375661376 0.6375661375661376 0.6375661375661376\n"
     ]
    },
    {
     "data": {
      "application/vnd.jupyter.widget-view+json": {
       "model_id": "525a0520352041f9882bc46ae92c98e2",
       "version_major": 2,
       "version_minor": 0
      },
      "text/html": [
       "<p>Failed to display Jupyter Widget of type <code>HBox</code>.</p>\n",
       "<p>\n",
       "  If you're reading this message in the Jupyter Notebook or JupyterLab Notebook, it may mean\n",
       "  that the widgets JavaScript is still loading. If this message persists, it\n",
       "  likely means that the widgets JavaScript library is either not installed or\n",
       "  not enabled. See the <a href=\"https://ipywidgets.readthedocs.io/en/stable/user_install.html\">Jupyter\n",
       "  Widgets Documentation</a> for setup instructions.\n",
       "</p>\n",
       "<p>\n",
       "  If you're reading this message in another frontend (for example, a static\n",
       "  rendering on GitHub or <a href=\"https://nbviewer.jupyter.org/\">NBViewer</a>),\n",
       "  it may mean that your frontend doesn't currently support widgets.\n",
       "</p>\n"
      ],
      "text/plain": [
       "HBox(children=(IntProgress(value=0, max=5), HTML(value='')))"
      ]
     },
     "metadata": {},
     "output_type": "display_data"
    },
    {
     "name": "stdout",
     "output_type": "stream",
     "text": [
      "\n",
      "CRDataset\n",
      "Train precision 0.6376214306741242 0.6394465705033854 0.6461583750367972\n",
      "Test precision 0.6375661375661376 0.6407407407407408 0.6455026455026456\n"
     ]
    },
    {
     "data": {
      "application/vnd.jupyter.widget-view+json": {
       "model_id": "120d2280b2294042bbcb2a79ed9f001f",
       "version_major": 2,
       "version_minor": 0
      },
      "text/html": [
       "<p>Failed to display Jupyter Widget of type <code>HBox</code>.</p>\n",
       "<p>\n",
       "  If you're reading this message in the Jupyter Notebook or JupyterLab Notebook, it may mean\n",
       "  that the widgets JavaScript is still loading. If this message persists, it\n",
       "  likely means that the widgets JavaScript library is either not installed or\n",
       "  not enabled. See the <a href=\"https://ipywidgets.readthedocs.io/en/stable/user_install.html\">Jupyter\n",
       "  Widgets Documentation</a> for setup instructions.\n",
       "</p>\n",
       "<p>\n",
       "  If you're reading this message in another frontend (for example, a static\n",
       "  rendering on GitHub or <a href=\"https://nbviewer.jupyter.org/\">NBViewer</a>),\n",
       "  it may mean that your frontend doesn't currently support widgets.\n",
       "</p>\n"
      ],
      "text/plain": [
       "HBox(children=(IntProgress(value=0, max=5), HTML(value='')))"
      ]
     },
     "metadata": {},
     "output_type": "display_data"
    },
    {
     "name": "stdout",
     "output_type": "stream",
     "text": [
      "\n",
      "CRDataset\n",
      "Train precision 0.6376214306741242 0.6376214306741242 0.6376214306741242\n",
      "Test precision 0.6375661375661376 0.6375661375661376 0.6375661375661376\n"
     ]
    },
    {
     "data": {
      "application/vnd.jupyter.widget-view+json": {
       "model_id": "3a8d6c93d458450cbf77707c6f7de340",
       "version_major": 2,
       "version_minor": 0
      },
      "text/html": [
       "<p>Failed to display Jupyter Widget of type <code>HBox</code>.</p>\n",
       "<p>\n",
       "  If you're reading this message in the Jupyter Notebook or JupyterLab Notebook, it may mean\n",
       "  that the widgets JavaScript is still loading. If this message persists, it\n",
       "  likely means that the widgets JavaScript library is either not installed or\n",
       "  not enabled. See the <a href=\"https://ipywidgets.readthedocs.io/en/stable/user_install.html\">Jupyter\n",
       "  Widgets Documentation</a> for setup instructions.\n",
       "</p>\n",
       "<p>\n",
       "  If you're reading this message in another frontend (for example, a static\n",
       "  rendering on GitHub or <a href=\"https://nbviewer.jupyter.org/\">NBViewer</a>),\n",
       "  it may mean that your frontend doesn't currently support widgets.\n",
       "</p>\n"
      ],
      "text/plain": [
       "HBox(children=(IntProgress(value=0, max=5), HTML(value='')))"
      ]
     },
     "metadata": {},
     "output_type": "display_data"
    },
    {
     "name": "stdout",
     "output_type": "stream",
     "text": [
      "\n",
      "CRDataset\n",
      "Train precision 0.6376214306741242 0.6376214306741242 0.6376214306741242\n",
      "Test precision 0.6375661375661376 0.6375661375661376 0.6375661375661376\n"
     ]
    },
    {
     "data": {
      "application/vnd.jupyter.widget-view+json": {
       "model_id": "1b9218b26782454884352f7b86af58fb",
       "version_major": 2,
       "version_minor": 0
      },
      "text/html": [
       "<p>Failed to display Jupyter Widget of type <code>HBox</code>.</p>\n",
       "<p>\n",
       "  If you're reading this message in the Jupyter Notebook or JupyterLab Notebook, it may mean\n",
       "  that the widgets JavaScript is still loading. If this message persists, it\n",
       "  likely means that the widgets JavaScript library is either not installed or\n",
       "  not enabled. See the <a href=\"https://ipywidgets.readthedocs.io/en/stable/user_install.html\">Jupyter\n",
       "  Widgets Documentation</a> for setup instructions.\n",
       "</p>\n",
       "<p>\n",
       "  If you're reading this message in another frontend (for example, a static\n",
       "  rendering on GitHub or <a href=\"https://nbviewer.jupyter.org/\">NBViewer</a>),\n",
       "  it may mean that your frontend doesn't currently support widgets.\n",
       "</p>\n"
      ],
      "text/plain": [
       "HBox(children=(IntProgress(value=0, max=5), HTML(value='')))"
      ]
     },
     "metadata": {},
     "output_type": "display_data"
    },
    {
     "name": "stdout",
     "output_type": "stream",
     "text": [
      "\n",
      "CRDataset\n",
      "Train precision 0.6376214306741242 0.6376214306741242 0.6376214306741242\n",
      "Test precision 0.6375661375661376 0.6375661375661376 0.6375661375661376\n"
     ]
    },
    {
     "data": {
      "application/vnd.jupyter.widget-view+json": {
       "model_id": "512cee544b5e47dd8b4e970c02f6201f",
       "version_major": 2,
       "version_minor": 0
      },
      "text/html": [
       "<p>Failed to display Jupyter Widget of type <code>HBox</code>.</p>\n",
       "<p>\n",
       "  If you're reading this message in the Jupyter Notebook or JupyterLab Notebook, it may mean\n",
       "  that the widgets JavaScript is still loading. If this message persists, it\n",
       "  likely means that the widgets JavaScript library is either not installed or\n",
       "  not enabled. See the <a href=\"https://ipywidgets.readthedocs.io/en/stable/user_install.html\">Jupyter\n",
       "  Widgets Documentation</a> for setup instructions.\n",
       "</p>\n",
       "<p>\n",
       "  If you're reading this message in another frontend (for example, a static\n",
       "  rendering on GitHub or <a href=\"https://nbviewer.jupyter.org/\">NBViewer</a>),\n",
       "  it may mean that your frontend doesn't currently support widgets.\n",
       "</p>\n"
      ],
      "text/plain": [
       "HBox(children=(IntProgress(value=0, max=5), HTML(value='')))"
      ]
     },
     "metadata": {},
     "output_type": "display_data"
    },
    {
     "name": "stdout",
     "output_type": "stream",
     "text": [
      "\n",
      "CRDataset\n",
      "Train precision 0.6376214306741242 0.6376214306741242 0.6376214306741242\n",
      "Test precision 0.6375661375661376 0.6375661375661376 0.6375661375661376\n"
     ]
    },
    {
     "data": {
      "application/vnd.jupyter.widget-view+json": {
       "model_id": "447be95b0e5b40e79b9d42be3376a6bb",
       "version_major": 2,
       "version_minor": 0
      },
      "text/html": [
       "<p>Failed to display Jupyter Widget of type <code>HBox</code>.</p>\n",
       "<p>\n",
       "  If you're reading this message in the Jupyter Notebook or JupyterLab Notebook, it may mean\n",
       "  that the widgets JavaScript is still loading. If this message persists, it\n",
       "  likely means that the widgets JavaScript library is either not installed or\n",
       "  not enabled. See the <a href=\"https://ipywidgets.readthedocs.io/en/stable/user_install.html\">Jupyter\n",
       "  Widgets Documentation</a> for setup instructions.\n",
       "</p>\n",
       "<p>\n",
       "  If you're reading this message in another frontend (for example, a static\n",
       "  rendering on GitHub or <a href=\"https://nbviewer.jupyter.org/\">NBViewer</a>),\n",
       "  it may mean that your frontend doesn't currently support widgets.\n",
       "</p>\n"
      ],
      "text/plain": [
       "HBox(children=(IntProgress(value=0, max=5), HTML(value='')))"
      ]
     },
     "metadata": {},
     "output_type": "display_data"
    },
    {
     "name": "stdout",
     "output_type": "stream",
     "text": [
      "\n",
      "CRDataset\n",
      "Train precision 0.6376214306741242 0.6376214306741242 0.6376214306741242\n",
      "Test precision 0.6375661375661376 0.6375661375661376 0.6375661375661376\n"
     ]
    },
    {
     "data": {
      "application/vnd.jupyter.widget-view+json": {
       "model_id": "d8c64d1d03714b2e9e77e9437963860c",
       "version_major": 2,
       "version_minor": 0
      },
      "text/html": [
       "<p>Failed to display Jupyter Widget of type <code>HBox</code>.</p>\n",
       "<p>\n",
       "  If you're reading this message in the Jupyter Notebook or JupyterLab Notebook, it may mean\n",
       "  that the widgets JavaScript is still loading. If this message persists, it\n",
       "  likely means that the widgets JavaScript library is either not installed or\n",
       "  not enabled. See the <a href=\"https://ipywidgets.readthedocs.io/en/stable/user_install.html\">Jupyter\n",
       "  Widgets Documentation</a> for setup instructions.\n",
       "</p>\n",
       "<p>\n",
       "  If you're reading this message in another frontend (for example, a static\n",
       "  rendering on GitHub or <a href=\"https://nbviewer.jupyter.org/\">NBViewer</a>),\n",
       "  it may mean that your frontend doesn't currently support widgets.\n",
       "</p>\n"
      ],
      "text/plain": [
       "HBox(children=(IntProgress(value=0, max=5), HTML(value='')))"
      ]
     },
     "metadata": {},
     "output_type": "display_data"
    },
    {
     "name": "stdout",
     "output_type": "stream",
     "text": [
      "\n",
      "CRDataset\n",
      "Train precision 0.6376214306741242 0.6376214306741242 0.6376214306741242\n",
      "Test precision 0.6375661375661376 0.6375661375661376 0.6375661375661376\n"
     ]
    },
    {
     "data": {
      "application/vnd.jupyter.widget-view+json": {
       "model_id": "aa07627892f2472e8610dbca3a08adf1",
       "version_major": 2,
       "version_minor": 0
      },
      "text/html": [
       "<p>Failed to display Jupyter Widget of type <code>HBox</code>.</p>\n",
       "<p>\n",
       "  If you're reading this message in the Jupyter Notebook or JupyterLab Notebook, it may mean\n",
       "  that the widgets JavaScript is still loading. If this message persists, it\n",
       "  likely means that the widgets JavaScript library is either not installed or\n",
       "  not enabled. See the <a href=\"https://ipywidgets.readthedocs.io/en/stable/user_install.html\">Jupyter\n",
       "  Widgets Documentation</a> for setup instructions.\n",
       "</p>\n",
       "<p>\n",
       "  If you're reading this message in another frontend (for example, a static\n",
       "  rendering on GitHub or <a href=\"https://nbviewer.jupyter.org/\">NBViewer</a>),\n",
       "  it may mean that your frontend doesn't currently support widgets.\n",
       "</p>\n"
      ],
      "text/plain": [
       "HBox(children=(IntProgress(value=0, max=5), HTML(value='')))"
      ]
     },
     "metadata": {},
     "output_type": "display_data"
    },
    {
     "name": "stdout",
     "output_type": "stream",
     "text": [
      "\n",
      "MRDataset\n",
      "Train precision 0.5000521104742053 0.6128400208441896 0.7069306930693069\n",
      "Test precision 0.4995313964386129 0.5966260543580131 0.6738519212746017\n"
     ]
    },
    {
     "data": {
      "application/vnd.jupyter.widget-view+json": {
       "model_id": "f3016a0947f542158aa3fe9b87624560",
       "version_major": 2,
       "version_minor": 0
      },
      "text/html": [
       "<p>Failed to display Jupyter Widget of type <code>HBox</code>.</p>\n",
       "<p>\n",
       "  If you're reading this message in the Jupyter Notebook or JupyterLab Notebook, it may mean\n",
       "  that the widgets JavaScript is still loading. If this message persists, it\n",
       "  likely means that the widgets JavaScript library is either not installed or\n",
       "  not enabled. See the <a href=\"https://ipywidgets.readthedocs.io/en/stable/user_install.html\">Jupyter\n",
       "  Widgets Documentation</a> for setup instructions.\n",
       "</p>\n",
       "<p>\n",
       "  If you're reading this message in another frontend (for example, a static\n",
       "  rendering on GitHub or <a href=\"https://nbviewer.jupyter.org/\">NBViewer</a>),\n",
       "  it may mean that your frontend doesn't currently support widgets.\n",
       "</p>\n"
      ],
      "text/plain": [
       "HBox(children=(IntProgress(value=0, max=5), HTML(value='')))"
      ]
     },
     "metadata": {},
     "output_type": "display_data"
    },
    {
     "name": "stdout",
     "output_type": "stream",
     "text": [
      "\n",
      "MRDataset\n",
      "Train precision 0.4999478895257947 0.5718811881188118 0.7067222511724857\n",
      "Test precision 0.500468603561387 0.557825679475164 0.6672914714151827\n"
     ]
    },
    {
     "data": {
      "application/vnd.jupyter.widget-view+json": {
       "model_id": "33adf11c33cb40658206939813d0ce82",
       "version_major": 2,
       "version_minor": 0
      },
      "text/html": [
       "<p>Failed to display Jupyter Widget of type <code>HBox</code>.</p>\n",
       "<p>\n",
       "  If you're reading this message in the Jupyter Notebook or JupyterLab Notebook, it may mean\n",
       "  that the widgets JavaScript is still loading. If this message persists, it\n",
       "  likely means that the widgets JavaScript library is either not installed or\n",
       "  not enabled. See the <a href=\"https://ipywidgets.readthedocs.io/en/stable/user_install.html\">Jupyter\n",
       "  Widgets Documentation</a> for setup instructions.\n",
       "</p>\n",
       "<p>\n",
       "  If you're reading this message in another frontend (for example, a static\n",
       "  rendering on GitHub or <a href=\"https://nbviewer.jupyter.org/\">NBViewer</a>),\n",
       "  it may mean that your frontend doesn't currently support widgets.\n",
       "</p>\n"
      ],
      "text/plain": [
       "HBox(children=(IntProgress(value=0, max=5), HTML(value='')))"
      ]
     },
     "metadata": {},
     "output_type": "display_data"
    },
    {
     "name": "stdout",
     "output_type": "stream",
     "text": [
      "\n",
      "MRDataset\n",
      "Train precision 0.4999478895257947 0.6154038561750912 0.666284523189161\n",
      "Test precision 0.500468603561387 0.6048734770384255 0.6569821930646673\n"
     ]
    },
    {
     "data": {
      "application/vnd.jupyter.widget-view+json": {
       "model_id": "cdb1706c18134813851cd45ddd8062eb",
       "version_major": 2,
       "version_minor": 0
      },
      "text/html": [
       "<p>Failed to display Jupyter Widget of type <code>HBox</code>.</p>\n",
       "<p>\n",
       "  If you're reading this message in the Jupyter Notebook or JupyterLab Notebook, it may mean\n",
       "  that the widgets JavaScript is still loading. If this message persists, it\n",
       "  likely means that the widgets JavaScript library is either not installed or\n",
       "  not enabled. See the <a href=\"https://ipywidgets.readthedocs.io/en/stable/user_install.html\">Jupyter\n",
       "  Widgets Documentation</a> for setup instructions.\n",
       "</p>\n",
       "<p>\n",
       "  If you're reading this message in another frontend (for example, a static\n",
       "  rendering on GitHub or <a href=\"https://nbviewer.jupyter.org/\">NBViewer</a>),\n",
       "  it may mean that your frontend doesn't currently support widgets.\n",
       "</p>\n"
      ],
      "text/plain": [
       "HBox(children=(IntProgress(value=0, max=5), HTML(value='')))"
      ]
     },
     "metadata": {},
     "output_type": "display_data"
    },
    {
     "name": "stdout",
     "output_type": "stream",
     "text": [
      "\n",
      "MRDataset\n",
      "Train precision 0.4999478895257947 0.5919541427826993 0.6729546638874413\n",
      "Test precision 0.4995313964386129 0.5831302717900656 0.6654170571696345\n"
     ]
    },
    {
     "data": {
      "application/vnd.jupyter.widget-view+json": {
       "model_id": "2f1b9b91fd8f4a138e25d51306773b89",
       "version_major": 2,
       "version_minor": 0
      },
      "text/html": [
       "<p>Failed to display Jupyter Widget of type <code>HBox</code>.</p>\n",
       "<p>\n",
       "  If you're reading this message in the Jupyter Notebook or JupyterLab Notebook, it may mean\n",
       "  that the widgets JavaScript is still loading. If this message persists, it\n",
       "  likely means that the widgets JavaScript library is either not installed or\n",
       "  not enabled. See the <a href=\"https://ipywidgets.readthedocs.io/en/stable/user_install.html\">Jupyter\n",
       "  Widgets Documentation</a> for setup instructions.\n",
       "</p>\n",
       "<p>\n",
       "  If you're reading this message in another frontend (for example, a static\n",
       "  rendering on GitHub or <a href=\"https://nbviewer.jupyter.org/\">NBViewer</a>),\n",
       "  it may mean that your frontend doesn't currently support widgets.\n",
       "</p>\n"
      ],
      "text/plain": [
       "HBox(children=(IntProgress(value=0, max=5), HTML(value='')))"
      ]
     },
     "metadata": {},
     "output_type": "display_data"
    },
    {
     "name": "stdout",
     "output_type": "stream",
     "text": [
      "\n",
      "MRDataset\n",
      "Train precision 0.4999478895257947 0.600333507034914 0.6792079207920791\n",
      "Test precision 0.4995313964386129 0.5964386129334582 0.6747891283973758\n"
     ]
    },
    {
     "data": {
      "application/vnd.jupyter.widget-view+json": {
       "model_id": "692530e9e5244ae98e88dd15408e4e55",
       "version_major": 2,
       "version_minor": 0
      },
      "text/html": [
       "<p>Failed to display Jupyter Widget of type <code>HBox</code>.</p>\n",
       "<p>\n",
       "  If you're reading this message in the Jupyter Notebook or JupyterLab Notebook, it may mean\n",
       "  that the widgets JavaScript is still loading. If this message persists, it\n",
       "  likely means that the widgets JavaScript library is either not installed or\n",
       "  not enabled. See the <a href=\"https://ipywidgets.readthedocs.io/en/stable/user_install.html\">Jupyter\n",
       "  Widgets Documentation</a> for setup instructions.\n",
       "</p>\n",
       "<p>\n",
       "  If you're reading this message in another frontend (for example, a static\n",
       "  rendering on GitHub or <a href=\"https://nbviewer.jupyter.org/\">NBViewer</a>),\n",
       "  it may mean that your frontend doesn't currently support widgets.\n",
       "</p>\n"
      ],
      "text/plain": [
       "HBox(children=(IntProgress(value=0, max=5), HTML(value='')))"
      ]
     },
     "metadata": {},
     "output_type": "display_data"
    },
    {
     "name": "stdout",
     "output_type": "stream",
     "text": [
      "\n",
      "MRDataset\n",
      "Train precision 0.4999478895257947 0.5000312662845232 0.5000521104742053\n",
      "Test precision 0.4995313964386129 0.4997188378631677 0.500468603561387\n"
     ]
    },
    {
     "data": {
      "application/vnd.jupyter.widget-view+json": {
       "model_id": "ad830aa1201041218c770d51028dd6e3",
       "version_major": 2,
       "version_minor": 0
      },
      "text/html": [
       "<p>Failed to display Jupyter Widget of type <code>HBox</code>.</p>\n",
       "<p>\n",
       "  If you're reading this message in the Jupyter Notebook or JupyterLab Notebook, it may mean\n",
       "  that the widgets JavaScript is still loading. If this message persists, it\n",
       "  likely means that the widgets JavaScript library is either not installed or\n",
       "  not enabled. See the <a href=\"https://ipywidgets.readthedocs.io/en/stable/user_install.html\">Jupyter\n",
       "  Widgets Documentation</a> for setup instructions.\n",
       "</p>\n",
       "<p>\n",
       "  If you're reading this message in another frontend (for example, a static\n",
       "  rendering on GitHub or <a href=\"https://nbviewer.jupyter.org/\">NBViewer</a>),\n",
       "  it may mean that your frontend doesn't currently support widgets.\n",
       "</p>\n"
      ],
      "text/plain": [
       "HBox(children=(IntProgress(value=0, max=5), HTML(value='')))"
      ]
     },
     "metadata": {},
     "output_type": "display_data"
    },
    {
     "name": "stdout",
     "output_type": "stream",
     "text": [
      "\n",
      "MRDataset\n",
      "Train precision 0.4999478895257947 0.500010422094841 0.5000521104742053\n",
      "Test precision 0.4995313964386129 0.49990627928772247 0.500468603561387\n"
     ]
    },
    {
     "data": {
      "application/vnd.jupyter.widget-view+json": {
       "model_id": "5bff13741b724bc5ad15f9a1e0f8b30f",
       "version_major": 2,
       "version_minor": 0
      },
      "text/html": [
       "<p>Failed to display Jupyter Widget of type <code>HBox</code>.</p>\n",
       "<p>\n",
       "  If you're reading this message in the Jupyter Notebook or JupyterLab Notebook, it may mean\n",
       "  that the widgets JavaScript is still loading. If this message persists, it\n",
       "  likely means that the widgets JavaScript library is either not installed or\n",
       "  not enabled. See the <a href=\"https://ipywidgets.readthedocs.io/en/stable/user_install.html\">Jupyter\n",
       "  Widgets Documentation</a> for setup instructions.\n",
       "</p>\n",
       "<p>\n",
       "  If you're reading this message in another frontend (for example, a static\n",
       "  rendering on GitHub or <a href=\"https://nbviewer.jupyter.org/\">NBViewer</a>),\n",
       "  it may mean that your frontend doesn't currently support widgets.\n",
       "</p>\n"
      ],
      "text/plain": [
       "HBox(children=(IntProgress(value=0, max=5), HTML(value='')))"
      ]
     },
     "metadata": {},
     "output_type": "display_data"
    },
    {
     "name": "stdout",
     "output_type": "stream",
     "text": [
      "\n",
      "MRDataset\n",
      "Train precision 0.5000521104742053 0.5591662324127149 0.6754559666492965\n",
      "Test precision 0.4995313964386129 0.5568884723523898 0.6654170571696345\n"
     ]
    },
    {
     "data": {
      "application/vnd.jupyter.widget-view+json": {
       "model_id": "521fa7e372834bb7a38ccc473e5334b8",
       "version_major": 2,
       "version_minor": 0
      },
      "text/html": [
       "<p>Failed to display Jupyter Widget of type <code>HBox</code>.</p>\n",
       "<p>\n",
       "  If you're reading this message in the Jupyter Notebook or JupyterLab Notebook, it may mean\n",
       "  that the widgets JavaScript is still loading. If this message persists, it\n",
       "  likely means that the widgets JavaScript library is either not installed or\n",
       "  not enabled. See the <a href=\"https://ipywidgets.readthedocs.io/en/stable/user_install.html\">Jupyter\n",
       "  Widgets Documentation</a> for setup instructions.\n",
       "</p>\n",
       "<p>\n",
       "  If you're reading this message in another frontend (for example, a static\n",
       "  rendering on GitHub or <a href=\"https://nbviewer.jupyter.org/\">NBViewer</a>),\n",
       "  it may mean that your frontend doesn't currently support widgets.\n",
       "</p>\n"
      ],
      "text/plain": [
       "HBox(children=(IntProgress(value=0, max=5), HTML(value='')))"
      ]
     },
     "metadata": {},
     "output_type": "display_data"
    },
    {
     "name": "stdout",
     "output_type": "stream",
     "text": [
      "\n",
      "SUBJDataset\n",
      "Train precision 0.8765555555555555 0.8857555555555555 0.8948888888888888\n",
      "Test precision 0.851 0.8573999999999999 0.862\n"
     ]
    },
    {
     "data": {
      "application/vnd.jupyter.widget-view+json": {
       "model_id": "7ad05c4955124ff9a725fbc922705bf4",
       "version_major": 2,
       "version_minor": 0
      },
      "text/html": [
       "<p>Failed to display Jupyter Widget of type <code>HBox</code>.</p>\n",
       "<p>\n",
       "  If you're reading this message in the Jupyter Notebook or JupyterLab Notebook, it may mean\n",
       "  that the widgets JavaScript is still loading. If this message persists, it\n",
       "  likely means that the widgets JavaScript library is either not installed or\n",
       "  not enabled. See the <a href=\"https://ipywidgets.readthedocs.io/en/stable/user_install.html\">Jupyter\n",
       "  Widgets Documentation</a> for setup instructions.\n",
       "</p>\n",
       "<p>\n",
       "  If you're reading this message in another frontend (for example, a static\n",
       "  rendering on GitHub or <a href=\"https://nbviewer.jupyter.org/\">NBViewer</a>),\n",
       "  it may mean that your frontend doesn't currently support widgets.\n",
       "</p>\n"
      ],
      "text/plain": [
       "HBox(children=(IntProgress(value=0, max=5), HTML(value='')))"
      ]
     },
     "metadata": {},
     "output_type": "display_data"
    },
    {
     "name": "stdout",
     "output_type": "stream",
     "text": [
      "\n",
      "SUBJDataset\n",
      "Train precision 0.6837777777777778 0.7608222222222222 0.8303333333333334\n",
      "Test precision 0.677 0.7532 0.815\n"
     ]
    },
    {
     "data": {
      "application/vnd.jupyter.widget-view+json": {
       "model_id": "81000224dd2d475898b3f72f7532533b",
       "version_major": 2,
       "version_minor": 0
      },
      "text/html": [
       "<p>Failed to display Jupyter Widget of type <code>HBox</code>.</p>\n",
       "<p>\n",
       "  If you're reading this message in the Jupyter Notebook or JupyterLab Notebook, it may mean\n",
       "  that the widgets JavaScript is still loading. If this message persists, it\n",
       "  likely means that the widgets JavaScript library is either not installed or\n",
       "  not enabled. See the <a href=\"https://ipywidgets.readthedocs.io/en/stable/user_install.html\">Jupyter\n",
       "  Widgets Documentation</a> for setup instructions.\n",
       "</p>\n",
       "<p>\n",
       "  If you're reading this message in another frontend (for example, a static\n",
       "  rendering on GitHub or <a href=\"https://nbviewer.jupyter.org/\">NBViewer</a>),\n",
       "  it may mean that your frontend doesn't currently support widgets.\n",
       "</p>\n"
      ],
      "text/plain": [
       "HBox(children=(IntProgress(value=0, max=5), HTML(value='')))"
      ]
     },
     "metadata": {},
     "output_type": "display_data"
    },
    {
     "name": "stdout",
     "output_type": "stream",
     "text": [
      "\n",
      "SUBJDataset\n",
      "Train precision 0.8034444444444444 0.8386222222222223 0.8542222222222222\n",
      "Test precision 0.7969999999999999 0.8308 0.845\n"
     ]
    },
    {
     "data": {
      "application/vnd.jupyter.widget-view+json": {
       "model_id": "20a659637ecb4179a0327ab489df9a4b",
       "version_major": 2,
       "version_minor": 0
      },
      "text/html": [
       "<p>Failed to display Jupyter Widget of type <code>HBox</code>.</p>\n",
       "<p>\n",
       "  If you're reading this message in the Jupyter Notebook or JupyterLab Notebook, it may mean\n",
       "  that the widgets JavaScript is still loading. If this message persists, it\n",
       "  likely means that the widgets JavaScript library is either not installed or\n",
       "  not enabled. See the <a href=\"https://ipywidgets.readthedocs.io/en/stable/user_install.html\">Jupyter\n",
       "  Widgets Documentation</a> for setup instructions.\n",
       "</p>\n",
       "<p>\n",
       "  If you're reading this message in another frontend (for example, a static\n",
       "  rendering on GitHub or <a href=\"https://nbviewer.jupyter.org/\">NBViewer</a>),\n",
       "  it may mean that your frontend doesn't currently support widgets.\n",
       "</p>\n"
      ],
      "text/plain": [
       "HBox(children=(IntProgress(value=0, max=5), HTML(value='')))"
      ]
     },
     "metadata": {},
     "output_type": "display_data"
    },
    {
     "name": "stdout",
     "output_type": "stream",
     "text": [
      "\n",
      "SUBJDataset\n",
      "Train precision 0.8044444444444444 0.8377111111111111 0.8575555555555555\n",
      "Test precision 0.8049999999999999 0.8299999999999998 0.845\n"
     ]
    },
    {
     "data": {
      "application/vnd.jupyter.widget-view+json": {
       "model_id": "fc1281cbdb6b48088f25dc06bab5a659",
       "version_major": 2,
       "version_minor": 0
      },
      "text/html": [
       "<p>Failed to display Jupyter Widget of type <code>HBox</code>.</p>\n",
       "<p>\n",
       "  If you're reading this message in the Jupyter Notebook or JupyterLab Notebook, it may mean\n",
       "  that the widgets JavaScript is still loading. If this message persists, it\n",
       "  likely means that the widgets JavaScript library is either not installed or\n",
       "  not enabled. See the <a href=\"https://ipywidgets.readthedocs.io/en/stable/user_install.html\">Jupyter\n",
       "  Widgets Documentation</a> for setup instructions.\n",
       "</p>\n",
       "<p>\n",
       "  If you're reading this message in another frontend (for example, a static\n",
       "  rendering on GitHub or <a href=\"https://nbviewer.jupyter.org/\">NBViewer</a>),\n",
       "  it may mean that your frontend doesn't currently support widgets.\n",
       "</p>\n"
      ],
      "text/plain": [
       "HBox(children=(IntProgress(value=0, max=5), HTML(value='')))"
      ]
     },
     "metadata": {},
     "output_type": "display_data"
    },
    {
     "name": "stdout",
     "output_type": "stream",
     "text": [
      "\n",
      "SUBJDataset\n",
      "Train precision 0.817 0.8424444444444446 0.8584444444444445\n",
      "Test precision 0.8049999999999999 0.8316000000000001 0.846\n"
     ]
    },
    {
     "data": {
      "application/vnd.jupyter.widget-view+json": {
       "model_id": "a2648722e0f54c78af191d5e8e5167c1",
       "version_major": 2,
       "version_minor": 0
      },
      "text/html": [
       "<p>Failed to display Jupyter Widget of type <code>HBox</code>.</p>\n",
       "<p>\n",
       "  If you're reading this message in the Jupyter Notebook or JupyterLab Notebook, it may mean\n",
       "  that the widgets JavaScript is still loading. If this message persists, it\n",
       "  likely means that the widgets JavaScript library is either not installed or\n",
       "  not enabled. See the <a href=\"https://ipywidgets.readthedocs.io/en/stable/user_install.html\">Jupyter\n",
       "  Widgets Documentation</a> for setup instructions.\n",
       "</p>\n",
       "<p>\n",
       "  If you're reading this message in another frontend (for example, a static\n",
       "  rendering on GitHub or <a href=\"https://nbviewer.jupyter.org/\">NBViewer</a>),\n",
       "  it may mean that your frontend doesn't currently support widgets.\n",
       "</p>\n"
      ],
      "text/plain": [
       "HBox(children=(IntProgress(value=0, max=5), HTML(value='')))"
      ]
     },
     "metadata": {},
     "output_type": "display_data"
    },
    {
     "name": "stdout",
     "output_type": "stream",
     "text": [
      "\n",
      "SUBJDataset\n",
      "Train precision 0.8846666666666667 0.8902666666666667 0.9044444444444444\n",
      "Test precision 0.873 0.8777999999999999 0.887\n"
     ]
    },
    {
     "data": {
      "application/vnd.jupyter.widget-view+json": {
       "model_id": "58cde9fb3d294faba813eaa0506a6391",
       "version_major": 2,
       "version_minor": 0
      },
      "text/html": [
       "<p>Failed to display Jupyter Widget of type <code>HBox</code>.</p>\n",
       "<p>\n",
       "  If you're reading this message in the Jupyter Notebook or JupyterLab Notebook, it may mean\n",
       "  that the widgets JavaScript is still loading. If this message persists, it\n",
       "  likely means that the widgets JavaScript library is either not installed or\n",
       "  not enabled. See the <a href=\"https://ipywidgets.readthedocs.io/en/stable/user_install.html\">Jupyter\n",
       "  Widgets Documentation</a> for setup instructions.\n",
       "</p>\n",
       "<p>\n",
       "  If you're reading this message in another frontend (for example, a static\n",
       "  rendering on GitHub or <a href=\"https://nbviewer.jupyter.org/\">NBViewer</a>),\n",
       "  it may mean that your frontend doesn't currently support widgets.\n",
       "</p>\n"
      ],
      "text/plain": [
       "HBox(children=(IntProgress(value=0, max=5), HTML(value='')))"
      ]
     },
     "metadata": {},
     "output_type": "display_data"
    },
    {
     "name": "stdout",
     "output_type": "stream",
     "text": [
      "\n",
      "SUBJDataset\n",
      "Train precision 0.5 0.5768444444444445 0.8842222222222222\n",
      "Test precision 0.5 0.571 0.855\n"
     ]
    },
    {
     "data": {
      "application/vnd.jupyter.widget-view+json": {
       "model_id": "296d976c24bb448996e8b5df89334c02",
       "version_major": 2,
       "version_minor": 0
      },
      "text/html": [
       "<p>Failed to display Jupyter Widget of type <code>HBox</code>.</p>\n",
       "<p>\n",
       "  If you're reading this message in the Jupyter Notebook or JupyterLab Notebook, it may mean\n",
       "  that the widgets JavaScript is still loading. If this message persists, it\n",
       "  likely means that the widgets JavaScript library is either not installed or\n",
       "  not enabled. See the <a href=\"https://ipywidgets.readthedocs.io/en/stable/user_install.html\">Jupyter\n",
       "  Widgets Documentation</a> for setup instructions.\n",
       "</p>\n",
       "<p>\n",
       "  If you're reading this message in another frontend (for example, a static\n",
       "  rendering on GitHub or <a href=\"https://nbviewer.jupyter.org/\">NBViewer</a>),\n",
       "  it may mean that your frontend doesn't currently support widgets.\n",
       "</p>\n"
      ],
      "text/plain": [
       "HBox(children=(IntProgress(value=0, max=5), HTML(value='')))"
      ]
     },
     "metadata": {},
     "output_type": "display_data"
    },
    {
     "name": "stdout",
     "output_type": "stream",
     "text": [
      "\n",
      "SUBJDataset\n",
      "Train precision 0.859 0.882 0.8907777777777778\n",
      "Test precision 0.84 0.8555999999999999 0.865\n"
     ]
    },
    {
     "data": {
      "application/vnd.jupyter.widget-view+json": {
       "model_id": "531d84c6c3224934bfa299b8064bc8aa",
       "version_major": 2,
       "version_minor": 0
      },
      "text/html": [
       "<p>Failed to display Jupyter Widget of type <code>HBox</code>.</p>\n",
       "<p>\n",
       "  If you're reading this message in the Jupyter Notebook or JupyterLab Notebook, it may mean\n",
       "  that the widgets JavaScript is still loading. If this message persists, it\n",
       "  likely means that the widgets JavaScript library is either not installed or\n",
       "  not enabled. See the <a href=\"https://ipywidgets.readthedocs.io/en/stable/user_install.html\">Jupyter\n",
       "  Widgets Documentation</a> for setup instructions.\n",
       "</p>\n",
       "<p>\n",
       "  If you're reading this message in another frontend (for example, a static\n",
       "  rendering on GitHub or <a href=\"https://nbviewer.jupyter.org/\">NBViewer</a>),\n",
       "  it may mean that your frontend doesn't currently support widgets.\n",
       "</p>\n"
      ],
      "text/plain": [
       "HBox(children=(IntProgress(value=0, max=5), HTML(value='')))"
      ]
     },
     "metadata": {},
     "output_type": "display_data"
    },
    {
     "name": "stdout",
     "output_type": "stream",
     "text": [
      "\n",
      "MPQADataset\n",
      "Train precision 0.6876898899947617 0.6876898899947617 0.6876898899947617\n",
      "Test precision 0.6880301602262017 0.6880301602262017 0.6880301602262017\n"
     ]
    },
    {
     "data": {
      "application/vnd.jupyter.widget-view+json": {
       "model_id": "2a466c02429f4acfb88c66d036955cbb",
       "version_major": 2,
       "version_minor": 0
      },
      "text/html": [
       "<p>Failed to display Jupyter Widget of type <code>HBox</code>.</p>\n",
       "<p>\n",
       "  If you're reading this message in the Jupyter Notebook or JupyterLab Notebook, it may mean\n",
       "  that the widgets JavaScript is still loading. If this message persists, it\n",
       "  likely means that the widgets JavaScript library is either not installed or\n",
       "  not enabled. See the <a href=\"https://ipywidgets.readthedocs.io/en/stable/user_install.html\">Jupyter\n",
       "  Widgets Documentation</a> for setup instructions.\n",
       "</p>\n",
       "<p>\n",
       "  If you're reading this message in another frontend (for example, a static\n",
       "  rendering on GitHub or <a href=\"https://nbviewer.jupyter.org/\">NBViewer</a>),\n",
       "  it may mean that your frontend doesn't currently support widgets.\n",
       "</p>\n"
      ],
      "text/plain": [
       "HBox(children=(IntProgress(value=0, max=5), HTML(value='')))"
      ]
     },
     "metadata": {},
     "output_type": "display_data"
    },
    {
     "name": "stdout",
     "output_type": "stream",
     "text": [
      "\n",
      "MPQADataset\n",
      "Train precision 0.6962807752750131 0.6969931901519121 0.6976427448926139\n",
      "Test precision 0.6946277097078228 0.6948162111215834 0.6955702167766258\n"
     ]
    },
    {
     "data": {
      "application/vnd.jupyter.widget-view+json": {
       "model_id": "e47b257c3fad45999e25f46a8bc9187d",
       "version_major": 2,
       "version_minor": 0
      },
      "text/html": [
       "<p>Failed to display Jupyter Widget of type <code>HBox</code>.</p>\n",
       "<p>\n",
       "  If you're reading this message in the Jupyter Notebook or JupyterLab Notebook, it may mean\n",
       "  that the widgets JavaScript is still loading. If this message persists, it\n",
       "  likely means that the widgets JavaScript library is either not installed or\n",
       "  not enabled. See the <a href=\"https://ipywidgets.readthedocs.io/en/stable/user_install.html\">Jupyter\n",
       "  Widgets Documentation</a> for setup instructions.\n",
       "</p>\n",
       "<p>\n",
       "  If you're reading this message in another frontend (for example, a static\n",
       "  rendering on GitHub or <a href=\"https://nbviewer.jupyter.org/\">NBViewer</a>),\n",
       "  it may mean that your frontend doesn't currently support widgets.\n",
       "</p>\n"
      ],
      "text/plain": [
       "HBox(children=(IntProgress(value=0, max=5), HTML(value='')))"
      ]
     },
     "metadata": {},
     "output_type": "display_data"
    },
    {
     "name": "stdout",
     "output_type": "stream",
     "text": [
      "\n",
      "MPQADataset\n",
      "Train precision 0.6876898899947617 0.6876898899947617 0.6876898899947617\n",
      "Test precision 0.6880301602262017 0.6880301602262017 0.6880301602262017\n"
     ]
    },
    {
     "data": {
      "application/vnd.jupyter.widget-view+json": {
       "model_id": "4bb44c65d80547d3b43bf40ceee13ecb",
       "version_major": 2,
       "version_minor": 0
      },
      "text/html": [
       "<p>Failed to display Jupyter Widget of type <code>HBox</code>.</p>\n",
       "<p>\n",
       "  If you're reading this message in the Jupyter Notebook or JupyterLab Notebook, it may mean\n",
       "  that the widgets JavaScript is still loading. If this message persists, it\n",
       "  likely means that the widgets JavaScript library is either not installed or\n",
       "  not enabled. See the <a href=\"https://ipywidgets.readthedocs.io/en/stable/user_install.html\">Jupyter\n",
       "  Widgets Documentation</a> for setup instructions.\n",
       "</p>\n",
       "<p>\n",
       "  If you're reading this message in another frontend (for example, a static\n",
       "  rendering on GitHub or <a href=\"https://nbviewer.jupyter.org/\">NBViewer</a>),\n",
       "  it may mean that your frontend doesn't currently support widgets.\n",
       "</p>\n"
      ],
      "text/plain": [
       "HBox(children=(IntProgress(value=0, max=5), HTML(value='')))"
      ]
     },
     "metadata": {},
     "output_type": "display_data"
    },
    {
     "name": "stdout",
     "output_type": "stream",
     "text": [
      "\n",
      "MPQADataset\n",
      "Train precision 0.6876898899947617 0.6876898899947617 0.6876898899947617\n",
      "Test precision 0.6880301602262017 0.6880301602262017 0.6880301602262017\n"
     ]
    },
    {
     "data": {
      "application/vnd.jupyter.widget-view+json": {
       "model_id": "916946f96fe4498e9fd933fb95ed909d",
       "version_major": 2,
       "version_minor": 0
      },
      "text/html": [
       "<p>Failed to display Jupyter Widget of type <code>HBox</code>.</p>\n",
       "<p>\n",
       "  If you're reading this message in the Jupyter Notebook or JupyterLab Notebook, it may mean\n",
       "  that the widgets JavaScript is still loading. If this message persists, it\n",
       "  likely means that the widgets JavaScript library is either not installed or\n",
       "  not enabled. See the <a href=\"https://ipywidgets.readthedocs.io/en/stable/user_install.html\">Jupyter\n",
       "  Widgets Documentation</a> for setup instructions.\n",
       "</p>\n",
       "<p>\n",
       "  If you're reading this message in another frontend (for example, a static\n",
       "  rendering on GitHub or <a href=\"https://nbviewer.jupyter.org/\">NBViewer</a>),\n",
       "  it may mean that your frontend doesn't currently support widgets.\n",
       "</p>\n"
      ],
      "text/plain": [
       "HBox(children=(IntProgress(value=0, max=5), HTML(value='')))"
      ]
     },
     "metadata": {},
     "output_type": "display_data"
    },
    {
     "name": "stdout",
     "output_type": "stream",
     "text": [
      "\n",
      "MPQADataset\n",
      "Train precision 0.6876898899947617 0.6876898899947617 0.6876898899947617\n",
      "Test precision 0.6880301602262017 0.6880301602262017 0.6880301602262017\n"
     ]
    },
    {
     "data": {
      "application/vnd.jupyter.widget-view+json": {
       "model_id": "0ec99a798e57427b9df4ad70673993fe",
       "version_major": 2,
       "version_minor": 0
      },
      "text/html": [
       "<p>Failed to display Jupyter Widget of type <code>HBox</code>.</p>\n",
       "<p>\n",
       "  If you're reading this message in the Jupyter Notebook or JupyterLab Notebook, it may mean\n",
       "  that the widgets JavaScript is still loading. If this message persists, it\n",
       "  likely means that the widgets JavaScript library is either not installed or\n",
       "  not enabled. See the <a href=\"https://ipywidgets.readthedocs.io/en/stable/user_install.html\">Jupyter\n",
       "  Widgets Documentation</a> for setup instructions.\n",
       "</p>\n",
       "<p>\n",
       "  If you're reading this message in another frontend (for example, a static\n",
       "  rendering on GitHub or <a href=\"https://nbviewer.jupyter.org/\">NBViewer</a>),\n",
       "  it may mean that your frontend doesn't currently support widgets.\n",
       "</p>\n"
      ],
      "text/plain": [
       "HBox(children=(IntProgress(value=0, max=5), HTML(value='')))"
      ]
     },
     "metadata": {},
     "output_type": "display_data"
    },
    {
     "name": "stdout",
     "output_type": "stream",
     "text": [
      "\n",
      "MPQADataset\n",
      "Train precision 0.6876898899947617 0.6876898899947617 0.6876898899947617\n",
      "Test precision 0.6880301602262017 0.6880301602262017 0.6880301602262017\n"
     ]
    },
    {
     "data": {
      "application/vnd.jupyter.widget-view+json": {
       "model_id": "71991e0809e14071921af20ef6a8237b",
       "version_major": 2,
       "version_minor": 0
      },
      "text/html": [
       "<p>Failed to display Jupyter Widget of type <code>HBox</code>.</p>\n",
       "<p>\n",
       "  If you're reading this message in the Jupyter Notebook or JupyterLab Notebook, it may mean\n",
       "  that the widgets JavaScript is still loading. If this message persists, it\n",
       "  likely means that the widgets JavaScript library is either not installed or\n",
       "  not enabled. See the <a href=\"https://ipywidgets.readthedocs.io/en/stable/user_install.html\">Jupyter\n",
       "  Widgets Documentation</a> for setup instructions.\n",
       "</p>\n",
       "<p>\n",
       "  If you're reading this message in another frontend (for example, a static\n",
       "  rendering on GitHub or <a href=\"https://nbviewer.jupyter.org/\">NBViewer</a>),\n",
       "  it may mean that your frontend doesn't currently support widgets.\n",
       "</p>\n"
      ],
      "text/plain": [
       "HBox(children=(IntProgress(value=0, max=5), HTML(value='')))"
      ]
     },
     "metadata": {},
     "output_type": "display_data"
    },
    {
     "name": "stdout",
     "output_type": "stream",
     "text": [
      "\n",
      "MPQADataset\n",
      "Train precision 0.6876898899947617 0.6876898899947617 0.6876898899947617\n",
      "Test precision 0.6880301602262017 0.6880301602262017 0.6880301602262017\n"
     ]
    },
    {
     "data": {
      "application/vnd.jupyter.widget-view+json": {
       "model_id": "62c7fcb26a3c4a69bf8699d71606000e",
       "version_major": 2,
       "version_minor": 0
      },
      "text/html": [
       "<p>Failed to display Jupyter Widget of type <code>HBox</code>.</p>\n",
       "<p>\n",
       "  If you're reading this message in the Jupyter Notebook or JupyterLab Notebook, it may mean\n",
       "  that the widgets JavaScript is still loading. If this message persists, it\n",
       "  likely means that the widgets JavaScript library is either not installed or\n",
       "  not enabled. See the <a href=\"https://ipywidgets.readthedocs.io/en/stable/user_install.html\">Jupyter\n",
       "  Widgets Documentation</a> for setup instructions.\n",
       "</p>\n",
       "<p>\n",
       "  If you're reading this message in another frontend (for example, a static\n",
       "  rendering on GitHub or <a href=\"https://nbviewer.jupyter.org/\">NBViewer</a>),\n",
       "  it may mean that your frontend doesn't currently support widgets.\n",
       "</p>\n"
      ],
      "text/plain": [
       "HBox(children=(IntProgress(value=0, max=5), HTML(value='')))"
      ]
     },
     "metadata": {},
     "output_type": "display_data"
    },
    {
     "name": "stdout",
     "output_type": "stream",
     "text": [
      "\n",
      "MPQADataset\n",
      "Train precision 0.6876898899947617 0.6876898899947617 0.6876898899947617\n",
      "Test precision 0.6880301602262017 0.6880301602262017 0.6880301602262017\n"
     ]
    }
   ],
   "source": [
    "for dataset in datasets.ALL_DATASETS:\n",
    "    for sheme in SimpleModel.SCHEMES:\n",
    "        model = SimpleModel(classify.CustomClassifier(), use_svd=True, weights=sheme)\n",
    "        test_simple_model(model, dataset, 5, 'mylogistic_lsa_'+sheme, results, dump)"
   ]
  },
  {
   "cell_type": "code",
   "execution_count": 114,
   "metadata": {},
   "outputs": [],
   "source": [
    "dump_file = 'dumps/results_simple_model.pickle'\n",
    "\n",
    "if False:\n",
    "    pickle.dump(results, open(dump_file,'bw'))\n",
    "\n",
    "loaded_results = pickle.load(open(dump_file,'br'))\n"
   ]
  },
  {
   "cell_type": "code",
   "execution_count": 115,
   "metadata": {},
   "outputs": [
    {
     "data": {
      "text/html": [
       "<style  type=\"text/css\" >\n",
       "    #T_ce6e7d76_2a24_11e8_b717_e4a471caa8c3row0_col0 {\n",
       "            background-color:  #e5ffe5;\n",
       "        }    #T_ce6e7d76_2a24_11e8_b717_e4a471caa8c3row0_col1 {\n",
       "            background-color:  #e5ffe5;\n",
       "        }    #T_ce6e7d76_2a24_11e8_b717_e4a471caa8c3row0_col2 {\n",
       "            background-color:  #e5ffe5;\n",
       "        }    #T_ce6e7d76_2a24_11e8_b717_e4a471caa8c3row0_col3 {\n",
       "            background-color:  #e5ffe5;\n",
       "        }    #T_ce6e7d76_2a24_11e8_b717_e4a471caa8c3row1_col0 {\n",
       "            background-color:  #e5ffe5;\n",
       "        }    #T_ce6e7d76_2a24_11e8_b717_e4a471caa8c3row1_col1 {\n",
       "            background-color:  #e5ffe5;\n",
       "        }    #T_ce6e7d76_2a24_11e8_b717_e4a471caa8c3row1_col2 {\n",
       "            background-color:  #e5ffe5;\n",
       "        }    #T_ce6e7d76_2a24_11e8_b717_e4a471caa8c3row1_col3 {\n",
       "            background-color:  #e5ffe5;\n",
       "        }    #T_ce6e7d76_2a24_11e8_b717_e4a471caa8c3row2_col0 {\n",
       "            background-color:  #e5ffe5;\n",
       "        }    #T_ce6e7d76_2a24_11e8_b717_e4a471caa8c3row2_col1 {\n",
       "            background-color:  #e5ffe5;\n",
       "        }    #T_ce6e7d76_2a24_11e8_b717_e4a471caa8c3row2_col2 {\n",
       "            background-color:  #e5ffe5;\n",
       "        }    #T_ce6e7d76_2a24_11e8_b717_e4a471caa8c3row2_col3 {\n",
       "            background-color:  #e5ffe5;\n",
       "        }    #T_ce6e7d76_2a24_11e8_b717_e4a471caa8c3row3_col0 {\n",
       "            background-color:  #e5ffe5;\n",
       "        }    #T_ce6e7d76_2a24_11e8_b717_e4a471caa8c3row3_col1 {\n",
       "            background-color:  #e5ffe5;\n",
       "        }    #T_ce6e7d76_2a24_11e8_b717_e4a471caa8c3row3_col2 {\n",
       "            background-color:  #e5ffe5;\n",
       "        }    #T_ce6e7d76_2a24_11e8_b717_e4a471caa8c3row3_col3 {\n",
       "            background-color:  #e5ffe5;\n",
       "        }    #T_ce6e7d76_2a24_11e8_b717_e4a471caa8c3row4_col0 {\n",
       "            background-color:  #e5ffe5;\n",
       "        }    #T_ce6e7d76_2a24_11e8_b717_e4a471caa8c3row4_col1 {\n",
       "            background-color:  #e5ffe5;\n",
       "        }    #T_ce6e7d76_2a24_11e8_b717_e4a471caa8c3row4_col2 {\n",
       "            background-color:  #e5ffe5;\n",
       "        }    #T_ce6e7d76_2a24_11e8_b717_e4a471caa8c3row4_col3 {\n",
       "            background-color:  #e5ffe5;\n",
       "        }    #T_ce6e7d76_2a24_11e8_b717_e4a471caa8c3row5_col0 {\n",
       "            background-color:  #e5ffe5;\n",
       "        }    #T_ce6e7d76_2a24_11e8_b717_e4a471caa8c3row5_col1 {\n",
       "            background-color:  #e5ffe5;\n",
       "        }    #T_ce6e7d76_2a24_11e8_b717_e4a471caa8c3row5_col2 {\n",
       "            background-color:  #e5ffe5;\n",
       "        }    #T_ce6e7d76_2a24_11e8_b717_e4a471caa8c3row5_col3 {\n",
       "            background-color:  #e5ffe5;\n",
       "        }    #T_ce6e7d76_2a24_11e8_b717_e4a471caa8c3row6_col0 {\n",
       "            background-color:  #e5ffe5;\n",
       "        }    #T_ce6e7d76_2a24_11e8_b717_e4a471caa8c3row6_col1 {\n",
       "            background-color:  #e5ffe5;\n",
       "        }    #T_ce6e7d76_2a24_11e8_b717_e4a471caa8c3row6_col2 {\n",
       "            background-color:  #e5ffe5;\n",
       "        }    #T_ce6e7d76_2a24_11e8_b717_e4a471caa8c3row6_col3 {\n",
       "            background-color:  #e5ffe5;\n",
       "        }    #T_ce6e7d76_2a24_11e8_b717_e4a471caa8c3row7_col0 {\n",
       "            background-color:  #048204;\n",
       "        }    #T_ce6e7d76_2a24_11e8_b717_e4a471caa8c3row7_col1 {\n",
       "            background-color:  #168c16;\n",
       "        }    #T_ce6e7d76_2a24_11e8_b717_e4a471caa8c3row7_col2 {\n",
       "            background-color:  #0c860c;\n",
       "        }    #T_ce6e7d76_2a24_11e8_b717_e4a471caa8c3row7_col3 {\n",
       "            background-color:  #018001;\n",
       "        }    #T_ce6e7d76_2a24_11e8_b717_e4a471caa8c3row8_col0 {\n",
       "            background-color:  #178c17;\n",
       "        }    #T_ce6e7d76_2a24_11e8_b717_e4a471caa8c3row8_col1 {\n",
       "            background-color:  #45a645;\n",
       "        }    #T_ce6e7d76_2a24_11e8_b717_e4a471caa8c3row8_col2 {\n",
       "            background-color:  #52ad52;\n",
       "        }    #T_ce6e7d76_2a24_11e8_b717_e4a471caa8c3row8_col3 {\n",
       "            background-color:  #299729;\n",
       "        }    #T_ce6e7d76_2a24_11e8_b717_e4a471caa8c3row9_col0 {\n",
       "            background-color:  #1f911f;\n",
       "        }    #T_ce6e7d76_2a24_11e8_b717_e4a471caa8c3row9_col1 {\n",
       "            background-color:  #45a645;\n",
       "        }    #T_ce6e7d76_2a24_11e8_b717_e4a471caa8c3row9_col2 {\n",
       "            background-color:  #4fac4f;\n",
       "        }    #T_ce6e7d76_2a24_11e8_b717_e4a471caa8c3row9_col3 {\n",
       "            background-color:  #289628;\n",
       "        }    #T_ce6e7d76_2a24_11e8_b717_e4a471caa8c3row10_col0 {\n",
       "            background-color:  #229322;\n",
       "        }    #T_ce6e7d76_2a24_11e8_b717_e4a471caa8c3row10_col1 {\n",
       "            background-color:  #008000;\n",
       "        }    #T_ce6e7d76_2a24_11e8_b717_e4a471caa8c3row10_col2 {\n",
       "            background-color:  #1d901d;\n",
       "        }    #T_ce6e7d76_2a24_11e8_b717_e4a471caa8c3row10_col3 {\n",
       "            background-color:  #008000;\n",
       "        }    #T_ce6e7d76_2a24_11e8_b717_e4a471caa8c3row11_col0 {\n",
       "            background-color:  #1f911f;\n",
       "        }    #T_ce6e7d76_2a24_11e8_b717_e4a471caa8c3row11_col1 {\n",
       "            background-color:  #45a645;\n",
       "        }    #T_ce6e7d76_2a24_11e8_b717_e4a471caa8c3row11_col2 {\n",
       "            background-color:  #4fac4f;\n",
       "        }    #T_ce6e7d76_2a24_11e8_b717_e4a471caa8c3row11_col3 {\n",
       "            background-color:  #289628;\n",
       "        }    #T_ce6e7d76_2a24_11e8_b717_e4a471caa8c3row12_col0 {\n",
       "            background-color:  #008000;\n",
       "        }    #T_ce6e7d76_2a24_11e8_b717_e4a471caa8c3row12_col1 {\n",
       "            background-color:  #1b8f1b;\n",
       "        }    #T_ce6e7d76_2a24_11e8_b717_e4a471caa8c3row12_col2 {\n",
       "            background-color:  #008000;\n",
       "        }    #T_ce6e7d76_2a24_11e8_b717_e4a471caa8c3row12_col3 {\n",
       "            background-color:  #058305;\n",
       "        }    #T_ce6e7d76_2a24_11e8_b717_e4a471caa8c3row13_col0 {\n",
       "            background-color:  #399f39;\n",
       "        }    #T_ce6e7d76_2a24_11e8_b717_e4a471caa8c3row13_col1 {\n",
       "            background-color:  #289628;\n",
       "        }    #T_ce6e7d76_2a24_11e8_b717_e4a471caa8c3row13_col2 {\n",
       "            background-color:  #2b982b;\n",
       "        }    #T_ce6e7d76_2a24_11e8_b717_e4a471caa8c3row13_col3 {\n",
       "            background-color:  #168c16;\n",
       "        }    #T_ce6e7d76_2a24_11e8_b717_e4a471caa8c3row14_col0 {\n",
       "            background-color:  #42a442;\n",
       "        }    #T_ce6e7d76_2a24_11e8_b717_e4a471caa8c3row14_col1 {\n",
       "            background-color:  #98d498;\n",
       "        }    #T_ce6e7d76_2a24_11e8_b717_e4a471caa8c3row14_col2 {\n",
       "            background-color:  #5fb55f;\n",
       "        }    #T_ce6e7d76_2a24_11e8_b717_e4a471caa8c3row14_col3 {\n",
       "            background-color:  #1a8e1a;\n",
       "        }    #T_ce6e7d76_2a24_11e8_b717_e4a471caa8c3row15_col0 {\n",
       "            background-color:  #178c17;\n",
       "        }    #T_ce6e7d76_2a24_11e8_b717_e4a471caa8c3row15_col1 {\n",
       "            background-color:  #7ac47a;\n",
       "        }    #T_ce6e7d76_2a24_11e8_b717_e4a471caa8c3row15_col2 {\n",
       "            background-color:  #62b662;\n",
       "        }    #T_ce6e7d76_2a24_11e8_b717_e4a471caa8c3row15_col3 {\n",
       "            background-color:  #2b982b;\n",
       "        }    #T_ce6e7d76_2a24_11e8_b717_e4a471caa8c3row16_col0 {\n",
       "            background-color:  #1f911f;\n",
       "        }    #T_ce6e7d76_2a24_11e8_b717_e4a471caa8c3row16_col1 {\n",
       "            background-color:  #78c278;\n",
       "        }    #T_ce6e7d76_2a24_11e8_b717_e4a471caa8c3row16_col2 {\n",
       "            background-color:  #5eb45e;\n",
       "        }    #T_ce6e7d76_2a24_11e8_b717_e4a471caa8c3row16_col3 {\n",
       "            background-color:  #2b982b;\n",
       "        }    #T_ce6e7d76_2a24_11e8_b717_e4a471caa8c3row17_col0 {\n",
       "            background-color:  #2b982b;\n",
       "        }    #T_ce6e7d76_2a24_11e8_b717_e4a471caa8c3row17_col1 {\n",
       "            background-color:  #92d192;\n",
       "        }    #T_ce6e7d76_2a24_11e8_b717_e4a471caa8c3row17_col2 {\n",
       "            background-color:  #52ad52;\n",
       "        }    #T_ce6e7d76_2a24_11e8_b717_e4a471caa8c3row17_col3 {\n",
       "            background-color:  #128a12;\n",
       "        }    #T_ce6e7d76_2a24_11e8_b717_e4a471caa8c3row18_col0 {\n",
       "            background-color:  #1f911f;\n",
       "        }    #T_ce6e7d76_2a24_11e8_b717_e4a471caa8c3row18_col1 {\n",
       "            background-color:  #7bc47b;\n",
       "        }    #T_ce6e7d76_2a24_11e8_b717_e4a471caa8c3row18_col2 {\n",
       "            background-color:  #5fb55f;\n",
       "        }    #T_ce6e7d76_2a24_11e8_b717_e4a471caa8c3row18_col3 {\n",
       "            background-color:  #2b982b;\n",
       "        }    #T_ce6e7d76_2a24_11e8_b717_e4a471caa8c3row19_col0 {\n",
       "            background-color:  #209220;\n",
       "        }    #T_ce6e7d76_2a24_11e8_b717_e4a471caa8c3row19_col1 {\n",
       "            background-color:  #70be70;\n",
       "        }    #T_ce6e7d76_2a24_11e8_b717_e4a471caa8c3row19_col2 {\n",
       "            background-color:  #269526;\n",
       "        }    #T_ce6e7d76_2a24_11e8_b717_e4a471caa8c3row19_col3 {\n",
       "            background-color:  #128a12;\n",
       "        }    #T_ce6e7d76_2a24_11e8_b717_e4a471caa8c3row20_col0 {\n",
       "            background-color:  #63b763;\n",
       "        }    #T_ce6e7d76_2a24_11e8_b717_e4a471caa8c3row20_col1 {\n",
       "            background-color:  #7ec67e;\n",
       "        }    #T_ce6e7d76_2a24_11e8_b717_e4a471caa8c3row20_col2 {\n",
       "            background-color:  #4dab4d;\n",
       "        }    #T_ce6e7d76_2a24_11e8_b717_e4a471caa8c3row20_col3 {\n",
       "            background-color:  #1e901e;\n",
       "        }    #T_ce6e7d76_2a24_11e8_b717_e4a471caa8c3row21_col0 {\n",
       "            background-color:  #e5ffe5;\n",
       "        }    #T_ce6e7d76_2a24_11e8_b717_e4a471caa8c3row21_col1 {\n",
       "            background-color:  #e5ffe5;\n",
       "        }    #T_ce6e7d76_2a24_11e8_b717_e4a471caa8c3row21_col2 {\n",
       "            background-color:  #379e37;\n",
       "        }    #T_ce6e7d76_2a24_11e8_b717_e4a471caa8c3row21_col3 {\n",
       "            background-color:  #1d901d;\n",
       "        }    #T_ce6e7d76_2a24_11e8_b717_e4a471caa8c3row22_col0 {\n",
       "            background-color:  #e5ffe5;\n",
       "        }    #T_ce6e7d76_2a24_11e8_b717_e4a471caa8c3row22_col1 {\n",
       "            background-color:  #e5ffe5;\n",
       "        }    #T_ce6e7d76_2a24_11e8_b717_e4a471caa8c3row22_col2 {\n",
       "            background-color:  #b8e6b8;\n",
       "        }    #T_ce6e7d76_2a24_11e8_b717_e4a471caa8c3row22_col3 {\n",
       "            background-color:  #239323;\n",
       "        }    #T_ce6e7d76_2a24_11e8_b717_e4a471caa8c3row23_col0 {\n",
       "            background-color:  #e5ffe5;\n",
       "        }    #T_ce6e7d76_2a24_11e8_b717_e4a471caa8c3row23_col1 {\n",
       "            background-color:  #e5ffe5;\n",
       "        }    #T_ce6e7d76_2a24_11e8_b717_e4a471caa8c3row23_col2 {\n",
       "            background-color:  #93d193;\n",
       "        }    #T_ce6e7d76_2a24_11e8_b717_e4a471caa8c3row23_col3 {\n",
       "            background-color:  #319b31;\n",
       "        }    #T_ce6e7d76_2a24_11e8_b717_e4a471caa8c3row24_col0 {\n",
       "            background-color:  #e5ffe5;\n",
       "        }    #T_ce6e7d76_2a24_11e8_b717_e4a471caa8c3row24_col1 {\n",
       "            background-color:  #e5ffe5;\n",
       "        }    #T_ce6e7d76_2a24_11e8_b717_e4a471caa8c3row24_col2 {\n",
       "            background-color:  #9ad59a;\n",
       "        }    #T_ce6e7d76_2a24_11e8_b717_e4a471caa8c3row24_col3 {\n",
       "            background-color:  #319b31;\n",
       "        }    #T_ce6e7d76_2a24_11e8_b717_e4a471caa8c3row25_col0 {\n",
       "            background-color:  #e1fde1;\n",
       "        }    #T_ce6e7d76_2a24_11e8_b717_e4a471caa8c3row25_col1 {\n",
       "            background-color:  #dcfadc;\n",
       "        }    #T_ce6e7d76_2a24_11e8_b717_e4a471caa8c3row25_col2 {\n",
       "            background-color:  #b8e6b8;\n",
       "        }    #T_ce6e7d76_2a24_11e8_b717_e4a471caa8c3row25_col3 {\n",
       "            background-color:  #5cb35c;\n",
       "        }    #T_ce6e7d76_2a24_11e8_b717_e4a471caa8c3row26_col0 {\n",
       "            background-color:  #e5ffe5;\n",
       "        }    #T_ce6e7d76_2a24_11e8_b717_e4a471caa8c3row26_col1 {\n",
       "            background-color:  #e5ffe5;\n",
       "        }    #T_ce6e7d76_2a24_11e8_b717_e4a471caa8c3row26_col2 {\n",
       "            background-color:  #a4dba4;\n",
       "        }    #T_ce6e7d76_2a24_11e8_b717_e4a471caa8c3row26_col3 {\n",
       "            background-color:  #319b31;\n",
       "        }    #T_ce6e7d76_2a24_11e8_b717_e4a471caa8c3row27_col0 {\n",
       "            background-color:  #e5ffe5;\n",
       "        }    #T_ce6e7d76_2a24_11e8_b717_e4a471caa8c3row27_col1 {\n",
       "            background-color:  #e5ffe5;\n",
       "        }    #T_ce6e7d76_2a24_11e8_b717_e4a471caa8c3row27_col2 {\n",
       "            background-color:  #e5ffe5;\n",
       "        }    #T_ce6e7d76_2a24_11e8_b717_e4a471caa8c3row27_col3 {\n",
       "            background-color:  #178d17;\n",
       "        }    #T_ce6e7d76_2a24_11e8_b717_e4a471caa8c3row28_col0 {\n",
       "            background-color:  #e5ffe5;\n",
       "        }    #T_ce6e7d76_2a24_11e8_b717_e4a471caa8c3row28_col1 {\n",
       "            background-color:  #e5ffe5;\n",
       "        }    #T_ce6e7d76_2a24_11e8_b717_e4a471caa8c3row28_col2 {\n",
       "            background-color:  #e5ffe5;\n",
       "        }    #T_ce6e7d76_2a24_11e8_b717_e4a471caa8c3row28_col3 {\n",
       "            background-color:  #bfeabf;\n",
       "        }    #T_ce6e7d76_2a24_11e8_b717_e4a471caa8c3row29_col0 {\n",
       "            background-color:  #e5ffe5;\n",
       "        }    #T_ce6e7d76_2a24_11e8_b717_e4a471caa8c3row29_col1 {\n",
       "            background-color:  #e5ffe5;\n",
       "        }    #T_ce6e7d76_2a24_11e8_b717_e4a471caa8c3row29_col2 {\n",
       "            background-color:  #84c984;\n",
       "        }    #T_ce6e7d76_2a24_11e8_b717_e4a471caa8c3row29_col3 {\n",
       "            background-color:  #2c982c;\n",
       "        }    #T_ce6e7d76_2a24_11e8_b717_e4a471caa8c3row30_col0 {\n",
       "            background-color:  #e5ffe5;\n",
       "        }    #T_ce6e7d76_2a24_11e8_b717_e4a471caa8c3row30_col1 {\n",
       "            background-color:  #e5ffe5;\n",
       "        }    #T_ce6e7d76_2a24_11e8_b717_e4a471caa8c3row30_col2 {\n",
       "            background-color:  #85ca85;\n",
       "        }    #T_ce6e7d76_2a24_11e8_b717_e4a471caa8c3row30_col3 {\n",
       "            background-color:  #289628;\n",
       "        }    #T_ce6e7d76_2a24_11e8_b717_e4a471caa8c3row31_col0 {\n",
       "            background-color:  #e5ffe5;\n",
       "        }    #T_ce6e7d76_2a24_11e8_b717_e4a471caa8c3row31_col1 {\n",
       "            background-color:  #dcfadc;\n",
       "        }    #T_ce6e7d76_2a24_11e8_b717_e4a471caa8c3row31_col2 {\n",
       "            background-color:  #7dc57d;\n",
       "        }    #T_ce6e7d76_2a24_11e8_b717_e4a471caa8c3row31_col3 {\n",
       "            background-color:  #50ac50;\n",
       "        }    #T_ce6e7d76_2a24_11e8_b717_e4a471caa8c3row32_col0 {\n",
       "            background-color:  #e5ffe5;\n",
       "        }    #T_ce6e7d76_2a24_11e8_b717_e4a471caa8c3row32_col1 {\n",
       "            background-color:  #e5ffe5;\n",
       "        }    #T_ce6e7d76_2a24_11e8_b717_e4a471caa8c3row32_col2 {\n",
       "            background-color:  #a6dca6;\n",
       "        }    #T_ce6e7d76_2a24_11e8_b717_e4a471caa8c3row32_col3 {\n",
       "            background-color:  #2d992d;\n",
       "        }    #T_ce6e7d76_2a24_11e8_b717_e4a471caa8c3row33_col0 {\n",
       "            background-color:  #e5ffe5;\n",
       "        }    #T_ce6e7d76_2a24_11e8_b717_e4a471caa8c3row33_col1 {\n",
       "            background-color:  #e5ffe5;\n",
       "        }    #T_ce6e7d76_2a24_11e8_b717_e4a471caa8c3row33_col2 {\n",
       "            background-color:  #e5ffe5;\n",
       "        }    #T_ce6e7d76_2a24_11e8_b717_e4a471caa8c3row33_col3 {\n",
       "            background-color:  #5db35d;\n",
       "        }    #T_ce6e7d76_2a24_11e8_b717_e4a471caa8c3row34_col0 {\n",
       "            background-color:  #e5ffe5;\n",
       "        }    #T_ce6e7d76_2a24_11e8_b717_e4a471caa8c3row34_col1 {\n",
       "            background-color:  #e5ffe5;\n",
       "        }    #T_ce6e7d76_2a24_11e8_b717_e4a471caa8c3row34_col2 {\n",
       "            background-color:  #e5ffe5;\n",
       "        }    #T_ce6e7d76_2a24_11e8_b717_e4a471caa8c3row34_col3 {\n",
       "            background-color:  #c1ebc1;\n",
       "        }</style>  \n",
       "<table id=\"T_ce6e7d76_2a24_11e8_b717_e4a471caa8c3\" > \n",
       "<thead>    <tr> \n",
       "        <th class=\"blank\" ></th> \n",
       "        <th class=\"blank\" ></th> \n",
       "        <th class=\"blank level0\" ></th> \n",
       "        <th class=\"col_heading level0 col0\" >CRDataset</th> \n",
       "        <th class=\"col_heading level0 col1\" >MPQADataset</th> \n",
       "        <th class=\"col_heading level0 col2\" >MRDataset</th> \n",
       "        <th class=\"col_heading level0 col3\" >SUBJDataset</th> \n",
       "    </tr></thead> \n",
       "<tbody>    <tr> \n",
       "        <th id=\"T_ce6e7d76_2a24_11e8_b717_e4a471caa8c3level0_row0\" class=\"row_heading level0 row0\" rowspan=35>simple</th> \n",
       "        <th id=\"T_ce6e7d76_2a24_11e8_b717_e4a471caa8c3level1_row0\" class=\"row_heading level1 row0\" >constant__None</th> \n",
       "        <th id=\"T_ce6e7d76_2a24_11e8_b717_e4a471caa8c3level2_row0\" class=\"row_heading level2 row0\" >test</th> \n",
       "        <td id=\"T_ce6e7d76_2a24_11e8_b717_e4a471caa8c3row0_col0\" class=\"data row0 col0\" >0.637566</td> \n",
       "        <td id=\"T_ce6e7d76_2a24_11e8_b717_e4a471caa8c3row0_col1\" class=\"data row0 col1\" >0.68803</td> \n",
       "        <td id=\"T_ce6e7d76_2a24_11e8_b717_e4a471caa8c3row0_col2\" class=\"data row0 col2\" >0.499531</td> \n",
       "        <td id=\"T_ce6e7d76_2a24_11e8_b717_e4a471caa8c3row0_col3\" class=\"data row0 col3\" >0.5</td> \n",
       "    </tr>    <tr> \n",
       "        <th id=\"T_ce6e7d76_2a24_11e8_b717_e4a471caa8c3level1_row1\" class=\"row_heading level1 row1\" >constant__tfchi2</th> \n",
       "        <th id=\"T_ce6e7d76_2a24_11e8_b717_e4a471caa8c3level2_row1\" class=\"row_heading level2 row1\" >test</th> \n",
       "        <td id=\"T_ce6e7d76_2a24_11e8_b717_e4a471caa8c3row1_col0\" class=\"data row1 col0\" >0.637566</td> \n",
       "        <td id=\"T_ce6e7d76_2a24_11e8_b717_e4a471caa8c3row1_col1\" class=\"data row1 col1\" >0.68803</td> \n",
       "        <td id=\"T_ce6e7d76_2a24_11e8_b717_e4a471caa8c3row1_col2\" class=\"data row1 col2\" >0.499531</td> \n",
       "        <td id=\"T_ce6e7d76_2a24_11e8_b717_e4a471caa8c3row1_col3\" class=\"data row1 col3\" >0.5</td> \n",
       "    </tr>    <tr> \n",
       "        <th id=\"T_ce6e7d76_2a24_11e8_b717_e4a471caa8c3level1_row2\" class=\"row_heading level1 row2\" >constant__tfgr</th> \n",
       "        <th id=\"T_ce6e7d76_2a24_11e8_b717_e4a471caa8c3level2_row2\" class=\"row_heading level2 row2\" >test</th> \n",
       "        <td id=\"T_ce6e7d76_2a24_11e8_b717_e4a471caa8c3row2_col0\" class=\"data row2 col0\" >0.637566</td> \n",
       "        <td id=\"T_ce6e7d76_2a24_11e8_b717_e4a471caa8c3row2_col1\" class=\"data row2 col1\" >0.68803</td> \n",
       "        <td id=\"T_ce6e7d76_2a24_11e8_b717_e4a471caa8c3row2_col2\" class=\"data row2 col2\" >0.499531</td> \n",
       "        <td id=\"T_ce6e7d76_2a24_11e8_b717_e4a471caa8c3row2_col3\" class=\"data row2 col3\" >0.5</td> \n",
       "    </tr>    <tr> \n",
       "        <th id=\"T_ce6e7d76_2a24_11e8_b717_e4a471caa8c3level1_row3\" class=\"row_heading level1 row3\" >constant__tfidf</th> \n",
       "        <th id=\"T_ce6e7d76_2a24_11e8_b717_e4a471caa8c3level2_row3\" class=\"row_heading level2 row3\" >test</th> \n",
       "        <td id=\"T_ce6e7d76_2a24_11e8_b717_e4a471caa8c3row3_col0\" class=\"data row3 col0\" >0.637566</td> \n",
       "        <td id=\"T_ce6e7d76_2a24_11e8_b717_e4a471caa8c3row3_col1\" class=\"data row3 col1\" >0.68803</td> \n",
       "        <td id=\"T_ce6e7d76_2a24_11e8_b717_e4a471caa8c3row3_col2\" class=\"data row3 col2\" >0.499531</td> \n",
       "        <td id=\"T_ce6e7d76_2a24_11e8_b717_e4a471caa8c3row3_col3\" class=\"data row3 col3\" >0.5</td> \n",
       "    </tr>    <tr> \n",
       "        <th id=\"T_ce6e7d76_2a24_11e8_b717_e4a471caa8c3level1_row4\" class=\"row_heading level1 row4\" >constant__tfig</th> \n",
       "        <th id=\"T_ce6e7d76_2a24_11e8_b717_e4a471caa8c3level2_row4\" class=\"row_heading level2 row4\" >test</th> \n",
       "        <td id=\"T_ce6e7d76_2a24_11e8_b717_e4a471caa8c3row4_col0\" class=\"data row4 col0\" >0.637566</td> \n",
       "        <td id=\"T_ce6e7d76_2a24_11e8_b717_e4a471caa8c3row4_col1\" class=\"data row4 col1\" >0.68803</td> \n",
       "        <td id=\"T_ce6e7d76_2a24_11e8_b717_e4a471caa8c3row4_col2\" class=\"data row4 col2\" >0.499531</td> \n",
       "        <td id=\"T_ce6e7d76_2a24_11e8_b717_e4a471caa8c3row4_col3\" class=\"data row4 col3\" >0.5</td> \n",
       "    </tr>    <tr> \n",
       "        <th id=\"T_ce6e7d76_2a24_11e8_b717_e4a471caa8c3level1_row5\" class=\"row_heading level1 row5\" >constant__tfor</th> \n",
       "        <th id=\"T_ce6e7d76_2a24_11e8_b717_e4a471caa8c3level2_row5\" class=\"row_heading level2 row5\" >test</th> \n",
       "        <td id=\"T_ce6e7d76_2a24_11e8_b717_e4a471caa8c3row5_col0\" class=\"data row5 col0\" >0.637566</td> \n",
       "        <td id=\"T_ce6e7d76_2a24_11e8_b717_e4a471caa8c3row5_col1\" class=\"data row5 col1\" >0.68803</td> \n",
       "        <td id=\"T_ce6e7d76_2a24_11e8_b717_e4a471caa8c3row5_col2\" class=\"data row5 col2\" >0.499531</td> \n",
       "        <td id=\"T_ce6e7d76_2a24_11e8_b717_e4a471caa8c3row5_col3\" class=\"data row5 col3\" >0.5</td> \n",
       "    </tr>    <tr> \n",
       "        <th id=\"T_ce6e7d76_2a24_11e8_b717_e4a471caa8c3level1_row6\" class=\"row_heading level1 row6\" >constant__tfrf</th> \n",
       "        <th id=\"T_ce6e7d76_2a24_11e8_b717_e4a471caa8c3level2_row6\" class=\"row_heading level2 row6\" >test</th> \n",
       "        <td id=\"T_ce6e7d76_2a24_11e8_b717_e4a471caa8c3row6_col0\" class=\"data row6 col0\" >0.637566</td> \n",
       "        <td id=\"T_ce6e7d76_2a24_11e8_b717_e4a471caa8c3row6_col1\" class=\"data row6 col1\" >0.68803</td> \n",
       "        <td id=\"T_ce6e7d76_2a24_11e8_b717_e4a471caa8c3row6_col2\" class=\"data row6 col2\" >0.499531</td> \n",
       "        <td id=\"T_ce6e7d76_2a24_11e8_b717_e4a471caa8c3row6_col3\" class=\"data row6 col3\" >0.5</td> \n",
       "    </tr>    <tr> \n",
       "        <th id=\"T_ce6e7d76_2a24_11e8_b717_e4a471caa8c3level1_row7\" class=\"row_heading level1 row7\" >logistic__None</th> \n",
       "        <th id=\"T_ce6e7d76_2a24_11e8_b717_e4a471caa8c3level2_row7\" class=\"row_heading level2 row7\" >test</th> \n",
       "        <td id=\"T_ce6e7d76_2a24_11e8_b717_e4a471caa8c3row7_col0\" class=\"data row7 col0\" >0.793651</td> \n",
       "        <td id=\"T_ce6e7d76_2a24_11e8_b717_e4a471caa8c3row7_col1\" class=\"data row7 col1\" >0.832234</td> \n",
       "        <td id=\"T_ce6e7d76_2a24_11e8_b717_e4a471caa8c3row7_col2\" class=\"data row7 col2\" >0.776945</td> \n",
       "        <td id=\"T_ce6e7d76_2a24_11e8_b717_e4a471caa8c3row7_col3\" class=\"data row7 col3\" >0.919</td> \n",
       "    </tr>    <tr> \n",
       "        <th id=\"T_ce6e7d76_2a24_11e8_b717_e4a471caa8c3level1_row8\" class=\"row_heading level1 row8\" >logistic__tfchi2</th> \n",
       "        <th id=\"T_ce6e7d76_2a24_11e8_b717_e4a471caa8c3level2_row8\" class=\"row_heading level2 row8\" >test</th> \n",
       "        <td id=\"T_ce6e7d76_2a24_11e8_b717_e4a471caa8c3row8_col0\" class=\"data row8 col0\" >0.780423</td> \n",
       "        <td id=\"T_ce6e7d76_2a24_11e8_b717_e4a471caa8c3row8_col1\" class=\"data row8 col1\" >0.799246</td> \n",
       "        <td id=\"T_ce6e7d76_2a24_11e8_b717_e4a471caa8c3row8_col2\" class=\"data row8 col2\" >0.68791</td> \n",
       "        <td id=\"T_ce6e7d76_2a24_11e8_b717_e4a471caa8c3row8_col3\" class=\"data row8 col3\" >0.845</td> \n",
       "    </tr>    <tr> \n",
       "        <th id=\"T_ce6e7d76_2a24_11e8_b717_e4a471caa8c3level1_row9\" class=\"row_heading level1 row9\" >logistic__tfgr</th> \n",
       "        <th id=\"T_ce6e7d76_2a24_11e8_b717_e4a471caa8c3level2_row9\" class=\"row_heading level2 row9\" >test</th> \n",
       "        <td id=\"T_ce6e7d76_2a24_11e8_b717_e4a471caa8c3row9_col0\" class=\"data row9 col0\" >0.775132</td> \n",
       "        <td id=\"T_ce6e7d76_2a24_11e8_b717_e4a471caa8c3row9_col1\" class=\"data row9 col1\" >0.799246</td> \n",
       "        <td id=\"T_ce6e7d76_2a24_11e8_b717_e4a471caa8c3row9_col2\" class=\"data row9 col2\" >0.690722</td> \n",
       "        <td id=\"T_ce6e7d76_2a24_11e8_b717_e4a471caa8c3row9_col3\" class=\"data row9 col3\" >0.846</td> \n",
       "    </tr>    <tr> \n",
       "        <th id=\"T_ce6e7d76_2a24_11e8_b717_e4a471caa8c3level1_row10\" class=\"row_heading level1 row10\" >logistic__tfidf</th> \n",
       "        <th id=\"T_ce6e7d76_2a24_11e8_b717_e4a471caa8c3level2_row10\" class=\"row_heading level2 row10\" >test</th> \n",
       "        <td id=\"T_ce6e7d76_2a24_11e8_b717_e4a471caa8c3row10_col0\" class=\"data row10 col0\" >0.772487</td> \n",
       "        <td id=\"T_ce6e7d76_2a24_11e8_b717_e4a471caa8c3row10_col1\" class=\"data row10 col1\" >0.847314</td> \n",
       "        <td id=\"T_ce6e7d76_2a24_11e8_b717_e4a471caa8c3row10_col2\" class=\"data row10 col2\" >0.754452</td> \n",
       "        <td id=\"T_ce6e7d76_2a24_11e8_b717_e4a471caa8c3row10_col3\" class=\"data row10 col3\" >0.921</td> \n",
       "    </tr>    <tr> \n",
       "        <th id=\"T_ce6e7d76_2a24_11e8_b717_e4a471caa8c3level1_row11\" class=\"row_heading level1 row11\" >logistic__tfig</th> \n",
       "        <th id=\"T_ce6e7d76_2a24_11e8_b717_e4a471caa8c3level2_row11\" class=\"row_heading level2 row11\" >test</th> \n",
       "        <td id=\"T_ce6e7d76_2a24_11e8_b717_e4a471caa8c3row11_col0\" class=\"data row11 col0\" >0.775132</td> \n",
       "        <td id=\"T_ce6e7d76_2a24_11e8_b717_e4a471caa8c3row11_col1\" class=\"data row11 col1\" >0.799246</td> \n",
       "        <td id=\"T_ce6e7d76_2a24_11e8_b717_e4a471caa8c3row11_col2\" class=\"data row11 col2\" >0.690722</td> \n",
       "        <td id=\"T_ce6e7d76_2a24_11e8_b717_e4a471caa8c3row11_col3\" class=\"data row11 col3\" >0.846</td> \n",
       "    </tr>    <tr> \n",
       "        <th id=\"T_ce6e7d76_2a24_11e8_b717_e4a471caa8c3level1_row12\" class=\"row_heading level1 row12\" >logistic__tfor</th> \n",
       "        <th id=\"T_ce6e7d76_2a24_11e8_b717_e4a471caa8c3level2_row12\" class=\"row_heading level2 row12\" >test</th> \n",
       "        <td id=\"T_ce6e7d76_2a24_11e8_b717_e4a471caa8c3row12_col0\" class=\"data row12 col0\" >0.796296</td> \n",
       "        <td id=\"T_ce6e7d76_2a24_11e8_b717_e4a471caa8c3row12_col1\" class=\"data row12 col1\" >0.828464</td> \n",
       "        <td id=\"T_ce6e7d76_2a24_11e8_b717_e4a471caa8c3row12_col2\" class=\"data row12 col2\" >0.79194</td> \n",
       "        <td id=\"T_ce6e7d76_2a24_11e8_b717_e4a471caa8c3row12_col3\" class=\"data row12 col3\" >0.91</td> \n",
       "    </tr>    <tr> \n",
       "        <th id=\"T_ce6e7d76_2a24_11e8_b717_e4a471caa8c3level1_row13\" class=\"row_heading level1 row13\" >logistic__tfrf</th> \n",
       "        <th id=\"T_ce6e7d76_2a24_11e8_b717_e4a471caa8c3level2_row13\" class=\"row_heading level2 row13\" >test</th> \n",
       "        <td id=\"T_ce6e7d76_2a24_11e8_b717_e4a471caa8c3row13_col0\" class=\"data row13 col0\" >0.756614</td> \n",
       "        <td id=\"T_ce6e7d76_2a24_11e8_b717_e4a471caa8c3row13_col1\" class=\"data row13 col1\" >0.819039</td> \n",
       "        <td id=\"T_ce6e7d76_2a24_11e8_b717_e4a471caa8c3row13_col2\" class=\"data row13 col2\" >0.736645</td> \n",
       "        <td id=\"T_ce6e7d76_2a24_11e8_b717_e4a471caa8c3row13_col3\" class=\"data row13 col3\" >0.881</td> \n",
       "    </tr>    <tr> \n",
       "        <th id=\"T_ce6e7d76_2a24_11e8_b717_e4a471caa8c3level1_row14\" class=\"row_heading level1 row14\" >logistic_lsa_None</th> \n",
       "        <th id=\"T_ce6e7d76_2a24_11e8_b717_e4a471caa8c3level2_row14\" class=\"row_heading level2 row14\" >test</th> \n",
       "        <td id=\"T_ce6e7d76_2a24_11e8_b717_e4a471caa8c3row14_col0\" class=\"data row14 col0\" >0.750794</td> \n",
       "        <td id=\"T_ce6e7d76_2a24_11e8_b717_e4a471caa8c3row14_col1\" class=\"data row14 col1\" >0.741753</td> \n",
       "        <td id=\"T_ce6e7d76_2a24_11e8_b717_e4a471caa8c3row14_col2\" class=\"data row14 col2\" >0.670853</td> \n",
       "        <td id=\"T_ce6e7d76_2a24_11e8_b717_e4a471caa8c3row14_col3\" class=\"data row14 col3\" >0.8728</td> \n",
       "    </tr>    <tr> \n",
       "        <th id=\"T_ce6e7d76_2a24_11e8_b717_e4a471caa8c3level1_row15\" class=\"row_heading level1 row15\" >logistic_lsa_tfchi2</th> \n",
       "        <th id=\"T_ce6e7d76_2a24_11e8_b717_e4a471caa8c3level2_row15\" class=\"row_heading level2 row15\" >test</th> \n",
       "        <td id=\"T_ce6e7d76_2a24_11e8_b717_e4a471caa8c3row15_col0\" class=\"data row15 col0\" >0.780423</td> \n",
       "        <td id=\"T_ce6e7d76_2a24_11e8_b717_e4a471caa8c3row15_col1\" class=\"data row15 col1\" >0.7623</td> \n",
       "        <td id=\"T_ce6e7d76_2a24_11e8_b717_e4a471caa8c3row15_col2\" class=\"data row15 col2\" >0.667291</td> \n",
       "        <td id=\"T_ce6e7d76_2a24_11e8_b717_e4a471caa8c3row15_col3\" class=\"data row15 col3\" >0.8418</td> \n",
       "    </tr>    <tr> \n",
       "        <th id=\"T_ce6e7d76_2a24_11e8_b717_e4a471caa8c3level1_row16\" class=\"row_heading level1 row16\" >logistic_lsa_tfgr</th> \n",
       "        <th id=\"T_ce6e7d76_2a24_11e8_b717_e4a471caa8c3level2_row16\" class=\"row_heading level2 row16\" >test</th> \n",
       "        <td id=\"T_ce6e7d76_2a24_11e8_b717_e4a471caa8c3row16_col0\" class=\"data row16 col0\" >0.775132</td> \n",
       "        <td id=\"T_ce6e7d76_2a24_11e8_b717_e4a471caa8c3row16_col1\" class=\"data row16 col1\" >0.763996</td> \n",
       "        <td id=\"T_ce6e7d76_2a24_11e8_b717_e4a471caa8c3row16_col2\" class=\"data row16 col2\" >0.672165</td> \n",
       "        <td id=\"T_ce6e7d76_2a24_11e8_b717_e4a471caa8c3row16_col3\" class=\"data row16 col3\" >0.842</td> \n",
       "    </tr>    <tr> \n",
       "        <th id=\"T_ce6e7d76_2a24_11e8_b717_e4a471caa8c3level1_row17\" class=\"row_heading level1 row17\" >logistic_lsa_tfidf</th> \n",
       "        <th id=\"T_ce6e7d76_2a24_11e8_b717_e4a471caa8c3level2_row17\" class=\"row_heading level2 row17\" >test</th> \n",
       "        <td id=\"T_ce6e7d76_2a24_11e8_b717_e4a471caa8c3row17_col0\" class=\"data row17 col0\" >0.766138</td> \n",
       "        <td id=\"T_ce6e7d76_2a24_11e8_b717_e4a471caa8c3row17_col1\" class=\"data row17 col1\" >0.746089</td> \n",
       "        <td id=\"T_ce6e7d76_2a24_11e8_b717_e4a471caa8c3row17_col2\" class=\"data row17 col2\" >0.68791</td> \n",
       "        <td id=\"T_ce6e7d76_2a24_11e8_b717_e4a471caa8c3row17_col3\" class=\"data row17 col3\" >0.888</td> \n",
       "    </tr>    <tr> \n",
       "        <th id=\"T_ce6e7d76_2a24_11e8_b717_e4a471caa8c3level1_row18\" class=\"row_heading level1 row18\" >logistic_lsa_tfig</th> \n",
       "        <th id=\"T_ce6e7d76_2a24_11e8_b717_e4a471caa8c3level2_row18\" class=\"row_heading level2 row18\" >test</th> \n",
       "        <td id=\"T_ce6e7d76_2a24_11e8_b717_e4a471caa8c3row18_col0\" class=\"data row18 col0\" >0.775132</td> \n",
       "        <td id=\"T_ce6e7d76_2a24_11e8_b717_e4a471caa8c3row18_col1\" class=\"data row18 col1\" >0.761923</td> \n",
       "        <td id=\"T_ce6e7d76_2a24_11e8_b717_e4a471caa8c3row18_col2\" class=\"data row18 col2\" >0.670291</td> \n",
       "        <td id=\"T_ce6e7d76_2a24_11e8_b717_e4a471caa8c3row18_col3\" class=\"data row18 col3\" >0.842</td> \n",
       "    </tr>    <tr> \n",
       "        <th id=\"T_ce6e7d76_2a24_11e8_b717_e4a471caa8c3level1_row19\" class=\"row_heading level1 row19\" >logistic_lsa_tfor</th> \n",
       "        <th id=\"T_ce6e7d76_2a24_11e8_b717_e4a471caa8c3level2_row19\" class=\"row_heading level2 row19\" >test</th> \n",
       "        <td id=\"T_ce6e7d76_2a24_11e8_b717_e4a471caa8c3row19_col0\" class=\"data row19 col0\" >0.773545</td> \n",
       "        <td id=\"T_ce6e7d76_2a24_11e8_b717_e4a471caa8c3row19_col1\" class=\"data row19 col1\" >0.770028</td> \n",
       "        <td id=\"T_ce6e7d76_2a24_11e8_b717_e4a471caa8c3row19_col2\" class=\"data row19 col2\" >0.74358</td> \n",
       "        <td id=\"T_ce6e7d76_2a24_11e8_b717_e4a471caa8c3row19_col3\" class=\"data row19 col3\" >0.8866</td> \n",
       "    </tr>    <tr> \n",
       "        <th id=\"T_ce6e7d76_2a24_11e8_b717_e4a471caa8c3level1_row20\" class=\"row_heading level1 row20\" >logistic_lsa_tfrf</th> \n",
       "        <th id=\"T_ce6e7d76_2a24_11e8_b717_e4a471caa8c3level2_row20\" class=\"row_heading level2 row20\" >test</th> \n",
       "        <td id=\"T_ce6e7d76_2a24_11e8_b717_e4a471caa8c3row20_col0\" class=\"data row20 col0\" >0.728042</td> \n",
       "        <td id=\"T_ce6e7d76_2a24_11e8_b717_e4a471caa8c3row20_col1\" class=\"data row20 col1\" >0.759849</td> \n",
       "        <td id=\"T_ce6e7d76_2a24_11e8_b717_e4a471caa8c3row20_col2\" class=\"data row20 col2\" >0.693346</td> \n",
       "        <td id=\"T_ce6e7d76_2a24_11e8_b717_e4a471caa8c3row20_col3\" class=\"data row20 col3\" >0.8664</td> \n",
       "    </tr>    <tr> \n",
       "        <th id=\"T_ce6e7d76_2a24_11e8_b717_e4a471caa8c3level1_row21\" class=\"row_heading level1 row21\" >mylogistic_None</th> \n",
       "        <th id=\"T_ce6e7d76_2a24_11e8_b717_e4a471caa8c3level2_row21\" class=\"row_heading level2 row21\" >test</th> \n",
       "        <td id=\"T_ce6e7d76_2a24_11e8_b717_e4a471caa8c3row21_col0\" class=\"data row21 col0\" >0.637566</td> \n",
       "        <td id=\"T_ce6e7d76_2a24_11e8_b717_e4a471caa8c3row21_col1\" class=\"data row21 col1\" >0.68803</td> \n",
       "        <td id=\"T_ce6e7d76_2a24_11e8_b717_e4a471caa8c3row21_col2\" class=\"data row21 col2\" >0.721649</td> \n",
       "        <td id=\"T_ce6e7d76_2a24_11e8_b717_e4a471caa8c3row21_col3\" class=\"data row21 col3\" >0.867</td> \n",
       "    </tr>    <tr> \n",
       "        <th id=\"T_ce6e7d76_2a24_11e8_b717_e4a471caa8c3level1_row22\" class=\"row_heading level1 row22\" >mylogistic_lsa_None</th> \n",
       "        <th id=\"T_ce6e7d76_2a24_11e8_b717_e4a471caa8c3level2_row22\" class=\"row_heading level2 row22\" >test</th> \n",
       "        <td id=\"T_ce6e7d76_2a24_11e8_b717_e4a471caa8c3row22_col0\" class=\"data row22 col0\" >0.637566</td> \n",
       "        <td id=\"T_ce6e7d76_2a24_11e8_b717_e4a471caa8c3row22_col1\" class=\"data row22 col1\" >0.68803</td> \n",
       "        <td id=\"T_ce6e7d76_2a24_11e8_b717_e4a471caa8c3row22_col2\" class=\"data row22 col2\" >0.556888</td> \n",
       "        <td id=\"T_ce6e7d76_2a24_11e8_b717_e4a471caa8c3row22_col3\" class=\"data row22 col3\" >0.8556</td> \n",
       "    </tr>    <tr> \n",
       "        <th id=\"T_ce6e7d76_2a24_11e8_b717_e4a471caa8c3level1_row23\" class=\"row_heading level1 row23\" >mylogistic_lsa_tfchi2</th> \n",
       "        <th id=\"T_ce6e7d76_2a24_11e8_b717_e4a471caa8c3level2_row23\" class=\"row_heading level2 row23\" >test</th> \n",
       "        <td id=\"T_ce6e7d76_2a24_11e8_b717_e4a471caa8c3row23_col0\" class=\"data row23 col0\" >0.637566</td> \n",
       "        <td id=\"T_ce6e7d76_2a24_11e8_b717_e4a471caa8c3row23_col1\" class=\"data row23 col1\" >0.68803</td> \n",
       "        <td id=\"T_ce6e7d76_2a24_11e8_b717_e4a471caa8c3row23_col2\" class=\"data row23 col2\" >0.604873</td> \n",
       "        <td id=\"T_ce6e7d76_2a24_11e8_b717_e4a471caa8c3row23_col3\" class=\"data row23 col3\" >0.8308</td> \n",
       "    </tr>    <tr> \n",
       "        <th id=\"T_ce6e7d76_2a24_11e8_b717_e4a471caa8c3level1_row24\" class=\"row_heading level1 row24\" >mylogistic_lsa_tfgr</th> \n",
       "        <th id=\"T_ce6e7d76_2a24_11e8_b717_e4a471caa8c3level2_row24\" class=\"row_heading level2 row24\" >test</th> \n",
       "        <td id=\"T_ce6e7d76_2a24_11e8_b717_e4a471caa8c3row24_col0\" class=\"data row24 col0\" >0.637566</td> \n",
       "        <td id=\"T_ce6e7d76_2a24_11e8_b717_e4a471caa8c3row24_col1\" class=\"data row24 col1\" >0.68803</td> \n",
       "        <td id=\"T_ce6e7d76_2a24_11e8_b717_e4a471caa8c3row24_col2\" class=\"data row24 col2\" >0.596439</td> \n",
       "        <td id=\"T_ce6e7d76_2a24_11e8_b717_e4a471caa8c3row24_col3\" class=\"data row24 col3\" >0.8316</td> \n",
       "    </tr>    <tr> \n",
       "        <th id=\"T_ce6e7d76_2a24_11e8_b717_e4a471caa8c3level1_row25\" class=\"row_heading level1 row25\" >mylogistic_lsa_tfidf</th> \n",
       "        <th id=\"T_ce6e7d76_2a24_11e8_b717_e4a471caa8c3level2_row25\" class=\"row_heading level2 row25\" >test</th> \n",
       "        <td id=\"T_ce6e7d76_2a24_11e8_b717_e4a471caa8c3row25_col0\" class=\"data row25 col0\" >0.640741</td> \n",
       "        <td id=\"T_ce6e7d76_2a24_11e8_b717_e4a471caa8c3row25_col1\" class=\"data row25 col1\" >0.694816</td> \n",
       "        <td id=\"T_ce6e7d76_2a24_11e8_b717_e4a471caa8c3row25_col2\" class=\"data row25 col2\" >0.557826</td> \n",
       "        <td id=\"T_ce6e7d76_2a24_11e8_b717_e4a471caa8c3row25_col3\" class=\"data row25 col3\" >0.7532</td> \n",
       "    </tr>    <tr> \n",
       "        <th id=\"T_ce6e7d76_2a24_11e8_b717_e4a471caa8c3level1_row26\" class=\"row_heading level1 row26\" >mylogistic_lsa_tfig</th> \n",
       "        <th id=\"T_ce6e7d76_2a24_11e8_b717_e4a471caa8c3level2_row26\" class=\"row_heading level2 row26\" >test</th> \n",
       "        <td id=\"T_ce6e7d76_2a24_11e8_b717_e4a471caa8c3row26_col0\" class=\"data row26 col0\" >0.637566</td> \n",
       "        <td id=\"T_ce6e7d76_2a24_11e8_b717_e4a471caa8c3row26_col1\" class=\"data row26 col1\" >0.68803</td> \n",
       "        <td id=\"T_ce6e7d76_2a24_11e8_b717_e4a471caa8c3row26_col2\" class=\"data row26 col2\" >0.58313</td> \n",
       "        <td id=\"T_ce6e7d76_2a24_11e8_b717_e4a471caa8c3row26_col3\" class=\"data row26 col3\" >0.83</td> \n",
       "    </tr>    <tr> \n",
       "        <th id=\"T_ce6e7d76_2a24_11e8_b717_e4a471caa8c3level1_row27\" class=\"row_heading level1 row27\" >mylogistic_lsa_tfor</th> \n",
       "        <th id=\"T_ce6e7d76_2a24_11e8_b717_e4a471caa8c3level2_row27\" class=\"row_heading level2 row27\" >test</th> \n",
       "        <td id=\"T_ce6e7d76_2a24_11e8_b717_e4a471caa8c3row27_col0\" class=\"data row27 col0\" >0.637566</td> \n",
       "        <td id=\"T_ce6e7d76_2a24_11e8_b717_e4a471caa8c3row27_col1\" class=\"data row27 col1\" >0.68803</td> \n",
       "        <td id=\"T_ce6e7d76_2a24_11e8_b717_e4a471caa8c3row27_col2\" class=\"data row27 col2\" >0.499719</td> \n",
       "        <td id=\"T_ce6e7d76_2a24_11e8_b717_e4a471caa8c3row27_col3\" class=\"data row27 col3\" >0.8778</td> \n",
       "    </tr>    <tr> \n",
       "        <th id=\"T_ce6e7d76_2a24_11e8_b717_e4a471caa8c3level1_row28\" class=\"row_heading level1 row28\" >mylogistic_lsa_tfrf</th> \n",
       "        <th id=\"T_ce6e7d76_2a24_11e8_b717_e4a471caa8c3level2_row28\" class=\"row_heading level2 row28\" >test</th> \n",
       "        <td id=\"T_ce6e7d76_2a24_11e8_b717_e4a471caa8c3row28_col0\" class=\"data row28 col0\" >0.637566</td> \n",
       "        <td id=\"T_ce6e7d76_2a24_11e8_b717_e4a471caa8c3row28_col1\" class=\"data row28 col1\" >0.68803</td> \n",
       "        <td id=\"T_ce6e7d76_2a24_11e8_b717_e4a471caa8c3row28_col2\" class=\"data row28 col2\" >0.499906</td> \n",
       "        <td id=\"T_ce6e7d76_2a24_11e8_b717_e4a471caa8c3row28_col3\" class=\"data row28 col3\" >0.571</td> \n",
       "    </tr>    <tr> \n",
       "        <th id=\"T_ce6e7d76_2a24_11e8_b717_e4a471caa8c3level1_row29\" class=\"row_heading level1 row29\" >mylogistic_tfchi2</th> \n",
       "        <th id=\"T_ce6e7d76_2a24_11e8_b717_e4a471caa8c3level2_row29\" class=\"row_heading level2 row29\" >test</th> \n",
       "        <td id=\"T_ce6e7d76_2a24_11e8_b717_e4a471caa8c3row29_col0\" class=\"data row29 col0\" >0.637566</td> \n",
       "        <td id=\"T_ce6e7d76_2a24_11e8_b717_e4a471caa8c3row29_col1\" class=\"data row29 col1\" >0.68803</td> \n",
       "        <td id=\"T_ce6e7d76_2a24_11e8_b717_e4a471caa8c3row29_col2\" class=\"data row29 col2\" >0.623055</td> \n",
       "        <td id=\"T_ce6e7d76_2a24_11e8_b717_e4a471caa8c3row29_col3\" class=\"data row29 col3\" >0.8392</td> \n",
       "    </tr>    <tr> \n",
       "        <th id=\"T_ce6e7d76_2a24_11e8_b717_e4a471caa8c3level1_row30\" class=\"row_heading level1 row30\" >mylogistic_tfgr</th> \n",
       "        <th id=\"T_ce6e7d76_2a24_11e8_b717_e4a471caa8c3level2_row30\" class=\"row_heading level2 row30\" >test</th> \n",
       "        <td id=\"T_ce6e7d76_2a24_11e8_b717_e4a471caa8c3row30_col0\" class=\"data row30 col0\" >0.637566</td> \n",
       "        <td id=\"T_ce6e7d76_2a24_11e8_b717_e4a471caa8c3row30_col1\" class=\"data row30 col1\" >0.68803</td> \n",
       "        <td id=\"T_ce6e7d76_2a24_11e8_b717_e4a471caa8c3row30_col2\" class=\"data row30 col2\" >0.622118</td> \n",
       "        <td id=\"T_ce6e7d76_2a24_11e8_b717_e4a471caa8c3row30_col3\" class=\"data row30 col3\" >0.846</td> \n",
       "    </tr>    <tr> \n",
       "        <th id=\"T_ce6e7d76_2a24_11e8_b717_e4a471caa8c3level1_row31\" class=\"row_heading level1 row31\" >mylogistic_tfidf</th> \n",
       "        <th id=\"T_ce6e7d76_2a24_11e8_b717_e4a471caa8c3level2_row31\" class=\"row_heading level2 row31\" >test</th> \n",
       "        <td id=\"T_ce6e7d76_2a24_11e8_b717_e4a471caa8c3row31_col0\" class=\"data row31 col0\" >0.637566</td> \n",
       "        <td id=\"T_ce6e7d76_2a24_11e8_b717_e4a471caa8c3row31_col1\" class=\"data row31 col1\" >0.694439</td> \n",
       "        <td id=\"T_ce6e7d76_2a24_11e8_b717_e4a471caa8c3row31_col2\" class=\"data row31 col2\" >0.63224</td> \n",
       "        <td id=\"T_ce6e7d76_2a24_11e8_b717_e4a471caa8c3row31_col3\" class=\"data row31 col3\" >0.7738</td> \n",
       "    </tr>    <tr> \n",
       "        <th id=\"T_ce6e7d76_2a24_11e8_b717_e4a471caa8c3level1_row32\" class=\"row_heading level1 row32\" >mylogistic_tfig</th> \n",
       "        <th id=\"T_ce6e7d76_2a24_11e8_b717_e4a471caa8c3level2_row32\" class=\"row_heading level2 row32\" >test</th> \n",
       "        <td id=\"T_ce6e7d76_2a24_11e8_b717_e4a471caa8c3row32_col0\" class=\"data row32 col0\" >0.637566</td> \n",
       "        <td id=\"T_ce6e7d76_2a24_11e8_b717_e4a471caa8c3row32_col1\" class=\"data row32 col1\" >0.68803</td> \n",
       "        <td id=\"T_ce6e7d76_2a24_11e8_b717_e4a471caa8c3row32_col2\" class=\"data row32 col2\" >0.579944</td> \n",
       "        <td id=\"T_ce6e7d76_2a24_11e8_b717_e4a471caa8c3row32_col3\" class=\"data row32 col3\" >0.8384</td> \n",
       "    </tr>    <tr> \n",
       "        <th id=\"T_ce6e7d76_2a24_11e8_b717_e4a471caa8c3level1_row33\" class=\"row_heading level1 row33\" >mylogistic_tfor</th> \n",
       "        <th id=\"T_ce6e7d76_2a24_11e8_b717_e4a471caa8c3level2_row33\" class=\"row_heading level2 row33\" >test</th> \n",
       "        <td id=\"T_ce6e7d76_2a24_11e8_b717_e4a471caa8c3row33_col0\" class=\"data row33 col0\" >0.637566</td> \n",
       "        <td id=\"T_ce6e7d76_2a24_11e8_b717_e4a471caa8c3row33_col1\" class=\"data row33 col1\" >0.68803</td> \n",
       "        <td id=\"T_ce6e7d76_2a24_11e8_b717_e4a471caa8c3row33_col2\" class=\"data row33 col2\" >0.500094</td> \n",
       "        <td id=\"T_ce6e7d76_2a24_11e8_b717_e4a471caa8c3row33_col3\" class=\"data row33 col3\" >0.7516</td> \n",
       "    </tr>    <tr> \n",
       "        <th id=\"T_ce6e7d76_2a24_11e8_b717_e4a471caa8c3level1_row34\" class=\"row_heading level1 row34\" >mylogistic_tfrf</th> \n",
       "        <th id=\"T_ce6e7d76_2a24_11e8_b717_e4a471caa8c3level2_row34\" class=\"row_heading level2 row34\" >test</th> \n",
       "        <td id=\"T_ce6e7d76_2a24_11e8_b717_e4a471caa8c3row34_col0\" class=\"data row34 col0\" >0.637566</td> \n",
       "        <td id=\"T_ce6e7d76_2a24_11e8_b717_e4a471caa8c3row34_col1\" class=\"data row34 col1\" >0.68803</td> \n",
       "        <td id=\"T_ce6e7d76_2a24_11e8_b717_e4a471caa8c3row34_col2\" class=\"data row34 col2\" >0.500281</td> \n",
       "        <td id=\"T_ce6e7d76_2a24_11e8_b717_e4a471caa8c3row34_col3\" class=\"data row34 col3\" >0.568</td> \n",
       "    </tr></tbody> \n",
       "</table> "
      ],
      "text/plain": [
       "<pandas.io.formats.style.Styler at 0x7fa935e287b8>"
      ]
     },
     "execution_count": 115,
     "metadata": {},
     "output_type": "execute_result"
    }
   ],
   "source": [
    "cm = sns.light_palette(\"green\", as_cmap=True)\n",
    "\n",
    "pd.DataFrame(results).sort_index().loc[(slice(None),slice(None), 'test'),:].style.background_gradient(cmap=cm)"
   ]
  },
  {
   "cell_type": "code",
   "execution_count": 116,
   "metadata": {},
   "outputs": [
    {
     "data": {
      "text/html": [
       "<style  type=\"text/css\" >\n",
       "    #T_ce6e7d77_2a24_11e8_b717_e4a471caa8c3row0_col0 {\n",
       "            background-color:  #088408;\n",
       "        }    #T_ce6e7d77_2a24_11e8_b717_e4a471caa8c3row0_col1 {\n",
       "            background-color:  #209220;\n",
       "        }    #T_ce6e7d77_2a24_11e8_b717_e4a471caa8c3row0_col2 {\n",
       "            background-color:  #1b8f1b;\n",
       "        }    #T_ce6e7d77_2a24_11e8_b717_e4a471caa8c3row0_col3 {\n",
       "            background-color:  #058305;\n",
       "        }    #T_ce6e7d77_2a24_11e8_b717_e4a471caa8c3row1_col0 {\n",
       "            background-color:  #359d35;\n",
       "        }    #T_ce6e7d77_2a24_11e8_b717_e4a471caa8c3row1_col1 {\n",
       "            background-color:  #68ba68;\n",
       "        }    #T_ce6e7d77_2a24_11e8_b717_e4a471caa8c3row1_col2 {\n",
       "            background-color:  #c0eac0;\n",
       "        }    #T_ce6e7d77_2a24_11e8_b717_e4a471caa8c3row1_col3 {\n",
       "            background-color:  #dcfadc;\n",
       "        }    #T_ce6e7d77_2a24_11e8_b717_e4a471caa8c3row2_col0 {\n",
       "            background-color:  #47a747;\n",
       "        }    #T_ce6e7d77_2a24_11e8_b717_e4a471caa8c3row2_col1 {\n",
       "            background-color:  #68ba68;\n",
       "        }    #T_ce6e7d77_2a24_11e8_b717_e4a471caa8c3row2_col2 {\n",
       "            background-color:  #bae7ba;\n",
       "        }    #T_ce6e7d77_2a24_11e8_b717_e4a471caa8c3row2_col3 {\n",
       "            background-color:  #daf9da;\n",
       "        }    #T_ce6e7d77_2a24_11e8_b717_e4a471caa8c3row3_col0 {\n",
       "            background-color:  #50ac50;\n",
       "        }    #T_ce6e7d77_2a24_11e8_b717_e4a471caa8c3row3_col1 {\n",
       "            background-color:  #008000;\n",
       "        }    #T_ce6e7d77_2a24_11e8_b717_e4a471caa8c3row3_col2 {\n",
       "            background-color:  #44a644;\n",
       "        }    #T_ce6e7d77_2a24_11e8_b717_e4a471caa8c3row3_col3 {\n",
       "            background-color:  #008000;\n",
       "        }    #T_ce6e7d77_2a24_11e8_b717_e4a471caa8c3row4_col0 {\n",
       "            background-color:  #47a747;\n",
       "        }    #T_ce6e7d77_2a24_11e8_b717_e4a471caa8c3row4_col1 {\n",
       "            background-color:  #68ba68;\n",
       "        }    #T_ce6e7d77_2a24_11e8_b717_e4a471caa8c3row4_col2 {\n",
       "            background-color:  #bae7ba;\n",
       "        }    #T_ce6e7d77_2a24_11e8_b717_e4a471caa8c3row4_col3 {\n",
       "            background-color:  #daf9da;\n",
       "        }    #T_ce6e7d77_2a24_11e8_b717_e4a471caa8c3row5_col0 {\n",
       "            background-color:  #008000;\n",
       "        }    #T_ce6e7d77_2a24_11e8_b717_e4a471caa8c3row5_col1 {\n",
       "            background-color:  #289628;\n",
       "        }    #T_ce6e7d77_2a24_11e8_b717_e4a471caa8c3row5_col2 {\n",
       "            background-color:  #008000;\n",
       "        }    #T_ce6e7d77_2a24_11e8_b717_e4a471caa8c3row5_col3 {\n",
       "            background-color:  #1f911f;\n",
       "        }    #T_ce6e7d77_2a24_11e8_b717_e4a471caa8c3row6_col0 {\n",
       "            background-color:  #85ca85;\n",
       "        }    #T_ce6e7d77_2a24_11e8_b717_e4a471caa8c3row6_col1 {\n",
       "            background-color:  #3da23d;\n",
       "        }    #T_ce6e7d77_2a24_11e8_b717_e4a471caa8c3row6_col2 {\n",
       "            background-color:  #66b866;\n",
       "        }    #T_ce6e7d77_2a24_11e8_b717_e4a471caa8c3row6_col3 {\n",
       "            background-color:  #74c074;\n",
       "        }    #T_ce6e7d77_2a24_11e8_b717_e4a471caa8c3row7_col0 {\n",
       "            background-color:  #99d599;\n",
       "        }    #T_ce6e7d77_2a24_11e8_b717_e4a471caa8c3row7_col1 {\n",
       "            background-color:  #e5ffe5;\n",
       "        }    #T_ce6e7d77_2a24_11e8_b717_e4a471caa8c3row7_col2 {\n",
       "            background-color:  #dffcdf;\n",
       "        }    #T_ce6e7d77_2a24_11e8_b717_e4a471caa8c3row7_col3 {\n",
       "            background-color:  #8bcd8b;\n",
       "        }    #T_ce6e7d77_2a24_11e8_b717_e4a471caa8c3row8_col0 {\n",
       "            background-color:  #359d35;\n",
       "        }    #T_ce6e7d77_2a24_11e8_b717_e4a471caa8c3row8_col1 {\n",
       "            background-color:  #b9e7b9;\n",
       "        }    #T_ce6e7d77_2a24_11e8_b717_e4a471caa8c3row8_col2 {\n",
       "            background-color:  #e5ffe5;\n",
       "        }    #T_ce6e7d77_2a24_11e8_b717_e4a471caa8c3row8_col3 {\n",
       "            background-color:  #e5ffe5;\n",
       "        }    #T_ce6e7d77_2a24_11e8_b717_e4a471caa8c3row9_col0 {\n",
       "            background-color:  #47a747;\n",
       "        }    #T_ce6e7d77_2a24_11e8_b717_e4a471caa8c3row9_col1 {\n",
       "            background-color:  #b6e5b6;\n",
       "        }    #T_ce6e7d77_2a24_11e8_b717_e4a471caa8c3row9_col2 {\n",
       "            background-color:  #dcfadc;\n",
       "        }    #T_ce6e7d77_2a24_11e8_b717_e4a471caa8c3row9_col3 {\n",
       "            background-color:  #e5ffe5;\n",
       "        }    #T_ce6e7d77_2a24_11e8_b717_e4a471caa8c3row10_col0 {\n",
       "            background-color:  #66b866;\n",
       "        }    #T_ce6e7d77_2a24_11e8_b717_e4a471caa8c3row10_col1 {\n",
       "            background-color:  #dcfadc;\n",
       "        }    #T_ce6e7d77_2a24_11e8_b717_e4a471caa8c3row10_col2 {\n",
       "            background-color:  #c0eac0;\n",
       "        }    #T_ce6e7d77_2a24_11e8_b717_e4a471caa8c3row10_col3 {\n",
       "            background-color:  #5fb55f;\n",
       "        }    #T_ce6e7d77_2a24_11e8_b717_e4a471caa8c3row11_col0 {\n",
       "            background-color:  #47a747;\n",
       "        }    #T_ce6e7d77_2a24_11e8_b717_e4a471caa8c3row11_col1 {\n",
       "            background-color:  #bae7ba;\n",
       "        }    #T_ce6e7d77_2a24_11e8_b717_e4a471caa8c3row11_col2 {\n",
       "            background-color:  #e0fce0;\n",
       "        }    #T_ce6e7d77_2a24_11e8_b717_e4a471caa8c3row11_col3 {\n",
       "            background-color:  #e5ffe5;\n",
       "        }    #T_ce6e7d77_2a24_11e8_b717_e4a471caa8c3row12_col0 {\n",
       "            background-color:  #4daa4d;\n",
       "        }    #T_ce6e7d77_2a24_11e8_b717_e4a471caa8c3row12_col1 {\n",
       "            background-color:  #a8dda8;\n",
       "        }    #T_ce6e7d77_2a24_11e8_b717_e4a471caa8c3row12_col2 {\n",
       "            background-color:  #59b159;\n",
       "        }    #T_ce6e7d77_2a24_11e8_b717_e4a471caa8c3row12_col3 {\n",
       "            background-color:  #64b764;\n",
       "        }    #T_ce6e7d77_2a24_11e8_b717_e4a471caa8c3row13_col0 {\n",
       "            background-color:  #e5ffe5;\n",
       "        }    #T_ce6e7d77_2a24_11e8_b717_e4a471caa8c3row13_col1 {\n",
       "            background-color:  #bfeabf;\n",
       "        }    #T_ce6e7d77_2a24_11e8_b717_e4a471caa8c3row13_col2 {\n",
       "            background-color:  #b6e5b6;\n",
       "        }    #T_ce6e7d77_2a24_11e8_b717_e4a471caa8c3row13_col3 {\n",
       "            background-color:  #9ed89e;\n",
       "        }</style>  \n",
       "<table id=\"T_ce6e7d77_2a24_11e8_b717_e4a471caa8c3\" > \n",
       "<thead>    <tr> \n",
       "        <th class=\"blank\" ></th> \n",
       "        <th class=\"blank level0\" ></th> \n",
       "        <th class=\"col_heading level0 col0\" >CRDataset</th> \n",
       "        <th class=\"col_heading level0 col1\" >MPQADataset</th> \n",
       "        <th class=\"col_heading level0 col2\" >MRDataset</th> \n",
       "        <th class=\"col_heading level0 col3\" >SUBJDataset</th> \n",
       "    </tr></thead> \n",
       "<tbody>    <tr> \n",
       "        <th id=\"T_ce6e7d77_2a24_11e8_b717_e4a471caa8c3level0_row0\" class=\"row_heading level0 row0\" >logistic__None</th> \n",
       "        <th id=\"T_ce6e7d77_2a24_11e8_b717_e4a471caa8c3level1_row0\" class=\"row_heading level1 row0\" >test</th> \n",
       "        <td id=\"T_ce6e7d77_2a24_11e8_b717_e4a471caa8c3row0_col0\" class=\"data row0 col0\" >0.793651</td> \n",
       "        <td id=\"T_ce6e7d77_2a24_11e8_b717_e4a471caa8c3row0_col1\" class=\"data row0 col1\" >0.832234</td> \n",
       "        <td id=\"T_ce6e7d77_2a24_11e8_b717_e4a471caa8c3row0_col2\" class=\"data row0 col2\" >0.776945</td> \n",
       "        <td id=\"T_ce6e7d77_2a24_11e8_b717_e4a471caa8c3row0_col3\" class=\"data row0 col3\" >0.919</td> \n",
       "    </tr>    <tr> \n",
       "        <th id=\"T_ce6e7d77_2a24_11e8_b717_e4a471caa8c3level0_row1\" class=\"row_heading level0 row1\" >logistic__tfchi2</th> \n",
       "        <th id=\"T_ce6e7d77_2a24_11e8_b717_e4a471caa8c3level1_row1\" class=\"row_heading level1 row1\" >test</th> \n",
       "        <td id=\"T_ce6e7d77_2a24_11e8_b717_e4a471caa8c3row1_col0\" class=\"data row1 col0\" >0.780423</td> \n",
       "        <td id=\"T_ce6e7d77_2a24_11e8_b717_e4a471caa8c3row1_col1\" class=\"data row1 col1\" >0.799246</td> \n",
       "        <td id=\"T_ce6e7d77_2a24_11e8_b717_e4a471caa8c3row1_col2\" class=\"data row1 col2\" >0.68791</td> \n",
       "        <td id=\"T_ce6e7d77_2a24_11e8_b717_e4a471caa8c3row1_col3\" class=\"data row1 col3\" >0.845</td> \n",
       "    </tr>    <tr> \n",
       "        <th id=\"T_ce6e7d77_2a24_11e8_b717_e4a471caa8c3level0_row2\" class=\"row_heading level0 row2\" >logistic__tfgr</th> \n",
       "        <th id=\"T_ce6e7d77_2a24_11e8_b717_e4a471caa8c3level1_row2\" class=\"row_heading level1 row2\" >test</th> \n",
       "        <td id=\"T_ce6e7d77_2a24_11e8_b717_e4a471caa8c3row2_col0\" class=\"data row2 col0\" >0.775132</td> \n",
       "        <td id=\"T_ce6e7d77_2a24_11e8_b717_e4a471caa8c3row2_col1\" class=\"data row2 col1\" >0.799246</td> \n",
       "        <td id=\"T_ce6e7d77_2a24_11e8_b717_e4a471caa8c3row2_col2\" class=\"data row2 col2\" >0.690722</td> \n",
       "        <td id=\"T_ce6e7d77_2a24_11e8_b717_e4a471caa8c3row2_col3\" class=\"data row2 col3\" >0.846</td> \n",
       "    </tr>    <tr> \n",
       "        <th id=\"T_ce6e7d77_2a24_11e8_b717_e4a471caa8c3level0_row3\" class=\"row_heading level0 row3\" >logistic__tfidf</th> \n",
       "        <th id=\"T_ce6e7d77_2a24_11e8_b717_e4a471caa8c3level1_row3\" class=\"row_heading level1 row3\" >test</th> \n",
       "        <td id=\"T_ce6e7d77_2a24_11e8_b717_e4a471caa8c3row3_col0\" class=\"data row3 col0\" >0.772487</td> \n",
       "        <td id=\"T_ce6e7d77_2a24_11e8_b717_e4a471caa8c3row3_col1\" class=\"data row3 col1\" >0.847314</td> \n",
       "        <td id=\"T_ce6e7d77_2a24_11e8_b717_e4a471caa8c3row3_col2\" class=\"data row3 col2\" >0.754452</td> \n",
       "        <td id=\"T_ce6e7d77_2a24_11e8_b717_e4a471caa8c3row3_col3\" class=\"data row3 col3\" >0.921</td> \n",
       "    </tr>    <tr> \n",
       "        <th id=\"T_ce6e7d77_2a24_11e8_b717_e4a471caa8c3level0_row4\" class=\"row_heading level0 row4\" >logistic__tfig</th> \n",
       "        <th id=\"T_ce6e7d77_2a24_11e8_b717_e4a471caa8c3level1_row4\" class=\"row_heading level1 row4\" >test</th> \n",
       "        <td id=\"T_ce6e7d77_2a24_11e8_b717_e4a471caa8c3row4_col0\" class=\"data row4 col0\" >0.775132</td> \n",
       "        <td id=\"T_ce6e7d77_2a24_11e8_b717_e4a471caa8c3row4_col1\" class=\"data row4 col1\" >0.799246</td> \n",
       "        <td id=\"T_ce6e7d77_2a24_11e8_b717_e4a471caa8c3row4_col2\" class=\"data row4 col2\" >0.690722</td> \n",
       "        <td id=\"T_ce6e7d77_2a24_11e8_b717_e4a471caa8c3row4_col3\" class=\"data row4 col3\" >0.846</td> \n",
       "    </tr>    <tr> \n",
       "        <th id=\"T_ce6e7d77_2a24_11e8_b717_e4a471caa8c3level0_row5\" class=\"row_heading level0 row5\" >logistic__tfor</th> \n",
       "        <th id=\"T_ce6e7d77_2a24_11e8_b717_e4a471caa8c3level1_row5\" class=\"row_heading level1 row5\" >test</th> \n",
       "        <td id=\"T_ce6e7d77_2a24_11e8_b717_e4a471caa8c3row5_col0\" class=\"data row5 col0\" >0.796296</td> \n",
       "        <td id=\"T_ce6e7d77_2a24_11e8_b717_e4a471caa8c3row5_col1\" class=\"data row5 col1\" >0.828464</td> \n",
       "        <td id=\"T_ce6e7d77_2a24_11e8_b717_e4a471caa8c3row5_col2\" class=\"data row5 col2\" >0.79194</td> \n",
       "        <td id=\"T_ce6e7d77_2a24_11e8_b717_e4a471caa8c3row5_col3\" class=\"data row5 col3\" >0.91</td> \n",
       "    </tr>    <tr> \n",
       "        <th id=\"T_ce6e7d77_2a24_11e8_b717_e4a471caa8c3level0_row6\" class=\"row_heading level0 row6\" >logistic__tfrf</th> \n",
       "        <th id=\"T_ce6e7d77_2a24_11e8_b717_e4a471caa8c3level1_row6\" class=\"row_heading level1 row6\" >test</th> \n",
       "        <td id=\"T_ce6e7d77_2a24_11e8_b717_e4a471caa8c3row6_col0\" class=\"data row6 col0\" >0.756614</td> \n",
       "        <td id=\"T_ce6e7d77_2a24_11e8_b717_e4a471caa8c3row6_col1\" class=\"data row6 col1\" >0.819039</td> \n",
       "        <td id=\"T_ce6e7d77_2a24_11e8_b717_e4a471caa8c3row6_col2\" class=\"data row6 col2\" >0.736645</td> \n",
       "        <td id=\"T_ce6e7d77_2a24_11e8_b717_e4a471caa8c3row6_col3\" class=\"data row6 col3\" >0.881</td> \n",
       "    </tr>    <tr> \n",
       "        <th id=\"T_ce6e7d77_2a24_11e8_b717_e4a471caa8c3level0_row7\" class=\"row_heading level0 row7\" >logistic_lsa_None</th> \n",
       "        <th id=\"T_ce6e7d77_2a24_11e8_b717_e4a471caa8c3level1_row7\" class=\"row_heading level1 row7\" >test</th> \n",
       "        <td id=\"T_ce6e7d77_2a24_11e8_b717_e4a471caa8c3row7_col0\" class=\"data row7 col0\" >0.750794</td> \n",
       "        <td id=\"T_ce6e7d77_2a24_11e8_b717_e4a471caa8c3row7_col1\" class=\"data row7 col1\" >0.741753</td> \n",
       "        <td id=\"T_ce6e7d77_2a24_11e8_b717_e4a471caa8c3row7_col2\" class=\"data row7 col2\" >0.670853</td> \n",
       "        <td id=\"T_ce6e7d77_2a24_11e8_b717_e4a471caa8c3row7_col3\" class=\"data row7 col3\" >0.8728</td> \n",
       "    </tr>    <tr> \n",
       "        <th id=\"T_ce6e7d77_2a24_11e8_b717_e4a471caa8c3level0_row8\" class=\"row_heading level0 row8\" >logistic_lsa_tfchi2</th> \n",
       "        <th id=\"T_ce6e7d77_2a24_11e8_b717_e4a471caa8c3level1_row8\" class=\"row_heading level1 row8\" >test</th> \n",
       "        <td id=\"T_ce6e7d77_2a24_11e8_b717_e4a471caa8c3row8_col0\" class=\"data row8 col0\" >0.780423</td> \n",
       "        <td id=\"T_ce6e7d77_2a24_11e8_b717_e4a471caa8c3row8_col1\" class=\"data row8 col1\" >0.7623</td> \n",
       "        <td id=\"T_ce6e7d77_2a24_11e8_b717_e4a471caa8c3row8_col2\" class=\"data row8 col2\" >0.667291</td> \n",
       "        <td id=\"T_ce6e7d77_2a24_11e8_b717_e4a471caa8c3row8_col3\" class=\"data row8 col3\" >0.8418</td> \n",
       "    </tr>    <tr> \n",
       "        <th id=\"T_ce6e7d77_2a24_11e8_b717_e4a471caa8c3level0_row9\" class=\"row_heading level0 row9\" >logistic_lsa_tfgr</th> \n",
       "        <th id=\"T_ce6e7d77_2a24_11e8_b717_e4a471caa8c3level1_row9\" class=\"row_heading level1 row9\" >test</th> \n",
       "        <td id=\"T_ce6e7d77_2a24_11e8_b717_e4a471caa8c3row9_col0\" class=\"data row9 col0\" >0.775132</td> \n",
       "        <td id=\"T_ce6e7d77_2a24_11e8_b717_e4a471caa8c3row9_col1\" class=\"data row9 col1\" >0.763996</td> \n",
       "        <td id=\"T_ce6e7d77_2a24_11e8_b717_e4a471caa8c3row9_col2\" class=\"data row9 col2\" >0.672165</td> \n",
       "        <td id=\"T_ce6e7d77_2a24_11e8_b717_e4a471caa8c3row9_col3\" class=\"data row9 col3\" >0.842</td> \n",
       "    </tr>    <tr> \n",
       "        <th id=\"T_ce6e7d77_2a24_11e8_b717_e4a471caa8c3level0_row10\" class=\"row_heading level0 row10\" >logistic_lsa_tfidf</th> \n",
       "        <th id=\"T_ce6e7d77_2a24_11e8_b717_e4a471caa8c3level1_row10\" class=\"row_heading level1 row10\" >test</th> \n",
       "        <td id=\"T_ce6e7d77_2a24_11e8_b717_e4a471caa8c3row10_col0\" class=\"data row10 col0\" >0.766138</td> \n",
       "        <td id=\"T_ce6e7d77_2a24_11e8_b717_e4a471caa8c3row10_col1\" class=\"data row10 col1\" >0.746089</td> \n",
       "        <td id=\"T_ce6e7d77_2a24_11e8_b717_e4a471caa8c3row10_col2\" class=\"data row10 col2\" >0.68791</td> \n",
       "        <td id=\"T_ce6e7d77_2a24_11e8_b717_e4a471caa8c3row10_col3\" class=\"data row10 col3\" >0.888</td> \n",
       "    </tr>    <tr> \n",
       "        <th id=\"T_ce6e7d77_2a24_11e8_b717_e4a471caa8c3level0_row11\" class=\"row_heading level0 row11\" >logistic_lsa_tfig</th> \n",
       "        <th id=\"T_ce6e7d77_2a24_11e8_b717_e4a471caa8c3level1_row11\" class=\"row_heading level1 row11\" >test</th> \n",
       "        <td id=\"T_ce6e7d77_2a24_11e8_b717_e4a471caa8c3row11_col0\" class=\"data row11 col0\" >0.775132</td> \n",
       "        <td id=\"T_ce6e7d77_2a24_11e8_b717_e4a471caa8c3row11_col1\" class=\"data row11 col1\" >0.761923</td> \n",
       "        <td id=\"T_ce6e7d77_2a24_11e8_b717_e4a471caa8c3row11_col2\" class=\"data row11 col2\" >0.670291</td> \n",
       "        <td id=\"T_ce6e7d77_2a24_11e8_b717_e4a471caa8c3row11_col3\" class=\"data row11 col3\" >0.842</td> \n",
       "    </tr>    <tr> \n",
       "        <th id=\"T_ce6e7d77_2a24_11e8_b717_e4a471caa8c3level0_row12\" class=\"row_heading level0 row12\" >logistic_lsa_tfor</th> \n",
       "        <th id=\"T_ce6e7d77_2a24_11e8_b717_e4a471caa8c3level1_row12\" class=\"row_heading level1 row12\" >test</th> \n",
       "        <td id=\"T_ce6e7d77_2a24_11e8_b717_e4a471caa8c3row12_col0\" class=\"data row12 col0\" >0.773545</td> \n",
       "        <td id=\"T_ce6e7d77_2a24_11e8_b717_e4a471caa8c3row12_col1\" class=\"data row12 col1\" >0.770028</td> \n",
       "        <td id=\"T_ce6e7d77_2a24_11e8_b717_e4a471caa8c3row12_col2\" class=\"data row12 col2\" >0.74358</td> \n",
       "        <td id=\"T_ce6e7d77_2a24_11e8_b717_e4a471caa8c3row12_col3\" class=\"data row12 col3\" >0.8866</td> \n",
       "    </tr>    <tr> \n",
       "        <th id=\"T_ce6e7d77_2a24_11e8_b717_e4a471caa8c3level0_row13\" class=\"row_heading level0 row13\" >logistic_lsa_tfrf</th> \n",
       "        <th id=\"T_ce6e7d77_2a24_11e8_b717_e4a471caa8c3level1_row13\" class=\"row_heading level1 row13\" >test</th> \n",
       "        <td id=\"T_ce6e7d77_2a24_11e8_b717_e4a471caa8c3row13_col0\" class=\"data row13 col0\" >0.728042</td> \n",
       "        <td id=\"T_ce6e7d77_2a24_11e8_b717_e4a471caa8c3row13_col1\" class=\"data row13 col1\" >0.759849</td> \n",
       "        <td id=\"T_ce6e7d77_2a24_11e8_b717_e4a471caa8c3row13_col2\" class=\"data row13 col2\" >0.693346</td> \n",
       "        <td id=\"T_ce6e7d77_2a24_11e8_b717_e4a471caa8c3row13_col3\" class=\"data row13 col3\" >0.8664</td> \n",
       "    </tr></tbody> \n",
       "</table> "
      ],
      "text/plain": [
       "<pandas.io.formats.style.Styler at 0x7fa949499780>"
      ]
     },
     "execution_count": 116,
     "metadata": {},
     "output_type": "execute_result"
    }
   ],
   "source": [
    "cm = sns.light_palette(\"green\", as_cmap=True)\n",
    "df_results = pd.DataFrame(results).loc['simple']\n",
    "interesting = [x for x in df_results.index.levels[0] if 'constant' not in x and 'mylog' not in x]\n",
    "\n",
    "df_results.loc[(interesting, 'test'),:].style.background_gradient(cmap=cm)"
   ]
  },
  {
   "cell_type": "code",
   "execution_count": null,
   "metadata": {},
   "outputs": [],
   "source": []
  }
 ],
 "metadata": {
  "kernelspec": {
   "display_name": "diplomka",
   "language": "python",
   "name": "diplomka"
  },
  "language_info": {
   "codemirror_mode": {
    "name": "ipython",
    "version": 3
   },
   "file_extension": ".py",
   "mimetype": "text/x-python",
   "name": "python",
   "nbconvert_exporter": "python",
   "pygments_lexer": "ipython3",
   "version": "3.5.2"
  }
 },
 "nbformat": 4,
 "nbformat_minor": 2
}
