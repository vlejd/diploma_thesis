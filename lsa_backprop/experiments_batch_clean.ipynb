{
 "cells": [
  {
   "cell_type": "code",
   "execution_count": 8,
   "metadata": {},
   "outputs": [
    {
     "name": "stdout",
     "output_type": "stream",
     "text": [
      "The autoreload extension is already loaded. To reload it, use:\n",
      "  %reload_ext autoreload\n"
     ]
    }
   ],
   "source": [
    "%load_ext autoreload\n",
    "%autoreload 2\n",
    "%matplotlib inline\n",
    "\n",
    "import dill\n",
    "from IPython.core import display as ICD  # to print multiple nice pandas tables\n",
    "import json\n",
    "import logging\n",
    "import matplotlib.pyplot as plt\n",
    "import numpy as np\n",
    "import pandas as pd\n",
    "import pickle\n",
    "import seaborn as sns\n",
    "import tqdm\n",
    "from tqdm import tqdm_notebook, tnrange\n",
    "sns.set()\n",
    "import os"
   ]
  },
  {
   "cell_type": "code",
   "execution_count": 9,
   "metadata": {},
   "outputs": [],
   "source": [
    "import datasets\n",
    "import classify\n",
    "from simple_model import SimpleModel\n",
    "import glob\n",
    "from testing import test_simple_model"
   ]
  },
  {
   "cell_type": "code",
   "execution_count": 10,
   "metadata": {},
   "outputs": [],
   "source": [
    "from multiprocessing import Pool"
   ]
  },
  {
   "cell_type": "code",
   "execution_count": 11,
   "metadata": {},
   "outputs": [],
   "source": [
    "from collections import defaultdict\n",
    "results = defaultdict(dict)\n",
    "dump = defaultdict(dict)"
   ]
  },
  {
   "cell_type": "code",
   "execution_count": 12,
   "metadata": {},
   "outputs": [],
   "source": [
    "from experimentsbatch import args2tag"
   ]
  },
  {
   "cell_type": "code",
   "execution_count": 13,
   "metadata": {},
   "outputs": [],
   "source": [
    "from experimentsbatch import main as m"
   ]
  },
  {
   "cell_type": "code",
   "execution_count": 14,
   "metadata": {
    "scrolled": true
   },
   "outputs": [
    {
     "name": "stdout",
     "output_type": "stream",
     "text": [
      "165\n",
      "skipping dumps_new/batch_results_TRECDataset-HUM_None_0.001_200.pickle\n",
      "skipping dumps_new/batch_results_TRECDataset-ENTY_tfchi2_0.1_300.pickle\n",
      "skipping dumps_new/batch_results_TRECDataset-ENTY_tfchi2_0.1_400.pickle\n",
      "skipping dumps_new/batch_results_TRECDataset-LOC_tfchi2_0.01_400.pickle\n",
      "skipping dumps_new/batch_results_TRECDataset-ABBR_tfchi2_0.01_400.pickle\n",
      "skipping dumps_new/batch_results_SUBJDataset_tfchi2_0.001_200.pickle\n",
      "skipping dumps_new/batch_results_TRECDataset-HUM_tfchi2_0.001_300.pickle\n",
      "skipping dumps_new/batch_results_TRECDataset-LOC_tfchi2_0.001_400.pickle\n",
      "skipping dumps_new/batch_results_TRECDataset-DESC_tfig_0.1_200.pickle\n",
      "skipping dumps_new/batch_results_TRECDataset-NUM_tfig_0.1_200.pickle\n",
      "skipping dumps_new/batch_results_TRECDataset-HUM_tfig_0.1_200.pickle\n",
      "skipping dumps_new/batch_results_TRECDataset-ABBR_tfig_0.1_300.pickle\n",
      "skipping dumps_new/batch_results_TRECDataset-ENTY_tfig_0.1_300.pickle\n",
      "skipping dumps_new/batch_results_TRECDataset-NUM_tfig_0.1_400.pickle\n",
      "skipping dumps_new/batch_results_TRECDataset-ENTY_tfig_0.1_400.pickle\n",
      "skipping dumps_new/batch_results_SUBJDataset_tfig_0.01_200.pickle\n",
      "skipping dumps_new/batch_results_TRECDataset-LOC_tfig_0.01_200.pickle\n",
      "skipping dumps_new/batch_results_TRECDataset-ABBR_tfig_0.01_200.pickle\n",
      "skipping dumps_new/batch_results_TRECDataset-ENTY_tfig_0.01_300.pickle\n",
      "skipping dumps_new/batch_results_TRECDataset-DESC_tfig_0.01_400.pickle\n",
      "skipping dumps_new/batch_results_TRECDataset-LOC_tfig_0.01_400.pickle\n",
      "skipping dumps_new/batch_results_MRDataset_tfig_0.001_200.pickle\n",
      "skipping dumps_new/batch_results_TRECDataset-NUM_tfig_0.001_200.pickle\n",
      "skipping dumps_new/batch_results_TRECDataset-DESC_tfig_0.001_300.pickle\n",
      "skipping dumps_new/batch_results_TRECDataset-NUM_tfig_0.001_300.pickle\n",
      "skipping dumps_new/batch_results_TRECDataset-HUM_tfig_0.001_300.pickle\n",
      "skipping dumps_new/batch_results_SUBJDataset_tfig_0.001_400.pickle\n",
      "skipping dumps_new/batch_results_MRDataset_tfgr_0.1_200.pickle\n",
      "skipping dumps_new/batch_results_TRECDataset-LOC_tfgr_0.1_200.pickle\n",
      "skipping dumps_new/batch_results_TRECDataset-ABBR_tfgr_0.1_200.pickle\n",
      "skipping dumps_new/batch_results_TRECDataset-NUM_tfgr_0.1_200.pickle\n",
      "skipping dumps_new/batch_results_TRECDataset-LOC_tfgr_0.1_300.pickle\n",
      "skipping dumps_new/batch_results_TRECDataset-ABBR_tfgr_0.1_300.pickle\n",
      "skipping dumps_new/batch_results_TRECDataset-ENTY_tfgr_0.1_300.pickle\n",
      "skipping dumps_new/batch_results_TRECDataset-HUM_tfgr_0.1_300.pickle\n",
      "skipping dumps_new/batch_results_MPQADataset_tfgr_0.1_400.pickle\n",
      "skipping dumps_new/batch_results_TRECDataset-DESC_tfgr_0.1_400.pickle\n",
      "skipping dumps_new/batch_results_TRECDataset-ENTY_tfgr_0.1_400.pickle\n",
      "skipping dumps_new/batch_results_SUBJDataset_tfgr_0.01_200.pickle\n",
      "skipping dumps_new/batch_results_MPQADataset_tfgr_0.01_200.pickle\n",
      "skipping dumps_new/batch_results_TRECDataset-LOC_tfgr_0.01_200.pickle\n",
      "skipping dumps_new/batch_results_TRECDataset-NUM_tfgr_0.01_200.pickle\n",
      "skipping dumps_new/batch_results_TRECDataset-ENTY_tfgr_0.01_200.pickle\n",
      "skipping dumps_new/batch_results_TRECDataset-HUM_tfgr_0.01_200.pickle\n",
      "skipping dumps_new/batch_results_TRECDataset-ABBR_tfgr_0.01_300.pickle\n",
      "skipping dumps_new/batch_results_MPQADataset_tfgr_0.01_400.pickle\n",
      "skipping dumps_new/batch_results_TRECDataset-LOC_tfgr_0.01_400.pickle\n",
      "skipping dumps_new/batch_results_TRECDataset-ABBR_tfgr_0.01_400.pickle\n",
      "skipping dumps_new/batch_results_TRECDataset-NUM_tfgr_0.01_400.pickle\n",
      "skipping dumps_new/batch_results_TRECDataset-ENTY_tfgr_0.01_400.pickle\n",
      "skipping dumps_new/batch_results_TRECDataset-HUM_tfgr_0.01_400.pickle\n",
      "skipping dumps_new/batch_results_MRDataset_tfgr_0.001_200.pickle\n",
      "skipping dumps_new/batch_results_TRECDataset-ABBR_tfgr_0.001_200.pickle\n",
      "skipping dumps_new/batch_results_TRECDataset-ENTY_tfgr_0.001_200.pickle\n",
      "skipping dumps_new/batch_results_SUBJDataset_tfgr_0.001_300.pickle\n",
      "skipping dumps_new/batch_results_TRECDataset-DESC_tfgr_0.001_300.pickle\n",
      "skipping dumps_new/batch_results_TRECDataset-ABBR_tfgr_0.001_300.pickle\n",
      "skipping dumps_new/batch_results_TRECDataset-ENTY_tfgr_0.001_300.pickle\n",
      "skipping dumps_new/batch_results_TRECDataset-HUM_tfgr_0.001_300.pickle\n",
      "skipping dumps_new/batch_results_MPQADataset_tfgr_0.001_400.pickle\n",
      "skipping dumps_new/batch_results_TRECDataset-DESC_tfgr_0.001_400.pickle\n",
      "skipping dumps_new/batch_results_TRECDataset-LOC_tfgr_0.001_400.pickle\n",
      "skipping dumps_new/batch_results_TRECDataset-HUM_tfgr_0.001_400.pickle\n",
      "skipping dumps_new/batch_results_MRDataset_tfor_0.1_200.pickle\n",
      "skipping dumps_new/batch_results_TRECDataset-NUM_tfor_0.1_200.pickle\n",
      "skipping dumps_new/batch_results_TRECDataset-HUM_tfor_0.1_200.pickle\n",
      "skipping dumps_new/batch_results_MRDataset_tfor_0.1_300.pickle\n",
      "skipping dumps_new/batch_results_SUBJDataset_tfor_0.1_300.pickle\n",
      "skipping dumps_new/batch_results_MPQADataset_tfor_0.1_300.pickle\n",
      "skipping dumps_new/batch_results_TRECDataset-LOC_tfor_0.1_300.pickle\n",
      "skipping dumps_new/batch_results_TRECDataset-ABBR_tfor_0.1_300.pickle\n",
      "skipping dumps_new/batch_results_TRECDataset-ENTY_tfor_0.1_300.pickle\n",
      "skipping dumps_new/batch_results_MRDataset_tfor_0.1_400.pickle\n",
      "skipping dumps_new/batch_results_TRECDataset-DESC_tfor_0.1_400.pickle\n",
      "skipping dumps_new/batch_results_TRECDataset-LOC_tfor_0.1_400.pickle\n",
      "skipping dumps_new/batch_results_TRECDataset-ABBR_tfor_0.1_400.pickle\n",
      "skipping dumps_new/batch_results_TRECDataset-ENTY_tfor_0.1_400.pickle\n",
      "skipping dumps_new/batch_results_MRDataset_tfor_0.01_200.pickle\n",
      "skipping dumps_new/batch_results_MPQADataset_tfor_0.01_200.pickle\n",
      "skipping dumps_new/batch_results_TRECDataset-LOC_tfor_0.01_200.pickle\n",
      "skipping dumps_new/batch_results_TRECDataset-NUM_tfor_0.01_200.pickle\n",
      "skipping dumps_new/batch_results_TRECDataset-ENTY_tfor_0.01_200.pickle\n",
      "skipping dumps_new/batch_results_TRECDataset-HUM_tfor_0.01_200.pickle\n",
      "skipping dumps_new/batch_results_MPQADataset_tfor_0.01_300.pickle\n",
      "skipping dumps_new/batch_results_TRECDataset-DESC_tfor_0.01_300.pickle\n",
      "skipping dumps_new/batch_results_TRECDataset-LOC_tfor_0.01_300.pickle\n",
      "skipping dumps_new/batch_results_TRECDataset-ENTY_tfor_0.01_300.pickle\n",
      "skipping dumps_new/batch_results_TRECDataset-HUM_tfor_0.01_300.pickle\n",
      "skipping dumps_new/batch_results_TRECDataset-DESC_tfor_0.01_400.pickle\n",
      "skipping dumps_new/batch_results_TRECDataset-LOC_tfor_0.01_400.pickle\n",
      "skipping dumps_new/batch_results_TRECDataset-ABBR_tfor_0.01_400.pickle\n",
      "skipping dumps_new/batch_results_TRECDataset-NUM_tfor_0.01_400.pickle\n",
      "skipping dumps_new/batch_results_TRECDataset-HUM_tfor_0.01_400.pickle\n",
      "skipping dumps_new/batch_results_MRDataset_tfor_0.001_200.pickle\n",
      "skipping dumps_new/batch_results_TRECDataset-LOC_tfor_0.001_200.pickle\n",
      "skipping dumps_new/batch_results_TRECDataset-ABBR_tfor_0.001_200.pickle\n",
      "skipping dumps_new/batch_results_TRECDataset-NUM_tfor_0.001_200.pickle\n",
      "skipping dumps_new/batch_results_MRDataset_tfor_0.001_300.pickle\n",
      "skipping dumps_new/batch_results_SUBJDataset_tfor_0.001_300.pickle\n",
      "skipping dumps_new/batch_results_TRECDataset-DESC_tfor_0.001_300.pickle\n",
      "skipping dumps_new/batch_results_TRECDataset-NUM_tfor_0.001_300.pickle\n",
      "skipping dumps_new/batch_results_TRECDataset-HUM_tfor_0.001_300.pickle\n",
      "skipping dumps_new/batch_results_MRDataset_tfor_0.001_400.pickle\n",
      "skipping dumps_new/batch_results_SUBJDataset_tfor_0.001_400.pickle\n",
      "skipping dumps_new/batch_results_MPQADataset_tfor_0.001_400.pickle\n",
      "skipping dumps_new/batch_results_TRECDataset-DESC_tfor_0.001_400.pickle\n",
      "skipping dumps_new/batch_results_TRECDataset-LOC_tfor_0.001_400.pickle\n",
      "skipping dumps_new/batch_results_TRECDataset-ABBR_tfor_0.001_400.pickle\n",
      "skipping dumps_new/batch_results_MRDataset_tfrf_0.1_200.pickle\n",
      "skipping dumps_new/batch_results_TRECDataset-DESC_tfrf_0.1_200.pickle\n",
      "skipping dumps_new/batch_results_TRECDataset-ABBR_tfrf_0.1_200.pickle\n",
      "skipping dumps_new/batch_results_TRECDataset-NUM_tfrf_0.1_200.pickle\n",
      "skipping dumps_new/batch_results_TRECDataset-ENTY_tfrf_0.1_200.pickle\n",
      "skipping dumps_new/batch_results_MRDataset_tfrf_0.1_300.pickle\n",
      "skipping dumps_new/batch_results_MPQADataset_tfrf_0.1_300.pickle\n",
      "skipping dumps_new/batch_results_TRECDataset-NUM_tfrf_0.1_300.pickle\n",
      "skipping dumps_new/batch_results_TRECDataset-ENTY_tfrf_0.1_300.pickle\n",
      "skipping dumps_new/batch_results_MRDataset_tfrf_0.1_400.pickle\n",
      "skipping dumps_new/batch_results_SUBJDataset_tfrf_0.1_400.pickle\n",
      "skipping dumps_new/batch_results_MPQADataset_tfrf_0.1_400.pickle\n",
      "skipping dumps_new/batch_results_TRECDataset-DESC_tfrf_0.1_400.pickle\n",
      "skipping dumps_new/batch_results_TRECDataset-ENTY_tfrf_0.1_400.pickle\n",
      "skipping dumps_new/batch_results_TRECDataset-HUM_tfrf_0.1_400.pickle\n",
      "skipping dumps_new/batch_results_MRDataset_tfrf_0.01_200.pickle\n",
      "skipping dumps_new/batch_results_MPQADataset_tfrf_0.01_200.pickle\n",
      "skipping dumps_new/batch_results_TRECDataset-DESC_tfrf_0.01_200.pickle\n",
      "skipping dumps_new/batch_results_TRECDataset-ABBR_tfrf_0.01_200.pickle\n",
      "skipping dumps_new/batch_results_TRECDataset-NUM_tfrf_0.01_200.pickle\n",
      "skipping dumps_new/batch_results_TRECDataset-HUM_tfrf_0.01_200.pickle\n",
      "skipping dumps_new/batch_results_MRDataset_tfrf_0.01_300.pickle\n",
      "skipping dumps_new/batch_results_SUBJDataset_tfrf_0.01_300.pickle\n",
      "skipping dumps_new/batch_results_MPQADataset_tfrf_0.01_300.pickle\n",
      "skipping dumps_new/batch_results_TRECDataset-ABBR_tfrf_0.01_300.pickle\n",
      "skipping dumps_new/batch_results_TRECDataset-NUM_tfrf_0.01_300.pickle\n",
      "skipping dumps_new/batch_results_TRECDataset-HUM_tfrf_0.01_300.pickle\n",
      "skipping dumps_new/batch_results_MRDataset_tfrf_0.01_400.pickle\n",
      "skipping dumps_new/batch_results_SUBJDataset_tfrf_0.01_400.pickle\n",
      "skipping dumps_new/batch_results_MPQADataset_tfrf_0.01_400.pickle\n",
      "skipping dumps_new/batch_results_TRECDataset-DESC_tfrf_0.01_400.pickle\n",
      "skipping dumps_new/batch_results_TRECDataset-LOC_tfrf_0.01_400.pickle\n",
      "skipping dumps_new/batch_results_TRECDataset-NUM_tfrf_0.01_400.pickle\n",
      "skipping dumps_new/batch_results_TRECDataset-ENTY_tfrf_0.01_400.pickle\n",
      "skipping dumps_new/batch_results_TRECDataset-HUM_tfrf_0.01_400.pickle\n",
      "skipping dumps_new/batch_results_MRDataset_tfrf_0.001_200.pickle\n",
      "skipping dumps_new/batch_results_MPQADataset_tfrf_0.001_200.pickle\n",
      "skipping dumps_new/batch_results_TRECDataset-DESC_tfrf_0.001_200.pickle\n",
      "skipping dumps_new/batch_results_TRECDataset-LOC_tfrf_0.001_200.pickle\n",
      "skipping dumps_new/batch_results_TRECDataset-ABBR_tfrf_0.001_200.pickle\n",
      "skipping dumps_new/batch_results_TRECDataset-ENTY_tfrf_0.001_200.pickle\n",
      "skipping dumps_new/batch_results_TRECDataset-HUM_tfrf_0.001_200.pickle\n",
      "skipping dumps_new/batch_results_MRDataset_tfrf_0.001_300.pickle\n",
      "skipping dumps_new/batch_results_TRECDataset-DESC_tfrf_0.001_300.pickle\n",
      "skipping dumps_new/batch_results_TRECDataset-LOC_tfrf_0.001_300.pickle\n",
      "skipping dumps_new/batch_results_TRECDataset-ABBR_tfrf_0.001_300.pickle\n",
      "skipping dumps_new/batch_results_TRECDataset-NUM_tfrf_0.001_300.pickle\n",
      "skipping dumps_new/batch_results_TRECDataset-ENTY_tfrf_0.001_300.pickle\n",
      "skipping dumps_new/batch_results_TRECDataset-HUM_tfrf_0.001_300.pickle\n",
      "skipping dumps_new/batch_results_MRDataset_tfrf_0.001_400.pickle\n",
      "skipping dumps_new/batch_results_SUBJDataset_tfrf_0.001_400.pickle\n",
      "skipping dumps_new/batch_results_MPQADataset_tfrf_0.001_400.pickle\n",
      "skipping dumps_new/batch_results_TRECDataset-DESC_tfrf_0.001_400.pickle\n",
      "skipping dumps_new/batch_results_TRECDataset-LOC_tfrf_0.001_400.pickle\n",
      "skipping dumps_new/batch_results_TRECDataset-ABBR_tfrf_0.001_400.pickle\n",
      "skipping dumps_new/batch_results_TRECDataset-NUM_tfrf_0.001_400.pickle\n",
      "skipping dumps_new/batch_results_TRECDataset-ENTY_tfrf_0.001_400.pickle\n"
     ]
    }
   ],
   "source": [
    "m(offset=0, sharding=1, threads=1)"
   ]
  },
  {
   "cell_type": "code",
   "execution_count": 15,
   "metadata": {},
   "outputs": [],
   "source": [
    "result_file_pattern = 'dumps_new/batch_results_{}.pickle'\n",
    "done = glob.glob(result_file_pattern.format('*'))"
   ]
  },
  {
   "cell_type": "code",
   "execution_count": 16,
   "metadata": {},
   "outputs": [
    {
     "data": {
      "text/plain": [
       "630"
      ]
     },
     "execution_count": 16,
     "metadata": {},
     "output_type": "execute_result"
    }
   ],
   "source": [
    "len(done)"
   ]
  },
  {
   "cell_type": "code",
   "execution_count": 17,
   "metadata": {},
   "outputs": [],
   "source": [
    "json.dump(done, open('done.json','w'))"
   ]
  },
  {
   "cell_type": "code",
   "execution_count": 18,
   "metadata": {},
   "outputs": [
    {
     "data": {
      "text/plain": [
       "630"
      ]
     },
     "execution_count": 18,
     "metadata": {},
     "output_type": "execute_result"
    }
   ],
   "source": [
    "len(json.load(open('done.json')))"
   ]
  },
  {
   "cell_type": "code",
   "execution_count": 69,
   "metadata": {},
   "outputs": [],
   "source": [
    "args = []\n",
    "for scheme in SimpleModel.SCHEMES:\n",
    "    for alpha in [0.1, 0.01, 0.001]:\n",
    "        for dims in [200, 300, 400]:\n",
    "            for dataset in datasets.ALL_DATASETS+ datasets.TREC_DATASETS:\n",
    "                arg = (dataset, scheme, alpha, dims)\n",
    "                if result_file_pattern.format(args2tag(arg)) not in done:\n",
    "                    args.append(arg)"
   ]
  },
  {
   "cell_type": "code",
   "execution_count": 73,
   "metadata": {},
   "outputs": [
    {
     "data": {
      "text/plain": [
       "165"
      ]
     },
     "execution_count": 73,
     "metadata": {},
     "output_type": "execute_result"
    }
   ],
   "source": [
    "len(args)"
   ]
  },
  {
   "cell_type": "code",
   "execution_count": null,
   "metadata": {},
   "outputs": [],
   "source": []
  }
 ],
 "metadata": {
  "kernelspec": {
   "display_name": "diplomka",
   "language": "python",
   "name": "diplomka"
  },
  "language_info": {
   "codemirror_mode": {
    "name": "ipython",
    "version": 3
   },
   "file_extension": ".py",
   "mimetype": "text/x-python",
   "name": "python",
   "nbconvert_exporter": "python",
   "pygments_lexer": "ipython3",
   "version": "3.5.2"
  }
 },
 "nbformat": 4,
 "nbformat_minor": 2
}
