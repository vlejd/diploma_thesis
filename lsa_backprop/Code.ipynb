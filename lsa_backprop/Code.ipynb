{
 "cells": [
  {
   "cell_type": "code",
   "execution_count": 1,
   "metadata": {},
   "outputs": [],
   "source": [
    "%load_ext autoreload\n",
    "%autoreload 2"
   ]
  },
  {
   "cell_type": "code",
   "execution_count": 2,
   "metadata": {},
   "outputs": [],
   "source": [
    "%matplotlib inline\n",
    "import matplotlib.pyplot as plt\n",
    "import os\n",
    "import datetime\n",
    "import json\n",
    "from pprint import pprint\n",
    "from IPython.core import display as ICD  # to print multiple nice pandas tables\n",
    "from collections import defaultdict\n",
    "import logging\n",
    "import numpy as np\n",
    "import io\n",
    "import gensim\n",
    "import tqdm"
   ]
  },
  {
   "cell_type": "code",
   "execution_count": 19,
   "metadata": {},
   "outputs": [],
   "source": [
    "import datasets\n",
    "import classify"
   ]
  },
  {
   "cell_type": "code",
   "execution_count": 20,
   "metadata": {},
   "outputs": [],
   "source": [
    "from sklearn.linear_model import LogisticRegression\n",
    "from gensim.models import TfidfModel\n",
    "class SimpleModel(object):\n",
    "    def __init__(self, cls = None, use_tfidf=False, w=None):\n",
    "        self.cls = cls\n",
    "        if self.cls is None:\n",
    "            self.cls = LogisticRegression()\n",
    "        self.use_tfidf = use_tfidf\n",
    "        self.w=None\n",
    "        \n",
    "\n",
    "    def fit(self, X, Y):\n",
    "        self.dictionary = gensim.corpora.Dictionary(X)\n",
    "        self.num_terms = len(self.dictionary.dfs)\n",
    "        bow = list(map(self.dictionary.doc2bow, X))\n",
    "        if self.use_tfidf:\n",
    "            self.tfidf_model = TfidfModel(bow)\n",
    "            bow = self.tfidf_model[bow]\n",
    "        if self.w is None:\n",
    "            self.w = np.ones(self.num_terms)\n",
    "        if True:\n",
    "            corpus = gensim.matutils.corpus2csc(bow)\n",
    "            corpus = corpus.multiply(self.w.reshape(-1,1))\n",
    "        self.lsi = gensim.models.LsiModel(bow, id2word=self.dictionary)\n",
    "        corpus = gensim.matutils.corpus2dense(self.lsi[bow], self.lsi.num_topics).T\n",
    "        self.cls.fit(corpus, Y)\n",
    "    \n",
    "    def backprob_w(self, X, Y):\n",
    "        pass\n",
    "    \n",
    "    def predict(self, X):\n",
    "        bow = list(map(self.dictionary.doc2bow, X))\n",
    "        if self.use_tfidf:\n",
    "            bow = self.tfidf_model[bow]\n",
    "        corpus = gensim.matutils.corpus2dense(self.lsi[bow], self.lsi.num_topics).T\n",
    "        Yhat = self.cls.predict(corpus)\n",
    "        return Yhat\n",
    "    \n",
    "    def score(self, X, Y):\n",
    "        Yhat = self.predict(X)\n",
    "        return 1-((Yhat-Y)**2).mean()\n",
    "    \n",
    "    def update(self, X, Y):\n",
    "        pass"
   ]
  },
  {
   "cell_type": "code",
   "execution_count": 6,
   "metadata": {},
   "outputs": [
    {
     "data": {
      "text/plain": [
       "0.6376158940397352"
      ]
     },
     "execution_count": 6,
     "metadata": {},
     "output_type": "execute_result"
    }
   ],
   "source": [
    "dataset = datasets.CRDataset()\n",
    "model = SimpleModel(Classifier())\n",
    "model.fit(dataset.samples, dataset.labels)\n",
    "model.score(dataset.samples, dataset.labels)"
   ]
  },
  {
   "cell_type": "code",
   "execution_count": 7,
   "metadata": {},
   "outputs": [],
   "source": [
    "def test_model(mode, dataset, tries=10):\n",
    "    results = []\n",
    "    for _ in tqdm.trange(tries):\n",
    "        model.fit(dataset.samples, dataset.labels)\n",
    "        results.append(model.score(dataset.samples, dataset.labels))\n",
    "    print(np.min(results), np.mean(results), np.max(results), np.std(results))"
   ]
  },
  {
   "cell_type": "code",
   "execution_count": 8,
   "metadata": {},
   "outputs": [
    {
     "name": "stderr",
     "output_type": "stream",
     "text": [
      "100%|██████████| 10/10 [00:21<00:00,  2.11s/it]"
     ]
    },
    {
     "name": "stdout",
     "output_type": "stream",
     "text": [
      "0.7875496688741722 0.7944370860927152 0.799205298013245 0.0038842061718185775\n"
     ]
    },
    {
     "name": "stderr",
     "output_type": "stream",
     "text": [
      "\n"
     ]
    }
   ],
   "source": [
    "dataset = datasets.CRDataset()\n",
    "model = SimpleModel(use_tfidf=True)\n",
    "test_model(model, dataset)"
   ]
  },
  {
   "cell_type": "code",
   "execution_count": 9,
   "metadata": {},
   "outputs": [
    {
     "name": "stderr",
     "output_type": "stream",
     "text": [
      "100%|██████████| 10/10 [00:19<00:00,  1.90s/it]"
     ]
    },
    {
     "name": "stdout",
     "output_type": "stream",
     "text": [
      "0.782251655629139 0.7866225165562913 0.7896688741721855 0.002686489775635024\n"
     ]
    },
    {
     "name": "stderr",
     "output_type": "stream",
     "text": [
      "\n"
     ]
    }
   ],
   "source": [
    "dataset = datasets.CRDataset()\n",
    "model = SimpleModel(use_tfidf=False)\n",
    "test_model(model, dataset)"
   ]
  },
  {
   "cell_type": "code",
   "execution_count": 10,
   "metadata": {},
   "outputs": [
    {
     "data": {
      "text/plain": [
       "0.7819867549668874"
      ]
     },
     "execution_count": 10,
     "metadata": {},
     "output_type": "execute_result"
    }
   ],
   "source": [
    "dataset = datasets.CRDataset()\n",
    "model = SimpleModel()\n",
    "model.fit(dataset.samples, dataset.labels)\n",
    "model.score(dataset.samples, dataset.labels)"
   ]
  },
  {
   "cell_type": "code",
   "execution_count": 11,
   "metadata": {},
   "outputs": [
    {
     "data": {
      "text/plain": [
       "0.7543843107674901"
      ]
     },
     "execution_count": 11,
     "metadata": {},
     "output_type": "execute_result"
    }
   ],
   "source": [
    "dataset = datasets.MPQADataset()\n",
    "model = SimpleModel()\n",
    "model.fit(dataset.samples, dataset.labels)\n",
    "model.score(dataset.samples, dataset.labels)"
   ]
  },
  {
   "cell_type": "code",
   "execution_count": 16,
   "metadata": {},
   "outputs": [
    {
     "data": {
      "text/plain": [
       "0.8861"
      ]
     },
     "execution_count": 16,
     "metadata": {},
     "output_type": "execute_result"
    }
   ],
   "source": [
    "dataset = datasets.SUBJDataset()\n",
    "model = SimpleModel()\n",
    "model.fit(dataset.samples, dataset.labels)\n",
    "model.score(dataset.samples, dataset.labels)"
   ]
  },
  {
   "cell_type": "code",
   "execution_count": 28,
   "metadata": {},
   "outputs": [],
   "source": [
    "from scipy.stats import logistic\n",
    "import numpy as np\n",
    "\n",
    "class Classifier(object):\n",
    "    def __init__(self, alpha=0.01):\n",
    "        self.alpha = alpha\n",
    "\n",
    "    def fit(self, X, Y, epoch=1000):\n",
    "        self.w = np.random.random(X.shape[1])*0.1 - 0.05\n",
    "        self.b = np.random.random()*0.1 - 0.05\n",
    "        for e in range(epoch):\n",
    "            self.update(X, Y)\n",
    "    \n",
    "    def update(self, X, Y):\n",
    "        h = (X*self.w).sum(axis=1) + self.b\n",
    "        Yhat = logistic.cdf(h)\n",
    "        dif = Yhat-Y\n",
    "        sigma = dif * Yhat * (1-Yhat)\n",
    "        dw = (sigma.reshape(-1,1)* X).sum(axis=0)\n",
    "        db = sigma.sum()\n",
    "        self.b -= db\n",
    "        self.w -= dw\n",
    "        \n",
    "    def gradient(X, Y):\n",
    "        pass\n",
    "    \n",
    "    def predict(self, X):\n",
    "        h = (X*self.w).sum(axis=1) + self.b\n",
    "        Yhat = logistic.cdf(h)\n",
    "        return (Yhat>0.5)+0"
   ]
  },
  {
   "cell_type": "code",
   "execution_count": 36,
   "metadata": {},
   "outputs": [
    {
     "name": "stderr",
     "output_type": "stream",
     "text": [
      "100%|██████████| 10/10 [00:19<00:00,  1.96s/it]"
     ]
    },
    {
     "name": "stdout",
     "output_type": "stream",
     "text": [
      "0.782251655629139 0.7879205298013245 0.7909933774834437 0.0028164310166891725\n"
     ]
    },
    {
     "name": "stderr",
     "output_type": "stream",
     "text": [
      "\n"
     ]
    }
   ],
   "source": [
    "dataset = datasets.CRDataset()\n",
    "model = SimpleModel()\n",
    "test_model(model, dataset)"
   ]
  },
  {
   "cell_type": "code",
   "execution_count": 37,
   "metadata": {},
   "outputs": [
    {
     "name": "stderr",
     "output_type": "stream",
     "text": [
      "100%|██████████| 10/10 [00:49<00:00,  4.92s/it]"
     ]
    },
    {
     "name": "stdout",
     "output_type": "stream",
     "text": [
      "0.6376158940397352 0.6376158940397352 0.6376158940397352 0.0\n"
     ]
    },
    {
     "name": "stderr",
     "output_type": "stream",
     "text": [
      "\n"
     ]
    }
   ],
   "source": [
    "dataset = datasets.CRDataset()\n",
    "model = SimpleModel(Classifier())\n",
    "test_model(model, dataset)\n",
    "#model.fit(dataset.samples, dataset.labels)\n",
    "#model.score(dataset.samples, dataset.labels)"
   ]
  },
  {
   "cell_type": "code",
   "execution_count": 11,
   "metadata": {},
   "outputs": [],
   "source": [
    "n, d = 100, 5\n",
    "X = np.random.random((n, d))-0.5\n",
    "Y = ((X.sum(axis=1) + np.random.random(n)* - 0.5)>0)+0\n",
    "\n",
    "cls = Classifier()\n",
    "cls.fit(X, Y)"
   ]
  },
  {
   "cell_type": "code",
   "execution_count": 34,
   "metadata": {},
   "outputs": [
    {
     "data": {
      "text/plain": [
       "0.95"
      ]
     },
     "execution_count": 34,
     "metadata": {},
     "output_type": "execute_result"
    }
   ],
   "source": [
    "1-((cls.predict(X)-Y)**2).mean()"
   ]
  },
  {
   "cell_type": "code",
   "execution_count": null,
   "metadata": {},
   "outputs": [],
   "source": []
  }
 ],
 "metadata": {
  "kernelspec": {
   "display_name": "diplomka",
   "language": "python",
   "name": "diplomka"
  },
  "language_info": {
   "codemirror_mode": {
    "name": "ipython",
    "version": 3
   },
   "file_extension": ".py",
   "mimetype": "text/x-python",
   "name": "python",
   "nbconvert_exporter": "python",
   "pygments_lexer": "ipython3",
   "version": "3.5.2"
  }
 },
 "nbformat": 4,
 "nbformat_minor": 2
}
