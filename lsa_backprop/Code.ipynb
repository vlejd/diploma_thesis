{
 "cells": [
  {
   "cell_type": "code",
   "execution_count": 6,
   "metadata": {},
   "outputs": [],
   "source": [
    "%load_ext autoreload\n",
    "%autoreload 2"
   ]
  },
  {
   "cell_type": "code",
   "execution_count": 7,
   "metadata": {},
   "outputs": [],
   "source": [
    "%matplotlib inline\n",
    "import matplotlib.pyplot as plt\n",
    "import os\n",
    "import datetime\n",
    "import json\n",
    "from pprint import pprint\n",
    "from IPython.core import display as ICD  # to print multiple nice pandas tables\n",
    "from collections import defaultdict\n",
    "import logging\n",
    "import numpy as np\n",
    "import io\n",
    "import gensim"
   ]
  },
  {
   "cell_type": "code",
   "execution_count": 8,
   "metadata": {},
   "outputs": [],
   "source": [
    "import datasets"
   ]
  },
  {
   "cell_type": "code",
   "execution_count": 9,
   "metadata": {},
   "outputs": [],
   "source": [
    "class LSABackprob(object):\n",
    "    def __init__(self):\n",
    "        pass\n",
    "    \n",
    "    def train(self, data):\n",
    "        pass\n",
    "    \n",
    "    def predict(self, data):\n",
    "        pass\n",
    "    \n",
    "    def score(self, data):\n",
    "        pass\n",
    "    \n",
    "from sklearn.linear_model import LogisticRegression\n",
    "class SimpleModel(object):\n",
    "    def __init__(self):\n",
    "        pass\n",
    "\n",
    "    def fit(self, X, Y):\n",
    "        self.dictionary = gensim.corpora.Dictionary(X)\n",
    "        bow = list(map(self.dictionary.doc2bow, X))\n",
    "        self.lsi = gensim.models.LsiModel(bow, id2word=self.dictionary)\n",
    "        corpus = gensim.matutils.corpus2dense(self.lsi[bow], self.lsi.num_topics).T\n",
    "        self.cls = LogisticRegression()\n",
    "        self.cls.fit(corpus, Y)\n",
    "    \n",
    "    def predict(self, X):\n",
    "        bow = list(map(self.dictionary.doc2bow, X))\n",
    "        corpus = gensim.matutils.corpus2dense(self.lsi[bow], self.lsi.num_topics).T\n",
    "        Yhat = self.cls.predict(corpus)\n",
    "        return Yhat\n",
    "    \n",
    "    def score(self, X, Y):\n",
    "        Yhat = self.predict(X)\n",
    "        return 1-((Yhat-Y)**2).mean()\n",
    "    \n",
    "    def update(self, X, Y):\n",
    "        pass"
   ]
  },
  {
   "cell_type": "code",
   "execution_count": 10,
   "metadata": {},
   "outputs": [],
   "source": [
    "import datasets"
   ]
  },
  {
   "cell_type": "code",
   "execution_count": 11,
   "metadata": {},
   "outputs": [
    {
     "data": {
      "text/plain": [
       "0.7849006622516557"
      ]
     },
     "execution_count": 11,
     "metadata": {},
     "output_type": "execute_result"
    }
   ],
   "source": [
    "dataset = datasets.CRDataset()\n",
    "model = SimpleModel()\n",
    "model.fit(dataset.samples, dataset.labels)\n",
    "model.score(dataset.samples, dataset.labels)"
   ]
  },
  {
   "cell_type": "code",
   "execution_count": 12,
   "metadata": {},
   "outputs": [
    {
     "data": {
      "text/plain": [
       "0.7574957571186121"
      ]
     },
     "execution_count": 12,
     "metadata": {},
     "output_type": "execute_result"
    }
   ],
   "source": [
    "dataset = datasets.MPQADataset()\n",
    "model = SimpleModel()\n",
    "model.fit(dataset.samples, dataset.labels)\n",
    "model.score(dataset.samples, dataset.labels)"
   ]
  },
  {
   "cell_type": "code",
   "execution_count": 13,
   "metadata": {},
   "outputs": [
    {
     "data": {
      "text/plain": [
       "0.8821"
      ]
     },
     "execution_count": 13,
     "metadata": {},
     "output_type": "execute_result"
    }
   ],
   "source": [
    "dataset = datasets.SUBJDataset()\n",
    "model = SimpleModel()\n",
    "model.fit(dataset.samples, dataset.labels)\n",
    "model.score(dataset.samples, dataset.labels)"
   ]
  },
  {
   "cell_type": "code",
   "execution_count": 27,
   "metadata": {},
   "outputs": [],
   "source": [
    "from scipy.stats import logistic\n",
    "\n",
    "class Classifier(object):\n",
    "    def __init__(self, alpha=0.01):\n",
    "        self.alpha = alpha\n",
    "\n",
    "    def fit(self, X, Y, epoch=100):\n",
    "        self.w = np.random.random(X.shape[1])*0.1 - 0.05\n",
    "        self.b = np.random.random()*0.1 - 0.05\n",
    "        for e in range(epoch):\n",
    "            self.update(X, Y)\n",
    "    \n",
    "    def update(self, X, Y):\n",
    "        h = (X*self.w).sum(axis=1) + self.b\n",
    "        Yhat = logistic.cdf(h)\n",
    "        dif = Yhat-Y\n",
    "        sigma = dif * Yhat * (1-Yhat)\n",
    "        dw = (sigma.reshape(-1,1)* X).sum(axis=0)\n",
    "        db = sigma.sum()\n",
    "        self.b -= db\n",
    "        self.w -= dw\n",
    "        \n",
    "    def gradient(X, Y):\n",
    "        pass\n",
    "    \n",
    "    def predict(self, X):\n",
    "        h = (X*self.w).sum(axis=1) + self.b\n",
    "        Yhat = logistic.cdf(h)\n",
    "        return (Yhat>0.5)+0"
   ]
  },
  {
   "cell_type": "code",
   "execution_count": 33,
   "metadata": {},
   "outputs": [],
   "source": [
    "n, d = 100, 5\n",
    "X = np.random.random((n, d))-0.5\n",
    "Y = ((X.sum(axis=1) + np.random.random(n)* - 0.5)>0)+0\n",
    "\n",
    "cls = Classifier()\n",
    "cls.fit(X, Y)"
   ]
  },
  {
   "cell_type": "code",
   "execution_count": 34,
   "metadata": {},
   "outputs": [
    {
     "data": {
      "text/plain": [
       "0.95"
      ]
     },
     "execution_count": 34,
     "metadata": {},
     "output_type": "execute_result"
    }
   ],
   "source": [
    "1-((cls.predict(X)-Y)**2).mean()"
   ]
  },
  {
   "cell_type": "code",
   "execution_count": null,
   "metadata": {},
   "outputs": [],
   "source": []
  }
 ],
 "metadata": {
  "kernelspec": {
   "display_name": "diplomka",
   "language": "python",
   "name": "diplomka"
  },
  "language_info": {
   "codemirror_mode": {
    "name": "ipython",
    "version": 3
   },
   "file_extension": ".py",
   "mimetype": "text/x-python",
   "name": "python",
   "nbconvert_exporter": "python",
   "pygments_lexer": "ipython3",
   "version": "3.5.2"
  }
 },
 "nbformat": 4,
 "nbformat_minor": 2
}
