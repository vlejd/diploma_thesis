{
 "cells": [
  {
   "cell_type": "code",
   "execution_count": 1,
   "metadata": {},
   "outputs": [],
   "source": [
    "%load_ext autoreload\n",
    "%autoreload 2"
   ]
  },
  {
   "cell_type": "code",
   "execution_count": 2,
   "metadata": {},
   "outputs": [],
   "source": [
    "%matplotlib inline\n",
    "import matplotlib.pyplot as plt\n",
    "import os\n",
    "import datetime\n",
    "import json\n",
    "from pprint import pprint\n",
    "from IPython.core import display as ICD  # to print multiple nice pandas tables\n",
    "from collections import defaultdict\n",
    "import logging\n",
    "import numpy as np\n",
    "import io\n",
    "import gensim\n",
    "import tqdm"
   ]
  },
  {
   "cell_type": "code",
   "execution_count": 3,
   "metadata": {},
   "outputs": [],
   "source": [
    "import datasets\n",
    "import classify"
   ]
  },
  {
   "cell_type": "code",
   "execution_count": 4,
   "metadata": {},
   "outputs": [],
   "source": [
    "def test_model(mode, dataset, tries=10):\n",
    "    results = []\n",
    "    for _ in tqdm.trange(tries):\n",
    "        model.fit(dataset.samples, dataset.labels)\n",
    "        results.append(model.score(dataset.samples, dataset.labels))\n",
    "    print(np.min(results), np.mean(results), np.max(results), np.std(results))"
   ]
  },
  {
   "cell_type": "code",
   "execution_count": 61,
   "metadata": {},
   "outputs": [],
   "source": [
    "from sklearn.linear_model import LogisticRegression\n",
    "from gensim.models import TfidfModel\n",
    "class SimpleModel(object):\n",
    "    def __init__(self, cls = None, use_tfidf=False, w=None):\n",
    "        self.cls = cls\n",
    "        if self.cls is None:\n",
    "            self.cls = LogisticRegression()\n",
    "        self.use_tfidf = use_tfidf\n",
    "        self.w=None\n",
    "        \n",
    "\n",
    "    def fit(self, X, Y):\n",
    "        self.dictionary = gensim.corpora.Dictionary(X)\n",
    "        self.num_terms = len(self.dictionary.dfs)\n",
    "        bow = list(map(self.dictionary.doc2bow, X))\n",
    "        if self.use_tfidf:\n",
    "            self.tfidf_model = TfidfModel(bow)\n",
    "            bow = self.tfidf_model[bow]\n",
    "        if self.w is None:\n",
    "            self.w = np.ones(self.num_terms)\n",
    "        if True:\n",
    "            bow = gensim.matutils.corpus2csc(bow)\n",
    "            bow = gensim.matutils.Sparse2Corpus(bow.multiply(self.w.reshape(-1,1)))\n",
    "        self.lsi = gensim.models.LsiModel(bow, id2word=self.dictionary)\n",
    "        self.corpus = gensim.matutils.corpus2dense(self.lsi[bow], self.lsi.num_topics).T\n",
    "        self.cls.fit(self.corpus, Y)\n",
    "    \n",
    "    def dw(self, X, Y):\n",
    "        _ = self.predict(X)\n",
    "        self.d_embedding = self.cls.dx(self.embedding, Y)\n",
    "        print(self.d_embedding.shape)\n",
    "        u = self.lsi.projection.u\n",
    "        res = self.d_embedding.dot(u.T)\n",
    "        dw = model.bow.multiply(res.T).sum(axis=1).T[0]\n",
    "        return dw\n",
    "        \n",
    "    \n",
    "    def predict(self, X):\n",
    "        bow = list(map(self.dictionary.doc2bow, X))\n",
    "        if self.use_tfidf:\n",
    "            bow = self.tfidf_model[bow]\n",
    "        if True:\n",
    "            bow = gensim.matutils.corpus2csc(bow)\n",
    "            self.bow = bow\n",
    "            bow = bow.multiply(self.w.reshape(-1,1))\n",
    "            bow = gensim.matutils.Sparse2Corpus(bow)\n",
    "\n",
    "        self.embedding = gensim.matutils.corpus2dense(self.lsi[bow], self.lsi.num_topics).T\n",
    "        Yhat = self.cls.predict(self.embedding)\n",
    "        return Yhat\n",
    "    \n",
    "    def score(self, X, Y):\n",
    "        Yhat = self.predict(X)\n",
    "        return 1-((Yhat-Y)**2).mean()\n",
    "    \n",
    "    def update(self, X, Y):\n",
    "        pass"
   ]
  },
  {
   "cell_type": "code",
   "execution_count": 62,
   "metadata": {},
   "outputs": [
    {
     "data": {
      "text/plain": [
       "0.7849006622516557"
      ]
     },
     "execution_count": 62,
     "metadata": {},
     "output_type": "execute_result"
    }
   ],
   "source": [
    "dataset = datasets.CRDataset()\n",
    "model = SimpleModel(classify.SkClassifier())\n",
    "model.fit(dataset.samples, dataset.labels)\n",
    "model.score(dataset.samples, dataset.labels)"
   ]
  },
  {
   "cell_type": "code",
   "execution_count": 63,
   "metadata": {},
   "outputs": [
    {
     "name": "stdout",
     "output_type": "stream",
     "text": [
      "(3775, 200)\n"
     ]
    }
   ],
   "source": [
    "dw = model.dw(dataset.samples, dataset.labels)"
   ]
  },
  {
   "cell_type": "code",
   "execution_count": null,
   "metadata": {},
   "outputs": [],
   "source": []
  },
  {
   "cell_type": "code",
   "execution_count": 26,
   "metadata": {},
   "outputs": [],
   "source": [
    "pom = model.bow.T.dot(model.lsi.projection.u)"
   ]
  },
  {
   "cell_type": "code",
   "execution_count": 29,
   "metadata": {},
   "outputs": [],
   "source": [
    "u = model.lsi.projection.u"
   ]
  },
  {
   "cell_type": "code",
   "execution_count": 38,
   "metadata": {},
   "outputs": [
    {
     "data": {
      "text/plain": [
       "array([9.83579755e-01, 9.94838814e-01, 9.87574779e-01, ...,\n",
       "       2.04783358e-04, 2.04783358e-04, 5.16126162e-04])"
      ]
     },
     "execution_count": 38,
     "metadata": {},
     "output_type": "execute_result"
    }
   ],
   "source": [
    "x = u.dot(u.T)\n",
    "x.diagonal()"
   ]
  },
  {
   "cell_type": "code",
   "execution_count": 50,
   "metadata": {},
   "outputs": [
    {
     "data": {
      "text/plain": [
       "(3775, 5674)"
      ]
     },
     "execution_count": 50,
     "metadata": {},
     "output_type": "execute_result"
    }
   ],
   "source": [
    "res = model.d_embedding.dot(u.T)\n",
    "model.bow.multiply(res.T).sum(axis=1).T[0]"
   ]
  },
  {
   "cell_type": "code",
   "execution_count": 57,
   "metadata": {},
   "outputs": [
    {
     "data": {
      "text/plain": [
       "matrix([[1.46199778e+00, 6.06734417e-01, 1.09502181e-01, ...,\n",
       "         9.79000765e-04, 9.79000765e-04, 1.44550322e-03]])"
      ]
     },
     "execution_count": 57,
     "metadata": {},
     "output_type": "execute_result"
    }
   ],
   "source": [
    "model.bow.multiply(res.T).sum(axis=1).T[0]"
   ]
  },
  {
   "cell_type": "code",
   "execution_count": 28,
   "metadata": {},
   "outputs": [
    {
     "data": {
      "text/plain": [
       "(3775, 200)"
      ]
     },
     "execution_count": 28,
     "metadata": {},
     "output_type": "execute_result"
    }
   ],
   "source": [
    "pom.shape"
   ]
  },
  {
   "cell_type": "code",
   "execution_count": 13,
   "metadata": {},
   "outputs": [],
   "source": [
    "sbow = model.bow[:10]\n",
    "su = model.lsi.projection.u[:10]"
   ]
  },
  {
   "cell_type": "code",
   "execution_count": 24,
   "metadata": {},
   "outputs": [
    {
     "name": "stdout",
     "output_type": "stream",
     "text": [
      "(5674, 3775)\n",
      "(5674, 200)\n"
     ]
    }
   ],
   "source": [
    "print(model.bow.shape)\n",
    "print(model.lsi.projection.u.shape)"
   ]
  },
  {
   "cell_type": "code",
   "execution_count": 23,
   "metadata": {},
   "outputs": [
    {
     "name": "stdout",
     "output_type": "stream",
     "text": [
      "(10, 3775)\n",
      "(10, 200)\n"
     ]
    }
   ],
   "source": [
    "print(sbow.shape)\n",
    "print(su.shape)"
   ]
  },
  {
   "cell_type": "code",
   "execution_count": 25,
   "metadata": {},
   "outputs": [
    {
     "data": {
      "text/plain": [
       "(3775, 200)"
      ]
     },
     "execution_count": 25,
     "metadata": {},
     "output_type": "execute_result"
    }
   ],
   "source": [
    "sbow.T.dot(su).shape"
   ]
  },
  {
   "cell_type": "code",
   "execution_count": 8,
   "metadata": {},
   "outputs": [
    {
     "data": {
      "text/plain": [
       "(5674, 200)"
      ]
     },
     "execution_count": 8,
     "metadata": {},
     "output_type": "execute_result"
    }
   ],
   "source": [
    "model.lsi.projection.u.shape"
   ]
  },
  {
   "cell_type": "code",
   "execution_count": 9,
   "metadata": {},
   "outputs": [
    {
     "data": {
      "text/plain": [
       "(3775, 200)"
      ]
     },
     "execution_count": 9,
     "metadata": {},
     "output_type": "execute_result"
    }
   ],
   "source": [
    "model.corpus.shape"
   ]
  },
  {
   "cell_type": "code",
   "execution_count": 132,
   "metadata": {},
   "outputs": [
    {
     "data": {
      "text/plain": [
       "(3775, 200)"
      ]
     },
     "execution_count": 132,
     "metadata": {},
     "output_type": "execute_result"
    }
   ],
   "source": [
    "model.cls.dx(X, Y).shape"
   ]
  },
  {
   "cell_type": "code",
   "execution_count": 86,
   "metadata": {},
   "outputs": [
    {
     "data": {
      "text/plain": [
       "[(0, 0.03467151321641605),\n",
       " (1, -0.008379483881744086),\n",
       " (2, -0.08778179090532488),\n",
       " (3, 0.0513274107869992),\n",
       " (4, 0.05593746875602374),\n",
       " (5, -0.007593093451914422),\n",
       " (6, 0.02499806230982492),\n",
       " (7, -0.008707268655324677),\n",
       " (8, -0.02296305911713987),\n",
       " (9, -0.040910024068387736),\n",
       " (10, -0.0007906049902375272),\n",
       " (11, -0.012902751337078093),\n",
       " (12, 0.07049760125802405),\n",
       " (13, 0.014653466054823332),\n",
       " (14, -0.037025247427074),\n",
       " (15, 0.09513512894365837),\n",
       " (16, 0.07250045490848336),\n",
       " (17, -0.19494116255486238),\n",
       " (18, 0.03976788514333459),\n",
       " (19, 0.40517573033666504),\n",
       " (20, -0.1101155226455703),\n",
       " (21, 0.34968312244303823),\n",
       " (22, -0.03631821014049906),\n",
       " (23, -0.6925449416478271),\n",
       " (24, 0.17989532789534615),\n",
       " (25, 0.12016773007369835),\n",
       " (26, 0.01172160822846742),\n",
       " (27, -0.026121067882449302),\n",
       " (28, 0.05123476298594439),\n",
       " (29, -0.05761857703257091),\n",
       " (30, -0.0006217311955445691),\n",
       " (31, 0.05033303085579515),\n",
       " (32, -0.09224715248457997),\n",
       " (33, 0.040129419519863034),\n",
       " (34, 0.04651275770944592),\n",
       " (35, -0.08640537450270856),\n",
       " (36, -0.015090664286201778),\n",
       " (37, -0.018531748276910016),\n",
       " (38, 0.038109548512075986),\n",
       " (39, -0.02722293781632344),\n",
       " (40, 0.08604750955950351),\n",
       " (41, -0.004487997058936079),\n",
       " (42, -0.038100567994420874),\n",
       " (43, 0.03792284278071649),\n",
       " (44, 0.0722645900079984),\n",
       " (45, -0.06261149566780988),\n",
       " (46, -0.029415504527597423),\n",
       " (47, 0.08314342060531317),\n",
       " (48, 0.00664245486782752),\n",
       " (49, -0.014007584123734953),\n",
       " (50, 0.010585241861022833),\n",
       " (51, -0.009071651006314537),\n",
       " (52, -0.011662039773894937),\n",
       " (53, -0.001156171090134986),\n",
       " (54, 0.016336816232853584),\n",
       " (55, 0.002563008346870779),\n",
       " (56, 0.0021611533947714276),\n",
       " (57, 0.02001838800753765),\n",
       " (58, -0.042733194127102664),\n",
       " (59, 0.020788347536104534),\n",
       " (60, -0.024053634570199572),\n",
       " (61, -0.0012408913049035014),\n",
       " (62, 0.005132808564883837),\n",
       " (63, -0.007187511085595386),\n",
       " (64, 0.006658993397695632),\n",
       " (65, 0.04328040795161527),\n",
       " (66, 0.0008082223367524167),\n",
       " (67, -0.011075746194725249),\n",
       " (68, 0.017285855750863287),\n",
       " (69, 0.022091182360434024),\n",
       " (70, 0.038294068303489366),\n",
       " (71, -0.005308240567619738),\n",
       " (72, 0.0062939651639137085),\n",
       " (73, -0.0011410854181509338),\n",
       " (74, 0.006609121135415373),\n",
       " (75, -0.018142396587478495),\n",
       " (76, 0.00015455485489028887),\n",
       " (77, 0.012759086469915606),\n",
       " (78, 0.0036690311345225265),\n",
       " (79, -0.01492060638273967),\n",
       " (80, -0.0023178422822261384),\n",
       " (81, -0.017453168277982375),\n",
       " (82, -0.023589512425690372),\n",
       " (83, -0.023055473154993452),\n",
       " (84, 0.00036307081004007235),\n",
       " (85, 0.011491115873066626),\n",
       " (86, -0.0002005029483198753),\n",
       " (87, -0.03202665041576683),\n",
       " (88, -0.008224597670543544),\n",
       " (89, -0.005051041404614755),\n",
       " (90, -0.021296304634870908),\n",
       " (91, -0.010956297065346614),\n",
       " (92, -0.01834209000046621),\n",
       " (93, 0.0026784249392009718),\n",
       " (94, -0.0024396149424516737),\n",
       " (95, -0.005323487797539479),\n",
       " (96, -0.0017783658618615093),\n",
       " (97, -0.015181457901219922),\n",
       " (98, 0.008986835212278024),\n",
       " (99, 0.009407988656289825),\n",
       " (100, -0.01288136663161463),\n",
       " (101, 0.013174013747327643),\n",
       " (102, 0.005418482559136023),\n",
       " (103, 0.006488521850139029),\n",
       " (104, -2.9326073020601484e-05),\n",
       " (105, 0.002740442404114617),\n",
       " (106, -0.012957170488721987),\n",
       " (107, -0.014184463133409732),\n",
       " (108, 0.00973836531669538),\n",
       " (109, 0.005832415739005109),\n",
       " (110, -0.002619731977512465),\n",
       " (111, -0.017460692546578435),\n",
       " (112, -0.005237308607562926),\n",
       " (113, -0.010966227617135097),\n",
       " (114, -0.022693262666819237),\n",
       " (115, 0.0028308136018220767),\n",
       " (116, 0.01025147286148879),\n",
       " (117, 0.009323024769195467),\n",
       " (118, -0.0006504219378238217),\n",
       " (119, -0.0014078421979640894),\n",
       " (120, -0.00888092801138556),\n",
       " (121, 0.00079316069928139),\n",
       " (122, 0.003425544920042796),\n",
       " (123, -0.004643122835088291),\n",
       " (124, -0.004736786078388989),\n",
       " (125, -0.001388715327879932),\n",
       " (126, -0.00027157561813036593),\n",
       " (127, -0.0010995553660589378),\n",
       " (128, 0.007073418139531213),\n",
       " (129, 0.007867954479493471),\n",
       " (130, 0.008177147628260373),\n",
       " (131, 0.014320887948206231),\n",
       " (132, -0.002057660890855668),\n",
       " (133, 0.0036241073815834286),\n",
       " (134, 0.008915380814686931),\n",
       " (135, -0.005233063607754346),\n",
       " (136, 0.009061669175750714),\n",
       " (137, 0.000771580852091933),\n",
       " (138, -0.0027971251037437607),\n",
       " (139, -0.007425030374589938),\n",
       " (140, 0.009812075099041612),\n",
       " (141, 0.000771996780644178),\n",
       " (142, 0.009913585200391518),\n",
       " (143, -0.005806383921771203),\n",
       " (144, -0.004682656554146456),\n",
       " (145, 0.013892658943810636),\n",
       " (146, -0.00510617980049506),\n",
       " (147, 0.014641954207634082),\n",
       " (148, 0.018778378385831296),\n",
       " (149, 0.0002003399293995776),\n",
       " (150, -0.006206665121001154),\n",
       " (151, -0.006979865103412397),\n",
       " (152, 0.0053691533967841045),\n",
       " (153, -0.003752651137777838),\n",
       " (154, 0.00681838669162309),\n",
       " (155, -0.004103132443265388),\n",
       " (156, 0.004852397555896117),\n",
       " (157, -0.0003540271963176861),\n",
       " (158, -0.00861565392009566),\n",
       " (159, 0.00747136782125049),\n",
       " (160, 0.00044088780503704706),\n",
       " (161, 0.012204329343103032),\n",
       " (162, -0.0040066713109116565),\n",
       " (163, 0.010195644430293579),\n",
       " (164, -0.004088319002544297),\n",
       " (165, -0.0033800246582528313),\n",
       " (166, 0.005384240468195908),\n",
       " (167, -0.008600385795638894),\n",
       " (168, -0.004203412303783832),\n",
       " (169, 0.008419871907161071),\n",
       " (170, 0.0019133945473895936),\n",
       " (171, 0.01161931302642072),\n",
       " (172, 0.004424943028158778),\n",
       " (173, 0.009019475599556733),\n",
       " (174, -0.011420851954182422),\n",
       " (175, -0.003628166685706635),\n",
       " (176, -0.009198142857074675),\n",
       " (177, -0.017341968827601324),\n",
       " (178, -0.0016487113977123329),\n",
       " (179, -0.0011722394079145743),\n",
       " (180, 0.004102806235171444),\n",
       " (181, 0.005592894580541328),\n",
       " (182, -0.011703520868871133),\n",
       " (183, -0.008220286400017622),\n",
       " (184, 0.0052538898628344466),\n",
       " (185, 0.00397724914981558),\n",
       " (186, -0.009651287713518048),\n",
       " (187, 0.003859838899342284),\n",
       " (188, -0.0026868667839513635),\n",
       " (189, 0.0026320784388841538),\n",
       " (190, -0.007736879310623788),\n",
       " (191, 0.009943879201926506),\n",
       " (192, -0.005254872702900367),\n",
       " (193, -0.0035749604455289474),\n",
       " (194, 0.003939677164836497),\n",
       " (195, 0.0052795807489521215),\n",
       " (196, 0.003948300518798015),\n",
       " (197, 0.0007263643944530902),\n",
       " (198, -0.002606809243044965),\n",
       " (199, 0.01268578312140679)]"
      ]
     },
     "execution_count": 86,
     "metadata": {},
     "output_type": "execute_result"
    }
   ],
   "source": [
    "sample = [[0,1]]\n",
    "model.lsi[sample]"
   ]
  },
  {
   "cell_type": "code",
   "execution_count": 87,
   "metadata": {},
   "outputs": [],
   "source": [
    "bo = np.zeros(model.num_terms)\n",
    "bo[0]=1."
   ]
  },
  {
   "cell_type": "code",
   "execution_count": 133,
   "metadata": {},
   "outputs": [
    {
     "data": {
      "text/plain": [
       "(5674, 200)"
      ]
     },
     "execution_count": 133,
     "metadata": {},
     "output_type": "execute_result"
    }
   ],
   "source": [
    "p.u.shape"
   ]
  },
  {
   "cell_type": "code",
   "execution_count": 103,
   "metadata": {},
   "outputs": [
    {
     "data": {
      "text/plain": [
       "array([ 3.46715132e-02, -8.37948388e-03, -8.77817909e-02,  5.13274108e-02,\n",
       "        5.59374688e-02, -7.59309345e-03,  2.49980623e-02, -8.70726866e-03,\n",
       "       -2.29630591e-02, -4.09100241e-02, -7.90604990e-04, -1.29027513e-02,\n",
       "        7.04976013e-02,  1.46534661e-02, -3.70252474e-02,  9.51351289e-02,\n",
       "        7.25004549e-02, -1.94941163e-01,  3.97678851e-02,  4.05175730e-01,\n",
       "       -1.10115523e-01,  3.49683122e-01, -3.63182101e-02, -6.92544942e-01,\n",
       "        1.79895328e-01,  1.20167730e-01,  1.17216082e-02, -2.61210679e-02,\n",
       "        5.12347630e-02, -5.76185770e-02, -6.21731196e-04,  5.03330309e-02,\n",
       "       -9.22471525e-02,  4.01294195e-02,  4.65127577e-02, -8.64053745e-02,\n",
       "       -1.50906643e-02, -1.85317483e-02,  3.81095485e-02, -2.72229378e-02,\n",
       "        8.60475096e-02, -4.48799706e-03, -3.81005680e-02,  3.79228428e-02,\n",
       "        7.22645900e-02, -6.26114957e-02, -2.94155045e-02,  8.31434206e-02,\n",
       "        6.64245487e-03, -1.40075841e-02,  1.05852419e-02, -9.07165101e-03,\n",
       "       -1.16620398e-02, -1.15617109e-03,  1.63368162e-02,  2.56300835e-03,\n",
       "        2.16115339e-03,  2.00183880e-02, -4.27331941e-02,  2.07883475e-02,\n",
       "       -2.40536346e-02, -1.24089130e-03,  5.13280856e-03, -7.18751109e-03,\n",
       "        6.65899340e-03,  4.32804080e-02,  8.08222337e-04, -1.10757462e-02,\n",
       "        1.72858558e-02,  2.20911824e-02,  3.82940683e-02, -5.30824057e-03,\n",
       "        6.29396516e-03, -1.14108542e-03,  6.60912114e-03, -1.81423966e-02,\n",
       "        1.54554855e-04,  1.27590865e-02,  3.66903113e-03, -1.49206064e-02,\n",
       "       -2.31784228e-03, -1.74531683e-02, -2.35895124e-02, -2.30554732e-02,\n",
       "        3.63070810e-04,  1.14911159e-02, -2.00502948e-04, -3.20266504e-02,\n",
       "       -8.22459767e-03, -5.05104140e-03, -2.12963046e-02, -1.09562971e-02,\n",
       "       -1.83420900e-02,  2.67842494e-03, -2.43961494e-03, -5.32348780e-03,\n",
       "       -1.77836586e-03, -1.51814579e-02,  8.98683521e-03,  9.40798866e-03,\n",
       "       -1.28813666e-02,  1.31740137e-02,  5.41848256e-03,  6.48852185e-03,\n",
       "       -2.93260730e-05,  2.74044240e-03, -1.29571705e-02, -1.41844631e-02,\n",
       "        9.73836532e-03,  5.83241574e-03, -2.61973198e-03, -1.74606925e-02,\n",
       "       -5.23730861e-03, -1.09662276e-02, -2.26932627e-02,  2.83081360e-03,\n",
       "        1.02514729e-02,  9.32302477e-03, -6.50421938e-04, -1.40784220e-03,\n",
       "       -8.88092801e-03,  7.93160699e-04,  3.42554492e-03, -4.64312284e-03,\n",
       "       -4.73678608e-03, -1.38871533e-03, -2.71575618e-04, -1.09955537e-03,\n",
       "        7.07341814e-03,  7.86795448e-03,  8.17714763e-03,  1.43208879e-02,\n",
       "       -2.05766089e-03,  3.62410738e-03,  8.91538081e-03, -5.23306361e-03,\n",
       "        9.06166918e-03,  7.71580852e-04, -2.79712510e-03, -7.42503037e-03,\n",
       "        9.81207510e-03,  7.71996781e-04,  9.91358520e-03, -5.80638392e-03,\n",
       "       -4.68265655e-03,  1.38926589e-02, -5.10617980e-03,  1.46419542e-02,\n",
       "        1.87783784e-02,  2.00339929e-04, -6.20666512e-03, -6.97986510e-03,\n",
       "        5.36915340e-03, -3.75265114e-03,  6.81838669e-03, -4.10313244e-03,\n",
       "        4.85239756e-03, -3.54027196e-04, -8.61565392e-03,  7.47136782e-03,\n",
       "        4.40887805e-04,  1.22043293e-02, -4.00667131e-03,  1.01956444e-02,\n",
       "       -4.08831900e-03, -3.38002466e-03,  5.38424047e-03, -8.60038580e-03,\n",
       "       -4.20341230e-03,  8.41987191e-03,  1.91339455e-03,  1.16193130e-02,\n",
       "        4.42494303e-03,  9.01947560e-03, -1.14208520e-02, -3.62816669e-03,\n",
       "       -9.19814286e-03, -1.73419688e-02, -1.64871140e-03, -1.17223941e-03,\n",
       "        4.10280624e-03,  5.59289458e-03, -1.17035209e-02, -8.22028640e-03,\n",
       "        5.25388986e-03,  3.97724915e-03, -9.65128771e-03,  3.85983890e-03,\n",
       "       -2.68686678e-03,  2.63207844e-03, -7.73687931e-03,  9.94387920e-03,\n",
       "       -5.25487270e-03, -3.57496045e-03,  3.93967716e-03,  5.27958075e-03,\n",
       "        3.94830052e-03,  7.26364394e-04, -2.60680924e-03,  1.26857831e-02])"
      ]
     },
     "execution_count": 103,
     "metadata": {},
     "output_type": "execute_result"
    }
   ],
   "source": [
    "p = model.lsi.projection\n",
    "np.dot(bo, p.u)"
   ]
  },
  {
   "cell_type": "code",
   "execution_count": 68,
   "metadata": {},
   "outputs": [
    {
     "data": {
      "text/plain": [
       "0.7904635761589404"
      ]
     },
     "execution_count": 68,
     "metadata": {},
     "output_type": "execute_result"
    }
   ],
   "source": [
    "dataset = datasets.CRDataset()\n",
    "model = SimpleModel(classify.SkClassifier())\n",
    "model.fit(dataset.samples, dataset.labels)\n",
    "model.score(dataset.samples, dataset.labels)"
   ]
  },
  {
   "cell_type": "code",
   "execution_count": 60,
   "metadata": {},
   "outputs": [
    {
     "name": "stderr",
     "output_type": "stream",
     "text": [
      "100%|██████████| 10/10 [00:23<00:00,  2.33s/it]"
     ]
    },
    {
     "name": "stdout",
     "output_type": "stream",
     "text": [
      "0.7907284768211921 0.7958675496688743 0.7989403973509934 0.0020730063625445105\n"
     ]
    },
    {
     "name": "stderr",
     "output_type": "stream",
     "text": [
      "\n"
     ]
    }
   ],
   "source": [
    "dataset = datasets.CRDataset()\n",
    "model = SimpleModel(classify.SkClassifier(), use_tfidf=True)\n",
    "test_model(model, dataset)"
   ]
  },
  {
   "cell_type": "code",
   "execution_count": 8,
   "metadata": {},
   "outputs": [
    {
     "name": "stderr",
     "output_type": "stream",
     "text": [
      "100%|██████████| 10/10 [00:21<00:00,  2.11s/it]"
     ]
    },
    {
     "name": "stdout",
     "output_type": "stream",
     "text": [
      "0.7875496688741722 0.7944370860927152 0.799205298013245 0.0038842061718185775\n"
     ]
    },
    {
     "name": "stderr",
     "output_type": "stream",
     "text": [
      "\n"
     ]
    }
   ],
   "source": [
    "dataset = datasets.CRDataset()\n",
    "model = SimpleModel(use_tfidf=True)\n",
    "test_model(model, dataset)"
   ]
  },
  {
   "cell_type": "code",
   "execution_count": 9,
   "metadata": {},
   "outputs": [
    {
     "name": "stderr",
     "output_type": "stream",
     "text": [
      "100%|██████████| 10/10 [00:19<00:00,  1.90s/it]"
     ]
    },
    {
     "name": "stdout",
     "output_type": "stream",
     "text": [
      "0.782251655629139 0.7866225165562913 0.7896688741721855 0.002686489775635024\n"
     ]
    },
    {
     "name": "stderr",
     "output_type": "stream",
     "text": [
      "\n"
     ]
    }
   ],
   "source": [
    "dataset = datasets.CRDataset()\n",
    "model = SimpleModel(use_tfidf=False)\n",
    "test_model(model, dataset)"
   ]
  },
  {
   "cell_type": "code",
   "execution_count": 10,
   "metadata": {},
   "outputs": [
    {
     "data": {
      "text/plain": [
       "0.7819867549668874"
      ]
     },
     "execution_count": 10,
     "metadata": {},
     "output_type": "execute_result"
    }
   ],
   "source": [
    "dataset = datasets.CRDataset()\n",
    "model = SimpleModel()\n",
    "model.fit(dataset.samples, dataset.labels)\n",
    "model.score(dataset.samples, dataset.labels)"
   ]
  },
  {
   "cell_type": "code",
   "execution_count": 11,
   "metadata": {},
   "outputs": [
    {
     "data": {
      "text/plain": [
       "0.7543843107674901"
      ]
     },
     "execution_count": 11,
     "metadata": {},
     "output_type": "execute_result"
    }
   ],
   "source": [
    "dataset = datasets.MPQADataset()\n",
    "model = SimpleModel()\n",
    "model.fit(dataset.samples, dataset.labels)\n",
    "model.score(dataset.samples, dataset.labels)"
   ]
  },
  {
   "cell_type": "code",
   "execution_count": 16,
   "metadata": {},
   "outputs": [
    {
     "data": {
      "text/plain": [
       "0.8861"
      ]
     },
     "execution_count": 16,
     "metadata": {},
     "output_type": "execute_result"
    }
   ],
   "source": [
    "dataset = datasets.SUBJDataset()\n",
    "model = SimpleModel()\n",
    "model.fit(dataset.samples, dataset.labels)\n",
    "model.score(dataset.samples, dataset.labels)"
   ]
  },
  {
   "cell_type": "code",
   "execution_count": 28,
   "metadata": {},
   "outputs": [],
   "source": [
    "from scipy.stats import logistic\n",
    "import numpy as np\n",
    "\n",
    "class Classifier(object):\n",
    "    def __init__(self, alpha=0.01):\n",
    "        self.alpha = alpha\n",
    "\n",
    "    def fit(self, X, Y, epoch=1000):\n",
    "        self.w = np.random.random(X.shape[1])*0.1 - 0.05\n",
    "        self.b = np.random.random()*0.1 - 0.05\n",
    "        for e in range(epoch):\n",
    "            self.update(X, Y)\n",
    "    \n",
    "    def update(self, X, Y):\n",
    "        h = (X*self.w).sum(axis=1) + self.b\n",
    "        Yhat = logistic.cdf(h)\n",
    "        dif = Yhat-Y\n",
    "        sigma = dif * Yhat * (1-Yhat)\n",
    "        dw = (sigma.reshape(-1,1)* X).sum(axis=0)\n",
    "        db = sigma.sum()\n",
    "        self.b -= db\n",
    "        self.w -= dw\n",
    "        \n",
    "    def gradient(X, Y):\n",
    "        pass\n",
    "    \n",
    "    def predict(self, X):\n",
    "        h = (X*self.w).sum(axis=1) + self.b\n",
    "        Yhat = logistic.cdf(h)\n",
    "        return (Yhat>0.5)+0"
   ]
  },
  {
   "cell_type": "code",
   "execution_count": 36,
   "metadata": {},
   "outputs": [
    {
     "name": "stderr",
     "output_type": "stream",
     "text": [
      "100%|██████████| 10/10 [00:19<00:00,  1.96s/it]"
     ]
    },
    {
     "name": "stdout",
     "output_type": "stream",
     "text": [
      "0.782251655629139 0.7879205298013245 0.7909933774834437 0.0028164310166891725\n"
     ]
    },
    {
     "name": "stderr",
     "output_type": "stream",
     "text": [
      "\n"
     ]
    }
   ],
   "source": [
    "dataset = datasets.CRDataset()\n",
    "model = SimpleModel()\n",
    "test_model(model, dataset)"
   ]
  },
  {
   "cell_type": "code",
   "execution_count": 37,
   "metadata": {},
   "outputs": [
    {
     "name": "stderr",
     "output_type": "stream",
     "text": [
      "100%|██████████| 10/10 [00:49<00:00,  4.92s/it]"
     ]
    },
    {
     "name": "stdout",
     "output_type": "stream",
     "text": [
      "0.6376158940397352 0.6376158940397352 0.6376158940397352 0.0\n"
     ]
    },
    {
     "name": "stderr",
     "output_type": "stream",
     "text": [
      "\n"
     ]
    }
   ],
   "source": [
    "dataset = datasets.CRDataset()\n",
    "model = SimpleModel(Classifier())\n",
    "test_model(model, dataset)\n",
    "#model.fit(dataset.samples, dataset.labels)\n",
    "#model.score(dataset.samples, dataset.labels)"
   ]
  },
  {
   "cell_type": "code",
   "execution_count": 11,
   "metadata": {},
   "outputs": [],
   "source": [
    "n, d = 100, 5\n",
    "X = np.random.random((n, d))-0.5\n",
    "Y = ((X.sum(axis=1) + np.random.random(n)* - 0.5)>0)+0\n",
    "\n",
    "cls = Classifier()\n",
    "cls.fit(X, Y)"
   ]
  },
  {
   "cell_type": "code",
   "execution_count": 34,
   "metadata": {},
   "outputs": [
    {
     "data": {
      "text/plain": [
       "0.95"
      ]
     },
     "execution_count": 34,
     "metadata": {},
     "output_type": "execute_result"
    }
   ],
   "source": [
    "1-((cls.predict(X)-Y)**2).mean()"
   ]
  },
  {
   "cell_type": "code",
   "execution_count": null,
   "metadata": {},
   "outputs": [],
   "source": []
  }
 ],
 "metadata": {
  "kernelspec": {
   "display_name": "diplomka",
   "language": "python",
   "name": "diplomka"
  },
  "language_info": {
   "codemirror_mode": {
    "name": "ipython",
    "version": 3
   },
   "file_extension": ".py",
   "mimetype": "text/x-python",
   "name": "python",
   "nbconvert_exporter": "python",
   "pygments_lexer": "ipython3",
   "version": "3.5.2"
  }
 },
 "nbformat": 4,
 "nbformat_minor": 2
}
