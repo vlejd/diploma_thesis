{
 "cells": [
  {
   "cell_type": "code",
   "execution_count": 1,
   "metadata": {},
   "outputs": [],
   "source": [
    "%load_ext autoreload\n",
    "%autoreload 2"
   ]
  },
  {
   "cell_type": "code",
   "execution_count": 34,
   "metadata": {},
   "outputs": [],
   "source": [
    "%matplotlib inline\n",
    "import matplotlib.pyplot as plt\n",
    "import os\n",
    "import datetime\n",
    "import json\n",
    "from pprint import pprint\n",
    "from IPython.core import display as ICD  # to print multiple nice pandas tables\n",
    "from collections import defaultdict\n",
    "import logging\n",
    "import numpy as np\n",
    "import io\n",
    "import gensim\n",
    "import tqdm\n",
    "import seaborn as sns\n",
    "sns.set()"
   ]
  },
  {
   "cell_type": "code",
   "execution_count": 3,
   "metadata": {},
   "outputs": [],
   "source": [
    "import datasets\n",
    "import classify"
   ]
  },
  {
   "cell_type": "code",
   "execution_count": 4,
   "metadata": {},
   "outputs": [],
   "source": [
    "def test_model(mode, dataset, tries=10):\n",
    "    results = []\n",
    "    for _ in tqdm.trange(tries):\n",
    "        model.fit(dataset.samples, dataset.labels)\n",
    "        results.append(model.score(dataset.samples, dataset.labels))\n",
    "    print(np.min(results), np.mean(results), np.max(results), np.std(results))"
   ]
  },
  {
   "cell_type": "code",
   "execution_count": 68,
   "metadata": {},
   "outputs": [],
   "source": [
    "from sklearn.linear_model import LogisticRegression\n",
    "from gensim.models import TfidfModel\n",
    "class SimpleModel(object):\n",
    "    def __init__(self, cls = None, use_tfidf=False, w=None):\n",
    "        self.cls = cls\n",
    "        if self.cls is None:\n",
    "            self.cls = LogisticRegression()\n",
    "        self.use_tfidf = use_tfidf\n",
    "        self.w=w\n",
    "        \n",
    "\n",
    "    def fit(self, X, Y):\n",
    "        self.dictionary = gensim.corpora.Dictionary(X)\n",
    "        self.num_terms = len(self.dictionary.dfs)\n",
    "        bow = list(map(self.dictionary.doc2bow, X))\n",
    "        if self.use_tfidf:\n",
    "            self.tfidf_model = TfidfModel(bow)\n",
    "            bow = self.tfidf_model[bow]\n",
    "        if self.w is None:\n",
    "            self.w = np.ones(self.num_terms)\n",
    "        if True:\n",
    "            bow = gensim.matutils.corpus2csc(bow, num_terms=self.num_terms)\n",
    "            bow = gensim.matutils.Sparse2Corpus(bow.multiply(self.w.reshape(-1,1)))\n",
    "        self.lsi = gensim.models.LsiModel(bow, id2word=self.dictionary)\n",
    "        self.corpus = gensim.matutils.corpus2dense(self.lsi[bow], self.lsi.num_topics).T\n",
    "        self.cls.fit(self.corpus, Y)\n",
    "    \n",
    "    def dw(self, X, Y):\n",
    "        _ = self.predict(X)\n",
    "        self.d_embedding = self.cls.dx(self.embedding, Y)\n",
    "        u = self.lsi.projection.u\n",
    "        res = self.d_embedding.dot(u.T)\n",
    "        dw = model.bow.multiply(res.T).sum(axis=1).T.A1\n",
    "        return dw\n",
    "        \n",
    "    \n",
    "    def predict(self, X):\n",
    "        bow = list(map(self.dictionary.doc2bow, X))\n",
    "        if self.use_tfidf:\n",
    "            bow = self.tfidf_model[bow]\n",
    "        if True:\n",
    "            bow = gensim.matutils.corpus2csc(bow, num_terms=self.num_terms)\n",
    "            self.bow = bow\n",
    "            bow = bow.multiply(self.w.reshape(-1,1))\n",
    "            bow = gensim.matutils.Sparse2Corpus(bow)\n",
    "\n",
    "        self.embedding = gensim.matutils.corpus2dense(self.lsi[bow], self.lsi.num_topics).T\n",
    "        Yhat = self.cls.predict(self.embedding)\n",
    "        return Yhat\n",
    "    \n",
    "    def score(self, X, Y):\n",
    "        Yhat = self.predict(X)\n",
    "        return 1-((Yhat-Y)**2).mean()\n",
    "    \n",
    "    def update(self, X, Y):\n",
    "        pass"
   ]
  },
  {
   "cell_type": "code",
   "execution_count": 69,
   "metadata": {},
   "outputs": [
    {
     "data": {
      "text/plain": [
       "378"
      ]
     },
     "execution_count": 69,
     "metadata": {},
     "output_type": "execute_result"
    }
   ],
   "source": [
    "len(dataset.test_samples())"
   ]
  },
  {
   "cell_type": "code",
   "execution_count": 70,
   "metadata": {},
   "outputs": [
    {
     "data": {
      "text/plain": [
       "378"
      ]
     },
     "execution_count": 70,
     "metadata": {},
     "output_type": "execute_result"
    }
   ],
   "source": [
    "len(dataset.test_labels())"
   ]
  },
  {
   "cell_type": "code",
   "execution_count": 71,
   "metadata": {},
   "outputs": [
    {
     "name": "stdout",
     "output_type": "stream",
     "text": [
      "0.7845157491904622\n",
      "0.7566137566137566\n"
     ]
    }
   ],
   "source": [
    "dataset = datasets.CRDataset()\n",
    "model = SimpleModel(classify.SkClassifier())\n",
    "model.fit(dataset.train_samples(), dataset.train_labels())\n",
    "print(model.score(dataset.train_samples(), dataset.train_labels()))\n",
    "print(model.score(dataset.test_samples(), dataset.test_labels()))\n"
   ]
  },
  {
   "cell_type": "code",
   "execution_count": 8,
   "metadata": {},
   "outputs": [
    {
     "data": {
      "text/plain": [
       "array([ 0.4669387 , -0.37677201,  0.15265691, ..., -0.00109054,\n",
       "       -0.00109054, -0.00084296])"
      ]
     },
     "execution_count": 8,
     "metadata": {},
     "output_type": "execute_result"
    }
   ],
   "source": [
    "dw = model.dw(dataset.samples, dataset.labels)\n",
    "print(dw)\n",
    "plt.hist(dw)"
   ]
  },
  {
   "cell_type": "code",
   "execution_count": null,
   "metadata": {},
   "outputs": [],
   "source": [
    "alpha = 0.01\n",
    "dataset = datasets.CRDataset()\n",
    "model = SimpleModel(classify.SkClassifier())\n",
    "model.fit(dataset.train_samples(), dataset.train_labels())\n",
    "train_scores = []\n",
    "test_scores = []"
   ]
  },
  {
   "cell_type": "code",
   "execution_count": 76,
   "metadata": {},
   "outputs": [
    {
     "name": "stderr",
     "output_type": "stream",
     "text": [
      "100%|██████████| 500/500 [22:18<00:00,  2.68s/it, test_score=0.765, train_score=0.846]\n"
     ]
    }
   ],
   "source": [
    "t = tqdm.trange(500)\n",
    "for e in t:\n",
    "    w = np.copy(model.w)\n",
    "    w -= alpha * model.dw(dataset.train_samples(), dataset.train_labels())\n",
    "    model = SimpleModel(classify.SkClassifier(), w=w)\n",
    "    model.fit(dataset.train_samples(), dataset.train_labels())\n",
    "    train_score = model.score(dataset.train_samples(), dataset.train_labels())\n",
    "    test_score = model.score(dataset.test_samples(), dataset.test_labels())\n",
    "    train_scores.append(train_score)\n",
    "    test_scores.append(test_score)\n",
    "    t.set_postfix(train_score=train_score, test_score=test_score)"
   ]
  },
  {
   "cell_type": "code",
   "execution_count": 78,
   "metadata": {},
   "outputs": [
    {
     "data": {
      "text/plain": [
       "[<matplotlib.lines.Line2D at 0x7f1aae69eac8>]"
      ]
     },
     "execution_count": 78,
     "metadata": {},
     "output_type": "execute_result"
    },
    {
     "data": {
      "image/png": "[encoded data removed]",
      "text/plain": [
       "<matplotlib.figure.Figure at 0x7f1aae6a5278>"
      ]
     },
     "metadata": {},
     "output_type": "display_data"
    }
   ],
   "source": [
    "plt.plot(train_scores)\n",
    "plt.plot(test_scores)"
   ]
  },
  {
   "cell_type": "code",
   "execution_count": null,
   "metadata": {},
   "outputs": [],
   "source": []
  },
  {
   "cell_type": "code",
   "execution_count": null,
   "metadata": {},
   "outputs": [],
   "source": []
  },
  {
   "cell_type": "code",
   "execution_count": null,
   "metadata": {},
   "outputs": [],
   "source": []
  },
  {
   "cell_type": "code",
   "execution_count": 68,
   "metadata": {},
   "outputs": [
    {
     "data": {
      "text/plain": [
       "0.7904635761589404"
      ]
     },
     "execution_count": 68,
     "metadata": {},
     "output_type": "execute_result"
    }
   ],
   "source": [
    "dataset = datasets.CRDataset()\n",
    "model = SimpleModel(classify.SkClassifier())\n",
    "model.fit(dataset.samples, dataset.labels)\n",
    "model.score(dataset.samples, dataset.labels)"
   ]
  },
  {
   "cell_type": "code",
   "execution_count": 60,
   "metadata": {},
   "outputs": [
    {
     "name": "stderr",
     "output_type": "stream",
     "text": [
      "100%|██████████| 10/10 [00:23<00:00,  2.33s/it]"
     ]
    },
    {
     "name": "stdout",
     "output_type": "stream",
     "text": [
      "0.7907284768211921 0.7958675496688743 0.7989403973509934 0.0020730063625445105\n"
     ]
    },
    {
     "name": "stderr",
     "output_type": "stream",
     "text": [
      "\n"
     ]
    }
   ],
   "source": [
    "dataset = datasets.CRDataset()\n",
    "model = SimpleModel(classify.SkClassifier(), use_tfidf=True)\n",
    "test_model(model, dataset)"
   ]
  },
  {
   "cell_type": "code",
   "execution_count": 8,
   "metadata": {},
   "outputs": [
    {
     "name": "stderr",
     "output_type": "stream",
     "text": [
      "100%|██████████| 10/10 [00:21<00:00,  2.11s/it]"
     ]
    },
    {
     "name": "stdout",
     "output_type": "stream",
     "text": [
      "0.7875496688741722 0.7944370860927152 0.799205298013245 0.0038842061718185775\n"
     ]
    },
    {
     "name": "stderr",
     "output_type": "stream",
     "text": [
      "\n"
     ]
    }
   ],
   "source": [
    "dataset = datasets.CRDataset()\n",
    "model = SimpleModel(use_tfidf=True)\n",
    "test_model(model, dataset)"
   ]
  },
  {
   "cell_type": "code",
   "execution_count": 9,
   "metadata": {},
   "outputs": [
    {
     "name": "stderr",
     "output_type": "stream",
     "text": [
      "100%|██████████| 10/10 [00:19<00:00,  1.90s/it]"
     ]
    },
    {
     "name": "stdout",
     "output_type": "stream",
     "text": [
      "0.782251655629139 0.7866225165562913 0.7896688741721855 0.002686489775635024\n"
     ]
    },
    {
     "name": "stderr",
     "output_type": "stream",
     "text": [
      "\n"
     ]
    }
   ],
   "source": [
    "dataset = datasets.CRDataset()\n",
    "model = SimpleModel(use_tfidf=False)\n",
    "test_model(model, dataset)"
   ]
  },
  {
   "cell_type": "code",
   "execution_count": 10,
   "metadata": {},
   "outputs": [
    {
     "data": {
      "text/plain": [
       "0.7819867549668874"
      ]
     },
     "execution_count": 10,
     "metadata": {},
     "output_type": "execute_result"
    }
   ],
   "source": [
    "dataset = datasets.CRDataset()\n",
    "model = SimpleModel()\n",
    "model.fit(dataset.samples, dataset.labels)\n",
    "model.score(dataset.samples, dataset.labels)"
   ]
  },
  {
   "cell_type": "code",
   "execution_count": 11,
   "metadata": {},
   "outputs": [
    {
     "data": {
      "text/plain": [
       "0.7543843107674901"
      ]
     },
     "execution_count": 11,
     "metadata": {},
     "output_type": "execute_result"
    }
   ],
   "source": [
    "dataset = datasets.MPQADataset()\n",
    "model = SimpleModel()\n",
    "model.fit(dataset.samples, dataset.labels)\n",
    "model.score(dataset.samples, dataset.labels)"
   ]
  },
  {
   "cell_type": "code",
   "execution_count": 16,
   "metadata": {},
   "outputs": [
    {
     "data": {
      "text/plain": [
       "0.8861"
      ]
     },
     "execution_count": 16,
     "metadata": {},
     "output_type": "execute_result"
    }
   ],
   "source": [
    "dataset = datasets.SUBJDataset()\n",
    "model = SimpleModel()\n",
    "model.fit(dataset.samples, dataset.labels)\n",
    "model.score(dataset.samples, dataset.labels)"
   ]
  },
  {
   "cell_type": "code",
   "execution_count": 28,
   "metadata": {},
   "outputs": [],
   "source": [
    "from scipy.stats import logistic\n",
    "import numpy as np\n",
    "\n",
    "class Classifier(object):\n",
    "    def __init__(self, alpha=0.01):\n",
    "        self.alpha = alpha\n",
    "\n",
    "    def fit(self, X, Y, epoch=1000):\n",
    "        self.w = np.random.random(X.shape[1])*0.1 - 0.05\n",
    "        self.b = np.random.random()*0.1 - 0.05\n",
    "        for e in range(epoch):\n",
    "            self.update(X, Y)\n",
    "    \n",
    "    def update(self, X, Y):\n",
    "        h = (X*self.w).sum(axis=1) + self.b\n",
    "        Yhat = logistic.cdf(h)\n",
    "        dif = Yhat-Y\n",
    "        sigma = dif * Yhat * (1-Yhat)\n",
    "        dw = (sigma.reshape(-1,1)* X).sum(axis=0)\n",
    "        db = sigma.sum()\n",
    "        self.b -= db\n",
    "        self.w -= dw\n",
    "        \n",
    "    def gradient(X, Y):\n",
    "        pass\n",
    "    \n",
    "    def predict(self, X):\n",
    "        h = (X*self.w).sum(axis=1) + self.b\n",
    "        Yhat = logistic.cdf(h)\n",
    "        return (Yhat>0.5)+0"
   ]
  },
  {
   "cell_type": "code",
   "execution_count": 36,
   "metadata": {},
   "outputs": [
    {
     "name": "stderr",
     "output_type": "stream",
     "text": [
      "100%|██████████| 10/10 [00:19<00:00,  1.96s/it]"
     ]
    },
    {
     "name": "stdout",
     "output_type": "stream",
     "text": [
      "0.782251655629139 0.7879205298013245 0.7909933774834437 0.0028164310166891725\n"
     ]
    },
    {
     "name": "stderr",
     "output_type": "stream",
     "text": [
      "\n"
     ]
    }
   ],
   "source": [
    "dataset = datasets.CRDataset()\n",
    "model = SimpleModel()\n",
    "test_model(model, dataset)"
   ]
  },
  {
   "cell_type": "code",
   "execution_count": 37,
   "metadata": {},
   "outputs": [
    {
     "name": "stderr",
     "output_type": "stream",
     "text": [
      "100%|██████████| 10/10 [00:49<00:00,  4.92s/it]"
     ]
    },
    {
     "name": "stdout",
     "output_type": "stream",
     "text": [
      "0.6376158940397352 0.6376158940397352 0.6376158940397352 0.0\n"
     ]
    },
    {
     "name": "stderr",
     "output_type": "stream",
     "text": [
      "\n"
     ]
    }
   ],
   "source": [
    "dataset = datasets.CRDataset()\n",
    "model = SimpleModel(Classifier())\n",
    "test_model(model, dataset)\n",
    "#model.fit(dataset.samples, dataset.labels)\n",
    "#model.score(dataset.samples, dataset.labels)"
   ]
  },
  {
   "cell_type": "code",
   "execution_count": null,
   "metadata": {},
   "outputs": [],
   "source": []
  }
 ],
 "metadata": {
  "kernelspec": {
   "display_name": "diplomka",
   "language": "python",
   "name": "diplomka"
  },
  "language_info": {
   "codemirror_mode": {
    "name": "ipython",
    "version": 3
   },
   "file_extension": ".py",
   "mimetype": "text/x-python",
   "name": "python",
   "nbconvert_exporter": "python",
   "pygments_lexer": "ipython3",
   "version": "3.5.2"
  }
 },
 "nbformat": 4,
 "nbformat_minor": 2
}
