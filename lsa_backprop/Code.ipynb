{
 "cells": [
  {
   "cell_type": "code",
   "execution_count": 3,
   "metadata": {},
   "outputs": [
    {
     "name": "stdout",
     "output_type": "stream",
     "text": [
      "The autoreload extension is already loaded. To reload it, use:\n",
      "  %reload_ext autoreload\n"
     ]
    }
   ],
   "source": [
    "%load_ext autoreload\n",
    "%autoreload 2"
   ]
  },
  {
   "cell_type": "code",
   "execution_count": 5,
   "metadata": {},
   "outputs": [],
   "source": [
    "%matplotlib inline\n",
    "import matplotlib.pyplot as plt\n",
    "import os\n",
    "import datetime\n",
    "import json\n",
    "from pprint import pprint\n",
    "from IPython.core import display as ICD  # to print multiple nice pandas tables\n",
    "from collections import defaultdict\n",
    "import logging\n",
    "import numpy as np\n",
    "import io\n",
    "import gensim"
   ]
  },
  {
   "cell_type": "code",
   "execution_count": 34,
   "metadata": {},
   "outputs": [],
   "source": [
    "SENTEVAL_DATA_BASE = '/home/vlejd/Documents/school/diplomka/SentEval/data/senteval_data'\n",
    "class Dataset(object):\n",
    "    def __init__(self, seed=1111):\n",
    "        self.seed = seed\n",
    "        self.load_positives()\n",
    "        self.load_negatives()\n",
    "        self.samples = self.positives + self.negatives\n",
    "        self.labels = np.array([1] * len(self.positives) + [0] * len(self.negatives))\n",
    "        self.n_samples = len(self.samples)\n",
    "    \n",
    "    def loadFile(self, fpath):\n",
    "        with io.open(fpath, 'r', encoding='latin-1') as f:\n",
    "            return [line.split() for line in f.read().splitlines()]\n",
    "\n",
    "    \n",
    "class CRDataset(Dataset):\n",
    "    def load_positives(self):\n",
    "        self.positives = self.loadFile(os.path.join(SENTEVAL_DATA_BASE, 'CR', 'custrev.pos'))\n",
    "\n",
    "    def load_negatives(self):\n",
    "        self.negatives = self.loadFile(os.path.join(SENTEVAL_DATA_BASE, 'CR', 'custrev.neg'))\n",
    "    "
   ]
  },
  {
   "cell_type": "code",
   "execution_count": 69,
   "metadata": {},
   "outputs": [],
   "source": [
    "class Classifier(object):\n",
    "    def __init__(self):\n",
    "        pass\n",
    "\n",
    "    def fit(self, X, Y):\n",
    "        pass\n",
    "    \n",
    "    def gradient(X, Y):\n",
    "        pass\n",
    "    \n",
    "    def predict(X,Y):\n",
    "        pass\n",
    "        \n",
    "\n",
    "class LSABackprob(object):\n",
    "    def __init__(self):\n",
    "        pass\n",
    "    \n",
    "    def train(self, data):\n",
    "        pass\n",
    "    \n",
    "    def predict(self, data):\n",
    "        pass\n",
    "    \n",
    "    def score(self, data):\n",
    "        pass\n",
    "    \n",
    "class SimpleModel(object):\n",
    "    def __init__(self):\n",
    "        pass\n",
    "\n",
    "    def fit(self, X, Y):\n",
    "        self.dictionary = gensim.corpora.Dictionary(X)\n",
    "        bow = list(map(self.dictionary.doc2bow, X))\n",
    "        self.lsi = gensim.models.LsiModel(bow, id2word=self.dictionary)\n",
    "        corpus = gensim.matutils.corpus2dense(self.lsi[bow], self.lsi.num_topics).T\n",
    "        self.cls = LogisticRegression()\n",
    "        self.cls.fit(corpus, Y)\n",
    "    \n",
    "    def predict(self, X):\n",
    "        bow = list(map(self.dictionary.doc2bow, X))\n",
    "        corpus = gensim.matutils.corpus2dense(self.lsi[bow], self.lsi.num_topics).T\n",
    "        Yhat = self.cls.predict(corpus)\n",
    "        return Yhat\n",
    "    \n",
    "    def score(self, X, Y):\n",
    "        Yhat = self.predict(X)\n",
    "        return 1-((Yhat-Y)**2).mean()\n",
    "    \n",
    "    def update(self, X, Y):\n",
    "        pass"
   ]
  },
  {
   "cell_type": "code",
   "execution_count": 73,
   "metadata": {},
   "outputs": [
    {
     "data": {
      "text/plain": [
       "0.7859602649006623"
      ]
     },
     "execution_count": 73,
     "metadata": {},
     "output_type": "execute_result"
    }
   ],
   "source": [
    "dataset = CRDataset()\n",
    "model = SimpleModel()\n",
    "model.fit(dataset.samples, dataset.labels)\n",
    "model.score(dataset.samples, dataset.labels)"
   ]
  },
  {
   "cell_type": "code",
   "execution_count": null,
   "metadata": {},
   "outputs": [],
   "source": []
  },
  {
   "cell_type": "code",
   "execution_count": null,
   "metadata": {},
   "outputs": [],
   "source": []
  }
 ],
 "metadata": {
  "kernelspec": {
   "display_name": "diplomka",
   "language": "python",
   "name": "diplomka"
  },
  "language_info": {
   "codemirror_mode": {
    "name": "ipython",
    "version": 3
   },
   "file_extension": ".py",
   "mimetype": "text/x-python",
   "name": "python",
   "nbconvert_exporter": "python",
   "pygments_lexer": "ipython3",
   "version": "3.5.2"
  }
 },
 "nbformat": 4,
 "nbformat_minor": 2
}
