{
 "cells": [
  {
   "cell_type": "code",
   "execution_count": 1,
   "metadata": {},
   "outputs": [],
   "source": [
    "%load_ext autoreload\n",
    "%autoreload 2"
   ]
  },
  {
   "cell_type": "code",
   "execution_count": 2,
   "metadata": {},
   "outputs": [],
   "source": [
    "%matplotlib inline\n",
    "import datasets\n",
    "\n",
    "import matplotlib.pyplot as plt\n",
    "import os\n",
    "import datetime\n",
    "import json\n",
    "from pprint import pprint\n",
    "from IPython.core import display as ICD  # to print multiple nice pandas tables\n",
    "from collections import defaultdict\n",
    "import logging\n",
    "import numpy as np\n",
    "import io\n",
    "import gensim"
   ]
  },
  {
   "cell_type": "code",
   "execution_count": 16,
   "metadata": {},
   "outputs": [],
   "source": [
    "from sklearn.linear_model import LogisticRegression\n",
    "    \n",
    "class SimpleModel(object):\n",
    "    def __init__(self):\n",
    "        pass\n",
    "\n",
    "    def fit(self, X, Y):\n",
    "        self.dictionary = gensim.corpora.Dictionary(X)\n",
    "        bow = list(map(self.dictionary.doc2bow, X))\n",
    "        self.lsi = gensim.models.LsiModel(bow, id2word=self.dictionary)\n",
    "        corpus = gensim.matutils.corpus2dense(self.lsi[bow], self.lsi.num_topics).T\n",
    "        print(corpus)\n",
    "        self.cls = LogisticRegression()\n",
    "        self.cls.fit(corpus, Y)\n",
    "        print(self.cls.score(corpus, Y))\n",
    "    \n",
    "    def predict(self, X):\n",
    "        bow = list(map(self.dictionary.doc2bow, X))\n",
    "        corpus = gensim.matutils.corpus2dense(self.lsi[bow], self.lsi.num_topics).T\n",
    "        Yhat = self.cls.predict(corpus)\n",
    "        return Yhat\n",
    "    \n",
    "    def score(self, X, Y):\n",
    "        Yhat = self.predict(X)\n",
    "        return 1-((Yhat-Y)**2).mean()\n"
   ]
  },
  {
   "cell_type": "code",
   "execution_count": 17,
   "metadata": {},
   "outputs": [
    {
     "name": "stdout",
     "output_type": "stream",
     "text": [
      "[[ 1.1907134e+00  6.2876141e-01  4.2229488e-02 ... -5.1655360e-02\n",
      "  -3.7500177e-02  1.2702860e-01]\n",
      " [ 2.7035570e+00 -8.3103347e-01  2.9804093e-01 ... -2.7577255e-02\n",
      "   5.1134910e-02 -1.5008567e-03]\n",
      " [ 9.0688640e-01  4.1850674e-01  1.1301361e+00 ... -1.2318038e-01\n",
      "  -3.1946316e-02  1.1137260e-01]\n",
      " ...\n",
      " [ 1.4795171e+00  8.3307093e-01 -7.3841654e-02 ...  2.4272241e-02\n",
      "   4.6736967e-02  2.2867765e-01]\n",
      " [ 9.7835815e-01  4.4066265e-01  6.5566432e-01 ...  1.7030954e-02\n",
      "  -6.8345889e-02 -1.6017301e-01]\n",
      " [ 0.0000000e+00  0.0000000e+00  0.0000000e+00 ...  0.0000000e+00\n",
      "   0.0000000e+00  0.0000000e+00]]\n",
      "0.5\n"
     ]
    },
    {
     "data": {
      "text/plain": [
       "0.5"
      ]
     },
     "execution_count": 17,
     "metadata": {},
     "output_type": "execute_result"
    }
   ],
   "source": [
    "dataset = datasets.CRDataset()\n",
    "model = SimpleModel()\n",
    "model.fit(dataset.samples, dataset.labels)\n",
    "model.score(dataset.samples, dataset.labels)"
   ]
  },
  {
   "cell_type": "code",
   "execution_count": 173,
   "metadata": {},
   "outputs": [
    {
     "data": {
      "text/plain": [
       "array([0, 0, 0, ..., 0, 0, 0])"
      ]
     },
     "execution_count": 173,
     "metadata": {},
     "output_type": "execute_result"
    }
   ],
   "source": [
    "model.predict(dataset.samples)"
   ]
  },
  {
   "cell_type": "code",
   "execution_count": 157,
   "metadata": {},
   "outputs": [],
   "source": [
    "from scipy.stats import logistic\n",
    "\n",
    "class Classifier(object):\n",
    "    def __init__(self, alpha=0.01):\n",
    "        self.alpha = alpha\n",
    "\n",
    "    def fit(self, X, Y, epoch=100):\n",
    "        self.w = np.random.random(X.shape[1])*0.1 - 0.05\n",
    "        self.b = np.random.random()*0.1 - 0.05\n",
    "        for e in range(epoch):\n",
    "            self.update(X, Y)\n",
    "    \n",
    "    def update(self, X, Y):\n",
    "        h = (X*self.w).sum(axis=1) + self.b\n",
    "        Yhat = logistic.cdf(h)\n",
    "        dif = Yhat-Y\n",
    "        sigma = dif * Yhat * (1-Yhat)\n",
    "        dw = (sigma.reshape(-1,1)* X).sum(axis=0)\n",
    "        db = sigma.sum()\n",
    "        self.b -= db\n",
    "        self.w -= dw\n",
    "        \n",
    "    def gradient(X, Y):\n",
    "        pass\n",
    "    \n",
    "    def predict(X):\n",
    "        pass"
   ]
  },
  {
   "cell_type": "code",
   "execution_count": 158,
   "metadata": {},
   "outputs": [],
   "source": [
    "n, d = 100, 5\n",
    "X = np.random.random((n, d))-0.5\n",
    "Y = ((X.sum(axis=1) + np.random.random(n)*0.01 - 0.005)>0)+0"
   ]
  },
  {
   "cell_type": "code",
   "execution_count": null,
   "metadata": {},
   "outputs": [],
   "source": []
  },
  {
   "cell_type": "code",
   "execution_count": 159,
   "metadata": {},
   "outputs": [
    {
     "data": {
      "text/plain": [
       "(100, 5)"
      ]
     },
     "execution_count": 159,
     "metadata": {},
     "output_type": "execute_result"
    }
   ],
   "source": [
    "X.shape"
   ]
  },
  {
   "cell_type": "code",
   "execution_count": 160,
   "metadata": {},
   "outputs": [],
   "source": [
    "cls = Classifier()\n",
    "cls.fit(X, Y)"
   ]
  },
  {
   "cell_type": "code",
   "execution_count": 112,
   "metadata": {},
   "outputs": [],
   "source": [
    "from sklearn.linear_model import LogisticRegression"
   ]
  },
  {
   "cell_type": "code",
   "execution_count": 113,
   "metadata": {},
   "outputs": [],
   "source": []
  },
  {
   "cell_type": "code",
   "execution_count": 114,
   "metadata": {},
   "outputs": [
    {
     "data": {
      "text/plain": [
       "LogisticRegression(C=1.0, class_weight=None, dual=False, fit_intercept=True,\n",
       "          intercept_scaling=1, max_iter=100, multi_class='ovr', n_jobs=1,\n",
       "          penalty='l2', random_state=None, solver='liblinear', tol=0.0001,\n",
       "          verbose=0, warm_start=False)"
      ]
     },
     "execution_count": 114,
     "metadata": {},
     "output_type": "execute_result"
    }
   ],
   "source": [
    "cls.fit(X, Y)"
   ]
  },
  {
   "cell_type": "code",
   "execution_count": 115,
   "metadata": {},
   "outputs": [
    {
     "data": {
      "text/plain": [
       "0.96"
      ]
     },
     "execution_count": 115,
     "metadata": {},
     "output_type": "execute_result"
    }
   ],
   "source": [
    "cls.score(X,Y)"
   ]
  },
  {
   "cell_type": "code",
   "execution_count": null,
   "metadata": {},
   "outputs": [],
   "source": [
    "cls = Classifier()"
   ]
  }
 ],
 "metadata": {
  "kernelspec": {
   "display_name": "diplomka",
   "language": "python",
   "name": "diplomka"
  },
  "language_info": {
   "codemirror_mode": {
    "name": "ipython",
    "version": 3
   },
   "file_extension": ".py",
   "mimetype": "text/x-python",
   "name": "python",
   "nbconvert_exporter": "python",
   "pygments_lexer": "ipython3",
   "version": "3.5.2"
  }
 },
 "nbformat": 4,
 "nbformat_minor": 2
}
